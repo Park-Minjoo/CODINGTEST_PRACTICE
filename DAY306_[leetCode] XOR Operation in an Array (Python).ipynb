{
 "cells": [
  {
   "cell_type": "markdown",
   "metadata": {},
   "source": [
    "## 2021년 1월 28일 목요일\n",
    "### leetCode - XOR Operation in an Array (Python)\n",
    "### 문제 : https://leetcode.com/problems/xor-operation-in-an-array/\n",
    "### 블로그 : https://somjang.tistory.com/entry/leetCode-XOR-Operation-in-an-Array-Python"
   ]
  },
  {
   "cell_type": "markdown",
   "metadata": {},
   "source": [
    "### 첫번째 시도"
   ]
  },
  {
   "cell_type": "code",
   "execution_count": null,
   "metadata": {},
   "outputs": [],
   "source": [
    "class Solution:\n",
    "    def xorOperation(self, n: int, start: int) -> int:\n",
    "        answer = 0\n",
    "        for i in range(n):\n",
    "            answer = answer ^ start + 2 * i\n",
    "            \n",
    "        return answer"
   ]
  }
 ],
 "metadata": {
  "kernelspec": {
   "display_name": "Python 3",
   "language": "python",
   "name": "python3"
  },
  "language_info": {
   "codemirror_mode": {
    "name": "ipython",
    "version": 3
   },
   "file_extension": ".py",
   "mimetype": "text/x-python",
   "name": "python",
   "nbconvert_exporter": "python",
   "pygments_lexer": "ipython3",
   "version": "3.7.3"
  }
 },
 "nbformat": 4,
 "nbformat_minor": 2
}
