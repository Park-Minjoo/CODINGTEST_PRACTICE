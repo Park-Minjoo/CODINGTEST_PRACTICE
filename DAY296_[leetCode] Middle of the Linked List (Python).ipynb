{
 "cells": [
  {
   "cell_type": "markdown",
   "metadata": {},
   "source": [
    "## 2021년 1월 18일 월요일\n",
    "### leetCode - Middle of the Linked List (Python)\n",
    "### 문제 : https://leetcode.com/problems/middle-of-the-linked-list/\n",
    "### 블로그 : https://somjang.tistory.com/entry/leetCode-876-Middle-of-the-Linked-List-Python"
   ]
  },
  {
   "cell_type": "markdown",
   "metadata": {},
   "source": [
    "### 첫번째 시도"
   ]
  },
  {
   "cell_type": "code",
   "execution_count": null,
   "metadata": {},
   "outputs": [],
   "source": [
    "# Definition for singly-linked list.\n",
    "# class ListNode:\n",
    "#     def __init__(self, val=0, next=None):\n",
    "#         self.val = val\n",
    "#         self.next = next\n",
    "class Solution:\n",
    "    def middleNode(self, head: ListNode) -> ListNode:\n",
    "        pre_node = post_node = head\n",
    "        while pre_node and pre_node.next:\n",
    "            pre_node = pre_node.next.next\n",
    "            post_node = post_node.next\n",
    "        return post_node"
   ]
  }
 ],
 "metadata": {
  "kernelspec": {
   "display_name": "Python 3",
   "language": "python",
   "name": "python3"
  },
  "language_info": {
   "codemirror_mode": {
    "name": "ipython",
    "version": 3
   },
   "file_extension": ".py",
   "mimetype": "text/x-python",
   "name": "python",
   "nbconvert_exporter": "python",
   "pygments_lexer": "ipython3",
   "version": "3.7.3"
  }
 },
 "nbformat": 4,
 "nbformat_minor": 2
}
