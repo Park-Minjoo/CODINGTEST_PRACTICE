{
 "cells": [
  {
   "cell_type": "markdown",
   "metadata": {},
   "source": [
    "## 2020년 9월 20일 일요일\n",
    "### leetCode - Maximum Number of Ballons (Python)\n",
    "### 문제 : https://leetcode.com/problems/maximum-number-of-balloons/\n",
    "### 블로그 : https://somjang.tistory.com/entry/leetCode-1189-Maximum-Number-of-Balloons-Python"
   ]
  },
  {
   "cell_type": "markdown",
   "metadata": {},
   "source": [
    "### 첫번째 시도"
   ]
  },
  {
   "cell_type": "code",
   "execution_count": null,
   "metadata": {},
   "outputs": [],
   "source": [
    "from collections import Counter\n",
    "\n",
    "class Solution:\n",
    "    def maxNumberOfBalloons(self, text: str) -> int:\n",
    "        cnt = collections.Counter(text)\n",
    "        \n",
    "        ballon_key = [\"b\", \"a\", \"l\", \"o\", \"n\"]\n",
    "        \n",
    "        for key in ballon_key:\n",
    "            if key not in list(cnt.keys()):\n",
    "                return 0\n",
    "        \n",
    "        return min(cnt['b'],cnt['a'],cnt['l']//2,cnt['o']//2,cnt['n'])"
   ]
  }
 ],
 "metadata": {
  "kernelspec": {
   "display_name": "Python 3",
   "language": "python",
   "name": "python3"
  },
  "language_info": {
   "codemirror_mode": {
    "name": "ipython",
    "version": 3
   },
   "file_extension": ".py",
   "mimetype": "text/x-python",
   "name": "python",
   "nbconvert_exporter": "python",
   "pygments_lexer": "ipython3",
   "version": "3.7.3"
  }
 },
 "nbformat": 4,
 "nbformat_minor": 2
}
