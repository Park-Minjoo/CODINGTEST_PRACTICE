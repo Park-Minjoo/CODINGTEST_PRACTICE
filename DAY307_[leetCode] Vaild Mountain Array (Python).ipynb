{
 "cells": [
  {
   "cell_type": "markdown",
   "metadata": {},
   "source": [
    "## 2021년 1월 29일 금요일\n",
    "### leetCode - Vaild Mountain Array (Python)\n",
    "### 문제 : https://leetcode.com/problems/valid-mountain-array/\n",
    "### 블로그 : https://somjang.tistory.com/entry/leetCode-941-Valid-Mountain-Array-Python"
   ]
  },
  {
   "cell_type": "markdown",
   "metadata": {},
   "source": [
    "### 첫번째 시도"
   ]
  },
  {
   "cell_type": "code",
   "execution_count": null,
   "metadata": {},
   "outputs": [],
   "source": [
    "class Solution:\n",
    "    def validMountainArray(self, A: List[int]) -> bool:\n",
    "        incre_flag = True\n",
    "        answer = True\n",
    "        if len(A) < 3:\n",
    "            answer = False\n",
    "        else:\n",
    "            for i in range(len(A)-1):\n",
    "                if A[i] == A[i+1]:\n",
    "                    answer = False\n",
    "                    break\n",
    "                elif A[i] > A[i+1]:\n",
    "                    if i == 0:\n",
    "                        answer = False\n",
    "                        break\n",
    "                    else:\n",
    "                        incre_flag = False\n",
    "                elif incre_flag == False and A[i] < A[i+1]:\n",
    "                    answer = False\n",
    "                    break\n",
    "                elif i == len(A) - 2 and incre_flag:\n",
    "                    answer = False\n",
    "        return answer\n",
    "\n"
   ]
  }
 ],
 "metadata": {
  "kernelspec": {
   "display_name": "Python 3",
   "language": "python",
   "name": "python3"
  },
  "language_info": {
   "codemirror_mode": {
    "name": "ipython",
    "version": 3
   },
   "file_extension": ".py",
   "mimetype": "text/x-python",
   "name": "python",
   "nbconvert_exporter": "python",
   "pygments_lexer": "ipython3",
   "version": "3.7.3"
  }
 },
 "nbformat": 4,
 "nbformat_minor": 2
}
