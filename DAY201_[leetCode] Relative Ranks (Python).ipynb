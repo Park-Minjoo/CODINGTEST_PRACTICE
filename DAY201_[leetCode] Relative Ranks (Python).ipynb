{
 "cells": [
  {
   "cell_type": "markdown",
   "metadata": {},
   "source": [
    "## 2020년 9월 7일 월요일\n",
    "### leetCode - Relative Ranks (Python)\n",
    "### 문제 : https://leetcode.com/problems/relative-ranks/\n",
    "### 블로그 : https://somjang.tistory.com/entry/leetCode-506-Relative-Ranks-Python"
   ]
  },
  {
   "cell_type": "markdown",
   "metadata": {},
   "source": [
    "### 첫번째 시도"
   ]
  },
  {
   "cell_type": "code",
   "execution_count": null,
   "metadata": {},
   "outputs": [],
   "source": [
    "class Solution:\n",
    "    def findRelativeRanks(self, nums: List[int]) -> List[str]:\n",
    "        sorted_nums = sorted(nums, reverse=True)\n",
    "        \n",
    "        answer = []\n",
    "        \n",
    "        medal = [\"Gold Medal\", \"Silver Medal\", \"Bronze Medal\"]\n",
    "        \n",
    "        rank_dict = {}\n",
    "        \n",
    "        for i in range(len(sorted_nums)):\n",
    "            rank_dict[sorted_nums[i]] = i\n",
    "        \n",
    "        for i in range(len(nums)):\n",
    "            if rank_dict[nums[i]] == 0:\n",
    "                answer.append(\"Gold Medal\")\n",
    "            elif rank_dict[nums[i]] == 1:\n",
    "                answer.append(\"Silver Medal\")\n",
    "            elif rank_dict[nums[i]] == 2:\n",
    "                answer.append(\"Bronze Medal\")\n",
    "            else:\n",
    "                answer.append(str(rank_dict[nums[i]] + 1))\n",
    "            \n",
    "        return answer"
   ]
  }
 ],
 "metadata": {
  "kernelspec": {
   "display_name": "Python 3",
   "language": "python",
   "name": "python3"
  },
  "language_info": {
   "codemirror_mode": {
    "name": "ipython",
    "version": 3
   },
   "file_extension": ".py",
   "mimetype": "text/x-python",
   "name": "python",
   "nbconvert_exporter": "python",
   "pygments_lexer": "ipython3",
   "version": "3.7.3"
  }
 },
 "nbformat": 4,
 "nbformat_minor": 2
}
