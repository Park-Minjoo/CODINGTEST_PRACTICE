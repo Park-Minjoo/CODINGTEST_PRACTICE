{
 "cells": [
  {
   "cell_type": "markdown",
   "metadata": {},
   "source": [
    "## 2020년 11월 12일 목요일\n",
    "### leetCode - Buddy Strings (Python)\n",
    "### 문제 : https://leetcode.com/problems/buddy-strings/\n",
    "### 블로그 : https://somjang.tistory.com/entry/leetCode-859-Buddy-Strings-Python"
   ]
  },
  {
   "cell_type": "markdown",
   "metadata": {},
   "source": [
    "### 첫번째 시도"
   ]
  },
  {
   "cell_type": "code",
   "execution_count": null,
   "metadata": {},
   "outputs": [],
   "source": [
    "class Solution:\n",
    "    def buddyStrings(self, A: str, B: str) -> bool:\n",
    "        if len(A) != len(B):\n",
    "            return False\n",
    "        else:\n",
    "            list_A = list(A)\n",
    "            list_B = list(B)\n",
    "            \n",
    "            check_string_A = []\n",
    "            check_string_B = []\n",
    "            \n",
    "            \n",
    "            for i in range(len(list_A)):\n",
    "                if list_A[i] != list_B[i]:\n",
    "                    check_string_A.append(list_A[i])\n",
    "                    check_string_B.append(list_B[i])\n",
    "                    \n",
    "                    if len(check_string_A) > 2:\n",
    "                        return False\n",
    "            if len(check_string_A) == 2 and check_string_A[::-1] == check_string_B:\n",
    "                return True\n",
    "            \n",
    "            if len(check_string_A) == 0:\n",
    "                if len(list_A) > len(set(list_A)):\n",
    "                    return True\n",
    "                return False"
   ]
  }
 ],
 "metadata": {
  "kernelspec": {
   "display_name": "Python 3",
   "language": "python",
   "name": "python3"
  },
  "language_info": {
   "codemirror_mode": {
    "name": "ipython",
    "version": 3
   },
   "file_extension": ".py",
   "mimetype": "text/x-python",
   "name": "python",
   "nbconvert_exporter": "python",
   "pygments_lexer": "ipython3",
   "version": "3.7.3"
  }
 },
 "nbformat": 4,
 "nbformat_minor": 2
}
