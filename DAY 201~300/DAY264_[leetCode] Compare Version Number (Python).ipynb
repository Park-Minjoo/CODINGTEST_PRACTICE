{
 "cells": [
  {
   "cell_type": "markdown",
   "metadata": {},
   "source": [
    "## 2020년 11월 19일 목요일\n",
    "### leetCode - Compare Version Number (Python)\n",
    "### 문제 : https://leetcode.com/problems/compare-version-numbers/\n",
    "### 블로그 : https://somjang.tistory.com/entry/leetCode-165-Compare-Version-Numbers-Python"
   ]
  },
  {
   "cell_type": "markdown",
   "metadata": {},
   "source": [
    "### 첫번째 시도"
   ]
  },
  {
   "cell_type": "code",
   "execution_count": null,
   "metadata": {},
   "outputs": [],
   "source": [
    "class Solution:\n",
    "    def compareVersion(self, version1: str, version2: str) -> int:\n",
    "        version1_split = list(map(int, version1.split(\".\")))\n",
    "        version2_split = list(map(int, version2.split(\".\")))\n",
    "        \n",
    "        max_len = max(len(version1_split), len(version2_split))\n",
    "        \n",
    "        if len(version1_split) != len(version2_split):\n",
    "            if len(version1_split) == max_len:\n",
    "                version2_split = version2_split + [0] * (max_len - len(version2_split))\n",
    "            elif len(version2_split) == max_len:\n",
    "                version1_split = version1_split + [0] * (max_len - len(version1_split))\n",
    "                \n",
    "        \n",
    "        for i in range(max_len):\n",
    "            if version1_split[i] > version2_split[i]:\n",
    "                return 1\n",
    "            elif version1_split[i] < version2_split[i]:\n",
    "                return -1\n",
    "            \n",
    "        return 0"
   ]
  }
 ],
 "metadata": {
  "kernelspec": {
   "display_name": "Python 3",
   "language": "python",
   "name": "python3"
  },
  "language_info": {
   "codemirror_mode": {
    "name": "ipython",
    "version": 3
   },
   "file_extension": ".py",
   "mimetype": "text/x-python",
   "name": "python",
   "nbconvert_exporter": "python",
   "pygments_lexer": "ipython3",
   "version": "3.7.3"
  }
 },
 "nbformat": 4,
 "nbformat_minor": 2
}
