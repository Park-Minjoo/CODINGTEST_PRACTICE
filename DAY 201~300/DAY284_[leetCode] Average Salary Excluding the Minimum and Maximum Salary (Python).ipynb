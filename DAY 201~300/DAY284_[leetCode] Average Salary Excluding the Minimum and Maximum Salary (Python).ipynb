{
 "cells": [
  {
   "cell_type": "markdown",
   "metadata": {},
   "source": [
    "## 2020년 12월 29일 화요일\n",
    "### leetCode - Average Salary Excluding the Minimum and Maximum Salary (Python)\n",
    "### 문제 : https://leetcode.com/problems/average-salary-excluding-the-minimum-and-maximum-salary/\n",
    "### 블로그 : https://somjang.tistory.com/entry/leetCode-1491-Average-Salary-Excluding-the-Minimum-and-Maximum-Salary-Python"
   ]
  },
  {
   "cell_type": "markdown",
   "metadata": {},
   "source": [
    "### 첫번째 시도"
   ]
  },
  {
   "cell_type": "code",
   "execution_count": null,
   "metadata": {},
   "outputs": [],
   "source": [
    "class Solution:\n",
    "    def average(self, salary: List[int]) -> float:\n",
    "        return (sum(salary) - max(salary) - min(salary)) / (len(salary)-2)"
   ]
  }
 ],
 "metadata": {
  "kernelspec": {
   "display_name": "Python 3",
   "language": "python",
   "name": "python3"
  },
  "language_info": {
   "codemirror_mode": {
    "name": "ipython",
    "version": 3
   },
   "file_extension": ".py",
   "mimetype": "text/x-python",
   "name": "python",
   "nbconvert_exporter": "python",
   "pygments_lexer": "ipython3",
   "version": "3.7.3"
  }
 },
 "nbformat": 4,
 "nbformat_minor": 2
}
