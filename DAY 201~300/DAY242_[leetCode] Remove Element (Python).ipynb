{
 "cells": [
  {
   "cell_type": "markdown",
   "metadata": {},
   "source": [
    "## 2020년 10월 24일 토요일\n",
    "### leetCode - Remove Element (Python)\n",
    "### 문제 : https://leetcode.com/problems/remove-element/\n",
    "### 블로그 : https://somjang.tistory.com/entry/leetCode-27-Remove-Element-Python"
   ]
  },
  {
   "cell_type": "markdown",
   "metadata": {},
   "source": [
    "### 첫번째 시도"
   ]
  },
  {
   "cell_type": "code",
   "execution_count": null,
   "metadata": {},
   "outputs": [],
   "source": [
    "class Solution:\n",
    "    def removeElement(self, nums: List[int], val: int) -> int:\n",
    "        answer = [num for num in nums if num != val]\n",
    "        \n",
    "        for i in range(len(answer)):\n",
    "            nums[i] = answer[i]\n",
    "            \n",
    "        nums = nums[:len(answer)]\n",
    "        \n",
    "        return len(nums)"
   ]
  }
 ],
 "metadata": {
  "kernelspec": {
   "display_name": "Python 3",
   "language": "python",
   "name": "python3"
  },
  "language_info": {
   "codemirror_mode": {
    "name": "ipython",
    "version": 3
   },
   "file_extension": ".py",
   "mimetype": "text/x-python",
   "name": "python",
   "nbconvert_exporter": "python",
   "pygments_lexer": "ipython3",
   "version": "3.7.3"
  }
 },
 "nbformat": 4,
 "nbformat_minor": 2
}
