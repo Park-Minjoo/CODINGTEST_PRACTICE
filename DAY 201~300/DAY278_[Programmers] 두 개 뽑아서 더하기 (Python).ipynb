{
 "cells": [
  {
   "cell_type": "markdown",
   "metadata": {},
   "source": [
    "## 2020년 12월 18일 금요일\n",
    "### Programmers - 두 개 뽑아서 더하기 (Python)\n",
    "### 문제 : https://programmers.co.kr/learn/courses/30/lessons/68644\n",
    "### 블로그 : https://somjang.tistory.com/entry/Programmers-%EB%91%90-%EA%B0%9C-%EB%BD%91%EC%95%84%EC%84%9C-%EB%8D%94%ED%95%98%EA%B8%B0-Python"
   ]
  },
  {
   "cell_type": "markdown",
   "metadata": {},
   "source": [
    "### 첫번째 시도"
   ]
  },
  {
   "cell_type": "code",
   "execution_count": null,
   "metadata": {},
   "outputs": [],
   "source": [
    "from itertools import combinations\n",
    "\n",
    "def solution(numbers):\n",
    "    return list(sorted(set([sum(combs) for combs in combinations(numbers, 2)])))"
   ]
  }
 ],
 "metadata": {
  "kernelspec": {
   "display_name": "Python 3",
   "language": "python",
   "name": "python3"
  },
  "language_info": {
   "codemirror_mode": {
    "name": "ipython",
    "version": 3
   },
   "file_extension": ".py",
   "mimetype": "text/x-python",
   "name": "python",
   "nbconvert_exporter": "python",
   "pygments_lexer": "ipython3",
   "version": "3.7.3"
  }
 },
 "nbformat": 4,
 "nbformat_minor": 2
}
