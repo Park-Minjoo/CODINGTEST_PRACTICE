{
 "cells": [
  {
   "cell_type": "markdown",
   "metadata": {},
   "source": [
    "## 2020년 9월 29일 화요일\n",
    "### leetCode - Remove Linked List Elements (Python)\n",
    "### 문제 : https://leetcode.com/problems/remove-linked-list-elements/\n",
    "### 블로그 : https://somjang.tistory.com/entry/leetCode-203-Remove-Linked-List-Elements-Python"
   ]
  },
  {
   "cell_type": "markdown",
   "metadata": {},
   "source": [
    "### 첫번째 시도"
   ]
  },
  {
   "cell_type": "code",
   "execution_count": null,
   "metadata": {},
   "outputs": [],
   "source": [
    "# Definition for singly-linked list.\n",
    "# class ListNode:\n",
    "#     def __init__(self, val=0, next=None):\n",
    "#         self.val = val\n",
    "#         self.next = next\n",
    "class Solution:\n",
    "    def removeElements(self, head: ListNode, val: int) -> ListNode:\n",
    "        while head and head.val == val:\n",
    "            head = head.next\n",
    "        if not head:\n",
    "            return head\n",
    "\n",
    "        next_node = head\n",
    "        while next_node and next_node.next:\n",
    "            if next_node.next.val == val:\n",
    "                next_node.next = next_node.next.next\n",
    "            else:\n",
    "                next_node = next_node.next\n",
    "\n",
    "        return head"
   ]
  }
 ],
 "metadata": {
  "kernelspec": {
   "display_name": "Python 3",
   "language": "python",
   "name": "python3"
  },
  "language_info": {
   "codemirror_mode": {
    "name": "ipython",
    "version": 3
   },
   "file_extension": ".py",
   "mimetype": "text/x-python",
   "name": "python",
   "nbconvert_exporter": "python",
   "pygments_lexer": "ipython3",
   "version": "3.7.3"
  }
 },
 "nbformat": 4,
 "nbformat_minor": 2
}
