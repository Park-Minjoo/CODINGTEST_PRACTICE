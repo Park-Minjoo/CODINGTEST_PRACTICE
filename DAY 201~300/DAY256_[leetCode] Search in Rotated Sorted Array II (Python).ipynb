{
 "cells": [
  {
   "cell_type": "markdown",
   "metadata": {},
   "source": [
    "## 2020년 11월 10일 화요일\n",
    "### leetCode - Search in Rotated Sorted Array II (Python)\n",
    "### 문제 : https://leetcode.com/problems/search-in-rotated-sorted-array-ii/\n",
    "### 블로그 : https://somjang.tistory.com/entry/leetCode-81-Search-in-Rotated-Sorted-Array-II-Python"
   ]
  },
  {
   "cell_type": "markdown",
   "metadata": {},
   "source": [
    "### 첫번째 시도"
   ]
  },
  {
   "cell_type": "code",
   "execution_count": null,
   "metadata": {},
   "outputs": [],
   "source": [
    "class Solution:\n",
    "    def search(self, nums: List[int], target: int) -> bool:\n",
    "        answer = True\n",
    "        \n",
    "        check_set = set(nums) & set([target])\n",
    "        \n",
    "        if check_set == set():\n",
    "            answer = False\n",
    "            \n",
    "        return answer"
   ]
  }
 ],
 "metadata": {
  "kernelspec": {
   "display_name": "Python 3",
   "language": "python",
   "name": "python3"
  },
  "language_info": {
   "codemirror_mode": {
    "name": "ipython",
    "version": 3
   },
   "file_extension": ".py",
   "mimetype": "text/x-python",
   "name": "python",
   "nbconvert_exporter": "python",
   "pygments_lexer": "ipython3",
   "version": "3.7.3"
  }
 },
 "nbformat": 4,
 "nbformat_minor": 2
}
