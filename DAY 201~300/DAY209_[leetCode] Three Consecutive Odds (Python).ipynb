{
 "cells": [
  {
   "cell_type": "markdown",
   "metadata": {},
   "source": [
    "## 2020년 9월 15일 화요일\n",
    "### leetCode - Three Consecutive Odds (Python)\n",
    "### 문제 : https://leetcode.com/problems/three-consecutive-odds/\n",
    "### 블로그 : https://somjang.tistory.com/entry/leetCode-1550-Three-Consecutive-Odds-Python"
   ]
  },
  {
   "cell_type": "markdown",
   "metadata": {},
   "source": [
    "### 첫번째 시도"
   ]
  },
  {
   "cell_type": "code",
   "execution_count": null,
   "metadata": {},
   "outputs": [],
   "source": [
    "class Solution:\n",
    "    def threeConsecutiveOdds(self, arr: List[int]) -> bool:\n",
    "        cnt = 0\n",
    "        \n",
    "        for num in arr:\n",
    "            if num % 2 == 1:\n",
    "                cnt = cnt + 1\n",
    "                \n",
    "                if cnt == 3:\n",
    "                    return True\n",
    "            else:\n",
    "                cnt = 0\n",
    "                \n",
    "        return False"
   ]
  },
  {
   "cell_type": "markdown",
   "metadata": {},
   "source": [
    "### 두번째 시도"
   ]
  },
  {
   "cell_type": "code",
   "execution_count": null,
   "metadata": {},
   "outputs": [],
   "source": [
    "class Solution:\n",
    "    def threeConsecutiveOdds(self, arr: List[int]) -> bool:\n",
    "        if len(arr) < 3:\n",
    "            return False\n",
    "                \n",
    "        for i in range(len(arr)-2):\n",
    "            if (arr[i] % 2 == 1) and (arr[i+1] % 2 == 1) and (arr[i+2] % 2 == 1):\n",
    "                return True\n",
    "            \n",
    "        return False"
   ]
  }
 ],
 "metadata": {
  "kernelspec": {
   "display_name": "Python 3",
   "language": "python",
   "name": "python3"
  },
  "language_info": {
   "codemirror_mode": {
    "name": "ipython",
    "version": 3
   },
   "file_extension": ".py",
   "mimetype": "text/x-python",
   "name": "python",
   "nbconvert_exporter": "python",
   "pygments_lexer": "ipython3",
   "version": "3.7.3"
  }
 },
 "nbformat": 4,
 "nbformat_minor": 2
}
