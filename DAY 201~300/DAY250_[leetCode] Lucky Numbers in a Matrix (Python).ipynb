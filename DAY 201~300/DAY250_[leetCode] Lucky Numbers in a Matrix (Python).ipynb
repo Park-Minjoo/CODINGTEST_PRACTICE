{
 "cells": [
  {
   "cell_type": "markdown",
   "metadata": {},
   "source": [
    "## 2020년 11월 4일 수요일\n",
    "### leetCode - Lucky Numbers in a Matrix (Python)\n",
    "### 문제 : https://leetcode.com/problems/lucky-numbers-in-a-matrix/\n",
    "### 블로그 : https://somjang.tistory.com/entry/leetCode-1380-Lucky-Numbers-in-a-Matrix-Python"
   ]
  },
  {
   "cell_type": "markdown",
   "metadata": {},
   "source": [
    "### 첫번째 시도"
   ]
  },
  {
   "cell_type": "code",
   "execution_count": null,
   "metadata": {},
   "outputs": [],
   "source": [
    "class Solution:\n",
    "    def luckyNumbers (self, matrix: List[List[int]]) -> List[int]:\n",
    "        matrix_len = len(matrix[0])\n",
    "        row_len = len(matrix)\n",
    "        for i in range(matrix_len):\n",
    "            temp = []\n",
    "            for j in range(row_len):\n",
    "                temp.append(matrix[j][i])\n",
    "                \n",
    "            for k in range(row_len):\n",
    "                if max(temp) == min(matrix[k]):\n",
    "                    return [max(temp)]"
   ]
  }
 ],
 "metadata": {
  "kernelspec": {
   "display_name": "Python 3",
   "language": "python",
   "name": "python3"
  },
  "language_info": {
   "codemirror_mode": {
    "name": "ipython",
    "version": 3
   },
   "file_extension": ".py",
   "mimetype": "text/x-python",
   "name": "python",
   "nbconvert_exporter": "python",
   "pygments_lexer": "ipython3",
   "version": "3.7.3"
  }
 },
 "nbformat": 4,
 "nbformat_minor": 2
}
