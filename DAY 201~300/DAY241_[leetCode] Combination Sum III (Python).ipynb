{
 "cells": [
  {
   "cell_type": "markdown",
   "metadata": {},
   "source": [
    "## 2020년 10월 23일 금요일\n",
    "### leetCode - Combination Sum III (Python)\n",
    "### 문제 : https://leetcode.com/problems/combination-sum-iii/\n",
    "### 블로그 : https://somjang.tistory.com/entry/leetCode-216-Combination-Sum-III-Python"
   ]
  },
  {
   "cell_type": "markdown",
   "metadata": {},
   "source": [
    "### 첫번째 시도"
   ]
  },
  {
   "cell_type": "code",
   "execution_count": null,
   "metadata": {},
   "outputs": [],
   "source": [
    "from itertools import combinations\n",
    "\n",
    "class Solution:\n",
    "    def combinationSum3(self, k: int, n: int) -> List[List[int]]:\n",
    "        range_list = list(range(1, n-k+1))\n",
    "        \n",
    "        k_comb = list(combinations(range_list, k))\n",
    "        \n",
    "        answer = [list(k_list) for k_list in k_comb if sum(list(k_list)) == n]\n",
    "        \n",
    "        return answer"
   ]
  },
  {
   "cell_type": "markdown",
   "metadata": {},
   "source": [
    "#### 결과 : 시간 초과"
   ]
  },
  {
   "cell_type": "markdown",
   "metadata": {},
   "source": [
    "---"
   ]
  },
  {
   "cell_type": "markdown",
   "metadata": {},
   "source": [
    "### 두번째 시도"
   ]
  },
  {
   "cell_type": "code",
   "execution_count": null,
   "metadata": {},
   "outputs": [],
   "source": [
    "from itertools import combinations\n",
    "\n",
    "class Solution:\n",
    "    def combinationSum3(self, k: int, n: int) -> List[List[int]]:\n",
    "        num = n\n",
    "        \n",
    "        if num > 9:\n",
    "            num = 9\n",
    "        \n",
    "        range_list = list(range(1, num+1))\n",
    "        \n",
    "        k_comb = list(combinations(range_list, k))\n",
    "        \n",
    "        answer = [list(k_list) for k_list in k_comb if sum(list(k_list)) == n]\n",
    "        \n",
    "        return answer"
   ]
  }
 ],
 "metadata": {
  "kernelspec": {
   "display_name": "Python 3",
   "language": "python",
   "name": "python3"
  },
  "language_info": {
   "codemirror_mode": {
    "name": "ipython",
    "version": 3
   },
   "file_extension": ".py",
   "mimetype": "text/x-python",
   "name": "python",
   "nbconvert_exporter": "python",
   "pygments_lexer": "ipython3",
   "version": "3.7.3"
  }
 },
 "nbformat": 4,
 "nbformat_minor": 2
}
