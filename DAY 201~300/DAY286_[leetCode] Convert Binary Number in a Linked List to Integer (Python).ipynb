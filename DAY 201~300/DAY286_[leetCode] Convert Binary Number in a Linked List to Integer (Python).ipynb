{
 "cells": [
  {
   "cell_type": "markdown",
   "metadata": {},
   "source": [
    "## 2020년 12월 31일 목요일\n",
    "### leetCode - Convert Binary Number in a Linked List to Integer (Python)\n",
    "### 문제 : https://leetcode.com/problems/convert-binary-number-in-a-linked-list-to-integer/\n",
    "### 블로그 : https://somjang.tistory.com/entry/leetCode-1290-Convert-Binary-Number-in-a-Linked-List-to-Integer-Python"
   ]
  },
  {
   "cell_type": "markdown",
   "metadata": {},
   "source": [
    "### 첫번째 시도"
   ]
  },
  {
   "cell_type": "code",
   "execution_count": null,
   "metadata": {},
   "outputs": [],
   "source": [
    "# Definition for singly-linked list.\n",
    "# class ListNode:\n",
    "#     def __init__(self, val=0, next=None):\n",
    "#         self.val = val\n",
    "#         self.next = next\n",
    "class Solution:\n",
    "    def getDecimalValue(self, head: ListNode) -> int:\n",
    "        binary_nums = []\n",
    "        \n",
    "        while head != None:\n",
    "            binary_nums.append(str(head.val))\n",
    "            head = head.next\n",
    "            \n",
    "        bin_num = \"\".join(binary_nums)\n",
    "        \n",
    "        return int(bin_num, 2)"
   ]
  }
 ],
 "metadata": {
  "kernelspec": {
   "display_name": "Python 3",
   "language": "python",
   "name": "python3"
  },
  "language_info": {
   "codemirror_mode": {
    "name": "ipython",
    "version": 3
   },
   "file_extension": ".py",
   "mimetype": "text/x-python",
   "name": "python",
   "nbconvert_exporter": "python",
   "pygments_lexer": "ipython3",
   "version": "3.7.3"
  }
 },
 "nbformat": 4,
 "nbformat_minor": 2
}
