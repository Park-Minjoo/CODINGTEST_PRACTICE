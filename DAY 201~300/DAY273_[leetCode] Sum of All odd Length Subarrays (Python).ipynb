{
 "cells": [
  {
   "cell_type": "markdown",
   "metadata": {},
   "source": [
    "## 2020년 12월 7일 월요일\n",
    "### leetCode - Sum of All odd Length Subarrays (Python)\n",
    "### 문제 : https://leetcode.com/problems/sum-of-all-odd-length-subarrays/\n",
    "### 블로그 : https://somjang.tistory.com/entry/leetCode-1588-Sum-of-All-Odd-Length-Subarrays-Python"
   ]
  },
  {
   "cell_type": "markdown",
   "metadata": {},
   "source": [
    "### 첫번째 시도"
   ]
  },
  {
   "cell_type": "code",
   "execution_count": null,
   "metadata": {},
   "outputs": [],
   "source": [
    "class Solution:\n",
    "    def sumOddLengthSubarrays(self, arr: List[int]) -> int:\n",
    "        max_len = len(arr)\n",
    "        \n",
    "        arr_len = len(arr)\n",
    "                \n",
    "        if max_len % 2 == 0:\n",
    "            max_len = max_len - 1\n",
    "        \n",
    "        answer_list = []\n",
    "        \n",
    "        for i in range(1, max_len+1, 2):\n",
    "            for j in range(arr_len - i + 1):\n",
    "                answer_list.append(sum(arr[j:j+i]))              \n",
    "        \n",
    "        return sum(answer_list)"
   ]
  }
 ],
 "metadata": {
  "kernelspec": {
   "display_name": "Python 3",
   "language": "python",
   "name": "python3"
  },
  "language_info": {
   "codemirror_mode": {
    "name": "ipython",
    "version": 3
   },
   "file_extension": ".py",
   "mimetype": "text/x-python",
   "name": "python",
   "nbconvert_exporter": "python",
   "pygments_lexer": "ipython3",
   "version": "3.7.3"
  }
 },
 "nbformat": 4,
 "nbformat_minor": 2
}
