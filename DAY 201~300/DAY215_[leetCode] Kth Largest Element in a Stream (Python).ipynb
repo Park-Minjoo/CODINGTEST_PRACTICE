{
 "cells": [
  {
   "cell_type": "markdown",
   "metadata": {},
   "source": [
    "## 2020년 9월 21일 월요일\n",
    "### leetCode - Kth Largest Element in a Stream (Python)\n",
    "### 문제 : https://leetcode.com/problems/kth-largest-element-in-a-stream/\n",
    "### 블로그 : https://somjang.tistory.com/entry/leetCode-703-Kth-Largest-Element-in-a-Stream-Python"
   ]
  },
  {
   "cell_type": "markdown",
   "metadata": {},
   "source": [
    "### 첫번째 시도"
   ]
  },
  {
   "cell_type": "code",
   "execution_count": null,
   "metadata": {},
   "outputs": [],
   "source": [
    "class KthLargest:\n",
    "\n",
    "    def __init__(self, k: int, nums: List[int]):\n",
    "        self.nums = nums\n",
    "        self.k = k\n",
    "        \n",
    "\n",
    "    def add(self, val: int) -> int:\n",
    "        \n",
    "        self.nums.append(val)\n",
    "        self.nums.sort()\n",
    "        \n",
    "        \n",
    "        return self.nums[len(self.nums)-self.k]\n",
    "\n",
    "\n",
    "# Your KthLargest object will be instantiated and called as such:\n",
    "# obj = KthLargest(k, nums)\n",
    "# param_1 = obj.add(val)"
   ]
  }
 ],
 "metadata": {
  "kernelspec": {
   "display_name": "Python 3",
   "language": "python",
   "name": "python3"
  },
  "language_info": {
   "codemirror_mode": {
    "name": "ipython",
    "version": 3
   },
   "file_extension": ".py",
   "mimetype": "text/x-python",
   "name": "python",
   "nbconvert_exporter": "python",
   "pygments_lexer": "ipython3",
   "version": "3.7.3"
  }
 },
 "nbformat": 4,
 "nbformat_minor": 2
}
