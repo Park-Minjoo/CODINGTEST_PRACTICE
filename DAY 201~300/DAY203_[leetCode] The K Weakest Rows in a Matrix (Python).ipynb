{
 "cells": [
  {
   "cell_type": "markdown",
   "metadata": {},
   "source": [
    "## 2020년 9월 9일 수요일\n",
    "### leetCode - The K Weakest Rows in a Matrix (Python)\n",
    "### 문제 : https://leetcode.com/problems/the-k-weakest-rows-in-a-matrix/\n",
    "### 블로그 : https://somjang.tistory.com/entry/leetCode-1337-The-K-Weakest-Rows-in-a-Matrix-Python"
   ]
  },
  {
   "cell_type": "markdown",
   "metadata": {},
   "source": [
    "### 첫번째 시도"
   ]
  },
  {
   "cell_type": "code",
   "execution_count": null,
   "metadata": {},
   "outputs": [],
   "source": [
    "class Solution:\n",
    "    def kWeakestRows(self, mat: List[List[int]], k: int) -> List[int]:\n",
    "        sum_nums = []\n",
    "        for i in range(len(mat)):\n",
    "            sum_nums.append((i, sum(mat[i])))\n",
    "        sorted_sum_nums = sorted(sum_nums, key=lambda x: x[1])\n",
    "        \n",
    "        answer = [idx[0] for idx in sorted_sum_nums[:k]]\n",
    "        \n",
    "        return answer"
   ]
  }
 ],
 "metadata": {
  "kernelspec": {
   "display_name": "Python 3",
   "language": "python",
   "name": "python3"
  },
  "language_info": {
   "codemirror_mode": {
    "name": "ipython",
    "version": 3
   },
   "file_extension": ".py",
   "mimetype": "text/x-python",
   "name": "python",
   "nbconvert_exporter": "python",
   "pygments_lexer": "ipython3",
   "version": "3.7.3"
  }
 },
 "nbformat": 4,
 "nbformat_minor": 2
}
