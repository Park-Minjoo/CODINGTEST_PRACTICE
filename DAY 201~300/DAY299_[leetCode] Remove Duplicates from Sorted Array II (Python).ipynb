{
 "cells": [
  {
   "cell_type": "markdown",
   "metadata": {},
   "source": [
    "## 2021년 1월 21일 목요일\n",
    "### leetCode - Remove Duplicates from Sorted Array II (Python)\n",
    "### 문제 : https://leetcode.com/problems/remove-duplicates-from-sorted-array-ii/\n",
    "### 블로그 : https://somjang.tistory.com/entry/leetCode-80-Remove-Duplicates-from-Sorted-Array-II-Python"
   ]
  },
  {
   "cell_type": "markdown",
   "metadata": {},
   "source": [
    "### 첫번째 시도"
   ]
  },
  {
   "cell_type": "code",
   "execution_count": null,
   "metadata": {},
   "outputs": [],
   "source": [
    "class Solution:\n",
    "    def removeDuplicates(self, nums: List[int]) -> int:\n",
    "        index = 0\n",
    "        \n",
    "        for num in nums:\n",
    "            if index < 2 or num != nums[index-2]:\n",
    "                nums[index] = num\n",
    "                index = index + 1\n",
    "                \n",
    "        return index"
   ]
  }
 ],
 "metadata": {
  "kernelspec": {
   "display_name": "Python 3",
   "language": "python",
   "name": "python3"
  },
  "language_info": {
   "codemirror_mode": {
    "name": "ipython",
    "version": 3
   },
   "file_extension": ".py",
   "mimetype": "text/x-python",
   "name": "python",
   "nbconvert_exporter": "python",
   "pygments_lexer": "ipython3",
   "version": "3.7.3"
  }
 },
 "nbformat": 4,
 "nbformat_minor": 2
}
