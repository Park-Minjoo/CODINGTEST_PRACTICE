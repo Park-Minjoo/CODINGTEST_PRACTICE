{
 "cells": [
  {
   "cell_type": "markdown",
   "metadata": {},
   "source": [
    "## 2020년 12월 26일 토요일\n",
    "### leetCode - Reverse Linked List II (Python)\n",
    "### 문제 : https://leetcode.com/problems/reverse-linked-list-ii/\n",
    "### 블로그 : https://somjang.tistory.com/entry/leetCode-92-Reverse-Linked-List-II-Python"
   ]
  },
  {
   "cell_type": "markdown",
   "metadata": {},
   "source": [
    "### 첫번째 시도"
   ]
  },
  {
   "cell_type": "code",
   "execution_count": null,
   "metadata": {},
   "outputs": [],
   "source": [
    "# Definition for singly-linked list.\n",
    "# class ListNode:\n",
    "#     def __init__(self, val=0, next=None):\n",
    "#         self.val = val\n",
    "#         self.next = next\n",
    "class Solution:\n",
    "    def reverseBetween(self, head: ListNode, m: int, n: int) -> ListNode:\n",
    "        list_nums = []\n",
    "        \n",
    "        while head != None:\n",
    "            list_nums.append(head.val)\n",
    "            head = head.next\n",
    "            \n",
    "        sub_m_n = \"\".join(list(map(str, list_nums[m-1:n])))[::-1]\n",
    "    \n",
    "        list_nums[m-1:n] = list(map(int, list(sub_m_n)))\n",
    "        \n",
    "        answerList = ListNode(0)\n",
    "        \n",
    "        result = answerList\n",
    "        \n",
    "        for num in list_nums:\n",
    "            answerList.next = ListNode(num)\n",
    "            answerList = answerList.next\n",
    "            \n",
    "        return result.next"
   ]
  },
  {
   "cell_type": "markdown",
   "metadata": {},
   "source": [
    "### 두번째 시도"
   ]
  },
  {
   "cell_type": "code",
   "execution_count": null,
   "metadata": {},
   "outputs": [],
   "source": [
    "# Definition for singly-linked list.\n",
    "# class ListNode:\n",
    "#     def __init__(self, val=0, next=None):\n",
    "#         self.val = val\n",
    "#         self.next = next\n",
    "class Solution:\n",
    "    def reverseBetween(self, head: ListNode, m: int, n: int) -> ListNode:\n",
    "        list_nums = []\n",
    "        \n",
    "        while head != None:\n",
    "            list_nums.append(head.val)\n",
    "            head = head.next\n",
    "            \n",
    "        sub_m_n = list_nums[m-1:n]\n",
    "        \n",
    "        reverse_sub = []\n",
    "        \n",
    "        for i in range(len(sub_m_n)-1, -1, -1):\n",
    "            reverse_sub.append(sub_m_n[i])\n",
    "            \n",
    "        list_nums[m-1:n] = reverse_sub\n",
    "        \n",
    "        answerList = ListNode(0)\n",
    "        \n",
    "        result = answerList\n",
    "        \n",
    "        for num in list_nums:\n",
    "            answerList.next = ListNode(num)\n",
    "            answerList = answerList.next\n",
    "            \n",
    "        return result.next"
   ]
  }
 ],
 "metadata": {
  "kernelspec": {
   "display_name": "Python 3",
   "language": "python",
   "name": "python3"
  },
  "language_info": {
   "codemirror_mode": {
    "name": "ipython",
    "version": 3
   },
   "file_extension": ".py",
   "mimetype": "text/x-python",
   "name": "python",
   "nbconvert_exporter": "python",
   "pygments_lexer": "ipython3",
   "version": "3.7.3"
  }
 },
 "nbformat": 4,
 "nbformat_minor": 2
}
