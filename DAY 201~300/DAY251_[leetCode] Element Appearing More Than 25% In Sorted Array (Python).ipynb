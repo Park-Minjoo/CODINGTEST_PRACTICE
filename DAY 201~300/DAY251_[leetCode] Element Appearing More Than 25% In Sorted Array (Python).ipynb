{
 "cells": [
  {
   "cell_type": "markdown",
   "metadata": {},
   "source": [
    "## 2020년 11월 5일 목요일\n",
    "### leetCode - Element Appearing More Than 25% In Sorted Array (Python)\n",
    "### 문제 : https://leetcode.com/problems/element-appearing-more-than-25-in-sorted-array/\n",
    "### 블로그 : https://somjang.tistory.com/entry/leetCode-1287-Element-Appearing-More-Than-25-In-Sorted-Array-Python"
   ]
  },
  {
   "cell_type": "markdown",
   "metadata": {},
   "source": [
    "### 첫번째 시도"
   ]
  },
  {
   "cell_type": "code",
   "execution_count": null,
   "metadata": {},
   "outputs": [],
   "source": [
    "from collections import Counter\n",
    "\n",
    "class Solution:\n",
    "    def findSpecialInteger(self, arr: List[int]) -> int:\n",
    "        answer = 0\n",
    "        \n",
    "        percent_25_num = int(len(arr) // 4)\n",
    "        \n",
    "        cnt = Counter(arr)\n",
    "        \n",
    "        keys = list(cnt.keys())\n",
    "        \n",
    "        for key in keys:\n",
    "            if cnt[key] > percent_25_num:\n",
    "                answer = key\n",
    "                break\n",
    "                \n",
    "        return answer"
   ]
  }
 ],
 "metadata": {
  "kernelspec": {
   "display_name": "Python 3",
   "language": "python",
   "name": "python3"
  },
  "language_info": {
   "codemirror_mode": {
    "name": "ipython",
    "version": 3
   },
   "file_extension": ".py",
   "mimetype": "text/x-python",
   "name": "python",
   "nbconvert_exporter": "python",
   "pygments_lexer": "ipython3",
   "version": "3.7.3"
  }
 },
 "nbformat": 4,
 "nbformat_minor": 2
}
