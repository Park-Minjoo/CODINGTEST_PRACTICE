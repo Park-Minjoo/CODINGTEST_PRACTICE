{
 "cells": [
  {
   "cell_type": "markdown",
   "metadata": {},
   "source": [
    "## 2020년 11월 3일 화요일\n",
    "### leetCode - Count Negative Numbers in a Sorted Matrix (Python)\n",
    "### 문제 : https://leetcode.com/problems/count-negative-numbers-in-a-sorted-matrix/\n",
    "### 블로그 : https://somjang.tistory.com/entry/leetCode-1351-Count-Negative-Numbers-in-a-Sorted-Matrix-Python"
   ]
  },
  {
   "cell_type": "markdown",
   "metadata": {},
   "source": [
    "### 첫번째 시도"
   ]
  },
  {
   "cell_type": "code",
   "execution_count": null,
   "metadata": {},
   "outputs": [],
   "source": [
    "class Solution:\n",
    "    def countNegatives(self, grid: List[List[int]]) -> int:\n",
    "        answer = 0\n",
    "        \n",
    "        for i in range(len(grid)):\n",
    "            if grid[i][-1] < 0:\n",
    "                for j in range(len(grid[i])-1, -1, -1):\n",
    "                    if grid[i][j] >= 0:\n",
    "                        break\n",
    "                    else:\n",
    "                        answer = answer + 1\n",
    "            else:\n",
    "                continue\n",
    "        return answer"
   ]
  }
 ],
 "metadata": {
  "kernelspec": {
   "display_name": "Python 3",
   "language": "python",
   "name": "python3"
  },
  "language_info": {
   "codemirror_mode": {
    "name": "ipython",
    "version": 3
   },
   "file_extension": ".py",
   "mimetype": "text/x-python",
   "name": "python",
   "nbconvert_exporter": "python",
   "pygments_lexer": "ipython3",
   "version": "3.7.3"
  }
 },
 "nbformat": 4,
 "nbformat_minor": 2
}
