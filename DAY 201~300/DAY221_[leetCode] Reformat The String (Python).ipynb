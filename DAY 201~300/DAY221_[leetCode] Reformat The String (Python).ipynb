{
 "cells": [
  {
   "cell_type": "markdown",
   "metadata": {},
   "source": [
    "## 2020년 9월 28일 월요일\n",
    "### leetCode - Reformat The String (Python)\n",
    "### 문제 : https://leetcode.com/problems/reformat-the-string/\n",
    "### 블로그 : https://somjang.tistory.com/entry/leetCode-1417-Reformat-The-String-Python"
   ]
  },
  {
   "cell_type": "markdown",
   "metadata": {},
   "source": [
    "### 첫번째 시도"
   ]
  },
  {
   "cell_type": "code",
   "execution_count": null,
   "metadata": {},
   "outputs": [],
   "source": [
    "class Solution:\n",
    "    def reformat(self, s: str) -> str:\n",
    "        answer = []\n",
    "        \n",
    "        s_list = list(s)\n",
    "        \n",
    "        characters = []\n",
    "        numbers = []\n",
    "        \n",
    "        \n",
    "        for s in s_list:\n",
    "            if s.isalpha() == True:\n",
    "                characters.append(s)\n",
    "            if s.isnumeric() == True:\n",
    "                numbers.append(s)\n",
    "        \n",
    "        \n",
    "        if abs(len(characters) - len(numbers)) >= 2:\n",
    "            return \"\"\n",
    "        elif len(characters) > len(numbers):\n",
    "            while numbers:\n",
    "                answer.append(characters.pop())\n",
    "                answer.append(numbers.pop())\n",
    "            answer.append(characters.pop())\n",
    "            \n",
    "        elif len(characters) <= len(numbers):\n",
    "            while characters:\n",
    "                answer.append(numbers.pop())\n",
    "                answer.append(characters.pop())\n",
    "                \n",
    "            if len(numbers) != 0:\n",
    "                answer.append(numbers.pop())\n",
    "        return \"\".join(answer)"
   ]
  }
 ],
 "metadata": {
  "kernelspec": {
   "display_name": "Python 3",
   "language": "python",
   "name": "python3"
  },
  "language_info": {
   "codemirror_mode": {
    "name": "ipython",
    "version": 3
   },
   "file_extension": ".py",
   "mimetype": "text/x-python",
   "name": "python",
   "nbconvert_exporter": "python",
   "pygments_lexer": "ipython3",
   "version": "3.7.3"
  }
 },
 "nbformat": 4,
 "nbformat_minor": 2
}
