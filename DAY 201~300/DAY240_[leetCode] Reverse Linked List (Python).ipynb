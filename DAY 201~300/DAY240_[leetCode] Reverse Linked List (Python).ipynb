{
 "cells": [
  {
   "cell_type": "markdown",
   "metadata": {},
   "source": [
    "## 2020년 10월 22일 목요일\n",
    "### leetCode - Occurrences After Bigram (Python)\n",
    "### 문제 : https://leetcode.com/problems/reverse-linked-list/\n",
    "### 블로그 : https://somjang.tistory.com/entry/leetCode-206-Reverse-Linked-List-Python"
   ]
  },
  {
   "cell_type": "markdown",
   "metadata": {},
   "source": [
    "### 첫번째 시도"
   ]
  },
  {
   "cell_type": "code",
   "execution_count": null,
   "metadata": {},
   "outputs": [],
   "source": [
    "# Definition for singly-linked list.\n",
    "# class ListNode:\n",
    "#     def __init__(self, val=0, next=None):\n",
    "#         self.val = val\n",
    "#         self.next = next\n",
    "class Solution:\n",
    "    def reverseList(self, head: ListNode) -> ListNode:\n",
    "        my_list = []\n",
    "        answerList = None\n",
    "        \n",
    "        while head != None:\n",
    "            val = head.val\n",
    "            \n",
    "            my_list.append(val)\n",
    "            \n",
    "            head = head.next\n",
    "            \n",
    "        my_list_reverse = my_list[::-1]\n",
    "        \n",
    "        for i in range(len(my_list_reverse)):\n",
    "            if i == 0:\n",
    "                answerList = ListNode(my_list_reverse[i])\n",
    "            else:\n",
    "                new_node = ListNode(my_list_reverse[i])\n",
    "                currNode = answerList\n",
    "                while currNode.next != None:\n",
    "                    currNode = currNode.next\n",
    "                    \n",
    "                currNode.next = new_node\n",
    "        return answerList"
   ]
  }
 ],
 "metadata": {
  "kernelspec": {
   "display_name": "Python 3",
   "language": "python",
   "name": "python3"
  },
  "language_info": {
   "codemirror_mode": {
    "name": "ipython",
    "version": 3
   },
   "file_extension": ".py",
   "mimetype": "text/x-python",
   "name": "python",
   "nbconvert_exporter": "python",
   "pygments_lexer": "ipython3",
   "version": "3.7.3"
  }
 },
 "nbformat": 4,
 "nbformat_minor": 2
}
