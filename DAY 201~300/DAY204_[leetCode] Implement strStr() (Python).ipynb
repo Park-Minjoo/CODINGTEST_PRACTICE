{
 "cells": [
  {
   "cell_type": "markdown",
   "metadata": {},
   "source": [
    "## 2020년 9월 10일 목요일\n",
    "### leetCode - Implement strStr (Python)\n",
    "### 문제 : https://leetcode.com/problems/implement-strstr/\n",
    "### 블로그 : https://somjang.tistory.com/entry/leetCode-28-Implement-strStr-Python"
   ]
  },
  {
   "cell_type": "markdown",
   "metadata": {},
   "source": [
    "### 첫번째 시도"
   ]
  },
  {
   "cell_type": "code",
   "execution_count": null,
   "metadata": {},
   "outputs": [],
   "source": [
    "class Solution:\n",
    "    def strStr(self, haystack: str, needle: str) -> int:\n",
    "        \n",
    "        if (haystack == \"\" and needle == \"\") or needle == \"\":\n",
    "            return 0\n",
    "        elif haystack == \"\":\n",
    "            return -1\n",
    "        \n",
    "        split_check = haystack.split(needle)\n",
    "        \n",
    "        if split_check[0] == haystack:\n",
    "            answer = -1\n",
    "        elif split_check[0] != haystack:\n",
    "            answer = len(split_check[0])\n",
    "        \n",
    "        return answer"
   ]
  }
 ],
 "metadata": {
  "kernelspec": {
   "display_name": "Python 3",
   "language": "python",
   "name": "python3"
  },
  "language_info": {
   "codemirror_mode": {
    "name": "ipython",
    "version": 3
   },
   "file_extension": ".py",
   "mimetype": "text/x-python",
   "name": "python",
   "nbconvert_exporter": "python",
   "pygments_lexer": "ipython3",
   "version": "3.7.3"
  }
 },
 "nbformat": 4,
 "nbformat_minor": 2
}
