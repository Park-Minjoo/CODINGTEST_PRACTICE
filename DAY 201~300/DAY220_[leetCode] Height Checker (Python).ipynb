{
 "cells": [
  {
   "cell_type": "markdown",
   "metadata": {},
   "source": [
    "## 2020년 9월 27일 일요일\n",
    "### leetCode - Height Checker (Python)\n",
    "### 문제 : https://leetcode.com/problems/height-checker/\n",
    "### 블로그 : https://somjang.tistory.com/entry/leetCode-1051-Height-Checker-Python"
   ]
  },
  {
   "cell_type": "markdown",
   "metadata": {},
   "source": [
    "### 첫번째 시도"
   ]
  },
  {
   "cell_type": "code",
   "execution_count": null,
   "metadata": {},
   "outputs": [],
   "source": [
    "class Solution:\n",
    "    def heightChecker(self, heights: List[int]) -> int:\n",
    "        sorted_height = sorted(heights)\n",
    "        \n",
    "        cnt = 0\n",
    "        \n",
    "        for i, height in enumerate(heights):\n",
    "            if sorted_height[i] != height:\n",
    "                cnt = cnt + 1\n",
    "                \n",
    "        return cnt"
   ]
  }
 ],
 "metadata": {
  "kernelspec": {
   "display_name": "Python 3",
   "language": "python",
   "name": "python3"
  },
  "language_info": {
   "codemirror_mode": {
    "name": "ipython",
    "version": 3
   },
   "file_extension": ".py",
   "mimetype": "text/x-python",
   "name": "python",
   "nbconvert_exporter": "python",
   "pygments_lexer": "ipython3",
   "version": "3.7.3"
  }
 },
 "nbformat": 4,
 "nbformat_minor": 2
}
