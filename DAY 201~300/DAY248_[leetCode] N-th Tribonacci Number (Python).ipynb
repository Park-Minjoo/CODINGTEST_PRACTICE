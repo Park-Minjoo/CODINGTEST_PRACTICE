{
 "cells": [
  {
   "cell_type": "markdown",
   "metadata": {},
   "source": [
    "## 2020년 11월 2일 월요일\n",
    "### leetCode - N-th Tribonacci Number (Python)\n",
    "### 문제 : https://leetcode.com/problems/n-th-tribonacci-number/\n",
    "### 블로그 : https://somjang.tistory.com/entry/leetCode-1137-N-th-Tribonacci-Number-Python"
   ]
  },
  {
   "cell_type": "markdown",
   "metadata": {},
   "source": [
    "### 첫번째 시도"
   ]
  },
  {
   "cell_type": "code",
   "execution_count": null,
   "metadata": {},
   "outputs": [],
   "source": [
    "class Solution:\n",
    "    def tribonacci(self, n: int) -> int:\n",
    "        fiboNum = 0\n",
    "        \n",
    "        if n == 1:\n",
    "            fiboNum = 1\n",
    "        elif n == 2:\n",
    "            fiboNum = 1\n",
    "        elif n == 3:\n",
    "            fiboNum = 2\n",
    "        elif n > 3:\n",
    "            fibo = [0] * (n)\n",
    "            fibo[0] = 1\n",
    "            fibo[1] = 1\n",
    "            fibo[2] = 2\n",
    "\n",
    "            for i in range(3, n):\n",
    "                fibo[i] = fibo[i-1] + fibo[i-2] + fibo[i-3]\n",
    "\n",
    "            fiboNum = fibo[n-1]\n",
    "            \n",
    "        return fiboNum"
   ]
  }
 ],
 "metadata": {
  "kernelspec": {
   "display_name": "Python 3",
   "language": "python",
   "name": "python3"
  },
  "language_info": {
   "codemirror_mode": {
    "name": "ipython",
    "version": 3
   },
   "file_extension": ".py",
   "mimetype": "text/x-python",
   "name": "python",
   "nbconvert_exporter": "python",
   "pygments_lexer": "ipython3",
   "version": "3.7.3"
  }
 },
 "nbformat": 4,
 "nbformat_minor": 2
}
