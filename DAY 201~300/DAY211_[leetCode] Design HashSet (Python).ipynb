{
 "cells": [
  {
   "cell_type": "markdown",
   "metadata": {},
   "source": [
    "## 2020년 9월 17일 목요일\n",
    "### leetCode - Design HashSet (Python)\n",
    "### 문제 : https://leetcode.com/problems/design-hashset/\n",
    "### 블로그 : https://somjang.tistory.com/entry/leetCode-705-Design-HashSet-Python"
   ]
  },
  {
   "cell_type": "markdown",
   "metadata": {},
   "source": [
    "### 첫번째 시도"
   ]
  },
  {
   "cell_type": "code",
   "execution_count": null,
   "metadata": {},
   "outputs": [],
   "source": [
    "class MyHashSet:\n",
    "\n",
    "    def __init__(self):\n",
    "        \"\"\"\n",
    "        Initialize your data structure here.\n",
    "        \"\"\"\n",
    "        self.my_hash = []\n",
    "\n",
    "    def add(self, key: int) -> None:\n",
    "        if key not in self.my_hash:\n",
    "            self.my_hash.append(key)\n",
    "        \n",
    "\n",
    "    def remove(self, key: int) -> None:\n",
    "        if key in self.my_hash:\n",
    "            self.my_hash.remove(key)\n",
    "        \n",
    "\n",
    "    def contains(self, key: int) -> bool:\n",
    "        \"\"\"\n",
    "        Returns true if this set contains the specified element\n",
    "        \"\"\"\n",
    "        if key in self.my_hash:\n",
    "            return True\n",
    "    \n",
    "        return False\n",
    "\n",
    "\n",
    "# Your MyHashSet object will be instantiated and called as such:\n",
    "# obj = MyHashSet()\n",
    "# obj.add(key)\n",
    "# obj.remove(key)\n",
    "# param_3 = obj.contains(key)"
   ]
  }
 ],
 "metadata": {
  "kernelspec": {
   "display_name": "Python 3",
   "language": "python",
   "name": "python3"
  },
  "language_info": {
   "codemirror_mode": {
    "name": "ipython",
    "version": 3
   },
   "file_extension": ".py",
   "mimetype": "text/x-python",
   "name": "python",
   "nbconvert_exporter": "python",
   "pygments_lexer": "ipython3",
   "version": "3.7.3"
  }
 },
 "nbformat": 4,
 "nbformat_minor": 2
}
