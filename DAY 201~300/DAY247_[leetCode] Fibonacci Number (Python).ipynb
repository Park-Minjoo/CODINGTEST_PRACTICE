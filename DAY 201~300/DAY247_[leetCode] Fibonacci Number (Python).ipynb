{
 "cells": [
  {
   "cell_type": "markdown",
   "metadata": {},
   "source": [
    "## 2020년 11월 1일 일요일\n",
    "### leetCode - License Key Formatting (Python)\n",
    "### 문제 : https://leetcode.com/problems/fibonacci-number/\n",
    "### 블로그 : https://somjang.tistory.com/entry/leetCode-509-Fibonacci-Number-Python"
   ]
  },
  {
   "cell_type": "markdown",
   "metadata": {},
   "source": [
    "### 첫번째 시도"
   ]
  },
  {
   "cell_type": "code",
   "execution_count": null,
   "metadata": {},
   "outputs": [],
   "source": [
    "class Solution:\n",
    "    def fib(self, N: int) -> int:\n",
    "        n = N\n",
    "        fiboNum = 0\n",
    "        \n",
    "        if n == 1:\n",
    "            fiboNum = 1\n",
    "        elif n == 2:\n",
    "            fiboNum = 1\n",
    "        elif n >= 3:\n",
    "            fibo = [0] * (n)\n",
    "            fibo[0] = 1\n",
    "            fibo[1] = 1\n",
    "\n",
    "            for i in range(2, n):\n",
    "                fibo[i] = fibo[i-1] + fibo[i-2]\n",
    "\n",
    "            fiboNum = fibo[n-1]\n",
    "            \n",
    "        return fiboNum"
   ]
  }
 ],
 "metadata": {
  "kernelspec": {
   "display_name": "Python 3",
   "language": "python",
   "name": "python3"
  },
  "language_info": {
   "codemirror_mode": {
    "name": "ipython",
    "version": 3
   },
   "file_extension": ".py",
   "mimetype": "text/x-python",
   "name": "python",
   "nbconvert_exporter": "python",
   "pygments_lexer": "ipython3",
   "version": "3.7.3"
  }
 },
 "nbformat": 4,
 "nbformat_minor": 2
}
