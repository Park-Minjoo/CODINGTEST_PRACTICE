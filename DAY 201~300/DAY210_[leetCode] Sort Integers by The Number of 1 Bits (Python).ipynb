{
 "cells": [
  {
   "cell_type": "markdown",
   "metadata": {},
   "source": [
    "## 2020년 9월 16일 수요일\n",
    "### leetCode - Sort Integers by The Number of 1 Bits (Python)\n",
    "### 문제 : https://leetcode.com/problems/sort-integers-by-the-number-of-1-bits/\n",
    "### 블로그 : https://somjang.tistory.com/entry/leetCode-1356-Sort-Integers-by-The-Number-of-1-Bits-Python"
   ]
  },
  {
   "cell_type": "markdown",
   "metadata": {},
   "source": [
    "### 첫번째 시도"
   ]
  },
  {
   "cell_type": "code",
   "execution_count": null,
   "metadata": {},
   "outputs": [],
   "source": [
    "class Solution:\n",
    "    def sortByBits(self, arr: List[int]) -> List[int]:\n",
    "        one_count_dict = {}\n",
    "        for i, num in enumerate(arr):\n",
    "            one_count = bin(num).count(\"1\")\n",
    "        \n",
    "            one_count_dict[i] = one_count\n",
    "            \n",
    "        sorted_dict = sorted(one_count_dict.items(), key=lambda x:(x[1], arr[x[0]]))\n",
    "        \n",
    "        answer = [arr[num[0]] for num in sorted_dict]\n",
    "        \n",
    "        return answer"
   ]
  }
 ],
 "metadata": {
  "kernelspec": {
   "display_name": "Python 3",
   "language": "python",
   "name": "python3"
  },
  "language_info": {
   "codemirror_mode": {
    "name": "ipython",
    "version": 3
   },
   "file_extension": ".py",
   "mimetype": "text/x-python",
   "name": "python",
   "nbconvert_exporter": "python",
   "pygments_lexer": "ipython3",
   "version": "3.7.3"
  }
 },
 "nbformat": 4,
 "nbformat_minor": 2
}
