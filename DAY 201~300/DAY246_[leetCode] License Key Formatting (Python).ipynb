{
 "cells": [
  {
   "cell_type": "markdown",
   "metadata": {},
   "source": [
    "## 2020년 10월 31일 토요일\n",
    "### leetCode - License Key Formatting (Python)\n",
    "### 문제 : https://leetcode.com/problems/license-key-formatting/\n",
    "### 블로그 : https://somjang.tistory.com/entry/leetCode-482-License-Key-Formatting-Python"
   ]
  },
  {
   "cell_type": "markdown",
   "metadata": {},
   "source": [
    "### 첫번째 시도"
   ]
  },
  {
   "cell_type": "code",
   "execution_count": null,
   "metadata": {},
   "outputs": [],
   "source": [
    "class Solution:\n",
    "    def licenseKeyFormatting(self, S: str, K: int) -> str:\n",
    "        num_range = list(range(0, 10))\n",
    "        S_String = \"\".join(S.upper().split(\"-\"))\n",
    "        answer_list = []\n",
    "        \n",
    "        list_S = list(S_String)\n",
    "        if len(list_S) % K == 0:\n",
    "            for i in range(len(list_S) // K):\n",
    "                answer_list.append(\"\".join(list_S[K*i:K*(i+1)]))\n",
    "        elif len(list_S) % K != 0:\n",
    "            cut_num = len(list_S) % K\n",
    "            \n",
    "            answer_list.append(\"\".join(list_S[:cut_num]))\n",
    "            \n",
    "            list_S = list_S[cut_num:]\n",
    "\n",
    "            for i in range(len(list_S) // K):\n",
    "                answer_list.append(\"\".join(list_S[K*i:K*(i+1)]))\n",
    "                \n",
    "        return \"-\".join(answer_list)"
   ]
  }
 ],
 "metadata": {
  "kernelspec": {
   "display_name": "Python 3",
   "language": "python",
   "name": "python3"
  },
  "language_info": {
   "codemirror_mode": {
    "name": "ipython",
    "version": 3
   },
   "file_extension": ".py",
   "mimetype": "text/x-python",
   "name": "python",
   "nbconvert_exporter": "python",
   "pygments_lexer": "ipython3",
   "version": "3.7.3"
  }
 },
 "nbformat": 4,
 "nbformat_minor": 2
}
