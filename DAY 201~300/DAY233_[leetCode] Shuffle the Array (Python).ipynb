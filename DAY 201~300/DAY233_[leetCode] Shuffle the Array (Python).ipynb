{
 "cells": [
  {
   "cell_type": "markdown",
   "metadata": {},
   "source": [
    "## 2020년 10월 10일 토요일\n",
    "### leetCode - Shuffle the Array (Python)\n",
    "### 문제 : https://leetcode.com/problems/shuffle-the-array/\n",
    "### 블로그 : https://somjang.tistory.com/entry/leetCode-1470-Shuffle-the-Array-Python"
   ]
  },
  {
   "cell_type": "markdown",
   "metadata": {},
   "source": [
    "### 첫번째 시도"
   ]
  },
  {
   "cell_type": "code",
   "execution_count": null,
   "metadata": {},
   "outputs": [],
   "source": [
    "class Solution:\n",
    "    def shuffle(self, nums: List[int], n: int) -> List[int]:\n",
    "        answer = []\n",
    "        \n",
    "        for i in range(len(nums) // 2):\n",
    "            answer.append(nums[i])\n",
    "            answer.append(nums[i+n])\n",
    "            \n",
    "        return answer"
   ]
  }
 ],
 "metadata": {
  "kernelspec": {
   "display_name": "Python 3",
   "language": "python",
   "name": "python3"
  },
  "language_info": {
   "codemirror_mode": {
    "name": "ipython",
    "version": 3
   },
   "file_extension": ".py",
   "mimetype": "text/x-python",
   "name": "python",
   "nbconvert_exporter": "python",
   "pygments_lexer": "ipython3",
   "version": "3.7.3"
  }
 },
 "nbformat": 4,
 "nbformat_minor": 2
}
