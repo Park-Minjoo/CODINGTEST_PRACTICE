{
 "cells": [
  {
   "cell_type": "markdown",
   "metadata": {},
   "source": [
    "## 2020년 9월 23일 수요일\n",
    "### leetCode - Unique Number of Occurrences (Python)\n",
    "### 문제 : https://leetcode.com/problems/unique-number-of-occurrences/\n",
    "### 블로그 : https://somjang.tistory.com/entry/leetCode-1207-Unique-Number-of-Occurrences-Python"
   ]
  },
  {
   "cell_type": "markdown",
   "metadata": {},
   "source": [
    "### 첫번째 시도"
   ]
  },
  {
   "cell_type": "code",
   "execution_count": null,
   "metadata": {},
   "outputs": [],
   "source": [
    "from collections import Counter\n",
    "\n",
    "class Solution:\n",
    "    def uniqueOccurrences(self, arr: List[int]) -> bool:\n",
    "        cnt = Counter(arr)\n",
    "        \n",
    "        cnt_list = [item[1] for item in cnt.items()]\n",
    "        \n",
    "        set_list = list(set(cnt_list))\n",
    "        \n",
    "        print(set_list)\n",
    "        \n",
    "        if len(cnt_list) != len(set_list):\n",
    "            return False\n",
    "        \n",
    "        return True"
   ]
  }
 ],
 "metadata": {
  "kernelspec": {
   "display_name": "Python 3",
   "language": "python",
   "name": "python3"
  },
  "language_info": {
   "codemirror_mode": {
    "name": "ipython",
    "version": 3
   },
   "file_extension": ".py",
   "mimetype": "text/x-python",
   "name": "python",
   "nbconvert_exporter": "python",
   "pygments_lexer": "ipython3",
   "version": "3.7.3"
  }
 },
 "nbformat": 4,
 "nbformat_minor": 2
}
