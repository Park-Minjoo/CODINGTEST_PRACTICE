{
 "cells": [
  {
   "cell_type": "markdown",
   "metadata": {},
   "source": [
    "## 2020년 9월 8일 화요일\n",
    "### leetCode - Rank Transform of an Array (Python)\n",
    "### 문제 : https://leetcode.com/problems/rank-transform-of-an-array/\n",
    "### 블로그 : https://somjang.tistory.com/entry/leetCode-1331-Rank-Transform-of-an-Array-Python"
   ]
  },
  {
   "cell_type": "markdown",
   "metadata": {},
   "source": [
    "### 첫번째 시도"
   ]
  },
  {
   "cell_type": "code",
   "execution_count": null,
   "metadata": {},
   "outputs": [],
   "source": [
    "class Solution:\n",
    "    def arrayRankTransform(self, arr: List[int]) -> List[int]:\n",
    "        arr_temp = list(set(arr))\n",
    "        sorted_list= sorted(arr_temp)\n",
    "        \n",
    "        rank_dict = {}\n",
    "        \n",
    "        for i, num in enumerate(sorted_list):\n",
    "            rank_dict[num] = i + 1\n",
    "            \n",
    "        answer = [rank_dict[num] for num in arr]\n",
    "        \n",
    "        return answer"
   ]
  }
 ],
 "metadata": {
  "kernelspec": {
   "display_name": "Python 3",
   "language": "python",
   "name": "python3"
  },
  "language_info": {
   "codemirror_mode": {
    "name": "ipython",
    "version": 3
   },
   "file_extension": ".py",
   "mimetype": "text/x-python",
   "name": "python",
   "nbconvert_exporter": "python",
   "pygments_lexer": "ipython3",
   "version": "3.7.3"
  }
 },
 "nbformat": 4,
 "nbformat_minor": 2
}
