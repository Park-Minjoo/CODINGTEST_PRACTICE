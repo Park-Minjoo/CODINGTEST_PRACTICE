{
 "cells": [
  {
   "cell_type": "markdown",
   "metadata": {},
   "source": [
    "## 2021년 2월 22일 월요일\n",
    "### Programmers - 콜라츠 추측 (Python)\n",
    "### 문제 : https://programmers.co.kr/learn/courses/30/lessons/12943\n",
    "### 블로그 : https://somjang.tistory.com/entry/Programmers-%EC%BD%9C%EB%9D%BC%EC%B8%A0-%EC%B6%94%EC%B8%A1-Python"
   ]
  },
  {
   "cell_type": "markdown",
   "metadata": {},
   "source": [
    "### Solution 1"
   ]
  },
  {
   "cell_type": "code",
   "execution_count": null,
   "metadata": {},
   "outputs": [],
   "source": [
    "def solution(num):\n",
    "    answer = 0\n",
    "    \n",
    "    while True:\n",
    "        if num == 1:\n",
    "            break\n",
    "        if answer > 499:\n",
    "            answer = -1\n",
    "            break\n",
    "        \n",
    "        \n",
    "        if num % 2 == 0:\n",
    "            num = num / 2\n",
    "        elif num % 2 == 1:\n",
    "            num = num * 3 + 1\n",
    "            \n",
    "        answer = answer + 1\n",
    "    \n",
    "    return answer"
   ]
  }
 ],
 "metadata": {
  "kernelspec": {
   "display_name": "Python 3",
   "language": "python",
   "name": "python3"
  },
  "language_info": {
   "codemirror_mode": {
    "name": "ipython",
    "version": 3
   },
   "file_extension": ".py",
   "mimetype": "text/x-python",
   "name": "python",
   "nbconvert_exporter": "python",
   "pygments_lexer": "ipython3",
   "version": "3.7.3"
  }
 },
 "nbformat": 4,
 "nbformat_minor": 2
}
