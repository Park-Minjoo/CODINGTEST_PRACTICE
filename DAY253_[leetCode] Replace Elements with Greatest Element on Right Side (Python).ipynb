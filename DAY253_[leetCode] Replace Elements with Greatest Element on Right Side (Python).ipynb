{
 "cells": [
  {
   "cell_type": "markdown",
   "metadata": {},
   "source": [
    "## 2020년 11월 7일 토요일\n",
    "### leetCode - Replace Elements with Greatest Element on Right Side (Python)\n",
    "### 문제 : https://leetcode.com/problems/replace-elements-with-greatest-element-on-right-side/\n",
    "### 블로그 : https://somjang.tistory.com/entry/leetCode-1299-Replace-Elements-with-Greatest-Element-on-Right-Side-Python"
   ]
  },
  {
   "cell_type": "markdown",
   "metadata": {},
   "source": [
    "### 첫번째 시도"
   ]
  },
  {
   "cell_type": "code",
   "execution_count": null,
   "metadata": {},
   "outputs": [],
   "source": [
    "class Solution:\n",
    "    def replaceElements(self, arr: List[int]) -> List[int]:\n",
    "        answer = [0] * len(arr)\n",
    "        answer[-1] = -1\n",
    "        \n",
    "        for i in range(len(arr)-2, -1, -1):\n",
    "            answer[i] = max([answer[i+1], arr[i+1]])\n",
    "            \n",
    "        return answer"
   ]
  }
 ],
 "metadata": {
  "kernelspec": {
   "display_name": "Python 3",
   "language": "python",
   "name": "python3"
  },
  "language_info": {
   "codemirror_mode": {
    "name": "ipython",
    "version": 3
   },
   "file_extension": ".py",
   "mimetype": "text/x-python",
   "name": "python",
   "nbconvert_exporter": "python",
   "pygments_lexer": "ipython3",
   "version": "3.7.3"
  }
 },
 "nbformat": 4,
 "nbformat_minor": 2
}
