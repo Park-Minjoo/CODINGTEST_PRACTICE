{
 "cells": [
  {
   "cell_type": "markdown",
   "metadata": {},
   "source": [
    "## 2021년 4월 4일 일요일\n",
    "### BaekJoon - 나머지 (Python)\n",
    "### 문제 : https://www.acmicpc.net/problem/3052\n",
    "### 블로그 : https://somjang.tistory.com/entry/BaekJoon-3052%EB%B2%88-%EB%82%98%EB%A8%B8%EC%A7%80-Python"
   ]
  },
  {
   "cell_type": "markdown",
   "metadata": {},
   "source": [
    "### Solution 1"
   ]
  },
  {
   "cell_type": "code",
   "execution_count": 1,
   "metadata": {},
   "outputs": [],
   "source": [
    "numList = []\n",
    "\n",
    "for i in range(10):\n",
    "    inputNum = int(input())\n",
    "    \n",
    "    numList.append(inputNum % 42)\n",
    "    \n",
    "print(len(set(numList)))"
   ]
  }
 ],
 "metadata": {
  "kernelspec": {
   "display_name": "Python 3",
   "language": "python",
   "name": "python3"
  },
  "language_info": {
   "codemirror_mode": {
    "name": "ipython",
    "version": 3
   },
   "file_extension": ".py",
   "mimetype": "text/x-python",
   "name": "python",
   "nbconvert_exporter": "python",
   "pygments_lexer": "ipython3",
   "version": "3.7.3"
  }
 },
 "nbformat": 4,
 "nbformat_minor": 2
}
