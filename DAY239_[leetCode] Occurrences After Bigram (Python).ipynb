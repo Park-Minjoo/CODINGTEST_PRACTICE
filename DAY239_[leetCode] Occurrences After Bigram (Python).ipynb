{
 "cells": [
  {
   "cell_type": "markdown",
   "metadata": {},
   "source": [
    "## 2020년 10월 21일 수요일\n",
    "### leetCode - Occurrences After Bigram (Python)\n",
    "### 문제 : https://leetcode.com/problems/occurrences-after-bigram/\n",
    "### 블로그 : https://somjang.tistory.com/entry/leetCode-1078-Occurrences-After-Bigram-Python"
   ]
  },
  {
   "cell_type": "markdown",
   "metadata": {},
   "source": [
    "### 첫번째 시도"
   ]
  },
  {
   "cell_type": "code",
   "execution_count": null,
   "metadata": {},
   "outputs": [],
   "source": [
    "class Solution:\n",
    "    def findOcurrences(self, text: str, first: str, second: str) -> List[str]:\n",
    "        split_text = text.split(\" \")\n",
    "        \n",
    "        answer = []\n",
    "        \n",
    "        for i in range(2, len(split_text)):\n",
    "            if split_text[i-2] == first and split_text[i-1] == second:\n",
    "                answer.append(split_text[i])\n",
    "                \n",
    "        return answer"
   ]
  }
 ],
 "metadata": {
  "kernelspec": {
   "display_name": "Python 3",
   "language": "python",
   "name": "python3"
  },
  "language_info": {
   "codemirror_mode": {
    "name": "ipython",
    "version": 3
   },
   "file_extension": ".py",
   "mimetype": "text/x-python",
   "name": "python",
   "nbconvert_exporter": "python",
   "pygments_lexer": "ipython3",
   "version": "3.7.3"
  }
 },
 "nbformat": 4,
 "nbformat_minor": 2
}
