{
 "cells": [
  {
   "cell_type": "markdown",
   "metadata": {},
   "source": [
    "## 2020년 10월 12 월요일\n",
    "### leetCode - Base 7 (Python)\n",
    "### 문제 : https://leetcode.com/problems/base-7/\n",
    "### 블로그 : https://somjang.tistory.com/entry/leetCode-504-Base-7-Python"
   ]
  },
  {
   "cell_type": "markdown",
   "metadata": {},
   "source": [
    "### 첫번째 시도"
   ]
  },
  {
   "cell_type": "code",
   "execution_count": null,
   "metadata": {},
   "outputs": [],
   "source": [
    "class Solution:\n",
    "    def convertToBase7(self, num: int) -> str:\n",
    "        if num == 0:\n",
    "            return str(num)\n",
    "        \n",
    "        sign = 1 \n",
    "        if num < 0:\n",
    "            sign = -1\n",
    "            \n",
    "        num = abs(num)\n",
    "        answer = ''\n",
    "        \n",
    "        while num:\n",
    "            answer = str(num % 7) + answer\n",
    "            num //= 7\n",
    "            \n",
    "        return ('-' if sign < 0 else '') + answer"
   ]
  }
 ],
 "metadata": {
  "kernelspec": {
   "display_name": "Python 3",
   "language": "python",
   "name": "python3"
  },
  "language_info": {
   "codemirror_mode": {
    "name": "ipython",
    "version": 3
   },
   "file_extension": ".py",
   "mimetype": "text/x-python",
   "name": "python",
   "nbconvert_exporter": "python",
   "pygments_lexer": "ipython3",
   "version": "3.7.3"
  }
 },
 "nbformat": 4,
 "nbformat_minor": 2
}
