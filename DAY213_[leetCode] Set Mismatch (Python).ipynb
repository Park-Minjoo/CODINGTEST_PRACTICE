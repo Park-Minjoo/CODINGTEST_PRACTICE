{
 "cells": [
  {
   "cell_type": "markdown",
   "metadata": {},
   "source": [
    "## 2020년 9월 19일 토요일\n",
    "### leetCode - Set Mismatch (Python)\n",
    "### 문제 : https://leetcode.com/problems/set-mismatch/\n",
    "### 블로그 : https://somjang.tistory.com/entry/leetCode-645-Set-Mismatch-Python"
   ]
  },
  {
   "cell_type": "markdown",
   "metadata": {},
   "source": [
    "### 첫번째 시도"
   ]
  },
  {
   "cell_type": "code",
   "execution_count": null,
   "metadata": {},
   "outputs": [],
   "source": [
    "from collections import Counter\n",
    "\n",
    "class Solution:\n",
    "    def findErrorNums(self, nums: List[int]) -> List[int]:\n",
    "        cnt = Counter(nums)\n",
    "        \n",
    "        most_1 = cnt.most_common(1)[0][0]\n",
    "        \n",
    "        range_set = set(list(range(1, len(nums)+1)))\n",
    "        \n",
    "        num_set = set(nums)\n",
    "        \n",
    "        miss_num = range_set - num_set\n",
    "        \n",
    "        \n",
    "        if len(list(miss_num)) != 0:\n",
    "            miss_num = list(miss_num)[0]\n",
    "        \n",
    "        return [most_1, miss_num]"
   ]
  }
 ],
 "metadata": {
  "kernelspec": {
   "display_name": "Python 3",
   "language": "python",
   "name": "python3"
  },
  "language_info": {
   "codemirror_mode": {
    "name": "ipython",
    "version": 3
   },
   "file_extension": ".py",
   "mimetype": "text/x-python",
   "name": "python",
   "nbconvert_exporter": "python",
   "pygments_lexer": "ipython3",
   "version": "3.7.3"
  }
 },
 "nbformat": 4,
 "nbformat_minor": 2
}
