{
 "cells": [
  {
   "cell_type": "markdown",
   "metadata": {},
   "source": [
    "## 2020년 12월 22일 화요일\n",
    "### Programmers - 최고의 집합 (Python)\n",
    "### 문제 : https://programmers.co.kr/learn/courses/30/lessons/12938\n",
    "### 블로그 : https://somjang.tistory.com/entry/Programmers-%EC%B5%9C%EA%B3%A0%EC%9D%98-%EC%A7%91%ED%95%A9-Python"
   ]
  },
  {
   "cell_type": "markdown",
   "metadata": {},
   "source": [
    "### 첫번째 시도"
   ]
  },
  {
   "cell_type": "code",
   "execution_count": null,
   "metadata": {},
   "outputs": [],
   "source": [
    "def solution(n, s):\n",
    "    answer = []\n",
    "    \n",
    "    if s // n < 1:\n",
    "        answer = [-1]\n",
    "    else:\n",
    "        s_n = s // n\n",
    "        \n",
    "        for i in range(n):\n",
    "            answer.append(s_n)\n",
    "        s_p_n = s % n\n",
    "        \n",
    "        idx = len(answer) - 1\n",
    "        \n",
    "        for i in range(s_p_n):\n",
    "            answer[idx-i] = answer[idx-i] + 1\n",
    "    \n",
    "    return answer"
   ]
  }
 ],
 "metadata": {
  "kernelspec": {
   "display_name": "Python 3",
   "language": "python",
   "name": "python3"
  },
  "language_info": {
   "codemirror_mode": {
    "name": "ipython",
    "version": 3
   },
   "file_extension": ".py",
   "mimetype": "text/x-python",
   "name": "python",
   "nbconvert_exporter": "python",
   "pygments_lexer": "ipython3",
   "version": "3.7.3"
  }
 },
 "nbformat": 4,
 "nbformat_minor": 2
}
