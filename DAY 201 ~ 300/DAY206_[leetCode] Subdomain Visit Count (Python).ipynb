{
 "cells": [
  {
   "cell_type": "markdown",
   "metadata": {},
   "source": [
    "## 2020년 9월 12일 토요일\n",
    "### leetCode - Subdomain Visit Count (Python)\n",
    "### 문제 : https://leetcode.com/problems/subdomain-visit-count/\n",
    "### 블로그 : https://somjang.tistory.com/entry/leetCode-811-Subdomain-Visit-Count-Python"
   ]
  },
  {
   "cell_type": "markdown",
   "metadata": {},
   "source": [
    "### 첫번째 시도"
   ]
  },
  {
   "cell_type": "code",
   "execution_count": null,
   "metadata": {},
   "outputs": [],
   "source": [
    "class Solution:\n",
    "    def subdomainVisits(self, cpdomains: List[str]) -> List[str]:\n",
    "        domain_dict={}\n",
    "        \n",
    "        for domain in cpdomains:\n",
    "            domain=domain.replace(' ','.').split('.')\n",
    "            \n",
    "            for i in range(1,len(domain)):\n",
    "                sub_domain = '.'.join(domain[i:])\n",
    "                \n",
    "                domain_dict[sub_domain] = domain_dict.get(sub_domain,0)+int(domain[0])\n",
    "        \n",
    "        answer = [' '.join([str(val),key]) for key ,val in domain_dict.items()]\n",
    "        \n",
    "        return answer"
   ]
  }
 ],
 "metadata": {
  "kernelspec": {
   "display_name": "Python 3",
   "language": "python",
   "name": "python3"
  },
  "language_info": {
   "codemirror_mode": {
    "name": "ipython",
    "version": 3
   },
   "file_extension": ".py",
   "mimetype": "text/x-python",
   "name": "python",
   "nbconvert_exporter": "python",
   "pygments_lexer": "ipython3",
   "version": "3.7.3"
  }
 },
 "nbformat": 4,
 "nbformat_minor": 2
}
