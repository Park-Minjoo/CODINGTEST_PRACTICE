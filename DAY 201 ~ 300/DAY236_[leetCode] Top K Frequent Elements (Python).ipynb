{
 "cells": [
  {
   "cell_type": "markdown",
   "metadata": {},
   "source": [
    "## 2020년 10월 14일 수요일\n",
    "### leetCode - Top K Frequent Elements (Python)\n",
    "### 문제 : https://leetcode.com/problems/top-k-frequent-elements/\n",
    "### 블로그 : https://somjang.tistory.com/entry/leetCode-347-Top-K-Frequent-Elements-Python"
   ]
  },
  {
   "cell_type": "markdown",
   "metadata": {},
   "source": [
    "### 첫번째 시도"
   ]
  },
  {
   "cell_type": "code",
   "execution_count": null,
   "metadata": {},
   "outputs": [],
   "source": [
    "from collections import Counter\n",
    "\n",
    "class Solution:\n",
    "    def topKFrequent(self, nums: List[int], k: int) -> List[int]:\n",
    "        cnt = Counter(nums)\n",
    "        \n",
    "        most_common_k = cnt.most_common(k)\n",
    "        \n",
    "        answer = [num[0] for num in most_common_k]\n",
    "        \n",
    "        return answer"
   ]
  }
 ],
 "metadata": {
  "kernelspec": {
   "display_name": "Python 3",
   "language": "python",
   "name": "python3"
  },
  "language_info": {
   "codemirror_mode": {
    "name": "ipython",
    "version": 3
   },
   "file_extension": ".py",
   "mimetype": "text/x-python",
   "name": "python",
   "nbconvert_exporter": "python",
   "pygments_lexer": "ipython3",
   "version": "3.7.3"
  }
 },
 "nbformat": 4,
 "nbformat_minor": 2
}
