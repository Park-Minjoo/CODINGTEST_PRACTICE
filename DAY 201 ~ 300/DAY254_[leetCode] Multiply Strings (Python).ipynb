{
 "cells": [
  {
   "cell_type": "markdown",
   "metadata": {},
   "source": [
    "## 2020년 11월 8일 일요일\n",
    "### leetCode - Multiply Strings (Python)\n",
    "### 문제 : https://leetcode.com/problems/multiply-strings/\n",
    "### 블로그 : https://somjang.tistory.com/entry/leetCode-43-Multiply-Strings-Python"
   ]
  },
  {
   "cell_type": "markdown",
   "metadata": {},
   "source": [
    "### 첫번째 시도"
   ]
  },
  {
   "cell_type": "code",
   "execution_count": null,
   "metadata": {},
   "outputs": [],
   "source": [
    "class Solution:\n",
    "    def make_num_from_chracter(self, string_num: str):\n",
    "        character_num_dict = {'0':0, '1':1, '2':2, '3':3, '4':4, '5':5, \n",
    "                              '6':6, '7':7, '8':8, '9':9}\n",
    "        \n",
    "        string_num_list = list(string_num)\n",
    "        \n",
    "        return_num = 0\n",
    "        \n",
    "        string_num_len = len(string_num)\n",
    "        print(string_num_len)\n",
    "        for i in range(string_num_len):\n",
    "            add_num = character_num_dict[string_num_list[string_num_len - 1 - i]] * pow(10, i)\n",
    "            \n",
    "            return_num = return_num + add_num\n",
    "            \n",
    "        return return_num\n",
    "        \n",
    "        \n",
    "    \n",
    "    def multiply(self, num1: str, num2: str) -> str:\n",
    "        number1 = self.make_num_from_chracter(num1)\n",
    "        number2 = self.make_num_from_chracter(num2)\n",
    "        \n",
    "        return str(number1 * number2)"
   ]
  }
 ],
 "metadata": {
  "kernelspec": {
   "display_name": "Python 3",
   "language": "python",
   "name": "python3"
  },
  "language_info": {
   "codemirror_mode": {
    "name": "ipython",
    "version": 3
   },
   "file_extension": ".py",
   "mimetype": "text/x-python",
   "name": "python",
   "nbconvert_exporter": "python",
   "pygments_lexer": "ipython3",
   "version": "3.7.3"
  }
 },
 "nbformat": 4,
 "nbformat_minor": 2
}
