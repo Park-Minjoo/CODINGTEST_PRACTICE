{
 "cells": [
  {
   "cell_type": "markdown",
   "metadata": {},
   "source": [
    "## 2020년 10월 9일 금요일\n",
    "### leetCode - Monotonic Array (Python)\n",
    "### 문제 : https://leetcode.com/problems/monotonic-array/\n",
    "### 블로그 : https://somjang.tistory.com/entry/leetCode-896-Monotonic-Array-Python"
   ]
  },
  {
   "cell_type": "markdown",
   "metadata": {},
   "source": [
    "### 첫번째 시도"
   ]
  },
  {
   "cell_type": "code",
   "execution_count": null,
   "metadata": {},
   "outputs": [],
   "source": [
    "class Solution:\n",
    "    def isMonotonic(self, A: List[int]) -> bool:\n",
    "        reverse_flag = False\n",
    "        \n",
    "        if max(A) == A[0]:\n",
    "            reverse_flag = True\n",
    "        \n",
    "        sorted_A = sorted(A, reverse=reverse_flag)\n",
    "        \n",
    "        if sorted_A == A:\n",
    "            return True\n",
    "        \n",
    "        return False"
   ]
  }
 ],
 "metadata": {
  "kernelspec": {
   "display_name": "Python 3",
   "language": "python",
   "name": "python3"
  },
  "language_info": {
   "codemirror_mode": {
    "name": "ipython",
    "version": 3
   },
   "file_extension": ".py",
   "mimetype": "text/x-python",
   "name": "python",
   "nbconvert_exporter": "python",
   "pygments_lexer": "ipython3",
   "version": "3.7.3"
  }
 },
 "nbformat": 4,
 "nbformat_minor": 2
}
