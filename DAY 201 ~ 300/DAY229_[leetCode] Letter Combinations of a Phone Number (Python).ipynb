{
 "cells": [
  {
   "cell_type": "markdown",
   "metadata": {},
   "source": [
    "## 2020년 10월 6일 화요일\n",
    "### leetCode - Letter Combinations of a Phone Number (Python)\n",
    "### 문제 : https://leetcode.com/problems/letter-combinations-of-a-phone-number/\n",
    "### 블로그 : https://somjang.tistory.com/entry/leetCode-17-Letter-Combinations-of-a-Phone-Number-Python"
   ]
  },
  {
   "cell_type": "markdown",
   "metadata": {},
   "source": [
    "### 첫번째 시도"
   ]
  },
  {
   "cell_type": "code",
   "execution_count": null,
   "metadata": {},
   "outputs": [],
   "source": [
    "from itertools import combinations\n",
    "\n",
    "class Solution:\n",
    "    def letterCombinations(self, digits: str) -> List[str]:\n",
    "        num2word = {\"2\":['a', 'b', 'c'], \"3\":['d', 'e', 'f'], \"4\":['g', 'h', 'i'], \"5\":['j', 'k', 'l'], \n",
    "                    \"6\":['m', 'n', 'o'], \"7\":['p', 'q', 'r', 's'], \"8\":['t', 'u', 'v'], \"9\":['w', 'x', 'y', 'z']}\n",
    "        \n",
    "        if digits == \"\":\n",
    "            return []\n",
    "        else:\n",
    "            digit_num_list = list(digits)\n",
    "            \n",
    "            if len(digit_num_list) == 1:\n",
    "                return num2word[digit_num_list[0]]\n",
    "            else:\n",
    "                word_list = [num2word[digit_num] for digit_num in digit_num_list]\n",
    "                \n",
    "                pre_list = word_list[0]\n",
    "                \n",
    "                post_lists = word_list[1:]\n",
    "                \n",
    "                \n",
    "                # print(\"pre_list : {}, post_lists : {}\".format(pre_list, post_lists))\n",
    "                \n",
    "                for post_list in post_lists:\n",
    "                    comb_list = self.make_combination_list(pre_list, post_list)\n",
    "                    \n",
    "                    pre_list = comb_list\n",
    "        # print(\"result : {}\".format(comb_list))\n",
    "                    \n",
    "        return comb_list\n",
    "                \n",
    "                \n",
    "    @classmethod\n",
    "    def make_combination_list(self, list1, list2):\n",
    "        my_comb = []\n",
    "        \n",
    "        # print(\"list1 : {}, list2: {}\".format(list1, list2))\n",
    "        \n",
    "        \n",
    "        for word1 in list1:\n",
    "            for word2 in list2:\n",
    "                my_comb.append(word1 + word2)\n",
    "                \n",
    "        return my_comb"
   ]
  }
 ],
 "metadata": {
  "kernelspec": {
   "display_name": "Python 3",
   "language": "python",
   "name": "python3"
  },
  "language_info": {
   "codemirror_mode": {
    "name": "ipython",
    "version": 3
   },
   "file_extension": ".py",
   "mimetype": "text/x-python",
   "name": "python",
   "nbconvert_exporter": "python",
   "pygments_lexer": "ipython3",
   "version": "3.6.10"
  }
 },
 "nbformat": 4,
 "nbformat_minor": 2
}
