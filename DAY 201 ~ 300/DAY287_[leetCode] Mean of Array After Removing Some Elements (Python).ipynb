{
 "cells": [
  {
   "cell_type": "markdown",
   "metadata": {},
   "source": [
    "## 2021년 1월 1일 금요일\n",
    "### leetCode - Mean of Array After Removing Some Elements (Python)\n",
    "### 문제 : https://leetcode.com/problems/mean-of-array-after-removing-some-elements/\n",
    "### 블로그 : https://somjang.tistory.com/entry/leetCode-1619-Mean-of-Array-After-Removing-Some-Elements-Python"
   ]
  },
  {
   "cell_type": "markdown",
   "metadata": {},
   "source": [
    "### 첫번째 시도"
   ]
  },
  {
   "cell_type": "code",
   "execution_count": null,
   "metadata": {},
   "outputs": [],
   "source": [
    "class Solution:\n",
    "    def trimMean(self, arr: List[int]) -> float:\n",
    "        sorted_arr = sorted(arr)\n",
    "        \n",
    "        five_percent = int(len(arr)*0.05)\n",
    "        \n",
    "        arr_len = len(arr)\n",
    "        \n",
    "        answer_arr = sorted_arr[five_percent:arr_len-five_percent]\n",
    "        \n",
    "        return sum(answer_arr) / len(answer_arr)"
   ]
  }
 ],
 "metadata": {
  "kernelspec": {
   "display_name": "Python 3",
   "language": "python",
   "name": "python3"
  },
  "language_info": {
   "codemirror_mode": {
    "name": "ipython",
    "version": 3
   },
   "file_extension": ".py",
   "mimetype": "text/x-python",
   "name": "python",
   "nbconvert_exporter": "python",
   "pygments_lexer": "ipython3",
   "version": "3.7.3"
  }
 },
 "nbformat": 4,
 "nbformat_minor": 2
}
