{
 "cells": [
  {
   "cell_type": "markdown",
   "metadata": {},
   "source": [
    "## 2021년 1월 17일 일요일\n",
    "### leetCode - 1-bit and 2-bit Characters (Python)\n",
    "### 문제 : https://leetcode.com/problems/1-bit-and-2-bit-characters/\n",
    "### 블로그 : https://somjang.tistory.com/entry/leetCode-717-1-bit-and-2-bit-Characters-Python"
   ]
  },
  {
   "cell_type": "markdown",
   "metadata": {},
   "source": [
    "### 첫번째 시도"
   ]
  },
  {
   "cell_type": "code",
   "execution_count": null,
   "metadata": {},
   "outputs": [],
   "source": [
    "class Solution:\n",
    "    def isOneBitCharacter(self, bits: List[int]) -> bool:\n",
    "        i = 0\n",
    "        \n",
    "        while i < len(bits)-1:\n",
    "            if bits[i] == 0:\n",
    "                i+=1\n",
    "            else:\n",
    "                i+=2\n",
    "        return i == len(bits)-1 "
   ]
  }
 ],
 "metadata": {
  "kernelspec": {
   "display_name": "Python 3",
   "language": "python",
   "name": "python3"
  },
  "language_info": {
   "codemirror_mode": {
    "name": "ipython",
    "version": 3
   },
   "file_extension": ".py",
   "mimetype": "text/x-python",
   "name": "python",
   "nbconvert_exporter": "python",
   "pygments_lexer": "ipython3",
   "version": "3.7.3"
  }
 },
 "nbformat": 4,
 "nbformat_minor": 2
}
