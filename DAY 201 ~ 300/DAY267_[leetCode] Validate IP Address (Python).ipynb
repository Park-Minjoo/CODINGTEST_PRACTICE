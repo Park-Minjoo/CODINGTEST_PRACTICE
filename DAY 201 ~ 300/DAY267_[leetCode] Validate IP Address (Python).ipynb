{
 "cells": [
  {
   "cell_type": "markdown",
   "metadata": {},
   "source": [
    "## 2020년 11월 22일 일요일\n",
    "### leetCode - Validate IP Address (Python)\n",
    "### 문제 : https://leetcode.com/problems/validate-ip-address/\n",
    "### 블로그 : https://somjang.tistory.com/entry/leetCode-468-Validate-IP-Address-Python"
   ]
  },
  {
   "cell_type": "markdown",
   "metadata": {},
   "source": [
    "### 첫번째 시도"
   ]
  },
  {
   "cell_type": "code",
   "execution_count": null,
   "metadata": {},
   "outputs": [],
   "source": [
    "class Solution:\n",
    "    def validIPAddress(self, IP: str) -> str:\n",
    "        def checkIPv4(IP):\n",
    "            ip_split = IP.split(\".\")\n",
    "\n",
    "            for ip in ip_split:\n",
    "                if len(ip) == 0 or len(ip) > 3 or  ip.isdigit() == False or (ip[0] == '0' and len(ip) != 1) or int(ip) > 255:\n",
    "                    return \"Neither\" \n",
    "            return 'IPv4'\n",
    "        \n",
    "        def checkIPv6(IP):\n",
    "            ip_split = IP.split(\":\")\n",
    "\n",
    "            for ip in ip_split:\n",
    "                if len(ip) == 0 or len(ip) > 4:\n",
    "                    return \"Neither\"\n",
    "                for c in ip:\n",
    "                     if c.lower() not in '0123456789abcdef':\n",
    "                        return \"Neither\" \n",
    "            return \"IPv6\"\n",
    "\n",
    "        \n",
    "        if len(IP.split(\".\"))-1 == 3:\n",
    "            return checkIPv4(IP)\n",
    "        elif len(IP.split(\":\"))-1 == 7:\n",
    "            return checkIPv6(IP)\n",
    "        \n",
    "        return \"Neither\""
   ]
  }
 ],
 "metadata": {
  "kernelspec": {
   "display_name": "Python 3",
   "language": "python",
   "name": "python3"
  },
  "language_info": {
   "codemirror_mode": {
    "name": "ipython",
    "version": 3
   },
   "file_extension": ".py",
   "mimetype": "text/x-python",
   "name": "python",
   "nbconvert_exporter": "python",
   "pygments_lexer": "ipython3",
   "version": "3.7.3"
  }
 },
 "nbformat": 4,
 "nbformat_minor": 2
}
