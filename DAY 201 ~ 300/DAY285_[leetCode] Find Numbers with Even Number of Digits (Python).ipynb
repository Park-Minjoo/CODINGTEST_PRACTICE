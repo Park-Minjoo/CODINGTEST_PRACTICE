{
 "cells": [
  {
   "cell_type": "markdown",
   "metadata": {},
   "source": [
    "## 2020년 12월 30일 수요일\n",
    "### leetCode - Find Numbers with Even Number of Digits (Python)\n",
    "### 문제 : https://leetcode.com/problems/find-numbers-with-even-number-of-digits/\n",
    "### 블로그 : https://somjang.tistory.com/entry/leetCode-1295-Find-Numbers-with-Even-Number-of-Digits-Python"
   ]
  },
  {
   "cell_type": "markdown",
   "metadata": {},
   "source": [
    "### 첫번째 시도"
   ]
  },
  {
   "cell_type": "code",
   "execution_count": null,
   "metadata": {},
   "outputs": [],
   "source": [
    "class Solution:\n",
    "    def findNumbers(self, nums: List[int]) -> int:\n",
    "        check_list = [len(str(num)) for num in nums if len(str(num)) % 2 == 0]\n",
    "        \n",
    "        return len(check_list)"
   ]
  }
 ],
 "metadata": {
  "kernelspec": {
   "display_name": "Python 3",
   "language": "python",
   "name": "python3"
  },
  "language_info": {
   "codemirror_mode": {
    "name": "ipython",
    "version": 3
   },
   "file_extension": ".py",
   "mimetype": "text/x-python",
   "name": "python",
   "nbconvert_exporter": "python",
   "pygments_lexer": "ipython3",
   "version": "3.7.3"
  }
 },
 "nbformat": 4,
 "nbformat_minor": 2
}
