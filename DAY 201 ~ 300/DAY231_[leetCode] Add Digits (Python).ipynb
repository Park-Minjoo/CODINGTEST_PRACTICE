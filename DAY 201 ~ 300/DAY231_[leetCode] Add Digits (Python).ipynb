{
 "cells": [
  {
   "cell_type": "markdown",
   "metadata": {},
   "source": [
    "## 2020년 10월 8일 목요일\n",
    "### leetCode - Add Digits (Python)\n",
    "### 문제 : https://leetcode.com/problems/add-digits/\n",
    "### 블로그 : https://somjang.tistory.com/entry/leetCode-258-Add-Digits-Python"
   ]
  },
  {
   "cell_type": "markdown",
   "metadata": {},
   "source": [
    "### 첫번째 시도"
   ]
  },
  {
   "cell_type": "code",
   "execution_count": null,
   "metadata": {},
   "outputs": [],
   "source": [
    "class Solution:\n",
    "    def addDigits(self, num: int) -> int:\n",
    "        while True:\n",
    "            if num // 10 < 1:\n",
    "                return num\n",
    "            \n",
    "            num_list = list(map(int, list(str(num))))\n",
    "            \n",
    "            sum_num = sum(num_list)\n",
    "            \n",
    "            num = sum_num"
   ]
  }
 ],
 "metadata": {
  "kernelspec": {
   "display_name": "Python 3",
   "language": "python",
   "name": "python3"
  },
  "language_info": {
   "codemirror_mode": {
    "name": "ipython",
    "version": 3
   },
   "file_extension": ".py",
   "mimetype": "text/x-python",
   "name": "python",
   "nbconvert_exporter": "python",
   "pygments_lexer": "ipython3",
   "version": "3.7.3"
  }
 },
 "nbformat": 4,
 "nbformat_minor": 2
}
