{
 "cells": [
  {
   "cell_type": "markdown",
   "metadata": {},
   "source": [
    "## 2020년 9월 18일 금요일\n",
    "### leetCode - Number of 1 Bits (Python)\n",
    "### 문제 : https://leetcode.com/problems/number-of-1-bits/\n",
    "### 블로그 : https://somjang.tistory.com/entry/leetCode-Number-of-1-Bits-Python"
   ]
  },
  {
   "cell_type": "markdown",
   "metadata": {},
   "source": [
    "### 첫번째 시도"
   ]
  },
  {
   "cell_type": "code",
   "execution_count": null,
   "metadata": {},
   "outputs": [],
   "source": [
    "from collections import Counter\n",
    "class Solution:\n",
    "    def hammingWeight(self, n: int) -> int:\n",
    "        str_n = str(bin(n))\n",
    "        cnt = Counter(str_n)\n",
    "        \n",
    "        if '1' in list(cnt.keys()):\n",
    "            answer = cnt['1']\n",
    "        else:\n",
    "            answer = 0\n",
    "        \n",
    "        return answer"
   ]
  }
 ],
 "metadata": {
  "kernelspec": {
   "display_name": "Python 3",
   "language": "python",
   "name": "python3"
  },
  "language_info": {
   "codemirror_mode": {
    "name": "ipython",
    "version": 3
   },
   "file_extension": ".py",
   "mimetype": "text/x-python",
   "name": "python",
   "nbconvert_exporter": "python",
   "pygments_lexer": "ipython3",
   "version": "3.7.3"
  }
 },
 "nbformat": 4,
 "nbformat_minor": 2
}
