{
 "cells": [
  {
   "cell_type": "markdown",
   "metadata": {},
   "source": [
    "## 2021년 1월 11일 월요일\n",
    "### leetCode - Custom Sort String (Python)\n",
    "### 문제 : https://leetcode.com/problems/custom-sort-string/\n",
    "### 블로그 : https://somjang.tistory.com/entry/leetCode-791-Custom-Sort-String-Python"
   ]
  },
  {
   "cell_type": "markdown",
   "metadata": {},
   "source": [
    "### 첫번째 시도"
   ]
  },
  {
   "cell_type": "code",
   "execution_count": null,
   "metadata": {},
   "outputs": [],
   "source": [
    "class Solution:\n",
    "    def customSortString(self, S: str, T: str) -> str:\n",
    "        answer_list = \"\"\n",
    "        \n",
    "        for s in S:\n",
    "            if s in T:\n",
    "                answer_list += s*T.count(s)\n",
    "        for t in T:\n",
    "            if t not in S:\n",
    "                answer_list += t\n",
    "\n",
    "                \n",
    "        return answer_list"
   ]
  }
 ],
 "metadata": {
  "kernelspec": {
   "display_name": "Python 3",
   "language": "python",
   "name": "python3"
  },
  "language_info": {
   "codemirror_mode": {
    "name": "ipython",
    "version": 3
   },
   "file_extension": ".py",
   "mimetype": "text/x-python",
   "name": "python",
   "nbconvert_exporter": "python",
   "pygments_lexer": "ipython3",
   "version": "3.7.3"
  }
 },
 "nbformat": 4,
 "nbformat_minor": 2
}
