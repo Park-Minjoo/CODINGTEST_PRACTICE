{
 "cells": [
  {
   "cell_type": "markdown",
   "metadata": {},
   "source": [
    "## 2020년 10월 28일 수요일\n",
    "### leetCode - Contains Duplicate II (Python)\n",
    "### 문제 : https://leetcode.com/problems/contains-duplicate-ii/\n",
    "### 블로그 : https://somjang.tistory.com/entry/leetCode-219-Contains-Duplicate-II-Python"
   ]
  },
  {
   "cell_type": "markdown",
   "metadata": {},
   "source": [
    "### 첫번째 시도"
   ]
  },
  {
   "cell_type": "code",
   "execution_count": null,
   "metadata": {},
   "outputs": [],
   "source": [
    "class Solution:\n",
    "    def containsNearbyDuplicate(self, nums: List[int], k: int) -> bool:\n",
    "        if len(list(set(nums))) == len(nums):\n",
    "            return False\n",
    "        \n",
    "        for i in range(len(nums)):\n",
    "            for j in range(1, k+1):\n",
    "                if i+j > len(nums) -1:\n",
    "                    continue\n",
    "                if nums[i] == nums[i+j]:\n",
    "                    return True\n",
    "                \n",
    "        return False"
   ]
  }
 ],
 "metadata": {
  "kernelspec": {
   "display_name": "Python 3",
   "language": "python",
   "name": "python3"
  },
  "language_info": {
   "codemirror_mode": {
    "name": "ipython",
    "version": 3
   },
   "file_extension": ".py",
   "mimetype": "text/x-python",
   "name": "python",
   "nbconvert_exporter": "python",
   "pygments_lexer": "ipython3",
   "version": "3.7.3"
  }
 },
 "nbformat": 4,
 "nbformat_minor": 2
}
