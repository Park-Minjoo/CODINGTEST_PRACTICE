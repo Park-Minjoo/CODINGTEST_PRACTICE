{
 "cells": [
  {
   "cell_type": "markdown",
   "metadata": {},
   "source": [
    "## 2021년 1월 8일 금요일\n",
    "### leetCode - Shortest Distance to a Chracter (Python)\n",
    "### 문제 : https://leetcode.com/problems/shortest-distance-to-a-character/\n",
    "### 블로그 : https://somjang.tistory.com/entry/leetCode-821-Shortest-Distance-to-a-Character-Python"
   ]
  },
  {
   "cell_type": "markdown",
   "metadata": {},
   "source": [
    "### 첫번째 시도"
   ]
  },
  {
   "cell_type": "code",
   "execution_count": null,
   "metadata": {},
   "outputs": [],
   "source": [
    "class Solution:\n",
    "    def shortestToChar(self, S: str, C: str) -> List[int]:\n",
    "        s_list = list(S)\n",
    "        \n",
    "        idx_list = []\n",
    "        \n",
    "        for i in range(len(s_list)):\n",
    "            if s_list[i] == C:\n",
    "                idx_list.append(i)\n",
    "                \n",
    "        \n",
    "        answer_list = []\n",
    "        \n",
    "        for i in range(len(s_list)):\n",
    "            temp = min([ abs(i-idx) for idx in idx_list ])\n",
    "            \n",
    "            answer_list.append(temp)\n",
    "            \n",
    "        return answer_list"
   ]
  }
 ],
 "metadata": {
  "kernelspec": {
   "display_name": "Python 3",
   "language": "python",
   "name": "python3"
  },
  "language_info": {
   "codemirror_mode": {
    "name": "ipython",
    "version": 3
   },
   "file_extension": ".py",
   "mimetype": "text/x-python",
   "name": "python",
   "nbconvert_exporter": "python",
   "pygments_lexer": "ipython3",
   "version": "3.7.3"
  }
 },
 "nbformat": 4,
 "nbformat_minor": 2
}
