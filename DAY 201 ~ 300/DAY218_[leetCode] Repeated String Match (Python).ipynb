{
 "cells": [
  {
   "cell_type": "markdown",
   "metadata": {},
   "source": [
    "## 2020년 9월 24일 목요일\n",
    "### leetCode - Repeated String Match (Python)\n",
    "### 문제 : https://leetcode.com/problems/repeated-string-match/\n",
    "### 블로그 : https://somjang.tistory.com/entry/leetCode-686-Repeated-String-Match-Python"
   ]
  },
  {
   "cell_type": "markdown",
   "metadata": {},
   "source": [
    "### 첫번째 시도"
   ]
  },
  {
   "cell_type": "code",
   "execution_count": null,
   "metadata": {},
   "outputs": [],
   "source": [
    "class Solution:\n",
    "    def repeatedStringMatch(self, A: str, B: str) -> int:\n",
    "        A_len = len(A)\n",
    "        B_len = len(B)\n",
    "        \n",
    "        answer = B_len // A_len + 2\n",
    "        temp = A * answer\n",
    "        if B not in temp:\n",
    "            return -1\n",
    "        while B in A * (answer-1):\n",
    "            answer = answer - 1\n",
    "        return answer"
   ]
  }
 ],
 "metadata": {
  "kernelspec": {
   "display_name": "Python 3",
   "language": "python",
   "name": "python3"
  },
  "language_info": {
   "codemirror_mode": {
    "name": "ipython",
    "version": 3
   },
   "file_extension": ".py",
   "mimetype": "text/x-python",
   "name": "python",
   "nbconvert_exporter": "python",
   "pygments_lexer": "ipython3",
   "version": "3.7.3"
  }
 },
 "nbformat": 4,
 "nbformat_minor": 2
}
