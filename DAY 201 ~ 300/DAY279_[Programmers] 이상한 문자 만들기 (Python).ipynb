{
 "cells": [
  {
   "cell_type": "markdown",
   "metadata": {},
   "source": [
    "## 2020년 12월 19일 토요일\n",
    "### Programmers - 이상한 문자 만들기 (Python)\n",
    "### 문제 : https://programmers.co.kr/learn/courses/30/lessons/12930\n",
    "### 블로그 : https://somjang.tistory.com/entry/Programmers-이상한-문자-만들기-Python"
   ]
  },
  {
   "cell_type": "markdown",
   "metadata": {},
   "source": [
    "### 첫번째 시도"
   ]
  },
  {
   "cell_type": "code",
   "execution_count": null,
   "metadata": {},
   "outputs": [],
   "source": [
    "def solution(s):\n",
    "    s_split = s.split(\" \")\n",
    "    \n",
    "    for k in range(len(s_split)):\n",
    "        s_list = list(s_split[k])\n",
    "\n",
    "        for i in range(len(s_list)):\n",
    "            if i % 2 == 0:\n",
    "                s_list[i] = s_list[i].upper()\n",
    "            elif i % 2 == 1:\n",
    "                s_list[i] = s_list[i].lower()\n",
    "        s_split[k] = \"\".join(s_list)\n",
    "        \n",
    "    answer = \" \".join(s_split)\n",
    "        \n",
    "        \n",
    "    return answer"
   ]
  }
 ],
 "metadata": {
  "kernelspec": {
   "display_name": "Python 3",
   "language": "python",
   "name": "python3"
  },
  "language_info": {
   "codemirror_mode": {
    "name": "ipython",
    "version": 3
   },
   "file_extension": ".py",
   "mimetype": "text/x-python",
   "name": "python",
   "nbconvert_exporter": "python",
   "pygments_lexer": "ipython3",
   "version": "3.7.3"
  }
 },
 "nbformat": 4,
 "nbformat_minor": 2
}
