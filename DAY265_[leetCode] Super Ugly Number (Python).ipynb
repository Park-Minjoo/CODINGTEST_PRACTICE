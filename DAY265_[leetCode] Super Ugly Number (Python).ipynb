{
 "cells": [
  {
   "cell_type": "markdown",
   "metadata": {},
   "source": [
    "## 2020년 11월 20일 금요일\n",
    "### leetCode - Super Ugly Number (Python)\n",
    "### 문제 : https://leetcode.com/problems/super-ugly-number/\n",
    "### 블로그 : https://somjang.tistory.com/entry/leetCode-313-Super-Ugly-Number-Python"
   ]
  },
  {
   "cell_type": "markdown",
   "metadata": {},
   "source": [
    "### 첫번째 시도"
   ]
  },
  {
   "cell_type": "code",
   "execution_count": null,
   "metadata": {},
   "outputs": [],
   "source": [
    "class Solution:\n",
    "    def nthSuperUglyNumber(self, n: int, primes: List[int]) -> int:\n",
    "        if n < 0:\n",
    "            return False\n",
    "        \n",
    "        t = len(primes) * [0]\n",
    "        res = [1]\n",
    "        while len(res) < n:\n",
    "            pow_num = pow(2, 32)\n",
    "            for i in range(len(primes)):\n",
    "                temp = res[t[i]] * primes[i]\n",
    "                if temp < pow_num:\n",
    "                    pow_num = temp\n",
    "            for j in range(len(primes)):\n",
    "                if pow_num == res[t[j]] * primes[j]:\n",
    "                    t[j] += 1\n",
    "            res.append(pow_num)\n",
    "        return res[-1]"
   ]
  }
 ],
 "metadata": {
  "kernelspec": {
   "display_name": "Python 3",
   "language": "python",
   "name": "python3"
  },
  "language_info": {
   "codemirror_mode": {
    "name": "ipython",
    "version": 3
   },
   "file_extension": ".py",
   "mimetype": "text/x-python",
   "name": "python",
   "nbconvert_exporter": "python",
   "pygments_lexer": "ipython3",
   "version": "3.7.3"
  }
 },
 "nbformat": 4,
 "nbformat_minor": 2
}
