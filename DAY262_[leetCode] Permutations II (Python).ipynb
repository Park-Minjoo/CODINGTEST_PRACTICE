{
 "cells": [
  {
   "cell_type": "markdown",
   "metadata": {},
   "source": [
    "## 2020년 11월 17일 화요일\n",
    "### leetCode - Permutations II (Python)\n",
    "### 문제 : https://leetcode.com/problems/permutations-ii/\n",
    "### 블로그 : https://somjang.tistory.com/entry/leetCode-47-Permutations-II-Python"
   ]
  },
  {
   "cell_type": "markdown",
   "metadata": {},
   "source": [
    "### 첫번째 시도"
   ]
  },
  {
   "cell_type": "code",
   "execution_count": null,
   "metadata": {},
   "outputs": [],
   "source": [
    "from itertools import permutations\n",
    "\n",
    "class Solution:\n",
    "    def permuteUnique(self, nums: List[int]) -> List[List[int]]:\n",
    "        answer = []\n",
    "        \n",
    "        permus = list(permutations(nums, len(nums)))\n",
    "        \n",
    "        for permu in permus:\n",
    "            if permu not in answer:\n",
    "                answer.append(permu)\n",
    "        \n",
    "        return answer"
   ]
  }
 ],
 "metadata": {
  "kernelspec": {
   "display_name": "Python 3",
   "language": "python",
   "name": "python3"
  },
  "language_info": {
   "codemirror_mode": {
    "name": "ipython",
    "version": 3
   },
   "file_extension": ".py",
   "mimetype": "text/x-python",
   "name": "python",
   "nbconvert_exporter": "python",
   "pygments_lexer": "ipython3",
   "version": "3.7.3"
  }
 },
 "nbformat": 4,
 "nbformat_minor": 2
}
