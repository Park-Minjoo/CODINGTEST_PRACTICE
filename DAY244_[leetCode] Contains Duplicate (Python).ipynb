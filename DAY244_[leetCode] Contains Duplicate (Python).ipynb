{
 "cells": [
  {
   "cell_type": "markdown",
   "metadata": {},
   "source": [
    "## 2020년 10월 26일 월요일\n",
    "### leetCode - Contains Duplicate (Python)\n",
    "### 문제 : https://leetcode.com/problems/contains-duplicate/\n",
    "### 블로그 : https://somjang.tistory.com/entry/leetCode-217-Contains-Duplicate-Python"
   ]
  },
  {
   "cell_type": "markdown",
   "metadata": {},
   "source": [
    "### 첫번째 시도"
   ]
  },
  {
   "cell_type": "code",
   "execution_count": null,
   "metadata": {},
   "outputs": [],
   "source": [
    "from collections import Counter\n",
    "\n",
    "class Solution:\n",
    "    def containsDuplicate(self, nums: List[int]) -> bool:\n",
    "        answer = False\n",
    "        cnt = [c[1] for c in list(Counter(nums).items()) if c[1] > 1]\n",
    "        \n",
    "        if len(cnt) > 0:\n",
    "            answer = True\n",
    "            \n",
    "        return answer"
   ]
  }
 ],
 "metadata": {
  "kernelspec": {
   "display_name": "Python 3",
   "language": "python",
   "name": "python3"
  },
  "language_info": {
   "codemirror_mode": {
    "name": "ipython",
    "version": 3
   },
   "file_extension": ".py",
   "mimetype": "text/x-python",
   "name": "python",
   "nbconvert_exporter": "python",
   "pygments_lexer": "ipython3",
   "version": "3.7.3"
  }
 },
 "nbformat": 4,
 "nbformat_minor": 2
}
