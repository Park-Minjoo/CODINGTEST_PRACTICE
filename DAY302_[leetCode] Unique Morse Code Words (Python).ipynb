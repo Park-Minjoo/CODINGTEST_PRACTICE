{
 "cells": [
  {
   "cell_type": "markdown",
   "metadata": {},
   "source": [
    "## 2021년 1월 24일 일요일\n",
    "### leetCode - Unique Morse Code Words (Python)\n",
    "### 문제 : https://leetcode.com/problems/unique-morse-code-words/\n",
    "### 블로그 : https://somjang.tistory.com/entry/leetCode-804-Unique-Morse-Code-Words-Python"
   ]
  },
  {
   "cell_type": "markdown",
   "metadata": {},
   "source": [
    "### 첫번째 시도"
   ]
  },
  {
   "cell_type": "code",
   "execution_count": null,
   "metadata": {},
   "outputs": [],
   "source": [
    "class Solution:\n",
    "    @staticmethod\n",
    "    def transformation(text):\n",
    "        morse_dict = {'a': '.-', 'b': '-...', 'c': '-.-.', 'd': '-..', 'e': '.', 'f': '..-.', 'g': '--.', 'h': '....', 'i': '..', 'j': '.---', 'k': '-.-', 'l': '.-..', 'm': '--', 'n': '-.', 'o': '---', 'p': '.--.', 'q': '--.-', 'r': '.-.', 's': '...', 't': '-', 'u': '..-', 'v': '...-', 'w': '.--', 'x': '-..-', 'y': '-.--', 'z': '--..'}\n",
    "        \n",
    "        char_list = list(text)\n",
    "        \n",
    "        temp = \"\"\n",
    "        \n",
    "        for char in char_list:\n",
    "            temp = temp + morse_dict[char]\n",
    "            \n",
    "        return temp\n",
    "    \n",
    "    \n",
    "    def uniqueMorseRepresentations(self, words: List[str]) -> int:\n",
    "        morse_list = []\n",
    "        \n",
    "        for word in words:\n",
    "            morse = self.transformation(word)\n",
    "            \n",
    "            morse_list.append(morse)\n",
    "            \n",
    "        set_morse = set(morse_list)\n",
    "        \n",
    "        return len(set_morse)"
   ]
  },
  {
   "cell_type": "markdown",
   "metadata": {},
   "source": [
    "### 두번째 시도"
   ]
  },
  {
   "cell_type": "code",
   "execution_count": null,
   "metadata": {},
   "outputs": [],
   "source": [
    "class Solution:\n",
    "    @staticmethod\n",
    "    def transformation(text):\n",
    "        morse_dict = {'a': '.-', 'b': '-...', 'c': '-.-.', 'd': '-..', 'e': '.', 'f': '..-.', 'g': '--.', 'h': '....', 'i': '..', 'j': '.---', 'k': '-.-', 'l': '.-..', 'm': '--', 'n': '-.', 'o': '---', 'p': '.--.', 'q': '--.-', 'r': '.-.', 's': '...', 't': '-', 'u': '..-', 'v': '...-', 'w': '.--', 'x': '-..-', 'y': '-.--', 'z': '--..'}\n",
    "        \n",
    "        char_list = list(text)\n",
    "        \n",
    "        temp = \"\"\n",
    "        \n",
    "        for char in char_list:\n",
    "            temp = temp + morse_dict[char]\n",
    "            \n",
    "        return temp\n",
    "    \n",
    "    \n",
    "    def uniqueMorseRepresentations(self, words: List[str]) -> int:\n",
    "        morse_list = []\n",
    "        \n",
    "        for word in words:\n",
    "            morse = self.transformation(word)\n",
    "            if morse not in morse_list:\n",
    "                morse_list.append(morse)\n",
    "        \n",
    "        return len(morse_list)"
   ]
  }
 ],
 "metadata": {
  "kernelspec": {
   "display_name": "Python 3",
   "language": "python",
   "name": "python3"
  },
  "language_info": {
   "codemirror_mode": {
    "name": "ipython",
    "version": 3
   },
   "file_extension": ".py",
   "mimetype": "text/x-python",
   "name": "python",
   "nbconvert_exporter": "python",
   "pygments_lexer": "ipython3",
   "version": "3.7.3"
  }
 },
 "nbformat": 4,
 "nbformat_minor": 2
}
