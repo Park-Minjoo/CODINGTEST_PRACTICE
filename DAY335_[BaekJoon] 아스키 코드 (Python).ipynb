{
 "cells": [
  {
   "cell_type": "markdown",
   "metadata": {},
   "source": [
    "## 2021년 4월 8일 목요일\n",
    "### BaekJoon - 아스키 코드 (Python)\n",
    "### 문제 : https://www.acmicpc.net/problem/11654\n",
    "### 블로그 : https://somjang.tistory.com/entry/BaekJoon-11654%EB%B2%88-%EC%95%84%EC%8A%A4%ED%82%A4-%EC%BD%94%EB%93%9C-Python"
   ]
  },
  {
   "cell_type": "markdown",
   "metadata": {},
   "source": [
    "### Solution 1"
   ]
  },
  {
   "cell_type": "code",
   "execution_count": 1,
   "metadata": {},
   "outputs": [],
   "source": [
    "inputChar = input()\n",
    "\n",
    "print(ord(inputChar))"
   ]
  }
 ],
 "metadata": {
  "kernelspec": {
   "display_name": "Python 3",
   "language": "python",
   "name": "python3"
  },
  "language_info": {
   "codemirror_mode": {
    "name": "ipython",
    "version": 3
   },
   "file_extension": ".py",
   "mimetype": "text/x-python",
   "name": "python",
   "nbconvert_exporter": "python",
   "pygments_lexer": "ipython3",
   "version": "3.7.3"
  }
 },
 "nbformat": 4,
 "nbformat_minor": 2
}
