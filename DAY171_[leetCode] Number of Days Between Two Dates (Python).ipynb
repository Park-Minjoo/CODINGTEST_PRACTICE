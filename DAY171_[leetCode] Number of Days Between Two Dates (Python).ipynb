{
 "cells": [
  {
   "cell_type": "markdown",
   "metadata": {},
   "source": [
    "## 2020년 7월 26일 일요일\n",
    "### leetCode - Number of Days Between Two Dates (Python)\n",
    "### 문제 : https://leetcode.com/problems/number-of-days-between-two-dates/\n",
    "### 블로그 : https://somjang.tistory.com/entry/leetCode-1360-Number-of-Days-Between-Two-Dates-Python"
   ]
  },
  {
   "cell_type": "markdown",
   "metadata": {},
   "source": [
    "### 첫번째 시도"
   ]
  },
  {
   "cell_type": "code",
   "execution_count": null,
   "metadata": {},
   "outputs": [],
   "source": [
    "import datetime\n",
    "\n",
    "class Solution:\n",
    "    def daysBetweenDates(self, date1: str, date2: str) -> int:\n",
    "        date_01 = datetime.datetime.strptime(date1, '%Y-%m-%d')\n",
    "        date_02 = datetime.datetime.strptime(date2, '%Y-%m-%d')\n",
    "        \n",
    "        answer = abs(date_01- date_02).days\n",
    "        \n",
    "        return answer"
   ]
  }
 ],
 "metadata": {
  "kernelspec": {
   "display_name": "Python 3",
   "language": "python",
   "name": "python3"
  },
  "language_info": {
   "codemirror_mode": {
    "name": "ipython",
    "version": 3
   },
   "file_extension": ".py",
   "mimetype": "text/x-python",
   "name": "python",
   "nbconvert_exporter": "python",
   "pygments_lexer": "ipython3",
   "version": "3.7.3"
  }
 },
 "nbformat": 4,
 "nbformat_minor": 2
}
