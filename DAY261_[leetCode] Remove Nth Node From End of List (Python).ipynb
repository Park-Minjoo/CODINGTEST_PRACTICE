{
 "cells": [
  {
   "cell_type": "markdown",
   "metadata": {},
   "source": [
    "## 2020년 11월 16일 월요일\n",
    "### leetCode - Remove Nth Node From End of List (Python)\n",
    "### 문제 : https://leetcode.com/problems/remove-nth-node-from-end-of-list/\n",
    "### 블로그 : https://somjang.tistory.com/entry/leetCode-19-Remove-Nth-Node-From-End-of-List-Python"
   ]
  },
  {
   "cell_type": "markdown",
   "metadata": {},
   "source": [
    "### 첫번째 시도"
   ]
  },
  {
   "cell_type": "code",
   "execution_count": null,
   "metadata": {},
   "outputs": [],
   "source": [
    "# Definition for singly-linked list.\n",
    "# class ListNode:\n",
    "#     def __init__(self, val=0, next=None):\n",
    "#         self.val = val\n",
    "#         self.next = next\n",
    "class Solution:\n",
    "    def removeNthFromEnd(self, head: ListNode, n: int) -> ListNode:\n",
    "        answerList = ListNode()\n",
    "        \n",
    "        answer = None\n",
    "        \n",
    "        linked_list = []\n",
    "        \n",
    "        cnt = 0\n",
    "        \n",
    "        \n",
    "        while True:\n",
    "            if head == None:\n",
    "                break\n",
    "                \n",
    "            value = head.val\n",
    "            \n",
    "            linked_list.append(value)\n",
    "            \n",
    "            head = head.next\n",
    "            \n",
    "        linked_list_len = len(linked_list)\n",
    "        \n",
    "        check_num = linked_list_len - n\n",
    "        \n",
    "        check_flag = False\n",
    "        \n",
    "\n",
    "        for i in range(len(linked_list)):\n",
    "            if i == check_num:\n",
    "                continue\n",
    "            elif check_flag == False:\n",
    "                answerList = ListNode(linked_list[i])\n",
    "                check_flag = True\n",
    "            else:\n",
    "                new_node = ListNode(linked_list[i])\n",
    "                currNode = answerList\n",
    "                while currNode.next != None:\n",
    "                    currNode = currNode.next\n",
    "                currNode.next = new_node\n",
    "        if check_flag == False:\n",
    "            return answerList.next\n",
    "                \n",
    "        return answerList"
   ]
  }
 ],
 "metadata": {
  "kernelspec": {
   "display_name": "Python 3",
   "language": "python",
   "name": "python3"
  },
  "language_info": {
   "codemirror_mode": {
    "name": "ipython",
    "version": 3
   },
   "file_extension": ".py",
   "mimetype": "text/x-python",
   "name": "python",
   "nbconvert_exporter": "python",
   "pygments_lexer": "ipython3",
   "version": "3.7.3"
  }
 },
 "nbformat": 4,
 "nbformat_minor": 2
}
