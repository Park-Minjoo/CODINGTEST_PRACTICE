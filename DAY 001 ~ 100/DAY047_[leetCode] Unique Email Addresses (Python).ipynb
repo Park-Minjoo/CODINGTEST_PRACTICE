{
 "cells": [
  {
   "cell_type": "markdown",
   "metadata": {},
   "source": [
    "## 2020년 3월 24일 화요일\n",
    "### leetCode - 929. Unique Email Addresses\n",
    "### 문제 :https://leetcode.com/problems/unique-email-addresses/\n",
    "### 블로그 :https://somjang.tistory.com/entry/leetCode-929-Unique-Email-Addresses-Python"
   ]
  },
  {
   "cell_type": "markdown",
   "metadata": {},
   "source": [
    "### 첫번째 시도"
   ]
  },
  {
   "cell_type": "code",
   "execution_count": null,
   "metadata": {},
   "outputs": [],
   "source": [
    "import re\n",
    "class Solution:\n",
    "    def numUniqueEmails(self, emails: List[str]) -> int:\n",
    "        unique_emails= []\n",
    "        for i in range(len(emails)):\n",
    "            email_front, email_end = emails[i].split('@')\n",
    "            print(email_front, email_end)\n",
    "            \n",
    "            email_front = email_front.replace(\".\", \"\")\n",
    "            print(email_front, email_end)\n",
    "            \n",
    "            \n",
    "            email_front_without_localname = email_front.split('+')[0]\n",
    "            \n",
    "            email_add = email_front_without_localname + '@' + email_end\n",
    "            \n",
    "            if email_add not in unique_emails:\n",
    "                unique_emails.append(email_add)\n",
    "            print(unique_emails)\n",
    "        return len(unique_emails)"
   ]
  },
  {
   "cell_type": "markdown",
   "metadata": {},
   "source": [
    "---"
   ]
  },
  {
   "cell_type": "markdown",
   "metadata": {},
   "source": [
    "### 두번째 시도"
   ]
  },
  {
   "cell_type": "code",
   "execution_count": null,
   "metadata": {},
   "outputs": [],
   "source": [
    "import re\n",
    "class Solution:\n",
    "    def numUniqueEmails(self, emails: List[str]) -> int:\n",
    "        unique_emails= []\n",
    "        for i in range(len(emails)):\n",
    "            email_regex = re.sub(r'[\\+].*[@]', '@', emails[i])\n",
    "            \n",
    "            email_front, email_end = email_regex.split('@')\n",
    "            \n",
    "            email_front = email_front.replace(\".\", \"\")\n",
    "            \n",
    "            \n",
    "            email_add = email_front + '@' + email_end\n",
    "            \n",
    "            if email_add not in unique_emails:\n",
    "                unique_emails.append(email_add)\n",
    "            print(unique_emails)\n",
    "        return len(unique_emails)"
   ]
  }
 ],
 "metadata": {
  "kernelspec": {
   "display_name": "Python 3",
   "language": "python",
   "name": "python3"
  },
  "language_info": {
   "codemirror_mode": {
    "name": "ipython",
    "version": 3
   },
   "file_extension": ".py",
   "mimetype": "text/x-python",
   "name": "python",
   "nbconvert_exporter": "python",
   "pygments_lexer": "ipython3",
   "version": "3.7.3"
  }
 },
 "nbformat": 4,
 "nbformat_minor": 2
}
