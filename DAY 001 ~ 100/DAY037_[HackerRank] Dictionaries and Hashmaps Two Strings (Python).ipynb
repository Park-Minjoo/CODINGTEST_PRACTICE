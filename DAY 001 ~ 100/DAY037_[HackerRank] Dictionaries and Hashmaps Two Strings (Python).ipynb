{
 "cells": [
  {
   "cell_type": "markdown",
   "metadata": {},
   "source": [
    "## 2020년 3월 14일 토요일\n",
    "### HackerRank - Dictionaries and Hashmaps : Two Strings\n",
    "### 문제 : https://www.hackerrank.com/challenges/two-strings/problem?h_l=interview&playlist_slugs%5B%5D=interview-preparation-kit&playlist_slugs%5B%5D=dictionaries-hashmaps\n",
    "### 블로그 : https://somjang.tistory.com/entry/HackerRank-Dictionaries-and-Hashmaps-Two-Strings-Python"
   ]
  },
  {
   "cell_type": "markdown",
   "metadata": {},
   "source": [
    "### 첫번째 시도"
   ]
  },
  {
   "cell_type": "code",
   "execution_count": 1,
   "metadata": {},
   "outputs": [],
   "source": [
    "#!/bin/python3\n",
    "\n",
    "import math\n",
    "import os\n",
    "import random\n",
    "import re\n",
    "import sys\n",
    "\n",
    "# Complete the twoStrings function below.\n",
    "def twoStrings(s1, s2):\n",
    "    answer = \"NO\"\n",
    "    s1_set = set(list(s1))\n",
    "    s2_set = set(list(s2))\n",
    "\n",
    "    intersection = s1_set.intersection(s2_set)\n",
    "\n",
    "    if len(intersection) != 0:\n",
    "        answer = \"YES\"\n",
    "\n",
    "    return answer"
   ]
  }
 ],
 "metadata": {
  "kernelspec": {
   "display_name": "Python 3",
   "language": "python",
   "name": "python3"
  },
  "language_info": {
   "codemirror_mode": {
    "name": "ipython",
    "version": 3
   },
   "file_extension": ".py",
   "mimetype": "text/x-python",
   "name": "python",
   "nbconvert_exporter": "python",
   "pygments_lexer": "ipython3",
   "version": "3.7.3"
  }
 },
 "nbformat": 4,
 "nbformat_minor": 2
}
