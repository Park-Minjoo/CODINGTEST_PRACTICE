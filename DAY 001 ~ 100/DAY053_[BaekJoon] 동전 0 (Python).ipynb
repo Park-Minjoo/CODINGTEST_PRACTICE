{
 "cells": [
  {
   "cell_type": "markdown",
   "metadata": {},
   "source": [
    "## 2020년 3월 30일 월요일\n",
    "### 백준 : 11047번 동전 0\n",
    "### 문제 : https://www.acmicpc.net/problem/11047\n",
    "### 블로그 : https://somjang.tistory.com/entry/BaeKJoon-11047%EB%B2%88-%EB%8F%99%EC%A0%84-0-Python"
   ]
  },
  {
   "cell_type": "markdown",
   "metadata": {},
   "source": [
    "### 첫번째 시도"
   ]
  },
  {
   "cell_type": "code",
   "execution_count": 4,
   "metadata": {},
   "outputs": [
    {
     "name": "stdout",
     "output_type": "stream",
     "text": [
      "10 4200\n",
      "1\n",
      "5\n",
      "10\n",
      "50\n",
      "100\n",
      "500\n",
      "1000\n",
      "5000\n",
      "10000\n",
      "50000\n",
      "6\n"
     ]
    }
   ],
   "source": [
    "N, K = map(int, input().split())\n",
    "\n",
    "coins = []\n",
    "\n",
    "for i in range(N):\n",
    "    coin = int(input())\n",
    "    \n",
    "    coins.append(coin)\n",
    "    \n",
    "index = N - 1    \n",
    "\n",
    "count = 0\n",
    "\n",
    "while K != 0:\n",
    "    if coins[index] <= K:\n",
    "        K = K - coins[index]\n",
    "        count = count + 1\n",
    "    elif coins[index] > K:\n",
    "        index = index - 1\n",
    "print(count)"
   ]
  },
  {
   "cell_type": "markdown",
   "metadata": {},
   "source": [
    "---"
   ]
  },
  {
   "cell_type": "markdown",
   "metadata": {},
   "source": [
    "### 두번째 시도"
   ]
  },
  {
   "cell_type": "code",
   "execution_count": null,
   "metadata": {},
   "outputs": [],
   "source": [
    "import sys\n",
    "\n",
    "N, K = map(int, input().split())\n",
    "\n",
    "coins = []\n",
    "\n",
    "for i in range(N):\n",
    "    coin = int(sys.stdin.readline())\n",
    "    \n",
    "    coins.append(coin)\n",
    "    \n",
    "index = N - 1    \n",
    "\n",
    "count = 0\n",
    "\n",
    "while K != 0:\n",
    "    if coins[index] <= K:\n",
    "        K = K - coins[index]\n",
    "        count = count + 1\n",
    "    elif coins[index] > K:\n",
    "        index = index - 1\n",
    "print(count)"
   ]
  }
 ],
 "metadata": {
  "kernelspec": {
   "display_name": "Python 3",
   "language": "python",
   "name": "python3"
  },
  "language_info": {
   "codemirror_mode": {
    "name": "ipython",
    "version": 3
   },
   "file_extension": ".py",
   "mimetype": "text/x-python",
   "name": "python",
   "nbconvert_exporter": "python",
   "pygments_lexer": "ipython3",
   "version": "3.7.3"
  }
 },
 "nbformat": 4,
 "nbformat_minor": 2
}
