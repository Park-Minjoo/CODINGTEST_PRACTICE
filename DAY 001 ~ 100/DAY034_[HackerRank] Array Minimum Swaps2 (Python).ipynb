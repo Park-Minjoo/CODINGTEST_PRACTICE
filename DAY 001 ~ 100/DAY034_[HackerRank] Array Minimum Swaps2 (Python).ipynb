{
 "cells": [
  {
   "cell_type": "markdown",
   "metadata": {},
   "source": [
    "## 2020년 3월 11일 수요일\n",
    "### HackerRank : Array - Minimum Swaps 2\n",
    "### 문제 : https://www.hackerrank.com/challenges/minimum-swaps-2/problem?h_l=interview&playlist_slugs%5B%5D=interview-preparation-kit&playlist_slugs%5B%5D=arrays\n",
    "### 블로그 :https://somjang.tistory.com/entry/HackerRank-Array-Minimum-Swaps-2-Python"
   ]
  },
  {
   "cell_type": "markdown",
   "metadata": {},
   "source": [
    "### 첫번째 시도"
   ]
  },
  {
   "cell_type": "code",
   "execution_count": 1,
   "metadata": {},
   "outputs": [],
   "source": [
    "#!/bin/python3\n",
    "\n",
    "import math\n",
    "import os\n",
    "import random\n",
    "import re\n",
    "import sys\n",
    "\n",
    "# Complete the minimumSwaps function below.\n",
    "def minimumSwaps(arr):\n",
    "    sorted_arr = sorted(arr)\n",
    "    answer = 0\n",
    "\n",
    "    for i in range(len(arr)-1):\n",
    "        min_num = min(arr[i+1:])\n",
    "        if sorted_arr == arr:\n",
    "            break\n",
    "        if arr[i] > min_num:\n",
    "            index = arr.index(min_num)\n",
    "            temp = arr[i]\n",
    "            arr[i] = arr[index]\n",
    "            arr[index] = temp\n",
    "            answer = answer + 1\n",
    "    return answer"
   ]
  },
  {
   "cell_type": "markdown",
   "metadata": {},
   "source": [
    "---"
   ]
  },
  {
   "cell_type": "markdown",
   "metadata": {},
   "source": [
    "### 두번째 시도"
   ]
  },
  {
   "cell_type": "code",
   "execution_count": 2,
   "metadata": {},
   "outputs": [],
   "source": [
    "#!/bin/python3\n",
    "\n",
    "import math\n",
    "import os\n",
    "import random\n",
    "import re\n",
    "import sys\n",
    "\n",
    "# Complete the minimumSwaps function below.\n",
    "def minimumSwaps(arr):\n",
    "    answer = 0\n",
    "\n",
    "    for i in range(len(arr)):\n",
    "        while(arr[i] != i+1):\n",
    "            temp = arr[i]\n",
    "            arr[i] = arr[temp-1]\n",
    "            arr[temp-1] = temp\n",
    "            answer = answer + 1\n",
    "    return answer"
   ]
  }
 ],
 "metadata": {
  "kernelspec": {
   "display_name": "Python 3",
   "language": "python",
   "name": "python3"
  },
  "language_info": {
   "codemirror_mode": {
    "name": "ipython",
    "version": 3
   },
   "file_extension": ".py",
   "mimetype": "text/x-python",
   "name": "python",
   "nbconvert_exporter": "python",
   "pygments_lexer": "ipython3",
   "version": "3.7.3"
  }
 },
 "nbformat": 4,
 "nbformat_minor": 2
}
