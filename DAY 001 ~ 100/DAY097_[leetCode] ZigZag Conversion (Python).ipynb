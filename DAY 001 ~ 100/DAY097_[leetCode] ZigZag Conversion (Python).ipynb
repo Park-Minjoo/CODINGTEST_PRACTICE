{
 "cells": [
  {
   "cell_type": "markdown",
   "metadata": {},
   "source": [
    "## 2020년 5월 13일 수요일\n",
    "### leetCode -ZigZag Conversion\n",
    "### 문제 : https://leetcode.com/problems/zigzag-conversion/\n",
    "### 블로그 : https://somjang.tistory.com/entry/leetCode-6-ZigZag-Conversion-Python"
   ]
  },
  {
   "cell_type": "markdown",
   "metadata": {},
   "source": [
    "### 첫번째 시도"
   ]
  },
  {
   "cell_type": "code",
   "execution_count": 1,
   "metadata": {},
   "outputs": [],
   "source": [
    "class Solution:\n",
    "    def convert(self, s: str, numRows: int) -> str:\n",
    "        max_interval = 2 * (numRows - 1)\n",
    "        \n",
    "        string_len = len(s)\n",
    "        \n",
    "        string_list = list(s)\n",
    "        \n",
    "        new_string = []\n",
    "        \n",
    "        if string_len == 1 or numRows == 1:\n",
    "            answer = s\n",
    "        else:\n",
    "            for i in range(numRows):\n",
    "                index_num = i\n",
    "\n",
    "                if (i == 0) or (i == numRows - 1):\n",
    "                    while True:\n",
    "                        if index_num > string_len-1:\n",
    "                            break\n",
    "                        new_string.append(string_list[index_num])\n",
    "                        index_num = index_num + max_interval\n",
    "\n",
    "                else:\n",
    "                    interval_first = 2 * (numRows - 1 - i)\n",
    "                    interval_second = max_interval - interval_first\n",
    "\n",
    "                    count = 0\n",
    "\n",
    "                    while True:\n",
    "                        if index_num > string_len-1:\n",
    "                            break\n",
    "\n",
    "                        new_string.append(string_list[index_num])\n",
    "\n",
    "                        if count % 2 == 0:\n",
    "                            index_num = index_num + interval_first\n",
    "                        elif count % 2 == 1:\n",
    "                            index_num = index_num + interval_second\n",
    "\n",
    "                        count = count + 1\n",
    "\n",
    "            answer = ''.join(new_string)\n",
    "        \n",
    "        return answer"
   ]
  }
 ],
 "metadata": {
  "kernelspec": {
   "display_name": "Python 3",
   "language": "python",
   "name": "python3"
  },
  "language_info": {
   "codemirror_mode": {
    "name": "ipython",
    "version": 3
   },
   "file_extension": ".py",
   "mimetype": "text/x-python",
   "name": "python",
   "nbconvert_exporter": "python",
   "pygments_lexer": "ipython3",
   "version": "3.7.3"
  }
 },
 "nbformat": 4,
 "nbformat_minor": 2
}
