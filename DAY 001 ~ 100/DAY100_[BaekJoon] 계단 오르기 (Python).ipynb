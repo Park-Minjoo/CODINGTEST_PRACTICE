{
 "cells": [
  {
   "cell_type": "markdown",
   "metadata": {},
   "source": [
    "## 2020년 5월 16일 토요일\n",
    "### BaekJoon - 2579 : 계단 오르기\n",
    "### 문제 : https://www.acmicpc.net/problem/2579\n",
    "### 블로그 : https://somjang.tistory.com/entry/BaekJoon-2579%EB%B2%88-%EA%B3%84%EB%8B%A8-%EC%98%A4%EB%A5%B4%EA%B8%B0-Python"
   ]
  },
  {
   "cell_type": "markdown",
   "metadata": {},
   "source": [
    "### 첫번째 시도"
   ]
  },
  {
   "cell_type": "code",
   "execution_count": 1,
   "metadata": {},
   "outputs": [],
   "source": [
    "inputNum = int(input())\n",
    "\n",
    "stairScores = []\n",
    "\n",
    "for i in range(inputNum):\n",
    "    inputScore = int(input())\n",
    "    stairScores.append(inputScore)\n",
    "    \n",
    "maxScore = [0] * inputNum\n",
    "\n",
    "for i in range(inputNum):\n",
    "    if i == 0:\n",
    "        maxScore[0] = stairScores[i]\n",
    "        continue\n",
    "    elif i == 1:\n",
    "        maxScore[1] = stairScores[0] + stairScores[1]\n",
    "        continue\n",
    "    elif i == 2:\n",
    "        maxScore[2] = max(stairScores[0], stairScores[1]) + stairScores[2]\n",
    "        continue\n",
    "    maxScore[i] = max(maxScore[i-3] + stairScores[i-1], maxScore[i-2]) + stairScores[i]\n",
    "    \n",
    "print(maxScore[-1])"
   ]
  }
 ],
 "metadata": {
  "kernelspec": {
   "display_name": "Python 3",
   "language": "python",
   "name": "python3"
  },
  "language_info": {
   "codemirror_mode": {
    "name": "ipython",
    "version": 3
   },
   "file_extension": ".py",
   "mimetype": "text/x-python",
   "name": "python",
   "nbconvert_exporter": "python",
   "pygments_lexer": "ipython3",
   "version": "3.7.3"
  }
 },
 "nbformat": 4,
 "nbformat_minor": 2
}
