{
 "cells": [
  {
   "cell_type": "markdown",
   "metadata": {},
   "source": [
    "## 2020년 2월 20일 목요일\n",
    "### leetCode - Reverse Integer\n",
    "### 문제 : https://leetcode.com/problems/reverse-integer/\n",
    "### 블로그 : https://ideans.tistory.com/54"
   ]
  },
  {
   "cell_type": "code",
   "execution_count": 1,
   "metadata": {},
   "outputs": [],
   "source": [
    "class Solution:\n",
    "    def reverse(self, input_num: int) -> int:\n",
    "        input_num_str = str(input_num)\n",
    "        input_num_str = list(input_num_str)\n",
    "\n",
    "        if input_num_str[0] == '-':\n",
    "            input_num_str_new = input_num_str[1:]\n",
    "            input_num_str_new = reversed(input_num_str_new)\n",
    "            input_num_str_new = ''.join(input_num_str_new)\n",
    "            answer = '-' + input_num_str_new\n",
    "\n",
    "        else:\n",
    "            input_num_str = reversed(input_num_str)\n",
    "            answer = ''.join(input_num_str)\n",
    "            \n",
    "        if int(answer) > 2 ** 31 or int(answer) < (-2) ** 31:\n",
    "            return 0\n",
    "        else:\n",
    "            return int(answer)"
   ]
  }
 ],
 "metadata": {
  "kernelspec": {
   "display_name": "Python 3",
   "language": "python",
   "name": "python3"
  },
  "language_info": {
   "codemirror_mode": {
    "name": "ipython",
    "version": 3
   },
   "file_extension": ".py",
   "mimetype": "text/x-python",
   "name": "python",
   "nbconvert_exporter": "python",
   "pygments_lexer": "ipython3",
   "version": "3.7.3"
  }
 },
 "nbformat": 4,
 "nbformat_minor": 2
}
