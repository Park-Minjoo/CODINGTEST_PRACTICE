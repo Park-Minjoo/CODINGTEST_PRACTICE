{
 "cells": [
  {
   "cell_type": "markdown",
   "metadata": {},
   "source": [
    "## 2020년 2월 28일 금요일\n",
    "### 프로그래머스 완전탐색: 소수찾기\n",
    "### 문제 : https://programmers.co.kr/learn/courses/30/lessons/42839\n",
    "### 블로그 : https://somjang.tistory.com/entry/Programmers-%EC%99%84%EC%A0%84%ED%83%90%EC%83%89-%EC%86%8C%EC%88%98-%EC%B0%BE%EA%B8%B0-Python"
   ]
  },
  {
   "cell_type": "markdown",
   "metadata": {},
   "source": [
    "### 첫번째 시도"
   ]
  },
  {
   "cell_type": "code",
   "execution_count": 63,
   "metadata": {},
   "outputs": [],
   "source": [
    "from itertools import permutations\n",
    "\n",
    "def getPrimaryNum_Eratos(N): \n",
    "    nums = [True] * (N + 1) \n",
    "    for i in range(2, len(nums) // 2 + 1): \n",
    "        if nums[i] == True: \n",
    "            for j in range(i+i, N, i): \n",
    "                nums[j] = False \n",
    "    return [i for i in range(2, N) if nums[i] == True]\n",
    "\n",
    "\n",
    "\n",
    "def solution(numbers):\n",
    "    answer = 0\n",
    "    \n",
    "    num_list = list(numbers)\n",
    "#     print(num_list)\n",
    "    \n",
    "    new_comb_list = []\n",
    "    \n",
    "    for i in range(1, len(num_list)+1):\n",
    "        comb_list = list(permutations(numbers, i))\n",
    "        \n",
    "        for j in range(len(comb_list)):\n",
    "#             print(comb_list[j])\n",
    "            new_comb_list.append(int(''.join(comb_list[j])))\n",
    "    \n",
    "    new_comb_list = list(set(new_comb_list))\n",
    "    \n",
    "#     print(new_comb_list)\n",
    "    \n",
    "    max_num = max(new_comb_list)\n",
    "    \n",
    "    sosu_list = getPrimaryNum_Eratos(max_num+1)\n",
    "    \n",
    "#     print(sosu_list)\n",
    "    \n",
    "    for i in range(len(new_comb_list)):\n",
    "        if new_comb_list[i] in sosu_list:\n",
    "            answer = answer + 1\n",
    "    \n",
    "    \n",
    "            \n",
    "        \n",
    "    \n",
    "    return answer"
   ]
  },
  {
   "cell_type": "code",
   "execution_count": 64,
   "metadata": {},
   "outputs": [
    {
     "data": {
      "text/plain": [
       "2"
      ]
     },
     "execution_count": 64,
     "metadata": {},
     "output_type": "execute_result"
    }
   ],
   "source": [
    "solution(\"011\")"
   ]
  }
 ],
 "metadata": {
  "kernelspec": {
   "display_name": "Python 3",
   "language": "python",
   "name": "python3"
  },
  "language_info": {
   "codemirror_mode": {
    "name": "ipython",
    "version": 3
   },
   "file_extension": ".py",
   "mimetype": "text/x-python",
   "name": "python",
   "nbconvert_exporter": "python",
   "pygments_lexer": "ipython3",
   "version": "3.7.3"
  }
 },
 "nbformat": 4,
 "nbformat_minor": 2
}
