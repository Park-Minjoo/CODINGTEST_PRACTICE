{
 "cells": [
  {
   "cell_type": "markdown",
   "metadata": {},
   "source": [
    "## 2020년 2월 6일 금요일\n",
    "### 백준 6588번: 골드바흐의 추측문제\n",
    "### 문제 : https://www.acmicpc.net/problem/6588\n",
    "### 블로그 : https://somjang.tistory.com/entry/BaeKJoon-6588%EB%B2%88-%EA%B3%A8%EB%93%9C%EB%B0%94%ED%9D%90%EC%9D%98-%EC%B6%94%EC%B8%A1-%EB%AC%B8%EC%A0%9C-%ED%92%80%EC%9D%B4"
   ]
  },
  {
   "cell_type": "markdown",
   "metadata": {},
   "source": [
    "### 첫번째 시도\n",
    "먼저 입력 받은 수보다 작은 소수를 모두 구하고 가장 큰 소수와 가장 작은 소수와 더한 값이\n",
    "입력받은 값이 나올때 그 두개의 값을 가지고 출력값을 만드는 것을 생각해보았습니다."
   ]
  },
  {
   "cell_type": "markdown",
   "metadata": {},
   "source": [
    "#### 입력받은 수 까지 존재하는 소수를 구하는 함수"
   ]
  },
  {
   "cell_type": "code",
   "execution_count": 1,
   "metadata": {},
   "outputs": [],
   "source": [
    "def getPrimaryNums(N):\n",
    "    a = [2, 3, 5]\n",
    "    for i in range(6, N):\n",
    "        if i % 2 != 0 and i % 3 != 0 and i % 5 != 0:\n",
    "            a.append(i)\n",
    "    return a"
   ]
  },
  {
   "cell_type": "code",
   "execution_count": 3,
   "metadata": {},
   "outputs": [
    {
     "name": "stdout",
     "output_type": "stream",
     "text": [
      "8\n",
      "8 = 3 + 5\n",
      "10\n",
      "10 = 3 + 7\n",
      "20\n",
      "20 = 3 + 17\n",
      "30\n",
      "30 = 7 + 23\n",
      "50\n",
      "50 = 3 + 47\n",
      "100\n",
      "100 = 3 + 97\n",
      "0\n"
     ]
    }
   ],
   "source": [
    "while(True):\n",
    "    N = int(input())\n",
    "    \n",
    "    if N == 0:\n",
    "        break\n",
    "\n",
    "    primary_nums = getPrimaryNums(N)\n",
    "\n",
    "    primary_nums_len = len(primary_nums)\n",
    "\n",
    "    break_flag = False\n",
    "\n",
    "    for i in primary_nums[::-1]:\n",
    "        if break_flag == True:\n",
    "            break\n",
    "        for j in range(len(primary_nums)):\n",
    "            if N == (i + primary_nums[j]):\n",
    "                print(\"{} = {} + {}\".format(N, primary_nums[j], i))\n",
    "                break_flag=True\n",
    "                \n",
    "    if break_flag == False:\n",
    "        print(\"Goldbach's conjecture is wrong.\")\n",
    "\n",
    "\n",
    "    "
   ]
  },
  {
   "cell_type": "markdown",
   "metadata": {},
   "source": [
    "각각 입력받은 값에 대해서 가장 큰 값과 가장 작은 값을 더해보며 값이 나올경우\n",
    "\n",
    "출력 후 break_flag를 True로 변경하여 반복문을 중단하였습니다.\n",
    "\n",
    " \n",
    "\n",
    "만약 반복문이 종료가 되었는데도 원하는 조건의 값이 없을때 break_flag가 False일 경우\n",
    "\n",
    "Goldbach의 추측은 틀렸다라고 출력해주도록 하였습니다."
   ]
  },
  {
   "cell_type": "markdown",
   "metadata": {},
   "source": [
    "시간초과로 통과를 하지 못하였습니다.\n",
    "\n",
    " \n",
    "\n",
    "생각해보니 GoldBach의 추측이 틀렸을 경우 이중 반복문이 끝까지 실행되어\n",
    "\n",
    "O(N²)의 시간복잡도를 가지게 됩니다."
   ]
  },
  {
   "cell_type": "markdown",
   "metadata": {},
   "source": [
    "---"
   ]
  },
  {
   "cell_type": "markdown",
   "metadata": {},
   "source": [
    "### 두번째 시도\n",
    "입력받은 N 이하의 모든 소수를 구하고\n",
    "combination 라이브러리를 활용하여 N이하의 소수 두 개로 만들 수 있는 조합을 만들고\n",
    "그 조합중에서 두 수의 합이 N인 것을 찾은 뒤\n",
    "두 수의 차가 가장 큰 조합을 찾아 출력까지 해주는 방법을 생각해 보았습니다."
   ]
  },
  {
   "cell_type": "code",
   "execution_count": 9,
   "metadata": {},
   "outputs": [
    {
     "name": "stdout",
     "output_type": "stream",
     "text": [
      "1000\n",
      "1000 = 3 + 997\n",
      "999\n",
      "999 = 2 + 997\n",
      "0\n"
     ]
    }
   ],
   "source": [
    "from itertools import combinations\n",
    "\n",
    "while(True):\n",
    "    N = int(input())\n",
    "    if N == 0:\n",
    "        break\n",
    "    primary_nums = getPrimaryNums(N)\n",
    "\n",
    "    combs = list(combinations(primary_nums, 2))\n",
    "\n",
    "    new_combs = []\n",
    "\n",
    "    for comb in combs:\n",
    "        if sum(comb) == N:\n",
    "            new_combs.append(comb)\n",
    "\n",
    "    sub = []\n",
    "\n",
    "    for comb in new_combs:\n",
    "        sub.append(comb[1] - comb[0])\n",
    "\n",
    "    max_sub = max(sub)\n",
    "\n",
    "    for i in range(len(new_combs)):\n",
    "        if max_sub == sub[i]:\n",
    "            print(\"{} = {} + {}\".format(N, new_combs[i][0], new_combs[i][1]))"
   ]
  },
  {
   "cell_type": "markdown",
   "metadata": {},
   "source": [
    "결과가 나오기는 하나 테스트에서 1,000,000을 입력하게 되면...\n",
    "\n",
    "너무 많은 조합을 만들게되어 메모리를 많이 점유하는 문제가 발생했습니다.\n",
    "\n",
    "역시나 시간초과!"
   ]
  },
  {
   "cell_type": "markdown",
   "metadata": {},
   "source": [
    "---"
   ]
  },
  {
   "cell_type": "markdown",
   "metadata": {},
   "source": [
    "### 세번째 시도\n",
    "에라토스테네스의 체의 방법을 쓰면 해결할 수 있다고하여 먼저 에라토스테네스의 체의 방법 문제를 풀어보았습니다."
   ]
  },
  {
   "cell_type": "code",
   "execution_count": 16,
   "metadata": {},
   "outputs": [],
   "source": [
    "def getPrimaryNum_Eratos(N):\n",
    "    nums = [True] * (N + 1)\n",
    "    for i in range(2, len(nums) // 2 + 1):\n",
    "        if nums[i] == True:\n",
    "            for j in range(i+i, N, i):\n",
    "                nums[j] = False\n",
    "    return [i for i in range(2, N) if nums[i] == True]"
   ]
  },
  {
   "cell_type": "code",
   "execution_count": 19,
   "metadata": {},
   "outputs": [
    {
     "data": {
      "text/plain": [
       "[2, 3, 5, 7]"
      ]
     },
     "execution_count": 19,
     "metadata": {},
     "output_type": "execute_result"
    }
   ],
   "source": [
    "getPrimaryNum_Eratos(10)"
   ]
  },
  {
   "cell_type": "code",
   "execution_count": 27,
   "metadata": {},
   "outputs": [
    {
     "name": "stdout",
     "output_type": "stream",
     "text": [
      "10\n",
      "10 = 3 + 7\n",
      "0\n"
     ]
    }
   ],
   "source": [
    "def getPrimaryNum_Eratos(N):\n",
    "    nums = [True] * (N + 1)\n",
    "    for i in range(2, len(nums) // 2 + 1):\n",
    "        if nums[i] == True:\n",
    "            for j in range(i+i, N, i):\n",
    "                nums[j] = False\n",
    "    return [i for i in range(2, N) if nums[i] == True]\n",
    "\n",
    "while(True):\n",
    "    N = int(input())\n",
    "    \n",
    "    if N == 0:\n",
    "        break\n",
    "\n",
    "    primary_nums = getPrimaryNum_Eratos(N)\n",
    "\n",
    "    primary_nums_len = len(primary_nums)\n",
    "\n",
    "    break_flag = False\n",
    "\n",
    "    for i in primary_nums[::-1]:\n",
    "        if break_flag == True:\n",
    "            break\n",
    "        for j in range(len(primary_nums)):\n",
    "            if N == (i + primary_nums[j]):\n",
    "                print(\"{} = {} + {}\".format(N, primary_nums[j], i))\n",
    "                break_flag=True\n",
    "                \n",
    "    if break_flag == False:\n",
    "        print(\"Goldbach's conjecture is wrong.\")"
   ]
  },
  {
   "cell_type": "markdown",
   "metadata": {},
   "source": [
    "### 결과는 시간초과\n",
    "소수를 구하는 법이 문제가아닌 뒤 쪽에 문제가 있는 것 같습니다.\n",
    "이번에는 조금 다르게 접근하여 보기로 했습니다.\n",
    "N 이하의 소수를 모두 찾고 가장 작은 소수부터 소수의 개수만큼 반복문을 돌면서 N - 소수 를 했을때\n",
    "그 값도 소수인 경우 print를 해주면 될 것이라고 생각했습니다.\n",
    "하지만 결과는 처참했습니다.\n",
    "이제 어디서 더 줄일 수 있을까?\n",
    "고민해보니 이 문제는 반복문을 돌면서 0이 나올때까지 계속 값을 구해야합니다.\n",
    "근데 지금의 방식은 while 반복문이 실행될때마다 새로 소수를 구하고있습니다.\n",
    "애초에 1,00,000 이하의 모든 소수를 구해두고 하면 어떨까? 생각해보았습니다."
   ]
  },
  {
   "cell_type": "markdown",
   "metadata": {},
   "source": [
    "---"
   ]
  },
  {
   "cell_type": "markdown",
   "metadata": {},
   "source": [
    "### 마지막 시도"
   ]
  },
  {
   "cell_type": "code",
   "execution_count": 32,
   "metadata": {},
   "outputs": [
    {
     "name": "stdout",
     "output_type": "stream",
     "text": [
      "100000\n",
      "100000 = 11 + 99989\n",
      "1000000\n",
      "1000000 = 17 + 999983\n",
      "0\n"
     ]
    }
   ],
   "source": [
    "def getPrimaryNum_Eratos(N):\n",
    "    nums = [True] * (N + 1)\n",
    "    for i in range(2, len(nums) // 2 + 1):\n",
    "        if nums[i] == True:\n",
    "            for j in range(i+i, N, i):\n",
    "                nums[j] = False\n",
    "    return [[i for i in range(2, N) if nums[i] == True], nums]\n",
    "\n",
    "primary_nums = getPrimaryNum_Eratos(1000000)[0]\n",
    "primary_bools = getPrimaryNum_Eratos(1000000)[1]\n",
    "while(True):\n",
    "    N = int(input())\n",
    "    \n",
    "    if N == 0:\n",
    "        break\n",
    "\n",
    "    \n",
    "    for i in range(N // 2):\n",
    "        if primary_bools[N-primary_nums[i]] == True:\n",
    "            print(\"{} = {} + {}\".format(N, primary_nums[i], N-primary_nums[i]))\n",
    "            break"
   ]
  },
  {
   "cell_type": "code",
   "execution_count": null,
   "metadata": {},
   "outputs": [],
   "source": []
  }
 ],
 "metadata": {
  "kernelspec": {
   "display_name": "Python 3",
   "language": "python",
   "name": "python3"
  },
  "language_info": {
   "codemirror_mode": {
    "name": "ipython",
    "version": 3
   },
   "file_extension": ".py",
   "mimetype": "text/x-python",
   "name": "python",
   "nbconvert_exporter": "python",
   "pygments_lexer": "ipython3",
   "version": "3.7.3"
  }
 },
 "nbformat": 4,
 "nbformat_minor": 2
}
