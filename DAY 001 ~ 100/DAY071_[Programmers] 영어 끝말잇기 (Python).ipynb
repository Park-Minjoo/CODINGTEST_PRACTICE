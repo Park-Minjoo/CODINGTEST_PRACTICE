{
 "cells": [
  {
   "cell_type": "markdown",
   "metadata": {},
   "source": [
    "## 2020년 4월 17일 금요일\n",
    "### Programmers - Summer/Winter Coding(~2018) : 영어 끝말잇기 (Python)\n",
    "### 문제 : https://programmers.co.kr/learn/courses/30/lessons/12981\n",
    "### 블로그 : https://somjang.tistory.com/entry/Programmers-SummerWinter-Coding2018-%EC%98%81%EC%96%B4-%EB%81%9D%EB%A7%90%EC%9E%87%EA%B8%B0-Python"
   ]
  },
  {
   "cell_type": "markdown",
   "metadata": {},
   "source": [
    "### 첫번째 시도"
   ]
  },
  {
   "cell_type": "code",
   "execution_count": 1,
   "metadata": {},
   "outputs": [],
   "source": [
    "def solution(n, words):\n",
    "    answer = [0, 0]\n",
    "\n",
    "    for i in range(1, len(words)):\n",
    "        if words[i-1][-1] != words[i][0] or words[i] in words[0:i]:\n",
    "            answer[0] = ( i % n ) + 1\n",
    "            answer[1] = ( i // n ) + 1\n",
    "            break\n",
    "\n",
    "    return answer"
   ]
  }
 ],
 "metadata": {
  "kernelspec": {
   "display_name": "Python 3",
   "language": "python",
   "name": "python3"
  },
  "language_info": {
   "codemirror_mode": {
    "name": "ipython",
    "version": 3
   },
   "file_extension": ".py",
   "mimetype": "text/x-python",
   "name": "python",
   "nbconvert_exporter": "python",
   "pygments_lexer": "ipython3",
   "version": "3.7.3"
  }
 },
 "nbformat": 4,
 "nbformat_minor": 2
}
