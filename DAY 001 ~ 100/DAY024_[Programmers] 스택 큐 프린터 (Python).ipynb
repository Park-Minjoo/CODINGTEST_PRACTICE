{
 "cells": [
  {
   "cell_type": "markdown",
   "metadata": {},
   "source": [
    "## 2020년 3월 1일 일요일\n",
    "### 프로그래머스 스택/큐: 프린터\n",
    "### 문제 : https://programmers.co.kr/learn/courses/30/lessons/42587\n",
    "### 블로그 : https://somjang.tistory.com/entry/Programmers-%EC%8A%A4%ED%83%9D%ED%81%90-%ED%94%84%EB%A6%B0%ED%84%B0-Python"
   ]
  },
  {
   "cell_type": "markdown",
   "metadata": {},
   "source": [
    "### 첫번째 시도"
   ]
  },
  {
   "cell_type": "code",
   "execution_count": 16,
   "metadata": {},
   "outputs": [],
   "source": [
    "def solution(priorities, location):\n",
    "    answer = 0\n",
    "    \n",
    "    pri_dict = {}\n",
    "    \n",
    "    for i in range(len(priorities)):\n",
    "        pri_dict.update({i+1:priorities[i]})\n",
    "    pri_dict = sorted(pri_dict.items(), key=lambda x: -x[1])\n",
    "    \n",
    "    for i in range(len(pri_dict)):\n",
    "        if pri_dict[i][0] == location + 1:\n",
    "            answer = i + 1\n",
    "            break\n",
    "        \n",
    "    \n",
    "    \n",
    "    \n",
    "    return answer"
   ]
  },
  {
   "cell_type": "code",
   "execution_count": 18,
   "metadata": {},
   "outputs": [
    {
     "data": {
      "text/plain": [
       "2"
      ]
     },
     "execution_count": 18,
     "metadata": {},
     "output_type": "execute_result"
    }
   ],
   "source": [
    "solution([1, 1, 9, 1, 1, 1], 0)"
   ]
  },
  {
   "cell_type": "code",
   "execution_count": 55,
   "metadata": {},
   "outputs": [],
   "source": [
    "def solution(priorities, location):\n",
    "    answer = 0\n",
    "    \n",
    "    stack = []\n",
    "    \n",
    "    pri = [(i, p) for i, p in enumerate(priorities)]\n",
    "    \n",
    "    for i in range(len(priorities)-1):\n",
    "        max_pri = max(priorities[i+1:])\n",
    "        \n",
    "        temp = pri[0]\n",
    "        pri = pri[1:]\n",
    "        \n",
    "        if priorities[i] < max_pri:\n",
    "            pri.append(temp)\n",
    "        else:\n",
    "            stack.append(temp)\n",
    "            \n",
    "    for i in range(len(pri)):\n",
    "        stack.append(pri[i])\n",
    "            \n",
    "    for i in range(len(stack)):\n",
    "        if stack[i][0] == location:\n",
    "            answer = i + 1\n",
    "            break\n",
    "            \n",
    "            \n",
    "            \n",
    "    \n",
    "    return answer"
   ]
  },
  {
   "cell_type": "code",
   "execution_count": 56,
   "metadata": {},
   "outputs": [
    {
     "data": {
      "text/plain": [
       "3"
      ]
     },
     "execution_count": 56,
     "metadata": {},
     "output_type": "execute_result"
    }
   ],
   "source": [
    "solution([1, 2, 3, 4, 5, 4, 3, 5], 0)"
   ]
  },
  {
   "cell_type": "code",
   "execution_count": 51,
   "metadata": {},
   "outputs": [],
   "source": [
    "def solution(priorities, location):\n",
    "    answer = 0\n",
    "    while priorities!=[]:\n",
    "        max_pri=max(priorities)\n",
    "        pop_num=priorities.pop(0)\n",
    "        if max_pri==pop_num:\n",
    "            answer+=1\n",
    "            if location==0:\n",
    "                break\n",
    "            else:\n",
    "                location -=1\n",
    "        else:\n",
    "            priorities.append(pop_num)\n",
    "            if location==0:\n",
    "                location=len(priorities)-1\n",
    "            else:\n",
    "                location-=1\n",
    "    return answer"
   ]
  },
  {
   "cell_type": "code",
   "execution_count": 52,
   "metadata": {},
   "outputs": [
    {
     "data": {
      "text/plain": [
       "8"
      ]
     },
     "execution_count": 52,
     "metadata": {},
     "output_type": "execute_result"
    }
   ],
   "source": [
    "solution([1, 2, 3, 4, 5, 4, 3, 5], 0)"
   ]
  }
 ],
 "metadata": {
  "kernelspec": {
   "display_name": "Python 3",
   "language": "python",
   "name": "python3"
  },
  "language_info": {
   "codemirror_mode": {
    "name": "ipython",
    "version": 3
   },
   "file_extension": ".py",
   "mimetype": "text/x-python",
   "name": "python",
   "nbconvert_exporter": "python",
   "pygments_lexer": "ipython3",
   "version": "3.7.3"
  }
 },
 "nbformat": 4,
 "nbformat_minor": 2
}
