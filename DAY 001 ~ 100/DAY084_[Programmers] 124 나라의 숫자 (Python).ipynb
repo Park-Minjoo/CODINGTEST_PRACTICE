{
 "cells": [
  {
   "cell_type": "markdown",
   "metadata": {},
   "source": [
    "## 2020년 4월 30일 목요일\n",
    "### Programmers - 124 나라의 숫자\n",
    "### 문제 : https://programmers.co.kr/learn/courses/30/lessons/12899\n",
    "### 블로그 : https://somjang.tistory.com/entry/Programmers-124-%EB%82%98%EB%9D%BC%EC%9D%98-%EC%88%AB%EC%9E%90-Python"
   ]
  },
  {
   "cell_type": "markdown",
   "metadata": {},
   "source": [
    "### 첫번째 시도"
   ]
  },
  {
   "cell_type": "code",
   "execution_count": 1,
   "metadata": {},
   "outputs": [],
   "source": [
    "def solution(n):\n",
    "    answer = \"\"\n",
    "    \n",
    "    while n > 0:\n",
    "        n, i = divmod(n, 3)\n",
    "        \n",
    "        if i == 0:\n",
    "            n = n - 1\n",
    "            \n",
    "        answer = '412'[i] + answer\n",
    "    \n",
    "    return answer"
   ]
  }
 ],
 "metadata": {
  "kernelspec": {
   "display_name": "Python 3",
   "language": "python",
   "name": "python3"
  },
  "language_info": {
   "codemirror_mode": {
    "name": "ipython",
    "version": 3
   },
   "file_extension": ".py",
   "mimetype": "text/x-python",
   "name": "python",
   "nbconvert_exporter": "python",
   "pygments_lexer": "ipython3",
   "version": "3.7.3"
  }
 },
 "nbformat": 4,
 "nbformat_minor": 2
}
