{
 "cells": [
  {
   "cell_type": "markdown",
   "metadata": {},
   "source": [
    "## 2020년 4월 27일 월요일\n",
    "### BaekJoon - 10866번 : 덱 (Python)\n",
    "### 문제 : https://www.acmicpc.net/problem/10866\n",
    "### 블로그 : https://somjang.tistory.com/entry/BaekJoon-10866%EB%B2%88-%EB%8D%B1-Python"
   ]
  },
  {
   "cell_type": "markdown",
   "metadata": {},
   "source": [
    "### 첫번째 시도"
   ]
  },
  {
   "cell_type": "code",
   "execution_count": null,
   "metadata": {},
   "outputs": [],
   "source": [
    "my_dequeue = []\n",
    "command_list = []\n",
    "\n",
    "num = input()\n",
    "\n",
    "for i in range(int(num)):\n",
    "    command = input()\n",
    "    command_list.append(command)\n",
    "    \n",
    "for command in command_list:\n",
    "    cmd = command.split()\n",
    "    \n",
    "    if cmd[0] == 'push_back':\n",
    "        my_dequeue.append(cmd[1])\n",
    "    elif cmd[0] == 'push_front':\n",
    "        my_dequeue.insert(0, cmd[1])\n",
    "    elif cmd[0] == 'pop_front':\n",
    "        if len(my_dequeue) != 0:\n",
    "            print(my_dequeue.pop(0))\n",
    "        else:\n",
    "            print(-1)\n",
    "    elif cmd[0] == 'pop_back':\n",
    "        if len(my_dequeue) != 0:\n",
    "            print(my_dequeue.pop(-1))\n",
    "        else:\n",
    "            print(-1)\n",
    "    elif cmd[0] == 'back':\n",
    "        if len(my_dequeue) != 0:\n",
    "            print(my_dequeue[-1])\n",
    "        else:\n",
    "            print(-1)\n",
    "    elif cmd[0] == 'front':\n",
    "        if len(my_dequeue) != 0:\n",
    "            print(my_dequeue[0])\n",
    "        else:\n",
    "            print(-1)\n",
    "    elif cmd[0] == 'size':\n",
    "        print(len(my_dequeue))\n",
    "    elif cmd[0] == 'empty':\n",
    "        if len(my_dequeue) != 0:\n",
    "            print(0)\n",
    "        else:\n",
    "            print(1)"
   ]
  }
 ],
 "metadata": {
  "kernelspec": {
   "display_name": "Python 3",
   "language": "python",
   "name": "python3"
  },
  "language_info": {
   "codemirror_mode": {
    "name": "ipython",
    "version": 3
   },
   "file_extension": ".py",
   "mimetype": "text/x-python",
   "name": "python",
   "nbconvert_exporter": "python",
   "pygments_lexer": "ipython3",
   "version": "3.7.3"
  }
 },
 "nbformat": 4,
 "nbformat_minor": 2
}
