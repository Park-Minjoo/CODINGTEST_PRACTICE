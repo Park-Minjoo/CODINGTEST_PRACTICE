{
 "cells": [
  {
   "cell_type": "markdown",
   "metadata": {},
   "source": [
    "## 2020년 3월 20일 금요일\n",
    "### HackerRank - Stack and Queues : Balanced Brackets\n",
    "### 문제 : https://www.hackerrank.com/challenges/balanced-brackets/problem?h_l=interview&playlist_slugs%5B%5D=interview-preparation-kit&playlist_slugs%5B%5D=stacks-queues\n",
    "### 블로그 :https://somjang.tistory.com/entry/HackerRank-Stacks-and-Queues-Balanced-Brackets-Python"
   ]
  },
  {
   "cell_type": "markdown",
   "metadata": {},
   "source": [
    "### 첫번째 시도"
   ]
  },
  {
   "cell_type": "code",
   "execution_count": 1,
   "metadata": {},
   "outputs": [],
   "source": [
    "#!/bin/python3\n",
    "\n",
    "import math\n",
    "import os\n",
    "import random\n",
    "import re\n",
    "import sys\n",
    "\n",
    "# Complete the isBalanced function below.\n",
    "def isBalanced(s):\n",
    "    stack = []\n",
    "    answer = \"YES\"\n",
    "    open_bracket = ['{', '[', '(']\n",
    "    close_bracket = ['}', ']', ')']\n",
    "\n",
    "    for i in range(len(s)):\n",
    "        if s[i] in open_bracket:\n",
    "            stack.append(s[i])\n",
    "        elif s[i] in close_bracket:\n",
    "            index = close_bracket.index(s[i])\n",
    "\n",
    "            if len(stack) > 0 and stack[-1] == open_bracket[index]:\n",
    "                stack.pop()\n",
    "            else:\n",
    "                answer = \"NO\"\n",
    "                break\n",
    "    if len(stack) != 0:\n",
    "        answer = \"NO\"\n",
    "    return answer"
   ]
  }
 ],
 "metadata": {
  "kernelspec": {
   "display_name": "Python 3",
   "language": "python",
   "name": "python3"
  },
  "language_info": {
   "codemirror_mode": {
    "name": "ipython",
    "version": 3
   },
   "file_extension": ".py",
   "mimetype": "text/x-python",
   "name": "python",
   "nbconvert_exporter": "python",
   "pygments_lexer": "ipython3",
   "version": "3.7.3"
  }
 },
 "nbformat": 4,
 "nbformat_minor": 2
}
