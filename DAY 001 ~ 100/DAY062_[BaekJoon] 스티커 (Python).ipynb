{
 "cells": [
  {
   "cell_type": "markdown",
   "metadata": {},
   "source": [
    "## 2020년 4월 8일 수요일\n",
    "### 백준 : 9465번 스티커\n",
    "### 문제 : https://www.acmicpc.net/problem/9465\n",
    "### 블로그 : https://somjang.tistory.com/entry/BaekJoon-9465%EB%B2%88-%EC%8A%A4%ED%8B%B0%EC%BB%A4-Python"
   ]
  },
  {
   "cell_type": "markdown",
   "metadata": {},
   "source": [
    "### 첫번째 시도"
   ]
  },
  {
   "cell_type": "code",
   "execution_count": null,
   "metadata": {},
   "outputs": [],
   "source": [
    "loopNum = int(input())\n",
    "\n",
    "for i in range(loopNum):\n",
    "    inputNum = int(input())\n",
    "    nc = [[0]*3 for _ in range(inputNum+1)]\n",
    "    st = [list(map(int, input().split())) for _ in range(2)]\n",
    "    \n",
    "    for j in range(1, inputNum+1):\n",
    "        nc[j][0] = max(nc[j-1][0], nc[j-1][1], nc[j-1][2])\n",
    "        nc[j][1] = max(nc[j-1][0], nc[j-1][2]) + st[0][j-1]\n",
    "        nc[j][2] = max(nc[j-1][0], nc[j-1][1]) + st[1][j-1]\n",
    "    print(max(nc[inputNum]))"
   ]
  }
 ],
 "metadata": {
  "kernelspec": {
   "display_name": "Python 3",
   "language": "python",
   "name": "python3"
  },
  "language_info": {
   "codemirror_mode": {
    "name": "ipython",
    "version": 3
   },
   "file_extension": ".py",
   "mimetype": "text/x-python",
   "name": "python",
   "nbconvert_exporter": "python",
   "pygments_lexer": "ipython3",
   "version": "3.7.3"
  }
 },
 "nbformat": 4,
 "nbformat_minor": 2
}
