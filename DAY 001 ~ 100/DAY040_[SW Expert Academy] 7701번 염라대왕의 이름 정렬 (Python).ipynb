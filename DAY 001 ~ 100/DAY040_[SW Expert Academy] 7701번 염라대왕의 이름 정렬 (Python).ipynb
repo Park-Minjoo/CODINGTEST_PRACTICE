{
 "cells": [
  {
   "cell_type": "markdown",
   "metadata": {},
   "source": [
    "## 2020년 3월 17일 화요일\n",
    "### SW Expert Academy - 7701. 염라대왕의 이름 정렬\n",
    "### 문제 : https://swexpertacademy.com/main/code/problem/problemDetail.do?contestProbId=AWqU0zh6rssDFARG&categoryId=AWqU0zh6rssDFARG&categoryType=CODE\n",
    "### 블로그 : https://somjang.tistory.com/entry/SWExpertAcademy-7701-%EC%97%BC%EB%9D%BC%EB%8C%80%EC%99%95%EC%9D%98-%EC%9D%B4%EB%A6%84-%EC%A0%95%EB%A0%AC-Python"
   ]
  },
  {
   "cell_type": "markdown",
   "metadata": {},
   "source": [
    "### 첫번째 시도"
   ]
  },
  {
   "cell_type": "code",
   "execution_count": 7,
   "metadata": {},
   "outputs": [
    {
     "name": "stdout",
     "output_type": "stream",
     "text": [
      "2\n",
      "5\n",
      "my\n",
      "name\n",
      "is\n",
      "ho\n",
      "seok\n",
      "[('my', 2), ('name', 4), ('is', 2), ('ho', 2), ('seok', 4)]\n",
      "[('ho', 2), ('is', 2), ('my', 2), ('name', 4), ('seok', 4)]\n",
      "#1\n",
      "ho\n",
      "is\n",
      "my\n",
      "name\n",
      "seok\n",
      "12\n",
      "s\n",
      "a\n",
      "m\n",
      "s\n",
      "u\n",
      "n\n",
      "g\n",
      "j\n",
      "j\n",
      "a\n",
      "n\n",
      "g\n",
      "[('s', 1), ('a', 1), ('m', 1), ('s', 1), ('u', 1), ('n', 1), ('g', 1), ('j', 1), ('j', 1), ('a', 1), ('n', 1), ('g', 1)]\n",
      "[('a', 1), ('g', 1), ('j', 1), ('m', 1), ('n', 1), ('s', 1), ('u', 1)]\n",
      "#2\n",
      "a\n",
      "g\n",
      "j\n",
      "m\n",
      "n\n",
      "s\n",
      "u\n"
     ]
    }
   ],
   "source": [
    "count = 1\n",
    "\n",
    "loop_num = int(input())\n",
    "\n",
    "for i in range(loop_num):\n",
    "    input_num = int(input())\n",
    "    input_str_list = []\n",
    "    \n",
    "    for i in range(input_num):\n",
    "        string = str(input())\n",
    "    \n",
    "        input_str_list.append((string, len(string)))\n",
    "        \n",
    "#     print(input_str_list)\n",
    "    input_str_list = list(set(input_str_list))\n",
    "    sorted_str_list = sorted(input_str_list, key = lambda x : (x[1], x[0]))\n",
    "#     print(sorted_str_list)\n",
    "\n",
    "    print(\"#{}\".format(count))\n",
    "    for i in range(len(sorted_str_list)):\n",
    "        print(sorted_str_list[i][0])\n",
    "    count = count + 1"
   ]
  }
 ],
 "metadata": {
  "kernelspec": {
   "display_name": "Python 3",
   "language": "python",
   "name": "python3"
  },
  "language_info": {
   "codemirror_mode": {
    "name": "ipython",
    "version": 3
   },
   "file_extension": ".py",
   "mimetype": "text/x-python",
   "name": "python",
   "nbconvert_exporter": "python",
   "pygments_lexer": "ipython3",
   "version": "3.7.3"
  }
 },
 "nbformat": 4,
 "nbformat_minor": 2
}
