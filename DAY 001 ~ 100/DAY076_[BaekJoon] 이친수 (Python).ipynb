{
 "cells": [
  {
   "cell_type": "markdown",
   "metadata": {},
   "source": [
    "## 2020년 4월 23일 수요일\n",
    "### BaekJoon - 2193번 : 이친수 (Python)\n",
    "### 문제 : https://www.acmicpc.net/problem/2193\n",
    "### 블로그 : https://somjang.tistory.com/entry/BaekJoon-2193%EB%B2%88-%EC%9D%B4%EC%B9%9C%EC%88%98-Python"
   ]
  },
  {
   "cell_type": "markdown",
   "metadata": {},
   "source": [
    "### 첫번째 시도"
   ]
  },
  {
   "cell_type": "code",
   "execution_count": null,
   "metadata": {},
   "outputs": [],
   "source": [
    "n = int(input())\n",
    "\n",
    "def answer(n):\n",
    "    if n == 1:\n",
    "        fiboNum = 1\n",
    "    elif n == 2:\n",
    "        fiboNum = 1\n",
    "    elif n >= 3:\n",
    "        fibo = [0] * (n)\n",
    "        fibo[0] = 1\n",
    "        fibo[1] = 1\n",
    "\n",
    "        for i in range(2, n):\n",
    "            fibo[i] = fibo[i-1] + fibo[i-2]\n",
    "\n",
    "        fiboNum = fibo[n-1]\n",
    "    return fiboNum\n",
    "\n",
    "print(answer(n))"
   ]
  }
 ],
 "metadata": {
  "kernelspec": {
   "display_name": "Python 3",
   "language": "python",
   "name": "python3"
  },
  "language_info": {
   "codemirror_mode": {
    "name": "ipython",
    "version": 3
   },
   "file_extension": ".py",
   "mimetype": "text/x-python",
   "name": "python",
   "nbconvert_exporter": "python",
   "pygments_lexer": "ipython3",
   "version": "3.7.3"
  }
 },
 "nbformat": 4,
 "nbformat_minor": 2
}
