{
 "cells": [
  {
   "cell_type": "markdown",
   "metadata": {},
   "source": [
    "## 2020년 3월 5일 목요일\n",
    "### leetCode : Third Maximum Number\n",
    "### 문제 : https://leetcode.com/problems/third-maximum-number/\n",
    "### 블로그 :https://somjang.tistory.com/entry/leetCode-414-Third-Maximum-Number-Python"
   ]
  },
  {
   "cell_type": "markdown",
   "metadata": {},
   "source": [
    "### 첫번째 시도"
   ]
  },
  {
   "cell_type": "code",
   "execution_count": 2,
   "metadata": {},
   "outputs": [],
   "source": [
    "class Solution:\n",
    "    def thirdMax(self, nums):\n",
    "        nums = list(set(nums))\n",
    "        \n",
    "        nums = list(sorted(nums, reverse=True))\n",
    "        \n",
    "        if len(nums) < 3:\n",
    "            answer = nums[0]\n",
    "        else:\n",
    "            answer = nums[2]\n",
    "        return answer"
   ]
  }
 ],
 "metadata": {
  "kernelspec": {
   "display_name": "Python 3",
   "language": "python",
   "name": "python3"
  },
  "language_info": {
   "codemirror_mode": {
    "name": "ipython",
    "version": 3
   },
   "file_extension": ".py",
   "mimetype": "text/x-python",
   "name": "python",
   "nbconvert_exporter": "python",
   "pygments_lexer": "ipython3",
   "version": "3.7.3"
  }
 },
 "nbformat": 4,
 "nbformat_minor": 2
}
