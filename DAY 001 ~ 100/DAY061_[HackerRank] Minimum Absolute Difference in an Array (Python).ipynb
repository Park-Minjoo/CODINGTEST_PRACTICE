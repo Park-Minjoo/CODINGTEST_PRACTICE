{
 "cells": [
  {
   "cell_type": "markdown",
   "metadata": {},
   "source": [
    "## 2020년 4월 7일 화요일\n",
    "### HackerRank : Minimum Absolute Difference in an Array \n",
    "### 문제 : https://www.hackerrank.com/challenges/minimum-absolute-difference-in-an-array/problem?h_l=interview&playlist_slugs%5B%5D=interview-preparation-kit&playlist_slugs%5B%5D=greedy-algorithms\n",
    "### 블로그 : https://somjang.tistory.com/entry/HackerRank-Minimum-Absolute-Difference-in-an-Array-Python"
   ]
  },
  {
   "cell_type": "markdown",
   "metadata": {},
   "source": [
    "### 두번째 시도"
   ]
  },
  {
   "cell_type": "code",
   "execution_count": 1,
   "metadata": {},
   "outputs": [],
   "source": [
    "#!/bin/python3\n",
    "\n",
    "import math\n",
    "import os\n",
    "import random\n",
    "import re\n",
    "import sys\n",
    "import itertools\n",
    "\n",
    "# Complete the minimumAbsoluteDifference function below.\n",
    "def minimumAbsoluteDifference(arr):\n",
    "    sorted_arr = sorted(arr)\n",
    "\n",
    "    diff = abs(sorted_arr[0] - sorted_arr[1])\n",
    "\n",
    "    for i in range(1, len(sorted_arr)-1):\n",
    "        new_diff = abs(sorted_arr[i] - sorted_arr[i+1])\n",
    "        if diff > new_diff:\n",
    "            diff = new_diff\n",
    "    return diff\n",
    "\n",
    "if __name__ == '__main__':\n",
    "    fptr = open(os.environ['OUTPUT_PATH'], 'w')\n",
    "\n",
    "    n = int(input())\n",
    "\n",
    "    arr = list(map(int, input().rstrip().split()))\n",
    "\n",
    "    result = minimumAbsoluteDifference(arr)\n",
    "\n",
    "    fptr.write(str(result) + '\\n')\n",
    "\n",
    "    fptr.close()"
   ]
  }
 ],
 "metadata": {
  "kernelspec": {
   "display_name": "Python 3",
   "language": "python",
   "name": "python3"
  },
  "language_info": {
   "codemirror_mode": {
    "name": "ipython",
    "version": 3
   },
   "file_extension": ".py",
   "mimetype": "text/x-python",
   "name": "python",
   "nbconvert_exporter": "python",
   "pygments_lexer": "ipython3",
   "version": "3.7.3"
  }
 },
 "nbformat": 4,
 "nbformat_minor": 2
}
