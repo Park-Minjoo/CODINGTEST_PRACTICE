{
 "cells": [
  {
   "cell_type": "markdown",
   "metadata": {},
   "source": [
    "## 2020년 4월 1일 수요일\n",
    "### 백준 : 2133번 타일 채우기\n",
    "### 문제 : https://www.acmicpc.net/problem/2133\n",
    "### 블로그 : https://somjang.tistory.com/entry/BaekJoon-2133%EB%B2%88-%ED%83%80%EC%9D%BC-%EC%B1%84%EC%9A%B0%EA%B8%B0-Python"
   ]
  },
  {
   "cell_type": "markdown",
   "metadata": {},
   "source": [
    "### 첫번째 시도"
   ]
  },
  {
   "cell_type": "code",
   "execution_count": 7,
   "metadata": {},
   "outputs": [
    {
     "name": "stdout",
     "output_type": "stream",
     "text": [
      "2\n",
      "3\n"
     ]
    }
   ],
   "source": [
    "inputNum = int(input())\n",
    "nc = [0] * (inputNum+1)\n",
    "\n",
    "for i in range(1, inputNum+1):\n",
    "    if i % 2 == 1 :\n",
    "        nc[i] = 0\n",
    "    elif i == 2 :\n",
    "        nc[i] = 3\n",
    "    else :\n",
    "        temp = 0\n",
    "        for j in range(2, i-1):\n",
    "            if j == i-2 :\n",
    "                temp += nc[j] * 3\n",
    "            elif j % 2 == 0 :\n",
    "                temp += nc[j] * 2\n",
    "        nc[i] = temp + 2\n",
    "\n",
    "print(nc[inputNum])"
   ]
  }
 ],
 "metadata": {
  "kernelspec": {
   "display_name": "Python 3",
   "language": "python",
   "name": "python3"
  },
  "language_info": {
   "codemirror_mode": {
    "name": "ipython",
    "version": 3
   },
   "file_extension": ".py",
   "mimetype": "text/x-python",
   "name": "python",
   "nbconvert_exporter": "python",
   "pygments_lexer": "ipython3",
   "version": "3.7.3"
  }
 },
 "nbformat": 4,
 "nbformat_minor": 2
}
