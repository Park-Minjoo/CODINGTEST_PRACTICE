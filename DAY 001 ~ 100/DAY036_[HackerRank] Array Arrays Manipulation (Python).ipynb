{
 "cells": [
  {
   "cell_type": "markdown",
   "metadata": {},
   "source": [
    "## 2020년 3월 13일 금요일\n",
    "### HackerRank - Array : Array Manipulation\n",
    "### 문제 : https://www.hackerrank.com/challenges/crush/problem?h_l=interview&playlist_slugs%5B%5D=interview-preparation-kit&playlist_slugs%5B%5D=arrays\n",
    "### 블로그 : https://somjang.tistory.com/entry/HackerRank-Arrays-Array-Manipulation-Python"
   ]
  },
  {
   "cell_type": "markdown",
   "metadata": {},
   "source": [
    "### 첫번째 시도"
   ]
  },
  {
   "cell_type": "code",
   "execution_count": 1,
   "metadata": {},
   "outputs": [],
   "source": [
    "#!/bin/python3\n",
    "\n",
    "import math\n",
    "import os\n",
    "import random\n",
    "import re\n",
    "import sys\n",
    "\n",
    "# Complete the arrayManipulation function below.\n",
    "def arrayManipulation(n, queries):\n",
    "    arr = [0] * n\n",
    "    for query in queries:\n",
    "        for j in range(query[0]-1, query[1]):\n",
    "            arr[j] = arr[j] + query[2]\n",
    "\n",
    "    return max(arr)"
   ]
  },
  {
   "cell_type": "markdown",
   "metadata": {},
   "source": [
    "---\n"
   ]
  },
  {
   "cell_type": "markdown",
   "metadata": {},
   "source": [
    "### 두번째 시도"
   ]
  },
  {
   "cell_type": "code",
   "execution_count": 2,
   "metadata": {},
   "outputs": [],
   "source": [
    "#!/bin/python3\n",
    "\n",
    "import math\n",
    "import os\n",
    "import random\n",
    "import re\n",
    "import sys\n",
    "\n",
    "# Complete the arrayManipulation function below.\n",
    "def arrayManipulation(n, queries):\n",
    "    arr = [0] * (n + 1)\n",
    "    for query in queries:\n",
    "        front = query[0] -1\n",
    "        end = query[1]\n",
    "\n",
    "        arr[front] = arr[front] + query[2]\n",
    "        arr[end] = arr[end] + (-1 * query[2])\n",
    "\n",
    "    answer = -1\n",
    "    total = 0\n",
    "\n",
    "    for i in range(len(arr)): \n",
    "        total = total + arr[i]\n",
    "        if answer < total :\n",
    "            answer = total\n",
    "\n",
    "    return answer"
   ]
  }
 ],
 "metadata": {
  "kernelspec": {
   "display_name": "Python 3",
   "language": "python",
   "name": "python3"
  },
  "language_info": {
   "codemirror_mode": {
    "name": "ipython",
    "version": 3
   },
   "file_extension": ".py",
   "mimetype": "text/x-python",
   "name": "python",
   "nbconvert_exporter": "python",
   "pygments_lexer": "ipython3",
   "version": "3.7.3"
  }
 },
 "nbformat": 4,
 "nbformat_minor": 2
}
