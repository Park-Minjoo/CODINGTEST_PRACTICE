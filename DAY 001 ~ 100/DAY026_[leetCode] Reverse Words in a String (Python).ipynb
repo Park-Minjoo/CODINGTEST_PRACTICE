{
 "cells": [
  {
   "cell_type": "markdown",
   "metadata": {},
   "source": [
    "## 2020년 3월 3일 화요일\n",
    "### leetCode: Reverse Words in a String\n",
    "### 문제 : https://leetcode.com/problems/reverse-words-in-a-string/submissions/\n",
    "### 블로그 : https://somjang.tistory.com/entry/leetCode-151-Reverse-Words-in-a-String-Python"
   ]
  },
  {
   "cell_type": "markdown",
   "metadata": {},
   "source": [
    "### 첫번째 시도"
   ]
  },
  {
   "cell_type": "code",
   "execution_count": null,
   "metadata": {},
   "outputs": [],
   "source": [
    "class Solution:\n",
    "    def reverseWords(self, string) -> str:\n",
    "        string.strip()\n",
    "\n",
    "        split_strings = string.split()\n",
    "        \n",
    "        reversed_split_strings = list(reversed(split_strings))\n",
    "\n",
    "        answer = ' '.join(reversed_split_strings)\n",
    "        \n",
    "        return answer"
   ]
  }
 ],
 "metadata": {
  "kernelspec": {
   "display_name": "Python 3",
   "language": "python",
   "name": "python3"
  },
  "language_info": {
   "codemirror_mode": {
    "name": "ipython",
    "version": 3
   },
   "file_extension": ".py",
   "mimetype": "text/x-python",
   "name": "python",
   "nbconvert_exporter": "python",
   "pygments_lexer": "ipython3",
   "version": "3.7.3"
  }
 },
 "nbformat": 4,
 "nbformat_minor": 2
}
