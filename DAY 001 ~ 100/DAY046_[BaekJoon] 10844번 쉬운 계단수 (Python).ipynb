{
 "cells": [
  {
   "cell_type": "markdown",
   "metadata": {},
   "source": [
    "## 2020년 3월 23일 월요일\n",
    "### BaekJoon - 10844번 : 쉬운 계단 수\n",
    "### 문제 :https://www.acmicpc.net/problem/10844\n",
    "### 블로그 :https://somjang.tistory.com/entry/BaeKJoon-10844%EB%B2%88-%EC%89%AC%EC%9A%B4-%EA%B3%84%EB%8B%A8%EC%88%98-Python"
   ]
  },
  {
   "cell_type": "markdown",
   "metadata": {},
   "source": [
    "### 첫번째 시도"
   ]
  },
  {
   "cell_type": "code",
   "execution_count": 1,
   "metadata": {},
   "outputs": [],
   "source": [
    "inputNum = int(input())\n",
    "nc = [[0]*10 for _ in range(inputNum+1)]\n",
    "ans, mod = 0, 1000000000\n",
    "\n",
    "\n",
    "for i in range(1, 10):\n",
    "    nc[1][i] = 1\n",
    "for i in range(2, inputNum+1):\n",
    "    for j in range(0, 10):\n",
    "        if j > 0:\n",
    "            nc[i][j] += nc[i-1][j-1]\n",
    "        if j < 9:\n",
    "            nc[i][j] += nc[i-1][j+1]\n",
    "        nc[i][j] %= mod\n",
    "\n",
    "# print(nc)\n",
    "\n",
    "print(sum(nc[inputNum])%mod)"
   ]
  }
 ],
 "metadata": {
  "kernelspec": {
   "display_name": "Python 3",
   "language": "python",
   "name": "python3"
  },
  "language_info": {
   "codemirror_mode": {
    "name": "ipython",
    "version": 3
   },
   "file_extension": ".py",
   "mimetype": "text/x-python",
   "name": "python",
   "nbconvert_exporter": "python",
   "pygments_lexer": "ipython3",
   "version": "3.7.3"
  }
 },
 "nbformat": 4,
 "nbformat_minor": 2
}
