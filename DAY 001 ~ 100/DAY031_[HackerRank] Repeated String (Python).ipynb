{
 "cells": [
  {
   "cell_type": "markdown",
   "metadata": {},
   "source": [
    "## 2020년 3월 8일 일요일\n",
    "### HackerRank : Repeated String\n",
    "### 문제 : https://www.hackerrank.com/challenges/repeated-string/problem?h_l=interview&playlist_slugs%5B%5D=interview-preparation-kit&playlist_slugs%5B%5D=warmup\n",
    "### 블로그 :https://somjang.tistory.com/entry/HackerRank-Repeated-String-Python"
   ]
  },
  {
   "cell_type": "markdown",
   "metadata": {},
   "source": [
    "### 첫번째 시도"
   ]
  },
  {
   "cell_type": "code",
   "execution_count": 1,
   "metadata": {},
   "outputs": [],
   "source": [
    "#!/bin/python3\n",
    "\n",
    "from collections import Counter\n",
    "import math\n",
    "import os\n",
    "import random\n",
    "import re\n",
    "import sys\n",
    "\n",
    "# Complete the repeatedString function below.\n",
    "def getFrequencyA(my_string):\n",
    "    count = dict(Counter(my_string))\n",
    "\n",
    "    keys = count.keys()\n",
    "\n",
    "    if 'a' in keys:\n",
    "        answer = count['a']\n",
    "    else:\n",
    "        answer = 0\n",
    "    return answer\n",
    "\n",
    "def repeatedString(s, n):\n",
    "    if len(s) == 1 and s != 'a':\n",
    "        answer = 0\n",
    "    elif len(s) == 1 and s == 'a':\n",
    "        answer = n\n",
    "    elif len(s) > n:\n",
    "        new_string = list(s[:n])\n",
    "        \n",
    "        answer = getFrequencyA(new_string)\n",
    "    else:\n",
    "        loop_num = n // len(s)\n",
    "        mod_num = n % len(s)\n",
    "\n",
    "        new_string = ''\n",
    "\n",
    "        for i in range(loop_num):\n",
    "            new_string = new_string + s\n",
    "        new_string = new_string + s[:mod_num]\n",
    "\n",
    "        new_string = list(new_string)\n",
    "\n",
    "        answer = getFrequencyA(new_string)\n",
    "\n",
    "    return answer"
   ]
  },
  {
   "cell_type": "code",
   "execution_count": 2,
   "metadata": {},
   "outputs": [
    {
     "data": {
      "text/plain": [
       "0"
      ]
     },
     "execution_count": 2,
     "metadata": {},
     "output_type": "execute_result"
    }
   ],
   "source": [
    "repeatedString('bbs', 10)"
   ]
  },
  {
   "cell_type": "code",
   "execution_count": 3,
   "metadata": {},
   "outputs": [
    {
     "data": {
      "text/plain": [
       "1000000000000000"
      ]
     },
     "execution_count": 3,
     "metadata": {},
     "output_type": "execute_result"
    }
   ],
   "source": [
    "repeatedString('a', 1000000000000000)"
   ]
  },
  {
   "cell_type": "code",
   "execution_count": 4,
   "metadata": {},
   "outputs": [
    {
     "data": {
      "text/plain": [
       "4"
      ]
     },
     "execution_count": 4,
     "metadata": {},
     "output_type": "execute_result"
    }
   ],
   "source": [
    "repeatedString('abcac', 10)"
   ]
  },
  {
   "cell_type": "code",
   "execution_count": null,
   "metadata": {},
   "outputs": [],
   "source": [
    "repeatedString('kmretasscityylpdhuwjirnqimlkcgxubxmsxpypgzxtenweirknjtasxtvxemtwxuarabssvqdnktqadhyktagjxoanknhgilnm', 736778906400\n",
    ")"
   ]
  },
  {
   "cell_type": "markdown",
   "metadata": {},
   "source": [
    "---"
   ]
  },
  {
   "cell_type": "markdown",
   "metadata": {},
   "source": [
    "### 두번째 시도"
   ]
  },
  {
   "cell_type": "code",
   "execution_count": 13,
   "metadata": {},
   "outputs": [],
   "source": [
    "#!/bin/python3\n",
    "\n",
    "from collections import Counter\n",
    "from tqdm import tqdm\n",
    "import math\n",
    "import os\n",
    "import random\n",
    "import re\n",
    "import sys\n",
    "\n",
    "# Complete the repeatedString function below.\n",
    "def getFrequencyA(my_string):\n",
    "    count = dict(Counter(my_string))\n",
    "\n",
    "    keys = count.keys()\n",
    "\n",
    "    if 'a' in keys:\n",
    "        answer = count['a']\n",
    "    else:\n",
    "        answer = 0\n",
    "    return answer\n",
    "\n",
    "def repeatedString(s, n):\n",
    "    if len(s) == 1 and s != 'a':\n",
    "        answer = 0\n",
    "    elif len(s) == 1 and s == 'a':\n",
    "        answer = n\n",
    "    elif len(s) > n:\n",
    "        new_string = list(s[:n])\n",
    "        \n",
    "        answer = getFrequencyA(new_string)\n",
    "    else:\n",
    "        answer = 0\n",
    "        loop_num = n // len(s)\n",
    "        mod_num = n % len(s)\n",
    "\n",
    "        s_a_count = getFrequencyA(s)\n",
    "        s_mod_count = getFrequencyA(s[:mod_num])\n",
    "\n",
    "        answer = answer + (s_a_count * loop_num) + s_mod_count\n",
    "\n",
    "    return answer"
   ]
  },
  {
   "cell_type": "code",
   "execution_count": 14,
   "metadata": {},
   "outputs": [
    {
     "data": {
      "text/plain": [
       "51574523448"
      ]
     },
     "execution_count": 14,
     "metadata": {},
     "output_type": "execute_result"
    }
   ],
   "source": [
    "repeatedString('kmretasscityylpdhuwjirnqimlkcgxubxmsxpypgzxtenweirknjtasxtvxemtwxuarabssvqdnktqadhyktagjxoanknhgilnm', 736778906400\n",
    ")"
   ]
  }
 ],
 "metadata": {
  "kernelspec": {
   "display_name": "Python 3",
   "language": "python",
   "name": "python3"
  },
  "language_info": {
   "codemirror_mode": {
    "name": "ipython",
    "version": 3
   },
   "file_extension": ".py",
   "mimetype": "text/x-python",
   "name": "python",
   "nbconvert_exporter": "python",
   "pygments_lexer": "ipython3",
   "version": "3.7.3"
  }
 },
 "nbformat": 4,
 "nbformat_minor": 2
}
