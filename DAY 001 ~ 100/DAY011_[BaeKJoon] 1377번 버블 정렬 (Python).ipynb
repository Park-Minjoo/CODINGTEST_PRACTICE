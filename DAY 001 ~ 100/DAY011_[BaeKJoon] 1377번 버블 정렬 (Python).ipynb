{
 "cells": [
  {
   "cell_type": "markdown",
   "metadata": {},
   "source": [
    "## 2020년 2월 17일 월요일\n",
    "### 백준 1377번: 버블 정렬\n",
    "### 문제 : https://www.acmicpc.net/problem/1377\n",
    "### 블로그 :https://somjang.tistory.com/entry/BaeKJoon-1377%EB%B2%88-%EB%B2%84%EB%B8%94-%EC%86%8C%ED%8A%B8-Python"
   ]
  },
  {
   "cell_type": "markdown",
   "metadata": {},
   "source": [
    "### 첫번째 시도"
   ]
  },
  {
   "cell_type": "markdown",
   "metadata": {},
   "source": [
    "먼저 위의 C 코드를 잘 살펴보면 앞에서부터 하나씩 인덱스를 비교해가면서 \n",
    "\n",
    "앞의 인덱스의 원소 값이 바로 뒤의 인덱스의 원소 값보다 클 경우\n",
    "\n",
    "swap함수를 통해 두 개의 위치를 바꾸어주는 코드입니다.\n",
    "\n",
    "그러면서 처음에 false로 초기화 되어있는 change 변수를 true로 바꾸어 줍니다.\n",
    "\n",
    "그 후에 change 변수가 true가 아닐때, 즉 swap이 바뀌지 않으면\n",
    "\n",
    "마지막으로 탐색한 index의 위치를 출력하고 반복문을 중단하는 코드입니다."
   ]
  },
  {
   "cell_type": "markdown",
   "metadata": {},
   "source": [
    "버블정렬의 과정을 하나하나씩 노트에 적어보면 \n",
    "\n",
    "정렬이 될때마다 숫자가 왼쪽으로 이동한다는 겁니다.\n",
    "\n",
    "그럼 원래 인덱스와 정렬된 인덱스를 비교했을때 \n",
    "\n",
    "차이가 나게 됩니다. \n",
    "\n",
    "정렬한 상태의 인덱스에서 정렬하기 전의 인덱스를 빼주면 왼쪽으로 간 숫자의 인덱스는 양수를 가지게 됩니다.\n",
    "\n",
    "여기서 그 양수의 값에 +1 을 해주면 버블정렬이 진행된 횟수입니다."
   ]
  },
  {
   "cell_type": "code",
   "execution_count": 15,
   "metadata": {},
   "outputs": [
    {
     "name": "stdout",
     "output_type": "stream",
     "text": [
      "5\n",
      "10\n",
      "1\n",
      "5\n",
      "2\n",
      "3\n",
      "3\n"
     ]
    }
   ],
   "source": [
    "import sys\n",
    "\n",
    "N = int(input())\n",
    "\n",
    "nums = []\n",
    "indexs = []\n",
    "\n",
    "for i in range(N):\n",
    "#     num = int(sys.stdin.readline())\n",
    "    num = int(input())\n",
    "    nums.append(num)\n",
    "    \n",
    "sorted_nums = sorted(nums)\n",
    "\n",
    "answer = 0\n",
    "\n",
    "for i in range(N):\n",
    "    indexs.append(nums.index(sorted_nums[i]))\n",
    "    \n",
    "    answer = max(answer, indexs[i]-i)\n",
    "    \n",
    "print(answer+ 1)"
   ]
  },
  {
   "cell_type": "markdown",
   "metadata": {},
   "source": [
    "시간초과가 났습니다.\n",
    "\n",
    "sorted하고 index하고 하는 과정에서 시간이 오래걸리지 않았나 생각이들어 append의 형식을 바꾸어보았습니다."
   ]
  },
  {
   "cell_type": "markdown",
   "metadata": {},
   "source": [
    "---"
   ]
  },
  {
   "cell_type": "markdown",
   "metadata": {},
   "source": [
    "### 두번째 시도"
   ]
  },
  {
   "cell_type": "code",
   "execution_count": 18,
   "metadata": {},
   "outputs": [
    {
     "name": "stdout",
     "output_type": "stream",
     "text": [
      "5\n",
      "10\n",
      "2\n",
      "1\n",
      "3\n",
      "5\n",
      "3\n"
     ]
    }
   ],
   "source": [
    "import sys\n",
    "\n",
    "N = int(input())\n",
    "\n",
    "nums = []\n",
    "\n",
    "for i in range(N):\n",
    "#     num = int(sys.stdin.readline())\n",
    "    num = int(input())\n",
    "    nums.append((num, i))\n",
    "    \n",
    "sorted_nums = sorted(nums)\n",
    "\n",
    "answer = 0\n",
    "for i in range(N):\n",
    "    answer = max(sorted_nums[i][1] - i + 1, answer)\n",
    "    \n",
    "print(answer)"
   ]
  },
  {
   "cell_type": "markdown",
   "metadata": {},
   "source": [
    "결과는 성공!"
   ]
  }
 ],
 "metadata": {
  "kernelspec": {
   "display_name": "Python 3",
   "language": "python",
   "name": "python3"
  },
  "language_info": {
   "codemirror_mode": {
    "name": "ipython",
    "version": 3
   },
   "file_extension": ".py",
   "mimetype": "text/x-python",
   "name": "python",
   "nbconvert_exporter": "python",
   "pygments_lexer": "ipython3",
   "version": "3.7.3"
  }
 },
 "nbformat": 4,
 "nbformat_minor": 2
}
