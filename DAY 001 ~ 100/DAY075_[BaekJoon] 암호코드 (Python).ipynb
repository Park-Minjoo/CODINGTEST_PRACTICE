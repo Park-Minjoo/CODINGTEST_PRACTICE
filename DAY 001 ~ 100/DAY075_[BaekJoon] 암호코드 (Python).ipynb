{
 "cells": [
  {
   "cell_type": "markdown",
   "metadata": {},
   "source": [
    "## 2020년 4월 22일 화요일\n",
    "### BaekJoon - 2011번 : 암호코드 (Python)\n",
    "### 문제 : https://www.acmicpc.net/problem/2011\n",
    "### 블로그 : https://somjang.tistory.com/entry/BaekJoon-2011%EB%B2%88-%EC%95%94%ED%98%B8%EC%BD%94%EB%93%9C-Python"
   ]
  },
  {
   "cell_type": "markdown",
   "metadata": {},
   "source": [
    "### 첫번째 시도"
   ]
  },
  {
   "cell_type": "code",
   "execution_count": null,
   "metadata": {},
   "outputs": [],
   "source": [
    "inputNum = input()\n",
    "nums = [int(num) for num in list(inputNum)]\n",
    "nc = [0] * (len(nums)+1)\n",
    "nc[0] = 1\n",
    "for i in range(1, len(nums)+1):\n",
    "    if (1<= nums[i-1]) and (nums[i-1]<=9):\n",
    "        nc[i] += nc[i-1]\n",
    "    if i == 1:\n",
    "        continue\n",
    "    temp = (nums[i-2] * 10 + nums[i-1])\n",
    "    if (10<= temp) and (temp <=26):\n",
    "        nc[i] += nc[i-2]\n",
    "\n",
    "print(nc[len(nums)] % 1000000)"
   ]
  }
 ],
 "metadata": {
  "kernelspec": {
   "display_name": "Python 3",
   "language": "python",
   "name": "python3"
  },
  "language_info": {
   "codemirror_mode": {
    "name": "ipython",
    "version": 3
   },
   "file_extension": ".py",
   "mimetype": "text/x-python",
   "name": "python",
   "nbconvert_exporter": "python",
   "pygments_lexer": "ipython3",
   "version": "3.7.3"
  }
 },
 "nbformat": 4,
 "nbformat_minor": 2
}
