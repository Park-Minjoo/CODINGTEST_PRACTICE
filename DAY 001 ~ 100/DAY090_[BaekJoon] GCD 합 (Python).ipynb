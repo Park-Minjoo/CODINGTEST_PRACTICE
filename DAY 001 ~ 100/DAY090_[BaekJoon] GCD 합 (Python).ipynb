{
 "cells": [
  {
   "cell_type": "markdown",
   "metadata": {},
   "source": [
    "## 2020년 5월 6일 수요일\n",
    "### BaekJoon - 9613번 : GCD합\n",
    "### 문제 : https://www.acmicpc.net/problem/9613\n",
    "### 블로그 : https://somjang.tistory.com/entry/BaekJoon-9613%EB%B2%88-GCD-%ED%95%A9-Python"
   ]
  },
  {
   "cell_type": "markdown",
   "metadata": {},
   "source": [
    "### 첫번째 시도"
   ]
  },
  {
   "cell_type": "code",
   "execution_count": null,
   "metadata": {},
   "outputs": [],
   "source": [
    "def gcd(a, b):\n",
    "    mod = a%b\n",
    "    while mod > 0:\n",
    "        a = b\n",
    "        b = mod\n",
    "        mod = a%b\n",
    "    return b\n",
    "\n",
    "\n",
    "inputNum = int(input())\n",
    "\n",
    "for i in range(inputNum):\n",
    "    inputNums = list(map(int, input().split()))\n",
    "    sum = 0\n",
    "    \n",
    "    for j in range(1, inputNums[0]+1):\n",
    "        for k in range(1, inputNums[0]+1):\n",
    "            if j != k:\n",
    "                sum = sum + gcd(inputNums[j], inputNums[k])\n",
    "    print(int(sum/2))"
   ]
  }
 ],
 "metadata": {
  "kernelspec": {
   "display_name": "Python 3",
   "language": "python",
   "name": "python3"
  },
  "language_info": {
   "codemirror_mode": {
    "name": "ipython",
    "version": 3
   },
   "file_extension": ".py",
   "mimetype": "text/x-python",
   "name": "python",
   "nbconvert_exporter": "python",
   "pygments_lexer": "ipython3",
   "version": "3.7.3"
  }
 },
 "nbformat": 4,
 "nbformat_minor": 2
}
