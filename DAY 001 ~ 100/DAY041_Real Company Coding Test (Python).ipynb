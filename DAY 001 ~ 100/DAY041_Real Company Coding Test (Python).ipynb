{
 "cells": [
  {
   "cell_type": "markdown",
   "metadata": {},
   "source": [
    "## 2020년 3월 18일\n",
    "### 회사 기술 면접 코딩테스트 문제"
   ]
  },
  {
   "cell_type": "markdown",
   "metadata": {},
   "source": [
    "### 문제\n",
    "\n",
    "#### 다음과 같이 정렬된 리스트 3개가 주어졌을때 3개의 리스트에 모두 존재하는 값을 찾아 출력하시오.\n",
    "#### 조건 : 정렬된 리스트를 활용하여 최대한 효율적인 코드를 작성하시오\n",
    "\n",
    "#### Sample input\n",
    "- a = [ 1, 3, 5, 7, 9, 13, 15 ]\n",
    "- b = [ 4, 5, 6, 8, 13 ]\n",
    "- c = [ 5, 8, 13, 19 ]\n",
    "\n",
    "#### Sample output\n",
    "- answer = [ 5, 13 ]"
   ]
  },
  {
   "cell_type": "markdown",
   "metadata": {},
   "source": [
    "---"
   ]
  },
  {
   "cell_type": "code",
   "execution_count": 31,
   "metadata": {},
   "outputs": [],
   "source": [
    "a = [ 1, 3, 5, 7, 9, 13, 15 ]\n",
    "b = [ 4, 5, 6, 8, 13 ]\n",
    "c = [ 5, 8, 13, 19 ]"
   ]
  },
  {
   "cell_type": "markdown",
   "metadata": {},
   "source": [
    "### 첫번째 시도"
   ]
  },
  {
   "cell_type": "code",
   "execution_count": 32,
   "metadata": {},
   "outputs": [
    {
     "name": "stdout",
     "output_type": "stream",
     "text": [
      "[5, 13]\n",
      "CPU times: user 171 µs, sys: 81 µs, total: 252 µs\n",
      "Wall time: 389 µs\n"
     ]
    }
   ],
   "source": [
    "%%time\n",
    "answer = []\n",
    "for i in range(len(a)):\n",
    "    if ( a[i] in b ) and ( a[i] in c ):\n",
    "        answer.append(a[i])\n",
    "print(answer)"
   ]
  },
  {
   "cell_type": "markdown",
   "metadata": {},
   "source": [
    "in 의 시간복잡도가 O(n)이므로 비효율적임."
   ]
  },
  {
   "cell_type": "markdown",
   "metadata": {},
   "source": [
    "---"
   ]
  },
  {
   "cell_type": "markdown",
   "metadata": {},
   "source": [
    "### 두번째 시도"
   ]
  },
  {
   "cell_type": "code",
   "execution_count": 27,
   "metadata": {},
   "outputs": [
    {
     "name": "stdout",
     "output_type": "stream",
     "text": [
      "1 4 5\n",
      "3 4 5\n",
      "5 4 5\n",
      "5 5 5\n",
      "7 6 8\n",
      "7 8 8\n",
      "9 8 8\n",
      "9 13 8\n",
      "9 13 13\n",
      "13 13 13\n",
      "[5, 13]\n",
      "CPU times: user 721 µs, sys: 398 µs, total: 1.12 ms\n",
      "Wall time: 756 µs\n"
     ]
    }
   ],
   "source": [
    "%%time\n",
    "answer = []\n",
    "\n",
    "a_index = 0\n",
    "b_index = 0\n",
    "c_index = 0\n",
    "\n",
    "while(True):\n",
    "    if a_index >= len(a) or b_index >= len(b) or c_index >= len(c):\n",
    "        break\n",
    "    a_val = a[a_index]\n",
    "    b_val = b[b_index]\n",
    "    c_val = c[c_index]\n",
    "    \n",
    "    print(a_val, b_val, c_val)\n",
    "    \n",
    "    if a_val == b_val == c_val:\n",
    "        answer.append(a_val)\n",
    "        a_index = a_index + 1\n",
    "        b_index = b_index + 1\n",
    "        c_index = c_index + 1\n",
    "    elif min([a_val, b_val, c_val]) == a_val:\n",
    "        a_index = a_index + 1\n",
    "    elif min([a_val, b_val, c_val]) == b_val:\n",
    "        b_index = b_index + 1\n",
    "    elif min([a_val, b_val, c_val]) == c_val:\n",
    "        c_index = c_index + 1\n",
    "        \n",
    "print(answer)"
   ]
  },
  {
   "cell_type": "code",
   "execution_count": 13,
   "metadata": {},
   "outputs": [],
   "source": [
    "def getDuplicateNums(a, b, c):\n",
    "    answer = []\n",
    "\n",
    "    a_index = 0\n",
    "    b_index = 0\n",
    "    c_index = 0\n",
    "\n",
    "    while(True):\n",
    "        if a_index >= len(a) or b_index >= len(b) or c_index >= len(c):\n",
    "            break\n",
    "        a_val = a[a_index]\n",
    "        b_val = b[b_index]\n",
    "        c_val = c[c_index]\n",
    "\n",
    "        print(a_val, b_val, c_val)\n",
    "\n",
    "        if a_val == b_val == c_val:\n",
    "            answer.append(a_val)\n",
    "            a_index = a_index + 1\n",
    "            b_index = b_index + 1\n",
    "            c_index = c_index + 1\n",
    "        elif min([a_val, b_val, c_val]) == a_val:\n",
    "            a_index = a_index + 1\n",
    "        elif min([a_val, b_val, c_val]) == b_val:\n",
    "            b_index = b_index + 1\n",
    "        elif min([a_val, b_val, c_val]) == c_val:\n",
    "            c_index = c_index + 1\n",
    "        \n",
    "    return answer"
   ]
  },
  {
   "cell_type": "code",
   "execution_count": 14,
   "metadata": {},
   "outputs": [
    {
     "name": "stdout",
     "output_type": "stream",
     "text": [
      "1 2 480\n",
      "2 2 480\n",
      "3 2 480\n",
      "3 130 480\n",
      "4 130 480\n",
      "[]\n"
     ]
    }
   ],
   "source": [
    "a = [ 1, 2, 3, 4 ]\n",
    "b = [ 2, 130 ]\n",
    "c = [ 480 ]\n",
    "\n",
    "print(getDuplicateNums(a, b, c))"
   ]
  },
  {
   "cell_type": "code",
   "execution_count": null,
   "metadata": {},
   "outputs": [],
   "source": []
  }
 ],
 "metadata": {
  "kernelspec": {
   "display_name": "Python 3",
   "language": "python",
   "name": "python3"
  },
  "language_info": {
   "codemirror_mode": {
    "name": "ipython",
    "version": 3
   },
   "file_extension": ".py",
   "mimetype": "text/x-python",
   "name": "python",
   "nbconvert_exporter": "python",
   "pygments_lexer": "ipython3",
   "version": "3.7.3"
  }
 },
 "nbformat": 4,
 "nbformat_minor": 2
}
