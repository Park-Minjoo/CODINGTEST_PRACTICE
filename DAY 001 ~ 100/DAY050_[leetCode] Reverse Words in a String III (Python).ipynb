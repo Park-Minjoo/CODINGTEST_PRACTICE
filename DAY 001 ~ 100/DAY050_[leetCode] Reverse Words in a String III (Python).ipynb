{
 "cells": [
  {
   "cell_type": "markdown",
   "metadata": {},
   "source": [
    "## 2020년 3월 27일 금요일\n",
    "### leetCode : Reverse Words in a String III\n",
    "### 문제 : https://leetcode.com/problems/reverse-words-in-a-string-iii/\n",
    "### 블로그 :https://somjang.tistory.com/entry/leetCode-557-Reverse-Words-in-a-String-III-Python"
   ]
  },
  {
   "cell_type": "markdown",
   "metadata": {},
   "source": [
    "### 첫번째 시도"
   ]
  },
  {
   "cell_type": "code",
   "execution_count": 6,
   "metadata": {},
   "outputs": [],
   "source": [
    "class Solution:\n",
    "    def reverseWords(self, s: str) -> str:\n",
    "        split_s = s.split()\n",
    "        \n",
    "        answer = []\n",
    "        \n",
    "        for i in range(len(split_s)):\n",
    "            reverse_str = list(reversed(split_s[i]))\n",
    "            answer.append(''.join(reverse_str))\n",
    "        return ' '.join(answer)"
   ]
  },
  {
   "cell_type": "markdown",
   "metadata": {},
   "source": [
    "---"
   ]
  },
  {
   "cell_type": "markdown",
   "metadata": {},
   "source": [
    "### 두번째 시도"
   ]
  },
  {
   "cell_type": "code",
   "execution_count": 7,
   "metadata": {},
   "outputs": [],
   "source": [
    "class Solution:\n",
    "    def reverseWords(self, s: str) -> str:\n",
    "        split_s = s.split()\n",
    "        \n",
    "        for i in range(len(split_s)):\n",
    "            split_s[i] = split_s[i][::-1]\n",
    "        return ' '.join(split_s)"
   ]
  }
 ],
 "metadata": {
  "kernelspec": {
   "display_name": "Python 3",
   "language": "python",
   "name": "python3"
  },
  "language_info": {
   "codemirror_mode": {
    "name": "ipython",
    "version": 3
   },
   "file_extension": ".py",
   "mimetype": "text/x-python",
   "name": "python",
   "nbconvert_exporter": "python",
   "pygments_lexer": "ipython3",
   "version": "3.7.3"
  }
 },
 "nbformat": 4,
 "nbformat_minor": 2
}
