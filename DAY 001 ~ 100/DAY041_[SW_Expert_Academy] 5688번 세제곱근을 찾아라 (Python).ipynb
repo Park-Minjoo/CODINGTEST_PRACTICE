{
 "cells": [
  {
   "cell_type": "markdown",
   "metadata": {},
   "source": [
    "## 2020년 3월 18일 수요일\n",
    "### SW Expert Academy - 5688번 세제곱근을 찾아라\n",
    "### 문제 : https://swexpertacademy.com/main/code/problem/problemDetail.do?contestProbId=AWXVyCaKugQDFAUo&categoryId=AWXVyCaKugQDFAUo&categoryType=CODE\n",
    "### 블로그 : https://somjang.tistory.com/entry/SWExpertAcademy-5688%EB%B2%88-%EC%84%B8%EC%A0%9C%EA%B3%B1%EA%B7%BC%EC%9D%84-%EC%B0%BE%EC%95%84%EB%9D%BC-Python"
   ]
  },
  {
   "cell_type": "markdown",
   "metadata": {},
   "source": [
    "### 첫번째 시도"
   ]
  },
  {
   "cell_type": "code",
   "execution_count": 2,
   "metadata": {},
   "outputs": [
    {
     "name": "stdout",
     "output_type": "stream",
     "text": [
      "3\n",
      "27\n",
      "#1 3\n",
      "7777\n",
      "#2 -1\n",
      "64\n",
      "#3 4\n"
     ]
    }
   ],
   "source": [
    "loop_num = int(input())\n",
    "\n",
    "pow3_dic = {}\n",
    "\n",
    "for i in range(pow(10, 6) + 1):\n",
    "    pow3_dic[pow(i, 3)] = i\n",
    "    \n",
    "keys = pow3_dic.keys()\n",
    "\n",
    "for i in range(loop_num):\n",
    "    input_num = int(input())\n",
    "    \n",
    "    if input_num in keys:\n",
    "        print(\"#{} {}\".format(i+1, pow3_dic[input_num]))\n",
    "    else:\n",
    "              print(\"#{} {}\".format(i+1, -1))"
   ]
  }
 ],
 "metadata": {
  "kernelspec": {
   "display_name": "Python 3",
   "language": "python",
   "name": "python3"
  },
  "language_info": {
   "codemirror_mode": {
    "name": "ipython",
    "version": 3
   },
   "file_extension": ".py",
   "mimetype": "text/x-python",
   "name": "python",
   "nbconvert_exporter": "python",
   "pygments_lexer": "ipython3",
   "version": "3.7.3"
  }
 },
 "nbformat": 4,
 "nbformat_minor": 2
}
