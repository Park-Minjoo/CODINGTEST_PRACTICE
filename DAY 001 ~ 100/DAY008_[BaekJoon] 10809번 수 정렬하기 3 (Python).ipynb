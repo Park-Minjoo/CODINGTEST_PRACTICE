{
 "cells": [
  {
   "cell_type": "markdown",
   "metadata": {},
   "source": [
    "## 2020년 2월 14일 금요일\n",
    "### 백준 10809번: 수 정렬하기 3\n",
    "### 문제 : https://www.acmicpc.net/problem/10809\n",
    "### 블로그 :https://somjang.tistory.com/entry/Mxmxmxm"
   ]
  },
  {
   "cell_type": "markdown",
   "metadata": {},
   "source": [
    "### 첫번째 시도"
   ]
  },
  {
   "cell_type": "markdown",
   "metadata": {},
   "source": [
    "수 정렬하기 2 코드 그대로 사용 -> 메모리 초과로 실패"
   ]
  },
  {
   "cell_type": "markdown",
   "metadata": {},
   "source": [
    "---"
   ]
  },
  {
   "cell_type": "markdown",
   "metadata": {},
   "source": [
    "### 두번째 시도"
   ]
  },
  {
   "cell_type": "markdown",
   "metadata": {},
   "source": [
    "Dictionary를 활용"
   ]
  },
  {
   "cell_type": "code",
   "execution_count": 6,
   "metadata": {},
   "outputs": [
    {
     "name": "stdout",
     "output_type": "stream",
     "text": [
      "10\n",
      "5\n",
      "2\n",
      "3\n",
      "1\n",
      "4\n",
      "2\n",
      "3\n",
      "5\n",
      "1\n",
      "7\n",
      "1\n",
      "1\n",
      "2\n",
      "2\n",
      "3\n",
      "3\n",
      "4\n",
      "5\n",
      "5\n",
      "7\n"
     ]
    }
   ],
   "source": [
    "N = int(input())\n",
    "\n",
    "my_dict = {}\n",
    "\n",
    "for i in range(N):\n",
    "    num = int(input())\n",
    "    \n",
    "    if num not in my_dict.keys():\n",
    "        my_dict[num] = 1\n",
    "    else:\n",
    "        my_dict[num] = my_dict[num] + 1\n",
    "        \n",
    "sorted_dict = sorted(my_dict.items())\n",
    "\n",
    "    \n",
    "for i in range(len(sorted_dict)):\n",
    "    for j in range(sorted_dict[i][1]):\n",
    "        print(sorted_dict[i][0])\n",
    "    "
   ]
  },
  {
   "cell_type": "markdown",
   "metadata": {},
   "source": [
    "이런...\n",
    "\n",
    "생각과 많이 달랐나봅니다.\n",
    "\n",
    "\n",
    "\n",
    "뭔가 정렬하는 부분에서 시간초과와 메모리 초과가 발생하지 않았나 생각되는 부분입니다.\n",
    "\n",
    "\n",
    "\n",
    "이번에는 문제의 조건을 잘 살펴 보았습니다."
   ]
  },
  {
   "cell_type": "markdown",
   "metadata": {},
   "source": [
    "---"
   ]
  },
  {
   "cell_type": "markdown",
   "metadata": {},
   "source": [
    "### 세번째 시도"
   ]
  },
  {
   "cell_type": "markdown",
   "metadata": {},
   "source": [
    "이번에는 문제의 조건을 잘 살펴 보았습니다.\n",
    "\n",
    "\n",
    "\n",
    "여기서 입력받는 숫자는 0부터 10,000사이의 숫자만 입력 받습니다.\n",
    "\n",
    "\n",
    "\n",
    "이번엔 0으로 가득차있는 길이가 10,000인 list를 생성하고 입력받는 수를 \n",
    "\n",
    "index값으로 하여 해당 index의 값을 +1 씩 증가해주고\n",
    "\n",
    "\n",
    "\n",
    "해당 list를 처음부터 반복문을 돌면서 0이 아닐경우 해당 숫자만큼 해당 index를 출력하는 방법을 떠올려 보았습니다.\n",
    "\n",
    "\n",
    "\n",
    "또 바로 코드로 구현해 보았습니다."
   ]
  },
  {
   "cell_type": "code",
   "execution_count": 11,
   "metadata": {},
   "outputs": [
    {
     "name": "stdout",
     "output_type": "stream",
     "text": [
      "10\n",
      "5\n",
      "2\n",
      "3\n",
      "1\n",
      "4\n",
      "2\n",
      "3\n",
      "5\n",
      "1\n",
      "7\n",
      "1\n",
      "1\n",
      "2\n",
      "2\n",
      "3\n",
      "3\n",
      "4\n",
      "5\n",
      "5\n",
      "7\n"
     ]
    }
   ],
   "source": [
    "N = int(input())\n",
    "\n",
    "check_list = [0] * 10000\n",
    "\n",
    "for i in range(N):\n",
    "    input_num = int(input())\n",
    "    \n",
    "    check_list[input_num - 1] = check_list[input_num - 1] + 1\n",
    "    \n",
    "for i in range(10000):\n",
    "    if check_list[i] != 0:\n",
    "        for j in range(check_list[i]):\n",
    "            print(i+1)"
   ]
  },
  {
   "cell_type": "markdown",
   "metadata": {},
   "source": [
    "계속 메모리초과와 시간초과의 결과를 내어 인터넷의 세상으로 가보니\n",
    "\n",
    "check_list의 길이를 10,000에서 10,001로 늘리면 된다는 말이 있어 해보았습니다."
   ]
  },
  {
   "cell_type": "markdown",
   "metadata": {},
   "source": [
    "### 네번째 시도"
   ]
  },
  {
   "cell_type": "code",
   "execution_count": 15,
   "metadata": {},
   "outputs": [
    {
     "name": "stdout",
     "output_type": "stream",
     "text": [
      "10\n",
      "5\n",
      "2\n",
      "3\n",
      "1\n",
      "4\n",
      "2\n",
      "3\n",
      "5\n",
      "1\n",
      "7\n",
      "1\n",
      "1\n",
      "2\n",
      "2\n",
      "3\n",
      "3\n",
      "4\n",
      "5\n",
      "5\n",
      "7\n"
     ]
    }
   ],
   "source": [
    "N = int(input())\n",
    "\n",
    "check_list = [0] * 10001\n",
    "\n",
    "for i in range(N):\n",
    "    input_num = int(input())\n",
    "    \n",
    "    check_list[input_num] = check_list[input_num] + 1\n",
    "    \n",
    "for i in range(10001):\n",
    "    if check_list[i] != 0:\n",
    "        for j in range(check_list[i]):\n",
    "            print(i)"
   ]
  },
  {
   "cell_type": "markdown",
   "metadata": {},
   "source": [
    "이것 마저 시간초과!\n",
    "\n",
    "그러고보니 예전에 문제를 풀 당시에 input()의 시간이 오래걸린다고 했던 것이\n",
    "\n",
    "떠올랐습니다."
   ]
  },
  {
   "cell_type": "markdown",
   "metadata": {},
   "source": [
    "### 다섯번째 시도"
   ]
  },
  {
   "cell_type": "markdown",
   "metadata": {},
   "source": [
    "for 안의 input()을 sys.stdin.readline()으로 바꾸어 제출해보았습니다."
   ]
  },
  {
   "cell_type": "code",
   "execution_count": 28,
   "metadata": {},
   "outputs": [
    {
     "name": "stdout",
     "output_type": "stream",
     "text": [
      "0\n"
     ]
    }
   ],
   "source": [
    "import sys\n",
    "\n",
    "N = int(input())\n",
    "\n",
    "check_list = [0] * 10001\n",
    "\n",
    "for i in range(N):\n",
    "    input_num = int(sys.stdin.readline())\n",
    "    \n",
    "    check_list[input_num] = check_list[input_num] + 1\n",
    "    \n",
    "for i in range(10001):\n",
    "    if check_list[i] != 0:\n",
    "        for j in range(check_list[i]):\n",
    "            print(i)"
   ]
  },
  {
   "cell_type": "markdown",
   "metadata": {},
   "source": [
    "드디어 성공!\n",
    "\n",
    "백준문제는 정말 시간과 메모리 제한이 제일 어려운 것 같습니다.\n",
    "\n",
    "그래도 더 효율적인 방법으로 정렬하지 않고도 \n",
    "\n",
    "정렬한 것 같은 효과를 내는 방법에 대해 알게되어 좋았습니다."
   ]
  },
  {
   "cell_type": "code",
   "execution_count": null,
   "metadata": {},
   "outputs": [],
   "source": []
  }
 ],
 "metadata": {
  "kernelspec": {
   "display_name": "Python 3",
   "language": "python",
   "name": "python3"
  },
  "language_info": {
   "codemirror_mode": {
    "name": "ipython",
    "version": 3
   },
   "file_extension": ".py",
   "mimetype": "text/x-python",
   "name": "python",
   "nbconvert_exporter": "python",
   "pygments_lexer": "ipython3",
   "version": "3.7.3"
  }
 },
 "nbformat": 4,
 "nbformat_minor": 2
}
