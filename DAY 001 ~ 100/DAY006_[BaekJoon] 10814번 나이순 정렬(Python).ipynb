{
 "cells": [
  {
   "cell_type": "markdown",
   "metadata": {},
   "source": [
    "## 2020년 2월 12일 수요일\n",
    "### 백준 10814번: 나이순 정렬\n",
    "### 문제 : https://www.acmicpc.net/problem/10814\n",
    "### 블로그 : https://somjang.tistory.com/entry/BaeKJoon-10814%EB%B2%88-%EB%82%98%EC%9D%B4%EC%88%9C-%EC%A0%95%EB%A0%AC-Python"
   ]
  },
  {
   "cell_type": "markdown",
   "metadata": {},
   "source": [
    "### 첫번째 시도"
   ]
  },
  {
   "cell_type": "markdown",
   "metadata": {},
   "source": [
    "Dictionary를 활용해보자"
   ]
  },
  {
   "cell_type": "code",
   "execution_count": 26,
   "metadata": {},
   "outputs": [
    {
     "name": "stdout",
     "output_type": "stream",
     "text": [
      "5\n",
      "20 Sunyoung\n",
      "19 Dong\n",
      "19 Ajgjg\n",
      "21 didld\n",
      "22 dkdld\n",
      "[(19, ['Dong', 'Ajgjg']), (20, ['Sunyoung']), (21, ['didld']), (22, ['dkdld'])]\n",
      "19 Dong\n",
      "19 Ajgjg\n",
      "20 Sunyoung\n",
      "21 didld\n",
      "22 dkdld\n"
     ]
    }
   ],
   "source": [
    "N = int(input())\n",
    "\n",
    "data_dict = {}\n",
    "\n",
    "for i in range(N):\n",
    "    [a, b] = map(str, input().split())\n",
    "    \n",
    "    if int(a) not in data_dict.keys():\n",
    "        data_dict.update({int(a):[b]})\n",
    "    else:\n",
    "        data_dict[int(a)].append(b)\n",
    "\n",
    "sorted_dict = sorted(data_dict.items())\n",
    "\n",
    "for items in sorted_dict:\n",
    "    for i in range(len(items[1])):\n",
    "        print(items[0], items[1][i])\n",
    "    "
   ]
  }
 ],
 "metadata": {
  "kernelspec": {
   "display_name": "Python 3",
   "language": "python",
   "name": "python3"
  },
  "language_info": {
   "codemirror_mode": {
    "name": "ipython",
    "version": 3
   },
   "file_extension": ".py",
   "mimetype": "text/x-python",
   "name": "python",
   "nbconvert_exporter": "python",
   "pygments_lexer": "ipython3",
   "version": "3.7.3"
  }
 },
 "nbformat": 4,
 "nbformat_minor": 2
}
