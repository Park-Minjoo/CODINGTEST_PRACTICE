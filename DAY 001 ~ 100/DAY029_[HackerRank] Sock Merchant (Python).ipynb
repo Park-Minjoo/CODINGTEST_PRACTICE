{
 "cells": [
  {
   "cell_type": "markdown",
   "metadata": {},
   "source": [
    "## 2020년 3월 6일 금요일\n",
    "### HackerRank : Sock Merchant\n",
    "### 문제 : https://www.hackerrank.com/challenges/sock-merchant/problem\n",
    "### 블로그 :https://somjang.tistory.com/entry/HackerRank-Sock-Merchant-Python"
   ]
  },
  {
   "cell_type": "markdown",
   "metadata": {},
   "source": [
    "### 첫번째 시도"
   ]
  },
  {
   "cell_type": "code",
   "execution_count": 1,
   "metadata": {},
   "outputs": [],
   "source": [
    "#!/bin/python3\n",
    "\n",
    "import math\n",
    "import os\n",
    "import random\n",
    "import re\n",
    "import sys\n",
    "\n",
    "# Complete the sockMerchant function below.\n",
    "def sockMerchant(n, ar):\n",
    "    check_stack = []\n",
    "    answer = 0\n",
    "\n",
    "    for i in range(n):\n",
    "        if ar[i] not in check_stack:\n",
    "            check_stack.append(ar[i])\n",
    "\n",
    "        else:\n",
    "            check_stack.remove(ar[i])\n",
    "            answer = answer + 1\n",
    "\n",
    "    return answer"
   ]
  }
 ],
 "metadata": {
  "kernelspec": {
   "display_name": "Python 3",
   "language": "python",
   "name": "python3"
  },
  "language_info": {
   "codemirror_mode": {
    "name": "ipython",
    "version": 3
   },
   "file_extension": ".py",
   "mimetype": "text/x-python",
   "name": "python",
   "nbconvert_exporter": "python",
   "pygments_lexer": "ipython3",
   "version": "3.7.3"
  }
 },
 "nbformat": 4,
 "nbformat_minor": 2
}
