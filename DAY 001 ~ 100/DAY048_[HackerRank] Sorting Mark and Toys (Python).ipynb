{
 "cells": [
  {
   "cell_type": "markdown",
   "metadata": {},
   "source": [
    "## 2020년 3월 25일 수요일\n",
    "### HackerRank - Sorting : Mark and Toys\n",
    "### 문제 :https://www.hackerrank.com/challenges/mark-and-toys/problem?h_l=interview&playlist_slugs%5B%5D=interview-preparation-kit&playlist_slugs%5B%5D=sorting\n",
    "### 블로그 :https://somjang.tistory.com/entry/HackerRank-Sorting-Mark-and-Toys-Python"
   ]
  },
  {
   "cell_type": "markdown",
   "metadata": {},
   "source": [
    "### 첫번째 시도"
   ]
  },
  {
   "cell_type": "code",
   "execution_count": 1,
   "metadata": {},
   "outputs": [],
   "source": [
    "#!/bin/python3\n",
    "\n",
    "import math\n",
    "import os\n",
    "import random\n",
    "import re\n",
    "import sys\n",
    "\n",
    "# Complete the maximumToys function below.\n",
    "def maximumToys(prices, k):\n",
    "    sort_prices = sorted(prices)\n",
    "\n",
    "    count = 0\n",
    "\n",
    "    for i in range(len(sort_prices)):\n",
    "        k = k - sort_prices[i]\n",
    "\n",
    "        if k < 0 :\n",
    "            break\n",
    "        count = count + 1\n",
    "\n",
    "    return count\n"
   ]
  }
 ],
 "metadata": {
  "kernelspec": {
   "display_name": "Python 3",
   "language": "python",
   "name": "python3"
  },
  "language_info": {
   "codemirror_mode": {
    "name": "ipython",
    "version": 3
   },
   "file_extension": ".py",
   "mimetype": "text/x-python",
   "name": "python",
   "nbconvert_exporter": "python",
   "pygments_lexer": "ipython3",
   "version": "3.7.3"
  }
 },
 "nbformat": 4,
 "nbformat_minor": 2
}
