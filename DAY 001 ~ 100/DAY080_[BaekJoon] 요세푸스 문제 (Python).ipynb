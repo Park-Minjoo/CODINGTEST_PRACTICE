{
 "cells": [
  {
   "cell_type": "markdown",
   "metadata": {},
   "source": [
    "## 2020년 4월 26일 일요일\n",
    "### BaekJoon - 1158번 : 요세푸스 문제 (Python)\n",
    "### 문제 : https://www.acmicpc.net/problem/1158\n",
    "### 블로그 : https://somjang.tistory.com/entry/BaekJoon-1158%EB%B2%88-%EC%9A%94%EC%84%B8%ED%91%B8%EC%8A%A4-%EB%AC%B8%EC%A0%9C-Python"
   ]
  },
  {
   "cell_type": "markdown",
   "metadata": {},
   "source": [
    "### 첫번째 시도"
   ]
  },
  {
   "cell_type": "code",
   "execution_count": null,
   "metadata": {},
   "outputs": [],
   "source": [
    "N, K = map(int, input().split())\n",
    "circular_list = []\n",
    "answer = []\n",
    "\n",
    "for i in range(N):\n",
    "    circular_list.append(i+1)\n",
    "\n",
    "popNum = 0\n",
    "\n",
    "while len(circular_list) >0:\n",
    "    popNum = (popNum + (K-1)) % len(circular_list)\n",
    "    popElemnet = circular_list.pop(popNum)\n",
    "    answer.append(str(popElemnet))\n",
    "\n",
    "print(\"<%s>\" %(\", \".join(answer)))"
   ]
  }
 ],
 "metadata": {
  "kernelspec": {
   "display_name": "Python 3",
   "language": "python",
   "name": "python3"
  },
  "language_info": {
   "codemirror_mode": {
    "name": "ipython",
    "version": 3
   },
   "file_extension": ".py",
   "mimetype": "text/x-python",
   "name": "python",
   "nbconvert_exporter": "python",
   "pygments_lexer": "ipython3",
   "version": "3.7.3"
  }
 },
 "nbformat": 4,
 "nbformat_minor": 2
}
