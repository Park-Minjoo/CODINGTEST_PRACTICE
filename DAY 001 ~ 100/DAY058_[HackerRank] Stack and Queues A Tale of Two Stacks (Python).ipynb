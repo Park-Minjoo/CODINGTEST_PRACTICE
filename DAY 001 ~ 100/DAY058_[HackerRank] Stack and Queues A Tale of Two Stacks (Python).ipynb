{
 "cells": [
  {
   "cell_type": "markdown",
   "metadata": {},
   "source": [
    "## 2020년 4월 4일 토요일\n",
    "### HackerRank - Stack and Queues : A Tale of Two Stacks\n",
    "### 문제 : https://www.hackerrank.com/challenges/ctci-queue-using-two-stacks/problem?h_l=interview&playlist_slugs%5B%5D=interview-preparation-kit&playlist_slugs%5B%5D=stacks-queues\n",
    "### 블로그 : https://somjang.tistory.com/entry/HackerRank-Stack-and-Queues-A-Tale-of-Two-Stacks"
   ]
  },
  {
   "cell_type": "markdown",
   "metadata": {},
   "source": [
    "### 첫번째 시도"
   ]
  },
  {
   "cell_type": "code",
   "execution_count": 2,
   "metadata": {},
   "outputs": [
    {
     "name": "stdout",
     "output_type": "stream",
     "text": [
      "5\n",
      "1 35\n",
      "1 15\n",
      "3\n",
      "35\n",
      "2\n",
      "3\n",
      "15\n"
     ]
    }
   ],
   "source": [
    "class MyQueue(object):\n",
    "    def __init__(self):\n",
    "        self.my_queue = []\n",
    "        \n",
    "    def peek(self):\n",
    "        return self.my_queue[0]\n",
    "        \n",
    "    def pop(self):\n",
    "        self.my_queue = self.my_queue[1:]        \n",
    "        \n",
    "    def put(self, value):\n",
    "        self.my_queue.append(value)\n",
    "\n",
    "queue = MyQueue()\n",
    "t = int(input())\n",
    "for line in range(t):\n",
    "    values = map(int, input().split())\n",
    "    values = list(values)\n",
    "    if values[0] == 1:\n",
    "        queue.put(values[1])        \n",
    "    elif values[0] == 2:\n",
    "        queue.pop()\n",
    "    else:\n",
    "        print(queue.peek())"
   ]
  }
 ],
 "metadata": {
  "kernelspec": {
   "display_name": "Python 3",
   "language": "python",
   "name": "python3"
  },
  "language_info": {
   "codemirror_mode": {
    "name": "ipython",
    "version": 3
   },
   "file_extension": ".py",
   "mimetype": "text/x-python",
   "name": "python",
   "nbconvert_exporter": "python",
   "pygments_lexer": "ipython3",
   "version": "3.7.3"
  }
 },
 "nbformat": 4,
 "nbformat_minor": 2
}
