{
 "cells": [
  {
   "cell_type": "markdown",
   "metadata": {},
   "source": [
    "## 2020년 2월 9일 일요일\n",
    "### 백준 10872번: 팩토리얼\n",
    "### 문제 : https://www.acmicpc.net/problem/10872\n",
    "### 블로그 : https://somjang.tistory.com/entry/BaeKJoon-10872%EB%B2%88-%ED%8C%A9%ED%86%A0%EB%A6%AC%EC%96%BC-Python?category=351755"
   ]
  },
  {
   "cell_type": "markdown",
   "metadata": {},
   "source": [
    "for 반복문을 활용하여 만들어보았습니다."
   ]
  },
  {
   "cell_type": "code",
   "execution_count": 18,
   "metadata": {},
   "outputs": [
    {
     "name": "stdout",
     "output_type": "stream",
     "text": [
      "10\n",
      "3628800\n"
     ]
    }
   ],
   "source": [
    "N = int(input())\n",
    "\n",
    "if N == 0 or N == 1:\n",
    "    print(1)\n",
    "else:\n",
    "    fact = 1\n",
    "    for i in range(1, N + 1):\n",
    "        fact = fact * i\n",
    "    print(fact)"
   ]
  },
  {
   "cell_type": "markdown",
   "metadata": {},
   "source": [
    "0팩토리얼의 값이 1임을 유의해야합니다"
   ]
  }
 ],
 "metadata": {
  "kernelspec": {
   "display_name": "Python 3",
   "language": "python",
   "name": "python3"
  },
  "language_info": {
   "codemirror_mode": {
    "name": "ipython",
    "version": 3
   },
   "file_extension": ".py",
   "mimetype": "text/x-python",
   "name": "python",
   "nbconvert_exporter": "python",
   "pygments_lexer": "ipython3",
   "version": "3.7.3"
  }
 },
 "nbformat": 4,
 "nbformat_minor": 2
}
