{
 "cells": [
  {
   "cell_type": "markdown",
   "metadata": {},
   "source": [
    "## 2020년 3월 4일 수요일\n",
    "### leetCode: Merge Two Sorted Lists\n",
    "### 문제 : https://leetcode.com/problems/merge-two-sorted-lists/\n",
    "### 블로그 : https://somjang.tistory.com/entry/leetCode-21-Merge-Two-Sorted-Lists"
   ]
  },
  {
   "cell_type": "markdown",
   "metadata": {},
   "source": [
    "### 첫번째 시도"
   ]
  },
  {
   "cell_type": "code",
   "execution_count": null,
   "metadata": {},
   "outputs": [],
   "source": [
    "# Definition for singly-linked list.\n",
    "# class ListNode:\n",
    "#     def __init__(self, x):\n",
    "#         self.val = x\n",
    "#         self.next = None\n",
    "\n",
    "class Solution:\n",
    "    def mergeTwoLists(self, l1: ListNode, l2: ListNode) -> ListNode:\n",
    "        my_l1 = []\n",
    "        \n",
    "        while l1 != None:\n",
    "            my_l1.append(int(l1.val))\n",
    "            \n",
    "            l1 = l1.next\n",
    "            \n",
    "        while l2 != None:\n",
    "            my_l1.append(int(l2.val))\n",
    "            \n",
    "            l2 = l2.next\n",
    "\n",
    "        my_l1 = list(sorted(my_l1))\n",
    "        \n",
    "        answerList = None\n",
    "        \n",
    "        for i in range(len(my_l1)):\n",
    "            if i == 0:\n",
    "                answerList = ListNode(my_l1[i])\n",
    "            else:\n",
    "                new_node = ListNode(my_l1[i])\n",
    "                currNode = answerList\n",
    "                while currNode.next != None:\n",
    "                    currNode = currNode.next\n",
    "                currNode.next = new_node\n",
    "        return answerList"
   ]
  }
 ],
 "metadata": {
  "kernelspec": {
   "display_name": "Python 3",
   "language": "python",
   "name": "python3"
  },
  "language_info": {
   "codemirror_mode": {
    "name": "ipython",
    "version": 3
   },
   "file_extension": ".py",
   "mimetype": "text/x-python",
   "name": "python",
   "nbconvert_exporter": "python",
   "pygments_lexer": "ipython3",
   "version": "3.7.3"
  }
 },
 "nbformat": 4,
 "nbformat_minor": 2
}
