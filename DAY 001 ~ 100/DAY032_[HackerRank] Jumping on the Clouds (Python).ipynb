{
 "cells": [
  {
   "cell_type": "markdown",
   "metadata": {},
   "source": [
    "## 2020년 3월 9일 월요일\n",
    "### HackerRank : Jumping on the Clouds\n",
    "### 문제 : https://www.hackerrank.com/challenges/jumping-on-the-clouds/problem?h_l=interview&playlist_slugs%5B%5D=interview-preparation-kit&playlist_slugs%5B%5D=warmup\n",
    "### 블로그 :https://somjang.tistory.com/entry/HakerRank-Jumping-on-the-Clouds-Python"
   ]
  },
  {
   "cell_type": "markdown",
   "metadata": {},
   "source": [
    "### 첫번째 시도"
   ]
  },
  {
   "cell_type": "code",
   "execution_count": 1,
   "metadata": {},
   "outputs": [],
   "source": [
    "#!/bin/python3\n",
    "\n",
    "import math\n",
    "import os\n",
    "import random\n",
    "import re\n",
    "import sys\n",
    "\n",
    "# Complete the jumpingOnClouds function below.\n",
    "def jumpingOnClouds(c):\n",
    "    goal_index = len(c) - 1\n",
    "    check_value = 0\n",
    "    answer = 0\n",
    "\n",
    "    while(check_value < goal_index):\n",
    "        if check_value + 2 <= goal_index and c[check_value + 2] == 0:\n",
    "            check_value = check_value + 2\n",
    "            answer = answer + 1\n",
    "        elif c[check_value + 1] == 0:\n",
    "            check_value = check_value + 1\n",
    "            answer = answer + 1\n",
    "        print(check_value)\n",
    "    return answer"
   ]
  }
 ],
 "metadata": {
  "kernelspec": {
   "display_name": "Python 3",
   "language": "python",
   "name": "python3"
  },
  "language_info": {
   "codemirror_mode": {
    "name": "ipython",
    "version": 3
   },
   "file_extension": ".py",
   "mimetype": "text/x-python",
   "name": "python",
   "nbconvert_exporter": "python",
   "pygments_lexer": "ipython3",
   "version": "3.7.3"
  }
 },
 "nbformat": 4,
 "nbformat_minor": 2
}
