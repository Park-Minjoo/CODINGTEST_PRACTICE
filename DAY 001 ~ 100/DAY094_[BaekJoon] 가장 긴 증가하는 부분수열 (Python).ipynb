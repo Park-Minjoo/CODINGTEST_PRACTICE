{
 "cells": [
  {
   "cell_type": "markdown",
   "metadata": {},
   "source": [
    "## 2020년 5월 10일 일요일\n",
    "### BaekJoon - 11053번 : 가장 긴 증가하는 부분수열\n",
    "### 문제 : https://www.acmicpc.net/problem/11053\n",
    "### 블로그 : https://somjang.tistory.com/entry/BaekJoon-11053%EB%B2%88-%EA%B0%80%EC%9E%A5-%EA%B8%B4-%EC%A6%9D%EA%B0%80%ED%95%98%EB%8A%94-%EB%B6%80%EB%B6%84%EC%88%98%EC%97%B4-Python"
   ]
  },
  {
   "cell_type": "markdown",
   "metadata": {},
   "source": [
    "### 첫번째 시도"
   ]
  },
  {
   "cell_type": "code",
   "execution_count": null,
   "metadata": {},
   "outputs": [],
   "source": [
    "inputNum = int(input())\n",
    "inputNums = input()\n",
    "inputNums = inputNums.split()\n",
    "inputNums = [int(num) for num in inputNums]\n",
    "nc = [0] * (inputNum)\n",
    "maxNum = 0\n",
    "\n",
    "for i in range(0, inputNum):\n",
    "    minNum = 0\n",
    "    for j in range(0, i):\n",
    "        if inputNums[i] > inputNums[j]:\n",
    "            if minNum < nc[j]:\n",
    "                minNum = nc[j]\n",
    "    #print(inputNums, nc)\n",
    "    nc[i] = minNum + 1\n",
    "    if maxNum < nc[i]:\n",
    "        maxNum = nc[i]\n",
    "print(maxNum)"
   ]
  }
 ],
 "metadata": {
  "kernelspec": {
   "display_name": "Python 3",
   "language": "python",
   "name": "python3"
  },
  "language_info": {
   "codemirror_mode": {
    "name": "ipython",
    "version": 3
   },
   "file_extension": ".py",
   "mimetype": "text/x-python",
   "name": "python",
   "nbconvert_exporter": "python",
   "pygments_lexer": "ipython3",
   "version": "3.7.3"
  }
 },
 "nbformat": 4,
 "nbformat_minor": 2
}
