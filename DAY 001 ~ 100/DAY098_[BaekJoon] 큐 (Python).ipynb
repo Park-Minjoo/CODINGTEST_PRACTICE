{
 "cells": [
  {
   "cell_type": "markdown",
   "metadata": {},
   "source": [
    "## 2020년 5월 14일 목요일\n",
    "### BaekJoon - 10845 : 큐\n",
    "### 문제 : https://www.acmicpc.net/problem/10845\n",
    "### 블로그 : https://somjang.tistory.com/entry/BaekJoon-10845-%ED%81%90-Python"
   ]
  },
  {
   "cell_type": "markdown",
   "metadata": {},
   "source": [
    "### 첫번째 시도"
   ]
  },
  {
   "cell_type": "code",
   "execution_count": 1,
   "metadata": {},
   "outputs": [],
   "source": [
    "my_queue = []\n",
    "command_list = []\n",
    "\n",
    "num = input()\n",
    "\n",
    "for i in range(int(num)):\n",
    "    command = input()\n",
    "    command_list.append(command)\n",
    "    \n",
    "for command in command_list:\n",
    "    cmd = command.split()\n",
    "    \n",
    "    if cmd[0] == 'push':\n",
    "        my_queue.append(cmd[1])\n",
    "    elif cmd[0] == 'pop':\n",
    "        if len(my_queue) != 0:\n",
    "            print(my_queue.pop(0))\n",
    "        else:\n",
    "            print(-1)\n",
    "    elif cmd[0] == 'back':\n",
    "        if len(my_queue) != 0:\n",
    "            print(my_queue[-1])\n",
    "        else:\n",
    "            print(-1)\n",
    "    elif cmd[0] == 'front':\n",
    "        if len(my_queue) != 0:\n",
    "            print(my_queue[0])\n",
    "        else:\n",
    "            print(-1)\n",
    "    elif cmd[0] == 'size':\n",
    "        print(len(my_queue))\n",
    "    elif cmd[0] == 'empty':\n",
    "        if len(my_queue) != 0:\n",
    "            print(0)\n",
    "        else:\n",
    "            print(1)"
   ]
  }
 ],
 "metadata": {
  "kernelspec": {
   "display_name": "Python 3",
   "language": "python",
   "name": "python3"
  },
  "language_info": {
   "codemirror_mode": {
    "name": "ipython",
    "version": 3
   },
   "file_extension": ".py",
   "mimetype": "text/x-python",
   "name": "python",
   "nbconvert_exporter": "python",
   "pygments_lexer": "ipython3",
   "version": "3.7.3"
  }
 },
 "nbformat": 4,
 "nbformat_minor": 2
}
