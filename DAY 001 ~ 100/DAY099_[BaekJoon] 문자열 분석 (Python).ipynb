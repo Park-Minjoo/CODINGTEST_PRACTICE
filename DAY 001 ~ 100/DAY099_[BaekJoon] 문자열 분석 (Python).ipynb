{
 "cells": [
  {
   "cell_type": "markdown",
   "metadata": {},
   "source": [
    "## 2020년 5월 15일 금요일\n",
    "### BaekJoon - 10820 : 문자열 분석\n",
    "### 문제 : https://www.acmicpc.net/problem/10820\n",
    "### 블로그 : https://somjang.tistory.com/entry/BaekJoon-10820%EB%B2%88-%EB%AC%B8%EC%9E%90%EC%97%B4-%EB%B6%84%EC%84%9D-Python"
   ]
  },
  {
   "cell_type": "markdown",
   "metadata": {},
   "source": [
    "### 첫번째 시도"
   ]
  },
  {
   "cell_type": "code",
   "execution_count": 1,
   "metadata": {},
   "outputs": [],
   "source": [
    "import re\n",
    "\n",
    "while True:\n",
    "    try:\n",
    "        string = input()\n",
    "    except:\n",
    "        break\n",
    "    if len(string) == 0:\n",
    "        break\n",
    "    elif len(string) != 0:\n",
    "        somunja = re.findall('[a-z]', string)\n",
    "        daemunja = re.findall('[A-Z]', string)\n",
    "        sutja = re.findall('[0-9]', string)\n",
    "        gongback = re.findall(' ', string)\n",
    "\n",
    "        print(len(somunja), len(daemunja), len(sutja), len(gongback))"
   ]
  }
 ],
 "metadata": {
  "kernelspec": {
   "display_name": "Python 3",
   "language": "python",
   "name": "python3"
  },
  "language_info": {
   "codemirror_mode": {
    "name": "ipython",
    "version": 3
   },
   "file_extension": ".py",
   "mimetype": "text/x-python",
   "name": "python",
   "nbconvert_exporter": "python",
   "pygments_lexer": "ipython3",
   "version": "3.7.3"
  }
 },
 "nbformat": 4,
 "nbformat_minor": 2
}
