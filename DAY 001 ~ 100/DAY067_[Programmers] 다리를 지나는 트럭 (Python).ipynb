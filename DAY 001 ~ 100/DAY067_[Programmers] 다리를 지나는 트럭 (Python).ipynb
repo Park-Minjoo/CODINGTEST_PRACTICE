{
 "cells": [
  {
   "cell_type": "markdown",
   "metadata": {},
   "source": [
    "## 2020년 4월 13일 월요일\n",
    "### Programmers - 스택 / 큐 :  다리를 지나는 트럭\n",
    "### 문제 : https://programmers.co.kr/learn/courses/30/lessons/42583\n",
    "### 블로그 : https://somjang.tistory.com/entry/Programmers-%EC%8A%A4%ED%83%9D%ED%81%90-%EB%8B%A4%EB%A6%AC%EB%A5%BC-%EC%A7%80%EB%82%98%EB%8A%94-%ED%8A%B8%EB%9F%AD-Python"
   ]
  },
  {
   "cell_type": "markdown",
   "metadata": {},
   "source": [
    "### 첫번째 시도"
   ]
  },
  {
   "cell_type": "code",
   "execution_count": 74,
   "metadata": {},
   "outputs": [],
   "source": [
    "from collections import deque\n",
    "\n",
    "def solution(bridge_length, weight, truck_weights):\n",
    "    answer = 0\n",
    "\n",
    "    truck_weights_deque = deque(truck_weights)\n",
    "    \n",
    "    trucks_on_bridge = []\n",
    "    \n",
    "    while True:\n",
    "        if len(truck_weights_deque) == 0:\n",
    "            break\n",
    "        if sum(trucks_on_bridge) < weight:\n",
    "            trucks_on_bridge.append(truck_weights_deque.popleft())\n",
    "            if len(truck_weights_deque) == 0:\n",
    "                answer = answer + bridge_length\n",
    "                \n",
    "        elif sum(trucks_on_bridge) >= weight:\n",
    "            answer = answer + bridge_length\n",
    "            trucks_on_bridge = []\n",
    "            \n",
    "    answer = answer + len(truck_weights)\n",
    "    \n",
    "    return answer"
   ]
  },
  {
   "cell_type": "markdown",
   "metadata": {},
   "source": [
    "---"
   ]
  },
  {
   "cell_type": "markdown",
   "metadata": {},
   "source": [
    "### 두번째 시도"
   ]
  },
  {
   "cell_type": "code",
   "execution_count": 72,
   "metadata": {},
   "outputs": [],
   "source": [
    "from collections import deque\n",
    "\n",
    "def solution(bridge_length, weight, truck_weights):\n",
    "    answer = 1\n",
    "    \n",
    "    truck_weights_deque = deque(truck_weights)\n",
    "    \n",
    "    trucks_on_bridge_deque = deque([0] * bridge_length)\n",
    "    \n",
    "    trucks_on_bridge_deque[-1] = truck_weights_deque.popleft()\n",
    "    \n",
    "    while truck_weights_deque:\n",
    "        if sum(trucks_on_bridge_deque) - trucks_on_bridge_deque[0] + truck_weights_deque[0] > weight:\n",
    "            trucks_on_bridge_deque.popleft()\n",
    "            trucks_on_bridge_deque.append(0)\n",
    "            answer = answer + 1\n",
    "        else:\n",
    "            trucks_on_bridge_deque.popleft()\n",
    "            trucks_on_bridge_deque.append(truck_weights_deque.popleft())\n",
    "            answer = answer + 1\n",
    "    answer = answer + bridge_length\n",
    "    \n",
    "    return answer"
   ]
  }
 ],
 "metadata": {
  "kernelspec": {
   "display_name": "Python 3",
   "language": "python",
   "name": "python3"
  },
  "language_info": {
   "codemirror_mode": {
    "name": "ipython",
    "version": 3
   },
   "file_extension": ".py",
   "mimetype": "text/x-python",
   "name": "python",
   "nbconvert_exporter": "python",
   "pygments_lexer": "ipython3",
   "version": "3.7.3"
  }
 },
 "nbformat": 4,
 "nbformat_minor": 2
}
