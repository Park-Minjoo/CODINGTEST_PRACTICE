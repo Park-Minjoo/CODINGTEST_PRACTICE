{
 "cells": [
  {
   "cell_type": "markdown",
   "metadata": {},
   "source": [
    "## 2020년 4월 20일 월요일\n",
    "### Programmers - 스택/큐 : 쇠막대기\n",
    "### 문제 : https://programmers.co.kr/learn/courses/30/lessons/42585\n",
    "### 블로그 : https://somjang.tistory.com/entry/Programmers-%EC%8A%A4%ED%83%9D%ED%81%90-%EC%87%A0%EB%A7%89%EB%8C%80%EA%B8%B0-Python"
   ]
  },
  {
   "cell_type": "markdown",
   "metadata": {},
   "source": [
    "### 첫번째 시도"
   ]
  },
  {
   "cell_type": "code",
   "execution_count": 1,
   "metadata": {},
   "outputs": [],
   "source": [
    "def solution(arrangement):\n",
    "    sum_num = 0\n",
    "    left = 0\n",
    "    \n",
    "    for i in range(len(arrangement)):\n",
    "        if arrangement[i] == '(':\n",
    "            left = left + 1\n",
    "        elif arrangement[i] == ')':\n",
    "            left = left - 1\n",
    "            \n",
    "            if arrangement[i-1] == '(':\n",
    "                sum_num = sum_num + left\n",
    "            else:\n",
    "                sum_num = sum_num + 1\n",
    "    \n",
    "    return sum_num"
   ]
  }
 ],
 "metadata": {
  "kernelspec": {
   "display_name": "Python 3",
   "language": "python",
   "name": "python3"
  },
  "language_info": {
   "codemirror_mode": {
    "name": "ipython",
    "version": 3
   },
   "file_extension": ".py",
   "mimetype": "text/x-python",
   "name": "python",
   "nbconvert_exporter": "python",
   "pygments_lexer": "ipython3",
   "version": "3.7.3"
  }
 },
 "nbformat": 4,
 "nbformat_minor": 2
}
