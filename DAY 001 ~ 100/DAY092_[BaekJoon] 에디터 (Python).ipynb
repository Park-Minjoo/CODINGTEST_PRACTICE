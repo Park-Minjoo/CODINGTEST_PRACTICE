{
 "cells": [
  {
   "cell_type": "markdown",
   "metadata": {},
   "source": [
    "## 2020년 5월 8일 금요일\n",
    "### BaekJoon - 1406번 : 에디터\n",
    "### 문제 : https://www.acmicpc.net/problem/1406\n",
    "### 블로그 : https://somjang.tistory.com/entry/BaekJoon-1406%EB%B2%88-%EC%97%90%EB%94%94%ED%84%B0-Python"
   ]
  },
  {
   "cell_type": "markdown",
   "metadata": {},
   "source": [
    "### 첫번째 시도"
   ]
  },
  {
   "cell_type": "code",
   "execution_count": null,
   "metadata": {},
   "outputs": [],
   "source": [
    "import sys \n",
    "from collections import deque \n",
    "\n",
    "class Editor: \n",
    "    def __init__(self, input_text): \n",
    "        self.left_deque = deque(input_text) \n",
    "        self.right_deque = deque() \n",
    "\n",
    "    def move_cursor_left(self): \n",
    "        if self.left_deque: \n",
    "            self.right_deque.appendleft(self.left_deque.pop()) \n",
    "\n",
    "    def move_cursor_right(self): \n",
    "        if self.right_deque:\n",
    "            self.left_deque.append(self.right_deque.popleft()) \n",
    "\n",
    "    def delete_left_character(self): \n",
    "        if self.left_deque: \n",
    "            self.left_deque.pop() \n",
    "\n",
    "    def add_character_to_left(self, character2add): \n",
    "        self.left_deque.append(character2add) \n",
    "\n",
    "editor = Editor(sys.stdin.readline().strip()) \n",
    "            \n",
    "N = int(sys.stdin.readline().strip()) \n",
    "            \n",
    "while N: \n",
    "    command = sys.stdin.readline().strip() \n",
    "    if command[0] == 'L': \n",
    "        editor.move_cursor_left() \n",
    "    elif command[0] == 'D': \n",
    "        editor.move_cursor_right() \n",
    "    elif command[0] == 'B': \n",
    "        editor.delete_left_character() \n",
    "    else: \n",
    "        editor.add_character_to_left(command[2]) \n",
    "    N -= 1 \n",
    "print(''.join(editor.left_deque) + ''.join(editor.right_deque))"
   ]
  }
 ],
 "metadata": {
  "kernelspec": {
   "display_name": "Python 3",
   "language": "python",
   "name": "python3"
  },
  "language_info": {
   "codemirror_mode": {
    "name": "ipython",
    "version": 3
   },
   "file_extension": ".py",
   "mimetype": "text/x-python",
   "name": "python",
   "nbconvert_exporter": "python",
   "pygments_lexer": "ipython3",
   "version": "3.7.3"
  }
 },
 "nbformat": 4,
 "nbformat_minor": 2
}
