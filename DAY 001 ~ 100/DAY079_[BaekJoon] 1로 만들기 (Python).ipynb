{
 "cells": [
  {
   "cell_type": "markdown",
   "metadata": {},
   "source": [
    "## 2020년 4월 25일 토요일\n",
    "### BaekJoon - 1463번 : 1로 만들기 (Python)\n",
    "### 문제 : https://www.acmicpc.net/problem/1463\n",
    "### 블로그 : https://somjang.tistory.com/entry/BaekJoon-1463%EB%B2%88-1%EB%A1%9C-%EB%A7%8C%EB%93%A4%EA%B8%B0-Python"
   ]
  },
  {
   "cell_type": "markdown",
   "metadata": {},
   "source": [
    "### 첫번째 시도"
   ]
  },
  {
   "cell_type": "code",
   "execution_count": null,
   "metadata": {},
   "outputs": [],
   "source": [
    "inputNum = int(input())\n",
    "arr = [0] * (inputNum + 1)\n",
    " \n",
    "for i in range(1, inputNum + 1):\n",
    "    if i == 1:\n",
    "        continue\n",
    " \n",
    "    values = []\n",
    " \n",
    "    if i % 3 == 0:\n",
    "        values.append(arr[i//3] + 1)\n",
    "    if i % 2 == 0:\n",
    "        values.append(arr[i//2] + 1)\n",
    "    values.append(arr[i-1] + 1)\n",
    " \n",
    "    arr[i] = min(values)\n",
    "\n",
    "    \n",
    "print(str(arr[inputNum]))"
   ]
  }
 ],
 "metadata": {
  "kernelspec": {
   "display_name": "Python 3",
   "language": "python",
   "name": "python3"
  },
  "language_info": {
   "codemirror_mode": {
    "name": "ipython",
    "version": 3
   },
   "file_extension": ".py",
   "mimetype": "text/x-python",
   "name": "python",
   "nbconvert_exporter": "python",
   "pygments_lexer": "ipython3",
   "version": "3.7.3"
  }
 },
 "nbformat": 4,
 "nbformat_minor": 2
}
