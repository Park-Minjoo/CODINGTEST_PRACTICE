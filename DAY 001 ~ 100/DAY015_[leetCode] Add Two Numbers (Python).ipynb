{
 "cells": [
  {
   "cell_type": "markdown",
   "metadata": {},
   "source": [
    "## 2020년 2월 21일 금요일\n",
    "### leetCode - Add Two Numbers\n",
    "### 문제 : https://leetcode.com/problems/add-two-numbers/\n",
    "### 블로그 : https://ideans.tistory.com/55"
   ]
  },
  {
   "cell_type": "code",
   "execution_count": 2,
   "metadata": {},
   "outputs": [],
   "source": [
    "# Definition for singly-linked list.\n",
    "# class ListNode:\n",
    "#     def __init__(self, x):\n",
    "#         self.val = x\n",
    "#         self.next = None\n",
    "\n",
    "class Solution:\n",
    "    def addTwoNumbers(self, l1, l2):\n",
    "        \n",
    "        \n",
    "        my_l1 = []\n",
    "        my_l2 = []\n",
    "        \n",
    "        while l1 != None:\n",
    "            my_l1.append(str(l1.val))\n",
    "            \n",
    "            l1 = l1.next\n",
    "            \n",
    "        while l2 != None:\n",
    "            my_l2.append(str(l2.val))\n",
    "            \n",
    "            l2 = l2.next\n",
    "    \n",
    "        my_l1 = list(reversed(my_l1))\n",
    "        my_l2 = list(reversed(my_l2))\n",
    "        my_l1_int = int(''.join(my_l1))\n",
    "        my_l2_int = int(''.join(my_l2))\n",
    "        print(my_l2_int)\n",
    "        \n",
    "        answer_int = my_l1_int + my_l2_int\n",
    "        \n",
    "\n",
    "        answer_int_str_list_reverse = list(reversed(list(str(answer_int))))\n",
    "\n",
    "        for i in range(len(answer_int_str_list_reverse)):\n",
    "            if i == 0:\n",
    "                answerList = ListNode(answer_int_str_list_reverse[i])\n",
    "            else:\n",
    "                new_node = ListNode(answer_int_str_list_reverse[i])\n",
    "                currNode = answerList\n",
    "                while currNode.next != None:\n",
    "                    currNode = currNode.next\n",
    "                currNode.next = new_node\n",
    "\n",
    "        return answerList"
   ]
  }
 ],
 "metadata": {
  "kernelspec": {
   "display_name": "Python 3",
   "language": "python",
   "name": "python3"
  },
  "language_info": {
   "codemirror_mode": {
    "name": "ipython",
    "version": 3
   },
   "file_extension": ".py",
   "mimetype": "text/x-python",
   "name": "python",
   "nbconvert_exporter": "python",
   "pygments_lexer": "ipython3",
   "version": "3.7.3"
  }
 },
 "nbformat": 4,
 "nbformat_minor": 2
}
