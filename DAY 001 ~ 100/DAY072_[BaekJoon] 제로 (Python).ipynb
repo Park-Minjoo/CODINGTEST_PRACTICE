{
 "cells": [
  {
   "cell_type": "markdown",
   "metadata": {},
   "source": [
    "## 2020년 4월 18일 토요일\n",
    "### BaekJoon - 10773번 : 제로 (Python)\n",
    "### 문제 : https://www.acmicpc.net/problem/10773\n",
    "### 블로그 : https://somjang.tistory.com/entry/BaekJoon-10773%EB%B2%88-%EC%A0%9C%EB%A1%9C-Python"
   ]
  },
  {
   "cell_type": "markdown",
   "metadata": {},
   "source": [
    "### 첫번째 시도"
   ]
  },
  {
   "cell_type": "code",
   "execution_count": 1,
   "metadata": {},
   "outputs": [],
   "source": [
    "input_N = int(input())\n",
    "\n",
    "stack = []\n",
    "\n",
    "for i in range(input_N):\n",
    "    input_num = int(input())\n",
    "    \n",
    "    if input_num != 0:\n",
    "        stack.append(input_num)\n",
    "    else:\n",
    "        stack.pop()\n",
    "print(sum(stack))"
   ]
  }
 ],
 "metadata": {
  "kernelspec": {
   "display_name": "Python 3",
   "language": "python",
   "name": "python3"
  },
  "language_info": {
   "codemirror_mode": {
    "name": "ipython",
    "version": 3
   },
   "file_extension": ".py",
   "mimetype": "text/x-python",
   "name": "python",
   "nbconvert_exporter": "python",
   "pygments_lexer": "ipython3",
   "version": "3.7.3"
  }
 },
 "nbformat": 4,
 "nbformat_minor": 2
}
