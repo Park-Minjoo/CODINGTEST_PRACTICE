{
 "cells": [
  {
   "cell_type": "markdown",
   "metadata": {},
   "source": [
    "## 2020년 4월 6일 월요일\n",
    "### 프로그래머스 - 힙 : 더 맵게\n",
    "### 문제 : https://programmers.co.kr/learn/courses/30/lessons/42626\n",
    "### 블로그 : https://somjang.tistory.com/entry/Programmers-%ED%9E%99-%EB%8D%94-%EB%A7%B5%EA%B2%8C-Python"
   ]
  },
  {
   "cell_type": "markdown",
   "metadata": {},
   "source": [
    "### 첫번째 시도"
   ]
  },
  {
   "cell_type": "code",
   "execution_count": 1,
   "metadata": {},
   "outputs": [],
   "source": [
    "def solution(scoville, K):\n",
    "    answer = -1\n",
    "    \n",
    "    count = 0\n",
    "    \n",
    "    check_flag = False\n",
    "    \n",
    "    while min(scoville) < K:\n",
    "        scoville = sorted(scoville, reverse=True)\n",
    "        \n",
    "        scoville.append(scoville.pop() + (scoville.pop() * 2) )\n",
    "\n",
    "        if len(scoville) == 1 and scoville[0] < K:\n",
    "            check_flag = True\n",
    "            break\n",
    "        \n",
    "        count = count + 1\n",
    "    if check_flag == False:\n",
    "        answer = count\n",
    "        \n",
    "    return answer"
   ]
  },
  {
   "cell_type": "markdown",
   "metadata": {},
   "source": [
    "---"
   ]
  },
  {
   "cell_type": "markdown",
   "metadata": {},
   "source": [
    "### 두번째 시도"
   ]
  },
  {
   "cell_type": "code",
   "execution_count": 4,
   "metadata": {},
   "outputs": [],
   "source": [
    "import heapq\n",
    "\n",
    "def solution(scoville, K):\n",
    "    answer = -1\n",
    "    \n",
    "    count = 0\n",
    "    \n",
    "    check_flag = False\n",
    "    \n",
    "    heapq_scoville = heapq.heapify(scoville)\n",
    "    \n",
    "    while scoville[0] < K:\n",
    "        min_first = heapq.heappop(scoville)\n",
    "        min_second = heapq.heappop(scoville)\n",
    "        \n",
    "        heapq.heappush(scoville, min_first + (min_second * 2))\n",
    "        \n",
    "\n",
    "        if len(scoville) == 1 and scoville[0] < K:\n",
    "            check_flag = True\n",
    "            break\n",
    "        \n",
    "        count = count + 1\n",
    "    if check_flag == False:\n",
    "        answer = count\n",
    "        \n",
    "    return answer"
   ]
  }
 ],
 "metadata": {
  "kernelspec": {
   "display_name": "Python 3",
   "language": "python",
   "name": "python3"
  },
  "language_info": {
   "codemirror_mode": {
    "name": "ipython",
    "version": 3
   },
   "file_extension": ".py",
   "mimetype": "text/x-python",
   "name": "python",
   "nbconvert_exporter": "python",
   "pygments_lexer": "ipython3",
   "version": "3.7.3"
  }
 },
 "nbformat": 4,
 "nbformat_minor": 2
}
