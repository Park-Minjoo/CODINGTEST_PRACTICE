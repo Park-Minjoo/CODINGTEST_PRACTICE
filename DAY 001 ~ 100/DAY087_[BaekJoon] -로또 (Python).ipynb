{
 "cells": [
  {
   "cell_type": "markdown",
   "metadata": {},
   "source": [
    "## 2020년 5월 3일 일요일\n",
    "### BaekJoon - 6603번 : 로또\n",
    "### 문제 : https://www.acmicpc.net/problem/6603\n",
    "### 블로그 : https://somjang.tistory.com/entry/BaekJoon-6603%EB%B2%88-%EB%A1%9C%EB%98%90-Python"
   ]
  },
  {
   "cell_type": "markdown",
   "metadata": {},
   "source": [
    "### 첫번째 시도"
   ]
  },
  {
   "cell_type": "code",
   "execution_count": 7,
   "metadata": {},
   "outputs": [
    {
     "name": "stdout",
     "output_type": "stream",
     "text": [
      "7 1 2 3 4 5 6 7\n",
      "1 2 3 4 5 6\n",
      "1 2 3 4 5 7\n",
      "1 2 3 4 6 7\n",
      "1 2 3 5 6 7\n",
      "1 2 4 5 6 7\n",
      "1 3 4 5 6 7\n",
      "2 3 4 5 6 7\n",
      " \n",
      "8 1 2 3 5 8 13 21 34\n",
      "1 2 3 5 8 13\n",
      "1 2 3 5 8 21\n",
      "1 2 3 5 8 34\n",
      "1 2 3 5 13 21\n",
      "1 2 3 5 13 34\n",
      "1 2 3 5 21 34\n",
      "1 2 3 8 13 21\n",
      "1 2 3 8 13 34\n",
      "1 2 3 8 21 34\n",
      "1 2 3 13 21 34\n",
      "1 2 5 8 13 21\n",
      "1 2 5 8 13 34\n",
      "1 2 5 8 21 34\n",
      "1 2 5 13 21 34\n",
      "1 2 8 13 21 34\n",
      "1 3 5 8 13 21\n",
      "1 3 5 8 13 34\n",
      "1 3 5 8 21 34\n",
      "1 3 5 13 21 34\n",
      "1 3 8 13 21 34\n",
      "1 5 8 13 21 34\n",
      "2 3 5 8 13 21\n",
      "2 3 5 8 13 34\n",
      "2 3 5 8 21 34\n",
      "2 3 5 13 21 34\n",
      "2 3 8 13 21 34\n",
      "2 5 8 13 21 34\n",
      "3 5 8 13 21 34\n",
      " \n",
      "0\n"
     ]
    }
   ],
   "source": [
    "from itertools import combinations\n",
    "\n",
    "while True:\n",
    "    input_command = input()\n",
    "    \n",
    "    input_command_list = list(map(int, input_command.split()))\n",
    "    \n",
    "    if input_command[0] == '0':\n",
    "        break\n",
    "    \n",
    "    for comb in combinations(input_command_list[1:], 6):\n",
    "        print(' '.join(map(str, comb)))\n",
    "    print(' ')"
   ]
  }
 ],
 "metadata": {
  "kernelspec": {
   "display_name": "Python 3",
   "language": "python",
   "name": "python3"
  },
  "language_info": {
   "codemirror_mode": {
    "name": "ipython",
    "version": 3
   },
   "file_extension": ".py",
   "mimetype": "text/x-python",
   "name": "python",
   "nbconvert_exporter": "python",
   "pygments_lexer": "ipython3",
   "version": "3.7.3"
  }
 },
 "nbformat": 4,
 "nbformat_minor": 2
}
