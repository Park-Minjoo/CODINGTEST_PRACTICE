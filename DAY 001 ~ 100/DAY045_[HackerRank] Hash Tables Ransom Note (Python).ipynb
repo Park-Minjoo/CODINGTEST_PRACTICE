{
 "cells": [
  {
   "cell_type": "markdown",
   "metadata": {},
   "source": [
    "## 2020년 3월 22일 일요일\n",
    "### HackerRank - Hash Table : Ransom Note\n",
    "### 문제 :https://www.hackerrank.com/challenges/ctci-ransom-note/problem?h_l=interview&playlist_slugs%5B%5D=interview-preparation-kit&playlist_slugs%5B%5D=dictionaries-hashmaps\n",
    "### 블로그 :https://somjang.tistory.com/entry/HackerRank-Hash-Tables-Ransom-Note-Python"
   ]
  },
  {
   "cell_type": "markdown",
   "metadata": {},
   "source": [
    "### 첫번째 시도"
   ]
  },
  {
   "cell_type": "code",
   "execution_count": 1,
   "metadata": {},
   "outputs": [],
   "source": [
    "#!/bin/python3\n",
    "\n",
    "import math\n",
    "import os\n",
    "import random\n",
    "import re\n",
    "import sys\n",
    "\n",
    "# Complete the checkMagazine function below.\n",
    "def checkMagazine(magazine, note):\n",
    "\n",
    "\n",
    "    answer = 'Yes'\n",
    "\n",
    "    magazine_dic = {}\n",
    "\n",
    "    for i in range(len(magazine)):\n",
    "        if magazine[i] not in magazine_dic.keys():\n",
    "            magazine_dic[magazine[i]] = 1\n",
    "        else:\n",
    "            magazine_dic[magazine[i]] = magazine_dic[magazine[i]] + 1\n",
    "    # print(magazine_dic)\n",
    "    for i in range(len(note)):\n",
    "        if note[i] not in magazine_dic.keys():\n",
    "            answer = 'No'\n",
    "            break\n",
    "        else:\n",
    "            magazine_dic[note[i]] = magazine_dic[note[i]] - 1\n",
    "\n",
    "            if magazine_dic[note[i]] < 0:\n",
    "                answer = \"No\"\n",
    "                break \n",
    "    return answer\n",
    "\n",
    "\n",
    "\n",
    "\n",
    "if __name__ == '__main__':\n",
    "    mn = input().split()\n",
    "\n",
    "    m = int(mn[0])\n",
    "\n",
    "    n = int(mn[1])\n",
    "\n",
    "    magazine = input().rstrip().split()\n",
    "\n",
    "    note = input().rstrip().split()\n",
    "\n",
    "    print(checkMagazine(magazine, note))"
   ]
  }
 ],
 "metadata": {
  "kernelspec": {
   "display_name": "Python 3",
   "language": "python",
   "name": "python3"
  },
  "language_info": {
   "codemirror_mode": {
    "name": "ipython",
    "version": 3
   },
   "file_extension": ".py",
   "mimetype": "text/x-python",
   "name": "python",
   "nbconvert_exporter": "python",
   "pygments_lexer": "ipython3",
   "version": "3.7.3"
  }
 },
 "nbformat": 4,
 "nbformat_minor": 2
}
