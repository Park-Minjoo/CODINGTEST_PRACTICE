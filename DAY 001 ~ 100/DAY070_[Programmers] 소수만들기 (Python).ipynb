{
 "cells": [
  {
   "cell_type": "markdown",
   "metadata": {},
   "source": [
    "## 2020년 4월 16일 목요일\n",
    "### Programmers - Summer/Winter Coding(~2018) : 소수 만들기 (Python)\n",
    "### 문제 : https://programmers.co.kr/learn/courses/30/lessons/12977\n",
    "### 블로그 : https://somjang.tistory.com/entry/Programmers-SummerWinter-Coding2018-%EC%86%8C%EC%88%98-%EB%A7%8C%EB%93%A4%EA%B8%B0-Python"
   ]
  },
  {
   "cell_type": "markdown",
   "metadata": {},
   "source": [
    "### 첫번째 시도"
   ]
  },
  {
   "cell_type": "code",
   "execution_count": 1,
   "metadata": {},
   "outputs": [],
   "source": [
    "from itertools import combinations\n",
    "\n",
    "def getPrimaryNum_Eratos(N): \n",
    "    nums = [True] * (N + 1) \n",
    "    for i in range(2, len(nums) // 2 + 1): \n",
    "        if nums[i] == True: \n",
    "            for j in range(i+i, N, i): \n",
    "                nums[j] = False \n",
    "    return [i for i in range(2, N) if nums[i] == True]\n",
    "    \n",
    "\n",
    "def solution(nums):\n",
    "    permu_list = []\n",
    "    \n",
    "    my_permu_list = list(combinations(nums, 3))\n",
    "    \n",
    "    for i in range(len(my_permu_list)):\n",
    "        permu_list.append(sum(my_permu_list[i]))\n",
    "    \n",
    "    \n",
    "    max_num = max(permu_list)\n",
    "    \n",
    "    prime_nums = getPrimaryNum_Eratos(max_num + 1)\n",
    "    \n",
    "    print(permu_list)\n",
    "    \n",
    "    answer_nums = [num for num in permu_list if num in prime_nums]\n",
    "    \n",
    "    print(answer_nums)\n",
    "    \n",
    "    answer = len(answer_nums)\n",
    "    \n",
    "    return answer"
   ]
  }
 ],
 "metadata": {
  "kernelspec": {
   "display_name": "Python 3",
   "language": "python",
   "name": "python3"
  },
  "language_info": {
   "codemirror_mode": {
    "name": "ipython",
    "version": 3
   },
   "file_extension": ".py",
   "mimetype": "text/x-python",
   "name": "python",
   "nbconvert_exporter": "python",
   "pygments_lexer": "ipython3",
   "version": "3.7.3"
  }
 },
 "nbformat": 4,
 "nbformat_minor": 2
}
