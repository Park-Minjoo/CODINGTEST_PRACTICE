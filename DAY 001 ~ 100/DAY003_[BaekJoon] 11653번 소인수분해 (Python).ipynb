{
 "cells": [
  {
   "cell_type": "markdown",
   "metadata": {},
   "source": [
    "## 2020년 2월 9일 일요일\n",
    "### 백준 11653번: 소인수분해\n",
    "### 문제 : https://www.acmicpc.net/problem/11653\n",
    "### 블로그 : https://somjang.tistory.com/entry/BaeKJoon-11653%EB%B2%88-%EC%86%8C%EC%9D%B8%EC%88%98%EB%B6%84%ED%95%B4-Python"
   ]
  },
  {
   "cell_type": "markdown",
   "metadata": {},
   "source": [
    "### 첫번째 시도\n",
    "에라토스테네스의 체 방법으로 소수를 구하고 \n",
    "그 소수의 list를 거꾸로 반전시킨 뒤 큰 소수부터 나누어지는 지 비교하여 나누어지면\n",
    "그 수로 N % 소수의 나머지의 값이 0이 될때까지 계속 나누면서 \n",
    "나눌때마다 해당 소수의 값을 append 해주어 정답 list를 만들고\n",
    "마지막에 출력을 해주는 방법으로 구현해보았습니다."
   ]
  },
  {
   "cell_type": "code",
   "execution_count": 39,
   "metadata": {},
   "outputs": [],
   "source": [
    "def getPrimaryNum_Eratos(N): \n",
    "    nums = [True] * (N + 1)\n",
    "    for i in range(2, len(nums) // 2 + 1): \n",
    "        if nums[i] == True: \n",
    "            for j in range(i+i, N, i): \n",
    "                nums[j] = False \n",
    "    return [i for i in range(2, N) if nums[i] == True]"
   ]
  },
  {
   "cell_type": "code",
   "execution_count": 40,
   "metadata": {},
   "outputs": [
    {
     "name": "stdout",
     "output_type": "stream",
     "text": [
      "1010\n",
      "101\n",
      "5\n",
      "2\n"
     ]
    }
   ],
   "source": [
    "N = int(input())\n",
    "\n",
    "prime_nums = getPrimaryNum_Eratos((N // 2) + 1)\n",
    "\n",
    "prime_nums_reverse = reversed(prime_nums)\n",
    "# print(prime_nums)\n",
    "\n",
    "answers = []\n",
    "\n",
    "for prime_num in prime_nums_reverse:\n",
    "    if N % prime_num == 0:\n",
    "        while(N % prime_num == 0):\n",
    "            answers.append(prime_num)\n",
    "            N = N // prime_num\n",
    "        \n",
    "for num in answers:\n",
    "    print(num)"
   ]
  },
  {
   "cell_type": "markdown",
   "metadata": {},
   "source": [
    "### 결과 : 틀렸습니다."
   ]
  },
  {
   "cell_type": "markdown",
   "metadata": {},
   "source": [
    "--- "
   ]
  },
  {
   "cell_type": "markdown",
   "metadata": {},
   "source": [
    "### 두번째 시도\n",
    "출력을 반대로 해주어 조금 수정하여 제출"
   ]
  },
  {
   "cell_type": "code",
   "execution_count": 43,
   "metadata": {},
   "outputs": [
    {
     "name": "stdout",
     "output_type": "stream",
     "text": [
      "1010\n",
      "2\n",
      "5\n",
      "101\n"
     ]
    }
   ],
   "source": [
    "N = int(input())\n",
    "\n",
    "prime_nums = getPrimaryNum_Eratos((N // 2) + 1)\n",
    "\n",
    "# prime_nums_reverse = reversed(prime_nums)\n",
    "# print(prime_nums)\n",
    "\n",
    "answers = []\n",
    "\n",
    "for prime_num in prime_nums:\n",
    "    if N % prime_num == 0:\n",
    "        while(N % prime_num == 0):\n",
    "            answers.append(prime_num)\n",
    "            N = N // prime_num\n",
    "        \n",
    "for num in answers:\n",
    "    print(num)"
   ]
  },
  {
   "cell_type": "markdown",
   "metadata": {},
   "source": [
    "### 결과 : 틀렸습니다."
   ]
  },
  {
   "cell_type": "markdown",
   "metadata": {},
   "source": [
    "---"
   ]
  },
  {
   "cell_type": "markdown",
   "metadata": {},
   "source": [
    "### 세번째 시도\n",
    "무엇이 문제일까 생각해보니 \n",
    "입력받는 값이 소수일 경우에 대해서는 생각을 하지 않았다는 것 깨달을 수 있었습니다.\n"
   ]
  },
  {
   "cell_type": "code",
   "execution_count": 46,
   "metadata": {},
   "outputs": [
    {
     "name": "stdout",
     "output_type": "stream",
     "text": [
      "101010\n",
      "2\n",
      "3\n",
      "5\n",
      "7\n",
      "13\n",
      "37\n"
     ]
    }
   ],
   "source": [
    "N = int(input())\n",
    "\n",
    "prime_nums = getPrimaryNum_Eratos(N + 1)\n",
    "\n",
    "# prime_nums_reverse = reversed(prime_nums)\n",
    "# print(prime_nums)\n",
    "\n",
    "if N in prime_nums:\n",
    "    print(N)\n",
    "else:\n",
    "    answers = []\n",
    "\n",
    "    for prime_num in prime_nums:\n",
    "        if N % prime_num == 0:\n",
    "            while(N % prime_num == 0):\n",
    "                answers.append(prime_num)\n",
    "                N = N // prime_num\n",
    "\n",
    "    for num in answers:\n",
    "        print(num)"
   ]
  },
  {
   "cell_type": "code",
   "execution_count": null,
   "metadata": {},
   "outputs": [],
   "source": []
  }
 ],
 "metadata": {
  "kernelspec": {
   "display_name": "Python 3",
   "language": "python",
   "name": "python3"
  },
  "language_info": {
   "codemirror_mode": {
    "name": "ipython",
    "version": 3
   },
   "file_extension": ".py",
   "mimetype": "text/x-python",
   "name": "python",
   "nbconvert_exporter": "python",
   "pygments_lexer": "ipython3",
   "version": "3.7.3"
  }
 },
 "nbformat": 4,
 "nbformat_minor": 2
}
