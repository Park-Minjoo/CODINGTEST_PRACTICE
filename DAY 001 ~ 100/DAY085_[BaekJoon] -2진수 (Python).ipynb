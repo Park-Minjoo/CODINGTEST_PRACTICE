{
 "cells": [
  {
   "cell_type": "markdown",
   "metadata": {},
   "source": [
    "## 2020년 5월 1일 금요일\n",
    "### BaekJoon - 2089번 : -2진수\n",
    "### 문제 : https://www.acmicpc.net/problem/2089\n",
    "### 블로그 : https://somjang.tistory.com/entry/BaekJoon-2089%EB%B2%88-2%EC%A7%84%EC%88%98-Python"
   ]
  },
  {
   "cell_type": "markdown",
   "metadata": {},
   "source": [
    "### 첫번째 시도"
   ]
  },
  {
   "cell_type": "code",
   "execution_count": 1,
   "metadata": {},
   "outputs": [],
   "source": [
    "inputNum = int(input())\n",
    "base = 1\n",
    "minusBinary = []\n",
    "\n",
    "if inputNum == 0:\n",
    "    print(0)\n",
    "else:\n",
    "    while inputNum:\n",
    "        if inputNum % 2:\n",
    "            minusBinary.append(1)\n",
    "            inputNum = inputNum - base\n",
    "        else:\n",
    "            minusBinary.append(0)\n",
    "        base = base * (-1)\n",
    "        inputNum //= 2\n",
    "\n",
    "for i in range(len(minusBinary)-1, -1, -1):\n",
    "    print(minusBinary[i], end='')"
   ]
  }
 ],
 "metadata": {
  "kernelspec": {
   "display_name": "Python 3",
   "language": "python",
   "name": "python3"
  },
  "language_info": {
   "codemirror_mode": {
    "name": "ipython",
    "version": 3
   },
   "file_extension": ".py",
   "mimetype": "text/x-python",
   "name": "python",
   "nbconvert_exporter": "python",
   "pygments_lexer": "ipython3",
   "version": "3.7.3"
  }
 },
 "nbformat": 4,
 "nbformat_minor": 2
}
