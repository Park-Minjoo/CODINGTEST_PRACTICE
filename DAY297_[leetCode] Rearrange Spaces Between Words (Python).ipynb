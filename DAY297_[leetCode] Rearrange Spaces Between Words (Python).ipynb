{
 "cells": [
  {
   "cell_type": "markdown",
   "metadata": {},
   "source": [
    "## 2021년 1월 19일 화요일\n",
    "### leetCode - Rearrange Spaces Between Words (Python)\n",
    "### 문제 : https://leetcode.com/problems/rearrange-spaces-between-words/\n",
    "### 블로그 : https://somjang.tistory.com/entry/leetCode-1592-Rearrange-Spaces-Between-Words-Python"
   ]
  },
  {
   "cell_type": "markdown",
   "metadata": {},
   "source": [
    "### 첫번째 시도"
   ]
  },
  {
   "cell_type": "code",
   "execution_count": null,
   "metadata": {},
   "outputs": [],
   "source": [
    "from collections import Counter\n",
    "\n",
    "class Solution:\n",
    "    def reorderSpaces(self, text: str) -> str:\n",
    "        space_cnt = 0\n",
    "        \n",
    "        text_list = list(text)\n",
    "        space_cnt = Counter(text_list)[' ']\n",
    "        \n",
    "        word_list = [word.replace(\" \", \"\") for word in list(text.strip().split())]\n",
    "        \n",
    "        if space_cnt != 0:\n",
    "            if len(word_list) != 1:\n",
    "                space_each_word = space_cnt // (len(word_list) - 1 )\n",
    "                extra_space_cnt = space_cnt % ( len(word_list)-1 )\n",
    "                join_space = \" \"*space_each_word\n",
    "                join_string = join_space.join(word_list)\n",
    "            else:\n",
    "                space_each_word = space_cnt\n",
    "                extra_space_cnt = 0\n",
    "                \n",
    "                join_string = word_list[0] + \" \"*space_cnt\n",
    "                       \n",
    "\n",
    "            if extra_space_cnt != 0:\n",
    "                join_string = join_string + \" \"*extra_space_cnt\n",
    "        else:\n",
    "            join_string = text\n",
    "\n",
    "        return join_string"
   ]
  }
 ],
 "metadata": {
  "kernelspec": {
   "display_name": "Python 3",
   "language": "python",
   "name": "python3"
  },
  "language_info": {
   "codemirror_mode": {
    "name": "ipython",
    "version": 3
   },
   "file_extension": ".py",
   "mimetype": "text/x-python",
   "name": "python",
   "nbconvert_exporter": "python",
   "pygments_lexer": "ipython3",
   "version": "3.7.3"
  }
 },
 "nbformat": 4,
 "nbformat_minor": 2
}
