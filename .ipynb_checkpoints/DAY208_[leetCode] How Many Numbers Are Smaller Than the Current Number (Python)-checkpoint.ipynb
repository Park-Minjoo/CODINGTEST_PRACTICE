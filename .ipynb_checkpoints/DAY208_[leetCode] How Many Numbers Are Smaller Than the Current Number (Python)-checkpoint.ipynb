{
 "cells": [
  {
   "cell_type": "markdown",
   "metadata": {},
   "source": [
    "## 2020년 9월 14일 월요일\n",
    "### leetCode - How Many Numbers Are Smaller Than the Current Number (Python)\n",
    "### 문제 : https://leetcode.com/problems/how-many-numbers-are-smaller-than-the-current-number/\n",
    "### 블로그 : https://somjang.tistory.com/entry/leetCode-1365-How-Many-Numbers-Are-Smaller-Than-the-Current-Number-Python"
   ]
  },
  {
   "cell_type": "markdown",
   "metadata": {},
   "source": [
    "### 첫번째 시도"
   ]
  },
  {
   "cell_type": "code",
   "execution_count": null,
   "metadata": {},
   "outputs": [],
   "source": [
    "class Solution:\n",
    "    def smallerNumbersThanCurrent(self, nums: List[int]) -> List[int]:\n",
    "        answer = []\n",
    "        \n",
    "        for num in nums:\n",
    "            temp =  [n for n in nums if n < num]\n",
    "            \n",
    "            answer.append(len(temp))\n",
    "            \n",
    "        return answer"
   ]
  }
 ],
 "metadata": {
  "kernelspec": {
   "display_name": "Python 3",
   "language": "python",
   "name": "python3"
  },
  "language_info": {
   "codemirror_mode": {
    "name": "ipython",
    "version": 3
   },
   "file_extension": ".py",
   "mimetype": "text/x-python",
   "name": "python",
   "nbconvert_exporter": "python",
   "pygments_lexer": "ipython3",
   "version": "3.7.3"
  }
 },
 "nbformat": 4,
 "nbformat_minor": 2
}
