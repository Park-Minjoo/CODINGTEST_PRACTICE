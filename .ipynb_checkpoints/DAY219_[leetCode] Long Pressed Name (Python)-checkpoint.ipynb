{
 "cells": [
  {
   "cell_type": "markdown",
   "metadata": {},
   "source": [
    "## 2020년 9월 25일 금요일\n",
    "### leetCode - Long Pressed Name (Python)\n",
    "### 문제 : https://leetcode.com/problems/long-pressed-name/\n",
    "### 블로그 : https://somjang.tistory.com/entry/leetCode-925-Long-Pressed-Name-Python"
   ]
  },
  {
   "cell_type": "markdown",
   "metadata": {},
   "source": [
    "### 첫번째 시도"
   ]
  },
  {
   "cell_type": "code",
   "execution_count": null,
   "metadata": {},
   "outputs": [],
   "source": [
    "class Solution:\n",
    "    def isLongPressedName(self, name: str, typed: str) -> bool:\n",
    "        cnt = 0\n",
    "        \n",
    "        answer = False\n",
    "        for i in range(len(typed)):\n",
    "            if cnt < len(name) and name[cnt] == typed[i]:\n",
    "                cnt = cnt + 1\n",
    "            elif i == 0 or typed[i] != typed[i-1]:\n",
    "                return answer\n",
    "            \n",
    "        if cnt == len(name):\n",
    "            answer = True\n",
    "            \n",
    "        return answer"
   ]
  }
 ],
 "metadata": {
  "kernelspec": {
   "display_name": "Python 3",
   "language": "python",
   "name": "python3"
  },
  "language_info": {
   "codemirror_mode": {
    "name": "ipython",
    "version": 3
   },
   "file_extension": ".py",
   "mimetype": "text/x-python",
   "name": "python",
   "nbconvert_exporter": "python",
   "pygments_lexer": "ipython3",
   "version": "3.7.3"
  }
 },
 "nbformat": 4,
 "nbformat_minor": 2
}
