{
 "cells": [
  {
   "cell_type": "markdown",
   "metadata": {},
   "source": [
    "## 2020년 7월 27일 월요일\n",
    "### leetCode - Add Two Numbers II (Python)\n",
    "### 문제 : https://leetcode.com/problems/add-two-numbers-ii/\n",
    "### 블로그 : https://somjang.tistory.com/entry/leetCode-445-Add-Two-Numbers-II-Python"
   ]
  },
  {
   "cell_type": "markdown",
   "metadata": {},
   "source": [
    "### 첫번째 시도"
   ]
  },
  {
   "cell_type": "code",
   "execution_count": null,
   "metadata": {},
   "outputs": [],
   "source": [
    "# Definition for singly-linked list.\n",
    "# class ListNode:\n",
    "#     def __init__(self, val=0, next=None):\n",
    "#         self.val = val\n",
    "#         self.next = next\n",
    "class Solution:\n",
    "    def addTwoNumbers(self, l1: ListNode, l2: ListNode) -> ListNode:\n",
    "        l1_list = []\n",
    "        l2_list = []\n",
    "        \n",
    "        while l1.next != None:\n",
    "            l1_list.append(str(l1.val))\n",
    "            l1 = l1.next\n",
    "        l1_list.append(str(l1.val))\n",
    "        \n",
    "        while l2.next != None:\n",
    "            l2_list.append(str(l2.val))\n",
    "            l2 = l2.next\n",
    "        l2_list.append(str(l2.val))\n",
    "        \n",
    "        l1_num = int(''.join(l1_list))\n",
    "        l2_num = int(''.join(l2_list))\n",
    "        \n",
    "        answer_num_str_list = list(str(l1_num + l2_num))\n",
    "        \n",
    "        answer = list(map(int, answer_num_str_list))\n",
    "        \n",
    "        for i in range(len(answer_num_str_list)):\n",
    "            if i == 0:\n",
    "                answerList = ListNode(answer_num_str_list[i])\n",
    "            else:\n",
    "                new_node = ListNode(answer_num_str_list[i])\n",
    "                currNode = answerList\n",
    "                while currNode.next != None:\n",
    "                    currNode = currNode.next\n",
    "                currNode.next = new_node\n",
    "        \n",
    "        return answerList"
   ]
  }
 ],
 "metadata": {
  "kernelspec": {
   "display_name": "Python 3",
   "language": "python",
   "name": "python3"
  },
  "language_info": {
   "codemirror_mode": {
    "name": "ipython",
    "version": 3
   },
   "file_extension": ".py",
   "mimetype": "text/x-python",
   "name": "python",
   "nbconvert_exporter": "python",
   "pygments_lexer": "ipython3",
   "version": "3.7.3"
  }
 },
 "nbformat": 4,
 "nbformat_minor": 2
}
