{
 "cells": [
  {
   "cell_type": "markdown",
   "metadata": {},
   "source": [
    "## 2020년 8월 11일 화요일\n",
    "### leetCode - Best Time to Buy and Sell Stock (Python)\n",
    "### 문제 : https://leetcode.com/problems/best-time-to-buy-and-sell-stock/\n",
    "### 블로그 : https://somjang.tistory.com/entry/leetCode-121-Best-Time-to-Buy-and-Sell-Stock-Python"
   ]
  },
  {
   "cell_type": "markdown",
   "metadata": {},
   "source": [
    "### 첫번째 시도"
   ]
  },
  {
   "cell_type": "code",
   "execution_count": null,
   "metadata": {},
   "outputs": [],
   "source": [
    "import heapq\n",
    "\n",
    "class Solution:\n",
    "    def maxProfit(self, prices: List[int]) -> int:\n",
    "        if len(prices) < 2:\n",
    "            return 0\n",
    "        \n",
    "        my_heapq = []\n",
    "        \n",
    "        profit = 0\n",
    "        \n",
    "        for price in prices:\n",
    "            heapq.heappush(my_heapq, price)\n",
    "            if price - my_heapq[0] > profit:\n",
    "                profit = price - my_heapq[0]\n",
    "                \n",
    "        return profit\n"
   ]
  }
 ],
 "metadata": {
  "kernelspec": {
   "display_name": "Python 3",
   "language": "python",
   "name": "python3"
  },
  "language_info": {
   "codemirror_mode": {
    "name": "ipython",
    "version": 3
   },
   "file_extension": ".py",
   "mimetype": "text/x-python",
   "name": "python",
   "nbconvert_exporter": "python",
   "pygments_lexer": "ipython3",
   "version": "3.7.3"
  }
 },
 "nbformat": 4,
 "nbformat_minor": 2
}
