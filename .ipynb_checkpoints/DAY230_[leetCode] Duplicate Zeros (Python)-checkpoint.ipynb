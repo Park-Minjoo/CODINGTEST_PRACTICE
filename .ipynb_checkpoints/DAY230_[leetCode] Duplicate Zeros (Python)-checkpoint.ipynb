{
 "cells": [
  {
   "cell_type": "markdown",
   "metadata": {},
   "source": [
    "## 2020년 10월 7일 수요일\n",
    "### leetCode - Duplicate Zeros (Python)\n",
    "### 문제 : https://leetcode.com/problems/duplicate-zeros/\n",
    "### 블로그 : https://somjang.tistory.com/entry/leetCode-1089-Duplicate-Zeros-Python"
   ]
  },
  {
   "cell_type": "markdown",
   "metadata": {},
   "source": [
    "### 첫번째 시도"
   ]
  },
  {
   "cell_type": "code",
   "execution_count": null,
   "metadata": {},
   "outputs": [],
   "source": [
    "class Solution:\n",
    "    def duplicateZeros(self, arr: List[int]) -> None:\n",
    "        \"\"\"\n",
    "        Do not return anything, modify arr in-place instead.\n",
    "        \"\"\"\n",
    "        answer_temp = []\n",
    "        \n",
    "        for num in arr:\n",
    "            if num == 0:\n",
    "                answer_temp.append(num)\n",
    "            answer_temp.append(num)\n",
    "            \n",
    "        answer = answer_temp[:len(arr)]\n",
    "        \n",
    "        for i in range(len(arr)):\n",
    "            arr[i] = answer[i]"
   ]
  }
 ],
 "metadata": {
  "kernelspec": {
   "display_name": "Python 3",
   "language": "python",
   "name": "python3"
  },
  "language_info": {
   "codemirror_mode": {
    "name": "ipython",
    "version": 3
   },
   "file_extension": ".py",
   "mimetype": "text/x-python",
   "name": "python",
   "nbconvert_exporter": "python",
   "pygments_lexer": "ipython3",
   "version": "3.7.3"
  }
 },
 "nbformat": 4,
 "nbformat_minor": 2
}
