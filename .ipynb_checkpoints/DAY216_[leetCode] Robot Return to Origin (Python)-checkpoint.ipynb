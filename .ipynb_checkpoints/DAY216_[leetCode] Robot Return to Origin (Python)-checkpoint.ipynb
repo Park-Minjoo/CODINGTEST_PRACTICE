{
 "cells": [
  {
   "cell_type": "markdown",
   "metadata": {},
   "source": [
    "## 2020년 9월 22일 화요일\n",
    "### leetCode - Robot Return to Origin (Python)\n",
    "### 문제 : https://leetcode.com/problems/robot-return-to-origin/\n",
    "### 블로그 : https://somjang.tistory.com/entry/leetCode-657-Robot-Return-to-Origin-Python"
   ]
  },
  {
   "cell_type": "markdown",
   "metadata": {},
   "source": [
    "### 첫번째 시도"
   ]
  },
  {
   "cell_type": "code",
   "execution_count": null,
   "metadata": {},
   "outputs": [],
   "source": [
    "from collections import Counter\n",
    "\n",
    "class Solution:\n",
    "    def judgeCircle(self, moves: str) -> bool:\n",
    "        cnt = dict(Counter(moves))\n",
    "        \n",
    "        cnt_keys = list(cnt.keys())\n",
    "        \n",
    "        pairs = [ {\"L\", \"R\"}, {\"U\", \"D\"}, {\"L\", \"R\", \"U\", \"D\"} ]\n",
    "        \n",
    "        if set(cnt_keys) not in pairs:\n",
    "            return False\n",
    "        else:\n",
    "            if set(cnt_keys) == pairs[0]:\n",
    "                if cnt['L'] != cnt['R']:\n",
    "                    return False\n",
    "            elif set(cnt_keys) == pairs[1]:\n",
    "                if cnt['U'] != cnt['D']:\n",
    "                    return False\n",
    "            elif set(cnt_keys) == pairs[2]:\n",
    "                if (cnt['L'] != cnt['R']) or (cnt['U'] != cnt['D']):\n",
    "                    return False\n",
    "                \n",
    "        return True"
   ]
  }
 ],
 "metadata": {
  "kernelspec": {
   "display_name": "Python 3",
   "language": "python",
   "name": "python3"
  },
  "language_info": {
   "codemirror_mode": {
    "name": "ipython",
    "version": 3
   },
   "file_extension": ".py",
   "mimetype": "text/x-python",
   "name": "python",
   "nbconvert_exporter": "python",
   "pygments_lexer": "ipython3",
   "version": "3.7.3"
  }
 },
 "nbformat": 4,
 "nbformat_minor": 2
}
