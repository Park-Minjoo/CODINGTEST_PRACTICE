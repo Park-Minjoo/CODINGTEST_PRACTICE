{
 "cells": [
  {
   "cell_type": "markdown",
   "metadata": {},
   "source": [
    "## 2021년 2월 11일 목요일\n",
    "### Programmers - 2021 KAKAO BLIND RECURITMENT 신규 아이디 추천 (Python)\n",
    "### 문제 : https://programmers.co.kr/learn/courses/30/lessons/72410\n",
    "### 블로그 : https://somjang.tistory.com/entry/Programmers-2021-KAKAO-BLIND-RECRUITMENT%EC%8B%A0%EA%B7%9C-%EC%95%84%EC%9D%B4%EB%94%94-%EC%B6%94%EC%B2%9C-Python"
   ]
  },
  {
   "cell_type": "markdown",
   "metadata": {},
   "source": [
    "### 첫번째 시도"
   ]
  },
  {
   "cell_type": "code",
   "execution_count": null,
   "metadata": {},
   "outputs": [],
   "source": [
    "import re\n",
    "\n",
    "def solution(new_id):\n",
    "    answer = ''\n",
    "    \n",
    "    answer = new_id.lower()\n",
    "    \n",
    "    answer = re.sub('[^a-z0-9\\-\\_\\.]', '', answer)\n",
    "    \n",
    "    answer = re.sub('\\.{2,}', '.', answer)\n",
    "    \n",
    "    answer = re.sub('^\\.|\\.$', '', answer)\n",
    "    \n",
    "    answer = 'a' if answer == '' else answer\n",
    "    \n",
    "    answer = answer[:15] if len(answer) > 15 else answer\n",
    "        \n",
    "    \n",
    "    answer = re.sub('\\.$', '', answer)\n",
    "    \n",
    "    while True:\n",
    "        if len(answer) > 2:\n",
    "            break\n",
    "        answer = answer + answer [-1]\n",
    "    \n",
    "    return answer"
   ]
  }
 ],
 "metadata": {
  "kernelspec": {
   "display_name": "Python 3",
   "language": "python",
   "name": "python3"
  },
  "language_info": {
   "codemirror_mode": {
    "name": "ipython",
    "version": 3
   },
   "file_extension": ".py",
   "mimetype": "text/x-python",
   "name": "python",
   "nbconvert_exporter": "python",
   "pygments_lexer": "ipython3",
   "version": "3.7.3"
  }
 },
 "nbformat": 4,
 "nbformat_minor": 2
}
