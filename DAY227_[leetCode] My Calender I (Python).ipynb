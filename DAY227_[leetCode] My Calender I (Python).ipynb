{
 "cells": [
  {
   "cell_type": "markdown",
   "metadata": {},
   "source": [
    "## 2020년 10월 4일 일요일\n",
    "### leetCode - My Calender I (Python)\n",
    "### 문제 : https://leetcode.com/problems/my-calendar-i/\n",
    "### 블로그 : https://somjang.tistory.com/entry/leetCode-729-My-Calendar-I-Python"
   ]
  },
  {
   "cell_type": "markdown",
   "metadata": {},
   "source": [
    "### 첫번째 시도"
   ]
  },
  {
   "cell_type": "code",
   "execution_count": null,
   "metadata": {},
   "outputs": [],
   "source": [
    "class MyCalendar:\n",
    "\n",
    "    def __init__(self):\n",
    "        self.book_state = []\n",
    "        \n",
    "\n",
    "    def book(self, start: int, end: int) -> bool:\n",
    "        range_list = list(range(start, end))\n",
    "        \n",
    "        if len(self.book_state) == 0:\n",
    "            self.book_state.append(range_list)\n",
    "            return True\n",
    "        \n",
    "        else:\n",
    "            for book_st in self.book_state:\n",
    "                if list(set(book_st) & set(range_list)) != []:\n",
    "                    return False\n",
    "            self.book_state.append(range_list)\n",
    "            \n",
    "            return True\n",
    "\n",
    "# Your MyCalendar object will be instantiated and called as such:\n",
    "# obj = MyCalendar()\n",
    "# param_1 = obj.book(start,end)"
   ]
  },
  {
   "cell_type": "markdown",
   "metadata": {},
   "source": [
    "#### 결과 : 시간초과"
   ]
  },
  {
   "cell_type": "markdown",
   "metadata": {},
   "source": [
    "---"
   ]
  },
  {
   "cell_type": "markdown",
   "metadata": {},
   "source": [
    "### 두번째 시도"
   ]
  },
  {
   "cell_type": "code",
   "execution_count": null,
   "metadata": {},
   "outputs": [],
   "source": [
    "class MyCalendar:\n",
    "\n",
    "    def __init__(self):\n",
    "        self.book_state = []\n",
    "        \n",
    "\n",
    "    def book(self, start: int, end: int) -> bool:\n",
    "        \n",
    "        if len(self.book_state) == 0:\n",
    "            self.book_state.append([start, end])\n",
    "            return True\n",
    "        \n",
    "        else:\n",
    "            for book_st in self.book_state:\n",
    "                if start >= book_st[1] or end <= book_st[0]:\n",
    "                    continue\n",
    "                else:\n",
    "                    return False\n",
    "            self.book_state.append([start, end])\n",
    "            \n",
    "            return True\n",
    "\n",
    "# Your MyCalendar object will be instantiated and called as such:\n",
    "# obj = MyCalendar()\n",
    "# param_1 = obj.book(start,end)"
   ]
  }
 ],
 "metadata": {
  "kernelspec": {
   "display_name": "Python 3",
   "language": "python",
   "name": "python3"
  },
  "language_info": {
   "codemirror_mode": {
    "name": "ipython",
    "version": 3
   },
   "file_extension": ".py",
   "mimetype": "text/x-python",
   "name": "python",
   "nbconvert_exporter": "python",
   "pygments_lexer": "ipython3",
   "version": "3.7.3"
  }
 },
 "nbformat": 4,
 "nbformat_minor": 2
}
