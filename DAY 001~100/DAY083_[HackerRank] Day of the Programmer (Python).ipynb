{
 "cells": [
  {
   "cell_type": "markdown",
   "metadata": {},
   "source": [
    "## 2020년 4월 29일 수요일\n",
    "### HackerRank - Day of the Programmer\n",
    "### 문제 : https://www.hackerrank.com/challenges/day-of-the-programmer/problem\n",
    "### 블로그 : https://somjang.tistory.com/entry/HackerRank-Day-of-Programmer-Python"
   ]
  },
  {
   "cell_type": "markdown",
   "metadata": {},
   "source": [
    "### 첫번째 시도"
   ]
  },
  {
   "cell_type": "code",
   "execution_count": 1,
   "metadata": {},
   "outputs": [],
   "source": [
    "#!/bin/python3\n",
    "\n",
    "import math\n",
    "import os\n",
    "import random\n",
    "import re\n",
    "import sys\n",
    "\n",
    "# Complete the dayOfProgrammer function below.\n",
    "def dayOfProgrammer(year):\n",
    "    if year == 1918:\n",
    "        answer = '26.09.1918'\n",
    "    elif ((year <= 1917) and (year % 4 == 0)) or ((year%400 == 0) or ((year%4 == 0) and (year%100 != 0))):\n",
    "        answer = '12.09.{}'.format(year)\n",
    "    else:\n",
    "        answer = '13.09.{}'.format(year)\n",
    "    \n",
    "    return answer\n",
    "\n",
    "if __name__ == '__main__':\n",
    "    fptr = open(os.environ['OUTPUT_PATH'], 'w')\n",
    "\n",
    "    year = int(input().strip())\n",
    "\n",
    "    result = dayOfProgrammer(year)\n",
    "\n",
    "    fptr.write(result + '\\n')\n",
    "\n",
    "    fptr.close()\n"
   ]
  }
 ],
 "metadata": {
  "kernelspec": {
   "display_name": "Python 3",
   "language": "python",
   "name": "python3"
  },
  "language_info": {
   "codemirror_mode": {
    "name": "ipython",
    "version": 3
   },
   "file_extension": ".py",
   "mimetype": "text/x-python",
   "name": "python",
   "nbconvert_exporter": "python",
   "pygments_lexer": "ipython3",
   "version": "3.7.3"
  }
 },
 "nbformat": 4,
 "nbformat_minor": 2
}
