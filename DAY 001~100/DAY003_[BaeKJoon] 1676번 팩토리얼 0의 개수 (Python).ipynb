{
 "cells": [
  {
   "cell_type": "markdown",
   "metadata": {},
   "source": [
    "## 2020년 2월 9일 일요일\n",
    "### 백준 1676번: 팩토리얼 0의 개수\n",
    "### 문제 : https://www.acmicpc.net/problem/1676\n",
    "### 블로그 : https://somjang.tistory.com/entry/BaeKJoon-1676%EB%B2%88-%ED%8C%A9%ED%86%A0%EB%A6%AC%EC%96%BC-0%EC%9D%98-%EA%B0%9C%EC%88%98-Python"
   ]
  },
  {
   "cell_type": "markdown",
   "metadata": {},
   "source": [
    "기존 팩토리얼 함수를 활용하였습니다.\n",
    "\n",
    "팩토리얼 함수로 팩토리얼을 구하고 그 팩토리얼을 int -> str -> list로 변경\n",
    "\n",
    "가장 뒤에서부터 앞으로 탐색하며 0이 아닐때까지 count후 count한 값을 return합니다"
   ]
  },
  {
   "cell_type": "code",
   "execution_count": 7,
   "metadata": {},
   "outputs": [
    {
     "name": "stdout",
     "output_type": "stream",
     "text": [
      "10\n",
      "2\n"
     ]
    }
   ],
   "source": [
    "N = int(input())\n",
    "\n",
    "if N == 0 or N == 1:\n",
    "    print(0)\n",
    "else:\n",
    "    fact = 1\n",
    "    for i in range(1, N + 1):\n",
    "        fact = fact * i\n",
    "    fact_list = list(str(fact))\n",
    "\n",
    "    fact_list_len = len(fact_list)\n",
    "\n",
    "    count = 0\n",
    "\n",
    "    for i in range(len(fact_list)):\n",
    "        if fact_list[fact_list_len-1-i] !='0':\n",
    "            break\n",
    "        elif fact_list[fact_list_len-1-i] == '0':\n",
    "            count = count + 1\n",
    "    print(count)"
   ]
  },
  {
   "cell_type": "markdown",
   "metadata": {},
   "source": [
    "0팩토리얼의 값이 1임을 유의해야합니다"
   ]
  }
 ],
 "metadata": {
  "kernelspec": {
   "display_name": "Python 3",
   "language": "python",
   "name": "python3"
  },
  "language_info": {
   "codemirror_mode": {
    "name": "ipython",
    "version": 3
   },
   "file_extension": ".py",
   "mimetype": "text/x-python",
   "name": "python",
   "nbconvert_exporter": "python",
   "pygments_lexer": "ipython3",
   "version": "3.7.3"
  }
 },
 "nbformat": 4,
 "nbformat_minor": 2
}
