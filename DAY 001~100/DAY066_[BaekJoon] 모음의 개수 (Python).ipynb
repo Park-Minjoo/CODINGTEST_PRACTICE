{
 "cells": [
  {
   "cell_type": "markdown",
   "metadata": {},
   "source": [
    "## 2020년 4월 12일 일요일\n",
    "### BaekJoon - 1264번 : 모음의 개수\n",
    "### 문제 : https://www.acmicpc.net/problem/1264\n",
    "### 블로그 : https://somjang.tistory.com/entry/BaekJoon-1264%EB%B2%88-%EB%AA%A8%EC%9D%8C%EC%9D%98-%EA%B0%9C%EC%88%98-Python"
   ]
  },
  {
   "cell_type": "markdown",
   "metadata": {},
   "source": [
    "### 첫번째 시도"
   ]
  },
  {
   "cell_type": "code",
   "execution_count": 4,
   "metadata": {},
   "outputs": [
    {
     "name": "stdout",
     "output_type": "stream",
     "text": [
      "How are you today?\n",
      "7\n",
      "Quite well, thank you, how about yourself?\n",
      "14\n",
      "I live at number twenty sour.\n",
      "9\n",
      "#\n"
     ]
    }
   ],
   "source": [
    "vowel_list = ['a', 'e', 'i', 'o', 'u', 'A', 'E', 'I', 'O', 'U']\n",
    "\n",
    "while True:\n",
    "    string = str(input())\n",
    "    \n",
    "    if string == '#':\n",
    "        break\n",
    "    \n",
    "    string = string.replace(' ', '').replace(',', '').replace('.', '').replace('!', '').replace('?', '')\n",
    "    \n",
    "    string_list = list(string)\n",
    "    \n",
    "    vowels = [word for word in string_list if word in vowel_list]\n",
    "    \n",
    "    print(len(vowels))"
   ]
  }
 ],
 "metadata": {
  "kernelspec": {
   "display_name": "Python 3",
   "language": "python",
   "name": "python3"
  },
  "language_info": {
   "codemirror_mode": {
    "name": "ipython",
    "version": 3
   },
   "file_extension": ".py",
   "mimetype": "text/x-python",
   "name": "python",
   "nbconvert_exporter": "python",
   "pygments_lexer": "ipython3",
   "version": "3.7.3"
  }
 },
 "nbformat": 4,
 "nbformat_minor": 2
}
