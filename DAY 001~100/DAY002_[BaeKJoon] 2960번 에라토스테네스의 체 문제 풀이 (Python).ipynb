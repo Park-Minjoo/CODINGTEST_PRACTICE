{
 "cells": [
  {
   "cell_type": "markdown",
   "metadata": {},
   "source": [
    "## 2020년 2월 8일 토요일\n",
    "### 백준 2960번: 에라토스테네스의 체\n",
    "### 문제 : https://www.acmicpc.net/problem/11653\n",
    "### 블로그 : https://somjang.tistory.com/entry/BaeKJoon-2960%EB%B2%88-%EC%97%90%EB%9D%BC%ED%86%A0%EC%8A%A4%ED%85%8C%EB%84%A4%EC%8A%A4%EC%9D%98-%EC%B2%B4-%EB%AC%B8%EC%A0%9C-%ED%92%80%EC%9D%B4"
   ]
  },
  {
   "cell_type": "markdown",
   "metadata": {},
   "source": [
    "### 첫번째 시도\n",
    "백준 문제는 단순하게 소수를 찾는 것이아닌\n",
    "입력받은 N 이내의 소수를 찾기위해서 지워졌던 수들 중에서 K번째의 수를 찾는 문제였습니다."
   ]
  },
  {
   "cell_type": "code",
   "execution_count": 3,
   "metadata": {},
   "outputs": [
    {
     "name": "stdout",
     "output_type": "stream",
     "text": [
      "10 3\n",
      "6\n"
     ]
    }
   ],
   "source": [
    "N, K = map(int, input().split()) \n",
    "cnt = 0 \n",
    "nums = [True] * (N + 1) \n",
    "for i in range(2, len(nums) + 1): \n",
    "    for j in range(i, N+1, i): \n",
    "        if nums[j] == True: \n",
    "            nums[j] = False \n",
    "            cnt = cnt + 1 \n",
    "            if cnt == K: \n",
    "                print(j)\n",
    "                break"
   ]
  },
  {
   "cell_type": "markdown",
   "metadata": {},
   "source": [
    "---"
   ]
  },
  {
   "cell_type": "markdown",
   "metadata": {},
   "source": [
    "### 에라토스테네스의 체"
   ]
  },
  {
   "cell_type": "code",
   "execution_count": 4,
   "metadata": {},
   "outputs": [],
   "source": [
    "def getPrimaryNum_Eratos(N):\n",
    "    nums = [True] * (N + 1)\n",
    "    for i in range(2, len(nums) // 2 + 1):\n",
    "        if nums[i] == True:\n",
    "            for j in range(i+i, N, i):\n",
    "                nums[j] = False\n",
    "    return [i for i in range(2, N) if nums[i] == True]"
   ]
  },
  {
   "cell_type": "code",
   "execution_count": 5,
   "metadata": {},
   "outputs": [
    {
     "data": {
      "text/plain": [
       "[2, 3, 5, 7]"
      ]
     },
     "execution_count": 5,
     "metadata": {},
     "output_type": "execute_result"
    }
   ],
   "source": [
    "getPrimaryNum_Eratos(10)"
   ]
  }
 ],
 "metadata": {
  "kernelspec": {
   "display_name": "Python 3",
   "language": "python",
   "name": "python3"
  },
  "language_info": {
   "codemirror_mode": {
    "name": "ipython",
    "version": 3
   },
   "file_extension": ".py",
   "mimetype": "text/x-python",
   "name": "python",
   "nbconvert_exporter": "python",
   "pygments_lexer": "ipython3",
   "version": "3.7.3"
  }
 },
 "nbformat": 4,
 "nbformat_minor": 2
}
