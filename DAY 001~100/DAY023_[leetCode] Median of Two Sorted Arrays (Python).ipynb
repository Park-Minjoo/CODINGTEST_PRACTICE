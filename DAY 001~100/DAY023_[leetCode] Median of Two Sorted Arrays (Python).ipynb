{
 "cells": [
  {
   "cell_type": "markdown",
   "metadata": {},
   "source": [
    "## 2020년 2월 29일 토요일\n",
    "### leetCode: Median of Two Sorted Arrays\n",
    "### 문제 : https://leetcode.com/problems/median-of-two-sorted-arrays/\n",
    "### 블로그 : https://somjang.tistory.com/entry/leetCode-7-Median-of-Two-Sorted-Arrays-Python"
   ]
  },
  {
   "cell_type": "markdown",
   "metadata": {},
   "source": [
    "### 첫번째 시도"
   ]
  },
  {
   "cell_type": "code",
   "execution_count": null,
   "metadata": {},
   "outputs": [],
   "source": [
    "class Solution:\n",
    "    def findMedianSortedArrays(self, nums1: List[int], nums2: List[int]) -> float:\n",
    "        newNumList = nums1\n",
    "        newNumList.extend(nums2)\n",
    "        \n",
    "        newNumList.sort()\n",
    "        \n",
    "        list_len = len(newNumList)\n",
    "        \n",
    "        medium_num = list_len // 2\n",
    "        \n",
    "        if list_len % 2 == 1:\n",
    "            answer = float(newNumList[medium_num])\n",
    "        else:\n",
    "            answer = float(newNumList[medium_num-1] + newNumList[medium_num]) / 2.0\n",
    "        return answer"
   ]
  }
 ],
 "metadata": {
  "kernelspec": {
   "display_name": "Python 3",
   "language": "python",
   "name": "python3"
  },
  "language_info": {
   "codemirror_mode": {
    "name": "ipython",
    "version": 3
   },
   "file_extension": ".py",
   "mimetype": "text/x-python",
   "name": "python",
   "nbconvert_exporter": "python",
   "pygments_lexer": "ipython3",
   "version": "3.7.3"
  }
 },
 "nbformat": 4,
 "nbformat_minor": 2
}
