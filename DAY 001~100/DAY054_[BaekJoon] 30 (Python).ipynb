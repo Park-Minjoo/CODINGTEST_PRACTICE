{
 "cells": [
  {
   "cell_type": "markdown",
   "metadata": {},
   "source": [
    "## 2020년 3월 31일 화요일\n",
    "### 백준 : 10610번 30\n",
    "### 문제 : https://www.acmicpc.net/problem/10610\n",
    "### 블로그 : https://somjang.tistory.com/entry/BaeKJoon-10610%EB%B2%88-30-Python"
   ]
  },
  {
   "cell_type": "markdown",
   "metadata": {},
   "source": [
    "### 첫번째 시도"
   ]
  },
  {
   "cell_type": "code",
   "execution_count": 1,
   "metadata": {},
   "outputs": [
    {
     "name": "stdout",
     "output_type": "stream",
     "text": [
      "210\n",
      "210\n"
     ]
    }
   ],
   "source": [
    "N = input()\n",
    "\n",
    "N = list(N)\n",
    "\n",
    "answer = -1\n",
    "\n",
    "max_num = sorted(N, reverse=True)\n",
    "\n",
    "max_num = int(''.join(max_num))\n",
    "\n",
    "\n",
    "if max_num % 30 == 0:\n",
    "    answer = max_num\n",
    "    \n",
    "print(answer)"
   ]
  },
  {
   "cell_type": "markdown",
   "metadata": {},
   "source": [
    "---"
   ]
  },
  {
   "cell_type": "markdown",
   "metadata": {},
   "source": [
    "### 두번째 시도"
   ]
  },
  {
   "cell_type": "code",
   "execution_count": 3,
   "metadata": {},
   "outputs": [
    {
     "name": "stdout",
     "output_type": "stream",
     "text": [
      "210\n",
      "210\n"
     ]
    }
   ],
   "source": [
    "N = input()\n",
    "\n",
    "N = list(N)\n",
    "\n",
    "answer = -1\n",
    "\n",
    "if min(N) == '0':\n",
    "    max_num = sorted(N, reverse=True)\n",
    "\n",
    "    max_num = int(''.join(max_num))\n",
    "\n",
    "    if max_num % 3 == 0:\n",
    "        answer = max_num\n",
    "    \n",
    "print(answer)"
   ]
  }
 ],
 "metadata": {
  "kernelspec": {
   "display_name": "Python 3",
   "language": "python",
   "name": "python3"
  },
  "language_info": {
   "codemirror_mode": {
    "name": "ipython",
    "version": 3
   },
   "file_extension": ".py",
   "mimetype": "text/x-python",
   "name": "python",
   "nbconvert_exporter": "python",
   "pygments_lexer": "ipython3",
   "version": "3.7.3"
  }
 },
 "nbformat": 4,
 "nbformat_minor": 2
}
