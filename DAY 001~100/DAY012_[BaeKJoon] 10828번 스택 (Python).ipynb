{
 "cells": [
  {
   "cell_type": "markdown",
   "metadata": {},
   "source": [
    "## 2020년 2월 18일 화요일\n",
    "### 백준 10828번: 스택\n",
    "### 문제 : https://www.acmicpc.net/problem/10828\n",
    "### 블로그 :https://somjang.tistory.com/entry/BaeKJoon-1260%EB%B2%88-DFS%EC%99%80-BFS-Python"
   ]
  },
  {
   "cell_type": "markdown",
   "metadata": {},
   "source": [
    "### 첫번째 시도"
   ]
  },
  {
   "cell_type": "code",
   "execution_count": 9,
   "metadata": {},
   "outputs": [
    {
     "name": "stdout",
     "output_type": "stream",
     "text": [
      "14\n",
      "push 1\n",
      "push 2\n",
      "top\n",
      "size\n",
      "empty\n",
      "pop\n",
      "pop\n",
      "pop\n",
      "size\n",
      "empty\n",
      "pop\n",
      "push 3\n",
      "empty\n",
      "top\n",
      "2\n",
      "2\n",
      "0\n",
      "2\n",
      "1\n",
      "-1\n",
      "0\n",
      "1\n",
      "-1\n",
      "0\n",
      "3\n"
     ]
    }
   ],
   "source": [
    "mystack = []\n",
    "command_list = []\n",
    "\n",
    "num = input()\n",
    "\n",
    "for i in range(int(num)):\n",
    "    command = input()\n",
    "    command_list.append(command)\n",
    "    \n",
    "for command in command_list:\n",
    "    cmd = command.split()\n",
    "    \n",
    "    if cmd[0] == 'push':\n",
    "        mystack.append(cmd[1])\n",
    "    elif cmd[0] == 'pop':\n",
    "        if len(mystack) != 0:\n",
    "            print(mystack.pop())\n",
    "        else:\n",
    "            print(-1)\n",
    "    elif cmd[0] == 'top':\n",
    "        if len(mystack) != 0:\n",
    "            print(mystack[-1])\n",
    "        else:\n",
    "            print(-1)\n",
    "    elif cmd[0] == 'size':\n",
    "        print(len(mystack))\n",
    "    elif cmd[0] == 'empty':\n",
    "        if len(mystack) != 0:\n",
    "            print(0)\n",
    "        else:\n",
    "            print(1)"
   ]
  }
 ],
 "metadata": {
  "kernelspec": {
   "display_name": "Python 3",
   "language": "python",
   "name": "python3"
  },
  "language_info": {
   "codemirror_mode": {
    "name": "ipython",
    "version": 3
   },
   "file_extension": ".py",
   "mimetype": "text/x-python",
   "name": "python",
   "nbconvert_exporter": "python",
   "pygments_lexer": "ipython3",
   "version": "3.7.3"
  }
 },
 "nbformat": 4,
 "nbformat_minor": 2
}
