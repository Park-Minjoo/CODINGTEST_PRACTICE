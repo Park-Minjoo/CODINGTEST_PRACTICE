{
 "cells": [
  {
   "cell_type": "markdown",
   "metadata": {},
   "source": [
    "## 2020년 3월 2일 월요일\n",
    "### 백준 11656번 접미사 배열\n",
    "### 문제 : https://www.acmicpc.net/problem/11656\n",
    "### 블로그 : https://somjang.tistory.com/entry/BaeKJoon-11656%EB%B2%88-%EC%A0%91%EB%AF%B8%EC%82%AC-%EB%B0%B0%EC%97%B4-Python"
   ]
  },
  {
   "cell_type": "markdown",
   "metadata": {},
   "source": [
    "### 첫번째 시도"
   ]
  },
  {
   "cell_type": "code",
   "execution_count": 2,
   "metadata": {},
   "outputs": [
    {
     "name": "stdout",
     "output_type": "stream",
     "text": [
      "baekjoon\n",
      "aekjoon\n",
      "baekjoon\n",
      "ekjoon\n",
      "joon\n",
      "kjoon\n",
      "n\n",
      "on\n",
      "oon\n"
     ]
    }
   ],
   "source": [
    "string = input()\n",
    "string = list(string)\n",
    "myStrings = []\n",
    "\n",
    "while len(string) > 0:\n",
    "    myStrings.append(str(string))\n",
    "    string.pop(0)\n",
    "\n",
    "myStrings = set(myStrings)\n",
    "new = []\n",
    "\n",
    "for word in myStrings:\n",
    "    word = word.replace('[', '')\n",
    "    word = word.replace(',', '')\n",
    "    word = word.replace(']', '')\n",
    "    word = word.replace(' ', '')\n",
    "    word = word.replace(\"'\", '')\n",
    "    new.append(word)\n",
    "\n",
    "result = sorted(new)\n",
    "\n",
    "for word in result:\n",
    "    print(word)"
   ]
  },
  {
   "cell_type": "markdown",
   "metadata": {},
   "source": [
    "---"
   ]
  },
  {
   "cell_type": "markdown",
   "metadata": {},
   "source": [
    "### 두번째 제출 코드"
   ]
  },
  {
   "cell_type": "code",
   "execution_count": 1,
   "metadata": {},
   "outputs": [
    {
     "name": "stdout",
     "output_type": "stream",
     "text": [
      "baekjoon\n",
      "aekjoon\n",
      "baekjoon\n",
      "ekjoon\n",
      "joon\n",
      "kjoon\n",
      "n\n",
      "on\n",
      "oon\n"
     ]
    }
   ],
   "source": [
    "string = input()\n",
    "string = list(string)\n",
    "myStrings = []\n",
    "\n",
    "while len(string) > 0:\n",
    "    myStrings.append(''.join(string))\n",
    "    string.pop(0)\n",
    "\n",
    "result = sorted(myStrings)\n",
    "\n",
    "for word in result:\n",
    "    print(word)"
   ]
  }
 ],
 "metadata": {
  "kernelspec": {
   "display_name": "Python 3",
   "language": "python",
   "name": "python3"
  },
  "language_info": {
   "codemirror_mode": {
    "name": "ipython",
    "version": 3
   },
   "file_extension": ".py",
   "mimetype": "text/x-python",
   "name": "python",
   "nbconvert_exporter": "python",
   "pygments_lexer": "ipython3",
   "version": "3.7.3"
  }
 },
 "nbformat": 4,
 "nbformat_minor": 2
}
