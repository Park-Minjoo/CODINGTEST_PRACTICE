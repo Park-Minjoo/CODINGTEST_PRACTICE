{
 "cells": [
  {
   "cell_type": "markdown",
   "metadata": {},
   "source": [
    "## 2020년 5월 11일 월요일\n",
    "### leetCode : Longest Substring Without Repeating Characters\n",
    "### 문제 : https://leetcode.com/problems/longest-substring-without-repeating-characters/\n",
    "### 블로그 : https://somjang.tistory.com/entry/leetCode-3-Longest-Substring-Without-Repeating-Characters-Python"
   ]
  },
  {
   "cell_type": "markdown",
   "metadata": {},
   "source": [
    "### 첫번째 시도"
   ]
  },
  {
   "cell_type": "code",
   "execution_count": 4,
   "metadata": {},
   "outputs": [],
   "source": [
    "class Solution:\n",
    "    def lengthOfLongestSubstring(self, my_str: str) -> int:\n",
    "        answer = 0\n",
    "        \n",
    "        substrings = []\n",
    "        \n",
    "        my_str_list = list(my_str)\n",
    "        \n",
    "        set_list = set(my_str_list)\n",
    "        \n",
    "        if len(set_list) == 0:\n",
    "            answer = 0\n",
    "        elif len(set_list) == 1:\n",
    "            answer = 1\n",
    "        else:\n",
    "            for i in range(len(my_str_list)):\n",
    "                sub = []\n",
    "                for j in range(i, len(my_str_list)):\n",
    "                    if my_str_list[j] in sub:\n",
    "                        substring = ''.join(sub)\n",
    "                        substrings.append(len(substring))\n",
    "                        break\n",
    "                    sub.append(my_str_list[j])\n",
    "                    \n",
    "                    if j == len(my_str_list) - 1:\n",
    "                        substring = ''.join(sub)\n",
    "                        substrings.append(len(substring))\n",
    "\n",
    "            answer = max(substrings)\n",
    "                            \n",
    "        return answer"
   ]
  }
 ],
 "metadata": {
  "kernelspec": {
   "display_name": "Python 3",
   "language": "python",
   "name": "python3"
  },
  "language_info": {
   "codemirror_mode": {
    "name": "ipython",
    "version": 3
   },
   "file_extension": ".py",
   "mimetype": "text/x-python",
   "name": "python",
   "nbconvert_exporter": "python",
   "pygments_lexer": "ipython3",
   "version": "3.7.3"
  }
 },
 "nbformat": 4,
 "nbformat_minor": 2
}
