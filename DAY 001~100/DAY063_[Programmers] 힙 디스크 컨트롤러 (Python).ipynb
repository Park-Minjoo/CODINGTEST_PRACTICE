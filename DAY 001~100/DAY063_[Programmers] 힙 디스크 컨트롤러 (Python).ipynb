{
 "cells": [
  {
   "cell_type": "markdown",
   "metadata": {},
   "source": [
    "## 2020년 4월 9일 목요일\n",
    "### 프로그래머스 - 힙 : 디스크 컨트롤러\n",
    "### 문제 :https://programmers.co.kr/learn/courses/30/lessons/42627\n",
    "### 블로그 : https://somjang.tistory.com/entry/Programmers-%ED%9E%99-%EB%94%94%EC%8A%A4%ED%81%AC-%EC%BB%A8%ED%8A%B8%EB%A1%A4%EB%9F%AC-Python"
   ]
  },
  {
   "cell_type": "markdown",
   "metadata": {},
   "source": [
    "### 첫번째 시도"
   ]
  },
  {
   "cell_type": "code",
   "execution_count": 4,
   "metadata": {},
   "outputs": [],
   "source": [
    "def solution(jobs):\n",
    "    job_nums = len(jobs)\n",
    "    answer = 0\n",
    "    jobs.sort(key=lambda x: (x[0], x[1]))\n",
    "    start, time = jobs.pop(0)\n",
    "    end = time + start\n",
    "    answer = answer + time\n",
    "    while jobs:\n",
    "        next_index = 0\n",
    "        for index in range(1, len(jobs)):\n",
    "            if jobs[index][0] > end:\n",
    "                break\n",
    "            else:\n",
    "                if jobs[index][1] < jobs[next_index][1]:\n",
    "                    next_index = index\n",
    "        next_ = jobs.pop(next_index)\n",
    "        if next_[0] <= end:\n",
    "            answer = answer + next_[1] + (end - next_[0])\n",
    "            end = end + next_[1]\n",
    "        else:\n",
    "            answer = answer + next_[1]\n",
    "            end = sum(next_)\n",
    "\n",
    "    return answer // job_nums"
   ]
  }
 ],
 "metadata": {
  "kernelspec": {
   "display_name": "Python 3",
   "language": "python",
   "name": "python3"
  },
  "language_info": {
   "codemirror_mode": {
    "name": "ipython",
    "version": 3
   },
   "file_extension": ".py",
   "mimetype": "text/x-python",
   "name": "python",
   "nbconvert_exporter": "python",
   "pygments_lexer": "ipython3",
   "version": "3.7.3"
  }
 },
 "nbformat": 4,
 "nbformat_minor": 2
}
