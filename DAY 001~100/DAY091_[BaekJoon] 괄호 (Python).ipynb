{
 "cells": [
  {
   "cell_type": "markdown",
   "metadata": {},
   "source": [
    "## 2020년 5월 7일 목요일\n",
    "### BaekJoon - 9012번 : 괄호\n",
    "### 문제 : https://www.acmicpc.net/problem/9012\n",
    "### 블로그 : https://somjang.tistory.com/entry/BaekJoon-9012%EB%B2%88-%EA%B4%84%ED%98%B8-Python"
   ]
  },
  {
   "cell_type": "markdown",
   "metadata": {},
   "source": [
    "### 첫번째 시도"
   ]
  },
  {
   "cell_type": "code",
   "execution_count": null,
   "metadata": {},
   "outputs": [],
   "source": [
    "case = int(input())\n",
    "result = []\n",
    "\n",
    "for i in range(case):\n",
    "    gwalhos = list(input())\n",
    "    mystack = []\n",
    "    double_break = True\n",
    "    \n",
    "    for j in range(len(gwalhos)):\n",
    "        if gwalhos[j] == \"(\":\n",
    "            mystack.append(gwalhos[j])\n",
    "        else:\n",
    "            try:\n",
    "                if mystack.pop() == \"(\":\n",
    "                    pass\n",
    "            except:\n",
    "                result.append(\"NO\")\n",
    "                double_break = False\n",
    "                break\n",
    "\n",
    "    if len(mystack):\n",
    "        result.append(\"NO\")\n",
    "        continue\n",
    "        \n",
    "    if double_break:\n",
    "        result.append(\"YES\")\n",
    "        \n",
    "        \n",
    "for i in result:\n",
    "    print(i)"
   ]
  }
 ],
 "metadata": {
  "kernelspec": {
   "display_name": "Python 3",
   "language": "python",
   "name": "python3"
  },
  "language_info": {
   "codemirror_mode": {
    "name": "ipython",
    "version": 3
   },
   "file_extension": ".py",
   "mimetype": "text/x-python",
   "name": "python",
   "nbconvert_exporter": "python",
   "pygments_lexer": "ipython3",
   "version": "3.7.3"
  }
 },
 "nbformat": 4,
 "nbformat_minor": 2
}
