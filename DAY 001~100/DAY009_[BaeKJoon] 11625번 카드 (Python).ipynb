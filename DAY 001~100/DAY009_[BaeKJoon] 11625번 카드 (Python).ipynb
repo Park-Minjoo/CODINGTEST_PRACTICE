{
 "cells": [
  {
   "cell_type": "markdown",
   "metadata": {},
   "source": [
    "## 2020년 2월 15일 토요일\n",
    "### 백준 11652번: 카드\n",
    "### 문제 : https://www.acmicpc.net/problem/11652\n",
    "### 블로그 :https://somjang.tistory.com/entry/BaeKJoon-11652%EB%B2%88-%EC%B9%B4%EB%93%9C-Python"
   ]
  },
  {
   "cell_type": "markdown",
   "metadata": {},
   "source": [
    "### 첫번째 시도"
   ]
  },
  {
   "cell_type": "markdown",
   "metadata": {},
   "source": [
    "Dictionary를 활용"
   ]
  },
  {
   "cell_type": "code",
   "execution_count": 24,
   "metadata": {},
   "outputs": [
    {
     "name": "stdout",
     "output_type": "stream",
     "text": [
      "6\n",
      "1\n",
      "2\n",
      "1\n",
      "2\n",
      "1\n",
      "2\n",
      "2\n"
     ]
    }
   ],
   "source": [
    "import sys\n",
    "\n",
    "N = int(input())\n",
    "\n",
    "my_dict = {}\n",
    "\n",
    "for i in range(N):\n",
    "    num = int(sys.stdin.readline())\n",
    "    \n",
    "    if num not in my_dict.keys():\n",
    "        my_dict[num] = 1\n",
    "    else:\n",
    "        my_dict[num] = my_dict[num] + 1\n",
    "        \n",
    "new_dict = dict([(value, key) for key, value in my_dict.items()]) \n",
    "\n",
    "print(new_dict[max(new_dict.keys())])\n",
    "    "
   ]
  },
  {
   "cell_type": "markdown",
   "metadata": {},
   "source": [
    "### 이런...\n",
    "결과는! - 틀렸습니다.\n",
    "왜 틀렸나하고 문제를 잘 살펴보니 \n",
    "\n",
    "여러개의 숫자가 있을 경우 그 중에서 가장 작은 수를 출력해야하는 조건을 만족하지 못한 답이었습니다.\n",
    "\n",
    "그리고 key와 value를 바꿔주는 과정에서도 같은 value값의 수가 key로 바뀌면서\n",
    "\n",
    "가장 작은 수를 추출할 수 없게 사라지는 경우도 있었습니다."
   ]
  },
  {
   "cell_type": "markdown",
   "metadata": {},
   "source": [
    "---"
   ]
  },
  {
   "cell_type": "markdown",
   "metadata": {},
   "source": [
    "### 두번째 시도"
   ]
  },
  {
   "cell_type": "markdown",
   "metadata": {},
   "source": [
    "이번에는 dictionary의 values() 함수를 활용해 풀어보기로 했습니다."
   ]
  },
  {
   "cell_type": "code",
   "execution_count": 32,
   "metadata": {},
   "outputs": [
    {
     "name": "stdout",
     "output_type": "stream",
     "text": [
      "5\n",
      "1\n",
      "2\n",
      "1\n",
      "2\n",
      "1\n",
      "1\n"
     ]
    }
   ],
   "source": [
    "import sys\n",
    "\n",
    "N = int(input())\n",
    "\n",
    "my_dict = {}\n",
    "\n",
    "for i in range(N):\n",
    "    num = int(sys.stdin.readline())\n",
    "    \n",
    "    if num not in my_dict.keys():\n",
    "        my_dict[num] = 1\n",
    "    else:\n",
    "        my_dict[num] = my_dict[num] + 1\n",
    "\n",
    "max_num = max(list(my_dict.values()))\n",
    "\n",
    "answer = []\n",
    "\n",
    "for key, value in my_dict.items():\n",
    "    if value == max_num:\n",
    "        answer.append(key)\n",
    "        \n",
    "print(min(answer))"
   ]
  },
  {
   "cell_type": "code",
   "execution_count": null,
   "metadata": {},
   "outputs": [],
   "source": []
  }
 ],
 "metadata": {
  "kernelspec": {
   "display_name": "Python 3",
   "language": "python",
   "name": "python3"
  },
  "language_info": {
   "codemirror_mode": {
    "name": "ipython",
    "version": 3
   },
   "file_extension": ".py",
   "mimetype": "text/x-python",
   "name": "python",
   "nbconvert_exporter": "python",
   "pygments_lexer": "ipython3",
   "version": "3.7.3"
  }
 },
 "nbformat": 4,
 "nbformat_minor": 2
}
