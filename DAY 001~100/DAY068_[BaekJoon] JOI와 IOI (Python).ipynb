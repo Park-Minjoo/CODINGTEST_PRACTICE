{
 "cells": [
  {
   "cell_type": "markdown",
   "metadata": {},
   "source": [
    "## 2020년 4월 14일 화요일\n",
    "### BaekJoon - 5586번 : JOI와 IOI\n",
    "### 문제 : https://www.acmicpc.net/problem/5586\n",
    "### 블로그 : https://somjang.tistory.com/entry/BaekJoon-5586%EB%B2%88-JOI%EC%99%80-IOI-Python"
   ]
  },
  {
   "cell_type": "markdown",
   "metadata": {},
   "source": [
    "### 첫번째 시도"
   ]
  },
  {
   "cell_type": "code",
   "execution_count": 4,
   "metadata": {},
   "outputs": [
    {
     "name": "stdout",
     "output_type": "stream",
     "text": [
      "JOIOIOIOI\n",
      "1\n",
      "3\n"
     ]
    }
   ],
   "source": [
    "input_string = str(input())\n",
    "\n",
    "JOI = 0\n",
    "IOI = 0\n",
    "\n",
    "if len(input_string) >= 3:\n",
    "    for i in range(len(input_string) - 2):\n",
    "        if input_string[i:i+3] == 'JOI':\n",
    "            JOI = JOI + 1\n",
    "        elif input_string[i:i+3] == 'IOI':\n",
    "            IOI = IOI + 1\n",
    "print(JOI)\n",
    "print(IOI)"
   ]
  }
 ],
 "metadata": {
  "kernelspec": {
   "display_name": "Python 3",
   "language": "python",
   "name": "python3"
  },
  "language_info": {
   "codemirror_mode": {
    "name": "ipython",
    "version": 3
   },
   "file_extension": ".py",
   "mimetype": "text/x-python",
   "name": "python",
   "nbconvert_exporter": "python",
   "pygments_lexer": "ipython3",
   "version": "3.7.3"
  }
 },
 "nbformat": 4,
 "nbformat_minor": 2
}
