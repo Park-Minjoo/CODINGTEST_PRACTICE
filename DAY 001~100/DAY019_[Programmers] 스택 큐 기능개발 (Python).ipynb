{
 "cells": [
  {
   "cell_type": "markdown",
   "metadata": {},
   "source": [
    "## 2020년 2월 25일 화요일\n",
    "### 프로그래머스 스택/큐: 기능개발\n",
    "### 문제 : https://programmers.co.kr/learn/courses/30/lessons/42586\n",
    "### 블로그 : https://somjang.tistory.com/entry/Programmers-%EC%8A%A4%ED%83%9D%ED%81%90-%EA%B8%B0%EB%8A%A5%EA%B0%9C%EB%B0%9C-Python"
   ]
  },
  {
   "cell_type": "markdown",
   "metadata": {},
   "source": [
    "### 첫번째 시도"
   ]
  },
  {
   "cell_type": "code",
   "execution_count": 27,
   "metadata": {},
   "outputs": [],
   "source": [
    "def solution(progresses, speeds):\n",
    "    answer = []\n",
    "    \n",
    "    min_key = 0\n",
    "    \n",
    "    work_times_dic = {}\n",
    "    \n",
    "    for i in range(len(progresses)):\n",
    "        work_time = (100 - progresses[i]) // speeds[i]\n",
    "\n",
    "        if (100-progresses[i]) % speeds[i] != 0:\n",
    "            work_time = work_time + 1\n",
    "            \n",
    "        my_keys = work_times_dic.keys()\n",
    "        \n",
    "        \n",
    "        if i > 0:\n",
    "            min_key = min(my_keys)\n",
    "\n",
    "\n",
    "        \n",
    "        if min_key < work_time and (work_time not in my_keys):\n",
    "            work_times_dic[work_time] = 1\n",
    "        elif min_key > work_time:\n",
    "            work_times_dic[min_key] = work_times_dic[min_key] + 1\n",
    "\n",
    "        \n",
    "    work_times_dic = sorted(work_times_dic.items())\n",
    "    \n",
    "    \n",
    "    for i in range(len(work_times_dic)):\n",
    "        answer.append(work_times_dic[i][1])\n",
    "\n",
    "    return answer"
   ]
  },
  {
   "cell_type": "code",
   "execution_count": 28,
   "metadata": {},
   "outputs": [
    {
     "data": {
      "text/plain": [
       "[2, 1]"
      ]
     },
     "execution_count": 28,
     "metadata": {},
     "output_type": "execute_result"
    }
   ],
   "source": [
    "solution([93, 30, 55], [1,30, 5])"
   ]
  },
  {
   "cell_type": "markdown",
   "metadata": {},
   "source": [
    "---"
   ]
  },
  {
   "cell_type": "markdown",
   "metadata": {},
   "source": [
    "### 두번째 시도"
   ]
  },
  {
   "cell_type": "code",
   "execution_count": 32,
   "metadata": {},
   "outputs": [],
   "source": [
    "def solution(progresses, speeds):\n",
    "    answer = []\n",
    "    \n",
    "    min_key = 0\n",
    "    \n",
    "    work_times_dic = {}\n",
    "    \n",
    "    for i in range(len(progresses)):\n",
    "        work_time = (100 - progresses[i]) // speeds[i]\n",
    "\n",
    "        if (100-progresses[i]) % speeds[i] != 0:\n",
    "            work_time = work_time + 1\n",
    "            \n",
    "        my_keys = work_times_dic.keys()\n",
    "        \n",
    "        \n",
    "        if i > 0:\n",
    "            min_key = min(my_keys)\n",
    "\n",
    "\n",
    "        \n",
    "        if min_key < work_time and (work_time not in my_keys):\n",
    "            work_times_dic[work_time] = 1\n",
    "        elif min_key > work_time:\n",
    "            work_times_dic[min_key] = work_times_dic[min_key] + 1\n",
    "        else:\n",
    "            work_times_dic[work_time] = work_times_dic[work_time] + 1\n",
    "\n",
    "        \n",
    "    work_times_dic = sorted(work_times_dic.items())\n",
    "    \n",
    "    \n",
    "    for i in range(len(work_times_dic)):\n",
    "        answer.append(work_times_dic[i][1])\n",
    "\n",
    "    return answer"
   ]
  },
  {
   "cell_type": "code",
   "execution_count": 33,
   "metadata": {},
   "outputs": [
    {
     "data": {
      "text/plain": [
       "[2, 1]"
      ]
     },
     "execution_count": 33,
     "metadata": {},
     "output_type": "execute_result"
    }
   ],
   "source": [
    "solution([93, 30, 55], [1,30, 5])"
   ]
  },
  {
   "cell_type": "markdown",
   "metadata": {},
   "source": [
    "---"
   ]
  },
  {
   "cell_type": "markdown",
   "metadata": {},
   "source": [
    "### 세번째 시도"
   ]
  },
  {
   "cell_type": "code",
   "execution_count": 43,
   "metadata": {},
   "outputs": [],
   "source": [
    "def solution(progresses, speeds):\n",
    "    answer = []\n",
    "    \n",
    "    min_key = 0\n",
    "    \n",
    "    finish_time = []\n",
    "    \n",
    "    finish_time_stack = []\n",
    "    \n",
    "    for i in range(len(progresses)):\n",
    "        work_time = (100 - progresses[i]) // speeds[i]\n",
    "\n",
    "        if (100-progresses[i]) % speeds[i] != 0:\n",
    "            work_time = work_time + 1\n",
    "            \n",
    "        finish_time.append(work_time)\n",
    "    \n",
    "    finish_time_dic = {finish_time[0]:1}\n",
    "    \n",
    "    finish_time_stack.append(finish_time[0])\n",
    "    \n",
    "    for i in range(1, len(finish_time)):\n",
    "        if finish_time[i-1] > finish_time[i]:\n",
    "            finish_time_dic[finish_time[i-1]] = finish_time_dic[finish_time[i-1]] + 1\n",
    "        elif finish_time[i] not in finish_time_dic.keys():\n",
    "            finish_time_dic[finish_time[i]] = 1\n",
    "            finish_time_stack.append(finish_time[i])\n",
    "        else:\n",
    "            finish_time_dic[finish_time[i]] = finish_time_dic[finish_time[i]] + 1\n",
    "            \n",
    "            \n",
    "    for key in finish_time_dic.keys():\n",
    "        answer.append(finish_time_dic[key])\n",
    "    print(finish_time_dic)\n",
    "        \n",
    "    return answer"
   ]
  },
  {
   "cell_type": "code",
   "execution_count": 44,
   "metadata": {},
   "outputs": [
    {
     "name": "stdout",
     "output_type": "stream",
     "text": [
      "{7: 2, 9: 1}\n"
     ]
    },
    {
     "data": {
      "text/plain": [
       "[2, 1]"
      ]
     },
     "execution_count": 44,
     "metadata": {},
     "output_type": "execute_result"
    }
   ],
   "source": [
    "solution([93, 30, 55], [1,30, 5])"
   ]
  },
  {
   "cell_type": "code",
   "execution_count": 45,
   "metadata": {},
   "outputs": [
    {
     "name": "stdout",
     "output_type": "stream",
     "text": [
      "{7: 2, 9: 2}\n"
     ]
    },
    {
     "data": {
      "text/plain": [
       "[2, 2]"
      ]
     },
     "execution_count": 45,
     "metadata": {},
     "output_type": "execute_result"
    }
   ],
   "source": [
    "solution([ 93 , 30 , 55 , 60 ], [ 1, 30 , 5 , 40 ])"
   ]
  },
  {
   "cell_type": "code",
   "execution_count": 46,
   "metadata": {},
   "outputs": [
    {
     "name": "stdout",
     "output_type": "stream",
     "text": [
      "{1: 1, 7: 2, 9: 2, 5: 1}\n"
     ]
    },
    {
     "data": {
      "text/plain": [
       "[1, 2, 2, 1]"
      ]
     },
     "execution_count": 46,
     "metadata": {},
     "output_type": "execute_result"
    }
   ],
   "source": [
    "solution([40, 93, 30, 55, 60, 65], [60, 1, 30, 5 , 10, 7])"
   ]
  },
  {
   "cell_type": "markdown",
   "metadata": {},
   "source": [
    "### 네번째 시도"
   ]
  },
  {
   "cell_type": "code",
   "execution_count": 51,
   "metadata": {},
   "outputs": [],
   "source": [
    "def solution(progresses, speeds):\n",
    "    answer = []\n",
    "    \n",
    "    min_key = 0\n",
    "    \n",
    "    finish_time = []\n",
    "    \n",
    "    finish_time_stack = []\n",
    "    \n",
    "    for i in range(len(progresses)):\n",
    "        work_time = (100 - progresses[i]) // speeds[i]\n",
    "\n",
    "        if (100-progresses[i]) % speeds[i] != 0:\n",
    "            work_time = work_time + 1\n",
    "            \n",
    "        finish_time.append(work_time)\n",
    "    \n",
    "    finish_time_stack.append(finish_time[0])\n",
    "    finish_time_dic = {finish_time[0]:1}\n",
    "    \n",
    "    for i in range(1, len(finish_time)):\n",
    "        if finish_time[i-1] < finish_time[i] and (finish_time[i] > finish_time_stack[-1]):\n",
    "            finish_time_dic[finish_time[i]] = 1\n",
    "            finish_time_stack.append(finish_time[i])\n",
    "        else:\n",
    "            finish_time_dic[finish_time_stack[-1]] = finish_time_dic[finish_time_stack[-1]] + 1\n",
    "            \n",
    "    for key in finish_time_dic.keys():\n",
    "        answer.append(finish_time_dic[key])\n",
    "        \n",
    "    return answer"
   ]
  },
  {
   "cell_type": "code",
   "execution_count": 52,
   "metadata": {},
   "outputs": [
    {
     "data": {
      "text/plain": [
       "[1, 2, 3]"
      ]
     },
     "execution_count": 52,
     "metadata": {},
     "output_type": "execute_result"
    }
   ],
   "source": [
    "solution([40, 93, 30, 55, 60, 65], [60, 1, 30, 5 , 10, 7])"
   ]
  }
 ],
 "metadata": {
  "kernelspec": {
   "display_name": "Python 3",
   "language": "python",
   "name": "python3"
  },
  "language_info": {
   "codemirror_mode": {
    "name": "ipython",
    "version": 3
   },
   "file_extension": ".py",
   "mimetype": "text/x-python",
   "name": "python",
   "nbconvert_exporter": "python",
   "pygments_lexer": "ipython3",
   "version": "3.7.3"
  }
 },
 "nbformat": 4,
 "nbformat_minor": 2
}
