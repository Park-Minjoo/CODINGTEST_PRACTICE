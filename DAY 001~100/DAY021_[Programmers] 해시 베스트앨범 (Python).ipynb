{
 "cells": [
  {
   "cell_type": "markdown",
   "metadata": {},
   "source": [
    "## 2020년 2월 27일 목요일\n",
    "### 프로그래머스 해시: 베스트앨범\n",
    "### 문제 : https://programmers.co.kr/learn/courses/30/lessons/42579\n",
    "### 블로그 : https://somjang.tistory.com/entry/Programmers-%ED%95%B4%EC%8B%9C-%EB%B2%A0%EC%8A%A4%ED%8A%B8%EC%95%A8%EB%B2%94-Python"
   ]
  },
  {
   "cell_type": "markdown",
   "metadata": {},
   "source": [
    "### 첫번째 시도"
   ]
  },
  {
   "cell_type": "code",
   "execution_count": 87,
   "metadata": {},
   "outputs": [],
   "source": [
    "def solution(genres, plays):\n",
    "    answer = []\n",
    "    \n",
    "    if len(genres) > 1:\n",
    "        genres_dic = {genres[0]:[(plays[0], 0)]}\n",
    "        \n",
    "        total_plays_dic = {genres[0]:plays[0]}\n",
    "        \n",
    "        for i in range(1, len(genres)):\n",
    "            if genres[i] not in genres_dic.keys():\n",
    "                genres_dic[genres[i]] = [(plays[i], i)]\n",
    "                total_plays_dic[genres[i]] = plays[i]\n",
    "            else:\n",
    "                genres_dic[genres[i]].append((plays[i], i))\n",
    "                total_plays_dic[genres[i]] = total_plays_dic[genres[i]] + plays[i]\n",
    "        \n",
    "        \n",
    "        \n",
    "        sorted_play_dic = sorted(total_plays_dic, reverse=True)\n",
    "        \n",
    "        for key in sorted_play_dic:\n",
    "            play_time_list = genres_dic[key]\n",
    "            \n",
    "            play_time_list = sorted(play_time_list, key=lambda x:(-x[0], x[1]))\n",
    "            \n",
    "            if len(play_time_list) >= 2:\n",
    "                for i in range(2):\n",
    "                    answer.append(play_time_list[i][1])\n",
    "            else:\n",
    "                for i in range(len(play_time_list)):\n",
    "                    answer.append(play_time_list[i][1])       \n",
    "    else:\n",
    "        answer.append(0)\n",
    "        \n",
    "    \n",
    "    return answer"
   ]
  },
  {
   "cell_type": "code",
   "execution_count": 89,
   "metadata": {},
   "outputs": [
    {
     "data": {
      "text/plain": [
       "[4, 1, 3, 0]"
      ]
     },
     "execution_count": 89,
     "metadata": {},
     "output_type": "execute_result"
    }
   ],
   "source": [
    "solution(['classic', 'pop', 'classic', 'classic', 'pop'], [500, 600, 150, 800, 2500])"
   ]
  },
  {
   "cell_type": "markdown",
   "metadata": {},
   "source": [
    "---"
   ]
  },
  {
   "cell_type": "markdown",
   "metadata": {},
   "source": [
    "### 두번째 시도"
   ]
  },
  {
   "cell_type": "code",
   "execution_count": 92,
   "metadata": {},
   "outputs": [],
   "source": [
    "def solution(genres, plays):\n",
    "    answer = []\n",
    "    genres_dic = {}\n",
    "    total_plays_dic = {}\n",
    "    \n",
    "    if len(genres) == 1:\n",
    "        return [0]\n",
    "    else:        \n",
    "        for i in range(len(genres)):\n",
    "            if genres[i] not in genres_dic.keys():\n",
    "                genres_dic[genres[i]] = [(plays[i], i)]\n",
    "                total_plays_dic[genres[i]] = plays[i]\n",
    "            else:\n",
    "                genres_dic[genres[i]].append((plays[i], i))\n",
    "                total_plays_dic[genres[i]] = total_plays_dic[genres[i]] + plays[i]\n",
    "\n",
    "\n",
    "\n",
    "        sorted_play_dic = sorted(total_plays_dic, reverse=True)\n",
    "\n",
    "        for key in sorted_play_dic:\n",
    "            play_time_list = genres_dic[key]\n",
    "\n",
    "\n",
    "            if len(play_time_list) >= 2:\n",
    "                play_time_list = sorted(play_time_list, key=lambda x:(-x[0], x[1]))\n",
    "                for i in range(2):\n",
    "                    answer.append(play_time_list[i][1])\n",
    "            else:\n",
    "                for i in range(len(play_time_list)):\n",
    "                    answer.append(play_time_list[i][1])       \n",
    "    return answer"
   ]
  },
  {
   "cell_type": "code",
   "execution_count": 94,
   "metadata": {},
   "outputs": [
    {
     "data": {
      "text/plain": [
       "[4, 1, 3, 0]"
      ]
     },
     "execution_count": 94,
     "metadata": {},
     "output_type": "execute_result"
    }
   ],
   "source": [
    "solution(['classic', 'pop', 'classic', 'classic', 'pop'], [500, 600, 150, 800, 2500])"
   ]
  },
  {
   "cell_type": "markdown",
   "metadata": {},
   "source": [
    "---"
   ]
  },
  {
   "cell_type": "markdown",
   "metadata": {},
   "source": [
    "### 세번째 시도"
   ]
  },
  {
   "cell_type": "code",
   "execution_count": 97,
   "metadata": {},
   "outputs": [],
   "source": [
    "def solution(genres, plays):\n",
    "    answer = []\n",
    "    genres_dic = {}\n",
    "    total_plays_dic = {}\n",
    "    \n",
    "    if len(genres) == 1:\n",
    "        return [0]\n",
    "    else:        \n",
    "        for i in range(len(genres)):\n",
    "            if genres[i] not in genres_dic.keys():\n",
    "                genres_dic[genres[i]] = [(plays[i], i)]\n",
    "                total_plays_dic[genres[i]] = plays[i]\n",
    "            else:\n",
    "                genres_dic[genres[i]].append((plays[i], i))\n",
    "                total_plays_dic[genres[i]] = total_plays_dic[genres[i]] + plays[i]\n",
    "\n",
    "\n",
    "\n",
    "        sorted_play_dic = sorted(total_plays_dic, reverse=True)\n",
    "\n",
    "        for key in sorted_play_dic:\n",
    "            play_time_list = genres_dic[key]\n",
    "\n",
    "\n",
    "        \n",
    "            play_time_list = sorted(play_time_list, key=lambda x:(-x[0], x[1]))\n",
    "            if len(play_time_list) >= 2:\n",
    "                for i in range(2):\n",
    "                    answer.append(play_time_list[i][1])\n",
    "            else:\n",
    "                answer.append(play_time_list[i][1])\n",
    "    return answer"
   ]
  },
  {
   "cell_type": "code",
   "execution_count": 98,
   "metadata": {},
   "outputs": [
    {
     "data": {
      "text/plain": [
       "[4, 1, 3, 0]"
      ]
     },
     "execution_count": 98,
     "metadata": {},
     "output_type": "execute_result"
    }
   ],
   "source": [
    "solution(['classic', 'pop', 'classic', 'classic', 'pop'], [500, 600, 150, 800, 2500])"
   ]
  },
  {
   "cell_type": "markdown",
   "metadata": {},
   "source": [
    "---"
   ]
  },
  {
   "cell_type": "markdown",
   "metadata": {},
   "source": [
    "### 네번째 시도"
   ]
  },
  {
   "cell_type": "code",
   "execution_count": 130,
   "metadata": {},
   "outputs": [],
   "source": [
    "def solution(genres, plays):\n",
    "    answer = []\n",
    "    \n",
    "    genre_total_play = {}\n",
    "    genre_dic = {}\n",
    "    \n",
    "    for i in range(len(genres)):\n",
    "        if genres[i] not in genre_dic.keys():\n",
    "            genre_dic[genres[i]] = [(plays[i], i)]\n",
    "            genre_total_play[genres[i]] = plays[i]\n",
    "        else:\n",
    "            genre_dic[genres[i]].append((plays[i], i))\n",
    "            genre_total_play[genres[i]] = genre_total_play[genres[i]] + plays[i]\n",
    "            \n",
    "#     print(genre_total_play)\n",
    "#     print(genre_dic)\n",
    "    \n",
    "    sorted_total_play = sorted(genre_total_play.items(), key=lambda x: x[1], reverse=True)\n",
    "    print(sorted_total_play)\n",
    "    \n",
    "    for key in sorted_total_play:\n",
    "        play_list = genre_dic[key[0]]\n",
    "        \n",
    "        play_list = sorted(play_list, key = lambda x : (-x[0], x[1]))\n",
    "        \n",
    "        \n",
    "        for i in range(len(play_list)):\n",
    "            if i == 2:\n",
    "                break\n",
    "            answer.append(play_list[i][1])\n",
    "    \n",
    "    return answer"
   ]
  },
  {
   "cell_type": "code",
   "execution_count": 131,
   "metadata": {},
   "outputs": [
    {
     "name": "stdout",
     "output_type": "stream",
     "text": [
      "[('pop', 3100), ('classic', 1450)]\n"
     ]
    },
    {
     "data": {
      "text/plain": [
       "[4, 1, 3, 0]"
      ]
     },
     "execution_count": 131,
     "metadata": {},
     "output_type": "execute_result"
    }
   ],
   "source": [
    "solution(['classic', 'pop', 'classic', 'classic', 'pop'], [500, 600, 150, 800, 2500])"
   ]
  },
  {
   "cell_type": "code",
   "execution_count": null,
   "metadata": {},
   "outputs": [],
   "source": []
  }
 ],
 "metadata": {
  "kernelspec": {
   "display_name": "Python 3",
   "language": "python",
   "name": "python3"
  },
  "language_info": {
   "codemirror_mode": {
    "name": "ipython",
    "version": 3
   },
   "file_extension": ".py",
   "mimetype": "text/x-python",
   "name": "python",
   "nbconvert_exporter": "python",
   "pygments_lexer": "ipython3",
   "version": "3.7.3"
  }
 },
 "nbformat": 4,
 "nbformat_minor": 2
}
