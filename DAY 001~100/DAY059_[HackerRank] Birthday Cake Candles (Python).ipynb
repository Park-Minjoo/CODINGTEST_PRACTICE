{
 "cells": [
  {
   "cell_type": "markdown",
   "metadata": {},
   "source": [
    "## 2020년 4월 5일 일요일\n",
    "### HackerRank - Birthday Cake Candles\n",
    "### 문제 : https://www.hackerrank.com/challenges/birthday-cake-candles/problem\n",
    "### 블로그 : https://somjang.tistory.com/entry/HackerRank-Birthday-Cake-Candles-Python"
   ]
  },
  {
   "cell_type": "markdown",
   "metadata": {},
   "source": [
    "### 첫번째 시도"
   ]
  },
  {
   "cell_type": "code",
   "execution_count": 1,
   "metadata": {},
   "outputs": [],
   "source": [
    "#!/bin/python3\n",
    "\n",
    "import math\n",
    "import os\n",
    "import random\n",
    "import re\n",
    "import sys\n",
    "import collections\n",
    "\n",
    "# Complete the birthdayCakeCandles function below.\n",
    "def birthdayCakeCandles(ar):\n",
    "    my_candles_counter = collections.Counter(ar)\n",
    "\n",
    "    max_height = max(my_candles_counter.keys())\n",
    "\n",
    "    return my_candles_counter[max_height]"
   ]
  }
 ],
 "metadata": {
  "kernelspec": {
   "display_name": "Python 3",
   "language": "python",
   "name": "python3"
  },
  "language_info": {
   "codemirror_mode": {
    "name": "ipython",
    "version": 3
   },
   "file_extension": ".py",
   "mimetype": "text/x-python",
   "name": "python",
   "nbconvert_exporter": "python",
   "pygments_lexer": "ipython3",
   "version": "3.7.3"
  }
 },
 "nbformat": 4,
 "nbformat_minor": 2
}
