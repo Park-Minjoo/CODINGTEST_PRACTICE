{
 "cells": [
  {
   "cell_type": "markdown",
   "metadata": {},
   "source": [
    "## 2020년 5월 12일 화요일\n",
    "### BaekJoon - 1764번 : 듣보잡\n",
    "### 문제 : https://www.acmicpc.net/problem/1764\n",
    "### 블로그 : https://somjang.tistory.com/entry/BaekJoon-1764%EB%B2%88-%EB%93%A3%EB%B3%B4%EC%9E%A1-Python"
   ]
  },
  {
   "cell_type": "markdown",
   "metadata": {},
   "source": [
    "### 첫번째 시도"
   ]
  },
  {
   "cell_type": "code",
   "execution_count": 21,
   "metadata": {},
   "outputs": [
    {
     "name": "stdout",
     "output_type": "stream",
     "text": [
      "3 4\n",
      "alice\n",
      "beee\n",
      "clala\n",
      "obama\n",
      "alice\n",
      "beee\n",
      "clinton\n",
      "2\n",
      "alice\n",
      "beee\n"
     ]
    }
   ],
   "source": [
    "N, M = map(int, input().split())\n",
    "\n",
    "people_no_hear = []\n",
    "people_no_look = []\n",
    "\n",
    "for i in range(N):\n",
    "    name = str(input())\n",
    "    people_no_hear.append(name)\n",
    "    \n",
    "for i in range(M):\n",
    "    name = str(input())\n",
    "    people_no_look.append(name)\n",
    "    \n",
    "        \n",
    "no_hear_look = (set(people_no_hear) & set(people_no_look))\n",
    "no_hear_look = sorted(no_hear_look)\n",
    "\n",
    "print(len(no_hear_look))\n",
    "for name in no_hear_look:\n",
    "    print(name)"
   ]
  }
 ],
 "metadata": {
  "kernelspec": {
   "display_name": "Python 3",
   "language": "python",
   "name": "python3"
  },
  "language_info": {
   "codemirror_mode": {
    "name": "ipython",
    "version": 3
   },
   "file_extension": ".py",
   "mimetype": "text/x-python",
   "name": "python",
   "nbconvert_exporter": "python",
   "pygments_lexer": "ipython3",
   "version": "3.7.3"
  }
 },
 "nbformat": 4,
 "nbformat_minor": 2
}
