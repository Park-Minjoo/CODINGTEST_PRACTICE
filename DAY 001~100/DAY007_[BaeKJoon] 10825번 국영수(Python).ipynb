{
 "cells": [
  {
   "cell_type": "markdown",
   "metadata": {},
   "source": [
    "## 2020년 2월 13일 목요일\n",
    "### 백준 10825번: 국영수\n",
    "### 문제 : https://www.acmicpc.net/problem/10825\n",
    "### 블로그 :https://somjang.tistory.com/entry/BaeKJoon-10825%EB%B2%88-%EA%B5%AD%EC%98%81%EC%88%98-Python"
   ]
  },
  {
   "cell_type": "markdown",
   "metadata": {},
   "source": [
    "### 첫번째 시도"
   ]
  },
  {
   "cell_type": "markdown",
   "metadata": {},
   "source": [
    "sorted와 lambda를 활용\n",
    "\n",
    "국어 점수가 감소하는 순서로\n",
    "\n",
    "국어 점수가 같으면 영어 점수가 증가하는 순서로\n",
    "\n",
    "국어 점수와 영어 점수가 같으면 수학 점수가 감소하는 순서로\n",
    "\n",
    "모든 점수가 같으면 이름이 사전 순으로 증가하는 순서로 (단, 아스키 코드에서 대문자는 소문자보다 작으므로 사전순으로 앞에 온다.)"
   ]
  },
  {
   "cell_type": "code",
   "execution_count": 2,
   "metadata": {},
   "outputs": [
    {
     "name": "stdout",
     "output_type": "stream",
     "text": [
      "12\n",
      "Junkyu 50 60 100\n",
      "Sangkeun 80 60 50\n",
      "Sunyoung 80 70 100\n",
      "Soong 50 60 90\n",
      "Haebin 50 60 100\n",
      "Kangsoo 60 80 100\n",
      "Donghyuk 80 60 100\n",
      "Sei 70 70 70\n",
      "Wonseob 70 70 90\n",
      "Sanghyun 70 70 80\n",
      "nsj 80 80 80\n",
      "Taewhan 50 60 90\n",
      "Donghyuk\n",
      "Sangkeun\n",
      "Sunyoung\n",
      "nsj\n",
      "Wonseob\n",
      "Sanghyun\n",
      "Sei\n",
      "Kangsoo\n",
      "Haebin\n",
      "Junkyu\n",
      "Soong\n",
      "Taewhan\n"
     ]
    }
   ],
   "source": [
    "N = int(input())\n",
    "\n",
    "score_list = []\n",
    "\n",
    "for i in range(N):\n",
    "    [name, kor, eng, math] = map(str, input().split())\n",
    "    \n",
    "    score_list.append([name, int(kor), int(eng), int(math)])\n",
    "    \n",
    "\n",
    "sorted_score_list = sorted(score_list, key=lambda x : (-x[1], x[2], -x[3], x[0]))\n",
    "\n",
    "for score in sorted_score_list:\n",
    "    print(score[0])\n",
    "    \n",
    "    \n",
    "    "
   ]
  },
  {
   "cell_type": "code",
   "execution_count": null,
   "metadata": {},
   "outputs": [],
   "source": []
  }
 ],
 "metadata": {
  "kernelspec": {
   "display_name": "Python 3",
   "language": "python",
   "name": "python3"
  },
  "language_info": {
   "codemirror_mode": {
    "name": "ipython",
    "version": 3
   },
   "file_extension": ".py",
   "mimetype": "text/x-python",
   "name": "python",
   "nbconvert_exporter": "python",
   "pygments_lexer": "ipython3",
   "version": "3.7.3"
  }
 },
 "nbformat": 4,
 "nbformat_minor": 2
}
