{
 "cells": [
  {
   "cell_type": "markdown",
   "metadata": {},
   "source": [
    "## 2020년 4월 5일 일요일\n",
    "### HackerRank - Time Conversion\n",
    "### 문제 : https://www.hackerrank.com/challenges/time-conversion/problem\n",
    "### 블로그 : https://somjang.tistory.com/entry/HackerRank-Time-Conversion-Python"
   ]
  },
  {
   "cell_type": "markdown",
   "metadata": {},
   "source": [
    "### 첫번째 시도"
   ]
  },
  {
   "cell_type": "code",
   "execution_count": 1,
   "metadata": {},
   "outputs": [],
   "source": [
    "#!/bin/python3\n",
    "\n",
    "import os\n",
    "import sys\n",
    "\n",
    "#\n",
    "# Complete the timeConversion function below.\n",
    "#\n",
    "def timeConversion(s):\n",
    "    hour, minute, second_AMPM = s.split(':')\n",
    "\n",
    "    if second_AMPM[2:] == \"PM\" and hour != '12':\n",
    "        hour = str(int(hour) + 12)\n",
    "    if second_AMPM[2:] == \"AM\" and hour == '12':\n",
    "        hour = \"00\"\n",
    "    if second_AMPM[2:] == \"PM\" and hour == '12':\n",
    "        hour = \"12\"\n",
    "\n",
    "    conversion_time = hour + ':' + minute + ':' + second_AMPM[0:2]\n",
    "\n",
    "    return conversion_time"
   ]
  }
 ],
 "metadata": {
  "kernelspec": {
   "display_name": "Python 3",
   "language": "python",
   "name": "python3"
  },
  "language_info": {
   "codemirror_mode": {
    "name": "ipython",
    "version": 3
   },
   "file_extension": ".py",
   "mimetype": "text/x-python",
   "name": "python",
   "nbconvert_exporter": "python",
   "pygments_lexer": "ipython3",
   "version": "3.7.3"
  }
 },
 "nbformat": 4,
 "nbformat_minor": 2
}
