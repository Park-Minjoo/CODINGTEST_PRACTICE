{
 "cells": [
  {
   "cell_type": "markdown",
   "metadata": {},
   "source": [
    "## 2020년 3월 28일 토요일\n",
    "### 백준 : 2902번 KMP는 왜 KMP일까?\n",
    "### 문제 : https://www.acmicpc.net/problem/2902\n",
    "### 블로그 : https://somjang.tistory.com/entry/BaeKJoon-2902%EB%B2%88-KMP%EB%8A%94-%EC%99%9C-KMP%EC%9D%BC%EA%B9%8C-Python"
   ]
  },
  {
   "cell_type": "markdown",
   "metadata": {},
   "source": [
    "### 첫번째 시도"
   ]
  },
  {
   "cell_type": "code",
   "execution_count": 2,
   "metadata": {},
   "outputs": [
    {
     "name": "stdout",
     "output_type": "stream",
     "text": [
      "Knuth-Morris-Pratt\n",
      "KMP\n"
     ]
    }
   ],
   "source": [
    "input_string = str(input())\n",
    "\n",
    "split_string = input_string.split('-')\n",
    "\n",
    "answer = ''\n",
    "\n",
    "for i in range(len(split_string)):\n",
    "    answer = answer + split_string[i][0]\n",
    "    \n",
    "print(answer)"
   ]
  }
 ],
 "metadata": {
  "kernelspec": {
   "display_name": "Python 3",
   "language": "python",
   "name": "python3"
  },
  "language_info": {
   "codemirror_mode": {
    "name": "ipython",
    "version": 3
   },
   "file_extension": ".py",
   "mimetype": "text/x-python",
   "name": "python",
   "nbconvert_exporter": "python",
   "pygments_lexer": "ipython3",
   "version": "3.7.3"
  }
 },
 "nbformat": 4,
 "nbformat_minor": 2
}
