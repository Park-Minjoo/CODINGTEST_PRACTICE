{
 "cells": [
  {
   "cell_type": "markdown",
   "metadata": {},
   "source": [
    "## 2020년 2월 10일 월요일\n",
    "### 백준 2004번: 조합 0의 개수\n",
    "### 문제 : https://www.acmicpc.net/problem/2004\n",
    "### 블로그 : https://somjang.tistory.com/entry/BaeKJoon-2004%EB%B2%88-%EC%A1%B0%ED%95%A9-0%EC%9D%98-%EA%B0%9C%EC%88%98-Python"
   ]
  },
  {
   "cell_type": "markdown",
   "metadata": {},
   "source": [
    "### 첫번째 시도"
   ]
  },
  {
   "cell_type": "markdown",
   "metadata": {},
   "source": [
    "기존 팩토리얼 함수를 활용하였습니다.\n",
    "\n",
    "조합을 팩토리얼을 활용하여 구하고 그 값을 int -> str -> list로 변경\n",
    "\n",
    "가장 뒤에서부터 앞으로 탐색하며 0이 아닐때까지 count후 count한 값을 return합니다\n",
    "\n",
    "조합을 구할때 분모에 있는 팩토리얼에 의해 분자의 팩토리얼이 나누어지는 것을 활용하였습니다."
   ]
  },
  {
   "cell_type": "code",
   "execution_count": 6,
   "metadata": {},
   "outputs": [
    {
     "name": "stdout",
     "output_type": "stream",
     "text": [
      "10 7\n",
      "120\n",
      "1\n"
     ]
    }
   ],
   "source": [
    "def factorialNum(N):\n",
    "    if N == 0 or N == 1:\n",
    "        return 1\n",
    "    else:\n",
    "        fact = 1\n",
    "        for i in range(1, N + 1):\n",
    "            fact = fact * i\n",
    "    return fact\n",
    "\n",
    "def factorialTopNum(N, M):\n",
    "    top = 1\n",
    "    for i in range(N-M+1, N+1):\n",
    "        top = top * i\n",
    "    return top\n",
    "\n",
    "\n",
    "N, M = map(int, input().split())\n",
    "\n",
    "combination = int(factorialTopNum(N, M) / factorialNum(M))\n",
    "\n",
    "print(combination)\n",
    "\n",
    "comb_list = list(str(combination))\n",
    "\n",
    "comb_list_len = len(comb_list)\n",
    "\n",
    "count = 0\n",
    "\n",
    "for i in range(len(comb_list)):\n",
    "    if comb_list[comb_list_len-1-i] !='0':\n",
    "        break\n",
    "    elif comb_list[comb_list_len-1-i] == '0':\n",
    "        count = count + 1\n",
    "print(count)"
   ]
  },
  {
   "cell_type": "markdown",
   "metadata": {},
   "source": [
    "0팩토리얼의 값이 1임을 유의해야합니다"
   ]
  },
  {
   "cell_type": "markdown",
   "metadata": {},
   "source": [
    "---"
   ]
  },
  {
   "cell_type": "markdown",
   "metadata": {},
   "source": [
    "### 두번째 시도"
   ]
  },
  {
   "cell_type": "markdown",
   "metadata": {},
   "source": [
    "m과 n으로 들어오는 숫자가 (0≤m≤n≤2,000,000,000, n!=0) 이므로 \n",
    "엄청나게 큰 숫자가 들어오게 되면 시간초과가 발생하는 것 같습니다.\n",
    "\n",
    "\n",
    "\n",
    "이문제는 조합을 구해서 답을 내는 것이아닌 조합 내의 0의 개수를 구하는 문제이므로\n",
    "\n",
    "이번에는 나눗셈은 지수의 차의 개념과\n",
    "\n",
    "각 팩토리얼 마다 0을 만들 수 있는 2와 5를 몇개 가지고 있는지 확인하여 그걸 활용해서 풀어보았습니다."
   ]
  },
  {
   "cell_type": "markdown",
   "metadata": {},
   "source": [
    "M과 N을 입력받았을떄 M! 을 N!과 (M-N)!로 나눈 값이 조합입니다.\n",
    "\n",
    "\n",
    "\n",
    "그럼 여기서 0의 개수를 구하는 것은\n",
    "\n",
    "0의개수\n",
    "\n",
    "=\n",
    "M!가 가지고 있는 2의 개수 - N!이 가지고 있는 2의 개수 - (M-N)!이 가지고 있는 2의 개수\n",
    "\n",
    "/\n",
    "\n",
    "M!가 가지고 있는 5의 개수 - N!이 가지고 있는 5의 개수 - (M-N)!이 가지고 있는 5의 개수\n",
    "\n",
    "중에 작은 수"
   ]
  },
  {
   "cell_type": "code",
   "execution_count": 39,
   "metadata": {},
   "outputs": [],
   "source": [
    "def countNum(N, num):\n",
    "    count = 0\n",
    "    divNum = num\n",
    "    while( N >= divNum):\n",
    "        count = count + (N // divNum)\n",
    "        divNum = divNum * num\n",
    "    return count\n",
    "        "
   ]
  },
  {
   "cell_type": "code",
   "execution_count": 40,
   "metadata": {},
   "outputs": [
    {
     "name": "stdout",
     "output_type": "stream",
     "text": [
      "25 12\n",
      "2\n"
     ]
    }
   ],
   "source": [
    "M, N = map(int, input().split())\n",
    "\n",
    "print(min(countNum(M, 5) - countNum(N, 5) - countNum(M-N, 5), countNum(M, 2) - countNum(N, 2) - countNum(M-N, 2)))"
   ]
  },
  {
   "cell_type": "code",
   "execution_count": null,
   "metadata": {},
   "outputs": [],
   "source": []
  },
  {
   "cell_type": "code",
   "execution_count": null,
   "metadata": {},
   "outputs": [],
   "source": []
  }
 ],
 "metadata": {
  "kernelspec": {
   "display_name": "Python 3",
   "language": "python",
   "name": "python3"
  },
  "language_info": {
   "codemirror_mode": {
    "name": "ipython",
    "version": 3
   },
   "file_extension": ".py",
   "mimetype": "text/x-python",
   "name": "python",
   "nbconvert_exporter": "python",
   "pygments_lexer": "ipython3",
   "version": "3.7.3"
  }
 },
 "nbformat": 4,
 "nbformat_minor": 2
}
