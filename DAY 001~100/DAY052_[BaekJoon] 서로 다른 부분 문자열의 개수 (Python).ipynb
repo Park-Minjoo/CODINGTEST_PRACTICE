{
 "cells": [
  {
   "cell_type": "markdown",
   "metadata": {},
   "source": [
    "## 2020년 3월 29일 일요일\n",
    "### 백준 : 11478번 서로 다른 부분 문자열의 개수\n",
    "### 문제 : https://www.acmicpc.net/problem/11478\n",
    "### 블로그 : https://somjang.tistory.com/entry/BaeKJoon-11478%EB%B2%88-%EC%84%9C%EB%A1%9C-%EB%8B%A4%EB%A5%B8-%EB%B6%80%EB%B6%84-%EB%AC%B8%EC%9E%90%EC%97%B4%EC%9D%98-%EA%B0%9C%EC%88%98-Python"
   ]
  },
  {
   "cell_type": "markdown",
   "metadata": {},
   "source": [
    "### 첫번째 시도"
   ]
  },
  {
   "cell_type": "code",
   "execution_count": 4,
   "metadata": {},
   "outputs": [
    {
     "name": "stdout",
     "output_type": "stream",
     "text": [
      "ababc\n",
      "12\n"
     ]
    }
   ],
   "source": [
    "string = str(input())\n",
    "\n",
    "strings = []\n",
    "\n",
    "for i in range(len(string)):\n",
    "    for j in range(len(string) - i):\n",
    "        strings.append(string[j:j+i+1])\n",
    "        \n",
    "print(len(set(strings)))"
   ]
  }
 ],
 "metadata": {
  "kernelspec": {
   "display_name": "Python 3",
   "language": "python",
   "name": "python3"
  },
  "language_info": {
   "codemirror_mode": {
    "name": "ipython",
    "version": 3
   },
   "file_extension": ".py",
   "mimetype": "text/x-python",
   "name": "python",
   "nbconvert_exporter": "python",
   "pygments_lexer": "ipython3",
   "version": "3.7.3"
  }
 },
 "nbformat": 4,
 "nbformat_minor": 2
}
