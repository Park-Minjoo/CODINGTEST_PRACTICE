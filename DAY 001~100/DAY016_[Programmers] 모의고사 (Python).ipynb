{
 "cells": [
  {
   "cell_type": "markdown",
   "metadata": {},
   "source": [
    "## 2020년 2월 22일 토요일\n",
    "### 프로그래머스 완전탐색 : 모의고사\n",
    "### 문제 : https://programmers.co.kr/learn/courses/30/lessons/42840\n",
    "### 블로그 : https://somjang.tistory.com/entry/Programmers-%EC%99%84%EC%A0%84%ED%83%90%EC%83%89-%EB%AA%A8%EC%9D%98%EA%B3%A0%EC%82%AC-Python?category=351755"
   ]
  },
  {
   "cell_type": "markdown",
   "metadata": {},
   "source": [
    "### 첫번째 시도"
   ]
  },
  {
   "cell_type": "code",
   "execution_count": 24,
   "metadata": {},
   "outputs": [],
   "source": [
    "def solution(answers):\n",
    "    answer = []\n",
    "    \n",
    "    tester_1 = [1, 2, 3, 4, 5]\n",
    "    tester_2 = [2, 1, 2, 3, 2, 4, 2, 5]\n",
    "    tester_3 = [3, 3, 1, 1, 2, 2, 4, 4, 5, 5]    \n",
    "    \n",
    "    len_tester_1 = len(tester_1)\n",
    "    len_tester_2 = len(tester_2)\n",
    "    len_tester_3 = len(tester_3)\n",
    "    \n",
    "    check_1 = [0] * len_tester_1\n",
    "    check_2 = [0] * len_tester_2\n",
    "    check_3 = [0] * len_tester_3\n",
    "    \n",
    "    \n",
    "    for i in range(len(answers)):\n",
    "        if tester_1[i%len_tester_1] == answers[i]:\n",
    "            check_1[i%len_tester_1] = check_1[i%len_tester_1] + 1\n",
    "\n",
    "        if tester_2[i%len_tester_2] == answers[i]:\n",
    "            check_2[i%len_tester_2] = check_2[i%len_tester_2] + 1\n",
    "            \n",
    "        if tester_3[i%len_tester_3] == answers[i]:\n",
    "            check_3[i%len_tester_3] = check_3[i%len_tester_3] + 1\n",
    "            \n",
    "    right_dict = {1:sum(check_1), 2:sum(check_2), 3:sum(check_3)}\n",
    "    \n",
    "    right_dict = sorted(right_dict.items())\n",
    "    \n",
    "    for i in range(len(right_dict)):\n",
    "        if right_dict[i][1] != 0:\n",
    "            answer.append(right_dict[i][0])\n",
    "    \n",
    "    return answer"
   ]
  },
  {
   "cell_type": "code",
   "execution_count": 25,
   "metadata": {},
   "outputs": [
    {
     "data": {
      "text/plain": [
       "[1]"
      ]
     },
     "execution_count": 25,
     "metadata": {},
     "output_type": "execute_result"
    }
   ],
   "source": [
    "solution([1,2,3,4,5])"
   ]
  },
  {
   "cell_type": "markdown",
   "metadata": {},
   "source": [
    "---"
   ]
  },
  {
   "cell_type": "markdown",
   "metadata": {},
   "source": [
    "### 두번째 시도"
   ]
  },
  {
   "cell_type": "code",
   "execution_count": 50,
   "metadata": {},
   "outputs": [],
   "source": [
    "def solution(answers):\n",
    "    answer = []\n",
    "    \n",
    "    tester_1 = [1, 2, 3, 4, 5]\n",
    "    tester_2 = [2, 1, 2, 3, 2, 4, 2, 5]\n",
    "    tester_3 = [3, 3, 1, 1, 2, 2, 4, 4, 5, 5]    \n",
    "    \n",
    "    len_tester_1 = len(tester_1)\n",
    "    len_tester_2 = len(tester_2)\n",
    "    len_tester_3 = len(tester_3)\n",
    "    \n",
    "    check_1 = [0] * len_tester_1\n",
    "    check_2 = [0] * len_tester_2\n",
    "    check_3 = [0] * len_tester_3\n",
    "    \n",
    "    \n",
    "    for i in range(len(answers)):\n",
    "        if tester_1[i%len_tester_1] == answers[i]:\n",
    "            check_1[i%len_tester_1] = check_1[i%len_tester_1] + 1\n",
    "\n",
    "        if tester_2[i%len_tester_2] == answers[i]:\n",
    "            check_2[i%len_tester_2] = check_2[i%len_tester_2] + 1\n",
    "            \n",
    "        if tester_3[i%len_tester_3] == answers[i]:\n",
    "            check_3[i%len_tester_3] = check_3[i%len_tester_3] + 1\n",
    "            \n",
    "    right_dict = {1:sum(check_1), 2:sum(check_2), 3:sum(check_3)}\n",
    "    \n",
    "    right_dict = sorted(right_dict.items())\n",
    "    \n",
    "    right_dict = sorted(right_dict, key=lambda x : (-x[1], x[0]))\n",
    "\n",
    "    for i in range(len(right_dict)):\n",
    "        if right_dict[i][1] != 0:\n",
    "            answer.append(right_dict[i][0])\n",
    "    \n",
    "    return answer"
   ]
  },
  {
   "cell_type": "code",
   "execution_count": 37,
   "metadata": {},
   "outputs": [
    {
     "data": {
      "text/plain": [
       "[2, 3]"
      ]
     },
     "execution_count": 37,
     "metadata": {},
     "output_type": "execute_result"
    }
   ],
   "source": [
    "solution([1, 3, 2, 1, 2, 4, 5, 2, 3, 1, 4, 4,2, 1, 1, 3, 4])"
   ]
  },
  {
   "cell_type": "markdown",
   "metadata": {},
   "source": [
    "---"
   ]
  },
  {
   "cell_type": "markdown",
   "metadata": {},
   "source": [
    "### 세번째 시도"
   ]
  },
  {
   "cell_type": "code",
   "execution_count": 35,
   "metadata": {},
   "outputs": [],
   "source": [
    "def solution(answers):\n",
    "    answer = []\n",
    "    \n",
    "    tester_1 = [1, 2, 3, 4, 5]\n",
    "    tester_2 = [2, 1, 2, 3, 2, 4, 2, 5]\n",
    "    tester_3 = [3, 3, 1, 1, 2, 2, 4, 4, 5, 5]    \n",
    "    \n",
    "    len_tester_1 = len(tester_1)\n",
    "    len_tester_2 = len(tester_2)\n",
    "    len_tester_3 = len(tester_3)\n",
    "    \n",
    "    check_1 = 0\n",
    "    check_2 = 0\n",
    "    check_3 = 0\n",
    "    \n",
    "    \n",
    "    for i in range(len(answers)):\n",
    "        if tester_1[i%len_tester_1] == answers[i]:\n",
    "            check_1 = check_1 + 1\n",
    "            \n",
    "            \n",
    "        if tester_2[i%len_tester_2] == answers[i]:\n",
    "            check_2 = check_2 + 1\n",
    "            \n",
    "            \n",
    "        if tester_3[i%len_tester_3] == answers[i]:\n",
    "            check_3 = check_3 + 1\n",
    "            \n",
    "            \n",
    "    max_right = max(check_1, check_2, check_3)\n",
    "        \n",
    "    if max_right == check_1:\n",
    "        answer.append(1)\n",
    "    if max_right == check_2:\n",
    "        answer.append(2)\n",
    "    if max_right == check_3:\n",
    "        answer.append(3)\n",
    "    \n",
    "    answer = sorted(answer)\n",
    "    \n",
    "    return answer"
   ]
  },
  {
   "cell_type": "code",
   "execution_count": 36,
   "metadata": {},
   "outputs": [
    {
     "data": {
      "text/plain": [
       "[2]"
      ]
     },
     "execution_count": 36,
     "metadata": {},
     "output_type": "execute_result"
    }
   ],
   "source": [
    "solution([1, 3, 2, 1, 2, 4, 5, 2, 3, 1, 4, 4,2, 1, 1, 3,2, 1, 1, 4])"
   ]
  }
 ],
 "metadata": {
  "kernelspec": {
   "display_name": "Python 3",
   "language": "python",
   "name": "python3"
  },
  "language_info": {
   "codemirror_mode": {
    "name": "ipython",
    "version": 3
   },
   "file_extension": ".py",
   "mimetype": "text/x-python",
   "name": "python",
   "nbconvert_exporter": "python",
   "pygments_lexer": "ipython3",
   "version": "3.7.3"
  }
 },
 "nbformat": 4,
 "nbformat_minor": 2
}
