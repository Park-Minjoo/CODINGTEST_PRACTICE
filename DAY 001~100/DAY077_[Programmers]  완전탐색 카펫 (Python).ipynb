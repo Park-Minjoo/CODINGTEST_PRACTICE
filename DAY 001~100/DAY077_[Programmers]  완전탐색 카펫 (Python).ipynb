{
 "cells": [
  {
   "cell_type": "markdown",
   "metadata": {},
   "source": [
    "## 2020년 4월 23일 목요일\n",
    "### Programmers - 완전탐색 : 카펫\n",
    "### 문제 : https://programmers.co.kr/learn/courses/30/lessons/42842\n",
    "### 블로그 : https://somjang.tistory.com/entry/Programmers-%EC%99%84%EC%A0%84%ED%83%90%EC%83%89-%EC%B9%B4%ED%8E%AB-Python"
   ]
  },
  {
   "cell_type": "markdown",
   "metadata": {},
   "source": [
    "### 첫번째 시도"
   ]
  },
  {
   "cell_type": "code",
   "execution_count": 1,
   "metadata": {},
   "outputs": [],
   "source": [
    "def solution(brown, red):\n",
    "    answer = []\n",
    "    \n",
    "    for red_height in range(1, int(red**0.5) + 1):\n",
    "        if red % red_height == 0:\n",
    "            red_width = red // red_height\n",
    "            \n",
    "            if (2*red_width) + (2*red_height) + 4 == brown:\n",
    "                answer = [red_width + 2, red_height + 2]\n",
    "                break\n",
    "        \n",
    "    \n",
    "    return answer"
   ]
  }
 ],
 "metadata": {
  "kernelspec": {
   "display_name": "Python 3",
   "language": "python",
   "name": "python3"
  },
  "language_info": {
   "codemirror_mode": {
    "name": "ipython",
    "version": 3
   },
   "file_extension": ".py",
   "mimetype": "text/x-python",
   "name": "python",
   "nbconvert_exporter": "python",
   "pygments_lexer": "ipython3",
   "version": "3.7.3"
  }
 },
 "nbformat": 4,
 "nbformat_minor": 2
}
