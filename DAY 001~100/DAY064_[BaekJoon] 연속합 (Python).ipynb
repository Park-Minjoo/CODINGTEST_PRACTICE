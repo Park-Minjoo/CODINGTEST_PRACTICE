{
 "cells": [
  {
   "cell_type": "markdown",
   "metadata": {},
   "source": [
    "## 2020년 4월 10일 금요일\n",
    "### 백준 : 1912번 연속합\n",
    "### 문제 : https://www.acmicpc.net/problem/1912\n",
    "### 블로그 : https://somjang.tistory.com/entry/BaekJoon-1912%EB%B2%88-%EC%97%B0%EC%86%8D%ED%95%A9-Python"
   ]
  },
  {
   "cell_type": "markdown",
   "metadata": {},
   "source": [
    "### 첫번째 시도"
   ]
  },
  {
   "cell_type": "code",
   "execution_count": null,
   "metadata": {},
   "outputs": [],
   "source": [
    "inputNum = int(input())\n",
    "inputNums = input()\n",
    "inputNums = inputNums.split()\n",
    "inputNums = [int(num) for num in inputNums]\n",
    "inputNums.insert(0, 0)\n",
    "maxSum = []\n",
    "maxSum.append(inputNums[0])\n",
    "\n",
    "for i in range(1, inputNum+1):\n",
    "    maxSum.append(max(maxSum[i-1] + inputNums[i], inputNums[i]))\n",
    "    \n",
    "maxSum = maxSum[1:]\n",
    "print(max(maxSum))"
   ]
  }
 ],
 "metadata": {
  "kernelspec": {
   "display_name": "Python 3",
   "language": "python",
   "name": "python3"
  },
  "language_info": {
   "codemirror_mode": {
    "name": "ipython",
    "version": 3
   },
   "file_extension": ".py",
   "mimetype": "text/x-python",
   "name": "python",
   "nbconvert_exporter": "python",
   "pygments_lexer": "ipython3",
   "version": "3.7.3"
  }
 },
 "nbformat": 4,
 "nbformat_minor": 2
}
