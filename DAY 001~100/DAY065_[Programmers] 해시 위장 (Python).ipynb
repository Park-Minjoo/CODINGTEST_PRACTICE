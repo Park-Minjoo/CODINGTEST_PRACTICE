{
 "cells": [
  {
   "cell_type": "markdown",
   "metadata": {},
   "source": [
    "## 2020년 4월 11일 토요일\n",
    "### 프로그래머스 - 해시 : 위장\n",
    "### 문제 :https://programmers.co.kr/learn/courses/30/lessons/42578\n",
    "### 블로그 : https://somjang.tistory.com/entry/Programmers-%ED%95%B4%EC%8B%9C-%EC%9C%84%EC%9E%A5-Python"
   ]
  },
  {
   "cell_type": "markdown",
   "metadata": {},
   "source": [
    "### 첫번째 시도"
   ]
  },
  {
   "cell_type": "code",
   "execution_count": 11,
   "metadata": {},
   "outputs": [],
   "source": [
    "def solution(clothes):\n",
    "    answer = 1\n",
    "    \n",
    "    spy_clothes_dict = {}\n",
    "    \n",
    "    for cloth in clothes:\n",
    "        if cloth[1] not in spy_clothes_dict.keys():\n",
    "            spy_clothes_dict[cloth[1]] = 1\n",
    "        else:\n",
    "            spy_clothes_dict[cloth[1]] = spy_clothes_dict[cloth[1]] + 1\n",
    "        \n",
    "    \n",
    "    all_values = list(spy_clothes_dict.values())\n",
    "    \n",
    "    values_without_zero = [val for val in all_values if val != 0]\n",
    "\n",
    "    \n",
    "    for value in values_without_zero:\n",
    "        answer = answer * (value + 1)\n",
    "        \n",
    "    answer = answer - 1\n",
    "    \n",
    "    return answer"
   ]
  },
  {
   "cell_type": "code",
   "execution_count": 12,
   "metadata": {},
   "outputs": [
    {
     "data": {
      "text/plain": [
       "5"
      ]
     },
     "execution_count": 12,
     "metadata": {},
     "output_type": "execute_result"
    }
   ],
   "source": [
    "solution([['yellow_hat', 'headgear'], ['blue_sunglasses', 'eyewear'], ['green_turban', 'headgear']])"
   ]
  }
 ],
 "metadata": {
  "kernelspec": {
   "display_name": "Python 3",
   "language": "python",
   "name": "python3"
  },
  "language_info": {
   "codemirror_mode": {
    "name": "ipython",
    "version": 3
   },
   "file_extension": ".py",
   "mimetype": "text/x-python",
   "name": "python",
   "nbconvert_exporter": "python",
   "pygments_lexer": "ipython3",
   "version": "3.7.3"
  }
 },
 "nbformat": 4,
 "nbformat_minor": 2
}
