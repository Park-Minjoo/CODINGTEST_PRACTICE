{
 "cells": [
  {
   "cell_type": "markdown",
   "metadata": {},
   "source": [
    "## 2020년 4월 15일 수요일\n",
    "### Programmers - 2019 카카오 개발자 겨울 인턴십 :  튜플\n",
    "### 문제 : https://programmers.co.kr/learn/courses/30/lessons/64065?language=python3\n",
    "### 블로그 : https://somjang.tistory.com/entry/Programmers-2019-%EC%B9%B4%EC%B9%B4%EC%98%A4-%EA%B0%9C%EB%B0%9C%EC%9E%90-%EA%B2%A8%EC%9A%B8-%EC%9D%B8%ED%84%B4%EC%8B%AD-%ED%8A%9C%ED%94%8C-Python"
   ]
  },
  {
   "cell_type": "markdown",
   "metadata": {},
   "source": [
    "### 첫번째 시도"
   ]
  },
  {
   "cell_type": "code",
   "execution_count": 1,
   "metadata": {},
   "outputs": [],
   "source": [
    "from collections import Counter, defaultdict\n",
    "\n",
    "def solution(s):\n",
    "    answer = []\n",
    "    \n",
    "    delete_special_word_s = s.replace(\"{\", \"\").replace(\"}\", \"\").split(',')\n",
    "    \n",
    "    count_dict = Counter(delete_special_word_s)\n",
    "    count_dict_most_common = count_dict.most_common()\n",
    "    \n",
    "    for data in count_dict_most_common:\n",
    "        answer.append(int(data[0]))\n",
    "    \n",
    "    return answer"
   ]
  }
 ],
 "metadata": {
  "kernelspec": {
   "display_name": "Python 3",
   "language": "python",
   "name": "python3"
  },
  "language_info": {
   "codemirror_mode": {
    "name": "ipython",
    "version": 3
   },
   "file_extension": ".py",
   "mimetype": "text/x-python",
   "name": "python",
   "nbconvert_exporter": "python",
   "pygments_lexer": "ipython3",
   "version": "3.7.3"
  }
 },
 "nbformat": 4,
 "nbformat_minor": 2
}
