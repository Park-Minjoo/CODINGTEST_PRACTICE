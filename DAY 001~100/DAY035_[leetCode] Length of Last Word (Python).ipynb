{
 "cells": [
  {
   "cell_type": "markdown",
   "metadata": {},
   "source": [
    "## 2020년 3월 12일 목요일\n",
    "### leetCode : Length of Last Word\n",
    "### 문제 : https://leetcode.com/problems/length-of-last-word/\n",
    "### 블로그 : https://somjang.tistory.com/entry/leetCode-58-Length-of-Last-Word-Python"
   ]
  },
  {
   "cell_type": "markdown",
   "metadata": {},
   "source": [
    "### 첫번째 시도"
   ]
  },
  {
   "cell_type": "code",
   "execution_count": 1,
   "metadata": {},
   "outputs": [],
   "source": [
    "class Solution:\n",
    "    def lengthOfLastWord(self, s: str) -> int:\n",
    "        words = s.split(' ')\n",
    "        print(words)\n",
    "        word = [w for w in words if w != '']\n",
    "        if len(word) == 0:\n",
    "            answer = 0\n",
    "        else:\n",
    "            word = word[-1]\n",
    "            answer = len(word)\n",
    "        return answer"
   ]
  }
 ],
 "metadata": {
  "kernelspec": {
   "display_name": "Python 3",
   "language": "python",
   "name": "python3"
  },
  "language_info": {
   "codemirror_mode": {
    "name": "ipython",
    "version": 3
   },
   "file_extension": ".py",
   "mimetype": "text/x-python",
   "name": "python",
   "nbconvert_exporter": "python",
   "pygments_lexer": "ipython3",
   "version": "3.7.3"
  }
 },
 "nbformat": 4,
 "nbformat_minor": 2
}
