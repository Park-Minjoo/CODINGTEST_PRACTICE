{
 "cells": [
  {
   "cell_type": "markdown",
   "metadata": {},
   "source": [
    "## 2020년 2월 16일 일요일\n",
    "### 백준 11004번: K번째 수\n",
    "### 문제 : https://www.acmicpc.net/problem/11004\n",
    "### 블로그 :https://somjang.tistory.com/entry/BaeKJoon-11004%EB%B2%88-K%EB%B2%88%EC%A7%B8-%EC%88%98-Python"
   ]
  },
  {
   "cell_type": "markdown",
   "metadata": {},
   "source": [
    "### 첫번째 시도"
   ]
  },
  {
   "cell_type": "markdown",
   "metadata": {},
   "source": [
    "처음 떠오른 아이디어는\n",
    "\n",
    "입력받은 N개의 숫자를 내림차순으로 정렬한 뒤 뒤에서부터 K번째 수에 index로 접근하는 방법을 떠올려보았습니다.\n",
    "\n",
    "\n",
    "\n",
    "바로 구현해보았습니다.\n"
   ]
  },
  {
   "cell_type": "code",
   "execution_count": 10,
   "metadata": {},
   "outputs": [
    {
     "name": "stdout",
     "output_type": "stream",
     "text": [
      "4 2\n",
      "1000000000\n",
      "100000000000\n",
      "1000000000000000\n",
      "1000000000000000000\n",
      "100000000000\n"
     ]
    }
   ],
   "source": [
    "import sys\n",
    "\n",
    "N, K = map(int, input().split())\n",
    "\n",
    "nums = []\n",
    "\n",
    "for i in range(N):\n",
    "    num = int(input())\n",
    "    nums.append(num)\n",
    "    \n",
    "nums.sort(reverse=True)\n",
    "\n",
    "print(nums[-K])"
   ]
  },
  {
   "cell_type": "markdown",
   "metadata": {},
   "source": [
    "결과는 런타임에러!"
   ]
  },
  {
   "cell_type": "markdown",
   "metadata": {},
   "source": [
    "---"
   ]
  },
  {
   "cell_type": "markdown",
   "metadata": {},
   "source": [
    "### 두번째 시도"
   ]
  },
  {
   "cell_type": "markdown",
   "metadata": {},
   "source": [
    "왜 오류가 나는가 했더니 문제에서 input을 한 줄로 입력 받는것을 여러번 입력 받는 것으로 코딩해서 그런것이었습니다.\n",
    "\n",
    "sys.stdin.readline().split(' ')으로 변경하여 다시 풀어보았습니다."
   ]
  },
  {
   "cell_type": "code",
   "execution_count": 16,
   "metadata": {},
   "outputs": [
    {
     "name": "stdout",
     "output_type": "stream",
     "text": [
      "10 5\n",
      "1 2 3 4 5 6 7 8 9 10\n",
      "5\n"
     ]
    }
   ],
   "source": [
    "import sys\n",
    "\n",
    "N, K = map(int, input().split())\n",
    "\n",
    "nums = sys.stdin.readline().split(' ')\n",
    "for i in range(len(nums)):\n",
    "    nums[i] = int(nums[i])\n",
    "    \n",
    "nums = sorted(nums)\n",
    "\n",
    "print(nums[K-1])"
   ]
  }
 ],
 "metadata": {
  "kernelspec": {
   "display_name": "Python 3",
   "language": "python",
   "name": "python3"
  },
  "language_info": {
   "codemirror_mode": {
    "name": "ipython",
    "version": 3
   },
   "file_extension": ".py",
   "mimetype": "text/x-python",
   "name": "python",
   "nbconvert_exporter": "python",
   "pygments_lexer": "ipython3",
   "version": "3.7.3"
  }
 },
 "nbformat": 4,
 "nbformat_minor": 2
}
