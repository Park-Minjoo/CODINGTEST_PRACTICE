{
 "cells": [
  {
   "cell_type": "markdown",
   "metadata": {},
   "source": [
    "## 2020년 8월 1일 토요일\n",
    "### leetCode - Suffle String (Python)\n",
    "### 문제 : https://leetcode.com/problems/shuffle-string/\n",
    "### 블로그 : https://somjang.tistory.com/entry/leetCode-1528-Shuffle-String-Python"
   ]
  },
  {
   "cell_type": "markdown",
   "metadata": {},
   "source": [
    "### 첫번째 시도"
   ]
  },
  {
   "cell_type": "code",
   "execution_count": null,
   "metadata": {},
   "outputs": [],
   "source": [
    "class Solution:\n",
    "    def restoreString(self, s: str, indices: List[int]) -> str:\n",
    "        s_list = list(s)\n",
    "        \n",
    "        strings = []\n",
    "        \n",
    "        for s_val, idx in zip(s_list, indices):\n",
    "            strings.append((s_val, idx))\n",
    "            \n",
    "        strings = sorted(strings, key=lambda x : x[1])\n",
    "        \n",
    "        answers = [sval[0] for sval in strings]\n",
    "        \n",
    "        return ''.join(answers)"
   ]
  }
 ],
 "metadata": {
  "kernelspec": {
   "display_name": "Python 3",
   "language": "python",
   "name": "python3"
  },
  "language_info": {
   "codemirror_mode": {
    "name": "ipython",
    "version": 3
   },
   "file_extension": ".py",
   "mimetype": "text/x-python",
   "name": "python",
   "nbconvert_exporter": "python",
   "pygments_lexer": "ipython3",
   "version": "3.7.3"
  }
 },
 "nbformat": 4,
 "nbformat_minor": 2
}
