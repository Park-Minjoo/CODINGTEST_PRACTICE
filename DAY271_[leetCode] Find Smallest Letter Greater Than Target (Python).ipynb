{
 "cells": [
  {
   "cell_type": "markdown",
   "metadata": {},
   "source": [
    "## 2020년 12월 5일 토요일\n",
    "### leetCode - Find Smallest Letter Greater Than Target (Python)\n",
    "### 문제 : https://leetcode.com/problems/find-smallest-letter-greater-than-target/\n",
    "### 블로그 : https://somjang.tistory.com/entry/leetCode-744-Find-Smallest-Letter-Greater-Than-Target-Python"
   ]
  },
  {
   "cell_type": "markdown",
   "metadata": {},
   "source": [
    "### 첫번째 시도"
   ]
  },
  {
   "cell_type": "code",
   "execution_count": null,
   "metadata": {},
   "outputs": [],
   "source": [
    "class Solution:\n",
    "    def nextGreatestLetter(self, letters: List[str], target: str) -> str:\n",
    "        answer = letters[0]\n",
    "        \n",
    "        for i in range(len(letters)):\n",
    "            if letters[i] > target:\n",
    "                answer = letters[i]\n",
    "                break\n",
    "        \n",
    "        return answer"
   ]
  }
 ],
 "metadata": {
  "kernelspec": {
   "display_name": "Python 3",
   "language": "python",
   "name": "python3"
  },
  "language_info": {
   "codemirror_mode": {
    "name": "ipython",
    "version": 3
   },
   "file_extension": ".py",
   "mimetype": "text/x-python",
   "name": "python",
   "nbconvert_exporter": "python",
   "pygments_lexer": "ipython3",
   "version": "3.7.3"
  }
 },
 "nbformat": 4,
 "nbformat_minor": 2
}
