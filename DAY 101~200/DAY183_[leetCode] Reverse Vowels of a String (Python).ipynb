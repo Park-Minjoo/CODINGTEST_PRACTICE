{
 "cells": [
  {
   "cell_type": "markdown",
   "metadata": {},
   "source": [
    "## 2020년 8월 7일 금요일\n",
    "### leetCode - Reverse Vowels of a String (Python)\n",
    "### 문제 : https://leetcode.com/problems/reverse-vowels-of-a-string/\n",
    "### 블로그 : https://somjang.tistory.com/entry/leetCode-345-Reverse-Vowels-of-a-String-Python"
   ]
  },
  {
   "cell_type": "markdown",
   "metadata": {},
   "source": [
    "### 첫번째 시도"
   ]
  },
  {
   "cell_type": "code",
   "execution_count": null,
   "metadata": {},
   "outputs": [],
   "source": [
    "class Solution(object):\n",
    "    def reverseVowels(self, s):\n",
    "        s_list = list(s)\n",
    "        \n",
    "        vowels = []\n",
    "        \n",
    "        for i, val in enumerate(s_list):\n",
    "            if val in ['a', 'o', 'e', 'i', 'u', 'A', 'O', 'E', 'I', 'U']:\n",
    "                vowels.append((i, val))\n",
    "                \n",
    "        for j in range(len(vowels)//2):\n",
    "            s_list[vowels[j][0]] = vowels[len(vowels)-j-1][1]\n",
    "            s_list[vowels[len(vowels)-j-1][0]] = vowels[j][1]\n",
    "            \n",
    "        return ''.join(s_list)"
   ]
  }
 ],
 "metadata": {
  "kernelspec": {
   "display_name": "Python 3",
   "language": "python",
   "name": "python3"
  },
  "language_info": {
   "codemirror_mode": {
    "name": "ipython",
    "version": 3
   },
   "file_extension": ".py",
   "mimetype": "text/x-python",
   "name": "python",
   "nbconvert_exporter": "python",
   "pygments_lexer": "ipython3",
   "version": "3.7.3"
  }
 },
 "nbformat": 4,
 "nbformat_minor": 2
}
