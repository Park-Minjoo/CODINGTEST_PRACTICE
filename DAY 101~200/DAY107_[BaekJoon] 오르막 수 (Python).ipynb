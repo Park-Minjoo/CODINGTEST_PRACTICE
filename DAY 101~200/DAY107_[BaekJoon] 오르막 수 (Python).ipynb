{
 "cells": [
  {
   "cell_type": "markdown",
   "metadata": {},
   "source": [
    "## 2020년 5월 23일 토요일\n",
    "### BaekJoon - 11057번 : 오르막 수 (Python)\n",
    "### 문제 : https://www.acmicpc.net/problem/11057\n",
    "### 블로그 : https://somjang.tistory.com/entry/BaeKJoon-11057%EB%B2%88-%EC%98%A4%EB%A5%B4%EB%A7%89-%EC%88%98-Python"
   ]
  },
  {
   "cell_type": "markdown",
   "metadata": {},
   "source": [
    "### 첫번째 시도"
   ]
  },
  {
   "cell_type": "code",
   "execution_count": null,
   "metadata": {},
   "outputs": [],
   "source": [
    "inputNum = int(input())\n",
    "nc = [[0]*10 for _ in range(inputNum+1)]\n",
    "ans, mod = 0, 10007\n",
    "\n",
    "\n",
    "for i in range(0, 10):\n",
    "    nc[1][i] = 1\n",
    "for i in range(2, inputNum+1):\n",
    "    nc[i][0] = nc[i-1][0]\n",
    "    for j in range(1, 10):\n",
    "        nc[i][j] = (nc[i-1][j] + nc[i][j-1]) % mod\n",
    "\n",
    "\n",
    "print(sum(nc[inputNum])%mod)"
   ]
  }
 ],
 "metadata": {
  "kernelspec": {
   "display_name": "Python 3",
   "language": "python",
   "name": "python3"
  },
  "language_info": {
   "codemirror_mode": {
    "name": "ipython",
    "version": 3
   },
   "file_extension": ".py",
   "mimetype": "text/x-python",
   "name": "python",
   "nbconvert_exporter": "python",
   "pygments_lexer": "ipython3",
   "version": "3.7.3"
  }
 },
 "nbformat": 4,
 "nbformat_minor": 2
}
