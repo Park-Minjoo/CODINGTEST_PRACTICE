{
 "cells": [
  {
   "cell_type": "markdown",
   "metadata": {},
   "source": [
    "## 2020년 5월 24일 일요일\n",
    "### SW Expert Academy - 세상의 모든 팰린드롬\n",
    "### 문제 : https://swexpertacademy.com/main/code/problem/problemDetail.do?contestProbId=AWO6Oao6N4QDFAWw&categoryId=AWO6Oao6N4QDFAWw&categoryType=CODE\n",
    "### 블로그 : https://somjang.tistory.com/entry/SWExpertAcademy-4522%EB%B2%88-%EC%84%B8%EC%83%81%EC%9D%98-%EB%AA%A8%EB%93%A0-%ED%8C%B0%EB%A6%B0%EB%93%9C%EB%A1%AC-Python"
   ]
  },
  {
   "cell_type": "markdown",
   "metadata": {},
   "source": [
    "### 첫번째 시도"
   ]
  },
  {
   "cell_type": "code",
   "execution_count": null,
   "metadata": {},
   "outputs": [],
   "source": [
    "def check_palindrome(string):\n",
    "    isPalindrome = \"Exist\"\n",
    "    last_index = len(string) - 1\n",
    "    for i in range(len(string) // 2):\n",
    "        if string[i] != string[last_index - i]:\n",
    "            isPalindrome = \"Not exist\"\n",
    "            break\n",
    "    return isPalindrome\n",
    "\n",
    "def change_string(string):\n",
    "    string = list(string)\n",
    "    last_index = len(string) - 1    \n",
    "    for i in range(len(string) // 2):\n",
    "        if string[i] == '?' and string[last_index - i] != '?':\n",
    "            string[last_index - i] = '?'\n",
    "        elif string[i] != '?' and string[last_index - i] == '?':\n",
    "            string[i] = '?'\n",
    "    return string\n",
    "\n",
    "T = int(input())\n",
    "             \n",
    "for i in range(T):\n",
    "    input_str = str(input())\n",
    "    \n",
    "    change_str = change_string(input_str)\n",
    "    \n",
    "    check = check_palindrome(change_str)\n",
    "    \n",
    "    print(\"#{} {}\".format(i+1, check))"
   ]
  }
 ],
 "metadata": {
  "kernelspec": {
   "display_name": "Python 3",
   "language": "python",
   "name": "python3"
  },
  "language_info": {
   "codemirror_mode": {
    "name": "ipython",
    "version": 3
   },
   "file_extension": ".py",
   "mimetype": "text/x-python",
   "name": "python",
   "nbconvert_exporter": "python",
   "pygments_lexer": "ipython3",
   "version": "3.7.3"
  }
 },
 "nbformat": 4,
 "nbformat_minor": 2
}
