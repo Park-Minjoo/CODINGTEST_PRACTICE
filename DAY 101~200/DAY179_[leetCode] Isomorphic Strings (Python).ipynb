{
 "cells": [
  {
   "cell_type": "markdown",
   "metadata": {},
   "source": [
    "## 2020년 8월 3일 월요일\n",
    "### leetCode - Isomorphic Strings (Python)\n",
    "### 문제 : https://leetcode.com/problems/isomorphic-strings/\n",
    "### 블로그 : https://somjang.tistory.com/entry/leetCode-205-Isomorphic-Strings-Python"
   ]
  },
  {
   "cell_type": "markdown",
   "metadata": {},
   "source": [
    "### 첫번째 시도"
   ]
  },
  {
   "cell_type": "code",
   "execution_count": null,
   "metadata": {},
   "outputs": [],
   "source": [
    "class Solution:\n",
    "    def isIsomorphic(self, s: str, t: str) -> bool:\n",
    "        check_dict = {}\n",
    "        check_dict_2 = {}\n",
    "        answer = True\n",
    "        \n",
    "        for s_c, t_c in zip(s, t):\n",
    "            if s_c not in check_dict.keys():\n",
    "                check_dict[s_c] = t_c\n",
    "            else:\n",
    "                if check_dict[s_c] != t_c:\n",
    "                    answer = False\n",
    "                    break\n",
    "        \n",
    "        if answer == True:\n",
    "            for s_c, t_c in zip(s, t):\n",
    "                if t_c not in check_dict_2.keys():\n",
    "                    check_dict_2[t_c] = s_c\n",
    "                else:\n",
    "                    if check_dict_2[t_c] != s_c:\n",
    "                        answer = False\n",
    "                        break\n",
    "                    \n",
    "        return answer"
   ]
  }
 ],
 "metadata": {
  "kernelspec": {
   "display_name": "Python 3",
   "language": "python",
   "name": "python3"
  },
  "language_info": {
   "codemirror_mode": {
    "name": "ipython",
    "version": 3
   },
   "file_extension": ".py",
   "mimetype": "text/x-python",
   "name": "python",
   "nbconvert_exporter": "python",
   "pygments_lexer": "ipython3",
   "version": "3.7.3"
  }
 },
 "nbformat": 4,
 "nbformat_minor": 2
}
