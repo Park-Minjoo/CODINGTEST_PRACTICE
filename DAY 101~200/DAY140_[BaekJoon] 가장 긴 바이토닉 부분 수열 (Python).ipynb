{
 "cells": [
  {
   "cell_type": "markdown",
   "metadata": {},
   "source": [
    "## 2020년 6월 25일 목요일\n",
    "### BaekJoon - 11054 : 가장 긴 바이토닉 부분 수열 (Python)\n",
    "### 문제 : https://www.acmicpc.net/problem/11054\n",
    "### 블로그 : https://somjang.tistory.com/entry/BaekJoon-11054%EB%B2%88-%EA%B0%80%EC%9E%A5-%EA%B8%B4-%EB%B0%94%EC%9D%B4%ED%86%A0%EB%8B%89-%EB%B6%80%EB%B6%84-%EC%88%98%EC%97%B4-Python"
   ]
  },
  {
   "cell_type": "markdown",
   "metadata": {},
   "source": [
    "### 첫번째 시도"
   ]
  },
  {
   "cell_type": "code",
   "execution_count": null,
   "metadata": {},
   "outputs": [],
   "source": [
    "import sys\n",
    "r = lambda : sys.stdin.readline()\n",
    "\n",
    "def _get_seq_len(a):\n",
    "    dp = [1 for _ in range(len(a))]\n",
    "    rev_dp = [1 for _ in range(len(a))]\n",
    "    for i in range(len(a)):\n",
    "        dp[i] = 1\n",
    "        for j in range(i, -1, -1):\n",
    "            if a[i] > a[j] and dp[i] <= dp[j]:\n",
    "                dp[i] = dp[j] + 1\n",
    "    for i in range(len(a)-1, -1, -1):\n",
    "        rev_dp[i] = 1\n",
    "        for j in range(i, len(a)):\n",
    "            if a[i] > a[j] and rev_dp[i] <= rev_dp[j]:\n",
    "                rev_dp[i] = rev_dp[j] + 1\n",
    "    print(max([i+j for i,j in zip(dp, rev_dp)])-1)\n",
    "    \n",
    "N = int(r())\n",
    "seq = list(map(int, r().split()))\n",
    "_get_seq_len(seq)"
   ]
  }
 ],
 "metadata": {
  "kernelspec": {
   "display_name": "Python 3",
   "language": "python",
   "name": "python3"
  },
  "language_info": {
   "codemirror_mode": {
    "name": "ipython",
    "version": 3
   },
   "file_extension": ".py",
   "mimetype": "text/x-python",
   "name": "python",
   "nbconvert_exporter": "python",
   "pygments_lexer": "ipython3",
   "version": "3.7.3"
  }
 },
 "nbformat": 4,
 "nbformat_minor": 2
}
