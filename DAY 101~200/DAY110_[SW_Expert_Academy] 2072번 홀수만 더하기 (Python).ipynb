{
 "cells": [
  {
   "cell_type": "markdown",
   "metadata": {},
   "source": [
    "## 2020년 5월 26일 화요일\n",
    "### SW Expert Academy - 홀수만 더하기\n",
    "### 문제 : https://swexpertacademy.com/main/code/problem/problemDetail.do?contestProbId=AV5QSEhaA5sDFAUq&categoryId=AV5QSEhaA5sDFAUq&categoryType=CODE\n",
    "### 블로그 : https://somjang.tistory.com/entry/SWExpertAcademy-2072%EB%B2%88-%ED%99%80%EC%88%98%EB%A7%8C-%EB%8D%94%ED%95%98%EA%B8%B0-Python"
   ]
  },
  {
   "cell_type": "markdown",
   "metadata": {},
   "source": [
    "### 첫번째 시도"
   ]
  },
  {
   "cell_type": "code",
   "execution_count": null,
   "metadata": {},
   "outputs": [],
   "source": [
    "T = int(input())\n",
    "\n",
    "for i in range(T):\n",
    "    numbers = list(map(int, input().split()))\n",
    "    \n",
    "    odd_nums = [num for num in numbers if num % 2 == 1]\n",
    "    \n",
    "    print(\"#{} {}\".format(i+1, sum(odd_nums)))"
   ]
  }
 ],
 "metadata": {
  "kernelspec": {
   "display_name": "Python 3",
   "language": "python",
   "name": "python3"
  },
  "language_info": {
   "codemirror_mode": {
    "name": "ipython",
    "version": 3
   },
   "file_extension": ".py",
   "mimetype": "text/x-python",
   "name": "python",
   "nbconvert_exporter": "python",
   "pygments_lexer": "ipython3",
   "version": "3.7.3"
  }
 },
 "nbformat": 4,
 "nbformat_minor": 2
}
