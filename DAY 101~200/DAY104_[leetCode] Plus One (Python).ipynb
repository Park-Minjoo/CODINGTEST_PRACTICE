{
 "cells": [
  {
   "cell_type": "markdown",
   "metadata": {},
   "source": [
    "## 2020년 5월 20일 수요일\n",
    "### leetCode - Plus One\n",
    "### 문제 : https://leetcode.com/problems/plus-one/\n",
    "### 블로그 : https://somjang.tistory.com/entry/leetCode-66-Plus-One-Python"
   ]
  },
  {
   "cell_type": "markdown",
   "metadata": {},
   "source": [
    "### 첫번째 시도"
   ]
  },
  {
   "cell_type": "code",
   "execution_count": null,
   "metadata": {},
   "outputs": [],
   "source": [
    "class Solution:\n",
    "    def plusOne(self, digits: List[int]) -> List[int]:\n",
    "        num_string_list = list(map(str, digits))\n",
    "        num_string = ''.join(num_string_list)\n",
    "        \n",
    "        my_number = int(num_string) + 1\n",
    "        \n",
    "        answer_number_string = list(str(my_number))\n",
    "        \n",
    "        answer = list(map(int, answer_number_string))\n",
    "        \n",
    "        return answer "
   ]
  }
 ],
 "metadata": {
  "kernelspec": {
   "display_name": "Python 3",
   "language": "python",
   "name": "python3"
  },
  "language_info": {
   "codemirror_mode": {
    "name": "ipython",
    "version": 3
   },
   "file_extension": ".py",
   "mimetype": "text/x-python",
   "name": "python",
   "nbconvert_exporter": "python",
   "pygments_lexer": "ipython3",
   "version": "3.7.3"
  }
 },
 "nbformat": 4,
 "nbformat_minor": 2
}
