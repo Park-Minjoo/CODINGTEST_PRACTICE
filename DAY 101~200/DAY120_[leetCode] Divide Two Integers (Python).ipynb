{
 "cells": [
  {
   "cell_type": "markdown",
   "metadata": {},
   "source": [
    "## 2020년 6월 5일 금요일\n",
    "### leetCode - 29 : Divide Two Integers\n",
    "### 문제 : https://leetcode.com/problems/divide-two-integers/\n",
    "### 블로그 : https://somjang.tistory.com/entry/leetCode-29-Divide-Two-Integers-Python"
   ]
  },
  {
   "cell_type": "markdown",
   "metadata": {},
   "source": [
    "### 첫번째 시도"
   ]
  },
  {
   "cell_type": "code",
   "execution_count": null,
   "metadata": {},
   "outputs": [],
   "source": [
    "import math\n",
    "\n",
    "class Solution:\n",
    "    def divide(self, dividend: int, divisor: int) -> int:\n",
    "        answer = math.trunc(dividend / divisor)\n",
    "        \n",
    "        if answer > (pow(2, 31) - 1):\n",
    "            answer = pow(2, 31) - 1\n",
    "        elif answer < (pow(2, 31) * (-1)):\n",
    "            answer = pow(2, 31) * (-1)\n",
    "\n",
    "        return answer"
   ]
  }
 ],
 "metadata": {
  "kernelspec": {
   "display_name": "Python 3",
   "language": "python",
   "name": "python3"
  },
  "language_info": {
   "codemirror_mode": {
    "name": "ipython",
    "version": 3
   },
   "file_extension": ".py",
   "mimetype": "text/x-python",
   "name": "python",
   "nbconvert_exporter": "python",
   "pygments_lexer": "ipython3",
   "version": "3.7.3"
  }
 },
 "nbformat": 4,
 "nbformat_minor": 2
}
