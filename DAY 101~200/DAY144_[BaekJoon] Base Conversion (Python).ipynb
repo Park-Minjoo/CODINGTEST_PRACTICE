{
 "cells": [
  {
   "cell_type": "markdown",
   "metadata": {},
   "source": [
    "## 2020년 6월 29일 월요일\n",
    "### BaekJoon - 11576번 : Base Conversion (Python)\n",
    "### 문제 : https://www.acmicpc.net/problem/11576\n",
    "### 블로그 : https://somjang.tistory.com/entry/BaekJoon-11576%EB%B2%88-Base-Conversion-Python"
   ]
  },
  {
   "cell_type": "markdown",
   "metadata": {},
   "source": [
    "### 첫번째 시도"
   ]
  },
  {
   "cell_type": "code",
   "execution_count": null,
   "metadata": {},
   "outputs": [],
   "source": [
    "A, B = map(int, input().split())\n",
    "\n",
    "m = int(input())\n",
    "\n",
    "num = list(map(int, input().split()))\n",
    "\n",
    "result = []\n",
    "\n",
    "n = 0\n",
    "\n",
    "for i in range(len(num)):\n",
    "    n = n + (num.pop() * (A**i))\n",
    "    \n",
    "while n:\n",
    "    result.append(n%B)\n",
    "    n //= B\n",
    "    \n",
    "while result:\n",
    "    print(result.pop(), end=' ')"
   ]
  }
 ],
 "metadata": {
  "kernelspec": {
   "display_name": "Python 3",
   "language": "python",
   "name": "python3"
  },
  "language_info": {
   "codemirror_mode": {
    "name": "ipython",
    "version": 3
   },
   "file_extension": ".py",
   "mimetype": "text/x-python",
   "name": "python",
   "nbconvert_exporter": "python",
   "pygments_lexer": "ipython3",
   "version": "3.7.3"
  }
 },
 "nbformat": 4,
 "nbformat_minor": 2
}
