{
 "cells": [
  {
   "cell_type": "markdown",
   "metadata": {},
   "source": [
    "## 2020년 5월 31일 일요일\n",
    "### BaekJoon - 1699번 : 제곱수의 합\n",
    "### 문제 : https://www.acmicpc.net/problem/1699\n",
    "### 블로그 : https://somjang.tistory.com/entry/BaeKJoon-1699%EB%B2%88-%EC%A0%9C%EA%B3%B1%EC%88%98%EC%9D%98-%ED%95%A9-Python"
   ]
  },
  {
   "cell_type": "markdown",
   "metadata": {},
   "source": [
    "### 첫번째 시도"
   ]
  },
  {
   "cell_type": "code",
   "execution_count": null,
   "metadata": {},
   "outputs": [],
   "source": [
    "inputNum = int(input())\n",
    "nc = [0] * (inputNum+1)\n",
    "\n",
    "for i in range(1, inputNum+1):\n",
    "    nc[i] = i\n",
    "    for j in range(1, i):\n",
    "        if (j * j) > i:\n",
    "            break\n",
    "\n",
    "        nc[i] = min(nc[i], nc[i - j * j] + 1)\n",
    "\n",
    "print(nc[inputNum])"
   ]
  }
 ],
 "metadata": {
  "kernelspec": {
   "display_name": "Python 3",
   "language": "python",
   "name": "python3"
  },
  "language_info": {
   "codemirror_mode": {
    "name": "ipython",
    "version": 3
   },
   "file_extension": ".py",
   "mimetype": "text/x-python",
   "name": "python",
   "nbconvert_exporter": "python",
   "pygments_lexer": "ipython3",
   "version": "3.7.3"
  }
 },
 "nbformat": 4,
 "nbformat_minor": 2
}
