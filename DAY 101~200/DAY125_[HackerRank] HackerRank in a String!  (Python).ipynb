{
 "cells": [
  {
   "cell_type": "markdown",
   "metadata": {},
   "source": [
    "## 2020년 6월 10일 수요일\n",
    "### HackerRank - HackerRank in a String! (Python)\n",
    "### 문제 : https://www.hackerrank.com/challenges/hackerrank-in-a-string/problem\n",
    "### 블로그 : https://somjang.tistory.com/entry/HackerRank-HackerRank-in-a-String-Python"
   ]
  },
  {
   "cell_type": "markdown",
   "metadata": {},
   "source": [
    "### 첫번째 시도"
   ]
  },
  {
   "cell_type": "code",
   "execution_count": null,
   "metadata": {},
   "outputs": [],
   "source": [
    "#!/bin/python3\n",
    "\n",
    "import math\n",
    "import os\n",
    "import random\n",
    "import re\n",
    "import sys\n",
    "\n",
    "# Complete the hackerrankInString function below.\n",
    "def hackerrankInString(s):\n",
    "    stack = ['k', 'n', 'a', 'r', 'r', 'e', 'k', 'c', 'a', 'h']\n",
    "\n",
    "    answer = 'YES'\n",
    "    s = list(s)\n",
    "\n",
    "    for word in s:\n",
    "        if len(stack) != 0 and word == stack[-1]:\n",
    "            stack.pop()\n",
    "\n",
    "    if len(stack) != 0:\n",
    "        answer = 'NO'\n",
    "\n",
    "    return answer\n",
    "\n",
    "if __name__ == '__main__':\n",
    "    fptr = open(os.environ['OUTPUT_PATH'], 'w')\n",
    "\n",
    "    q = int(input())\n",
    "\n",
    "    for q_itr in range(q):\n",
    "        s = input()\n",
    "\n",
    "        result = hackerrankInString(s)\n",
    "\n",
    "        fptr.write(result + '\\n')\n",
    "\n",
    "    fptr.close()"
   ]
  }
 ],
 "metadata": {
  "kernelspec": {
   "display_name": "Python 3",
   "language": "python",
   "name": "python3"
  },
  "language_info": {
   "codemirror_mode": {
    "name": "ipython",
    "version": 3
   },
   "file_extension": ".py",
   "mimetype": "text/x-python",
   "name": "python",
   "nbconvert_exporter": "python",
   "pygments_lexer": "ipython3",
   "version": "3.7.3"
  }
 },
 "nbformat": 4,
 "nbformat_minor": 2
}
