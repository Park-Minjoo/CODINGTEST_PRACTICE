{
 "cells": [
  {
   "cell_type": "markdown",
   "metadata": {},
   "source": [
    "## 2020년 5월 21일 목요일\n",
    "### SW Expert Academy - 두가지 빵의 딜레마\n",
    "### 문제 : https://swexpertacademy.com/main/code/problem/problemDetail.do?contestProbId=AWTaTDua3OoDFAVT\n",
    "### 블로그 : https://somjang.tistory.com/entry/SWExpertAcademy-5162%EB%B2%88-%EB%91%90%EA%B0%80%EC%A7%80-%EB%B9%B5%EC%9D%98-%EB%94%9C%EB%A0%88%EB%A7%88-Python"
   ]
  },
  {
   "cell_type": "markdown",
   "metadata": {},
   "source": [
    "### 첫번째 시도"
   ]
  },
  {
   "cell_type": "code",
   "execution_count": null,
   "metadata": {},
   "outputs": [],
   "source": [
    "T = int(input())\n",
    " \n",
    "for i in range(T):\n",
    "    A, B, C = map(int, input().split())\n",
    "    max_bread = 0\n",
    "     \n",
    "    min_price = min(A, B)\n",
    "     \n",
    "    max_bread = C // min_price\n",
    "     \n",
    "    print(\"#{} {}\".format(i+1, max_bread))"
   ]
  }
 ],
 "metadata": {
  "kernelspec": {
   "display_name": "Python 3",
   "language": "python",
   "name": "python3"
  },
  "language_info": {
   "codemirror_mode": {
    "name": "ipython",
    "version": 3
   },
   "file_extension": ".py",
   "mimetype": "text/x-python",
   "name": "python",
   "nbconvert_exporter": "python",
   "pygments_lexer": "ipython3",
   "version": "3.7.3"
  }
 },
 "nbformat": 4,
 "nbformat_minor": 2
}
