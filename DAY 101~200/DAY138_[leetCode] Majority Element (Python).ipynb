{
 "cells": [
  {
   "cell_type": "markdown",
   "metadata": {},
   "source": [
    "## 2020년 6월 23일 화요일\n",
    "### leetCode - Majority Element (Python)\n",
    "### 문제 : https://leetcode.com/problems/majority-element/\n",
    "### 블로그 : https://somjang.tistory.com/entry/leetCode-169-Majority-Element-Python"
   ]
  },
  {
   "cell_type": "markdown",
   "metadata": {},
   "source": [
    "### 첫번째 시도"
   ]
  },
  {
   "cell_type": "code",
   "execution_count": null,
   "metadata": {},
   "outputs": [],
   "source": [
    "class Solution:\n",
    "    def majorityElement(self, nums: List[int]) -> int:\n",
    "        keys = set(nums)\n",
    "        answer = 0\n",
    "        \n",
    "        for key in keys:\n",
    "            if nums.count(key) > len(nums) / 2:\n",
    "                answer = key\n",
    "                break\n",
    "        return answer"
   ]
  }
 ],
 "metadata": {
  "kernelspec": {
   "display_name": "Python 3",
   "language": "python",
   "name": "python3"
  },
  "language_info": {
   "codemirror_mode": {
    "name": "ipython",
    "version": 3
   },
   "file_extension": ".py",
   "mimetype": "text/x-python",
   "name": "python",
   "nbconvert_exporter": "python",
   "pygments_lexer": "ipython3",
   "version": "3.7.3"
  }
 },
 "nbformat": 4,
 "nbformat_minor": 2
}
