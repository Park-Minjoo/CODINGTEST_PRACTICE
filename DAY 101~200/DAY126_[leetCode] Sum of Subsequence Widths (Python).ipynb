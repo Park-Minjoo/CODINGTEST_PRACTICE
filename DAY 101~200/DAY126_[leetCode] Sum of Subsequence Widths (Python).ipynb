{
 "cells": [
  {
   "cell_type": "markdown",
   "metadata": {},
   "source": [
    "## 2020년 6월 11일 목요일\n",
    "### leetCode - Sum of Subsequence Widths (Python)\n",
    "### 문제 : https://leetcode.com/problems/sum-of-subsequence-widths/\n",
    "### 블로그 : https://somjang.tistory.com/entry/leetCode-Sum-of-Subsequence-Widths-Python"
   ]
  },
  {
   "cell_type": "markdown",
   "metadata": {},
   "source": [
    "### 첫번째 시도"
   ]
  },
  {
   "cell_type": "code",
   "execution_count": null,
   "metadata": {},
   "outputs": [],
   "source": [
    "class Solution(object):\n",
    "    def sumSubseqWidths(self, A):\n",
    "        MOD = 10**9 + 7\n",
    "        N = len(A)\n",
    "        A.sort()\n",
    "\n",
    "        pow2 = [1]\n",
    "        for i in range(1, N):\n",
    "            pow2.append(pow2[-1] * 2 % MOD)\n",
    "\n",
    "        ans = 0\n",
    "        for i, x in enumerate(A):\n",
    "            ans = (ans + (pow2[i] - pow2[N-1-i]) * x) % MOD\n",
    "        return ans"
   ]
  }
 ],
 "metadata": {
  "kernelspec": {
   "display_name": "Python 3",
   "language": "python",
   "name": "python3"
  },
  "language_info": {
   "codemirror_mode": {
    "name": "ipython",
    "version": 3
   },
   "file_extension": ".py",
   "mimetype": "text/x-python",
   "name": "python",
   "nbconvert_exporter": "python",
   "pygments_lexer": "ipython3",
   "version": "3.7.3"
  }
 },
 "nbformat": 4,
 "nbformat_minor": 2
}
