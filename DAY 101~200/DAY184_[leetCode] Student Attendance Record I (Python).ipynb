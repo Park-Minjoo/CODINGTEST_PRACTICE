{
 "cells": [
  {
   "cell_type": "markdown",
   "metadata": {},
   "source": [
    "## 2020년 8월 8일 토요일\n",
    "### leetCode - Student Attendance Record I (Python)\n",
    "### 문제 : https://leetcode.com/problems/student-attendance-record-i/\n",
    "### 블로그 : https://somjang.tistory.com/entry/leetCode-551-Student-Attendance-Record-I-Python"
   ]
  },
  {
   "cell_type": "markdown",
   "metadata": {},
   "source": [
    "### 첫번째 시도"
   ]
  },
  {
   "cell_type": "code",
   "execution_count": null,
   "metadata": {},
   "outputs": [],
   "source": [
    "from collections import Counter\n",
    "class Solution:\n",
    "    def checkRecord(self, s: str) -> bool:\n",
    "        answer = True\n",
    "        a_count = 0\n",
    "        \n",
    "        for i in range(len(s)):\n",
    "            if s[i] == 'A':\n",
    "                a_count = a_count + 1\n",
    "                if a_count == 2:\n",
    "                    answer = False\n",
    "                    break\n",
    "            elif s[i] == 'L' and i+2 < len(s):\n",
    "                if s[i+1] == 'L' and s[i+2] == 'L':\n",
    "                    answer = False\n",
    "                    break\n",
    "                    \n",
    "        return answer"
   ]
  }
 ],
 "metadata": {
  "kernelspec": {
   "display_name": "Python 3",
   "language": "python",
   "name": "python3"
  },
  "language_info": {
   "codemirror_mode": {
    "name": "ipython",
    "version": 3
   },
   "file_extension": ".py",
   "mimetype": "text/x-python",
   "name": "python",
   "nbconvert_exporter": "python",
   "pygments_lexer": "ipython3",
   "version": "3.7.3"
  }
 },
 "nbformat": 4,
 "nbformat_minor": 2
}
