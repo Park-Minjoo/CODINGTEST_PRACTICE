{
 "cells": [
  {
   "cell_type": "markdown",
   "metadata": {},
   "source": [
    "## 2020년 9월 5일 토요일\n",
    "### leetCode - Add Strings (Python)\n",
    "### 문제 : https://leetcode.com/problems/add-strings/\n",
    "### 블로그 : https://somjang.tistory.com/entry/leetCode-415-Add-Strings-Python"
   ]
  },
  {
   "cell_type": "markdown",
   "metadata": {},
   "source": [
    "### 첫번째 시도"
   ]
  },
  {
   "cell_type": "code",
   "execution_count": null,
   "metadata": {},
   "outputs": [],
   "source": [
    "class Solution(object):\n",
    "    def addStrings(self, num1, num2):\n",
    "        answer_list = []\n",
    "        carry = 0\n",
    "        index1, index2 = len(num1), len(num2)\n",
    "        while index1 or index2 or carry:\n",
    "            digit = carry\n",
    "            if index1:\n",
    "                index1 -= 1\n",
    "                digit += int(num1[index1])\n",
    "            if index2:\n",
    "                index2 -= 1\n",
    "                digit += int(num2[index2])\n",
    "            carry = digit > 9\n",
    "            answer_list.append(str(digit % 10))\n",
    "        return ''.join(answer_list[::-1])"
   ]
  }
 ],
 "metadata": {
  "kernelspec": {
   "display_name": "Python 3",
   "language": "python",
   "name": "python3"
  },
  "language_info": {
   "codemirror_mode": {
    "name": "ipython",
    "version": 3
   },
   "file_extension": ".py",
   "mimetype": "text/x-python",
   "name": "python",
   "nbconvert_exporter": "python",
   "pygments_lexer": "ipython3",
   "version": "3.7.3"
  }
 },
 "nbformat": 4,
 "nbformat_minor": 2
}
