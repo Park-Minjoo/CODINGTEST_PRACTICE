{
 "cells": [
  {
   "cell_type": "markdown",
   "metadata": {},
   "source": [
    "## 2020년 7월 11일 토요일\n",
    "### leetCode - Add to Array-Form of Integer (Python)\n",
    "### 문제 : https://leetcode.com/problems/add-to-array-form-of-integer/\n",
    "### 블로그 : https://somjang.tistory.com/entry/leetCode-989-Add-to-Array-Form-of-Integer-Python"
   ]
  },
  {
   "cell_type": "markdown",
   "metadata": {},
   "source": [
    "### 첫번째 시도"
   ]
  },
  {
   "cell_type": "code",
   "execution_count": null,
   "metadata": {},
   "outputs": [],
   "source": [
    "class Solution:\n",
    "    def addToArrayForm(self, A: List[int], K: int) -> List[int]:\n",
    "        A = list(map(str, A))\n",
    "        num_A = int(''.join(A))\n",
    "        answer = num_A + K\n",
    "        \n",
    "        \n",
    "        answer = list(str(answer))\n",
    "        \n",
    "        answer = list(map(int, answer))\n",
    "        \n",
    "        return answer"
   ]
  }
 ],
 "metadata": {
  "kernelspec": {
   "display_name": "Python 3",
   "language": "python",
   "name": "python3"
  },
  "language_info": {
   "codemirror_mode": {
    "name": "ipython",
    "version": 3
   },
   "file_extension": ".py",
   "mimetype": "text/x-python",
   "name": "python",
   "nbconvert_exporter": "python",
   "pygments_lexer": "ipython3",
   "version": "3.7.3"
  }
 },
 "nbformat": 4,
 "nbformat_minor": 2
}
