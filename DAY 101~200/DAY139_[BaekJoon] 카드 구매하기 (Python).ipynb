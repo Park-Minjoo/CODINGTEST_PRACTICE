{
 "cells": [
  {
   "cell_type": "markdown",
   "metadata": {},
   "source": [
    "## 2020년 6월 24일 수요일\n",
    "### BaekJoon - 11052 : 카드 구매하기 (Python)\n",
    "### 문제 : https://www.acmicpc.net/problem/11052\n",
    "### 블로그 : https://somjang.tistory.com/entry/BaekJoon-11052%EB%B2%88-%EC%B9%B4%EB%93%9C-%EA%B5%AC%EB%A7%A4%ED%95%98%EA%B8%B0-Python"
   ]
  },
  {
   "cell_type": "markdown",
   "metadata": {},
   "source": [
    "### 첫번째 시도"
   ]
  },
  {
   "cell_type": "code",
   "execution_count": null,
   "metadata": {},
   "outputs": [],
   "source": [
    "cardNum = int(input())\n",
    "NC = [0]*(cardNum+1)\n",
    "cardPrice = [0]+list(map(int, input().split()))\n",
    "\n",
    "def answer():\n",
    "    NC[0], NC[1] = 0, cardPrice[1]\n",
    "    for i in range(2, cardNum+1):\n",
    "        for j in range(1, i+1):\n",
    "            NC[i] = max(NC[i], NC[i-j]+cardPrice[j])\n",
    "    print(NC[cardNum])\n",
    "\n",
    "answer()"
   ]
  }
 ],
 "metadata": {
  "kernelspec": {
   "display_name": "Python 3",
   "language": "python",
   "name": "python3"
  },
  "language_info": {
   "codemirror_mode": {
    "name": "ipython",
    "version": 3
   },
   "file_extension": ".py",
   "mimetype": "text/x-python",
   "name": "python",
   "nbconvert_exporter": "python",
   "pygments_lexer": "ipython3",
   "version": "3.7.3"
  }
 },
 "nbformat": 4,
 "nbformat_minor": 2
}
