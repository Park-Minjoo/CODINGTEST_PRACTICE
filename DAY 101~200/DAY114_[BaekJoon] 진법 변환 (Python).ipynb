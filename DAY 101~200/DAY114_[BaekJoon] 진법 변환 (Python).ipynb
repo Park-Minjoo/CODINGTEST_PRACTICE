{
 "cells": [
  {
   "cell_type": "markdown",
   "metadata": {},
   "source": [
    "## 2020년 5월 30일 토요일\n",
    "### BaekJoon - 2745번 : 진법 변환\n",
    "### 문제 : https://www.acmicpc.net/problem/2745\n",
    "### 블로그 : https://somjang.tistory.com/entry/BaeKJoon-2225%EB%B2%88-%ED%95%A9%EB%B6%84%ED%95%B4-Python"
   ]
  },
  {
   "cell_type": "markdown",
   "metadata": {},
   "source": [
    "### 첫번째 시도"
   ]
  },
  {
   "cell_type": "code",
   "execution_count": null,
   "metadata": {},
   "outputs": [],
   "source": [
    "B_jinbub_dic2 = { '0':0, '1':1, '2':2, '3':3, '4':4, '5':5,\n",
    "                 '6':6, '7':7, '8':8, '9':9, 'A':10, 'B':11,\n",
    "                 'C':12, 'D':13, 'E':14, 'F':15, 'G':16, 'H':17, 'I':18,\n",
    "                 'J':19, 'K':20, 'L':21, 'M':22, 'N':23, 'O':24, 'P':25,\n",
    "                 'Q':26, 'R':27, 'S':28, 'T':29, 'U':30, 'V':31, 'W':32,\n",
    "                 'X':33, 'Y':34, 'Z':35}\n",
    "\n",
    "inputBjinbub, B = input().split()\n",
    "B = int(B)\n",
    "\n",
    "result = 0\n",
    "\n",
    "for i, b in enumerate(inputBjinbub[::-1]):\n",
    "    result = result + B_jinbub_dic2[b] * (B**i)\n",
    "print(result)\n",
    "\n"
   ]
  }
 ],
 "metadata": {
  "kernelspec": {
   "display_name": "Python 3",
   "language": "python",
   "name": "python3"
  },
  "language_info": {
   "codemirror_mode": {
    "name": "ipython",
    "version": 3
   },
   "file_extension": ".py",
   "mimetype": "text/x-python",
   "name": "python",
   "nbconvert_exporter": "python",
   "pygments_lexer": "ipython3",
   "version": "3.7.3"
  }
 },
 "nbformat": 4,
 "nbformat_minor": 2
}
