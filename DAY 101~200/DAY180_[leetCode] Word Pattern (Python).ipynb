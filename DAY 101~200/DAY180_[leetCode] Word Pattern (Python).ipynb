{
 "cells": [
  {
   "cell_type": "markdown",
   "metadata": {},
   "source": [
    "## 2020년 8월 4일 화요일\n",
    "### leetCode - Word Pattern (Python)\n",
    "### 문제 : https://leetcode.com/problems/word-pattern/\n",
    "### 블로그 : https://somjang.tistory.com/entry/leetCode-290-Word-Pattern-Python"
   ]
  },
  {
   "cell_type": "markdown",
   "metadata": {},
   "source": [
    "### 첫번째 시도"
   ]
  },
  {
   "cell_type": "code",
   "execution_count": null,
   "metadata": {},
   "outputs": [],
   "source": [
    "class Solution:\n",
    "    def wordPattern(self, pattern: str, string: str) -> bool:\n",
    "        string_s = string.split(' ')\n",
    "        \n",
    "        answer = True\n",
    "        \n",
    "        check_dict = {}\n",
    "        \n",
    "        for p, s in zip(pattern, string_s):\n",
    "            if p not in check_dict.keys():\n",
    "                check_dict[p] = s\n",
    "            else:\n",
    "                if check_dict[p] != s:\n",
    "                    answer = False\n",
    "                    break\n",
    "        if (len(set(check_dict.keys())) != len(set(check_dict.values()))) or (len(pattern) != len(string_s)):\n",
    "            answer = False\n",
    "        return answer"
   ]
  }
 ],
 "metadata": {
  "kernelspec": {
   "display_name": "Python 3",
   "language": "python",
   "name": "python3"
  },
  "language_info": {
   "codemirror_mode": {
    "name": "ipython",
    "version": 3
   },
   "file_extension": ".py",
   "mimetype": "text/x-python",
   "name": "python",
   "nbconvert_exporter": "python",
   "pygments_lexer": "ipython3",
   "version": "3.7.3"
  }
 },
 "nbformat": 4,
 "nbformat_minor": 2
}
