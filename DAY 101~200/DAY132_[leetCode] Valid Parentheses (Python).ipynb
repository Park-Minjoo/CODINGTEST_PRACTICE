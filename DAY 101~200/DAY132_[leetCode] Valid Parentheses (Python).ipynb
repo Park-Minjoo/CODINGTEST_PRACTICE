{
 "cells": [
  {
   "cell_type": "markdown",
   "metadata": {},
   "source": [
    "## 2020년 6월 17일 수요일\n",
    "### leetCode - Valid Parentheses (Python)\n",
    "### 문제 : https://leetcode.com/problems/valid-parentheses/\n",
    "### 블로그 : https://somjang.tistory.com/entry/leetCode-20-Valid-Parentheses-Python"
   ]
  },
  {
   "cell_type": "markdown",
   "metadata": {},
   "source": [
    "### 첫번째 시도"
   ]
  },
  {
   "cell_type": "code",
   "execution_count": null,
   "metadata": {},
   "outputs": [],
   "source": [
    "class Solution:\n",
    "    def isValid(self, s: str) -> bool:\n",
    "        s_list = list(s)\n",
    "        \n",
    "        answer = True\n",
    "        \n",
    "        stack = []\n",
    "        \n",
    "        for s in s_list:\n",
    "            if s == '[' or s == '(' or s == '{':\n",
    "                stack.append(s)\n",
    "            elif len(stack) != 0:\n",
    "                if (s == ']' and stack[-1] == '[') or (s == '}' and stack[-1] == '{') or (s == ')' and stack[-1] == '('): \n",
    "                    stack.pop()\n",
    "                else:\n",
    "                    answer = False\n",
    "                    break\n",
    "            else:\n",
    "                answer = False\n",
    "                break\n",
    "                \n",
    "        if len(stack) != 0:\n",
    "            answer = False\n",
    "            \n",
    "        return answer"
   ]
  }
 ],
 "metadata": {
  "kernelspec": {
   "display_name": "Python 3",
   "language": "python",
   "name": "python3"
  },
  "language_info": {
   "codemirror_mode": {
    "name": "ipython",
    "version": 3
   },
   "file_extension": ".py",
   "mimetype": "text/x-python",
   "name": "python",
   "nbconvert_exporter": "python",
   "pygments_lexer": "ipython3",
   "version": "3.7.3"
  }
 },
 "nbformat": 4,
 "nbformat_minor": 2
}
