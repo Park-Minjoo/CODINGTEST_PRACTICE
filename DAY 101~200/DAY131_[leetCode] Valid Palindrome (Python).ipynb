{
 "cells": [
  {
   "cell_type": "markdown",
   "metadata": {},
   "source": [
    "## 2020년 6월 16일 화요일\n",
    "### leetCode - Valid Palindrome (Python)\n",
    "### 문제 : https://leetcode.com/problems/valid-palindrome/\n",
    "### 블로그 : https://somjang.tistory.com/entry/leetCode-125-Valid-Palindrome-Python"
   ]
  },
  {
   "cell_type": "markdown",
   "metadata": {},
   "source": [
    "### 첫번째 시도"
   ]
  },
  {
   "cell_type": "code",
   "execution_count": null,
   "metadata": {},
   "outputs": [],
   "source": [
    "import re\n",
    "\n",
    "class Solution:\n",
    "    def isPalindrome(self, s: str) -> bool:\n",
    "        s = s.lower()\n",
    "        \n",
    "        text = re.sub('[^a-zA-Z0-9]','',s)\n",
    "        \n",
    "        return text == text[::-1]"
   ]
  }
 ],
 "metadata": {
  "kernelspec": {
   "display_name": "Python 3",
   "language": "python",
   "name": "python3"
  },
  "language_info": {
   "codemirror_mode": {
    "name": "ipython",
    "version": 3
   },
   "file_extension": ".py",
   "mimetype": "text/x-python",
   "name": "python",
   "nbconvert_exporter": "python",
   "pygments_lexer": "ipython3",
   "version": "3.7.3"
  }
 },
 "nbformat": 4,
 "nbformat_minor": 2
}
