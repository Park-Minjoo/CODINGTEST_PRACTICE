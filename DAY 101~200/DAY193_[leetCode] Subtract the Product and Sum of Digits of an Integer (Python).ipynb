{
 "cells": [
  {
   "cell_type": "markdown",
   "metadata": {},
   "source": [
    "## 2020년 8월 30일 일요일\n",
    "### leetCode - Subtract the Product and Sum of Digits of an Integer (Python)\n",
    "### 문제 : https://leetcode.com/problems/subtract-the-product-and-sum-of-digits-of-an-integer/\n",
    "### 블로그 : https://somjang.tistory.com/entry/leetCode-1281-Subtract-the-Product-and-Sum-of-Digits-of-an-Integer-Python"
   ]
  },
  {
   "cell_type": "markdown",
   "metadata": {},
   "source": [
    "### 첫번째 시도"
   ]
  },
  {
   "cell_type": "code",
   "execution_count": null,
   "metadata": {},
   "outputs": [],
   "source": [
    "from functools import reduce\n",
    "\n",
    "class Solution:\n",
    "    @staticmethod\n",
    "    def multiply(arr):\n",
    "        return reduce(lambda x, y: x * y, arr)\n",
    "    \n",
    "    def subtractProductAndSum(self, n: int) -> int:\n",
    "        string_n = list(str(n))\n",
    "        \n",
    "        n_numbers = list(map(int, string_n))\n",
    "        \n",
    "        if len(n_numbers) > 1:\n",
    "            gopsam = self.multiply(n_numbers)\n",
    "            arr_sum = sum(n_numbers)\n",
    "        \n",
    "            answer = gopsam - arr_sum\n",
    "        else:\n",
    "            answer = 0\n",
    "        \n",
    "        return answer"
   ]
  }
 ],
 "metadata": {
  "kernelspec": {
   "display_name": "Python 3",
   "language": "python",
   "name": "python3"
  },
  "language_info": {
   "codemirror_mode": {
    "name": "ipython",
    "version": 3
   },
   "file_extension": ".py",
   "mimetype": "text/x-python",
   "name": "python",
   "nbconvert_exporter": "python",
   "pygments_lexer": "ipython3",
   "version": "3.7.3"
  }
 },
 "nbformat": 4,
 "nbformat_minor": 2
}
