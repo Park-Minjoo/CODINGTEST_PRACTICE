{
 "cells": [
  {
   "cell_type": "markdown",
   "metadata": {},
   "source": [
    "## 2020년 5월 22일 금요일\n",
    "### SW Expert Academy - 두가지 빵의 딜레마\n",
    "### 문제 : https://swexpertacademy.com/main/code/problem/problemDetail.do?contestProbId=AWZ2IErKCwUDFAUQ&categoryId=AWZ2IErKCwUDFAUQ&categoryType=CODE\n",
    "### 블로그 : https://somjang.tistory.com/entry/SWExpertAcademy-5948%EB%B2%88-%EC%83%88%EC%83%98%EC%9D%B4%EC%9D%98-7-3-5-%EA%B2%8C%EC%9E%84-Python"
   ]
  },
  {
   "cell_type": "markdown",
   "metadata": {},
   "source": [
    "### 첫번째 시도"
   ]
  },
  {
   "cell_type": "code",
   "execution_count": null,
   "metadata": {},
   "outputs": [],
   "source": [
    "from itertools import combinations\n",
    "T = int(input())\n",
    "\n",
    "for i in range(T):\n",
    "    numbers = list(set(map(int, input().split(' '))))\n",
    "    \n",
    "    comb = combinations(numbers, 3)\n",
    "    \n",
    "    comb_sum = [sum(cmb) for cmb in comb]\n",
    "    \n",
    "    comb_sum = list(set(comb_sum))\n",
    "    \n",
    "    comb_sort = sorted(comb_sum, reverse = True)\n",
    "    \n",
    "    print(\"#{} {}\".format(i+1, comb_sort[4]))"
   ]
  }
 ],
 "metadata": {
  "kernelspec": {
   "display_name": "Python 3",
   "language": "python",
   "name": "python3"
  },
  "language_info": {
   "codemirror_mode": {
    "name": "ipython",
    "version": 3
   },
   "file_extension": ".py",
   "mimetype": "text/x-python",
   "name": "python",
   "nbconvert_exporter": "python",
   "pygments_lexer": "ipython3",
   "version": "3.7.3"
  }
 },
 "nbformat": 4,
 "nbformat_minor": 2
}
