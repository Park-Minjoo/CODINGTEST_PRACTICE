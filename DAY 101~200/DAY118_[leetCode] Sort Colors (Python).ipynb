{
 "cells": [
  {
   "cell_type": "markdown",
   "metadata": {},
   "source": [
    "## 2020년 6월 3일 수요일\n",
    "### leetCode - 75 : Sort Colors\n",
    "### 문제 : https://leetcode.com/problems/sort-colors/\n",
    "### 블로그 : https://somjang.tistory.com/entry/leetCode-75-Sort-Colors-Python"
   ]
  },
  {
   "cell_type": "markdown",
   "metadata": {},
   "source": [
    "### 첫번째 시도"
   ]
  },
  {
   "cell_type": "code",
   "execution_count": null,
   "metadata": {},
   "outputs": [],
   "source": [
    "from collections import Counter\n",
    "class Solution:\n",
    "    def sortColors(self, nums: List[int]) -> None:\n",
    "        \"\"\"\n",
    "        Do not return anything, modify nums in-place instead.\n",
    "        \"\"\"\n",
    "        \n",
    "        nums_dict = dict(Counter(nums))\n",
    "        \n",
    "        keys = nums_dict.keys()\n",
    "        \n",
    "        index = 0\n",
    "        for i in range(3):\n",
    "            if i in keys:\n",
    "                for j in range(nums_dict[i]):\n",
    "                    nums[index] = i\n",
    "                    index = index + 1"
   ]
  }
 ],
 "metadata": {
  "kernelspec": {
   "display_name": "Python 3",
   "language": "python",
   "name": "python3"
  },
  "language_info": {
   "codemirror_mode": {
    "name": "ipython",
    "version": 3
   },
   "file_extension": ".py",
   "mimetype": "text/x-python",
   "name": "python",
   "nbconvert_exporter": "python",
   "pygments_lexer": "ipython3",
   "version": "3.7.3"
  }
 },
 "nbformat": 4,
 "nbformat_minor": 2
}
