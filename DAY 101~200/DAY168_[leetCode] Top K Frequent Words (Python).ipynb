{
 "cells": [
  {
   "cell_type": "markdown",
   "metadata": {},
   "source": [
    "## 2020년 7월 23일 목요일\n",
    "### leetCode - Top K Frequent Words (Python)\n",
    "### 문제 : https://leetcode.com/problems/top-k-frequent-words/\n",
    "### 블로그 : https://somjang.tistory.com/entry/leetCode-692-Top-K-Frequent-Words-Python"
   ]
  },
  {
   "cell_type": "markdown",
   "metadata": {},
   "source": [
    "### 첫번째 시도"
   ]
  },
  {
   "cell_type": "code",
   "execution_count": null,
   "metadata": {},
   "outputs": [],
   "source": [
    "from collections import Counter\n",
    "\n",
    "class Solution:\n",
    "    def topKFrequent(self, words: List[str], k: int) -> List[str]:\n",
    "        cnt = Counter(words)\n",
    "        \n",
    "        print(cnt.items())\n",
    "        \n",
    "        most_list = sorted(list(cnt.items()), key=lambda x: [-x[1], x[0]])\n",
    "        \n",
    "        print(most_list)\n",
    "        \n",
    "        answer = []\n",
    "        \n",
    "        for i in range(k):\n",
    "            answer.append(most_list[i][0])\n",
    "            \n",
    "        return answer"
   ]
  }
 ],
 "metadata": {
  "kernelspec": {
   "display_name": "Python 3",
   "language": "python",
   "name": "python3"
  },
  "language_info": {
   "codemirror_mode": {
    "name": "ipython",
    "version": 3
   },
   "file_extension": ".py",
   "mimetype": "text/x-python",
   "name": "python",
   "nbconvert_exporter": "python",
   "pygments_lexer": "ipython3",
   "version": "3.7.3"
  }
 },
 "nbformat": 4,
 "nbformat_minor": 2
}
