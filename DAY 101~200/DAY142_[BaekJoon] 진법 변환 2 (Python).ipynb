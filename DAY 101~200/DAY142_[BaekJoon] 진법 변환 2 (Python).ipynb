{
 "cells": [
  {
   "cell_type": "markdown",
   "metadata": {},
   "source": [
    "## 2020년 6월 27일 토요일\n",
    "### BaekJoon - 11005 : 진법 변환 2 (Python)\n",
    "### 문제 : https://www.acmicpc.net/problem/11005\n",
    "### 블로그 : https://somjang.tistory.com/entry/BaekJoon-11005%EB%B2%88-%EC%A7%84%EB%B2%95-%EB%B3%80%ED%99%98-2-Python"
   ]
  },
  {
   "cell_type": "markdown",
   "metadata": {},
   "source": [
    "### 첫번째 시도"
   ]
  },
  {
   "cell_type": "code",
   "execution_count": null,
   "metadata": {},
   "outputs": [],
   "source": [
    "B_jinbub_dic = { 0:'0', 1:'1', 2:'2', 3:'3', 4:'4', 5:'5',\n",
    "                 6:'6', 7:'7', 8:'8', 9:'9', 10:'A', 11:'B',\n",
    "                 12:'C', 13:'D', 14:'E', 15:'F', 16:'G', 17:'H', 18:'I',\n",
    "                 19:'J', 20:'K', 21:'L', 22:'M', 23:'N', 24:'O', 25:'P',\n",
    "                 26:'Q', 27:'R', 28:'S', 29:'T', 30:'U', 31:'V', 32:'W',\n",
    "                 33:'X', 34:'Y', 35:'Z'}\n",
    "\n",
    "inputNum, B = map(int, input().split())\n",
    "\n",
    "result = \"\"\n",
    "\n",
    "while inputNum:\n",
    "    result = result + B_jinbub_dic[inputNum % B]\n",
    "    inputNum = inputNum // B\n",
    "print(result[::-1])"
   ]
  }
 ],
 "metadata": {
  "kernelspec": {
   "display_name": "Python 3",
   "language": "python",
   "name": "python3"
  },
  "language_info": {
   "codemirror_mode": {
    "name": "ipython",
    "version": 3
   },
   "file_extension": ".py",
   "mimetype": "text/x-python",
   "name": "python",
   "nbconvert_exporter": "python",
   "pygments_lexer": "ipython3",
   "version": "3.7.3"
  }
 },
 "nbformat": 4,
 "nbformat_minor": 2
}
