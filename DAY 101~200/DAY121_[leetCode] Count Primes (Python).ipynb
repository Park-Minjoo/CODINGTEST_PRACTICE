{
 "cells": [
  {
   "cell_type": "markdown",
   "metadata": {},
   "source": [
    "## 2020년 6월 6일 토요일\n",
    "### leetCode - 204 : Count Primes\n",
    "### 문제 : https://leetcode.com/problems/count-primes/\n",
    "### 블로그 : https://somjang.tistory.com/entry/leetCode-204-Count-Primes-Python"
   ]
  },
  {
   "cell_type": "markdown",
   "metadata": {},
   "source": [
    "### 첫번째 시도"
   ]
  },
  {
   "cell_type": "code",
   "execution_count": null,
   "metadata": {},
   "outputs": [],
   "source": [
    "class Solution:\n",
    "    \n",
    "    def getPrimaryNum_Eratos(N): \n",
    "        nums = [True] * (N + 1) \n",
    "        \n",
    "        for i in range(2, len(nums) // 2 + 1): \n",
    "            if nums[i] == True: \n",
    "                for j in range(i+i, N, i): \n",
    "                    nums[j] = False \n",
    "        return [i for i in range(2, N) if nums[i] == True]\n",
    "    \n",
    "    def countPrimes(self, n: int) -> int:\n",
    "        prime_nums = Solution.getPrimaryNum_Eratos(n)\n",
    "        \n",
    "        return len(prime_nums)"
   ]
  }
 ],
 "metadata": {
  "kernelspec": {
   "display_name": "Python 3",
   "language": "python",
   "name": "python3"
  },
  "language_info": {
   "codemirror_mode": {
    "name": "ipython",
    "version": 3
   },
   "file_extension": ".py",
   "mimetype": "text/x-python",
   "name": "python",
   "nbconvert_exporter": "python",
   "pygments_lexer": "ipython3",
   "version": "3.7.3"
  }
 },
 "nbformat": 4,
 "nbformat_minor": 2
}
