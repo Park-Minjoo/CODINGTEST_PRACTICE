{
 "cells": [
  {
   "cell_type": "markdown",
   "metadata": {},
   "source": [
    "## 2020년 5월 29일 금요일\n",
    "### BaekJoon - 2225번 : 합분해\n",
    "### 문제 : https://www.acmicpc.net/problem/2225\n",
    "### 블로그 : https://somjang.tistory.com/entry/BaeKJoon-2225%EB%B2%88-%ED%95%A9%EB%B6%84%ED%95%B4-Python"
   ]
  },
  {
   "cell_type": "markdown",
   "metadata": {},
   "source": [
    "### 첫번째 시도"
   ]
  },
  {
   "cell_type": "code",
   "execution_count": null,
   "metadata": {},
   "outputs": [],
   "source": [
    "inputNums = input()\n",
    "inputNums = inputNums.split()\n",
    "N = int(inputNums[0])\n",
    "K = int(inputNums[1])\n",
    "nc = [[0]*(N+1) for _ in range(K+1)]\n",
    "\n",
    "nc[0][0] = 1\n",
    "# nc[0][0] = 1\n",
    "\n",
    "for i in range(1, K+1):\n",
    "    for j in range(0, N+1):\n",
    "        nc[i][j] = nc[i-1][j] + nc[i][j-1]\n",
    "    nc[i][j] = nc[i][j] % 1000000000\n",
    "# print(nc)\n",
    "print(nc[K][N])"
   ]
  }
 ],
 "metadata": {
  "kernelspec": {
   "display_name": "Python 3",
   "language": "python",
   "name": "python3"
  },
  "language_info": {
   "codemirror_mode": {
    "name": "ipython",
    "version": 3
   },
   "file_extension": ".py",
   "mimetype": "text/x-python",
   "name": "python",
   "nbconvert_exporter": "python",
   "pygments_lexer": "ipython3",
   "version": "3.7.3"
  }
 },
 "nbformat": 4,
 "nbformat_minor": 2
}
