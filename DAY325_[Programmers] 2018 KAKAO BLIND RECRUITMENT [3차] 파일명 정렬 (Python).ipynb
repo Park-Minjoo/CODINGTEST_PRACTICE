{
 "cells": [
  {
   "cell_type": "markdown",
   "metadata": {},
   "source": [
    "## 2021년 3월 7일 일요일\n",
    "### Programmers - 2018 KAKO BLIND RECRUITMENT [3차] 파일명 정렬 (Python)\n",
    "### 문제 : https://programmers.co.kr/learn/courses/30/lessons/17686\n",
    "### 블로그 : https://somjang.tistory.com/entry/Programmers-2018-KAKAO-BLIND-RECRUITMENT-3%EC%B0%A8-%ED%8C%8C%EC%9D%BC%EB%AA%85-%EC%A0%95%EB%A0%AC-Python"
   ]
  },
  {
   "cell_type": "markdown",
   "metadata": {},
   "source": [
    "### Solution 1"
   ]
  },
  {
   "cell_type": "code",
   "execution_count": null,
   "metadata": {},
   "outputs": [],
   "source": [
    "import re\n",
    "\n",
    "def solution(files):\n",
    "    answer = []\n",
    "    \n",
    "    head_num_tail = [re.split(r\"([0-9]+)\", file) for file in files]\n",
    "    \n",
    "    sorted_head_num_tail = sorted(head_num_tail, key=lambda x: (x[0].lower(), int(x[1])))\n",
    "    \n",
    "    answer = [\"\".join(h_n_t) for h_n_t in sorted_head_num_tail]\n",
    "    \n",
    "    return answer"
   ]
  }
 ],
 "metadata": {
  "kernelspec": {
   "display_name": "Python 3",
   "language": "python",
   "name": "python3"
  },
  "language_info": {
   "codemirror_mode": {
    "name": "ipython",
    "version": 3
   },
   "file_extension": ".py",
   "mimetype": "text/x-python",
   "name": "python",
   "nbconvert_exporter": "python",
   "pygments_lexer": "ipython3",
   "version": "3.7.3"
  }
 },
 "nbformat": 4,
 "nbformat_minor": 2
}
