{
 "cells": [
  {
   "cell_type": "markdown",
   "metadata": {},
   "source": [
    "## 2021년 2월 27일 토요일\n",
    "### Programmers - 이진변환 반복하기 (Python)\n",
    "### 문제 : https://programmers.co.kr/learn/courses/30/lessons/70129\n",
    "### 블로그 : https://somjang.tistory.com/entry/Programmers-%EC%9D%B4%EC%A7%84%EB%B3%80%ED%99%98-%EB%B0%98%EB%B3%B5%ED%95%98%EA%B8%B0-Python"
   ]
  },
  {
   "cell_type": "markdown",
   "metadata": {},
   "source": [
    "### Solution 1"
   ]
  },
  {
   "cell_type": "code",
   "execution_count": null,
   "metadata": {},
   "outputs": [],
   "source": [
    "def solution(x):\n",
    "    answer = []\n",
    "    \n",
    "    cnt = 0\n",
    "    zero = 0\n",
    "    \n",
    "    while True:\n",
    "        if x == '1':\n",
    "            break\n",
    "        zero = zero + x.count(\"0\")\n",
    "        x = x.replace(\"0\", \"\")\n",
    "        \n",
    "        x = bin(len(x))[2:]\n",
    "        \n",
    "        cnt = cnt + 1\n",
    "    \n",
    "    answer = [cnt, zero]\n",
    "    \n",
    "    return answer"
   ]
  }
 ],
 "metadata": {
  "kernelspec": {
   "display_name": "Python 3",
   "language": "python",
   "name": "python3"
  },
  "language_info": {
   "codemirror_mode": {
    "name": "ipython",
    "version": 3
   },
   "file_extension": ".py",
   "mimetype": "text/x-python",
   "name": "python",
   "nbconvert_exporter": "python",
   "pygments_lexer": "ipython3",
   "version": "3.7.3"
  }
 },
 "nbformat": 4,
 "nbformat_minor": 2
}
