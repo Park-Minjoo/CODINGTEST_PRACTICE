{
 "cells": [
  {
   "cell_type": "markdown",
   "metadata": {},
   "source": [
    "## 2021년 4월 19일 월요일\n",
    "### Programmers - 문자열 내림차순으로 배치하기 (Python)\n",
    "### 문제 : https://programmers.co.kr/learn/courses/30/lessons/12917\n",
    "### 블로그 : https://somjang.tistory.com/entry/Programmers-%EB%AC%B8%EC%9E%90%EC%97%B4-%EB%82%B4%EB%A6%BC%EC%B0%A8%EC%88%9C%EC%9C%BC%EB%A1%9C-%EB%B0%B0%EC%B9%98%ED%95%98%EA%B8%B0-Python"
   ]
  },
  {
   "cell_type": "markdown",
   "metadata": {},
   "source": [
    "### Solution"
   ]
  },
  {
   "cell_type": "code",
   "execution_count": 1,
   "metadata": {},
   "outputs": [],
   "source": [
    "def solution(s):\n",
    "    answer = ''\n",
    "    \n",
    "    lowercases = []\n",
    "    uppercases = []\n",
    "    \n",
    "    for char in list(s):\n",
    "        if char.isupper():\n",
    "            uppercases.append(char)\n",
    "        else:\n",
    "            lowercases.append(char)\n",
    "            \n",
    "    if len(uppercases) != 0:\n",
    "        uppercases = sorted(uppercases, reverse=True)\n",
    "    if len(lowercases) != 0:\n",
    "        lowercases = sorted(lowercases, reverse=True)\n",
    "        \n",
    "    answer = \"\".join(lowercases) + \"\".join(uppercases)\n",
    "    return answer"
   ]
  }
 ],
 "metadata": {
  "kernelspec": {
   "display_name": "Python 3",
   "language": "python",
   "name": "python3"
  },
  "language_info": {
   "codemirror_mode": {
    "name": "ipython",
    "version": 3
   },
   "file_extension": ".py",
   "mimetype": "text/x-python",
   "name": "python",
   "nbconvert_exporter": "python",
   "pygments_lexer": "ipython3",
   "version": "3.7.3"
  }
 },
 "nbformat": 4,
 "nbformat_minor": 2
}
