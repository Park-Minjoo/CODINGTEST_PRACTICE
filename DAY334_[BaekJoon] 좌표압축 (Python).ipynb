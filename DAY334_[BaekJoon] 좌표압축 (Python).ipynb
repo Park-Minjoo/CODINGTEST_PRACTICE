{
 "cells": [
  {
   "cell_type": "markdown",
   "metadata": {},
   "source": [
    "## 2021년 4월 7일 수요일\n",
    "### BaekJoon - 좌표압축 (Python)\n",
    "### 문제 : https://www.acmicpc.net/problem/18870\n",
    "### 블로그 : https://somjang.tistory.com/entry/BaekJoon-18870%EB%B2%88-%EC%A2%8C%ED%91%9C%EC%95%95%EC%B6%95-Python"
   ]
  },
  {
   "cell_type": "markdown",
   "metadata": {},
   "source": [
    "### Solution 1"
   ]
  },
  {
   "cell_type": "code",
   "execution_count": 1,
   "metadata": {},
   "outputs": [],
   "source": [
    "from collections import Counter\n",
    "numbers = int(input())\n",
    "\n",
    "inputNums = []\n",
    "\n",
    "\n",
    "inputNums = list(map(int, input().split()))\n",
    "    \n",
    "cnt_items = sorted(Counter(inputNums).items(), key = lambda x: x[0])\n",
    "\n",
    "rank_dict = dict()\n",
    "\n",
    "for i in range(len(cnt_items)):\n",
    "    rank_dict[cnt_items[i][0]] = i\n",
    "\n",
    "\n",
    "for number in inputNums:\n",
    "    print(rank_dict[number])"
   ]
  }
 ],
 "metadata": {
  "kernelspec": {
   "display_name": "Python 3",
   "language": "python",
   "name": "python3"
  },
  "language_info": {
   "codemirror_mode": {
    "name": "ipython",
    "version": 3
   },
   "file_extension": ".py",
   "mimetype": "text/x-python",
   "name": "python",
   "nbconvert_exporter": "python",
   "pygments_lexer": "ipython3",
   "version": "3.7.3"
  }
 },
 "nbformat": 4,
 "nbformat_minor": 2
}
