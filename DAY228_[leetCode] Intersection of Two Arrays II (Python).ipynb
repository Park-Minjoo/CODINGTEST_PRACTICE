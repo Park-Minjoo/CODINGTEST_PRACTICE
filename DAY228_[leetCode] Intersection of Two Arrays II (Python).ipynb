{
 "cells": [
  {
   "cell_type": "markdown",
   "metadata": {},
   "source": [
    "## 2020년 10월 5일 월요일\n",
    "### leetCode - Intersection of Two Arrays II (Python)\n",
    "### 문제 : https://leetcode.com/problems/intersection-of-two-arrays-ii/\n",
    "### 블로그 : https://somjang.tistory.com/entry/leetCode-350-Intersection-of-Two-Arrays-II-Python"
   ]
  },
  {
   "cell_type": "markdown",
   "metadata": {},
   "source": [
    "### 첫번째 시도"
   ]
  },
  {
   "cell_type": "code",
   "execution_count": null,
   "metadata": {},
   "outputs": [],
   "source": [
    "class Solution:\n",
    "    def intersect(self, nums1: List[int], nums2: List[int]) -> List[int]:\n",
    "        result = []\n",
    "        \n",
    "        cnt = dict(Counter(nums1))\n",
    "        \n",
    "        for num in nums2:\n",
    "            if num in cnt and cnt[num] != 0:\n",
    "                result.append(num)        \n",
    "                cnt[num] = cnt[num] - 1\n",
    "        \n",
    "        return result"
   ]
  }
 ],
 "metadata": {
  "kernelspec": {
   "display_name": "Python 3",
   "language": "python",
   "name": "python3"
  },
  "language_info": {
   "codemirror_mode": {
    "name": "ipython",
    "version": 3
   },
   "file_extension": ".py",
   "mimetype": "text/x-python",
   "name": "python",
   "nbconvert_exporter": "python",
   "pygments_lexer": "ipython3",
   "version": "3.7.3"
  }
 },
 "nbformat": 4,
 "nbformat_minor": 2
}
