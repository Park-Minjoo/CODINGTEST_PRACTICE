{
 "cells": [
  {
   "cell_type": "markdown",
   "metadata": {},
   "source": [
    "## 2020년 12월 27일 일요일\n",
    "### leetCode - Kth Missing Positive Number (Python)\n",
    "### 문제 : https://leetcode.com/problems/kth-missing-positive-number/https://somjang.tistory.com/entry/leetCode-1539-Kth-Missing-Positive-Number-Python\n",
    "### 블로그 : https://somjang.tistory.com/entry/leetCode-1539-Kth-Missing-Positive-Number-Python"
   ]
  },
  {
   "cell_type": "markdown",
   "metadata": {},
   "source": [
    "### 첫번째 시도"
   ]
  },
  {
   "cell_type": "code",
   "execution_count": null,
   "metadata": {},
   "outputs": [],
   "source": [
    "class Solution:\n",
    "    def findKthPositive(self, arr: List[int], k: int) -> int:\n",
    "        range_list = set(range(1, max(arr) + k + 1))\n",
    "        \n",
    "        set_list = range_list - set(arr)\n",
    "        \n",
    "        set_list = sorted(list(set_list))\n",
    "        \n",
    "        \n",
    "        return list(set_list)[k-1]"
   ]
  }
 ],
 "metadata": {
  "kernelspec": {
   "display_name": "Python 3",
   "language": "python",
   "name": "python3"
  },
  "language_info": {
   "codemirror_mode": {
    "name": "ipython",
    "version": 3
   },
   "file_extension": ".py",
   "mimetype": "text/x-python",
   "name": "python",
   "nbconvert_exporter": "python",
   "pygments_lexer": "ipython3",
   "version": "3.7.3"
  }
 },
 "nbformat": 4,
 "nbformat_minor": 2
}
