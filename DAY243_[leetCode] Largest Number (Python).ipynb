{
 "cells": [
  {
   "cell_type": "markdown",
   "metadata": {},
   "source": [
    "## 2020년 10월 25일 일요일\n",
    "### leetCode - Largest Number (Python)\n",
    "### 문제 : https://leetcode.com/problems/largest-number/\n",
    "### 블로그 : https://somjang.tistory.com/entry/leetCode-179-Largest-Number-Python"
   ]
  },
  {
   "cell_type": "markdown",
   "metadata": {},
   "source": [
    "### 첫번째 시도"
   ]
  },
  {
   "cell_type": "code",
   "execution_count": null,
   "metadata": {},
   "outputs": [],
   "source": [
    "class Solution:\n",
    "    def largestNumber(self, nums: List[int]) -> str:\n",
    "        if len(nums) == 1:\n",
    "            return str(nums[0])\n",
    "        elif len(nums) == 0:\n",
    "            return \"\"\n",
    "        \n",
    "        else:\n",
    "            temp = []\n",
    "            \n",
    "            for num in nums:\n",
    "                temp.append((num, int(str(num)[0])))\n",
    "                \n",
    "            temp = sorted(temp, key=lambda x: (-x[1], -x[0]))\n",
    "            \n",
    "            answer = [str(t[0]) for t in temp]\n",
    "            \n",
    "            return \"\".join(answer)"
   ]
  },
  {
   "cell_type": "markdown",
   "metadata": {},
   "source": [
    "#### 3, 30의 경우 30이 앞으로와서 실패"
   ]
  },
  {
   "cell_type": "markdown",
   "metadata": {},
   "source": [
    "---"
   ]
  },
  {
   "cell_type": "markdown",
   "metadata": {},
   "source": [
    "### 두번째 시도"
   ]
  },
  {
   "cell_type": "code",
   "execution_count": null,
   "metadata": {},
   "outputs": [],
   "source": [
    "class compare(str):\n",
    "    def __lt__(x, y):\n",
    "        return x+y > y+x\n",
    "\n",
    "class Solution:\n",
    "\n",
    "    \n",
    "    def largestNumber(self, nums: List[int]) -> str:\n",
    "        if len(nums) == 1:\n",
    "            return str(nums[0])\n",
    "        elif len(nums) == 0:\n",
    "            return \"\"\n",
    "        \n",
    "        else:\n",
    "            str_nums = [str(num) for num in nums]\n",
    "            \n",
    "            answer = sorted(str_nums, key=compare)\n",
    "            \n",
    "            if list(set(answer)) == ['0']:\n",
    "                answer = ['0']\n",
    "            \n",
    "            return \"\".join(answer)"
   ]
  }
 ],
 "metadata": {
  "kernelspec": {
   "display_name": "Python 3",
   "language": "python",
   "name": "python3"
  },
  "language_info": {
   "codemirror_mode": {
    "name": "ipython",
    "version": 3
   },
   "file_extension": ".py",
   "mimetype": "text/x-python",
   "name": "python",
   "nbconvert_exporter": "python",
   "pygments_lexer": "ipython3",
   "version": "3.7.3"
  }
 },
 "nbformat": 4,
 "nbformat_minor": 2
}
