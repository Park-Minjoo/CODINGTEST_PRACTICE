{
 "cells": [
  {
   "cell_type": "markdown",
   "metadata": {},
   "source": [
    "## 2021년 1월 20일 수요일\n",
    "### leetCode - Rearrange Words in a Sentence (Python)\n",
    "### 문제 : https://leetcode.com/problems/rearrange-words-in-a-sentence/\n",
    "### 블로그 : https://somjang.tistory.com/entry/leetCode-1451-Rearrange-Words-in-a-Sentence-Python"
   ]
  },
  {
   "cell_type": "markdown",
   "metadata": {},
   "source": [
    "### 첫번째 시도"
   ]
  },
  {
   "cell_type": "code",
   "execution_count": null,
   "metadata": {},
   "outputs": [],
   "source": [
    "class Solution:\n",
    "    def arrangeWords(self, text: str) -> str:\n",
    "        word_list = text.split(\" \")\n",
    "        \n",
    "        info_list = []\n",
    "        \n",
    "        for i, word in enumerate(word_list):\n",
    "            info_list.append([i, len(word), word])\n",
    "            \n",
    "        sorted_list = sorted(info_list, key=lambda x: (x[1], x[0]))\n",
    "        \n",
    "        word_list = [word[2].lower() for word in sorted_list]\n",
    "        \n",
    "        character_list = list(word_list[0])\n",
    "        \n",
    "        character_list[0] = character_list[0].upper()\n",
    "        \n",
    "        word_list[0] = \"\".join(character_list)\n",
    "        \n",
    "        return \" \".join(word_list)"
   ]
  }
 ],
 "metadata": {
  "kernelspec": {
   "display_name": "Python 3",
   "language": "python",
   "name": "python3"
  },
  "language_info": {
   "codemirror_mode": {
    "name": "ipython",
    "version": 3
   },
   "file_extension": ".py",
   "mimetype": "text/x-python",
   "name": "python",
   "nbconvert_exporter": "python",
   "pygments_lexer": "ipython3",
   "version": "3.7.3"
  }
 },
 "nbformat": 4,
 "nbformat_minor": 2
}
