{
 "cells": [
  {
   "cell_type": "markdown",
   "metadata": {},
   "source": [
    "## 2021년 3월 23일 화요일\n",
    "### Programmers - 하샤드 수 (Python)\n",
    "### 문제 : https://programmers.co.kr/learn/courses/30/lessons/12947\n",
    "### 블로그 : https://somjang.tistory.com/entry/Programmers-%ED%95%98%EC%83%A4%EB%93%9C-%EC%88%98-Python"
   ]
  },
  {
   "cell_type": "markdown",
   "metadata": {},
   "source": [
    "### Solution 1"
   ]
  },
  {
   "cell_type": "code",
   "execution_count": 1,
   "metadata": {},
   "outputs": [],
   "source": [
    "def solution(x):\n",
    "    answer = True\n",
    "    \n",
    "    x_num_sum = sum([int(num) for num in list(str(x))])\n",
    "    \n",
    "    if x % x_num_sum != 0:\n",
    "        answer = False\n",
    "    \n",
    "    return answer"
   ]
  }
 ],
 "metadata": {
  "kernelspec": {
   "display_name": "Python 3",
   "language": "python",
   "name": "python3"
  },
  "language_info": {
   "codemirror_mode": {
    "name": "ipython",
    "version": 3
   },
   "file_extension": ".py",
   "mimetype": "text/x-python",
   "name": "python",
   "nbconvert_exporter": "python",
   "pygments_lexer": "ipython3",
   "version": "3.7.3"
  }
 },
 "nbformat": 4,
 "nbformat_minor": 2
}
