{
 "cells": [
  {
   "cell_type": "markdown",
   "metadata": {},
   "source": [
    "## 2021년 4월 28일 수요일\n",
    "### BaekJoon - 빠른A+B (Python)\n",
    "### 문제 : https://www.acmicpc.net/problem/15552\n",
    "### 블로그 : https://somjang.tistory.com/entry/BaekJoon-15552%EB%B2%88-%EB%B9%A0%EB%A5%B8-AB-Python"
   ]
  },
  {
   "cell_type": "markdown",
   "metadata": {},
   "source": [
    "### Solution"
   ]
  },
  {
   "cell_type": "code",
   "execution_count": 1,
   "metadata": {},
   "outputs": [],
   "source": [
    "import sys\n",
    "\n",
    "n = int(sys.stdin.readline())\n",
    "\n",
    "for i in range(n):\n",
    "    num1, num2 = map(int, sys.stdin.readline().split())\n",
    "    \n",
    "    print(num1+num2)"
   ]
  }
 ],
 "metadata": {
  "kernelspec": {
   "display_name": "Python 3",
   "language": "python",
   "name": "python3"
  },
  "language_info": {
   "codemirror_mode": {
    "name": "ipython",
    "version": 3
   },
   "file_extension": ".py",
   "mimetype": "text/x-python",
   "name": "python",
   "nbconvert_exporter": "python",
   "pygments_lexer": "ipython3",
   "version": "3.7.3"
  }
 },
 "nbformat": 4,
 "nbformat_minor": 2
}
