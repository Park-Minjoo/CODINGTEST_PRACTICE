{
 "cells": [
  {
   "cell_type": "markdown",
   "metadata": {},
   "source": [
    "## 2021년 6월 15일 화요일\n",
    "### BaekJoon - 이름궁합 테스트 (Python)\n",
    "### 문제 : https://www.acmicpc.net/problem/17269\n",
    "### 블로그 : https://somjang.tistory.com/entry/BaekJoon-17269%EB%B2%88-%EC%9D%B4%EB%A6%84%EA%B6%81%ED%95%A9-%ED%85%8C%EC%8A%A4%ED%8A%B8-Python"
   ]
  },
  {
   "cell_type": "markdown",
   "metadata": {},
   "source": [
    "### Solution"
   ]
  },
  {
   "cell_type": "code",
   "execution_count": null,
   "metadata": {},
   "outputs": [],
   "source": [
    "def get_compatibility_str(name1, name2, N, M):\n",
    "    compatibility_str = \"\"\n",
    "    temp = \"\"\n",
    "    if N <= M:\n",
    "        temp = name2[N:]\n",
    "    elif N > M:\n",
    "        temp = name1[M:]\n",
    "    \n",
    "    for i in range(min(N, M)):\n",
    "        compatibility_str = compatibility_str + name1[i] + name2[i]\n",
    "\n",
    "    return compatibility_str + temp\n",
    "        \n",
    "def get_compatibility_score(compatibility_str, score_dict):\n",
    "    scores = [alphabet_score[char] for char in list(compatibility_str)]\n",
    "    \n",
    "    for i in range(len(scores) - 2):\n",
    "        scores = [((scores[j] + scores[j+1]) % 10) for j in range(len(scores) - 1)]\n",
    "    \n",
    "    compatibility_score = \"\".join(list(map(str, scores)))\n",
    "    \n",
    "    return f\"{int(compatibility_score)}%\"\n",
    "            \n",
    "\n",
    "if __name__ == \"__main__\":\n",
    "    alphabet_score = {\n",
    "        \"A\":3, \"B\":2, \"C\":1, \"D\":2, \"E\":4, \"F\":3, \"G\":1, \"H\":3, \"I\":1, \"J\":1, \n",
    "        \"K\":3, \"L\":1, \"M\":3, \"N\":2, \"O\":1, \"P\":2, \"Q\":2, \"R\":2, \"S\":1, \"T\":2,\n",
    "        \"U\":1, \"V\":1, \"W\":1, \"X\":2, \"Y\":2, \"Z\":1\n",
    "    }\n",
    "    \n",
    "    N, M = map(int, input().split())\n",
    "    name1, name2 = input().split()\n",
    "    \n",
    "    compatibility_str = get_compatibility_str(name1, name2, N, M)\n",
    "    compatibility_score = get_compatibility_score(compatibility_str, alphabet_score)\n",
    "    \n",
    "    print(compatibility_score)"
   ]
  }
 ],
 "metadata": {
  "kernelspec": {
   "display_name": "Python 3",
   "language": "python",
   "name": "python3"
  },
  "language_info": {
   "codemirror_mode": {
    "name": "ipython",
    "version": 3
   },
   "file_extension": ".py",
   "mimetype": "text/x-python",
   "name": "python",
   "nbconvert_exporter": "python",
   "pygments_lexer": "ipython3",
   "version": "3.7.3"
  }
 },
 "nbformat": 4,
 "nbformat_minor": 2
}
