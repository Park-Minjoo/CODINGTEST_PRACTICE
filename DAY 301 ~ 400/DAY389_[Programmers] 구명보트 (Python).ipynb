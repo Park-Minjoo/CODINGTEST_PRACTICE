{
 "cells": [
  {
   "cell_type": "markdown",
   "metadata": {},
   "source": [
    "## 2021년 6월 8일 화요일\n",
    "### Programmers - 구명보트 (Python)\n",
    "### 문제 : https://programmers.co.kr/learn/courses/30/lessons/42885\n",
    "### 블로그 : https://somjang.tistory.com/entry/Programmers-%EA%B5%AC%EB%AA%85%EB%B3%B4%ED%8A%B8-Python"
   ]
  },
  {
   "cell_type": "markdown",
   "metadata": {},
   "source": [
    "### Solution"
   ]
  },
  {
   "cell_type": "code",
   "execution_count": null,
   "metadata": {},
   "outputs": [],
   "source": [
    "def solution(people, limit):\n",
    "    answer = 0\n",
    "    \n",
    "    people.sort()\n",
    "    \n",
    "    start, end = 0, len(people) - 1\n",
    "    \n",
    "    while start <= end:\n",
    "        answer += 1\n",
    "        if people[start] + people[end] <= limit:\n",
    "            start += 1\n",
    "        end -= 1\n",
    "    \n",
    "    return answer"
   ]
  }
 ],
 "metadata": {
  "kernelspec": {
   "display_name": "Python 3",
   "language": "python",
   "name": "python3"
  },
  "language_info": {
   "codemirror_mode": {
    "name": "ipython",
    "version": 3
   },
   "file_extension": ".py",
   "mimetype": "text/x-python",
   "name": "python",
   "nbconvert_exporter": "python",
   "pygments_lexer": "ipython3",
   "version": "3.7.3"
  }
 },
 "nbformat": 4,
 "nbformat_minor": 2
}
