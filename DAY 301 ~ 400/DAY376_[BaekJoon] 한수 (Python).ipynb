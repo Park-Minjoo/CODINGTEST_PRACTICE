{
 "cells": [
  {
   "cell_type": "markdown",
   "metadata": {},
   "source": [
    "## 2021년 5월 25일 화요일\n",
    "### BaekJoon - 한수 (Python)\n",
    "### 문제 : https://www.acmicpc.net/problem/1065번\n",
    "### 블로그 : https://somjang.tistory.com/entry/BaekJoon-1065%EB%B2%88-%ED%95%9C%EC%88%98-Python"
   ]
  },
  {
   "cell_type": "markdown",
   "metadata": {},
   "source": [
    "### Solution"
   ]
  },
  {
   "cell_type": "code",
   "execution_count": null,
   "metadata": {},
   "outputs": [],
   "source": [
    "def get_hansu_num(N):\n",
    "    if N < 100:\n",
    "        hansu = N\n",
    "    else:\n",
    "        hansu = 99\n",
    "        for i in range(100, N+1):\n",
    "            num_list = list(map(int, str(i)))\n",
    "            \n",
    "            if num_list[0] - num_list[1] == num_list[1] - num_list[2]:\n",
    "                hansu += 1\n",
    "    return hansu\n",
    "\n",
    "if __name__ == \"__main__\":\n",
    "    input_num = int(input())\n",
    "    \n",
    "    print(get_hansu_num(input_num))"
   ]
  }
 ],
 "metadata": {
  "kernelspec": {
   "display_name": "Python 3",
   "language": "python",
   "name": "python3"
  },
  "language_info": {
   "codemirror_mode": {
    "name": "ipython",
    "version": 3
   },
   "file_extension": ".py",
   "mimetype": "text/x-python",
   "name": "python",
   "nbconvert_exporter": "python",
   "pygments_lexer": "ipython3",
   "version": "3.7.3"
  }
 },
 "nbformat": 4,
 "nbformat_minor": 2
}
