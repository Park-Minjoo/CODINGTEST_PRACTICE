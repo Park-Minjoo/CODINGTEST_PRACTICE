{
 "cells": [
  {
   "cell_type": "markdown",
   "metadata": {},
   "source": [
    "## 2021년 5월 18일 화요일\n",
    "### JUNGOL - 세로읽기(Python)\n",
    "### 문제 : http://www.jungol.co.kr/bbs/board.php?bo_table=pbank&wr_id=2119&sca=2050\n",
    "### 블로그 : https://somjang.tistory.com/entry/JUNGOL-2857%EB%B2%88-%EC%84%B8%EB%A1%9C%EC%9D%BD%EA%B8%B0-Python"
   ]
  },
  {
   "cell_type": "markdown",
   "metadata": {},
   "source": [
    "### Solution"
   ]
  },
  {
   "cell_type": "code",
   "execution_count": null,
   "metadata": {},
   "outputs": [],
   "source": [
    "strings = []\n",
    "\n",
    "answer = []\n",
    "\n",
    "max_num = 0\n",
    "\n",
    "for _ in range(5):\n",
    "    string = input()\n",
    "    if max_num < len(string):\n",
    "        max_num = len(string)\n",
    "\n",
    "    strings.append(list(string))\n",
    "\n",
    "for i in range(max_num):\n",
    "    for j in range(5):\n",
    "        if i < len(strings[j]):\n",
    "            answer.append(strings[j][i])\n",
    "    \n",
    "print(\"\".join(answer))"
   ]
  }
 ],
 "metadata": {
  "kernelspec": {
   "display_name": "Python 3",
   "language": "python",
   "name": "python3"
  },
  "language_info": {
   "codemirror_mode": {
    "name": "ipython",
    "version": 3
   },
   "file_extension": ".py",
   "mimetype": "text/x-python",
   "name": "python",
   "nbconvert_exporter": "python",
   "pygments_lexer": "ipython3",
   "version": "3.7.3"
  }
 },
 "nbformat": 4,
 "nbformat_minor": 2
}
