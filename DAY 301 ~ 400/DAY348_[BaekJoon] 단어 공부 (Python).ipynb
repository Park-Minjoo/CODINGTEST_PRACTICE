{
 "cells": [
  {
   "cell_type": "markdown",
   "metadata": {},
   "source": [
    "## 2021년 4월 26일 월요일\n",
    "### BaekJoon - 단어 공부 (Python)\n",
    "### 문제 : https://www.acmicpc.net/problem/1157\n",
    "### 블로그 : https://somjang.tistory.com/entry/BaekJoon-1157%EB%B2%88-%EB%8B%A8%EC%96%B4-%EA%B3%B5%EB%B6%80-Python"
   ]
  },
  {
   "cell_type": "markdown",
   "metadata": {},
   "source": [
    "### Solution"
   ]
  },
  {
   "cell_type": "code",
   "execution_count": 1,
   "metadata": {},
   "outputs": [],
   "source": [
    "from collections import Counter\n",
    "\n",
    "inputStr = list(input().lower())\n",
    "\n",
    "cnt = Counter(inputStr)\n",
    "\n",
    "cnt_items = cnt.items()\n",
    "\n",
    "cnt_nums = [num[1] for num in cnt_items]\n",
    "\n",
    "max_num = max(cnt_nums)\n",
    "\n",
    "if cnt_nums.count(max_num) != 1:\n",
    "    print(\"?\")\n",
    "else:\n",
    "    most_common_word = cnt.most_common(1)\n",
    "    \n",
    "    print(most_common_word[0][0].upper())"
   ]
  }
 ],
 "metadata": {
  "kernelspec": {
   "display_name": "Python 3",
   "language": "python",
   "name": "python3"
  },
  "language_info": {
   "codemirror_mode": {
    "name": "ipython",
    "version": 3
   },
   "file_extension": ".py",
   "mimetype": "text/x-python",
   "name": "python",
   "nbconvert_exporter": "python",
   "pygments_lexer": "ipython3",
   "version": "3.7.3"
  }
 },
 "nbformat": 4,
 "nbformat_minor": 2
}
