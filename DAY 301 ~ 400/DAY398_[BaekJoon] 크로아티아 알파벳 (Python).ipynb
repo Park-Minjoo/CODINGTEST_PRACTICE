{
 "cells": [
  {
   "cell_type": "markdown",
   "metadata": {},
   "source": [
    "## 2021년 6월 17일 목요일\n",
    "### BaekJoon - 크로아티아 알파벳 (Python)\n",
    "### 문제 : https://www.acmicpc.net/problem/2941\n",
    "### 블로그 : https://somjang.tistory.com/entry/BaekJoon-2941%EB%B2%88-%ED%81%AC%EB%A1%9C%EC%95%84%ED%8B%B0%EC%95%84-%EC%95%8C%ED%8C%8C%EB%B2%B3-Python"
   ]
  },
  {
   "cell_type": "markdown",
   "metadata": {},
   "source": [
    "### Solution"
   ]
  },
  {
   "cell_type": "code",
   "execution_count": null,
   "metadata": {},
   "outputs": [],
   "source": [
    "def replace_croatia_alphabet_to_x(input_str):\n",
    "    croatia_alphabet = [\"c=\", \"c-\", \"dz=\", \"d-\", \"lj\", \"nj\", \"s=\", \"z=\"]\n",
    "\n",
    "    for croatia_alpha in croatia_alphabet:\n",
    "        input_str = input_str.replace(croatia_alpha, \"x\")\n",
    "            \n",
    "    return input_str\n",
    "    \n",
    "    \n",
    "if __name__ == \"__main__\":\n",
    "    input_str = input()\n",
    "    print(len(replace_croatia_alphabet_to_x(input_str)))"
   ]
  }
 ],
 "metadata": {
  "kernelspec": {
   "display_name": "Python 3",
   "language": "python",
   "name": "python3"
  },
  "language_info": {
   "codemirror_mode": {
    "name": "ipython",
    "version": 3
   },
   "file_extension": ".py",
   "mimetype": "text/x-python",
   "name": "python",
   "nbconvert_exporter": "python",
   "pygments_lexer": "ipython3",
   "version": "3.7.3"
  }
 },
 "nbformat": 4,
 "nbformat_minor": 2
}
