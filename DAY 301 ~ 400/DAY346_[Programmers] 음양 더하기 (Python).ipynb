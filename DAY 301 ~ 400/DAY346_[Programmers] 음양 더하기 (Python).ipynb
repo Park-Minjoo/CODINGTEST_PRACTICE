{
 "cells": [
  {
   "cell_type": "markdown",
   "metadata": {},
   "source": [
    "## 2021년 4월 24일 토요일\n",
    "### Programmers - 음양 더하기 (Python)\n",
    "### 문제 : https://programmers.co.kr/learn/courses/30/lessons/76501\n",
    "### 블로그 : https://somjang.tistory.com/entry/Programmers-%EC%9D%8C%EC%96%91-%EB%8D%94%ED%95%98%EA%B8%B0-Python"
   ]
  },
  {
   "cell_type": "markdown",
   "metadata": {},
   "source": [
    "### Solution"
   ]
  },
  {
   "cell_type": "code",
   "execution_count": 1,
   "metadata": {},
   "outputs": [],
   "source": [
    "def solution(absolutes, signs):\n",
    "    answer = 0\n",
    "    \n",
    "    for i in range(len(absolutes)):\n",
    "        minus = 1\n",
    "        \n",
    "        if not signs[i]:\n",
    "            minus = -1\n",
    "            \n",
    "        answer += minus * absolutes[i]\n",
    "    \n",
    "    return answer"
   ]
  }
 ],
 "metadata": {
  "kernelspec": {
   "display_name": "Python 3",
   "language": "python",
   "name": "python3"
  },
  "language_info": {
   "codemirror_mode": {
    "name": "ipython",
    "version": 3
   },
   "file_extension": ".py",
   "mimetype": "text/x-python",
   "name": "python",
   "nbconvert_exporter": "python",
   "pygments_lexer": "ipython3",
   "version": "3.7.3"
  }
 },
 "nbformat": 4,
 "nbformat_minor": 2
}
