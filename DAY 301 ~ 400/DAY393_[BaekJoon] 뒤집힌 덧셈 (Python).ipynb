{
 "cells": [
  {
   "cell_type": "markdown",
   "metadata": {},
   "source": [
    "## 2021년 6월 12일 토요일\n",
    "### BaekJoon - 뒤집힌 덧셈 (Python)\n",
    "### 문제 : https://www.acmicpc.net/problem/1357\n",
    "### 블로그 : https://somjang.tistory.com/entry/BaekJoon-1357%EB%B2%88-%EB%92%A4%EC%A7%91%ED%9E%8C-%EB%B0%B0%EC%97%B4-Python"
   ]
  },
  {
   "cell_type": "markdown",
   "metadata": {},
   "source": [
    "### Solution"
   ]
  },
  {
   "cell_type": "code",
   "execution_count": null,
   "metadata": {},
   "outputs": [],
   "source": [
    "def Rev(num):\n",
    "    return num[::-1]\n",
    "\n",
    "if __name__ == \"__main__\":\n",
    "    num1, num2 = input().split()\n",
    "    \n",
    "    print(int(Rev(str(int(Rev(num1)) + int(Rev(num2))))))"
   ]
  }
 ],
 "metadata": {
  "kernelspec": {
   "display_name": "Python 3",
   "language": "python",
   "name": "python3"
  },
  "language_info": {
   "codemirror_mode": {
    "name": "ipython",
    "version": 3
   },
   "file_extension": ".py",
   "mimetype": "text/x-python",
   "name": "python",
   "nbconvert_exporter": "python",
   "pygments_lexer": "ipython3",
   "version": "3.7.3"
  }
 },
 "nbformat": 4,
 "nbformat_minor": 2
}
