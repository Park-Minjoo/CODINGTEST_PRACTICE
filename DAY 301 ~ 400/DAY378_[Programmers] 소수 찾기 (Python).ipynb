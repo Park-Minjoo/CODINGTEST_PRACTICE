{
 "cells": [
  {
   "cell_type": "markdown",
   "metadata": {},
   "source": [
    "## 2021년 5월 27일 목요일\n",
    "### BaekJoon - 소수 찾기 (Python)\n",
    "### 문제 : https://programmers.co.kr/learn/courses/30/lessons/12921\n",
    "### 블로그 : https://somjang.tistory.com/entry/Programmers-%EC%86%8C%EC%88%98-%EC%B0%BE%EA%B8%B0-Python"
   ]
  },
  {
   "cell_type": "markdown",
   "metadata": {},
   "source": [
    "### Solution"
   ]
  },
  {
   "cell_type": "code",
   "execution_count": null,
   "metadata": {},
   "outputs": [],
   "source": [
    "def solution(N):\n",
    "    nums = [True] * (N + 1)\n",
    "    \n",
    "    for i in range(2, len(nums) // 2 + 1):\n",
    "        if nums[i]:\n",
    "            for j in range(i+i, N + 1, i):\n",
    "                nums[j] = False\n",
    "    return len([i for i in range(2, N + 1) if nums[i]])"
   ]
  }
 ],
 "metadata": {
  "kernelspec": {
   "display_name": "Python 3",
   "language": "python",
   "name": "python3"
  },
  "language_info": {
   "codemirror_mode": {
    "name": "ipython",
    "version": 3
   },
   "file_extension": ".py",
   "mimetype": "text/x-python",
   "name": "python",
   "nbconvert_exporter": "python",
   "pygments_lexer": "ipython3",
   "version": "3.7.3"
  }
 },
 "nbformat": 4,
 "nbformat_minor": 2
}
