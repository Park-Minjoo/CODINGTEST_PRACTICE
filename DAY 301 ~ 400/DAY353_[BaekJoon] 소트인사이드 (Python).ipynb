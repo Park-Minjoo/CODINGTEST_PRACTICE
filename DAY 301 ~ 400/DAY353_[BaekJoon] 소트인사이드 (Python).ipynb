{
 "cells": [
  {
   "cell_type": "markdown",
   "metadata": {},
   "source": [
    "## 2021년 5월 2일 일요일\n",
    "### BaekJoon - 소트인사이드 (Python)\n",
    "### 문제 : https://www.acmicpc.net/problem/1427\n",
    "### 블로그 : https://somjang.tistory.com/entry/BaekJoon-%EC%86%8C%ED%8A%B8%EC%9D%B8%EC%82%AC%EC%9D%B4%EB%93%9C-Python?category=351755"
   ]
  },
  {
   "cell_type": "markdown",
   "metadata": {},
   "source": [
    "### Solution"
   ]
  },
  {
   "cell_type": "code",
   "execution_count": 1,
   "metadata": {},
   "outputs": [],
   "source": [
    "def sort_inside(num):\n",
    "    sorted_num = sorted(list(num), reverse=True)\n",
    "    return int(\"\".join(sorted_num))\n",
    "\n",
    "\n",
    "if __name__ == \"__main__\":\n",
    "    input_num = input()\n",
    "    result = sort_inside(input_num)\n",
    "    print(result)\n",
    "    \n"
   ]
  }
 ],
 "metadata": {
  "kernelspec": {
   "display_name": "Python 3",
   "language": "python",
   "name": "python3"
  },
  "language_info": {
   "codemirror_mode": {
    "name": "ipython",
    "version": 3
   },
   "file_extension": ".py",
   "mimetype": "text/x-python",
   "name": "python",
   "nbconvert_exporter": "python",
   "pygments_lexer": "ipython3",
   "version": "3.7.3"
  }
 },
 "nbformat": 4,
 "nbformat_minor": 2
}
