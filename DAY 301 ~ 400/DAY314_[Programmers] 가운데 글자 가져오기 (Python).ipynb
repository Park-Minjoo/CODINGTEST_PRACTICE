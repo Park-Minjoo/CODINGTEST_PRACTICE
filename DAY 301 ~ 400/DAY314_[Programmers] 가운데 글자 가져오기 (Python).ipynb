{
 "cells": [
  {
   "cell_type": "markdown",
   "metadata": {},
   "source": [
    "## 2021년 2월 7일 일요일\n",
    "### Programmers - 가운데 글자 가져오기 (Python)\n",
    "### 문제 : https://programmers.co.kr/learn/courses/30/lessons/12903\n",
    "### 블로그 : https://somjang.tistory.com/entry/Programmers-%EA%B0%80%EC%9A%B4%EB%8D%B0-%EA%B8%80%EC%9E%90-%EA%B0%80%EC%A0%B8%EC%98%A4%EA%B8%B0-Python"
   ]
  },
  {
   "cell_type": "markdown",
   "metadata": {},
   "source": [
    "### 첫번째 시도"
   ]
  },
  {
   "cell_type": "code",
   "execution_count": null,
   "metadata": {},
   "outputs": [],
   "source": [
    "def solution(s):\n",
    "    answer = ''\n",
    "    \n",
    "    center = len(s) // 2\n",
    "    \n",
    "    if len(s) % 2 == 0:\n",
    "        answer = s[center-1:center+1]\n",
    "    else:\n",
    "        answer = s[center]\n",
    "    \n",
    "    return answer"
   ]
  }
 ],
 "metadata": {
  "kernelspec": {
   "display_name": "Python 3",
   "language": "python",
   "name": "python3"
  },
  "language_info": {
   "codemirror_mode": {
    "name": "ipython",
    "version": 3
   },
   "file_extension": ".py",
   "mimetype": "text/x-python",
   "name": "python",
   "nbconvert_exporter": "python",
   "pygments_lexer": "ipython3",
   "version": "3.7.3"
  }
 },
 "nbformat": 4,
 "nbformat_minor": 2
}
