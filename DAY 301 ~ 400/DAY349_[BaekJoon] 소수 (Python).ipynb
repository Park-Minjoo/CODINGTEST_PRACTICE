{
 "cells": [
  {
   "cell_type": "markdown",
   "metadata": {},
   "source": [
    "## 2021년 4월 27일 화요일\n",
    "### BaekJoon - 소수 (Python)\n",
    "### 문제 : https://www.acmicpc.net/problem/2581\n",
    "### 블로그 : https://somjang.tistory.com/entry/BaekJoon-2581%EB%B2%88-%EC%86%8C%EC%88%98-Python"
   ]
  },
  {
   "cell_type": "markdown",
   "metadata": {},
   "source": [
    "### Solution"
   ]
  },
  {
   "cell_type": "code",
   "execution_count": 1,
   "metadata": {},
   "outputs": [],
   "source": [
    "def get_primary_num_eratos(N):\n",
    "    nums = [True] * (N)\n",
    "    \n",
    "    for i in range(2, len(nums) // 2 + 1):\n",
    "        if nums[i] == True:\n",
    "            for j in range(i+i, N, i):\n",
    "                nums[j] = False\n",
    "    return [i for i in range(2, N) if nums[i] == True]\n",
    "\n",
    "def solution(A, B):\n",
    "    primary_nums = [num for num in get_primary_num_eratos(B + 1) if A <= num <= B]\n",
    "\n",
    "    if len(primary_nums) == 0:\n",
    "        print(\"-1\")\n",
    "    else:\n",
    "        print(sum(primary_nums))\n",
    "        print(min(primary_nums))\n",
    "    \n",
    "if __name__ == \"__main__\":\n",
    "    inputNum1 = int(input())\n",
    "    inputNum2 = int(input())\n",
    "    \n",
    "    solution(inputNum1, inputNum2)"
   ]
  }
 ],
 "metadata": {
  "kernelspec": {
   "display_name": "Python 3",
   "language": "python",
   "name": "python3"
  },
  "language_info": {
   "codemirror_mode": {
    "name": "ipython",
    "version": 3
   },
   "file_extension": ".py",
   "mimetype": "text/x-python",
   "name": "python",
   "nbconvert_exporter": "python",
   "pygments_lexer": "ipython3",
   "version": "3.7.3"
  }
 },
 "nbformat": 4,
 "nbformat_minor": 2
}
