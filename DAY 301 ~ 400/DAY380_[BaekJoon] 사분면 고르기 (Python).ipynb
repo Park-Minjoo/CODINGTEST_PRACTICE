{
 "cells": [
  {
   "cell_type": "markdown",
   "metadata": {},
   "source": [
    "## 2021년 5월 29일 토요일\n",
    "### BaekJoon - 사분면 고르기 (Python)\n",
    "### 문제 : https://www.acmicpc.net/problem/14681\n",
    "### 블로그 : https://somjang.tistory.com/entry/BaekJoon-14681%EB%B2%88-%EC%82%AC%EB%B6%84%EB%A9%B4-%EA%B3%A0%EB%A5%B4%EA%B8%B0-Python"
   ]
  },
  {
   "cell_type": "markdown",
   "metadata": {},
   "source": [
    "### Solution"
   ]
  },
  {
   "cell_type": "code",
   "execution_count": null,
   "metadata": {},
   "outputs": [],
   "source": [
    "def get_quadrant_info(x, y):\n",
    "    info = 0\n",
    "    if x > 0 and y > 0:\n",
    "        info = 1\n",
    "    elif x < 0 and y > 0:\n",
    "        info = 2\n",
    "    elif x < 0 and y < 0:\n",
    "        info = 3\n",
    "    elif x > 0 and y < 0:\n",
    "        info = 4\n",
    "        \n",
    "    return info\n",
    "\n",
    "\n",
    "if __name__ == \"__main__\":\n",
    "    x = int(input())\n",
    "    y = int(input())\n",
    "    \n",
    "    print(get_quadrant_info(x, y))"
   ]
  }
 ],
 "metadata": {
  "kernelspec": {
   "display_name": "Python 3",
   "language": "python",
   "name": "python3"
  },
  "language_info": {
   "codemirror_mode": {
    "name": "ipython",
    "version": 3
   },
   "file_extension": ".py",
   "mimetype": "text/x-python",
   "name": "python",
   "nbconvert_exporter": "python",
   "pygments_lexer": "ipython3",
   "version": "3.7.3"
  }
 },
 "nbformat": 4,
 "nbformat_minor": 2
}
