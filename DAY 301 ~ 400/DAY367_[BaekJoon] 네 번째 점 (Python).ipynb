{
 "cells": [
  {
   "cell_type": "markdown",
   "metadata": {},
   "source": [
    "## 2021년 5월 16일 일요일\n",
    "### BaekJoon - 네 번째 점 (Python)\n",
    "### 문제 : https://www.acmicpc.net/problem/3009\n",
    "### 블로그 : https://somjang.tistory.com/entry/BaekJoon-3009%EB%B2%88-%EB%84%A4-%EB%B2%88%EC%A7%B8-%EC%A0%90-Python"
   ]
  },
  {
   "cell_type": "markdown",
   "metadata": {},
   "source": [
    "### Solution"
   ]
  },
  {
   "cell_type": "code",
   "execution_count": null,
   "metadata": {},
   "outputs": [],
   "source": [
    "x_points, y_points = [], []\n",
    "\n",
    "return_x, return_y = None, None\n",
    "\n",
    "for _ in range(3):\n",
    "    x_point, y_point = input().split()\n",
    "    \n",
    "    x_points.append(x_point)\n",
    "    y_points.append(y_point)\n",
    "        \n",
    "for i in range(3):\n",
    "    if x_points.count(x_points[i]) == 1:\n",
    "        return_x = x_points[i]\n",
    "    if y_points.count(y_points[i]) == 1:\n",
    "        return_y = y_points[i]\n",
    "\n",
    "print(f\"{return_x} {return_y}\")"
   ]
  }
 ],
 "metadata": {
  "kernelspec": {
   "display_name": "Python 3",
   "language": "python",
   "name": "python3"
  },
  "language_info": {
   "codemirror_mode": {
    "name": "ipython",
    "version": 3
   },
   "file_extension": ".py",
   "mimetype": "text/x-python",
   "name": "python",
   "nbconvert_exporter": "python",
   "pygments_lexer": "ipython3",
   "version": "3.7.3"
  }
 },
 "nbformat": 4,
 "nbformat_minor": 2
}
