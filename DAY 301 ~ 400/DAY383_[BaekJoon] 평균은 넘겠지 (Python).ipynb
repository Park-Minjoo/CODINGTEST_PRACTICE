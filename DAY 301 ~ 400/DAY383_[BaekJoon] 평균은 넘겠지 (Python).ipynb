{
 "cells": [
  {
   "cell_type": "markdown",
   "metadata": {},
   "source": [
    "## 2021년 6월 2일 수요일\n",
    "### BaekJoon - 평균은 넘겠지 (Python)\n",
    "### 문제 : https://www.acmicpc.net/problem/4344\n",
    "### 블로그 : https://somjang.tistory.com/entry/BaekJoon-%ED%8F%89%EA%B7%A0%EC%9D%80-%EB%84%98%EA%B2%A0%EC%A7%80-Python"
   ]
  },
  {
   "cell_type": "markdown",
   "metadata": {},
   "source": [
    "### Solution"
   ]
  },
  {
   "cell_type": "code",
   "execution_count": null,
   "metadata": {},
   "outputs": [],
   "source": [
    "for _ in range(int(input())):\n",
    "    numbers = list(map(int, input().split()))\n",
    "    avg = sum(numbers[1:]) / numbers[0]\n",
    "    \n",
    "    avg_high_score = [score for score in numbers[1:] if score > avg]\n",
    "    \n",
    "    rate = len(avg_high_score) / numbers[0] * 100\n",
    "    \n",
    "    print(f'{rate:.3f}%')"
   ]
  }
 ],
 "metadata": {
  "kernelspec": {
   "display_name": "Python 3",
   "language": "python",
   "name": "python3"
  },
  "language_info": {
   "codemirror_mode": {
    "name": "ipython",
    "version": 3
   },
   "file_extension": ".py",
   "mimetype": "text/x-python",
   "name": "python",
   "nbconvert_exporter": "python",
   "pygments_lexer": "ipython3",
   "version": "3.7.3"
  }
 },
 "nbformat": 4,
 "nbformat_minor": 2
}
