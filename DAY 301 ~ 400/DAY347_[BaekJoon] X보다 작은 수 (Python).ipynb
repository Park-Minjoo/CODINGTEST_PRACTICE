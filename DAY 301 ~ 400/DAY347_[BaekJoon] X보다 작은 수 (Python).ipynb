{
 "cells": [
  {
   "cell_type": "markdown",
   "metadata": {},
   "source": [
    "## 2021년 4월 25일 일요일\n",
    "### BaekJoon - X보다 작은 수 (Python)\n",
    "### 문제 : https://www.acmicpc.net/problem/10871\n",
    "### 블로그 : https://somjang.tistory.com/entry/BaekJoon-10871%EB%B2%88-X%EB%B3%B4%EB%8B%A4-%EC%9E%91%EC%9D%80-%EC%88%98-Python"
   ]
  },
  {
   "cell_type": "markdown",
   "metadata": {},
   "source": [
    "### Solution"
   ]
  },
  {
   "cell_type": "code",
   "execution_count": 1,
   "metadata": {},
   "outputs": [],
   "source": [
    "inputNums = list(map(int, input().split()))\n",
    "numList = list(map(int, input().split()))\n",
    "\n",
    "answer = [num for num in numList if num < inputNums[1]]\n",
    "\n",
    "print(\" \".join(list(map(str, answer))))"
   ]
  }
 ],
 "metadata": {
  "kernelspec": {
   "display_name": "Python 3",
   "language": "python",
   "name": "python3"
  },
  "language_info": {
   "codemirror_mode": {
    "name": "ipython",
    "version": 3
   },
   "file_extension": ".py",
   "mimetype": "text/x-python",
   "name": "python",
   "nbconvert_exporter": "python",
   "pygments_lexer": "ipython3",
   "version": "3.7.3"
  }
 },
 "nbformat": 4,
 "nbformat_minor": 2
}
