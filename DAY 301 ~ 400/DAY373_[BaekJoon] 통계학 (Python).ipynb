{
 "cells": [
  {
   "cell_type": "markdown",
   "metadata": {},
   "source": [
    "## 2021년 5월 22일 토요일\n",
    "### BaekJoon - 통계학 (Python)\n",
    "### 문제 : https://www.acmicpc.net/problem/2108\n",
    "### 블로그 : https://somjang.tistory.com/entry/BaekJoon-2108%EB%B2%88-%ED%86%B5%EA%B3%84%ED%95%99-Python"
   ]
  },
  {
   "cell_type": "markdown",
   "metadata": {},
   "source": [
    "### Solution (PyPy3)"
   ]
  },
  {
   "cell_type": "code",
   "execution_count": null,
   "metadata": {},
   "outputs": [],
   "source": [
    "from collections import Counter\n",
    "\n",
    "numbers = []\n",
    "for _ in range(int(input())):\n",
    "    num = int(input())\n",
    "    numbers.append(num)\n",
    "\n",
    "numbers.sort()\n",
    "\n",
    "cnt = Counter(numbers).most_common(2)\n",
    "\n",
    "print(round(sum(numbers) / len(numbers)))\n",
    "print(numbers[len(numbers) // 2])\n",
    "if len(numbers) > 1:\n",
    "    if cnt[0][1] == cnt[1][1]:\n",
    "        print(cnt[1][0])\n",
    "    else:\n",
    "        print(cnt[0][0])\n",
    "else:\n",
    "    print(cnt[0][0])\n",
    "print(max(numbers) - min(numbers))"
   ]
  },
  {
   "cell_type": "markdown",
   "metadata": {},
   "source": [
    "### Solution (Python3)"
   ]
  },
  {
   "cell_type": "code",
   "execution_count": null,
   "metadata": {},
   "outputs": [],
   "source": [
    "from collections import Counter\n",
    "import sys\n",
    "\n",
    "numbers = []\n",
    "for _ in range(int(sys.stdin.readline())):\n",
    "    num = int(sys.stdin.readline())\n",
    "    numbers.append(num)\n",
    "\n",
    "numbers.sort()\n",
    "\n",
    "cnt = Counter(numbers).most_common(2)\n",
    "\n",
    "print(round(sum(numbers) / len(numbers)))\n",
    "print(numbers[len(numbers) // 2])\n",
    "if len(numbers) > 1:\n",
    "    if cnt[0][1] == cnt[1][1]:\n",
    "        print(cnt[1][0])\n",
    "    else:\n",
    "        print(cnt[0][0])\n",
    "else:\n",
    "    print(cnt[0][0])\n",
    "print(max(numbers) - min(numbers))"
   ]
  }
 ],
 "metadata": {
  "kernelspec": {
   "display_name": "Python 3",
   "language": "python",
   "name": "python3"
  },
  "language_info": {
   "codemirror_mode": {
    "name": "ipython",
    "version": 3
   },
   "file_extension": ".py",
   "mimetype": "text/x-python",
   "name": "python",
   "nbconvert_exporter": "python",
   "pygments_lexer": "ipython3",
   "version": "3.7.3"
  }
 },
 "nbformat": 4,
 "nbformat_minor": 2
}
