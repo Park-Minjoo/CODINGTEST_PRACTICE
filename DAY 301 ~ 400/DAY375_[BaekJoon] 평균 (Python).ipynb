{
 "cells": [
  {
   "cell_type": "markdown",
   "metadata": {},
   "source": [
    "## 2021년 5월 24일 월요일\n",
    "### BaekJoon - 평균 (Python)\n",
    "### 문제 : https://www.acmicpc.net/problem/1546\n",
    "### 블로그 : https://somjang.tistory.com/entry/BaekJoon-1546%EB%B2%88-%ED%8F%89%EA%B7%A0-Python"
   ]
  },
  {
   "cell_type": "markdown",
   "metadata": {},
   "source": [
    "### Solution"
   ]
  },
  {
   "cell_type": "code",
   "execution_count": null,
   "metadata": {},
   "outputs": [],
   "source": [
    "import sys\n",
    "\n",
    "input_num = int(input())\n",
    "scores = list(map(int, input().split()))\n",
    "\n",
    "max_score = max(scores)\n",
    "\n",
    "new_scores = [ score / (max_score * 100) for score in scores ]\n",
    "\n",
    "print(sum(new_scores) / input_num * 10000)"
   ]
  }
 ],
 "metadata": {
  "kernelspec": {
   "display_name": "Python 3",
   "language": "python",
   "name": "python3"
  },
  "language_info": {
   "codemirror_mode": {
    "name": "ipython",
    "version": 3
   },
   "file_extension": ".py",
   "mimetype": "text/x-python",
   "name": "python",
   "nbconvert_exporter": "python",
   "pygments_lexer": "ipython3",
   "version": "3.7.3"
  }
 },
 "nbformat": 4,
 "nbformat_minor": 2
}
