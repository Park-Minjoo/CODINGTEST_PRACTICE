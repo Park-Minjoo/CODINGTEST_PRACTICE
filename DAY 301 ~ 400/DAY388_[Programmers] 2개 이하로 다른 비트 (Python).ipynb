{
 "cells": [
  {
   "cell_type": "markdown",
   "metadata": {},
   "source": [
    "## 2021년 6월 7일 월요일\n",
    "### Programmers - 2개 이하로 다른 비트 (Python)\n",
    "### 문제 : https://programmers.co.kr/learn/courses/30/lessons/77885\n",
    "### 블로그 : https://somjang.tistory.com/entry/Programmers-2%EA%B0%9C-%EC%9D%B4%ED%95%98%EB%A1%9C-%EB%8B%A4%EB%A5%B8-%EB%B9%84%ED%8A%B8-Python"
   ]
  },
  {
   "cell_type": "markdown",
   "metadata": {},
   "source": [
    "### Solution"
   ]
  },
  {
   "cell_type": "code",
   "execution_count": null,
   "metadata": {},
   "outputs": [],
   "source": [
    "def solution(numbers):\n",
    "    answer = []\n",
    "    \n",
    "    for number in numbers:\n",
    "        if number % 2 == 0:\n",
    "            binary_num = list(bin(number)[2:])\n",
    "            binary_num[-1] = \"1\"\n",
    "        else:\n",
    "            binary_num = bin(number)[2:]\n",
    "            binary_num = \"0\" + binary_num\n",
    "            one_idx = binary_num.rfind(\"0\")\n",
    "            binary_num = list(binary_num)\n",
    "            binary_num[one_idx] = \"1\"\n",
    "            binary_num[one_idx + 1] = \"0\"\n",
    "            \n",
    "        ans_num = int(\"\".join(binary_num), 2)\n",
    "        answer.append(ans_num)\n",
    "    \n",
    "    return answer"
   ]
  }
 ],
 "metadata": {
  "kernelspec": {
   "display_name": "Python 3",
   "language": "python",
   "name": "python3"
  },
  "language_info": {
   "codemirror_mode": {
    "name": "ipython",
    "version": 3
   },
   "file_extension": ".py",
   "mimetype": "text/x-python",
   "name": "python",
   "nbconvert_exporter": "python",
   "pygments_lexer": "ipython3",
   "version": "3.7.3"
  }
 },
 "nbformat": 4,
 "nbformat_minor": 2
}
