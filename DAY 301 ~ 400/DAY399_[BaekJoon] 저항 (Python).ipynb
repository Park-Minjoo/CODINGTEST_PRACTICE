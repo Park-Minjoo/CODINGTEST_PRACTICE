{
 "cells": [
  {
   "cell_type": "markdown",
   "metadata": {},
   "source": [
    "## 2021년 6월 18일 금요일\n",
    "### BaekJoon - 저항 (Python)\n",
    "### 문제 : https://www.acmicpc.net/problem/1076\n",
    "### 블로그 : https://somjang.tistory.com/entry/BaekJoon-1076%EB%B2%88-%EC%A0%80%ED%95%AD-Python"
   ]
  },
  {
   "cell_type": "markdown",
   "metadata": {},
   "source": [
    "### Solution"
   ]
  },
  {
   "cell_type": "code",
   "execution_count": null,
   "metadata": {},
   "outputs": [],
   "source": [
    "def get_resistance(colors, resistance_info):\n",
    "    return int(str(resistance_info[colors[0]][0]) + str(resistance_info[colors[1]][0])) * resistance_info[colors[2]][1]\n",
    "\n",
    "if __name__ == \"__main__\":\n",
    "    resistance_dict = {\n",
    "        \"black\": [0, 1], \"brown\": [1, 10], \"red\": [2, 100], \"orange\": [3, 1000],\n",
    "        \"yellow\": [4, 10000], \"green\": [5, 100000], \"blue\": [6, 1000000], \n",
    "        \"violet\": [7, 10000000], \"grey\": [8, 100000000], \"white\": [9, 1000000000]\n",
    "    }\n",
    "    colors = []\n",
    "    for i in range(3):\n",
    "        input_color = input()\n",
    "        colors.append(input_color)\n",
    "        \n",
    "    print(get_resistance(colors, resistance_dict))"
   ]
  }
 ],
 "metadata": {
  "kernelspec": {
   "display_name": "Python 3",
   "language": "python",
   "name": "python3"
  },
  "language_info": {
   "codemirror_mode": {
    "name": "ipython",
    "version": 3
   },
   "file_extension": ".py",
   "mimetype": "text/x-python",
   "name": "python",
   "nbconvert_exporter": "python",
   "pygments_lexer": "ipython3",
   "version": "3.7.3"
  }
 },
 "nbformat": 4,
 "nbformat_minor": 2
}
