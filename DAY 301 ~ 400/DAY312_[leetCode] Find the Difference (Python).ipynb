{
 "cells": [
  {
   "cell_type": "markdown",
   "metadata": {},
   "source": [
    "## 2021년 2월 3일 수요일\n",
    "### leetCode - Find the Difference (Python)\n",
    "### 문제 : https://leetcode.com/problems/find-the-difference/\n",
    "### 블로그 : https://somjang.tistory.com/entry/leetCode-389-Find-the-Difference-Python"
   ]
  },
  {
   "cell_type": "markdown",
   "metadata": {},
   "source": [
    "### 첫번째 시도"
   ]
  },
  {
   "cell_type": "code",
   "execution_count": null,
   "metadata": {},
   "outputs": [],
   "source": [
    "from collections import Counter\n",
    "\n",
    "class Solution:\n",
    "    def findTheDifference(self, s: str, t: str) -> str:   \n",
    "        cnt_s = Counter(list(s))\n",
    "        cnt_t = Counter(list(t))\n",
    "        \n",
    "        s_keys = list(cnt_s.keys())\n",
    "        \n",
    "        for key in s_keys:\n",
    "            cnt_t[key] = cnt_t[key] - cnt_s[key]\n",
    "        \n",
    "        \n",
    "            \n",
    "        t_items = [item[0] for item in cnt_t.items() if item[1] != 0]\n",
    "        \n",
    "        answer = \"\".join(t_items)      \n",
    "        \n",
    "            \n",
    "        return answer"
   ]
  }
 ],
 "metadata": {
  "kernelspec": {
   "display_name": "Python 3",
   "language": "python",
   "name": "python3"
  },
  "language_info": {
   "codemirror_mode": {
    "name": "ipython",
    "version": 3
   },
   "file_extension": ".py",
   "mimetype": "text/x-python",
   "name": "python",
   "nbconvert_exporter": "python",
   "pygments_lexer": "ipython3",
   "version": "3.7.3"
  }
 },
 "nbformat": 4,
 "nbformat_minor": 2
}
