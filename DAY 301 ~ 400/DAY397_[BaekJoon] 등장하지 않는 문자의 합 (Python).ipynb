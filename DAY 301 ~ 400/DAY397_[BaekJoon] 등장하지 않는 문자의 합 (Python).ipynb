{
 "cells": [
  {
   "cell_type": "markdown",
   "metadata": {},
   "source": [
    "## 2021년 6월 16일 수요일\n",
    "### BaekJoon - 등장하지 않는 문자의 합 (Python)\n",
    "### 문제 : https://www.acmicpc.net/problem/3059\n",
    "### 블로그 : https://somjang.tistory.com/entry/BaekJoon-3059%EB%B2%88-%EB%93%B1%EC%9E%A5%ED%95%98%EC%A7%80-%EC%95%8A%EB%8A%94-%EB%AC%B8%EC%9E%90%EC%9D%98-%ED%95%A9-Python"
   ]
  },
  {
   "cell_type": "markdown",
   "metadata": {},
   "source": [
    "### Solution"
   ]
  },
  {
   "cell_type": "code",
   "execution_count": null,
   "metadata": {},
   "outputs": [],
   "source": [
    "def get_not_appearing_word_sum(input_list):\n",
    "    input_str_ascii_list = set([ord(char) for char in input_list])\n",
    "    \n",
    "    not_appearing = [num for num in range(ord('A'), ord('Z') + 1) if num not in input_str_ascii_list]\n",
    "    \n",
    "    return sum(not_appearing)\n",
    "    \n",
    "\n",
    "if __name__ == \"__main__\":\n",
    "    for i in range(int(input())):\n",
    "        input_list = list(input())\n",
    "    \n",
    "        print(get_not_appearing_word_sum(input_list))"
   ]
  }
 ],
 "metadata": {
  "kernelspec": {
   "display_name": "Python 3",
   "language": "python",
   "name": "python3"
  },
  "language_info": {
   "codemirror_mode": {
    "name": "ipython",
    "version": 3
   },
   "file_extension": ".py",
   "mimetype": "text/x-python",
   "name": "python",
   "nbconvert_exporter": "python",
   "pygments_lexer": "ipython3",
   "version": "3.7.3"
  }
 },
 "nbformat": 4,
 "nbformat_minor": 2
}
