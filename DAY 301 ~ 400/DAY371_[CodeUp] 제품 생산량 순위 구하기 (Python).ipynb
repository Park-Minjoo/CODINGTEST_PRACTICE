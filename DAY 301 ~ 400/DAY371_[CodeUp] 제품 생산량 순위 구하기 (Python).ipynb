{
 "cells": [
  {
   "cell_type": "markdown",
   "metadata": {},
   "source": [
    "## 2021년 5월 20일 목요일\n",
    "### CodeUp - 제품 생산량 순위 구하기 (Python)\n",
    "### 문제 : https://codeup.kr/problem.php?id=1676&rid=0\n",
    "### 블로그 : https://somjang.tistory.com/entry/CodeUp-1676%EB%B2%88-%EC%A0%9C%ED%92%88-%EC%83%9D%EC%82%B0%EB%9F%89-%EC%88%9C%EC%9C%84-%EA%B5%AC%ED%95%98%EA%B8%B0-Python"
   ]
  },
  {
   "cell_type": "markdown",
   "metadata": {},
   "source": [
    "### Solution"
   ]
  },
  {
   "cell_type": "code",
   "execution_count": null,
   "metadata": {},
   "outputs": [],
   "source": [
    "sales_rates = []\n",
    "\n",
    "input_num = int(input())\n",
    "\n",
    "for i in range(input_num):\n",
    "    sales_rate = int(input())\n",
    "    sales_rates.append(sales_rate)\n",
    "    \n",
    "sorted_rates = sorted(sales_rates, reverse=True)\n",
    "\n",
    "rank_dict = dict()\n",
    "\n",
    "for i, rate in enumerate(sorted_rates):\n",
    "    if rate not in rank_dict.keys():\n",
    "        rank_dict[rate] = i+1        \n",
    "    \n",
    "for rate in sales_rates:\n",
    "    print(rank_dict[rate])"
   ]
  }
 ],
 "metadata": {
  "kernelspec": {
   "display_name": "Python 3",
   "language": "python",
   "name": "python3"
  },
  "language_info": {
   "codemirror_mode": {
    "name": "ipython",
    "version": 3
   },
   "file_extension": ".py",
   "mimetype": "text/x-python",
   "name": "python",
   "nbconvert_exporter": "python",
   "pygments_lexer": "ipython3",
   "version": "3.7.3"
  }
 },
 "nbformat": 4,
 "nbformat_minor": 2
}
