{
 "cells": [
  {
   "cell_type": "markdown",
   "metadata": {},
   "source": [
    "## 2021년 6월 4일 금요일\n",
    "### BaekJoon - 곱셈 (Python)\n",
    "### 문제 : https://www.acmicpc.net/problem/2588\n",
    "### 블로그 : https://somjang.tistory.com/entry/BaekJoon-2588%EB%B2%88-%EA%B3%B1%EC%85%88-Python"
   ]
  },
  {
   "cell_type": "markdown",
   "metadata": {},
   "source": [
    "### Solution"
   ]
  },
  {
   "cell_type": "code",
   "execution_count": null,
   "metadata": {},
   "outputs": [],
   "source": [
    "num1 = int(input())\n",
    "num2 = input()\n",
    "\n",
    "for num in list(num2[::-1]):\n",
    "    print(num1 * int(num))\n",
    "\n",
    "print(num1 * int(num2))"
   ]
  }
 ],
 "metadata": {
  "kernelspec": {
   "display_name": "Python 3",
   "language": "python",
   "name": "python3"
  },
  "language_info": {
   "codemirror_mode": {
    "name": "ipython",
    "version": 3
   },
   "file_extension": ".py",
   "mimetype": "text/x-python",
   "name": "python",
   "nbconvert_exporter": "python",
   "pygments_lexer": "ipython3",
   "version": "3.7.3"
  }
 },
 "nbformat": 4,
 "nbformat_minor": 2
}
