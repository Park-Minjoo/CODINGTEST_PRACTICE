{
 "cells": [
  {
   "cell_type": "markdown",
   "metadata": {},
   "source": [
    "## 2021년 5월 15일 토요일\n",
    "### BaekJoon - 팰린드롬수 (Python)\n",
    "### 문제 : https://www.acmicpc.net/problem/1259\n",
    "### 블로그 : https://somjang.tistory.com/entry/BaekJoon-1259%EB%B2%88-%ED%8C%B0%EB%A6%B0%EB%93%9C%EB%A1%AC%EC%88%98-Python"
   ]
  },
  {
   "cell_type": "markdown",
   "metadata": {},
   "source": [
    "### Solution"
   ]
  },
  {
   "cell_type": "code",
   "execution_count": null,
   "metadata": {},
   "outputs": [],
   "source": [
    "while True:\n",
    "    input_num = input()\n",
    "    \n",
    "    if input_num == \"0\":\n",
    "        break\n",
    "    \n",
    "    answer = \"no\"\n",
    "\n",
    "    if input_num == input_num[::-1]:\n",
    "        answer = \"yes\"\n",
    "    \n",
    "    print(answer)"
   ]
  }
 ],
 "metadata": {
  "kernelspec": {
   "display_name": "Python 3",
   "language": "python",
   "name": "python3"
  },
  "language_info": {
   "codemirror_mode": {
    "name": "ipython",
    "version": 3
   },
   "file_extension": ".py",
   "mimetype": "text/x-python",
   "name": "python",
   "nbconvert_exporter": "python",
   "pygments_lexer": "ipython3",
   "version": "3.7.3"
  }
 },
 "nbformat": 4,
 "nbformat_minor": 2
}
