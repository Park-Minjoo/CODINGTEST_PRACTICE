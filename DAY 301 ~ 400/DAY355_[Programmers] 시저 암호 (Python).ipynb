{
 "cells": [
  {
   "cell_type": "markdown",
   "metadata": {},
   "source": [
    "## 2021년 5월 4일 화요일\n",
    "### Programmers - 시저 암호 (Python)\n",
    "### 문제 : https://programmers.co.kr/learn/courses/30/lessons/12926\n",
    "### 블로그 : https://somjang.tistory.com/entry/Programmers-%EC%8B%9C%EC%A0%80-%EC%95%94%ED%98%B8-Python"
   ]
  },
  {
   "cell_type": "markdown",
   "metadata": {},
   "source": [
    "### Solution"
   ]
  },
  {
   "cell_type": "code",
   "execution_count": 1,
   "metadata": {},
   "outputs": [],
   "source": [
    "def solution(s, n):    \n",
    "    list_s = list(s)\n",
    "    for i in range(len(list_s)):\n",
    "        if list_s[i] != \" \":\n",
    "            if list_s[i].islower():\n",
    "                list_s[i] = chr((ord(list_s[i]) - ord('a') + n) % 26 + ord('a'))\n",
    "            elif list_s[i].isupper():\n",
    "                list_s[i] = chr((ord(list_s[i]) - ord('A') + n) % 26 + ord('A'))\n",
    "    \n",
    "    return \"\".join(list_s)"
   ]
  }
 ],
 "metadata": {
  "kernelspec": {
   "display_name": "Python 3",
   "language": "python",
   "name": "python3"
  },
  "language_info": {
   "codemirror_mode": {
    "name": "ipython",
    "version": 3
   },
   "file_extension": ".py",
   "mimetype": "text/x-python",
   "name": "python",
   "nbconvert_exporter": "python",
   "pygments_lexer": "ipython3",
   "version": "3.7.3"
  }
 },
 "nbformat": 4,
 "nbformat_minor": 2
}
