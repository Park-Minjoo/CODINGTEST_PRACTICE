{
 "cells": [
  {
   "cell_type": "markdown",
   "metadata": {},
   "source": [
    "## 2021년 5월 8일 토요일\n",
    "### Programmers - N개의 최소공배수 (Python)\n",
    "### 문제 : https://programmers.co.kr/learn/courses/30/lessons/12953\n",
    "### 블로그 : https://somjang.tistory.com/entry/Programmers-N%EA%B0%9C%EC%9D%98-%EC%B5%9C%EC%86%8C%EA%B3%B5%EB%B0%B0%EC%88%98-Python"
   ]
  },
  {
   "cell_type": "markdown",
   "metadata": {},
   "source": [
    "### Solution"
   ]
  },
  {
   "cell_type": "code",
   "execution_count": 1,
   "metadata": {},
   "outputs": [],
   "source": [
    "def gcd(a, b):\n",
    "    mod = a % b\n",
    "    while mod > 0:\n",
    "        a = b\n",
    "        b = mod\n",
    "        mod = a % b\n",
    "    return b\n",
    "\n",
    "def solution(arr):\n",
    "    answer = 0\n",
    "    arr.sort(reverse=True)\n",
    "    \n",
    "    for i in range(len(arr)-1):\n",
    "        b = gcd(arr[i], arr[i+1])\n",
    "        arr[i+1] = (arr[i]*arr[i+1]) / b\n",
    "    \n",
    "    answer = arr[-1]\n",
    "    return answer"
   ]
  }
 ],
 "metadata": {
  "kernelspec": {
   "display_name": "Python 3",
   "language": "python",
   "name": "python3"
  },
  "language_info": {
   "codemirror_mode": {
    "name": "ipython",
    "version": 3
   },
   "file_extension": ".py",
   "mimetype": "text/x-python",
   "name": "python",
   "nbconvert_exporter": "python",
   "pygments_lexer": "ipython3",
   "version": "3.7.3"
  }
 },
 "nbformat": 4,
 "nbformat_minor": 2
}
