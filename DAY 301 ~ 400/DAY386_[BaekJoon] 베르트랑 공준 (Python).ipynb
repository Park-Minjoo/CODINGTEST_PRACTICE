{
 "cells": [
  {
   "cell_type": "markdown",
   "metadata": {},
   "source": [
    "## 2021년 6월 5일 토요일\n",
    "### BaekJoon - 베르트랑 공준 (Python)\n",
    "### 문제 : https://www.acmicpc.net/problem/4948\n",
    "### 블로그 : https://somjang.tistory.com/entry/BaekJoon-4948%EB%B2%88-%EB%B2%A0%EB%A5%B4%ED%8A%B8%EB%9E%91-%EA%B3%B5%EC%A4%80-Python"
   ]
  },
  {
   "cell_type": "markdown",
   "metadata": {},
   "source": [
    "### Solution"
   ]
  },
  {
   "cell_type": "code",
   "execution_count": null,
   "metadata": {},
   "outputs": [],
   "source": [
    "def getPrimaryNum_Eratos(N):\n",
    "    nums = [True] * (N)\n",
    "    for i in range(2, int(N**0.5) + 1):\n",
    "        if nums[i] == True:\n",
    "            for j in range(i+i ,N, i):\n",
    "                nums[j] = False\n",
    "    return [i for i in range(2, N) if nums[i] == True]\n",
    "\n",
    "while True:\n",
    "    N = int(input())\n",
    "    \n",
    "    if N == 0:\n",
    "        break\n",
    "    prime_list = getPrimaryNum_Eratos(2*N + 1)\n",
    "    answer_list = [num for num in prime_list if num > N]\n",
    "    print(len(answer_list))"
   ]
  }
 ],
 "metadata": {
  "kernelspec": {
   "display_name": "Python 3",
   "language": "python",
   "name": "python3"
  },
  "language_info": {
   "codemirror_mode": {
    "name": "ipython",
    "version": 3
   },
   "file_extension": ".py",
   "mimetype": "text/x-python",
   "name": "python",
   "nbconvert_exporter": "python",
   "pygments_lexer": "ipython3",
   "version": "3.7.3"
  }
 },
 "nbformat": 4,
 "nbformat_minor": 2
}
