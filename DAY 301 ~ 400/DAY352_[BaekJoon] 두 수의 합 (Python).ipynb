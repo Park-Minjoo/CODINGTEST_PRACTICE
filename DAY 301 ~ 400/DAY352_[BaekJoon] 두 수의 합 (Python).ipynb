{
 "cells": [
  {
   "cell_type": "markdown",
   "metadata": {},
   "source": [
    "## 2021년 5월 1일 토요일\n",
    "### BaekJoon - 두 수의 합 (Python)\n",
    "### 문제 : https://programmers.co.kr/learn/courses/30/lessons/12925\n",
    "### 블로그 : https://somjang.tistory.com/entry/BaekJoon-%EB%91%90-%EC%88%98%EC%9D%98-%ED%95%A9-Python"
   ]
  },
  {
   "cell_type": "markdown",
   "metadata": {},
   "source": [
    "### Solution"
   ]
  },
  {
   "cell_type": "code",
   "execution_count": 1,
   "metadata": {},
   "outputs": [],
   "source": [
    "import sys\n",
    "\n",
    "numbers_len = int(sys.stdin.readline())\n",
    "numbers = sorted(list(map(int, sys.stdin.readline().split())))\n",
    "sum_num = int(sys.stdin.readline())\n",
    "\n",
    "left, right = 0, numbers_len -1\n",
    "\n",
    "count = 0\n",
    "\n",
    "while left < right:\n",
    "    check_num = numbers[left] + numbers[right]\n",
    "    \n",
    "    if check_num == sum_num:\n",
    "        count += 1\n",
    "    if check_num < sum_num:\n",
    "        left += 1\n",
    "        continue\n",
    "    right -= 1\n",
    "        \n",
    "print(count)"
   ]
  }
 ],
 "metadata": {
  "kernelspec": {
   "display_name": "Python 3",
   "language": "python",
   "name": "python3"
  },
  "language_info": {
   "codemirror_mode": {
    "name": "ipython",
    "version": 3
   },
   "file_extension": ".py",
   "mimetype": "text/x-python",
   "name": "python",
   "nbconvert_exporter": "python",
   "pygments_lexer": "ipython3",
   "version": "3.7.3"
  }
 },
 "nbformat": 4,
 "nbformat_minor": 2
}
