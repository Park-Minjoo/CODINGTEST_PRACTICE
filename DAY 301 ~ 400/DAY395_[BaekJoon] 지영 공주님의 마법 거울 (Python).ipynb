{
 "cells": [
  {
   "cell_type": "markdown",
   "metadata": {},
   "source": [
    "## 2021년 6월 14일 월요일\n",
    "### BaekJoon - 지영 공주님의 마법 거울 (Python)\n",
    "### 문제 : https://www.acmicpc.net/problem/11586\n",
    "### 블로그 : https://somjang.tistory.com/entry/BaekJoon-11586%EB%B2%88-%EC%A7%80%EC%98%81-%EA%B3%B5%EC%A3%BC%EB%8B%98%EC%9D%98-%EB%A7%88%EB%B2%95-%EA%B1%B0%EC%9A%B8-Python"
   ]
  },
  {
   "cell_type": "markdown",
   "metadata": {},
   "source": [
    "### Solution"
   ]
  },
  {
   "cell_type": "code",
   "execution_count": null,
   "metadata": {},
   "outputs": [],
   "source": [
    "def magic_mirror(jiyoung_list, mind_num):\n",
    "    if mind_num == 2:\n",
    "        for i in range(len(jiyoung_list)):\n",
    "            jiyoung_list[i] = jiyoung_list[i][::-1]\n",
    "    elif mind_num == 3:\n",
    "        jiyoung_list = jiyoung_list[::-1]\n",
    "        \n",
    "    return jiyoung_list\n",
    "\n",
    "if __name__ == \"__main__\":\n",
    "    jiyoung = []\n",
    "    for i in range(int(input())):\n",
    "        input_str = input()\n",
    "        jiyoung.append(input_str)\n",
    "    mind_num = int(input())\n",
    "    \n",
    "    magic_mirror_list = magic_mirror(jiyoung, mind_num)\n",
    "    \n",
    "    for i in range(len(magic_mirror_list)):\n",
    "        print(magic_mirror_list[i])"
   ]
  }
 ],
 "metadata": {
  "kernelspec": {
   "display_name": "Python 3",
   "language": "python",
   "name": "python3"
  },
  "language_info": {
   "codemirror_mode": {
    "name": "ipython",
    "version": 3
   },
   "file_extension": ".py",
   "mimetype": "text/x-python",
   "name": "python",
   "nbconvert_exporter": "python",
   "pygments_lexer": "ipython3",
   "version": "3.7.3"
  }
 },
 "nbformat": 4,
 "nbformat_minor": 2
}
