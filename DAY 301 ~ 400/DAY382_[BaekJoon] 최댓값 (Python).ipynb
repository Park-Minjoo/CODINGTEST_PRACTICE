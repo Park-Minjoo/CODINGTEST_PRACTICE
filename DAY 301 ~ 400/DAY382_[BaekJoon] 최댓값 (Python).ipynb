{
 "cells": [
  {
   "cell_type": "markdown",
   "metadata": {},
   "source": [
    "## 2021년 6월 1일 화요일\n",
    "### BaekJoon - 최댓값 (Python)\n",
    "### 문제 : https://www.acmicpc.net/problem/2562\n",
    "### 블로그 : https://somjang.tistory.com/entry/BaekJoon-2562%EB%B2%88-%EC%B5%9C%EB%8C%93%EA%B0%92-Python"
   ]
  },
  {
   "cell_type": "markdown",
   "metadata": {},
   "source": [
    "### Solution"
   ]
  },
  {
   "cell_type": "code",
   "execution_count": null,
   "metadata": {},
   "outputs": [],
   "source": [
    "numbers = []\n",
    "\n",
    "for _ in range(9):\n",
    "    num = int(input())\n",
    "    numbers.append(num)\n",
    "    \n",
    "max_num = max(numbers)\n",
    "index = numbers.index(max_num) + 1\n",
    "print(max_num)\n",
    "print(index)"
   ]
  }
 ],
 "metadata": {
  "kernelspec": {
   "display_name": "Python 3",
   "language": "python",
   "name": "python3"
  },
  "language_info": {
   "codemirror_mode": {
    "name": "ipython",
    "version": 3
   },
   "file_extension": ".py",
   "mimetype": "text/x-python",
   "name": "python",
   "nbconvert_exporter": "python",
   "pygments_lexer": "ipython3",
   "version": "3.7.3"
  }
 },
 "nbformat": 4,
 "nbformat_minor": 2
}
