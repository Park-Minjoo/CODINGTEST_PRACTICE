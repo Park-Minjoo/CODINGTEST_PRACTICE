{
 "cells": [
  {
   "cell_type": "markdown",
   "metadata": {},
   "source": [
    "## 2021년 3월 27일 토요일\n",
    "### Programmers - 멀리뛰기 (Python)\n",
    "### 문제 : https://programmers.co.kr/learn/courses/30/lessons/12914\n",
    "### 블로그 : https://somjang.tistory.com/entry/Programmers-%EB%A9%80%EB%A6%AC%EB%9B%B0%EA%B8%B0-Python"
   ]
  },
  {
   "cell_type": "markdown",
   "metadata": {},
   "source": [
    "### Solution 1"
   ]
  },
  {
   "cell_type": "code",
   "execution_count": 1,
   "metadata": {},
   "outputs": [],
   "source": [
    "def solution(n):\n",
    "    temp = dict()\n",
    "    \n",
    "    temp[0] = 1\n",
    "    temp[1] = 1\n",
    "        \n",
    "    for i in range(2, n+1):\n",
    "        temp[i] = temp[i-1] + temp[i-2]\n",
    "    \n",
    "    answer = temp[n] % 1234567    \n",
    "    return answer"
   ]
  }
 ],
 "metadata": {
  "kernelspec": {
   "display_name": "Python 3",
   "language": "python",
   "name": "python3"
  },
  "language_info": {
   "codemirror_mode": {
    "name": "ipython",
    "version": 3
   },
   "file_extension": ".py",
   "mimetype": "text/x-python",
   "name": "python",
   "nbconvert_exporter": "python",
   "pygments_lexer": "ipython3",
   "version": "3.7.3"
  }
 },
 "nbformat": 4,
 "nbformat_minor": 2
}
