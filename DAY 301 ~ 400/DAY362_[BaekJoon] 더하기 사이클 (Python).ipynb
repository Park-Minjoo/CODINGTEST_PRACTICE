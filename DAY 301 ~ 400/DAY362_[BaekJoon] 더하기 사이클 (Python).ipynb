{
 "cells": [
  {
   "cell_type": "markdown",
   "metadata": {},
   "source": [
    "## 2021년 5월 11일 화요일\n",
    "### BaekJoon - 더하기 사이클 (Python)\n",
    "### 문제 : https://www.acmicpc.net/problem/1110\n",
    "### 블로그 : https://somjang.tistory.com/entry/BaekJoon-1110%EB%B2%88-%EB%8D%94%ED%95%98%EA%B8%B0-%EC%82%AC%EC%9D%B4%ED%81%B4-Python"
   ]
  },
  {
   "cell_type": "markdown",
   "metadata": {},
   "source": [
    "### Solution"
   ]
  },
  {
   "cell_type": "code",
   "execution_count": null,
   "metadata": {},
   "outputs": [],
   "source": [
    "input_num = temp = int(input())\n",
    "\n",
    "cnt = 0\n",
    "\n",
    "while True:\n",
    "    num1 = temp // 10\n",
    "    num2 = temp % 10\n",
    "    sum_num = num1 + num2\n",
    "    \n",
    "    temp = int(str(num2) + str(sum_num % 10))\n",
    "    \n",
    "    cnt += 1\n",
    "    \n",
    "    if input_num == temp:\n",
    "        break\n",
    "    \n",
    "print(cnt)"
   ]
  }
 ],
 "metadata": {
  "kernelspec": {
   "display_name": "Python 3",
   "language": "python",
   "name": "python3"
  },
  "language_info": {
   "codemirror_mode": {
    "name": "ipython",
    "version": 3
   },
   "file_extension": ".py",
   "mimetype": "text/x-python",
   "name": "python",
   "nbconvert_exporter": "python",
   "pygments_lexer": "ipython3",
   "version": "3.7.3"
  }
 },
 "nbformat": 4,
 "nbformat_minor": 2
}
