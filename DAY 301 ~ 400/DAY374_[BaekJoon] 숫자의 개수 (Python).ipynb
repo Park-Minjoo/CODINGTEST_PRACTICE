{
 "cells": [
  {
   "cell_type": "markdown",
   "metadata": {},
   "source": [
    "## 2021년 5월 23일 일요일\n",
    "### BaekJoon - 숫자의 개수 (Python)\n",
    "### 문제 : https://www.acmicpc.net/problem/2577\n",
    "### 블로그 : https://somjang.tistory.com/entry/BaekJoon-2577%EB%B2%88-%EC%88%AB%EC%9E%90%EC%9D%98-%EA%B0%9C%EC%88%98-Python"
   ]
  },
  {
   "cell_type": "markdown",
   "metadata": {},
   "source": [
    "### Solution"
   ]
  },
  {
   "cell_type": "code",
   "execution_count": null,
   "metadata": {},
   "outputs": [],
   "source": [
    "from collections import Counter\n",
    "\n",
    "num1 = int(input())\n",
    "num2 = int(input())\n",
    "num3 = int(input())\n",
    "\n",
    "x_num = list(str(num1 * num2 * num3))\n",
    "\n",
    "cnt = Counter(x_num)\n",
    "\n",
    "for i in range(10):\n",
    "    if str(i) in cnt.keys():\n",
    "        print(cnt[str(i)])\n",
    "    else:\n",
    "        print(0)"
   ]
  }
 ],
 "metadata": {
  "kernelspec": {
   "display_name": "Python 3",
   "language": "python",
   "name": "python3"
  },
  "language_info": {
   "codemirror_mode": {
    "name": "ipython",
    "version": 3
   },
   "file_extension": ".py",
   "mimetype": "text/x-python",
   "name": "python",
   "nbconvert_exporter": "python",
   "pygments_lexer": "ipython3",
   "version": "3.7.3"
  }
 },
 "nbformat": 4,
 "nbformat_minor": 2
}
