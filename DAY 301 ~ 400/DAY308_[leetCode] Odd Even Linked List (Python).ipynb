{
 "cells": [
  {
   "cell_type": "markdown",
   "metadata": {},
   "source": [
    "## 2021년 1월 30일 토요일\n",
    "### leetCode - Odd Even Linked List (Python)\n",
    "### 문제 : https://leetcode.com/problems/odd-even-linked-list/\n",
    "### 블로그 : https://somjang.tistory.com/entry/leetCode-328-Odd-Even-Linked-List-Python"
   ]
  },
  {
   "cell_type": "markdown",
   "metadata": {},
   "source": [
    "### 첫번째 시도"
   ]
  },
  {
   "cell_type": "code",
   "execution_count": null,
   "metadata": {},
   "outputs": [],
   "source": [
    "# Definition for singly-linked list.\n",
    "# class ListNode:\n",
    "#     def __init__(self, val=0, next=None):\n",
    "#         self.val = val\n",
    "#         self.next = next\n",
    "class Solution:\n",
    "    def oddEvenList(self, head: ListNode) -> ListNode:\n",
    "        odd_nums = []\n",
    "        even_nums = []\n",
    "        \n",
    "        cnt = 0\n",
    "        \n",
    "        while True:\n",
    "            if head == None:\n",
    "                break\n",
    "            \n",
    "            val = head.val\n",
    "            \n",
    "            if cnt % 2 == 0:\n",
    "                even_nums.append(val)\n",
    "            else:\n",
    "                odd_nums.append(val)\n",
    "            head = head.next\n",
    "            cnt = cnt + 1\n",
    "            \n",
    "        answerList = ListNode(0)\n",
    "        \n",
    "        result = answerList\n",
    "        \n",
    "        for i in range(len(even_nums)):\n",
    "            answerList.next = ListNode(even_nums[i])\n",
    "            answerList = answerList.next\n",
    "            \n",
    "        for i in range(len(odd_nums)):\n",
    "            answerList.next = ListNode(odd_nums[i])\n",
    "            answerList = answerList.next\n",
    "                \n",
    "        return result.next"
   ]
  }
 ],
 "metadata": {
  "kernelspec": {
   "display_name": "Python 3",
   "language": "python",
   "name": "python3"
  },
  "language_info": {
   "codemirror_mode": {
    "name": "ipython",
    "version": 3
   },
   "file_extension": ".py",
   "mimetype": "text/x-python",
   "name": "python",
   "nbconvert_exporter": "python",
   "pygments_lexer": "ipython3",
   "version": "3.7.3"
  }
 },
 "nbformat": 4,
 "nbformat_minor": 2
}
