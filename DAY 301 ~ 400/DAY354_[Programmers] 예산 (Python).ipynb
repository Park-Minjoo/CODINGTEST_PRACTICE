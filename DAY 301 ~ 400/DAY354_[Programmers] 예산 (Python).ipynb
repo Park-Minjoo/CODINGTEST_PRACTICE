{
 "cells": [
  {
   "cell_type": "markdown",
   "metadata": {},
   "source": [
    "## 2021년 5월 3일 월요일\n",
    "### Programmers - 예산 (Python)\n",
    "### 문제 : https://programmers.co.kr/learn/courses/30/lessons/12982\n",
    "### 블로그 : https://somjang.tistory.com/entry/Programmers-%EC%98%88%EC%82%B0-Python"
   ]
  },
  {
   "cell_type": "markdown",
   "metadata": {},
   "source": [
    "### Solution"
   ]
  },
  {
   "cell_type": "code",
   "execution_count": 1,
   "metadata": {},
   "outputs": [],
   "source": [
    "def solution(d, budget):\n",
    "    answer = 0\n",
    "    use_money = 0\n",
    "    \n",
    "    sorted_d = sorted(d)\n",
    "    \n",
    "    for money in sorted_d:\n",
    "        use_money += money\n",
    "        if budget < use_money:\n",
    "            break\n",
    "        answer += 1\n",
    "    \n",
    "    return answer"
   ]
  }
 ],
 "metadata": {
  "kernelspec": {
   "display_name": "Python 3",
   "language": "python",
   "name": "python3"
  },
  "language_info": {
   "codemirror_mode": {
    "name": "ipython",
    "version": 3
   },
   "file_extension": ".py",
   "mimetype": "text/x-python",
   "name": "python",
   "nbconvert_exporter": "python",
   "pygments_lexer": "ipython3",
   "version": "3.7.3"
  }
 },
 "nbformat": 4,
 "nbformat_minor": 2
}
