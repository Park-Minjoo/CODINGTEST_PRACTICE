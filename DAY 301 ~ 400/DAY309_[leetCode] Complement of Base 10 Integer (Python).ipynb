{
 "cells": [
  {
   "cell_type": "markdown",
   "metadata": {},
   "source": [
    "## 2021년 1월 31일 일요일\n",
    "### leetCode - Complement of Base 10 Integer (Python)\n",
    "### 문제 : https://leetcode.com/problems/complement-of-base-10-integer/\n",
    "### 블로그 : https://somjang.tistory.com/entry/leetCode-1009-Complement-of-Base-10-Integer-Python"
   ]
  },
  {
   "cell_type": "markdown",
   "metadata": {},
   "source": [
    "### 첫번째 시도"
   ]
  },
  {
   "cell_type": "code",
   "execution_count": null,
   "metadata": {},
   "outputs": [],
   "source": [
    "class Solution:\n",
    "    def bitwiseComplement(self, N: int) -> int:\n",
    "        return int(\"\".join(list(map(str, [1-num for num in list(map(int, list(str(bin(N))[2:])))]))), 2)"
   ]
  }
 ],
 "metadata": {
  "kernelspec": {
   "display_name": "Python 3",
   "language": "python",
   "name": "python3"
  },
  "language_info": {
   "codemirror_mode": {
    "name": "ipython",
    "version": 3
   },
   "file_extension": ".py",
   "mimetype": "text/x-python",
   "name": "python",
   "nbconvert_exporter": "python",
   "pygments_lexer": "ipython3",
   "version": "3.7.3"
  }
 },
 "nbformat": 4,
 "nbformat_minor": 2
}
