{
 "cells": [
  {
   "cell_type": "markdown",
   "metadata": {},
   "source": [
    "## 2021년 5월 12일 수요일\n",
    "### BaekJoon - 수 찾기 (Python)\n",
    "### 문제 : https://www.acmicpc.net/problem/1920\n",
    "### 블로그 : https://somjang.tistory.com/entry/BaekJoon-1920%EB%B2%88-%EC%88%98-%EC%B0%BE%EA%B8%B0-Python"
   ]
  },
  {
   "cell_type": "markdown",
   "metadata": {},
   "source": [
    "### Solution"
   ]
  },
  {
   "cell_type": "code",
   "execution_count": null,
   "metadata": {},
   "outputs": [],
   "source": [
    "input_num = int(input())\n",
    "numbers = list(map(int, input().split()))\n",
    "numbers.sort()\n",
    "\n",
    "input_num2 = int(input())\n",
    "numbers2 = list(map(int, input().split()))\n",
    "\n",
    "for num in numbers2:\n",
    "    left, right = 0, len(numbers) - 1\n",
    "    \n",
    "    is_find = False\n",
    "    \n",
    "    while True:\n",
    "        median = (left + right) // 2\n",
    "        if num == numbers[median]:\n",
    "            print(1)\n",
    "            is_find = True\n",
    "            break\n",
    "        elif num > numbers[median]:\n",
    "            left = median + 1\n",
    "        elif num < numbers[median]:\n",
    "            right = median - 1\n",
    "            \n",
    "        if left > right:\n",
    "            break\n",
    "            \n",
    "    if not is_find:\n",
    "        print(0)"
   ]
  }
 ],
 "metadata": {
  "kernelspec": {
   "display_name": "Python 3",
   "language": "python",
   "name": "python3"
  },
  "language_info": {
   "codemirror_mode": {
    "name": "ipython",
    "version": 3
   },
   "file_extension": ".py",
   "mimetype": "text/x-python",
   "name": "python",
   "nbconvert_exporter": "python",
   "pygments_lexer": "ipython3",
   "version": "3.7.3"
  }
 },
 "nbformat": 4,
 "nbformat_minor": 2
}
