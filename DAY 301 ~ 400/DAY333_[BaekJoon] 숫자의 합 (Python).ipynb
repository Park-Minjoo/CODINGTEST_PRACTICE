{
 "cells": [
  {
   "cell_type": "markdown",
   "metadata": {},
   "source": [
    "## 2021년 4월 5일 월요일\n",
    "### BaekJoon - 숫자의 합 (Python)\n",
    "### 문제 : https://www.acmicpc.net/problem/11720\n",
    "### 블로그 : https://somjang.tistory.com/entry/BaekJoon-11720%EB%B2%88-%EC%88%AB%EC%9E%90%EC%9D%98-%ED%95%A9-Python"
   ]
  },
  {
   "cell_type": "markdown",
   "metadata": {},
   "source": [
    "### Solution 1"
   ]
  },
  {
   "cell_type": "code",
   "execution_count": 1,
   "metadata": {},
   "outputs": [],
   "source": [
    "inputNum = input()\n",
    "nums = input()\n",
    "\n",
    "numberList = sum(map(int, list(nums)))\n",
    "\n",
    "print(numberList)"
   ]
  }
 ],
 "metadata": {
  "kernelspec": {
   "display_name": "Python 3",
   "language": "python",
   "name": "python3"
  },
  "language_info": {
   "codemirror_mode": {
    "name": "ipython",
    "version": 3
   },
   "file_extension": ".py",
   "mimetype": "text/x-python",
   "name": "python",
   "nbconvert_exporter": "python",
   "pygments_lexer": "ipython3",
   "version": "3.7.3"
  }
 },
 "nbformat": 4,
 "nbformat_minor": 2
}
