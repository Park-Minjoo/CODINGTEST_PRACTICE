{
 "cells": [
  {
   "cell_type": "markdown",
   "metadata": {},
   "source": [
    "## 2021년 5월 19일 수요일\n",
    "### CodeUp - 대표 문자열 (Python)\n",
    "### 문제 : https://codeup.kr/problem.php?id=2807&rid=0\n",
    "### 블로그 : https://somjang.tistory.com/entry/CodeUp-2807%EB%B2%88-%EB%8C%80%ED%91%9C-%EB%AC%B8%EC%9E%90%EC%97%B4-Python"
   ]
  },
  {
   "cell_type": "markdown",
   "metadata": {},
   "source": [
    "### Solution"
   ]
  },
  {
   "cell_type": "code",
   "execution_count": null,
   "metadata": {},
   "outputs": [],
   "source": [
    "from collections import Counter\n",
    "\n",
    "string = list(input())\n",
    "\n",
    "cnt = Counter(string).most_common(2)\n",
    "\n",
    "sorted_items = sorted(cnt, key=lambda x: (-x[1], x[0]))\n",
    "\n",
    "print(sorted_items[0][0])"
   ]
  }
 ],
 "metadata": {
  "kernelspec": {
   "display_name": "Python 3",
   "language": "python",
   "name": "python3"
  },
  "language_info": {
   "codemirror_mode": {
    "name": "ipython",
    "version": 3
   },
   "file_extension": ".py",
   "mimetype": "text/x-python",
   "name": "python",
   "nbconvert_exporter": "python",
   "pygments_lexer": "ipython3",
   "version": "3.7.3"
  }
 },
 "nbformat": 4,
 "nbformat_minor": 2
}
