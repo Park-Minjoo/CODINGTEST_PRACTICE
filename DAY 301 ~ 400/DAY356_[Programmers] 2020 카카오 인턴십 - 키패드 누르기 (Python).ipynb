{
 "cells": [
  {
   "cell_type": "markdown",
   "metadata": {},
   "source": [
    "## 2021년 5월 5일 수요일\n",
    "### Programmers - 2020 카카오 인턴십 - 키패드 누르기 (Python)\n",
    "### 문제 : https://programmers.co.kr/learn/courses/30/lessons/67256\n",
    "### 블로그 : https://somjang.tistory.com/entry/Programmers-2020-%EC%B9%B4%EC%B9%B4%EC%98%A4-%EC%9D%B8%ED%84%B4%EC%8B%AD-%ED%82%A4%ED%8C%A8%EB%93%9C-%EB%88%84%EB%A5%B4%EA%B8%B0-Python"
   ]
  },
  {
   "cell_type": "markdown",
   "metadata": {},
   "source": [
    "### Solution"
   ]
  },
  {
   "cell_type": "code",
   "execution_count": 1,
   "metadata": {},
   "outputs": [],
   "source": [
    "def get_distance(keypad, finger_position, next_number):\n",
    "    next_number_position = keypad[next_number]\n",
    "    \n",
    "    distance = abs(finger_position[0] - next_number_position[0]) + abs(finger_position[1] - next_number_position[1])\n",
    "    \n",
    "    return distance\n",
    "\n",
    "def solution(numbers, hand):\n",
    "    result = ''\n",
    "    \n",
    "    keypad = {\n",
    "        1: [0, 0], 2: [0, 1], 3: [0, 2],\n",
    "        4: [1, 0], 5: [1, 1], 6: [1, 2],\n",
    "        7: [2, 0], 8: [2, 1], 9: [2, 2],\n",
    "        0: [3, 1]\n",
    "    }\n",
    "    \n",
    "    left_finger_numbers = [1, 4, 7]\n",
    "    right_finger_numbers = [3, 6, 9]\n",
    "    center_finger_numbers = [2, 5, 8, 0]\n",
    "    \n",
    "    left_finger_position = [3, 0]\n",
    "    right_finger_position = [3, 2]\n",
    "    \n",
    "    for number in numbers:\n",
    "        if number in left_finger_numbers:\n",
    "            result += 'L'\n",
    "            left_finger_position = keypad[number]\n",
    "        elif number in right_finger_numbers:\n",
    "            result += 'R'\n",
    "            right_finger_position = keypad[number]\n",
    "            \n",
    "        else:\n",
    "            left_finger_distance = get_distance(keypad, left_finger_position, number)\n",
    "            right_finger_distance = get_distance(keypad, right_finger_position, number)\n",
    "            \n",
    "            if left_finger_distance > right_finger_distance:\n",
    "                result += 'R'\n",
    "                right_finger_position = keypad[number]\n",
    "            elif left_finger_distance < right_finger_distance:\n",
    "                result += 'L'\n",
    "                left_finger_position = keypad[number]\n",
    "            elif left_finger_distance == right_finger_distance:\n",
    "                result += hand[0].upper()\n",
    "                if hand == 'right':\n",
    "                    right_finger_position = keypad[number]\n",
    "                elif hand == 'left':\n",
    "                    left_finger_position = keypad[number]      \n",
    "        \n",
    "    return result\n",
    "    "
   ]
  }
 ],
 "metadata": {
  "kernelspec": {
   "display_name": "Python 3",
   "language": "python",
   "name": "python3"
  },
  "language_info": {
   "codemirror_mode": {
    "name": "ipython",
    "version": 3
   },
   "file_extension": ".py",
   "mimetype": "text/x-python",
   "name": "python",
   "nbconvert_exporter": "python",
   "pygments_lexer": "ipython3",
   "version": "3.7.3"
  }
 },
 "nbformat": 4,
 "nbformat_minor": 2
}
