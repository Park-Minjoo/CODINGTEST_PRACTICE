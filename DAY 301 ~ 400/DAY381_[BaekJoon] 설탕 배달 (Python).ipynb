{
 "cells": [
  {
   "cell_type": "markdown",
   "metadata": {},
   "source": [
    "## 2021년 5월 31일 월요일\n",
    "### BaekJoon - 설탕 배달 (Python)\n",
    "### 문제 : https://www.acmicpc.net/problem/2839\n",
    "### 블로그 : https://somjang.tistory.com/entry/BaekJoon-2839%EB%B2%88-%EC%84%A4%ED%83%95%EB%B0%B0%EB%8B%AC-Python"
   ]
  },
  {
   "cell_type": "markdown",
   "metadata": {},
   "source": [
    "### Solution"
   ]
  },
  {
   "cell_type": "code",
   "execution_count": null,
   "metadata": {},
   "outputs": [],
   "source": [
    "sugar = int(input())\n",
    "\n",
    "delivery = 0\n",
    "while sugar >= 0 :\n",
    "    if sugar % 5 == 0 :\n",
    "        delivery = delivery + (sugar // 5)\n",
    "        print(delivery)\n",
    "        break\n",
    "    sugar = sugar - 3  \n",
    "    delivery = delivery + 1\n",
    "else :\n",
    "    print(-1)"
   ]
  }
 ],
 "metadata": {
  "kernelspec": {
   "display_name": "Python 3",
   "language": "python",
   "name": "python3"
  },
  "language_info": {
   "codemirror_mode": {
    "name": "ipython",
    "version": 3
   },
   "file_extension": ".py",
   "mimetype": "text/x-python",
   "name": "python",
   "nbconvert_exporter": "python",
   "pygments_lexer": "ipython3",
   "version": "3.7.3"
  }
 },
 "nbformat": 4,
 "nbformat_minor": 2
}
