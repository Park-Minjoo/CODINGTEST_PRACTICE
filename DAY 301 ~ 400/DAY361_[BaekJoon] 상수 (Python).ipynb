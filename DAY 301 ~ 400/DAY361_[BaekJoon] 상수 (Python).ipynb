{
 "cells": [
  {
   "cell_type": "markdown",
   "metadata": {},
   "source": [
    "## 2021년 5월 10일 월요일\n",
    "### BaekJoon - 상수 (Python)\n",
    "### 문제 : https://www.acmicpc.net/problem/2908\n",
    "### 블로그 : https://somjang.tistory.com/entry/BaekJoon-2908%EB%B2%88-%EC%83%81%EC%88%98-Python"
   ]
  },
  {
   "cell_type": "markdown",
   "metadata": {},
   "source": [
    "### Solution"
   ]
  },
  {
   "cell_type": "code",
   "execution_count": null,
   "metadata": {},
   "outputs": [],
   "source": [
    "num1, num2 = input().split(\" \")\n",
    "\n",
    "sangsu1, sangsu2 = int(num1[::-1]), int(num2[::-1])\n",
    "\n",
    "if sangsu1 > sangsu2:\n",
    "    print(sangsu1)\n",
    "else:\n",
    "    print(sangsu2)"
   ]
  }
 ],
 "metadata": {
  "kernelspec": {
   "display_name": "Python 3",
   "language": "python",
   "name": "python3"
  },
  "language_info": {
   "codemirror_mode": {
    "name": "ipython",
    "version": 3
   },
   "file_extension": ".py",
   "mimetype": "text/x-python",
   "name": "python",
   "nbconvert_exporter": "python",
   "pygments_lexer": "ipython3",
   "version": "3.7.3"
  }
 },
 "nbformat": 4,
 "nbformat_minor": 2
}
