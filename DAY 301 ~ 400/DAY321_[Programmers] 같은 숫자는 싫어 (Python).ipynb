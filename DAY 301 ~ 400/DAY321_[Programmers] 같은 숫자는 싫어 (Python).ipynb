{
 "cells": [
  {
   "cell_type": "markdown",
   "metadata": {},
   "source": [
    "## 2021년 2월 21일 일요일\n",
    "### Programmers - 같은 숫자는 싫어 (Python)\n",
    "### 문제 : https://programmers.co.kr/learn/courses/30/lessons/12906\n",
    "### 블로그 : https://somjang.tistory.com/entry/Programmers-%EA%B0%99%EC%9D%80-%EC%88%AB%EC%9E%90%EB%8A%94-%EC%8B%AB%EC%96%B4-Python"
   ]
  },
  {
   "cell_type": "markdown",
   "metadata": {},
   "source": [
    "### Solution 1"
   ]
  },
  {
   "cell_type": "code",
   "execution_count": null,
   "metadata": {},
   "outputs": [],
   "source": [
    "def solution(arr):\n",
    "    answer = []\n",
    "    \n",
    "    before_num = arr[0]\n",
    "    \n",
    "    answer.append(before_num)\n",
    "    \n",
    "    for i in range(1, len(arr)):\n",
    "        if before_num != arr[i]:\n",
    "            answer.append(arr[i])\n",
    "            before_num = arr[i]\n",
    "        \n",
    "    \n",
    "    return answer"
   ]
  }
 ],
 "metadata": {
  "kernelspec": {
   "display_name": "Python 3",
   "language": "python",
   "name": "python3"
  },
  "language_info": {
   "codemirror_mode": {
    "name": "ipython",
    "version": 3
   },
   "file_extension": ".py",
   "mimetype": "text/x-python",
   "name": "python",
   "nbconvert_exporter": "python",
   "pygments_lexer": "ipython3",
   "version": "3.7.3"
  }
 },
 "nbformat": 4,
 "nbformat_minor": 2
}
