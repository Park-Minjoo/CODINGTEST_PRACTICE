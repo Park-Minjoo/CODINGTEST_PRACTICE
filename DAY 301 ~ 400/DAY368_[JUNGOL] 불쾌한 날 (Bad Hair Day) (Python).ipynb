{
 "cells": [
  {
   "cell_type": "markdown",
   "metadata": {},
   "source": [
    "## 2021년 5월 17일 월요일\n",
    "### JUNGOL - 불쾌한 날 (Bad Hair Day) (Python)\n",
    "### 문제 : http://www.jungol.co.kr/bbs/board.php?bo_table=pbank&wr_id=421&sca=3020\n",
    "### 블로그 : https://somjang.tistory.com/entry/JUNGOL-1516%EB%B2%88-%EB%8B%A8%EC%96%B4-%EC%84%B8%EA%B8%B0-Python"
   ]
  },
  {
   "cell_type": "markdown",
   "metadata": {},
   "source": [
    "### Solution"
   ]
  },
  {
   "cell_type": "code",
   "execution_count": 13,
   "metadata": {},
   "outputs": [
    {
     "name": "stdout",
     "output_type": "stream",
     "text": [
      "I AM DOG DOG DOG DOG A AM I\n",
      "A : 1\n",
      "AM : 2\n",
      "DOG : 4\n",
      "I : 2\n",
      "I AM OLYMPIAD JUNGOL JUNGOL OLYMPIAD\n",
      "AM : 1\n",
      "I : 1\n",
      "JUNGOL : 2\n",
      "OLYMPIAD : 2\n",
      "END\n"
     ]
    }
   ],
   "source": [
    "from collections import Counter\n",
    "\n",
    "while True:\n",
    "    input_str = input()\n",
    "    if input_str == \"END\":\n",
    "        break\n",
    "    \n",
    "    words = input_str.split(\" \")\n",
    "    \n",
    "    word_cnt_items = sorted(Counter(words).items(), key=lambda x: x[0])\n",
    "\n",
    "    for item in word_cnt_items:\n",
    "        print(f\"{item[0]} : {item[1]}\")"
   ]
  },
  {
   "cell_type": "markdown",
   "metadata": {},
   "source": [
    "### Solution 2"
   ]
  },
  {
   "cell_type": "code",
   "execution_count": 14,
   "metadata": {},
   "outputs": [
    {
     "name": "stdout",
     "output_type": "stream",
     "text": [
      "I AM DOG DOG DOG DOG A AM I\n",
      "A : 1\n",
      "AM : 2\n",
      "DOG : 4\n",
      "I : 2\n",
      "I AM OLYMPIAD JUNGOL JUNGOL OLYMPIAD\n",
      "AM : 1\n",
      "I : 1\n",
      "JUNGOL : 2\n",
      "OLYMPIAD : 2\n",
      "END\n"
     ]
    }
   ],
   "source": [
    "while True:\n",
    "    input_str = input()\n",
    "    count_dict = dict()\n",
    "    \n",
    "    if input_str == \"END\":\n",
    "        break\n",
    "    \n",
    "    words = input_str.split(\" \")\n",
    "    \n",
    "    for word in words:\n",
    "        if word not in count_dict.keys():\n",
    "            count_dict[word] = 0\n",
    "\n",
    "        count_dict[word] += 1\n",
    "        \n",
    "    count_items = sorted(count_dict.items(), key=lambda x: x[0])\n",
    "        \n",
    "    for item in count_items:\n",
    "        print(f\"{item[0]} : {item[1]}\")"
   ]
  }
 ],
 "metadata": {
  "kernelspec": {
   "display_name": "Python 3",
   "language": "python",
   "name": "python3"
  },
  "language_info": {
   "codemirror_mode": {
    "name": "ipython",
    "version": 3
   },
   "file_extension": ".py",
   "mimetype": "text/x-python",
   "name": "python",
   "nbconvert_exporter": "python",
   "pygments_lexer": "ipython3",
   "version": "3.7.3"
  }
 },
 "nbformat": 4,
 "nbformat_minor": 2
}
