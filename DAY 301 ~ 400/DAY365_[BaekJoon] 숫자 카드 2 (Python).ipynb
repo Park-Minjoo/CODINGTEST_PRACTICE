{
 "cells": [
  {
   "cell_type": "markdown",
   "metadata": {},
   "source": [
    "## 2021년 5월 14일 금요일\n",
    "### BaekJoon - 숫자 카드 2 (Python)\n",
    "### 문제 : https://www.acmicpc.net/problem/10816\n",
    "### 블로그 : https://somjang.tistory.com/entry/BaekJoon-10816%EB%B2%88-%EC%88%AB%EC%9E%90-%EC%B9%B4%EB%93%9C-2-Python"
   ]
  },
  {
   "cell_type": "markdown",
   "metadata": {},
   "source": [
    "### Solution"
   ]
  },
  {
   "cell_type": "code",
   "execution_count": null,
   "metadata": {},
   "outputs": [],
   "source": [
    "input_num = int(input())\n",
    "numbers = list(map(int, input().split()))\n",
    "sorted_numbers = sorted(numbers)\n",
    "\n",
    "input_num2 = int(input())\n",
    "numbers2 = list(map(int, input().split()))\n",
    "sorted_numbers2 = sorted(numbers2)\n",
    "\n",
    "cnt_dict = dict()\n",
    "idx = 0\n",
    "\n",
    "for num in sorted_numbers2:\n",
    "    cnt = 0\n",
    "    \n",
    "    if num not in cnt_dict.keys():\n",
    "        while idx < len(numbers):\n",
    "            if num == sorted_numbers[idx]:\n",
    "                cnt += 1\n",
    "                idx += 1\n",
    "            elif num > sorted_numbers[idx]:\n",
    "                idx += 1\n",
    "            else:\n",
    "                break\n",
    "        cnt_dict[num] = cnt\n",
    "        \n",
    "answer = [str(cnt_dict[num]) for num in numbers2]\n",
    "\n",
    "print(\" \".join(answer))"
   ]
  }
 ],
 "metadata": {
  "kernelspec": {
   "display_name": "Python 3",
   "language": "python",
   "name": "python3"
  },
  "language_info": {
   "codemirror_mode": {
    "name": "ipython",
    "version": 3
   },
   "file_extension": ".py",
   "mimetype": "text/x-python",
   "name": "python",
   "nbconvert_exporter": "python",
   "pygments_lexer": "ipython3",
   "version": "3.7.3"
  }
 },
 "nbformat": 4,
 "nbformat_minor": 2
}
