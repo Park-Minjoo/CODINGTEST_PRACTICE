{
 "cells": [
  {
   "cell_type": "markdown",
   "metadata": {},
   "source": [
    "## 2021년 5월 9일 일요일\n",
    "### BaekJoon - 단어 정렬 (Python)\n",
    "### 문제 : https://www.acmicpc.net/problem/1181\n",
    "### 블로그 : https://somjang.tistory.com/entry/BaekJoon-1181%EB%B2%88-%EB%8B%A8%EC%96%B4-%EC%A0%95%EB%A0%AC-Python"
   ]
  },
  {
   "cell_type": "markdown",
   "metadata": {},
   "source": [
    "### Solution"
   ]
  },
  {
   "cell_type": "code",
   "execution_count": null,
   "metadata": {},
   "outputs": [],
   "source": [
    "word_count = int(input())\n",
    "\n",
    "words = []\n",
    "\n",
    "for i in range(word_count):\n",
    "    word = input()\n",
    "    \n",
    "    if (len(word), word) not in words:\n",
    "        words.append((len(word), word))\n",
    "    \n",
    "answer = sorted(words, key=lambda x: (x[0], x[1]))\n",
    "\n",
    "for ans in answer:\n",
    "    print(ans[1])"
   ]
  }
 ],
 "metadata": {
  "kernelspec": {
   "display_name": "Python 3",
   "language": "python",
   "name": "python3"
  },
  "language_info": {
   "codemirror_mode": {
    "name": "ipython",
    "version": 3
   },
   "file_extension": ".py",
   "mimetype": "text/x-python",
   "name": "python",
   "nbconvert_exporter": "python",
   "pygments_lexer": "ipython3",
   "version": "3.7.3"
  }
 },
 "nbformat": 4,
 "nbformat_minor": 2
}
