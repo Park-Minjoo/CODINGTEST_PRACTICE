{
 "cells": [
  {
   "cell_type": "markdown",
   "metadata": {},
   "source": [
    "## 2021년 5월 28일 금요일\n",
    "### Programmers - 약수의 개수와 덧셈 (Python)\n",
    "### 문제 : https://programmers.co.kr/learn/courses/30/lessons/77884\n",
    "### 블로그 : https://somjang.tistory.com/entry/Programmers-%EC%95%BD%EC%88%98%EC%9D%98-%EA%B0%9C%EC%88%98%EC%99%80-%EB%8D%A7%EC%85%88-Python"
   ]
  },
  {
   "cell_type": "markdown",
   "metadata": {},
   "source": [
    "### Solution"
   ]
  },
  {
   "cell_type": "code",
   "execution_count": null,
   "metadata": {},
   "outputs": [],
   "source": [
    "def solution(left, right):\n",
    "    answer = 0\n",
    "    \n",
    "    for num in range(left, right + 1):\n",
    "        operator = 1\n",
    "        divisor_num = len([n for n in range(1, num+1) if num % n == 0])\n",
    "        \n",
    "        if divisor_num % 2 == 1:\n",
    "            operator = -1\n",
    "        \n",
    "        answer += num * operator\n",
    "    \n",
    "    return answer"
   ]
  }
 ],
 "metadata": {
  "kernelspec": {
   "display_name": "Python 3",
   "language": "python",
   "name": "python3"
  },
  "language_info": {
   "codemirror_mode": {
    "name": "ipython",
    "version": 3
   },
   "file_extension": ".py",
   "mimetype": "text/x-python",
   "name": "python",
   "nbconvert_exporter": "python",
   "pygments_lexer": "ipython3",
   "version": "3.7.3"
  }
 },
 "nbformat": 4,
 "nbformat_minor": 2
}
