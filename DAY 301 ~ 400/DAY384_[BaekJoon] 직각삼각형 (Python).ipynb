{
 "cells": [
  {
   "cell_type": "markdown",
   "metadata": {},
   "source": [
    "## 2021년 6월 3일 목요일\n",
    "### BaekJoon - 직각삼각형 (Python)\n",
    "### 문제 : https://www.acmicpc.net/problem/4153\n",
    "### 블로그 : https://somjang.tistory.com/entry/BaekJoon-4153%EB%B2%88-%EC%A7%81%EA%B0%81%EC%82%BC%EA%B0%81%ED%98%95-Python"
   ]
  },
  {
   "cell_type": "markdown",
   "metadata": {},
   "source": [
    "### Solution"
   ]
  },
  {
   "cell_type": "code",
   "execution_count": null,
   "metadata": {},
   "outputs": [],
   "source": [
    "import math\n",
    "\n",
    "while True:\n",
    "    input_nums = input()\n",
    "    \n",
    "    if input_nums == \"0 0 0\":\n",
    "        break\n",
    "    \n",
    "    triangle = list(map(int, input_nums.split()))\n",
    "    \n",
    "    triangle.sort()\n",
    "    \n",
    "    if int(math.sqrt(pow(triangle[0], 2) + pow(triangle[1], 2))) == triangle[2]:\n",
    "        print(\"right\")\n",
    "    else:\n",
    "        print(\"wrong\")"
   ]
  }
 ],
 "metadata": {
  "kernelspec": {
   "display_name": "Python 3",
   "language": "python",
   "name": "python3"
  },
  "language_info": {
   "codemirror_mode": {
    "name": "ipython",
    "version": 3
   },
   "file_extension": ".py",
   "mimetype": "text/x-python",
   "name": "python",
   "nbconvert_exporter": "python",
   "pygments_lexer": "ipython3",
   "version": "3.7.3"
  }
 },
 "nbformat": 4,
 "nbformat_minor": 2
}
