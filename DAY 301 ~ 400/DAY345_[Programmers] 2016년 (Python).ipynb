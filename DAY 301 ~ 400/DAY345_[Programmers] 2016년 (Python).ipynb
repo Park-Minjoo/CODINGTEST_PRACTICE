{
 "cells": [
  {
   "cell_type": "markdown",
   "metadata": {},
   "source": [
    "## 2021년 4월 21일 수요일\n",
    "### Programmers - 2016년 (Python)\n",
    "### 문제 : https://programmers.co.kr/learn/courses/30/lessons/12901\n",
    "### 블로그 : https://somjang.tistory.com/entry/Programmers-2016%EB%85%84-Python"
   ]
  },
  {
   "cell_type": "markdown",
   "metadata": {},
   "source": [
    "### Solution"
   ]
  },
  {
   "cell_type": "code",
   "execution_count": 1,
   "metadata": {},
   "outputs": [],
   "source": [
    "import datetime\n",
    "\n",
    "def solution(a, b):\n",
    "    answer = ''\n",
    "    \n",
    "    weekday_list = [\"MON\", \"TUE\", \"WED\", \"THU\", \"FRI\", \"SAT\", \"SUN\"]\n",
    "    \n",
    "    weekday_info = datetime.datetime(2016, a, b).weekday()\n",
    "    \n",
    "    answer = weekday_list[weekday_info]\n",
    "    \n",
    "    return answer"
   ]
  }
 ],
 "metadata": {
  "kernelspec": {
   "display_name": "Python 3",
   "language": "python",
   "name": "python3"
  },
  "language_info": {
   "codemirror_mode": {
    "name": "ipython",
    "version": 3
   },
   "file_extension": ".py",
   "mimetype": "text/x-python",
   "name": "python",
   "nbconvert_exporter": "python",
   "pygments_lexer": "ipython3",
   "version": "3.7.3"
  }
 },
 "nbformat": 4,
 "nbformat_minor": 2
}
