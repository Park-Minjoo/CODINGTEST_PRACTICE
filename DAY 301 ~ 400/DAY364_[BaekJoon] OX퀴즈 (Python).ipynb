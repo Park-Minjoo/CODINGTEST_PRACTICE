{
 "cells": [
  {
   "cell_type": "markdown",
   "metadata": {},
   "source": [
    "## 2021년 5월 13일 목요일\n",
    "### BaekJoon - OX퀴즈 (Python)\n",
    "### 문제 : https://www.acmicpc.net/problem/8958\n",
    "### 블로그 : https://somjang.tistory.com/entry/BaekJoon-8958%EB%B2%88-OX%ED%80%B4%EC%A6%88-Python"
   ]
  },
  {
   "cell_type": "markdown",
   "metadata": {},
   "source": [
    "### Solution"
   ]
  },
  {
   "cell_type": "code",
   "execution_count": null,
   "metadata": {},
   "outputs": [],
   "source": [
    "for _ in range(int(input())):\n",
    "    ox_string = list(input())\n",
    "    \n",
    "    answer = 0\n",
    "    score = 0\n",
    "    for ox in ox_string:\n",
    "        if ox == 'O':\n",
    "            score += 1\n",
    "            answer += score\n",
    "        elif ox == \"X\":\n",
    "            score = 0\n",
    "    print(answer)"
   ]
  }
 ],
 "metadata": {
  "kernelspec": {
   "display_name": "Python 3",
   "language": "python",
   "name": "python3"
  },
  "language_info": {
   "codemirror_mode": {
    "name": "ipython",
    "version": 3
   },
   "file_extension": ".py",
   "mimetype": "text/x-python",
   "name": "python",
   "nbconvert_exporter": "python",
   "pygments_lexer": "ipython3",
   "version": "3.7.3"
  }
 },
 "nbformat": 4,
 "nbformat_minor": 2
}
