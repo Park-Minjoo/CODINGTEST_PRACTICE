{
 "cells": [
  {
   "cell_type": "markdown",
   "metadata": {},
   "source": [
    "## 2021년 1월 15일 금요일\n",
    "### leetCode - Detect Capital (Python)\n",
    "### 문제 : https://leetcode.com/problems/detect-capital/\n",
    "### 블로그 : https://somjang.tistory.com/entry/leetCode-520-Detect-Capital-Python"
   ]
  },
  {
   "cell_type": "markdown",
   "metadata": {},
   "source": [
    "### 첫번째 시도"
   ]
  },
  {
   "cell_type": "code",
   "execution_count": null,
   "metadata": {},
   "outputs": [],
   "source": [
    "class Solution:\n",
    "    def detectCapitalUse(self, word: str) -> bool:\n",
    "        upper_word = word.upper()\n",
    "        lower_word = word.lower()\n",
    "        \n",
    "        answer = False\n",
    "        \n",
    "        if upper_word == word or lower_word == word:\n",
    "            answer = True\n",
    "            \n",
    "        if len(word) > 0 and (word[0] == upper_word[0] and word[1:] == lower_word[1:]):\n",
    "            answer = True\n",
    "            \n",
    "        return answer"
   ]
  }
 ],
 "metadata": {
  "kernelspec": {
   "display_name": "Python 3",
   "language": "python",
   "name": "python3"
  },
  "language_info": {
   "codemirror_mode": {
    "name": "ipython",
    "version": 3
   },
   "file_extension": ".py",
   "mimetype": "text/x-python",
   "name": "python",
   "nbconvert_exporter": "python",
   "pygments_lexer": "ipython3",
   "version": "3.7.3"
  }
 },
 "nbformat": 4,
 "nbformat_minor": 2
}
