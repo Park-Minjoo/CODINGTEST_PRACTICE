{
 "cells": [
  {
   "cell_type": "markdown",
   "metadata": {},
   "source": [
    "## 2021년 4월 8일 목요일\n",
    "### BaekJoon - 문자열 반복 (Python)\n",
    "### 문제 : https://www.acmicpc.net/problem/2675\n",
    "### 블로그 : https://somjang.tistory.com/entry/BaekJoon-2675%EB%B2%88-%EB%AC%B8%EC%9E%90%EC%97%B4-%EB%B0%98%EB%B3%B5-Python"
   ]
  },
  {
   "cell_type": "markdown",
   "metadata": {},
   "source": [
    "### Solution 1"
   ]
  },
  {
   "cell_type": "code",
   "execution_count": 1,
   "metadata": {},
   "outputs": [],
   "source": [
    "inputNum = int(input())\n",
    "\n",
    "for i in range(inputNum):\n",
    "    repeatNum, inputStr = input().split()\n",
    "    \n",
    "    answer = \"\"\n",
    "    \n",
    "    for char in inputStr:\n",
    "        answer += int(repeatNum) * char\n",
    "        \n",
    "    print(answer)"
   ]
  }
 ],
 "metadata": {
  "kernelspec": {
   "display_name": "Python 3",
   "language": "python",
   "name": "python3"
  },
  "language_info": {
   "codemirror_mode": {
    "name": "ipython",
    "version": 3
   },
   "file_extension": ".py",
   "mimetype": "text/x-python",
   "name": "python",
   "nbconvert_exporter": "python",
   "pygments_lexer": "ipython3",
   "version": "3.7.3"
  }
 },
 "nbformat": 4,
 "nbformat_minor": 2
}
