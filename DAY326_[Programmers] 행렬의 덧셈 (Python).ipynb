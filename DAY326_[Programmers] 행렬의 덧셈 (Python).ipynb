{
 "cells": [
  {
   "cell_type": "markdown",
   "metadata": {},
   "source": [
    "## 2021년 3월 8일 월요일\n",
    "### Programmers - 행렬의 덧셈 (Python)\n",
    "### 문제 : https://programmers.co.kr/learn/courses/30/lessons/12950\n",
    "### 블로그 : https://somjang.tistory.com/entry/Programmers-%ED%96%89%EB%A0%AC%EC%9D%98-%EB%8D%A7%EC%85%88-Python"
   ]
  },
  {
   "cell_type": "markdown",
   "metadata": {},
   "source": [
    "### Solution 1"
   ]
  },
  {
   "cell_type": "code",
   "execution_count": null,
   "metadata": {},
   "outputs": [],
   "source": [
    "def solution(arr1, arr2):    \n",
    "    for row in range(len(arr1)):\n",
    "        for col in range(len(arr1[row])):\n",
    "            arr1[row][col] = arr1[row][col] + arr2[row][col]\n",
    "    \n",
    "    return arr1"
   ]
  }
 ],
 "metadata": {
  "kernelspec": {
   "display_name": "Python 3",
   "language": "python",
   "name": "python3"
  },
  "language_info": {
   "codemirror_mode": {
    "name": "ipython",
    "version": 3
   },
   "file_extension": ".py",
   "mimetype": "text/x-python",
   "name": "python",
   "nbconvert_exporter": "python",
   "pygments_lexer": "ipython3",
   "version": "3.7.3"
  }
 },
 "nbformat": 4,
 "nbformat_minor": 2
}
