{
 "cells": [
  {
   "cell_type": "markdown",
   "metadata": {},
   "source": [
    "## 2020년 11월 11일 수요일\n",
    "### leetCode - Find Lucky Integer in an Array (Python)\n",
    "### 문제 : https://leetcode.com/problems/find-lucky-integer-in-an-array/\n",
    "### 블로그 : https://somjang.tistory.com/entry/leetCode-1394-Find-Lucky-Integer-in-an-Array-Python"
   ]
  },
  {
   "cell_type": "markdown",
   "metadata": {},
   "source": [
    "### 첫번째 시도"
   ]
  },
  {
   "cell_type": "code",
   "execution_count": null,
   "metadata": {},
   "outputs": [],
   "source": [
    "from collections import Counter\n",
    "\n",
    "class Solution:\n",
    "    def findLucky(self, arr: List[int]) -> int:\n",
    "        answer = -1\n",
    "        cnt = Counter(arr).items()\n",
    "        \n",
    "        answer_check = [ item[0] for item in cnt if item[0] == item[1] ]\n",
    "        \n",
    "        if answer_check != []:\n",
    "            answer = max(answer_check)\n",
    "            \n",
    "        return answer"
   ]
  }
 ],
 "metadata": {
  "kernelspec": {
   "display_name": "Python 3",
   "language": "python",
   "name": "python3"
  },
  "language_info": {
   "codemirror_mode": {
    "name": "ipython",
    "version": 3
   },
   "file_extension": ".py",
   "mimetype": "text/x-python",
   "name": "python",
   "nbconvert_exporter": "python",
   "pygments_lexer": "ipython3",
   "version": "3.7.3"
  }
 },
 "nbformat": 4,
 "nbformat_minor": 2
}
