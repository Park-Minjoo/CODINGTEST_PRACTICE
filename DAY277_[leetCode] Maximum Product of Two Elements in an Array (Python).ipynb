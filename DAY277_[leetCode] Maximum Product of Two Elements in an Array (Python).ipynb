{
 "cells": [
  {
   "cell_type": "markdown",
   "metadata": {},
   "source": [
    "## 2020년 12월 17일 목요일\n",
    "### leetCode - Maximum Product of Two Elements in an Array (Python)\n",
    "### 문제 : https://leetcode.com/problems/maximum-product-of-two-elements-in-an-array/\n",
    "### 블로그 : https://somjang.tistory.com/entry/leetCode-1464-Maximum-Product-of-Two-Elements-in-an-Array-Python"
   ]
  },
  {
   "cell_type": "markdown",
   "metadata": {},
   "source": [
    "### 첫번째 시도"
   ]
  },
  {
   "cell_type": "code",
   "execution_count": null,
   "metadata": {},
   "outputs": [],
   "source": [
    "class Solution:\n",
    "    def maxProduct(self, nums: List[int]) -> int:\n",
    "        if len(nums) == 2:\n",
    "            answer = (nums[0]-1) * (nums[1]-1)\n",
    "        else:\n",
    "            max_num = max(nums)\n",
    "            nums.remove(max_num)\n",
    "            sec_max_num = max(nums)\n",
    "            \n",
    "            answer = (max_num-1) * (sec_max_num-1)\n",
    "            \n",
    "        return answer"
   ]
  }
 ],
 "metadata": {
  "kernelspec": {
   "display_name": "Python 3",
   "language": "python",
   "name": "python3"
  },
  "language_info": {
   "codemirror_mode": {
    "name": "ipython",
    "version": 3
   },
   "file_extension": ".py",
   "mimetype": "text/x-python",
   "name": "python",
   "nbconvert_exporter": "python",
   "pygments_lexer": "ipython3",
   "version": "3.7.3"
  }
 },
 "nbformat": 4,
 "nbformat_minor": 2
}
