{
 "cells": [
  {
   "cell_type": "markdown",
   "metadata": {},
   "source": [
    "## 2020년 9월 13일 일요일\n",
    "### leetCode - Keyboard Row (Python)\n",
    "### 문제 : https://leetcode.com/problems/keyboard-row/\n",
    "### 블로그 : https://somjang.tistory.com/entry/leetCode-500-Keyboard-Row-Python"
   ]
  },
  {
   "cell_type": "markdown",
   "metadata": {},
   "source": [
    "### 첫번째 시도"
   ]
  },
  {
   "cell_type": "code",
   "execution_count": null,
   "metadata": {},
   "outputs": [],
   "source": [
    "class Solution:\n",
    "    def findWords(self, words: List[str]) -> List[str]:\n",
    "        keyboard_dict = {\"q\":1, \"Q\":1, \"w\":1, \"W\":1, \"e\":1, \"E\":1, \"r\":1, \"R\":1, \"t\":1, \"T\":1, \"y\":1, \"Y\":1, \"u\":1, \"U\":1, \"i\":1, \"I\":1, \"o\":1, \"O\":1, \"p\":1, \"P\":1, \"a\":2, \"A\":2, \"s\":2, \"S\":2, \"d\":2, \"D\":2, \"f\":2, \"F\":2, \"g\":2, \"G\":2, \"h\":2, \"H\":2, \"j\":2, \"J\":2, \"k\":2, \"K\":2, \"l\":2, \"L\":2, \"z\":3, \"Z\":3, \"x\":3, \"X\":3, \"c\":3, \"C\":3, \"v\":3, \"V\":3, \"b\":3, \"B\":3, \"n\":3, \"N\":3, \"m\":3, \"M\":3}\n",
    "        \n",
    "        answer = []\n",
    "        \n",
    "        for word in words:\n",
    "            key_row_list = []\n",
    "            for char in word:\n",
    "                key_row_list.append(keyboard_dict[char])\n",
    "                \n",
    "            key_row_list = list(set(key_row_list))\n",
    "            \n",
    "            if len(key_row_list) == 1:\n",
    "                answer.append(word)\n",
    "        \n",
    "        return answer"
   ]
  }
 ],
 "metadata": {
  "kernelspec": {
   "display_name": "Python 3",
   "language": "python",
   "name": "python3"
  },
  "language_info": {
   "codemirror_mode": {
    "name": "ipython",
    "version": 3
   },
   "file_extension": ".py",
   "mimetype": "text/x-python",
   "name": "python",
   "nbconvert_exporter": "python",
   "pygments_lexer": "ipython3",
   "version": "3.7.3"
  }
 },
 "nbformat": 4,
 "nbformat_minor": 2
}
