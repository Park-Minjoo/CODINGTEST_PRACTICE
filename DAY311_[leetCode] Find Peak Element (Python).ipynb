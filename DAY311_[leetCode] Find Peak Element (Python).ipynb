{
 "cells": [
  {
   "cell_type": "markdown",
   "metadata": {},
   "source": [
    "## 2021년 2월 2일 화요일\n",
    "### leetCode - Find Peak Element (Python)\n",
    "### 문제 : https://leetcode.com/problems/find-peak-element/\n",
    "### 블로그 : https://somjang.tistory.com/entry/leetCode-162-Find-Peak-Element-Python"
   ]
  },
  {
   "cell_type": "markdown",
   "metadata": {},
   "source": [
    "### 첫번째 시도"
   ]
  },
  {
   "cell_type": "code",
   "execution_count": null,
   "metadata": {},
   "outputs": [],
   "source": [
    "class Solution:\n",
    "    def findPeakElement(self, nums: List[int]) -> int:\n",
    "        peak_num = max(nums)\n",
    "        \n",
    "        return nums.index(peak_num)"
   ]
  },
  {
   "cell_type": "markdown",
   "metadata": {},
   "source": [
    "### 두번째 시도"
   ]
  },
  {
   "cell_type": "code",
   "execution_count": null,
   "metadata": {},
   "outputs": [],
   "source": [
    "class Solution:\n",
    "    def findPeakElement(self, nums: List[int]) -> int:\n",
    "        peak_num = max(nums)\n",
    "        \n",
    "        for i, num in enumerate(nums):\n",
    "            if peak_num == num:\n",
    "                answer = i\n",
    "                break\n",
    "                \n",
    "        return answer"
   ]
  },
  {
   "cell_type": "markdown",
   "metadata": {},
   "source": [
    "### 세번째 시도"
   ]
  },
  {
   "cell_type": "code",
   "execution_count": null,
   "metadata": {},
   "outputs": [],
   "source": [
    "class Solution:\n",
    "    def findPeakElement(self, nums: List[int]) -> int:\n",
    "        peak_num = max(nums)\n",
    "        \n",
    "        flag = False\n",
    "        \n",
    "        for i in range(len(nums) // 2):\n",
    "            if nums[i] == peak_num:\n",
    "                answer = i\n",
    "                flag = True\n",
    "                break\n",
    "            elif nums[len(nums) - i -1] == peak_num:\n",
    "                answer = len(nums) - i -1\n",
    "                flag = True\n",
    "                break\n",
    "        \n",
    "        if len(nums) % 2 == 1 and flag == False:\n",
    "            if nums[len(nums) // 2] == peak_num:\n",
    "                answer = len(nums) // 2\n",
    "        \n",
    "        return answer"
   ]
  }
 ],
 "metadata": {
  "kernelspec": {
   "display_name": "Python 3",
   "language": "python",
   "name": "python3"
  },
  "language_info": {
   "codemirror_mode": {
    "name": "ipython",
    "version": 3
   },
   "file_extension": ".py",
   "mimetype": "text/x-python",
   "name": "python",
   "nbconvert_exporter": "python",
   "pygments_lexer": "ipython3",
   "version": "3.7.3"
  }
 },
 "nbformat": 4,
 "nbformat_minor": 2
}
