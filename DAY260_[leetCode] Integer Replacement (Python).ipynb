{
 "cells": [
  {
   "cell_type": "markdown",
   "metadata": {},
   "source": [
    "## 2020년 11월 15일 일요일\n",
    "### leetCode - Integer Replacement (Python)\n",
    "### 문제 : https://leetcode.com/problems/integer-replacement/\n",
    "### 블로그 : https://somjang.tistory.com/entry/leetCode-397-Integer-Replacement-Python"
   ]
  },
  {
   "cell_type": "markdown",
   "metadata": {},
   "source": [
    "### 첫번째 시도"
   ]
  },
  {
   "cell_type": "code",
   "execution_count": null,
   "metadata": {},
   "outputs": [],
   "source": [
    "class Solution:\n",
    "    def integerReplacement(self, n: int) -> int:\n",
    "        cnt = 0\n",
    "        \n",
    "        while True:\n",
    "            if n == 1:\n",
    "                break\n",
    "            elif n == 3:\n",
    "                return cnt + 2\n",
    "            else:\n",
    "                if n % 2 == 1:\n",
    "                    if ((n-1) // 2) % 2 == 1:\n",
    "                        n = n + 1\n",
    "                    else:\n",
    "                        n = n -1\n",
    "                    cnt = cnt + 1\n",
    "                    \n",
    "                elif n % 2 == 0:\n",
    "                    n = n // 2\n",
    "                    cnt = cnt + 1\n",
    "                    \n",
    "        return cnt"
   ]
  }
 ],
 "metadata": {
  "kernelspec": {
   "display_name": "Python 3",
   "language": "python",
   "name": "python3"
  },
  "language_info": {
   "codemirror_mode": {
    "name": "ipython",
    "version": 3
   },
   "file_extension": ".py",
   "mimetype": "text/x-python",
   "name": "python",
   "nbconvert_exporter": "python",
   "pygments_lexer": "ipython3",
   "version": "3.7.3"
  }
 },
 "nbformat": 4,
 "nbformat_minor": 2
}
