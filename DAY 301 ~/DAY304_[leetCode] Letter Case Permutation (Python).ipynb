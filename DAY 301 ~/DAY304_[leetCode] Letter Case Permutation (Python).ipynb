{
 "cells": [
  {
   "cell_type": "markdown",
   "metadata": {},
   "source": [
    "## 2021년 1월 26일 화요일\n",
    "### leetCode - Letter Case Permutation (Python)\n",
    "### 문제 : https://leetcode.com/problems/letter-case-permutation/\n",
    "### 블로그 : https://somjang.tistory.com/entry/leetCode-784-Letter-Case-Permutation-Python"
   ]
  },
  {
   "cell_type": "markdown",
   "metadata": {},
   "source": [
    "### 첫번째 시도"
   ]
  },
  {
   "cell_type": "code",
   "execution_count": null,
   "metadata": {},
   "outputs": [],
   "source": [
    "class Solution:\n",
    "    def letterCasePermutation(self, S: str) -> List[str]:\n",
    "        answer = [\"\"]\n",
    "        \n",
    "        for i in range(len(S)):\n",
    "            temp = []\n",
    "            for j in range(len(answer)):\n",
    "                if S[i].isalpha():\n",
    "                    temp.append(answer[j] + S[i].lower())\n",
    "                    temp.append(answer[j] + S[i].upper())\n",
    "                else:\n",
    "                    temp.append(answer[j] + S[i])\n",
    "                    \n",
    "            answer = temp\n",
    "            \n",
    "        return answer"
   ]
  }
 ],
 "metadata": {
  "kernelspec": {
   "display_name": "Python 3",
   "language": "python",
   "name": "python3"
  },
  "language_info": {
   "codemirror_mode": {
    "name": "ipython",
    "version": 3
   },
   "file_extension": ".py",
   "mimetype": "text/x-python",
   "name": "python",
   "nbconvert_exporter": "python",
   "pygments_lexer": "ipython3",
   "version": "3.7.3"
  }
 },
 "nbformat": 4,
 "nbformat_minor": 2
}
