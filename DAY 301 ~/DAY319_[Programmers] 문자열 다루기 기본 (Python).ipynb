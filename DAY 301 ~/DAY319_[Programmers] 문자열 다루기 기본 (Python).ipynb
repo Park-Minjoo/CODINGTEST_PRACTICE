{
 "cells": [
  {
   "cell_type": "markdown",
   "metadata": {},
   "source": [
    "## 2021년 2월 13일 토요일\n",
    "### Programmers - 문자열 다루기 기본 (Python)\n",
    "### 문제 : https://programmers.co.kr/learn/courses/30/lessons/12918\n",
    "### 블로그 : https://somjang.tistory.com/entry/Programmers-%EB%AC%B8%EC%9E%90%EC%97%B4-%EB%8B%A4%EB%A3%A8%EA%B8%B0-%EA%B8%B0%EB%B3%B8-Python"
   ]
  },
  {
   "cell_type": "markdown",
   "metadata": {},
   "source": [
    "### Solution 1"
   ]
  },
  {
   "cell_type": "code",
   "execution_count": null,
   "metadata": {},
   "outputs": [],
   "source": [
    "import re\n",
    "\n",
    "def solution(s):\n",
    "    answer = False\n",
    "    \n",
    "    re_s = re.sub(\"[0-9]\",'',s)\n",
    "    \n",
    "    if re_s == '':\n",
    "        if len(s) in [4, 6]:\n",
    "            answer = True\n",
    "    \n",
    "    return answer"
   ]
  },
  {
   "cell_type": "markdown",
   "metadata": {},
   "source": [
    "### Solution 2"
   ]
  },
  {
   "cell_type": "code",
   "execution_count": null,
   "metadata": {},
   "outputs": [],
   "source": [
    "def solution(s):\n",
    "    answer = True\n",
    "    \n",
    "    if len(s) in [4, 6]:\n",
    "        for i in range(len(s)):\n",
    "            if not s[i].isdigit():\n",
    "                answer = False\n",
    "                break\n",
    "    else:\n",
    "        answer = False\n",
    "    \n",
    "    return answer"
   ]
  }
 ],
 "metadata": {
  "kernelspec": {
   "display_name": "Python 3",
   "language": "python",
   "name": "python3"
  },
  "language_info": {
   "codemirror_mode": {
    "name": "ipython",
    "version": 3
   },
   "file_extension": ".py",
   "mimetype": "text/x-python",
   "name": "python",
   "nbconvert_exporter": "python",
   "pygments_lexer": "ipython3",
   "version": "3.7.3"
  }
 },
 "nbformat": 4,
 "nbformat_minor": 2
}
