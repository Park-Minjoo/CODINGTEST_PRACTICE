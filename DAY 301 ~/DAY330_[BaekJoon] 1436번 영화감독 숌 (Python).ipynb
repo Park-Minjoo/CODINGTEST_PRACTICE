{
 "cells": [
  {
   "cell_type": "markdown",
   "metadata": {},
   "source": [
    "## 2021년 3월 26일 금요일\n",
    "### BaekJoon - 영화감독 숌 (Python)\n",
    "### 문제 : https://www.acmicpc.net/problem/1436\n",
    "### 블로그 : https://somjang.tistory.com/entry/BaekJoon-1436%EB%B2%88-%EC%98%81%ED%99%94%EA%B0%90%EB%8F%85-%EC%88%8C-Python?category=351755"
   ]
  },
  {
   "cell_type": "markdown",
   "metadata": {},
   "source": [
    "### Solution 1"
   ]
  },
  {
   "cell_type": "code",
   "execution_count": 1,
   "metadata": {},
   "outputs": [
    {
     "name": "stdout",
     "output_type": "stream",
     "text": [
      "2\n",
      "1666\n"
     ]
    }
   ],
   "source": [
    "input_num = int(input())\n",
    "answer = 666\n",
    "\n",
    "while(input_num):\n",
    "    if '666' in str(answer):\n",
    "        input_num -= 1\n",
    "        \n",
    "    answer += 1\n",
    "    \n",
    "print(answer-1)"
   ]
  }
 ],
 "metadata": {
  "kernelspec": {
   "display_name": "Python 3",
   "language": "python",
   "name": "python3"
  },
  "language_info": {
   "codemirror_mode": {
    "name": "ipython",
    "version": 3
   },
   "file_extension": ".py",
   "mimetype": "text/x-python",
   "name": "python",
   "nbconvert_exporter": "python",
   "pygments_lexer": "ipython3",
   "version": "3.7.3"
  }
 },
 "nbformat": 4,
 "nbformat_minor": 2
}
