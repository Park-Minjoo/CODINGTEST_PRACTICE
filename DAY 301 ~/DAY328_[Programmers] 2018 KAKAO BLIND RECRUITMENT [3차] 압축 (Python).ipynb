{
 "cells": [
  {
   "cell_type": "markdown",
   "metadata": {},
   "source": [
    "## 2021년 3월 18일 목요일\n",
    "### Programmers - 압축 (Python)\n",
    "### 문제 : https://programmers.co.kr/learn/courses/30/lessons/17684\n",
    "### 블로그 : https://somjang.tistory.com/entry/Programmers-2018-KAKAO-BLIND-RECRUITMENT-3%EC%B0%A8-%EC%95%95%EC%B6%95-Python"
   ]
  },
  {
   "cell_type": "markdown",
   "metadata": {},
   "source": [
    "### Solution 1"
   ]
  },
  {
   "cell_type": "code",
   "execution_count": null,
   "metadata": {},
   "outputs": [],
   "source": [
    "def solution(msg):\n",
    "    answer = []\n",
    "    \n",
    "    new_id = 27\n",
    "    \n",
    "    word_dict = dict()\n",
    "    \n",
    "    for ascii_num in range(65, 91):\n",
    "        word_dict[chr(ascii_num)] = ascii_num - 64\n",
    "    \n",
    "    idx_f, idx_e = 0, 0\n",
    "    \n",
    "    while True:\n",
    "        idx_e += 1\n",
    "        if idx_e == len(msg):\n",
    "            answer.append(word_dict[msg[idx_f:idx_e]])\n",
    "            break\n",
    "        \n",
    "        if msg[idx_f:idx_e+1] not in word_dict.keys():\n",
    "            word_dict[msg[idx_f:idx_e+1]] = new_id\n",
    "            new_id += 1\n",
    "            answer.append(word_dict[msg[idx_f:idx_e]])\n",
    "            idx_f = idx_e\n",
    "            \n",
    "    return answer"
   ]
  }
 ],
 "metadata": {
  "kernelspec": {
   "display_name": "Python 3",
   "language": "python",
   "name": "python3"
  },
  "language_info": {
   "codemirror_mode": {
    "name": "ipython",
    "version": 3
   },
   "file_extension": ".py",
   "mimetype": "text/x-python",
   "name": "python",
   "nbconvert_exporter": "python",
   "pygments_lexer": "ipython3",
   "version": "3.7.3"
  }
 },
 "nbformat": 4,
 "nbformat_minor": 2
}
