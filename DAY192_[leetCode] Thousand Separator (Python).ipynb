{
 "cells": [
  {
   "cell_type": "markdown",
   "metadata": {},
   "source": [
    "## 2020년 8월 29일 토요일\n",
    "### leetCode - Thousand Separator (Python)\n",
    "### 문제 : https://leetcode.com/problems/thousand-separator/\n",
    "### 블로그 : https://somjang.tistory.com/entry/leetCode-1556-Thousand-Separator-Python"
   ]
  },
  {
   "cell_type": "markdown",
   "metadata": {},
   "source": [
    "### 첫번째 시도"
   ]
  },
  {
   "cell_type": "code",
   "execution_count": null,
   "metadata": {},
   "outputs": [],
   "source": [
    "class Solution:\n",
    "    def thousandSeparator(self, n: int) -> str:\n",
    "        if len(str(n)) < 4:\n",
    "            return str(n)\n",
    "        else:\n",
    "            len_str = len(str(n))\n",
    "            loop_num = len_str // 3\n",
    "            \n",
    "            mod_num_list = []\n",
    "            \n",
    "            for i in range(loop_num):\n",
    "                n_mod_1000 = n % 1000\n",
    "                \n",
    "                if n_mod_1000 < 100:\n",
    "                    mod_num_list.append('0' + str(n_mod_1000))\n",
    "                else:\n",
    "                    mod_num_list.append(str(n_mod_1000))\n",
    "                \n",
    "                n = n // 1000\n",
    "            if n != 0:\n",
    "                mod_num_list.append(str(n))\n",
    "                \n",
    "            mod_num_list_reverse = mod_num_list[::-1]\n",
    "            \n",
    "            answer = '.'.join(mod_num_list_reverse)\n",
    "            \n",
    "            return answer"
   ]
  }
 ],
 "metadata": {
  "kernelspec": {
   "display_name": "Python 3",
   "language": "python",
   "name": "python3"
  },
  "language_info": {
   "codemirror_mode": {
    "name": "ipython",
    "version": 3
   },
   "file_extension": ".py",
   "mimetype": "text/x-python",
   "name": "python",
   "nbconvert_exporter": "python",
   "pygments_lexer": "ipython3",
   "version": "3.7.3"
  }
 },
 "nbformat": 4,
 "nbformat_minor": 2
}
