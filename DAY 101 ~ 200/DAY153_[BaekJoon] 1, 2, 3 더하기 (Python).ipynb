{
 "cells": [
  {
   "cell_type": "markdown",
   "metadata": {},
   "source": [
    "## 2020년 7월 8일 수요일\n",
    "### BaekJoon - 1, 2, 3 더하기 (Python)\n",
    "### 문제 : https://www.acmicpc.net/problem/9095\n",
    "### 블로그 : https://somjang.tistory.com/entry/BaekJoon-9095%EB%B2%88-1-2-3-%EB%8D%94%ED%95%98%EA%B8%B0-Python"
   ]
  },
  {
   "cell_type": "markdown",
   "metadata": {},
   "source": [
    "### 첫번째 시도"
   ]
  },
  {
   "cell_type": "code",
   "execution_count": null,
   "metadata": {},
   "outputs": [],
   "source": [
    "loopN = int(input())\n",
    "answers = []\n",
    "\n",
    "\n",
    "for i in range(loopN):\n",
    "    inputNum = int(input())\n",
    "    \n",
    "    if inputNum == 1:\n",
    "        answers.append(1)\n",
    "    elif inputNum == 2:\n",
    "        answers.append(2)\n",
    "    elif inputNum == 3:\n",
    "        answers.append(4)\n",
    "    else:\n",
    "        ans = [0] * inputNum\n",
    "        ans[0] = 1\n",
    "        ans[1] = 2\n",
    "        ans[2] = 4\n",
    "        \n",
    "        for i in range(3, inputNum):\n",
    "            ans[i] = ans[i-1] + ans[i-2] + ans[i-3]\n",
    "        answers.append(ans[i])\n",
    "        \n",
    "for answer in answers:\n",
    "    print(answer)"
   ]
  }
 ],
 "metadata": {
  "kernelspec": {
   "display_name": "Python 3",
   "language": "python",
   "name": "python3"
  },
  "language_info": {
   "codemirror_mode": {
    "name": "ipython",
    "version": 3
   },
   "file_extension": ".py",
   "mimetype": "text/x-python",
   "name": "python",
   "nbconvert_exporter": "python",
   "pygments_lexer": "ipython3",
   "version": "3.7.3"
  }
 },
 "nbformat": 4,
 "nbformat_minor": 2
}
