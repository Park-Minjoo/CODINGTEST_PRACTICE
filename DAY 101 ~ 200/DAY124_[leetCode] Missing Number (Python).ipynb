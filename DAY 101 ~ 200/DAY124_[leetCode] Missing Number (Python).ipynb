{
 "cells": [
  {
   "cell_type": "markdown",
   "metadata": {},
   "source": [
    "## 2020년 6월 9일 화요일\n",
    "### leetCode - 268 : Missing Number\n",
    "### 문제 : https://leetcode.com/problems/missing-number/\n",
    "### 블로그 :  https://somjang.tistory.com/entry/leetCode-268-Missing-Number-Python"
   ]
  },
  {
   "cell_type": "markdown",
   "metadata": {},
   "source": [
    "### 첫번째 시도"
   ]
  },
  {
   "cell_type": "code",
   "execution_count": null,
   "metadata": {},
   "outputs": [],
   "source": [
    "class Solution:\n",
    "    def missingNumber(self, nums: List[int]) -> int:\n",
    "        max_num = max(nums)\n",
    "        \n",
    "        my_nums = set([num for num in range(max_num + 1)])\n",
    "        \n",
    "        nums = set(nums)\n",
    "        \n",
    "        differ = my_nums - nums\n",
    "        \n",
    "        if len(differ) == 0:\n",
    "            answer = max_num + 1\n",
    "        else:\n",
    "            answer = list(differ)[0]\n",
    "        \n",
    "        return answer"
   ]
  }
 ],
 "metadata": {
  "kernelspec": {
   "display_name": "Python 3",
   "language": "python",
   "name": "python3"
  },
  "language_info": {
   "codemirror_mode": {
    "name": "ipython",
    "version": 3
   },
   "file_extension": ".py",
   "mimetype": "text/x-python",
   "name": "python",
   "nbconvert_exporter": "python",
   "pygments_lexer": "ipython3",
   "version": "3.7.3"
  }
 },
 "nbformat": 4,
 "nbformat_minor": 2
}
