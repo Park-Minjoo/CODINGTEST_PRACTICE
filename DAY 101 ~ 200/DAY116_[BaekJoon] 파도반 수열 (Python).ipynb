{
 "cells": [
  {
   "cell_type": "markdown",
   "metadata": {},
   "source": [
    "## 2020년 6월 1일 월요일\n",
    "### BaekJoon - 9461번 : 파도반 수열\n",
    "### 문제 : https://www.acmicpc.net/problem/9461\n",
    "### 블로그 : https://somjang.tistory.com/entry/BaeKJoon-9461%EB%B2%88-%ED%8C%8C%EB%8F%84%EB%B0%98-%EC%88%98%EC%97%B4-Python"
   ]
  },
  {
   "cell_type": "markdown",
   "metadata": {},
   "source": [
    "### 첫번째 시도"
   ]
  },
  {
   "cell_type": "code",
   "execution_count": null,
   "metadata": {},
   "outputs": [],
   "source": [
    "loopNum = int(input())\n",
    "nums = []\n",
    "answer = []\n",
    "\n",
    "for i in range(loopNum):\n",
    "    inputNum = int(input())\n",
    "    nums.append(inputNum)\n",
    "\n",
    "for iN in nums:\n",
    "    if iN <= 5:\n",
    "        P = [1, 1, 1, 2, 2]\n",
    "        answer.append(P[iN-1])\n",
    "    else:\n",
    "        P = [1, 1, 1, 2, 2] + [0] * (iN-5)\n",
    "        for i in range(5, iN):\n",
    "            P[i] = P[i-2] + P[i-3]\n",
    "        answer.append(P[iN-1])\n",
    "    \n",
    "for ans in answer:\n",
    "    print(ans)"
   ]
  }
 ],
 "metadata": {
  "kernelspec": {
   "display_name": "Python 3",
   "language": "python",
   "name": "python3"
  },
  "language_info": {
   "codemirror_mode": {
    "name": "ipython",
    "version": 3
   },
   "file_extension": ".py",
   "mimetype": "text/x-python",
   "name": "python",
   "nbconvert_exporter": "python",
   "pygments_lexer": "ipython3",
   "version": "3.7.3"
  }
 },
 "nbformat": 4,
 "nbformat_minor": 2
}
