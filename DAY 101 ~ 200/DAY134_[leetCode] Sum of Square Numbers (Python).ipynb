{
 "cells": [
  {
   "cell_type": "markdown",
   "metadata": {},
   "source": [
    "## 2020년 6월 19일 금요일\n",
    "### leetCode - Sum of Square Numbers (Python)\n",
    "### 문제 : https://leetcode.com/problems/sum-of-square-numbers/\n",
    "### 블로그 : https://somjang.tistory.com/entry/leetCode-633-Sum-of-Square-Numbers-Python"
   ]
  },
  {
   "cell_type": "markdown",
   "metadata": {},
   "source": [
    "### 첫번째 시도"
   ]
  },
  {
   "cell_type": "code",
   "execution_count": null,
   "metadata": {},
   "outputs": [],
   "source": [
    "class Solution:  \n",
    "    def judgeSquareSum(self, c): \n",
    "        for i in range(0,int(c**0.5)+1):  \n",
    "            extra=c-pow(i, 2)  \n",
    "            if (pow(int(extra**0.5),2)) == extra:  \n",
    "                return True  \n",
    "        return False  "
   ]
  }
 ],
 "metadata": {
  "kernelspec": {
   "display_name": "Python 3",
   "language": "python",
   "name": "python3"
  },
  "language_info": {
   "codemirror_mode": {
    "name": "ipython",
    "version": 3
   },
   "file_extension": ".py",
   "mimetype": "text/x-python",
   "name": "python",
   "nbconvert_exporter": "python",
   "pygments_lexer": "ipython3",
   "version": "3.7.3"
  }
 },
 "nbformat": 4,
 "nbformat_minor": 2
}
