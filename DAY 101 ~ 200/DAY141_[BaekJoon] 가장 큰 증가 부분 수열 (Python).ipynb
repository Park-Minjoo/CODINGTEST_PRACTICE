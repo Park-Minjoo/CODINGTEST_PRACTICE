{
 "cells": [
  {
   "cell_type": "markdown",
   "metadata": {},
   "source": [
    "## 2020년 6월 26일 금요일\n",
    "### BaekJoon - 11055 : 가장 큰 증가 부분 수열 (Python)\n",
    "### 문제 : https://www.acmicpc.net/problem/11055\n",
    "### 블로그 : https://somjang.tistory.com/entry/BaekJoon-11055%EB%B2%88-%EA%B0%80%EC%9E%A5-%ED%81%B0-%EC%A6%9D%EA%B0%80-%EB%B6%80%EB%B6%84-%EC%88%98%EC%97%B4-Python"
   ]
  },
  {
   "cell_type": "markdown",
   "metadata": {},
   "source": [
    "### 첫번째 시도"
   ]
  },
  {
   "cell_type": "code",
   "execution_count": null,
   "metadata": {},
   "outputs": [],
   "source": [
    "inputNum = int(input())\n",
    "inputNums = input()\n",
    "inputNums = inputNums.split()\n",
    "inputNums = [int(num) for num in inputNums]\n",
    "nc = [0] * (inputNum)\n",
    "maxNum = 0\n",
    "\n",
    "for i in range(0, inputNum):\n",
    "    nc[i] = nc[i] + inputNums[i]\n",
    "    for j in range(0, i):\n",
    "        if inputNums[j] < inputNums[i] and nc[i] < nc[j] + inputNums[i]:\n",
    "            nc[i] = nc[j] + inputNums[i]\n",
    "    if maxNum < nc[i]:\n",
    "        maxNum = nc[i]\n",
    "print(max(nc))"
   ]
  }
 ],
 "metadata": {
  "kernelspec": {
   "display_name": "Python 3",
   "language": "python",
   "name": "python3"
  },
  "language_info": {
   "codemirror_mode": {
    "name": "ipython",
    "version": 3
   },
   "file_extension": ".py",
   "mimetype": "text/x-python",
   "name": "python",
   "nbconvert_exporter": "python",
   "pygments_lexer": "ipython3",
   "version": "3.7.3"
  }
 },
 "nbformat": 4,
 "nbformat_minor": 2
}
