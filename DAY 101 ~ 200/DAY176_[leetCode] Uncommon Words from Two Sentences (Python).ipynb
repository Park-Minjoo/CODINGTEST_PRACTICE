{
 "cells": [
  {
   "cell_type": "markdown",
   "metadata": {},
   "source": [
    "## 2020년 7월 31일 금요일\n",
    "### leetCode - Uncommon Words from Two Sentences (Python)\n",
    "### 문제 : https://leetcode.com/problems/uncommon-words-from-two-sentences/\n",
    "### 블로그 : https://somjang.tistory.com/entry/leetCode-884-Uncommon-Words-from-Two-Sentences-Python"
   ]
  },
  {
   "cell_type": "markdown",
   "metadata": {},
   "source": [
    "### 첫번째 시도"
   ]
  },
  {
   "cell_type": "code",
   "execution_count": null,
   "metadata": {},
   "outputs": [],
   "source": [
    "from collections import Counter\n",
    "\n",
    "class Solution:\n",
    "    def uncommonFromSentences(self, A: str, B: str) -> List[str]:\n",
    "        array = A.split(\" \") + B.split(\" \")\n",
    "        \n",
    "        cnt = list(Counter(array).items())\n",
    "        \n",
    "        answer = [item[0] for item in cnt if item[1] == 1]\n",
    "        \n",
    "        return answer"
   ]
  }
 ],
 "metadata": {
  "kernelspec": {
   "display_name": "Python 3",
   "language": "python",
   "name": "python3"
  },
  "language_info": {
   "codemirror_mode": {
    "name": "ipython",
    "version": 3
   },
   "file_extension": ".py",
   "mimetype": "text/x-python",
   "name": "python",
   "nbconvert_exporter": "python",
   "pygments_lexer": "ipython3",
   "version": "3.7.3"
  }
 },
 "nbformat": 4,
 "nbformat_minor": 2
}
