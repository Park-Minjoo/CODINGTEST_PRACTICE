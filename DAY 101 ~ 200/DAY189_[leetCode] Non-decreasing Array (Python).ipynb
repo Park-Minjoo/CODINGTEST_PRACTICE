{
 "cells": [
  {
   "cell_type": "markdown",
   "metadata": {},
   "source": [
    "## 2020년 8월 13일 목요일\n",
    "### leetCode - Non-decreasing Array (Python)\n",
    "### 문제 : https://leetcode.com/problems/non-decreasing-array/\n",
    "### 블로그 : https://somjang.tistory.com/entry/leetCode-665-Non-decreasing-Array-Python"
   ]
  },
  {
   "cell_type": "markdown",
   "metadata": {},
   "source": [
    "### 첫번째 시도"
   ]
  },
  {
   "cell_type": "code",
   "execution_count": null,
   "metadata": {},
   "outputs": [],
   "source": [
    "class Solution:\n",
    "    def checkPossibility(self, nums: List[int]) -> bool:\n",
    "        if len(nums) < 2:\n",
    "            return True\n",
    "        \n",
    "        cnt=0\n",
    "        \n",
    "        for i in range( 1, len(nums) ):\n",
    "            if nums[i-1]>nums[i]:\n",
    "                cnt = cnt + 1\n",
    "                \n",
    "                if i == 1 or nums[i-2] <= nums[i]:\n",
    "                    nums[i-1] = nums[i]\n",
    "                else:\n",
    "                    nums[i] = nums[i-1]\n",
    "                    \n",
    "                if cnt > 1:\n",
    "                    return False\n",
    "                \n",
    "        return True"
   ]
  }
 ],
 "metadata": {
  "kernelspec": {
   "display_name": "Python 3",
   "language": "python",
   "name": "python3"
  },
  "language_info": {
   "codemirror_mode": {
    "name": "ipython",
    "version": 3
   },
   "file_extension": ".py",
   "mimetype": "text/x-python",
   "name": "python",
   "nbconvert_exporter": "python",
   "pygments_lexer": "ipython3",
   "version": "3.7.3"
  }
 },
 "nbformat": 4,
 "nbformat_minor": 2
}
