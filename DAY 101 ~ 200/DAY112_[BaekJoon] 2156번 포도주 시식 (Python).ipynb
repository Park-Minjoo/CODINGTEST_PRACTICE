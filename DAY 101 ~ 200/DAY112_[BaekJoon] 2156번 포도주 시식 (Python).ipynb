{
 "cells": [
  {
   "cell_type": "markdown",
   "metadata": {},
   "source": [
    "## 2020년 5월 28일 목요일\n",
    "### BaekJoon - 2156번 : 포도주 시식\n",
    "### 문제 : https://www.acmicpc.net/problem/2156\n",
    "### 블로그 : https://somjang.tistory.com/entry/BaeKJoon-2156%EB%B2%88-%ED%8F%AC%EB%8F%84%EC%A3%BC-%EC%8B%9C%EC%8B%9D-Python"
   ]
  },
  {
   "cell_type": "markdown",
   "metadata": {},
   "source": [
    "### 첫번째 시도"
   ]
  },
  {
   "cell_type": "code",
   "execution_count": null,
   "metadata": {},
   "outputs": [],
   "source": [
    "inputNum = int(input())\n",
    "\n",
    "amount_of_wine = []\n",
    "\n",
    "for i in range(inputNum):\n",
    "    ryang = int(input())\n",
    "    amount_of_wine.append(ryang)\n",
    "    \n",
    "nc = [[0]*3 for _ in range(inputNum+1)]\n",
    "\n",
    "for i in range(1, inputNum+1):\n",
    "    nc[i][0] = max(nc[i-1])\n",
    "    if i > 1:\n",
    "        nc[i][1] = max(nc[i-2][0] + amount_of_wine[i-1] + amount_of_wine[i-2], nc[i-1][0] + amount_of_wine[i-1])\n",
    "    else:\n",
    "        nc[i][1] = amount_of_wine[i-1]\n",
    "print(max(nc[inputNum]))"
   ]
  }
 ],
 "metadata": {
  "kernelspec": {
   "display_name": "Python 3",
   "language": "python",
   "name": "python3"
  },
  "language_info": {
   "codemirror_mode": {
    "name": "ipython",
    "version": 3
   },
   "file_extension": ".py",
   "mimetype": "text/x-python",
   "name": "python",
   "nbconvert_exporter": "python",
   "pygments_lexer": "ipython3",
   "version": "3.7.3"
  }
 },
 "nbformat": 4,
 "nbformat_minor": 2
}
