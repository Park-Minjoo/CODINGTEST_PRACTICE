{
 "cells": [
  {
   "cell_type": "markdown",
   "metadata": {},
   "source": [
    "## 2020년 7월 12일 일요일\n",
    "### leetCode - Power of Two (Python)\n",
    "### 문제 : https://leetcode.com/problems/power-of-two/\n",
    "### 블로그 : https://somjang.tistory.com/entry/leetCode-231-Power-of-Two-Python"
   ]
  },
  {
   "cell_type": "markdown",
   "metadata": {},
   "source": [
    "### 첫번째 시도"
   ]
  },
  {
   "cell_type": "code",
   "execution_count": null,
   "metadata": {},
   "outputs": [],
   "source": [
    "class Solution:\n",
    "    def isPowerOfTwo(self, n: int) -> bool:\n",
    "        answer = False\n",
    "        pow_2s = []\n",
    "        \n",
    "        for i in range(50):\n",
    "            pow_2s.append(pow(2, i))\n",
    "            \n",
    "        if n in pow_2s:\n",
    "            answer = True\n",
    "            \n",
    "        return answer"
   ]
  }
 ],
 "metadata": {
  "kernelspec": {
   "display_name": "Python 3",
   "language": "python",
   "name": "python3"
  },
  "language_info": {
   "codemirror_mode": {
    "name": "ipython",
    "version": 3
   },
   "file_extension": ".py",
   "mimetype": "text/x-python",
   "name": "python",
   "nbconvert_exporter": "python",
   "pygments_lexer": "ipython3",
   "version": "3.7.3"
  }
 },
 "nbformat": 4,
 "nbformat_minor": 2
}
