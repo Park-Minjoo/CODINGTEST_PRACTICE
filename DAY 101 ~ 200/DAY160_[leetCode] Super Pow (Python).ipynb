{
 "cells": [
  {
   "cell_type": "markdown",
   "metadata": {},
   "source": [
    "## 2020년 7월 15일 수요일\n",
    "### leetCode - Super Pow (Python)\n",
    "### 문제 : https://leetcode.com/problems/super-pow/\n",
    "### 블로그 : https://somjang.tistory.com/entry/leetCode-372-Super-Pow-Python"
   ]
  },
  {
   "cell_type": "markdown",
   "metadata": {},
   "source": [
    "### 첫번째 시도"
   ]
  },
  {
   "cell_type": "code",
   "execution_count": null,
   "metadata": {},
   "outputs": [],
   "source": [
    "class Solution:\n",
    "    def superPow(self, a: int, b: List[int]) -> int:\n",
    "        answer = 1\n",
    "        for b_val in b[::-1]:\n",
    "            answer = answer * a ** b_val % 1337\n",
    "            a = pow(a, 10) % 1337\n",
    "        return answer"
   ]
  }
 ],
 "metadata": {
  "kernelspec": {
   "display_name": "Python 3",
   "language": "python",
   "name": "python3"
  },
  "language_info": {
   "codemirror_mode": {
    "name": "ipython",
    "version": 3
   },
   "file_extension": ".py",
   "mimetype": "text/x-python",
   "name": "python",
   "nbconvert_exporter": "python",
   "pygments_lexer": "ipython3",
   "version": "3.7.3"
  }
 },
 "nbformat": 4,
 "nbformat_minor": 2
}
