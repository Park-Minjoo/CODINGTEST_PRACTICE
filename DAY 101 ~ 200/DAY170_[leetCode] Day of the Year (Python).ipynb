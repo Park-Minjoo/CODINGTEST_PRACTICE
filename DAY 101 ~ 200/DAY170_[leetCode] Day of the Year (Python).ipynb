{
 "cells": [
  {
   "cell_type": "markdown",
   "metadata": {},
   "source": [
    "## 2020년 7월 25일 토요일\n",
    "### leetCode - Day of the Year (Python)\n",
    "### 문제 : https://leetcode.com/problems/day-of-the-year/\n",
    "### 블로그 : https://somjang.tistory.com/entry/leetCode-342-Power-of-Four-Python?category=351755"
   ]
  },
  {
   "cell_type": "markdown",
   "metadata": {},
   "source": [
    "### 첫번째 시도"
   ]
  },
  {
   "cell_type": "code",
   "execution_count": null,
   "metadata": {},
   "outputs": [],
   "source": [
    "class Solution:\n",
    "    def dayOfYear(self, date: str) -> int:\n",
    "        year, month, day = int(date.split('-')[0]), int(date.split('-')[1]), int(date.split('-')[2])\n",
    "        \n",
    "        days = [31, 28, 31, 30, 31, 30, 31, 31, 30, 31, 30, 31]\n",
    "        \n",
    "        answer = sum(days[:month-1]) + day\n",
    "        \n",
    "        if ((year % 4 == 0 and year % 100 != 0) or year % 400 == 0) and month > 2:\n",
    "            answer = answer + 1\n",
    "            \n",
    "        return answer"
   ]
  }
 ],
 "metadata": {
  "kernelspec": {
   "display_name": "Python 3",
   "language": "python",
   "name": "python3"
  },
  "language_info": {
   "codemirror_mode": {
    "name": "ipython",
    "version": 3
   },
   "file_extension": ".py",
   "mimetype": "text/x-python",
   "name": "python",
   "nbconvert_exporter": "python",
   "pygments_lexer": "ipython3",
   "version": "3.7.3"
  }
 },
 "nbformat": 4,
 "nbformat_minor": 2
}
