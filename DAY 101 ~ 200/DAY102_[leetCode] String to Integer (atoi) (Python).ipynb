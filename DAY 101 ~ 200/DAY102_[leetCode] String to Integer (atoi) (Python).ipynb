{
 "cells": [
  {
   "cell_type": "markdown",
   "metadata": {},
   "source": [
    "## 2020년 5월 18일 월요일\n",
    "### leetCode - String to Integer (atoi)\n",
    "### 문제 : https://leetcode.com/problems/string-to-integer-atoi/\n",
    "### 블로그 : https://somjang.tistory.com/entry/leetCode-8-String-to-Integer-atoi-Python"
   ]
  },
  {
   "cell_type": "markdown",
   "metadata": {},
   "source": [
    "### 첫번째 시도"
   ]
  },
  {
   "cell_type": "code",
   "execution_count": 1,
   "metadata": {},
   "outputs": [],
   "source": [
    "import re\n",
    "\n",
    "class Solution:\n",
    "    def myAtoi(self, string) -> int:\n",
    "        answer = 0\n",
    "        \n",
    "        string = string.strip()\n",
    "    \n",
    "        if string == \"\":\n",
    "            answer = 0\n",
    "        else:\n",
    "            string_list = list(string)\n",
    "\n",
    "            if string_list[0] == '-':\n",
    "                isMinus = True\n",
    "\n",
    "\n",
    "            number_list = re.findall(r\"^[-+]?[0-9]+\", string)\n",
    "\n",
    "            print(number_list)\n",
    "\n",
    "            if len(number_list) == 0:\n",
    "                answer = 0\n",
    "            else:\n",
    "                number = int(number_list[0])\n",
    "                if number > pow(2, 31) - 1:\n",
    "                    number = pow(2, 31) -1\n",
    "                elif number < pow(2, 31) * (-1):\n",
    "                    number = pow(2, 31) * (-1)\n",
    "\n",
    "                answer = number\n",
    "        \n",
    "        return answer"
   ]
  }
 ],
 "metadata": {
  "kernelspec": {
   "display_name": "Python 3",
   "language": "python",
   "name": "python3"
  },
  "language_info": {
   "codemirror_mode": {
    "name": "ipython",
    "version": 3
   },
   "file_extension": ".py",
   "mimetype": "text/x-python",
   "name": "python",
   "nbconvert_exporter": "python",
   "pygments_lexer": "ipython3",
   "version": "3.7.3"
  }
 },
 "nbformat": 4,
 "nbformat_minor": 2
}
