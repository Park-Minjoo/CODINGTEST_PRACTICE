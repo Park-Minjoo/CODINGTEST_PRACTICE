{
 "cells": [
  {
   "cell_type": "markdown",
   "metadata": {},
   "source": [
    "## 2020년 6월 2일 화요일\n",
    "### leetCode - 50 : Pow( x, n )\n",
    "### 문제 : https://leetcode.com/problems/powx-n/\n",
    "### 블로그 : https://somjang.tistory.com/entry/leetCode-50-Powx-n-Python"
   ]
  },
  {
   "cell_type": "markdown",
   "metadata": {},
   "source": [
    "### 첫번째 시도"
   ]
  },
  {
   "cell_type": "code",
   "execution_count": null,
   "metadata": {},
   "outputs": [],
   "source": [
    "class Solution:\n",
    "    def myPow(self, x: float, n: int) -> float:\n",
    "        my_pow_num = pow(x, n)\n",
    "        \n",
    "        if my_pow_num > (pow(2, 31) - 1):\n",
    "            my_pow_num = pow(2, 31) -1\n",
    "        elif my_pow_num < (pow(2, 31)) * (-1):\n",
    "            my_pow_num = pow(2, 31) * (-1)\n",
    "            \n",
    "        return my_pow_num"
   ]
  }
 ],
 "metadata": {
  "kernelspec": {
   "display_name": "Python 3",
   "language": "python",
   "name": "python3"
  },
  "language_info": {
   "codemirror_mode": {
    "name": "ipython",
    "version": 3
   },
   "file_extension": ".py",
   "mimetype": "text/x-python",
   "name": "python",
   "nbconvert_exporter": "python",
   "pygments_lexer": "ipython3",
   "version": "3.7.3"
  }
 },
 "nbformat": 4,
 "nbformat_minor": 2
}
