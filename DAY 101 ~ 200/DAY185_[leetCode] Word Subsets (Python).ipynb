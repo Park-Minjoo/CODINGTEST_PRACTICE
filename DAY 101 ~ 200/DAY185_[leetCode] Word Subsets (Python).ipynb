{
 "cells": [
  {
   "cell_type": "markdown",
   "metadata": {},
   "source": [
    "## 2020년 8월 9일 일요일\n",
    "### leetCode - Word Subsets (Python)\n",
    "### 문제 : https://leetcode.com/problems/word-subsets/\n",
    "### 블로그 : https://somjang.tistory.com/entry/leetCode-916-Word-Subsets-Python"
   ]
  },
  {
   "cell_type": "markdown",
   "metadata": {},
   "source": [
    "### 첫번째 시도"
   ]
  },
  {
   "cell_type": "code",
   "execution_count": null,
   "metadata": {},
   "outputs": [],
   "source": [
    "from collections import Counter\n",
    "class Solution:\n",
    "    def wordSubsets(self, A: List[str], B: List[str]) -> List[str]:\n",
    "        answer=[]\n",
    "        B_cnt = {}\n",
    "        \n",
    "        for b in B:\n",
    "            b_cnt=Counter(b)\n",
    "            \n",
    "            for key in b_cnt:\n",
    "                B_cnt[key]=max(B_cnt.get(key,0),b_cnt[key])\n",
    "\n",
    "        for a in A:\n",
    "            a_cnt=Counter(a)\n",
    "            \n",
    "            isCheck=True\n",
    "            \n",
    "            for key in B_cnt:\n",
    "                if a_cnt.get(key,0)<B_cnt[key]:\n",
    "                    isCheck=False\n",
    "                    break\n",
    "                    \n",
    "            if isCheck == True:\n",
    "                answer.append(a)\n",
    "                \n",
    "        return answer"
   ]
  }
 ],
 "metadata": {
  "kernelspec": {
   "display_name": "Python 3",
   "language": "python",
   "name": "python3"
  },
  "language_info": {
   "codemirror_mode": {
    "name": "ipython",
    "version": 3
   },
   "file_extension": ".py",
   "mimetype": "text/x-python",
   "name": "python",
   "nbconvert_exporter": "python",
   "pygments_lexer": "ipython3",
   "version": "3.7.3"
  }
 },
 "nbformat": 4,
 "nbformat_minor": 2
}
