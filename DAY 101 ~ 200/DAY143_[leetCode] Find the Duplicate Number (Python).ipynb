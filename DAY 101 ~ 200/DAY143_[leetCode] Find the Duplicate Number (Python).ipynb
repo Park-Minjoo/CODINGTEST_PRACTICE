{
 "cells": [
  {
   "cell_type": "markdown",
   "metadata": {},
   "source": [
    "## 2020년 6월 28일 일요일\n",
    "### leetCode - Find the Duplicate Number (Python)\n",
    "### 문제 : https://leetcode.com/problems/find-the-duplicate-number/\n",
    "### 블로그 : https://somjang.tistory.com/entry/leetCode-287-Find-the-Duplicate-Number-Python"
   ]
  },
  {
   "cell_type": "markdown",
   "metadata": {},
   "source": [
    "### 첫번째 시도"
   ]
  },
  {
   "cell_type": "code",
   "execution_count": null,
   "metadata": {},
   "outputs": [],
   "source": [
    "from collections import Counter\n",
    "\n",
    "class Solution:\n",
    "    def findDuplicate(self, nums: List[int]) -> int:\n",
    "        answer = 0\n",
    "        cnt = Counter(nums)\n",
    "        \n",
    "        for key, val in cnt.items():\n",
    "            if val != 1:\n",
    "                answer = key\n",
    "                break\n",
    "                \n",
    "        return answer"
   ]
  }
 ],
 "metadata": {
  "kernelspec": {
   "display_name": "Python 3",
   "language": "python",
   "name": "python3"
  },
  "language_info": {
   "codemirror_mode": {
    "name": "ipython",
    "version": 3
   },
   "file_extension": ".py",
   "mimetype": "text/x-python",
   "name": "python",
   "nbconvert_exporter": "python",
   "pygments_lexer": "ipython3",
   "version": "3.7.3"
  }
 },
 "nbformat": 4,
 "nbformat_minor": 2
}
