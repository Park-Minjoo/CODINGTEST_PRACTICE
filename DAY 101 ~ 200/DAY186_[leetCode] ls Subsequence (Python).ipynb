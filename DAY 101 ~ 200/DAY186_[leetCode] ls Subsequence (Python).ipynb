{
 "cells": [
  {
   "cell_type": "markdown",
   "metadata": {},
   "source": [
    "## 2020년 8월 10일 월요일\n",
    "### leetCode - Is Subsequence (Python)\n",
    "### 문제 : https://leetcode.com/problems/is-subsequence/\n",
    "### 블로그 : https://somjang.tistory.com/entry/leetCode-392-Is-Subsequence-Python"
   ]
  },
  {
   "cell_type": "markdown",
   "metadata": {},
   "source": [
    "### 첫번째 시도"
   ]
  },
  {
   "cell_type": "code",
   "execution_count": null,
   "metadata": {},
   "outputs": [],
   "source": [
    "class Solution:\n",
    "    def isSubsequence(self, s: str, t: str) -> bool:\n",
    "        len_s = len(s)\n",
    "        \n",
    "        if len_s == 0:\n",
    "            return True\n",
    "        \n",
    "        cnt = 0\n",
    "        \n",
    "        for val in t:\n",
    "            if val == s[cnt]:\n",
    "                cnt = cnt + 1\n",
    "                \n",
    "                if cnt == len_s:\n",
    "                    return True\n",
    "                    break\n",
    "                \n",
    "        return False"
   ]
  }
 ],
 "metadata": {
  "kernelspec": {
   "display_name": "Python 3",
   "language": "python",
   "name": "python3"
  },
  "language_info": {
   "codemirror_mode": {
    "name": "ipython",
    "version": 3
   },
   "file_extension": ".py",
   "mimetype": "text/x-python",
   "name": "python",
   "nbconvert_exporter": "python",
   "pygments_lexer": "ipython3",
   "version": "3.7.3"
  }
 },
 "nbformat": 4,
 "nbformat_minor": 2
}
