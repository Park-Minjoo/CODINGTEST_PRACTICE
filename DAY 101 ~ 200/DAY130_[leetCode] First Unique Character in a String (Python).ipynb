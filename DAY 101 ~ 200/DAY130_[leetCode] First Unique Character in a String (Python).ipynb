{
 "cells": [
  {
   "cell_type": "markdown",
   "metadata": {},
   "source": [
    "## 2020년 6월 15일 월요일\n",
    "### leetCode - First Unique Character in a String (Python)\n",
    "### 문제 : https://leetcode.com/problems/first-unique-character-in-a-string/\n",
    "### 블로그 : https://somjang.tistory.com/entry/leetCode-387-First-Unique-Character-in-a-String-Python"
   ]
  },
  {
   "cell_type": "markdown",
   "metadata": {},
   "source": [
    "### 첫번째 시도"
   ]
  },
  {
   "cell_type": "code",
   "execution_count": null,
   "metadata": {},
   "outputs": [],
   "source": [
    "from collections import Counter\n",
    "\n",
    "class Solution:\n",
    "    def firstUniqChar(self, s: str) -> int:\n",
    "        answer = -1\n",
    "        s = list(s)\n",
    "        cnt_dict = Counter(s)\n",
    "        i = 0\n",
    "        \n",
    "        for word in s:\n",
    "            if cnt_dict[word] == 1:\n",
    "                answer = i\n",
    "                break\n",
    "            i = i + 1\n",
    "                \n",
    "        return answer"
   ]
  }
 ],
 "metadata": {
  "kernelspec": {
   "display_name": "Python 3",
   "language": "python",
   "name": "python3"
  },
  "language_info": {
   "codemirror_mode": {
    "name": "ipython",
    "version": 3
   },
   "file_extension": ".py",
   "mimetype": "text/x-python",
   "name": "python",
   "nbconvert_exporter": "python",
   "pygments_lexer": "ipython3",
   "version": "3.7.3"
  }
 },
 "nbformat": 4,
 "nbformat_minor": 2
}
