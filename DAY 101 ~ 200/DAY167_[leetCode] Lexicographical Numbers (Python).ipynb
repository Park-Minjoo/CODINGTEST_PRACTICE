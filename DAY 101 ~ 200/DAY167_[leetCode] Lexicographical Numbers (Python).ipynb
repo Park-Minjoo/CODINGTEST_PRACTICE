{
 "cells": [
  {
   "cell_type": "markdown",
   "metadata": {},
   "source": [
    "## 2020년 7월 22일 수요일\n",
    "### leetCode - Lexicographical Numbers (Python)\n",
    "### 문제 : https://leetcode.com/problems/lexicographical-numbers/\n",
    "### 블로그 : https://somjang.tistory.com/entry/leetCode-386-Lexicographical-Numbers-Python"
   ]
  },
  {
   "cell_type": "markdown",
   "metadata": {},
   "source": [
    "### 첫번째 시도"
   ]
  },
  {
   "cell_type": "code",
   "execution_count": null,
   "metadata": {},
   "outputs": [],
   "source": [
    "class Solution:\n",
    "    def lexicalOrder(self, n: int) -> List[int]:\n",
    "        my_nums = [str(i) for i in range(1, n+1)]\n",
    "        \n",
    "        my_nums = list(sorted(my_nums))\n",
    "        \n",
    "        return my_nums"
   ]
  }
 ],
 "metadata": {
  "kernelspec": {
   "display_name": "Python 3",
   "language": "python",
   "name": "python3"
  },
  "language_info": {
   "codemirror_mode": {
    "name": "ipython",
    "version": 3
   },
   "file_extension": ".py",
   "mimetype": "text/x-python",
   "name": "python",
   "nbconvert_exporter": "python",
   "pygments_lexer": "ipython3",
   "version": "3.7.3"
  }
 },
 "nbformat": 4,
 "nbformat_minor": 2
}
