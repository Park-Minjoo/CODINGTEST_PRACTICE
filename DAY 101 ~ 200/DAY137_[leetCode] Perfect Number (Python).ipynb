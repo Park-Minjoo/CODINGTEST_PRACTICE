{
 "cells": [
  {
   "cell_type": "markdown",
   "metadata": {},
   "source": [
    "## 2020년 6월 22일 월요일\n",
    "### leetCode - Perfect Number (Python)\n",
    "### 문제 : https://leetcode.com/problems/perfect-number/\n",
    "### 블로그 : https://somjang.tistory.com/entry/leetCode-507-Perfect-Number-Python"
   ]
  },
  {
   "cell_type": "markdown",
   "metadata": {},
   "source": [
    "### 첫번째 시도"
   ]
  },
  {
   "cell_type": "code",
   "execution_count": null,
   "metadata": {},
   "outputs": [],
   "source": [
    "import math \n",
    "\n",
    "class Solution(object):\n",
    "    def checkPerfectNumber(self, num):\n",
    "        \n",
    "        if num <= 1: \n",
    "            return False\n",
    "        my_sum = 1\n",
    "        for i in range(2, int(math.sqrt(num) + 1)):\n",
    "            if num % i == 0:\n",
    "                my_sum = my_sum + i + num / i\n",
    "        return num == my_sum"
   ]
  }
 ],
 "metadata": {
  "kernelspec": {
   "display_name": "Python 3",
   "language": "python",
   "name": "python3"
  },
  "language_info": {
   "codemirror_mode": {
    "name": "ipython",
    "version": 3
   },
   "file_extension": ".py",
   "mimetype": "text/x-python",
   "name": "python",
   "nbconvert_exporter": "python",
   "pygments_lexer": "ipython3",
   "version": "3.7.3"
  }
 },
 "nbformat": 4,
 "nbformat_minor": 2
}
