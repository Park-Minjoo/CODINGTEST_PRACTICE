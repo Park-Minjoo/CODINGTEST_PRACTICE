{
 "cells": [
  {
   "cell_type": "markdown",
   "metadata": {},
   "source": [
    "## 2020년 7월 24일 금요일\n",
    "### leetCode - Power of Four (Python)\n",
    "### 문제 : https://leetcode.com/problems/power-of-four/\n",
    "### 블로그 : https://somjang.tistory.com/entry/leetCode-342-Power-of-Four-Python"
   ]
  },
  {
   "cell_type": "markdown",
   "metadata": {},
   "source": [
    "### 첫번째 시도"
   ]
  },
  {
   "cell_type": "code",
   "execution_count": null,
   "metadata": {},
   "outputs": [],
   "source": [
    "class Solution:\n",
    "    def isPowerOfFour(self, num: int) -> bool:\n",
    "        if num <= 0: \n",
    "            answer =False\n",
    "        else:\n",
    "            while num % 4 == 0:\n",
    "                num = num / 4\n",
    "            if num == 1:\n",
    "                answer = True\n",
    "            else:\n",
    "                answer = False\n",
    "        return answer"
   ]
  }
 ],
 "metadata": {
  "kernelspec": {
   "display_name": "Python 3",
   "language": "python",
   "name": "python3"
  },
  "language_info": {
   "codemirror_mode": {
    "name": "ipython",
    "version": 3
   },
   "file_extension": ".py",
   "mimetype": "text/x-python",
   "name": "python",
   "nbconvert_exporter": "python",
   "pygments_lexer": "ipython3",
   "version": "3.7.3"
  }
 },
 "nbformat": 4,
 "nbformat_minor": 2
}
