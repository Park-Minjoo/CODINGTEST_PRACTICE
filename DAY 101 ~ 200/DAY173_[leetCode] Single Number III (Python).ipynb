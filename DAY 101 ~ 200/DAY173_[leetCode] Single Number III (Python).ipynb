{
 "cells": [
  {
   "cell_type": "markdown",
   "metadata": {},
   "source": [
    "## 2020년 7월 28일 화요일\n",
    "### leetCode - Single Number III (Python)\n",
    "### 문제 : https://leetcode.com/problems/single-number-iii/\n",
    "### 블로그 : https://somjang.tistory.com/entry/leetCode-260-Single-Number-III-Python"
   ]
  },
  {
   "cell_type": "markdown",
   "metadata": {},
   "source": [
    "### 첫번째 시도"
   ]
  },
  {
   "cell_type": "code",
   "execution_count": null,
   "metadata": {},
   "outputs": [],
   "source": [
    "from collections import Counter\n",
    "class Solution:\n",
    "    def singleNumber(self, nums: List[int]) -> List[int]:\n",
    "        cnt = Counter(nums)\n",
    "        \n",
    "        cnt_list = list(cnt.items())\n",
    "        \n",
    "        answer = [x[0] for x in cnt_list if x[1] == 1]\n",
    "        \n",
    "        return answer"
   ]
  }
 ],
 "metadata": {
  "kernelspec": {
   "display_name": "Python 3",
   "language": "python",
   "name": "python3"
  },
  "language_info": {
   "codemirror_mode": {
    "name": "ipython",
    "version": 3
   },
   "file_extension": ".py",
   "mimetype": "text/x-python",
   "name": "python",
   "nbconvert_exporter": "python",
   "pygments_lexer": "ipython3",
   "version": "3.7.3"
  }
 },
 "nbformat": 4,
 "nbformat_minor": 2
}
