{
 "cells": [
  {
   "cell_type": "markdown",
   "metadata": {},
   "source": [
    "## 2020년 9월 4일 금요일\n",
    "### leetCode - Reverse Only Letters (Python)\n",
    "### 문제 : https://leetcode.com/problems/reverse-only-letters/\n",
    "### 블로그 : https://somjang.tistory.com/entry/leetCode-917-Reverse-Only-Letters-Python"
   ]
  },
  {
   "cell_type": "markdown",
   "metadata": {},
   "source": [
    "### 첫번째 시도"
   ]
  },
  {
   "cell_type": "code",
   "execution_count": null,
   "metadata": {},
   "outputs": [],
   "source": [
    "class Solution:\n",
    "    def reverseOnlyLetters(self, S: str) -> str:\n",
    "        temp = []\n",
    "        indexs = {}\n",
    "        \n",
    "        answer = []\n",
    "        \n",
    "        cnt = 0\n",
    "        \n",
    "        s_list = list(S)\n",
    "        \n",
    "        for i in range(len(s_list)):\n",
    "            if s_list[i].isalpha() == True:\n",
    "                temp.append(s_list[i])\n",
    "                cnt = cnt + 1\n",
    "            if s_list[i].isalpha() == False:\n",
    "                indexs[i] = s_list[i]\n",
    "        if cnt == len(S):\n",
    "            answer = S[::-1]\n",
    "        else:\n",
    "            keys = list(indexs.keys())\n",
    "            temp = temp[::-1]\n",
    "            \n",
    "            idx = 0\n",
    "            \n",
    "            for i in range(len(S)):\n",
    "                if i in keys:\n",
    "                    answer.append(indexs[i])\n",
    "                elif i not in keys:\n",
    "                    answer.append(temp[idx])\n",
    "                    idx = idx + 1\n",
    "                    \n",
    "            answer = ''.join(answer)\n",
    "            \n",
    "        return answer"
   ]
  }
 ],
 "metadata": {
  "kernelspec": {
   "display_name": "Python 3",
   "language": "python",
   "name": "python3"
  },
  "language_info": {
   "codemirror_mode": {
    "name": "ipython",
    "version": 3
   },
   "file_extension": ".py",
   "mimetype": "text/x-python",
   "name": "python",
   "nbconvert_exporter": "python",
   "pygments_lexer": "ipython3",
   "version": "3.7.3"
  }
 },
 "nbformat": 4,
 "nbformat_minor": 2
}
