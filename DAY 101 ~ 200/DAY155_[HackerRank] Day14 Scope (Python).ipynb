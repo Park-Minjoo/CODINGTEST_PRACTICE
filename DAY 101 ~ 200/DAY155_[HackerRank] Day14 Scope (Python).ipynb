{
 "cells": [
  {
   "cell_type": "markdown",
   "metadata": {},
   "source": [
    "## 2020년 7월 10일 금요일\n",
    "### HackerRank - Day14 : Scope (Python)\n",
    "### 문제 : https://www.hackerrank.com/challenges/30-scope/problem\n",
    "### 블로그 : https://somjang.tistory.com/entry/HackerRank-Day-14-Scope-Python"
   ]
  },
  {
   "cell_type": "markdown",
   "metadata": {},
   "source": [
    "### 첫번째 시도"
   ]
  },
  {
   "cell_type": "code",
   "execution_count": null,
   "metadata": {},
   "outputs": [],
   "source": [
    "class Difference:\n",
    "    def __init__(self, a):\n",
    "        self.__elements = a\n",
    "        self.maximumDifference = 0\n",
    "\n",
    "    def computeDifference(self):\n",
    "        max_num = max(self.__elements)\n",
    "        min_num = min(self.__elements)\n",
    "\n",
    "        max_differ = abs(max_num - min_num)\n",
    "\n",
    "        self.maximumDifference = max_differ\n",
    "    # Add your code here\n",
    "    \n",
    "\n",
    "# End of Difference class\n",
    "\n",
    "_ = input()\n",
    "a = [int(e) for e in input().split(' ')]\n",
    "\n",
    "d = Difference(a)\n",
    "d.computeDifference()\n",
    "\n",
    "print(d.maximumDifference)"
   ]
  }
 ],
 "metadata": {
  "kernelspec": {
   "display_name": "Python 3",
   "language": "python",
   "name": "python3"
  },
  "language_info": {
   "codemirror_mode": {
    "name": "ipython",
    "version": 3
   },
   "file_extension": ".py",
   "mimetype": "text/x-python",
   "name": "python",
   "nbconvert_exporter": "python",
   "pygments_lexer": "ipython3",
   "version": "3.7.3"
  }
 },
 "nbformat": 4,
 "nbformat_minor": 2
}
