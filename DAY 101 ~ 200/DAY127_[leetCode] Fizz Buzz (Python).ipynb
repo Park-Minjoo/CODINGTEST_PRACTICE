{
 "cells": [
  {
   "cell_type": "markdown",
   "metadata": {},
   "source": [
    "## 2020년 6월 12일 금요일\n",
    "### leetCode - Fizz Buzz (Python)\n",
    "### 문제 : https://leetcode.com/problems/fizz-buzz/\n",
    "### 블로그 : https://somjang.tistory.com/entry/leetCode-412-Fizz-Buzz-Python"
   ]
  },
  {
   "cell_type": "markdown",
   "metadata": {},
   "source": [
    "### 첫번째 시도"
   ]
  },
  {
   "cell_type": "code",
   "execution_count": null,
   "metadata": {},
   "outputs": [],
   "source": [
    "class Solution:\n",
    "    def fizzBuzz(self, n: int) -> List[str]:\n",
    "        answer = []\n",
    "        \n",
    "        for i in range(1, n+1):\n",
    "            if i % 3 == 0 and i % 5 == 0:\n",
    "                answer.append(\"FizzBuzz\")\n",
    "            elif i % 5 == 0:\n",
    "                answer.append(\"Buzz\")\n",
    "            elif i % 3 == 0:\n",
    "                answer.append(\"Fizz\")\n",
    "            else:\n",
    "                answer.append(str(i))\n",
    "        return answer"
   ]
  }
 ],
 "metadata": {
  "kernelspec": {
   "display_name": "Python 3",
   "language": "python",
   "name": "python3"
  },
  "language_info": {
   "codemirror_mode": {
    "name": "ipython",
    "version": 3
   },
   "file_extension": ".py",
   "mimetype": "text/x-python",
   "name": "python",
   "nbconvert_exporter": "python",
   "pygments_lexer": "ipython3",
   "version": "3.7.3"
  }
 },
 "nbformat": 4,
 "nbformat_minor": 2
}
