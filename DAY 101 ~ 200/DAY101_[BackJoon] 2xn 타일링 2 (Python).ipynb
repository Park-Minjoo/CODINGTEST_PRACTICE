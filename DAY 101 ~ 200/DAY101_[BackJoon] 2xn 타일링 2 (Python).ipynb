{
 "cells": [
  {
   "cell_type": "markdown",
   "metadata": {},
   "source": [
    "## 2020년 5월 17일 토요일\n",
    "### BaekJoon - 11727 : 2xn타일링 2\n",
    "### 문제 : https://www.acmicpc.net/problem/11727\n",
    "### 블로그 : https://somjang.tistory.com/entry/BaeKJoon-11727%EB%B2%88-2xn%ED%83%80%EC%9D%BC%EB%A7%81-2-Python"
   ]
  },
  {
   "cell_type": "markdown",
   "metadata": {},
   "source": [
    "### 첫번째 시도"
   ]
  },
  {
   "cell_type": "code",
   "execution_count": 1,
   "metadata": {},
   "outputs": [],
   "source": [
    "n = int(input())\n",
    "\n",
    "def answer(n):\n",
    "    if n == 1:\n",
    "        fiboNum = 1\n",
    "    elif n == 2:\n",
    "        fiboNum = 3\n",
    "    elif n >= 3:\n",
    "        fibo = [0] * (n)\n",
    "        fibo[0] = 1\n",
    "        fibo[1] = 3\n",
    "\n",
    "        for i in range(2, n):\n",
    "            fibo[i] = (fibo[i-1] + fibo[i-2] + fibo[i-2]) % 10007\n",
    "\n",
    "        fiboNum = fibo[n-1]\n",
    "    return fiboNum\n",
    "\n",
    "print(answer(n))"
   ]
  }
 ],
 "metadata": {
  "kernelspec": {
   "display_name": "Python 3",
   "language": "python",
   "name": "python3"
  },
  "language_info": {
   "codemirror_mode": {
    "name": "ipython",
    "version": 3
   },
   "file_extension": ".py",
   "mimetype": "text/x-python",
   "name": "python",
   "nbconvert_exporter": "python",
   "pygments_lexer": "ipython3",
   "version": "3.7.3"
  }
 },
 "nbformat": 4,
 "nbformat_minor": 2
}
