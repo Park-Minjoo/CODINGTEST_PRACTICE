{
 "cells": [
  {
   "cell_type": "markdown",
   "metadata": {},
   "source": [
    "## 2020년 7월 17일 금요일\n",
    "### leetCode - Remove Duplicates from Sorted Array (Python)\n",
    "### 문제 : https://leetcode.com/problems/remove-duplicates-from-sorted-array/\n",
    "### 블로그 : https://somjang.tistory.com/entry/leetCode-26-Remove-Duplicates-from-Sorted-Array-Python"
   ]
  },
  {
   "cell_type": "markdown",
   "metadata": {},
   "source": [
    "### 첫번째 시도"
   ]
  },
  {
   "cell_type": "code",
   "execution_count": null,
   "metadata": {},
   "outputs": [],
   "source": [
    "class Solution:\n",
    "    def removeDuplicates(self, nums: List[int]) -> int:\n",
    "        nums_len = len(nums)\n",
    "        \n",
    "        cnt = 0\n",
    "        \n",
    "        for i in range(1, nums_len):\n",
    "            if nums[cnt] != nums[i]:\n",
    "                cnt = cnt + 1\n",
    "                nums[cnt] = nums[i]\n",
    "        return cnt + 1"
   ]
  }
 ],
 "metadata": {
  "kernelspec": {
   "display_name": "Python 3",
   "language": "python",
   "name": "python3"
  },
  "language_info": {
   "codemirror_mode": {
    "name": "ipython",
    "version": 3
   },
   "file_extension": ".py",
   "mimetype": "text/x-python",
   "name": "python",
   "nbconvert_exporter": "python",
   "pygments_lexer": "ipython3",
   "version": "3.7.3"
  }
 },
 "nbformat": 4,
 "nbformat_minor": 2
}
