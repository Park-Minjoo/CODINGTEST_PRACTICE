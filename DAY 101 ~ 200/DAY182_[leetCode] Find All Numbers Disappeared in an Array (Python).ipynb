{
 "cells": [
  {
   "cell_type": "markdown",
   "metadata": {},
   "source": [
    "## 2020년 8월 6일 목요일\n",
    "### leetCode - Find All Numbers Disappeared in an Array (Python)\n",
    "### 문제 : https://leetcode.com/problems/find-all-numbers-disappeared-in-an-array/\n",
    "### 블로그 : https://somjang.tistory.com/entry/leetCode-448-Find-All-Numbers-Disappeared-in-an-Array-Python"
   ]
  },
  {
   "cell_type": "markdown",
   "metadata": {},
   "source": [
    "### 첫번째 시도"
   ]
  },
  {
   "cell_type": "code",
   "execution_count": null,
   "metadata": {},
   "outputs": [],
   "source": [
    "class Solution:\n",
    "    def findDisappearedNumbers(self, nums: List[int]) -> List[int]:\n",
    "        if len(nums) < 0:\n",
    "            answer = []\n",
    "        else:\n",
    "            max_num = len(nums)\n",
    "            answer = list(set(range(1,max_num + 1)) - set(nums))\n",
    "\n",
    "        return answer"
   ]
  }
 ],
 "metadata": {
  "kernelspec": {
   "display_name": "Python 3",
   "language": "python",
   "name": "python3"
  },
  "language_info": {
   "codemirror_mode": {
    "name": "ipython",
    "version": 3
   },
   "file_extension": ".py",
   "mimetype": "text/x-python",
   "name": "python",
   "nbconvert_exporter": "python",
   "pygments_lexer": "ipython3",
   "version": "3.7.3"
  }
 },
 "nbformat": 4,
 "nbformat_minor": 2
}
