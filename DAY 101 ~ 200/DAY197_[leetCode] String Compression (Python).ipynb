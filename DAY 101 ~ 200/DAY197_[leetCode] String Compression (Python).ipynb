{
 "cells": [
  {
   "cell_type": "markdown",
   "metadata": {},
   "source": [
    "## 2020년 9월 3일 목요일\n",
    "### leetCode - String Compression (Python)\n",
    "### 문제 : https://leetcode.com/problems/string-compression/\n",
    "### 블로그 : https://somjang.tistory.com/entry/leetCode-443-String-Compression-Python"
   ]
  },
  {
   "cell_type": "markdown",
   "metadata": {},
   "source": [
    "### 첫번째 시도"
   ]
  },
  {
   "cell_type": "code",
   "execution_count": null,
   "metadata": {},
   "outputs": [],
   "source": [
    "class Solution:\n",
    "    def compress(self, chars: List[str]) -> int:\n",
    "        stack = []\n",
    "        nums = 1\n",
    "        idx = 0\n",
    "        \n",
    "        if len(chars) > 0:\n",
    "            stack.append(chars[0])\n",
    "        \n",
    "        for i in range(1, len(chars)):\n",
    "            if chars[i] == stack[idx]:\n",
    "                nums = nums + 1\n",
    "                \n",
    "                if i == len(chars) - 1:\n",
    "                    num_list = list(str(nums))\n",
    "                    idx = idx + 1 + len(num_list)\n",
    "                \n",
    "                    stack = stack + num_list\n",
    "                    \n",
    "                \n",
    "            elif chars[i] != stack[idx]:\n",
    "\n",
    "                if nums == 1:    \n",
    "                    idx = idx + 1\n",
    "\n",
    "                num_list = list(str(nums))\n",
    "                \n",
    "                if num_list != ['1']:\n",
    "                    idx = idx + 1 + len(num_list)\n",
    "                    stack = stack + num_list\n",
    "                \n",
    "                stack.append(chars[i])\n",
    "                nums = 1\n",
    "\n",
    "        for i in range(len(stack)):\n",
    "            chars[i] = stack[i]\n",
    "        \n",
    "        chars = chars[0:len(stack)]\n",
    "        \n",
    "        return len(chars)"
   ]
  }
 ],
 "metadata": {
  "kernelspec": {
   "display_name": "Python 3",
   "language": "python",
   "name": "python3"
  },
  "language_info": {
   "codemirror_mode": {
    "name": "ipython",
    "version": 3
   },
   "file_extension": ".py",
   "mimetype": "text/x-python",
   "name": "python",
   "nbconvert_exporter": "python",
   "pygments_lexer": "ipython3",
   "version": "3.7.3"
  }
 },
 "nbformat": 4,
 "nbformat_minor": 2
}
