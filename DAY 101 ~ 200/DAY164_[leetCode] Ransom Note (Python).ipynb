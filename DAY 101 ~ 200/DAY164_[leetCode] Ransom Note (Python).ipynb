{
 "cells": [
  {
   "cell_type": "markdown",
   "metadata": {},
   "source": [
    "## 2020년 7월 19일 일요일\n",
    "### leetCode - Ransom Note (Python)\n",
    "### 문제 : https://leetcode.com/problems/ransom-note/\n",
    "### 블로그 : https://somjang.tistory.com/entry/leetCode-383-Ransom-Note-Python"
   ]
  },
  {
   "cell_type": "markdown",
   "metadata": {},
   "source": [
    "### 첫번째 시도"
   ]
  },
  {
   "cell_type": "code",
   "execution_count": null,
   "metadata": {},
   "outputs": [],
   "source": [
    "from collections import Counter\n",
    "\n",
    "class Solution:\n",
    "    def canConstruct(self, ransomNote: str, magazine: str) -> bool:\n",
    "        answer = True\n",
    "        \n",
    "        ran_list = list(ransomNote)\n",
    "        mag_list = list(magazine)\n",
    "        \n",
    "        ran_cnt = dict(Counter(ran_list))\n",
    "        mag_cnt = dict(Counter(mag_list))\n",
    "        \n",
    "        ran_keys = ran_cnt.keys()\n",
    "        mag_keys = mag_cnt.keys()\n",
    "        \n",
    "        for r_key in ran_keys:\n",
    "            if r_key not in mag_keys:\n",
    "                answer = False\n",
    "                break\n",
    "            \n",
    "            check = mag_cnt[r_key] - ran_cnt[r_key]\n",
    "            if check < 0:\n",
    "                answer = False\n",
    "                break\n",
    "        \n",
    "            \n",
    "        return answer"
   ]
  }
 ],
 "metadata": {
  "kernelspec": {
   "display_name": "Python 3",
   "language": "python",
   "name": "python3"
  },
  "language_info": {
   "codemirror_mode": {
    "name": "ipython",
    "version": 3
   },
   "file_extension": ".py",
   "mimetype": "text/x-python",
   "name": "python",
   "nbconvert_exporter": "python",
   "pygments_lexer": "ipython3",
   "version": "3.7.3"
  }
 },
 "nbformat": 4,
 "nbformat_minor": 2
}
