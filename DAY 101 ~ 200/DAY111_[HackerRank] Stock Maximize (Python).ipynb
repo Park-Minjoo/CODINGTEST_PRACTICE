{
 "cells": [
  {
   "cell_type": "markdown",
   "metadata": {},
   "source": [
    "## 2020년 5월 27일 수요일\n",
    "### HackerRank - Stock Maximize\n",
    "### 문제 : https://www.hackerrank.com/challenges/stockmax/problem\n",
    "### 블로그 : https://somjang.tistory.com/entry/HackerRank-Stock-Maximize-Python"
   ]
  },
  {
   "cell_type": "markdown",
   "metadata": {},
   "source": [
    "### 첫번째 시도"
   ]
  },
  {
   "cell_type": "code",
   "execution_count": null,
   "metadata": {},
   "outputs": [],
   "source": [
    "#!/bin/python3\n",
    "\n",
    "import math\n",
    "import os\n",
    "import random\n",
    "import re\n",
    "import sys\n",
    "\n",
    "#\n",
    "# Complete the 'stockmax' function below.\n",
    "#\n",
    "# The function is expected to return a LONG_INTEGER.\n",
    "# The function accepts INTEGER_ARRAY prices as parameter.\n",
    "#\n",
    "\n",
    "def stockmax(price):\n",
    "    my_profit = 0\n",
    "    \n",
    "    max_price = price[-1]\n",
    "    \n",
    "    for i in range(len(price)-1, -1, -1):\n",
    "        if price[i] >= max_price:\n",
    "            max_price = price[i]\n",
    "            \n",
    "        my_profit = my_profit + max_price - price[i]\n",
    "        \n",
    "    return my_profit\n",
    "\n",
    "if __name__ == '__main__':\n",
    "    fptr = open(os.environ['OUTPUT_PATH'], 'w')\n",
    "\n",
    "    t = int(input().strip())\n",
    "\n",
    "    for t_itr in range(t):\n",
    "        n = int(input().strip())\n",
    "\n",
    "        prices = list(map(int, input().rstrip().split()))\n",
    "\n",
    "        result = stockmax(prices)\n",
    "\n",
    "        fptr.write(str(result) + '\\n')\n",
    "\n",
    "    fptr.close()"
   ]
  }
 ],
 "metadata": {
  "kernelspec": {
   "display_name": "Python 3",
   "language": "python",
   "name": "python3"
  },
  "language_info": {
   "codemirror_mode": {
    "name": "ipython",
    "version": 3
   },
   "file_extension": ".py",
   "mimetype": "text/x-python",
   "name": "python",
   "nbconvert_exporter": "python",
   "pygments_lexer": "ipython3",
   "version": "3.7.3"
  }
 },
 "nbformat": 4,
 "nbformat_minor": 2
}
