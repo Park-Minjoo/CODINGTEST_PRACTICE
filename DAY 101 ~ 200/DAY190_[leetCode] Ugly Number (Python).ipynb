{
 "cells": [
  {
   "cell_type": "markdown",
   "metadata": {},
   "source": [
    "## 2020년 8월 14일 금요일\n",
    "### leetCode - Ugly Number (Python)\n",
    "### 문제 : https://leetcode.com/problems/ugly-number/\n",
    "### 블로그 : https://somjang.tistory.com/entry/leetCode-263-Ugly-Number-Python"
   ]
  },
  {
   "cell_type": "markdown",
   "metadata": {},
   "source": [
    "### 첫번째 시도"
   ]
  },
  {
   "cell_type": "code",
   "execution_count": null,
   "metadata": {},
   "outputs": [],
   "source": [
    "class Solution:\n",
    "    def isUgly(self, num: int) -> bool:\n",
    "        answer = False\n",
    "        if num <= 0:\n",
    "            return False\n",
    "        \n",
    "        nums = [2, 3, 5]\n",
    "\n",
    "        for i in nums:\n",
    "            while num % i == 0:\n",
    "                num = num / i\n",
    "        \n",
    "        if num == 1:\n",
    "            answer = True\n",
    "        \n",
    "        return answer"
   ]
  }
 ],
 "metadata": {
  "kernelspec": {
   "display_name": "Python 3",
   "language": "python",
   "name": "python3"
  },
  "language_info": {
   "codemirror_mode": {
    "name": "ipython",
    "version": 3
   },
   "file_extension": ".py",
   "mimetype": "text/x-python",
   "name": "python",
   "nbconvert_exporter": "python",
   "pygments_lexer": "ipython3",
   "version": "3.7.3"
  }
 },
 "nbformat": 4,
 "nbformat_minor": 2
}
