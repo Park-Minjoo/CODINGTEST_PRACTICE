{
 "cells": [
  {
   "cell_type": "markdown",
   "metadata": {},
   "source": [
    "## 2020년 7월 4일 토요일\n",
    "### BaekJoon - 최소공배수 (Python)\n",
    "### 문제 : https://www.acmicpc.net/problem/1934\n",
    "### 블로그 : https://somjang.tistory.com/entry/BaekJoon-1934%EB%B2%88-%EC%B5%9C%EC%86%8C%EA%B3%B5%EB%B0%B0%EC%88%98-Python"
   ]
  },
  {
   "cell_type": "markdown",
   "metadata": {},
   "source": [
    "### 첫번째 시도"
   ]
  },
  {
   "cell_type": "code",
   "execution_count": null,
   "metadata": {},
   "outputs": [],
   "source": [
    "def gcd(a, b):\n",
    "    mod = a%b\n",
    "    while mod > 0:\n",
    "        a = b\n",
    "        b = mod\n",
    "        mod = a%b\n",
    "    return b\n",
    "\n",
    "def lcm(a, b):\n",
    "    return a*b//gcd(a,b)\n",
    "\n",
    "loopNum = int(input())\n",
    "\n",
    "for i in range(loopNum):\n",
    "    inputNums = input()\n",
    "    inputNums = inputNums.split()\n",
    "    a = int(inputNums[0])\n",
    "    b = int(inputNums[1])\n",
    "    print(lcm(a, b))"
   ]
  }
 ],
 "metadata": {
  "kernelspec": {
   "display_name": "Python 3",
   "language": "python",
   "name": "python3"
  },
  "language_info": {
   "codemirror_mode": {
    "name": "ipython",
    "version": 3
   },
   "file_extension": ".py",
   "mimetype": "text/x-python",
   "name": "python",
   "nbconvert_exporter": "python",
   "pygments_lexer": "ipython3",
   "version": "3.7.3"
  }
 },
 "nbformat": 4,
 "nbformat_minor": 2
}
