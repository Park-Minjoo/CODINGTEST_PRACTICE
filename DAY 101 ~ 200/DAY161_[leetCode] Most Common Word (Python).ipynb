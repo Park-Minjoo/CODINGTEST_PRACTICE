{
 "cells": [
  {
   "cell_type": "markdown",
   "metadata": {},
   "source": [
    "## 2020년 7월 16일 목요일\n",
    "### leetCode - Most Common Word (Python)\n",
    "### 문제 : https://leetcode.com/problems/most-common-word/\n",
    "### 블로그 : https://somjang.tistory.com/entry/leetCode-819-Most-Common-Word-Python"
   ]
  },
  {
   "cell_type": "markdown",
   "metadata": {},
   "source": [
    "### 첫번째 시도"
   ]
  },
  {
   "cell_type": "code",
   "execution_count": null,
   "metadata": {},
   "outputs": [],
   "source": [
    "from collections import Counter\n",
    "import re\n",
    "\n",
    "class Solution:\n",
    "    def mostCommonWord(self, paragraph: str, banned: List[str]) -> str:\n",
    "        paragraph = paragraph.lower()\n",
    "        paragraph = re.sub('[^a-z]',' ',paragraph)\n",
    "        \n",
    "        paragraph_list = paragraph.split(' ')\n",
    "        \n",
    "        paragraph_list = [para for para in paragraph_list if para not in banned and para != '']\n",
    "        \n",
    "        cnt_dict = Counter(paragraph_list)\n",
    "        \n",
    "        val_list = list(cnt_dict.items())\n",
    "        print(val_list)\n",
    "        \n",
    "        sorted_list = sorted(val_list, key=lambda x: -x[1])\n",
    "        print(sorted_list)\n",
    "        \n",
    "        answer = sorted_list[0][0]\n",
    "        \n",
    "        return answer"
   ]
  }
 ],
 "metadata": {
  "kernelspec": {
   "display_name": "Python 3",
   "language": "python",
   "name": "python3"
  },
  "language_info": {
   "codemirror_mode": {
    "name": "ipython",
    "version": 3
   },
   "file_extension": ".py",
   "mimetype": "text/x-python",
   "name": "python",
   "nbconvert_exporter": "python",
   "pygments_lexer": "ipython3",
   "version": "3.7.3"
  }
 },
 "nbformat": 4,
 "nbformat_minor": 2
}
