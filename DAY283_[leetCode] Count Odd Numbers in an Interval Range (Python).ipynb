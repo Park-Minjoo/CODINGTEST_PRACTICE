{
 "cells": [
  {
   "cell_type": "markdown",
   "metadata": {},
   "source": [
    "## 2020년 12월 28일 월요일\n",
    "### leetCode - Count Odd Numbers in an Interval Range (Python)\n",
    "### 문제 : https://leetcode.com/problems/count-odd-numbers-in-an-interval-range/\n",
    "### 블로그 : https://somjang.tistory.com/entry/leetCode-1523-Count-Odd-Numbers-in-an-Interval-Range-Python"
   ]
  },
  {
   "cell_type": "markdown",
   "metadata": {},
   "source": [
    "### 첫번째 시도"
   ]
  },
  {
   "cell_type": "code",
   "execution_count": null,
   "metadata": {},
   "outputs": [],
   "source": [
    "class Solution:\n",
    "    def countOdds(self, low: int, high: int) -> int:\n",
    "        answer = 0\n",
    "        \n",
    "        if high-low == 1:\n",
    "            answer = 1\n",
    "        elif low % 2 == 1 and high % 2 == 1:\n",
    "            answer = (high - low + 1) // 2 + 1\n",
    "        elif low % 2 == 0 and high % 2 == 0:\n",
    "            answer = (high - low + 1) // 2\n",
    "        elif (low % 2 == 0 and high % 2 == 1) or (low % 2 == 1 and high % 2 == 0):\n",
    "            answer = (high - low + 1) // 2\n",
    "            \n",
    "        return answer"
   ]
  }
 ],
 "metadata": {
  "kernelspec": {
   "display_name": "Python 3",
   "language": "python",
   "name": "python3"
  },
  "language_info": {
   "codemirror_mode": {
    "name": "ipython",
    "version": 3
   },
   "file_extension": ".py",
   "mimetype": "text/x-python",
   "name": "python",
   "nbconvert_exporter": "python",
   "pygments_lexer": "ipython3",
   "version": "3.7.3"
  }
 },
 "nbformat": 4,
 "nbformat_minor": 2
}
