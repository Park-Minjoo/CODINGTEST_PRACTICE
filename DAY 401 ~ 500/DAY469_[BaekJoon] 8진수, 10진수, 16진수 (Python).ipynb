{
 "cells": [
  {
   "cell_type": "markdown",
   "metadata": {},
   "source": [
    "## 2021년 8월 31일 화요일\n",
    "### BaekJoon - 8진수, 10진수, 16진수 (Python)\n",
    "### 문제 : https://www.acmicpc.net/problem/11816\n",
    "### 블로그 : https://somjang.tistory.com/entry/BaekJoon-11816%EB%B2%88-8%EC%A7%84%EC%88%98-10%EC%A7%84%EC%88%98-16%EC%A7%84%EC%88%98-Python"
   ]
  },
  {
   "cell_type": "markdown",
   "metadata": {},
   "source": [
    "### Solution"
   ]
  },
  {
   "cell_type": "code",
   "execution_count": null,
   "metadata": {},
   "outputs": [],
   "source": [
    "def convert_to_decimal(num_string):\n",
    "    if num_string[:2] == \"0x\":\n",
    "        answer = int(num_string, 16)\n",
    "    elif num_string[:1] == \"0\":\n",
    "        answer = int(num_string, 8)\n",
    "    else:\n",
    "        answer = int(num_string)\n",
    "    return answer\n",
    "\n",
    "if __name__ == \"__main__\":\n",
    "    num_string = input()\n",
    "    print(convert_to_decimal(num_string))"
   ]
  }
 ],
 "metadata": {
  "kernelspec": {
   "display_name": "Python 3",
   "language": "python",
   "name": "python3"
  },
  "language_info": {
   "codemirror_mode": {
    "name": "ipython",
    "version": 3
   },
   "file_extension": ".py",
   "mimetype": "text/x-python",
   "name": "python",
   "nbconvert_exporter": "python",
   "pygments_lexer": "ipython3",
   "version": "3.7.3"
  }
 },
 "nbformat": 4,
 "nbformat_minor": 2
}
