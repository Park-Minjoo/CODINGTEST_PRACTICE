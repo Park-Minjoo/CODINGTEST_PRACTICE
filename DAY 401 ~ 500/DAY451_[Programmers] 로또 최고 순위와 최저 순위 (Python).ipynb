{
 "cells": [
  {
   "cell_type": "markdown",
   "metadata": {},
   "source": [
    "## 2021년 8월 12일 목요일\n",
    "### Programmers - 로또의 최고 순위와 최저 순위 (Python)\n",
    "### 문제 : https://programmers.co.kr/learn/courses/30/lessons/77484\n",
    "### 블로그 : https://somjang.tistory.com/entry/Programmes-2021-Dev-Matching-%EC%9B%B9-%EB%B0%B1%EC%97%94%EB%93%9C-%EA%B0%9C%EB%B0%9C%EC%9E%90%EC%83%81%EB%B0%98%EA%B8%B0-%EB%A1%9C%EB%98%90%EC%9D%98-%EC%B5%9C%EA%B3%A0-%EC%88%9C%EC%9C%84%EC%99%80-%EC%B5%9C%EC%A0%80-%EC%88%9C%EC%9C%84-Python"
   ]
  },
  {
   "cell_type": "markdown",
   "metadata": {},
   "source": [
    "### Solution"
   ]
  },
  {
   "cell_type": "code",
   "execution_count": null,
   "metadata": {},
   "outputs": [],
   "source": [
    "def get_lotto_rank(match_num):\n",
    "    rank_dict = {6: 1, 5: 2, 4: 3, 3: 4, 2: 5, 1: 6, 0: 6}\n",
    "    \n",
    "    return rank_dict[match_num]\n",
    "    \n",
    "\n",
    "def solution(lottos, win_nums):\n",
    "    answer = []\n",
    "    \n",
    "    certain_numbers = [number for number in lottos if number != 0]\n",
    "    \n",
    "    uncertain_nums = len(lottos) - len(certain_numbers)\n",
    "    \n",
    "    min_match = len(set(win_nums) & set(certain_numbers))\n",
    "    \n",
    "    max_match = min_match + uncertain_nums\n",
    "    \n",
    "    \n",
    "    return [get_lotto_rank(max_match), get_lotto_rank(min_match)]"
   ]
  }
 ],
 "metadata": {
  "kernelspec": {
   "display_name": "Python 3",
   "language": "python",
   "name": "python3"
  },
  "language_info": {
   "codemirror_mode": {
    "name": "ipython",
    "version": 3
   },
   "file_extension": ".py",
   "mimetype": "text/x-python",
   "name": "python",
   "nbconvert_exporter": "python",
   "pygments_lexer": "ipython3",
   "version": "3.7.3"
  }
 },
 "nbformat": 4,
 "nbformat_minor": 2
}
