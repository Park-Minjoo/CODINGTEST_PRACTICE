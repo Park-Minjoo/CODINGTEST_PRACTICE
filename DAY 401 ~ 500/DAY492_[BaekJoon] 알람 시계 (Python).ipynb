{
 "cells": [
  {
   "cell_type": "markdown",
   "metadata": {},
   "source": [
    "## 2021년 9월 24일 금요일\n",
    "### BaekJoon - 알람 시계 (Python)\n",
    "### 문제 : https://www.acmicpc.net/problem/2884\n",
    "### 블로그 : https://somjang.tistory.com/entry/BaekJoon-2884%EB%B2%88-%EC%95%8C%EB%9E%8C-%EC%8B%9C%EA%B3%84-Python"
   ]
  },
  {
   "cell_type": "markdown",
   "metadata": {},
   "source": [
    "### Solution"
   ]
  },
  {
   "cell_type": "code",
   "execution_count": null,
   "metadata": {},
   "outputs": [],
   "source": [
    "def alarm_clock(alarm_time):\n",
    "    hour, minute = map(int, alarm_time.split())\n",
    "    \n",
    "    minute = minute - 45\n",
    "    \n",
    "    if minute < 0:\n",
    "        hour = hour - 1\n",
    "        minute = 60 + minute\n",
    "        \n",
    "    return f\"{hour} {minute}\"\n",
    "\n",
    "if __name__ == \"__main__\":\n",
    "    alarm_time = input()\n",
    "    print(alarm_clock(alarm_time))"
   ]
  }
 ],
 "metadata": {
  "kernelspec": {
   "display_name": "Python 3",
   "language": "python",
   "name": "python3"
  },
  "language_info": {
   "codemirror_mode": {
    "name": "ipython",
    "version": 3
   },
   "file_extension": ".py",
   "mimetype": "text/x-python",
   "name": "python",
   "nbconvert_exporter": "python",
   "pygments_lexer": "ipython3",
   "version": "3.7.3"
  }
 },
 "nbformat": 4,
 "nbformat_minor": 2
}
