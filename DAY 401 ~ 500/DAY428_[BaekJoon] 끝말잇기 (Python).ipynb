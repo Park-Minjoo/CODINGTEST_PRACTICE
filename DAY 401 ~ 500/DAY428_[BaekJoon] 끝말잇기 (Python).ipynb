{
 "cells": [
  {
   "cell_type": "markdown",
   "metadata": {},
   "source": [
    "## 2021년 7월 18일 일요일\n",
    "### BaekJoon - 끝말잇기 (Python)\n",
    "### 문제 : https://www.acmicpc.net/problem/20528\n",
    "### 블로그 : https://somjang.tistory.com/entry/BaekJoon-20528%EB%B2%88-%EB%81%9D%EB%A7%90%EC%9E%87%EA%B8%B0-Python"
   ]
  },
  {
   "cell_type": "markdown",
   "metadata": {},
   "source": [
    "### Solution"
   ]
  },
  {
   "cell_type": "code",
   "execution_count": null,
   "metadata": {},
   "outputs": [],
   "source": [
    "def end_to_end(num, string):\n",
    "    is_end_to_end = 1\n",
    "    if num > 0:\n",
    "        split_str = string.split()\n",
    "    \n",
    "        compare_word = split_str[0][-1]\n",
    "    \n",
    "        for i in range(1, num):\n",
    "            if split_str[i][0] != compare_word:\n",
    "                is_end_to_end = 0\n",
    "                break\n",
    "            compare_word = split_str[i][-1]\n",
    "        \n",
    "    return is_end_to_end\n",
    "\n",
    "if __name__ == \"__main__\":\n",
    "    input_num = int(input())\n",
    "    string = input()\n",
    "    print(end_to_end(input_num, string))"
   ]
  }
 ],
 "metadata": {
  "kernelspec": {
   "display_name": "Python 3",
   "language": "python",
   "name": "python3"
  },
  "language_info": {
   "codemirror_mode": {
    "name": "ipython",
    "version": 3
   },
   "file_extension": ".py",
   "mimetype": "text/x-python",
   "name": "python",
   "nbconvert_exporter": "python",
   "pygments_lexer": "ipython3",
   "version": "3.7.3"
  }
 },
 "nbformat": 4,
 "nbformat_minor": 2
}
