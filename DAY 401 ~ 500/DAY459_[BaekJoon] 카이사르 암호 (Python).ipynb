{
 "cells": [
  {
   "cell_type": "markdown",
   "metadata": {},
   "source": [
    "## 2021년 8월 20일 금요일\n",
    "### BaekJoon - 카이사르 암호 (Python)\n",
    "### 문제 : https://www.acmicpc.net/problem/5598\n",
    "### 블로그 : https://somjang.tistory.com/entry/BaekJoon-5598%EB%B2%88-%EC%B9%B4%EC%9D%B4%EC%82%AC%EB%A5%B4-%EC%95%94%ED%98%B8-Python"
   ]
  },
  {
   "cell_type": "markdown",
   "metadata": {},
   "source": [
    "### Solution"
   ]
  },
  {
   "cell_type": "code",
   "execution_count": null,
   "metadata": {},
   "outputs": [],
   "source": [
    "def caesar_cipher(string):\n",
    "    answer = []\n",
    "    \n",
    "    for char in string:\n",
    "        if ord(char) > ord('C'):\n",
    "            temp = chr(ord(char) - 3)\n",
    "        elif ord(char) < ord('D'):\n",
    "            temp = chr(ord('Z') - ord('C') + ord(char))\n",
    "            \n",
    "        answer.append(temp)\n",
    "    return \"\".join(answer)\n",
    "\n",
    "if __name__ == \"__main__\":\n",
    "    string = input()\n",
    "    print(caesar_cipher(string))"
   ]
  }
 ],
 "metadata": {
  "kernelspec": {
   "display_name": "Python 3",
   "language": "python",
   "name": "python3"
  },
  "language_info": {
   "codemirror_mode": {
    "name": "ipython",
    "version": 3
   },
   "file_extension": ".py",
   "mimetype": "text/x-python",
   "name": "python",
   "nbconvert_exporter": "python",
   "pygments_lexer": "ipython3",
   "version": "3.7.3"
  }
 },
 "nbformat": 4,
 "nbformat_minor": 2
}
