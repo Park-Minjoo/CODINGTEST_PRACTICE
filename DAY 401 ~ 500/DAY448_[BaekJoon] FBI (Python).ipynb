{
 "cells": [
  {
   "cell_type": "markdown",
   "metadata": {},
   "source": [
    "## 2021년 8월 9일 월요일\n",
    "### BaekJoon - FBI (Python)\n",
    "### 문제 : https://www.acmicpc.net/problem/2857\n",
    "### 블로그 : https://somjang.tistory.com/entry/BaekJoon-2857번-FBI-Python"
   ]
  },
  {
   "cell_type": "markdown",
   "metadata": {},
   "source": [
    "### Solution"
   ]
  },
  {
   "cell_type": "code",
   "execution_count": null,
   "metadata": {},
   "outputs": [],
   "source": [
    "def find_fbi_agent(agent_list):\n",
    "    result = \"HE GOT AWAY!\"\n",
    "    fbi_agent_ids = []\n",
    "    for agent_id, agent in enumerate(agent_list):\n",
    "        if agent.find(\"FBI\") != -1:\n",
    "            fbi_agent_ids.append(str(agent_id + 1))\n",
    "    \n",
    "    if fbi_agent_ids != []:\n",
    "        result = \" \".join(fbi_agent_ids)\n",
    "    return result\n",
    "\n",
    "if __name__ == \"__main__\":\n",
    "    agent_list = []\n",
    "    for _ in range(5):\n",
    "        agent = input()\n",
    "        agent_list.append(agent)\n",
    "    print(find_fbi_agent(agent_list))"
   ]
  }
 ],
 "metadata": {
  "kernelspec": {
   "display_name": "Python 3",
   "language": "python",
   "name": "python3"
  },
  "language_info": {
   "codemirror_mode": {
    "name": "ipython",
    "version": 3
   },
   "file_extension": ".py",
   "mimetype": "text/x-python",
   "name": "python",
   "nbconvert_exporter": "python",
   "pygments_lexer": "ipython3",
   "version": "3.7.3"
  }
 },
 "nbformat": 4,
 "nbformat_minor": 2
}
