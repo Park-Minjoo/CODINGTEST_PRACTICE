{
 "cells": [
  {
   "cell_type": "markdown",
   "metadata": {},
   "source": [
    "## 2021년 8월 18일 수요일\n",
    "### BaekJoon - 로또 (Python)\n",
    "### 문제 : https://www.acmicpc.net/problem/6603\n",
    "### 블로그 : https://somjang.tistory.com/entry/BaekJoon-6603%EB%B2%88-%EB%A1%9C%EB%98%90-Python-1"
   ]
  },
  {
   "cell_type": "markdown",
   "metadata": {},
   "source": [
    "### Solution"
   ]
  },
  {
   "cell_type": "code",
   "execution_count": null,
   "metadata": {},
   "outputs": [],
   "source": [
    "from itertools import combinations\n",
    "\n",
    "def lotto(numbers):\n",
    "    numbers = numbers.split()\n",
    "    \n",
    "    num, numbers = numbers[0], numbers[1:]\n",
    "    \n",
    "    lotto_comb = list(combinations(numbers, 6))\n",
    "    \n",
    "    lotto_comb = [\" \".join(list(map(str, sorted(list(map(int, comb)))))) for comb in lotto_comb]\n",
    "    \n",
    "    for comb in lotto_comb:\n",
    "        print(comb)\n",
    "    \n",
    "    \n",
    "    \n",
    "if __name__ == \"__main__\":\n",
    "    is_first = True\n",
    "    while True:\n",
    "        input_numbers = input()\n",
    "        \n",
    "        if input_numbers == \"0\":\n",
    "            break\n",
    "        if not is_first:\n",
    "            print()\n",
    "        lotto(input_numbers)\n",
    "        is_first = False"
   ]
  }
 ],
 "metadata": {
  "kernelspec": {
   "display_name": "Python 3",
   "language": "python",
   "name": "python3"
  },
  "language_info": {
   "codemirror_mode": {
    "name": "ipython",
    "version": 3
   },
   "file_extension": ".py",
   "mimetype": "text/x-python",
   "name": "python",
   "nbconvert_exporter": "python",
   "pygments_lexer": "ipython3",
   "version": "3.7.3"
  }
 },
 "nbformat": 4,
 "nbformat_minor": 2
}
