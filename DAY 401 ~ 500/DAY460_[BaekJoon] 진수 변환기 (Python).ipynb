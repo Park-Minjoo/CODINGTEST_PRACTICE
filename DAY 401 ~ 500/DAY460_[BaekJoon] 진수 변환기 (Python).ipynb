{
 "cells": [
  {
   "cell_type": "markdown",
   "metadata": {},
   "source": [
    "## 2021년 8월 21일 토요일\n",
    "### BaekJoon - 진수 변환기 (Python)\n",
    "### 문제 : https://www.acmicpc.net/problem/14915\n",
    "### 블로그 : https://somjang.tistory.com/entry/BaekJoon-14915%EB%B2%88-%EC%A7%84%EC%88%98-%EB%B3%80%ED%99%98%EA%B8%B0-Python"
   ]
  },
  {
   "cell_type": "markdown",
   "metadata": {},
   "source": [
    "### Solution"
   ]
  },
  {
   "cell_type": "code",
   "execution_count": null,
   "metadata": {},
   "outputs": [],
   "source": [
    "def decimal_converter(number, n):\n",
    "    answer = \"\"\n",
    "    temp = list(\"0123456789ABCDEF\")\n",
    "    \n",
    "    if number == 0:\n",
    "        answer = \"0\"\n",
    "    else:\n",
    "        while number:\n",
    "            answer += temp[number % n]\n",
    "            number //= n\n",
    "            \n",
    "    return answer[::-1]\n",
    "\n",
    "\n",
    "if __name__ == \"__main__\":\n",
    "    number, n = map(int, input().split())\n",
    "    print(decimal_converter(number, n))"
   ]
  }
 ],
 "metadata": {
  "kernelspec": {
   "display_name": "Python 3",
   "language": "python",
   "name": "python3"
  },
  "language_info": {
   "codemirror_mode": {
    "name": "ipython",
    "version": 3
   },
   "file_extension": ".py",
   "mimetype": "text/x-python",
   "name": "python",
   "nbconvert_exporter": "python",
   "pygments_lexer": "ipython3",
   "version": "3.7.3"
  }
 },
 "nbformat": 4,
 "nbformat_minor": 2
}
