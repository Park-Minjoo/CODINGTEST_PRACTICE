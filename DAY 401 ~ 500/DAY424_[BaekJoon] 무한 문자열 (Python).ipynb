{
 "cells": [
  {
   "cell_type": "markdown",
   "metadata": {},
   "source": [
    "## 2021년 7월 14일 수요일\n",
    "### BaekJoon - 무한 문자열 (Python)\n",
    "### 문제 : https://www.acmicpc.net/problem/12871\n",
    "### 블로그 : https://somjang.tistory.com/entry/BaekJoon-12871%EB%B2%88-%EB%AC%B4%ED%95%9C-%EB%AC%B8%EC%9E%90%EC%97%B4-Python"
   ]
  },
  {
   "cell_type": "markdown",
   "metadata": {},
   "source": [
    "### Solution"
   ]
  },
  {
   "cell_type": "code",
   "execution_count": null,
   "metadata": {},
   "outputs": [],
   "source": [
    "import math\n",
    "\n",
    "def get_least_common_multiple(string_s_len, string_t_len):\n",
    "    return string_s_len * string_t_len // math.gcd(string_s_len, string_t_len)\n",
    "\n",
    "def infinity_string(string_s, string_t):\n",
    "    is_infinity_string = 0\n",
    "    string_s_len = len(string_s)\n",
    "    string_t_len = len(string_t)\n",
    "        \n",
    "    standard_len = get_least_common_multiple(string_s_len, string_t_len)\n",
    "    \n",
    "    s_multiply_num = standard_len // string_s_len\n",
    "    t_multiply_num = standard_len // string_t_len\n",
    "    \n",
    "    if string_s * s_multiply_num == string_t * t_multiply_num:\n",
    "        is_infinity_string = 1\n",
    "        \n",
    "    return is_infinity_string\n",
    "    \n",
    "\n",
    "if __name__ == \"__main__\":\n",
    "    string_s = input()\n",
    "    string_t = input()\n",
    "    print(infinity_string(string_s, string_t))"
   ]
  }
 ],
 "metadata": {
  "kernelspec": {
   "display_name": "Python 3",
   "language": "python",
   "name": "python3"
  },
  "language_info": {
   "codemirror_mode": {
    "name": "ipython",
    "version": 3
   },
   "file_extension": ".py",
   "mimetype": "text/x-python",
   "name": "python",
   "nbconvert_exporter": "python",
   "pygments_lexer": "ipython3",
   "version": "3.7.3"
  }
 },
 "nbformat": 4,
 "nbformat_minor": 2
}
