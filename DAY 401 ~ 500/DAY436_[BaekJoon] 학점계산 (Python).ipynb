{
 "cells": [
  {
   "cell_type": "markdown",
   "metadata": {},
   "source": [
    "## 2021년 7월 27일 화요일\n",
    "### BaekJoon - 학점계산 (Python)\n",
    "### 문제 : https://www.acmicpc.net/problem/2754\n",
    "### 블로그 : https://somjang.tistory.com/entry/BaekJoon-2754%EB%B2%88-%ED%95%99%EC%A0%90%EA%B3%84%EC%82%B0-Python"
   ]
  },
  {
   "cell_type": "markdown",
   "metadata": {},
   "source": [
    "### Solution"
   ]
  },
  {
   "cell_type": "code",
   "execution_count": null,
   "metadata": {},
   "outputs": [],
   "source": [
    "def credit(string):\n",
    "    credit_dict = {\"A+\": 4.3, \"A0\": 4.0, \"A-\": 3.7, \"B+\": 3.3, \"B0\": 3.0, \"B-\": 2.7, \n",
    "                   \"C+\": 2.3, \"C0\": 2.0, \"C-\": 1.7, \"D+\": 1.3, \"D0\": 1.0, \"D-\": 0.7,\n",
    "                   \"F\" : 0.0}\n",
    "    \n",
    "    return credit_dict[string]\n",
    "\n",
    "\n",
    "if __name__ == \"__main__\":\n",
    "    string = input()\n",
    "    print(credit(string))"
   ]
  }
 ],
 "metadata": {
  "kernelspec": {
   "display_name": "Python 3",
   "language": "python",
   "name": "python3"
  },
  "language_info": {
   "codemirror_mode": {
    "name": "ipython",
    "version": 3
   },
   "file_extension": ".py",
   "mimetype": "text/x-python",
   "name": "python",
   "nbconvert_exporter": "python",
   "pygments_lexer": "ipython3",
   "version": "3.7.3"
  }
 },
 "nbformat": 4,
 "nbformat_minor": 2
}
