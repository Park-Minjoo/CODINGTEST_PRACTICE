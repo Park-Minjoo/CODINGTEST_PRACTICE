{
 "cells": [
  {
   "cell_type": "markdown",
   "metadata": {},
   "source": [
    "## 2021년 7월 5일 월요일\n",
    "### BaekJoon - 신용카드 판별 (Python)\n",
    "### 문제 : https://www.acmicpc.net/problem/14726\n",
    "### 블로그 : https://somjang.tistory.com/entry/BaekJoon-14726%EB%B2%88-%EC%8B%A0%EC%9A%A9%EC%B9%B4%EB%93%9C-%ED%8C%90%EB%B3%84-Python"
   ]
  },
  {
   "cell_type": "markdown",
   "metadata": {},
   "source": [
    "### Solution"
   ]
  },
  {
   "cell_type": "code",
   "execution_count": null,
   "metadata": {},
   "outputs": [],
   "source": [
    "def check_credit_card_number(card_number):\n",
    "    is_valid = \"F\"\n",
    "    \n",
    "    sum_num = 0\n",
    "    \n",
    "    card_number = list(card_number)\n",
    "    \n",
    "    for i, card_num in enumerate(card_number):\n",
    "        if (i + 1) % 2 != 0:\n",
    "            number = int(card_num) * 2\n",
    "            \n",
    "            if number > 9:\n",
    "                number = str(number)\n",
    "                sum_num += int(number[0]) + int(number[1])\n",
    "            else:\n",
    "                sum_num += number\n",
    "        else:\n",
    "            sum_num += int(card_num)\n",
    "                \n",
    "    if sum_num % 10 == 0:\n",
    "        is_valid = \"T\"\n",
    "    \n",
    "    return is_valid\n",
    "\n",
    "if __name__ == \"__main__\":\n",
    "    for _ in range(int(input())):\n",
    "        card_number = input()\n",
    "        print(check_credit_card_number(card_number))"
   ]
  }
 ],
 "metadata": {
  "kernelspec": {
   "display_name": "Python 3",
   "language": "python",
   "name": "python3"
  },
  "language_info": {
   "codemirror_mode": {
    "name": "ipython",
    "version": 3
   },
   "file_extension": ".py",
   "mimetype": "text/x-python",
   "name": "python",
   "nbconvert_exporter": "python",
   "pygments_lexer": "ipython3",
   "version": "3.7.3"
  }
 },
 "nbformat": 4,
 "nbformat_minor": 2
}
