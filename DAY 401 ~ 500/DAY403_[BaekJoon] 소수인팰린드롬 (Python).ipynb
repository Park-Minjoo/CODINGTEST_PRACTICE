{
 "cells": [
  {
   "cell_type": "markdown",
   "metadata": {},
   "source": [
    "## 2021년 6월 22일 화요일\n",
    "### BaekJoon - 소수인팰린드롬 (Python)\n",
    "### 문제 : https://www.acmicpc.net/problem/1990\n",
    "### 블로그 : https://somjang.tistory.com/entry/BaekJoon-1990%EB%B2%88-%EC%86%8C%EC%88%98%EC%9D%B8%ED%8C%B0%EB%A6%B0%EB%93%9C%EB%A1%AC-Python"
   ]
  },
  {
   "cell_type": "markdown",
   "metadata": {},
   "source": [
    "### 첫번째 시도"
   ]
  },
  {
   "cell_type": "code",
   "execution_count": null,
   "metadata": {},
   "outputs": [],
   "source": [
    "def check_is_primary_num(num):\n",
    "    for i in range(2, int(num**0.5) + 1):\n",
    "        if num % i == 0:\n",
    "            return False\n",
    "    return True\n",
    "\n",
    "def check_is_palindrome(num):\n",
    "    is_palindrome = False\n",
    "    num = str(num)\n",
    "    if num == num[::-1]:\n",
    "        is_palindrome = True\n",
    "    return is_palindrome\n",
    "\n",
    "def solution(A, B):\n",
    "    if B > 10000000:\n",
    "        B = 10000000\n",
    "    palindrome_numbers = [num for num in range(A, B + 1) if check_is_palindrome(num)]\n",
    "    primary_nums = [num for num in palindrome_numbers if check_is_primary_num(num)]\n",
    "    for num in primary_nums:\n",
    "        print(num)\n",
    "    print(\"-1\")\n",
    "    \n",
    "if __name__ == \"__main__\":\n",
    "    A, B = map(int, input().split())\n",
    "    \n",
    "    solution(A, B)"
   ]
  }
 ],
 "metadata": {
  "kernelspec": {
   "display_name": "Python 3",
   "language": "python",
   "name": "python3"
  },
  "language_info": {
   "codemirror_mode": {
    "name": "ipython",
    "version": 3
   },
   "file_extension": ".py",
   "mimetype": "text/x-python",
   "name": "python",
   "nbconvert_exporter": "python",
   "pygments_lexer": "ipython3",
   "version": "3.7.3"
  }
 },
 "nbformat": 4,
 "nbformat_minor": 2
}
