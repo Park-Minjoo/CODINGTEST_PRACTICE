{
 "cells": [
  {
   "cell_type": "markdown",
   "metadata": {},
   "source": [
    "## 2021년 7월 6일 화요일\n",
    "### BaekJoon - 럭키 스트레이트 (Python)\n",
    "### 문제 : https://www.acmicpc.net/problem/18406\n",
    "### 블로그 : https://somjang.tistory.com/entry/BaekJoon-18406%EB%B2%88-%EB%9F%AD%ED%82%A4-%EC%8A%A4%ED%8A%B8%EB%A0%88%EC%9D%B4%ED%8A%B8-Python"
   ]
  },
  {
   "cell_type": "markdown",
   "metadata": {},
   "source": [
    "### Solution"
   ]
  },
  {
   "cell_type": "code",
   "execution_count": null,
   "metadata": {},
   "outputs": [],
   "source": [
    "def lucky_straight(score):\n",
    "    state = \"READY\"\n",
    "    median_idx = len(score) // 2\n",
    "    score1, score2 = score[:median_idx], score[median_idx:]\n",
    "    score1 = sum(list(map(int, str(score1))))\n",
    "    score2 = sum(list(map(int, str(score2))))\n",
    "    \n",
    "    if score1 == score2:\n",
    "        state = \"LUCKY\"\n",
    "        \n",
    "    return state\n",
    "    \n",
    "    \n",
    "if __name__ == \"__main__\":\n",
    "    score = input()\n",
    "    print(lucky_straight(score))"
   ]
  }
 ],
 "metadata": {
  "kernelspec": {
   "display_name": "Python 3",
   "language": "python",
   "name": "python3"
  },
  "language_info": {
   "codemirror_mode": {
    "name": "ipython",
    "version": 3
   },
   "file_extension": ".py",
   "mimetype": "text/x-python",
   "name": "python",
   "nbconvert_exporter": "python",
   "pygments_lexer": "ipython3",
   "version": "3.7.3"
  }
 },
 "nbformat": 4,
 "nbformat_minor": 2
}
