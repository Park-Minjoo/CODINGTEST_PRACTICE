{
 "cells": [
  {
   "cell_type": "markdown",
   "metadata": {},
   "source": [
    "## 2021년 8월 2일 월요일\n",
    "### BaekJoon - 잃어버린 괄호 (Python)\n",
    "### 문제 : https://www.acmicpc.net/problem/1541\n",
    "### 블로그 : https://somjang.tistory.com/entry/BaekJoon-1541%EB%B2%88-%EC%9E%83%EC%96%B4%EB%B2%84%EB%A6%B0-%EA%B4%84%ED%98%B8-Python"
   ]
  },
  {
   "cell_type": "markdown",
   "metadata": {},
   "source": [
    "### Solution"
   ]
  },
  {
   "cell_type": "code",
   "execution_count": null,
   "metadata": {},
   "outputs": [],
   "source": [
    "def lost_bracket(expression):\n",
    "    split_minus = expression.split('-')\n",
    "    \n",
    "    temp = []\n",
    "    \n",
    "    for exp in split_minus:\n",
    "        sum_num = 0\n",
    "        for num in exp.split('+'):\n",
    "            sum_num += int(num)    \n",
    "        temp.append(sum_num)\n",
    "    \n",
    "    result = temp[0]\n",
    "    \n",
    "    for num in temp[1:]:\n",
    "        result -= num\n",
    "        \n",
    "    return result\n",
    "\n",
    "if __name__ == \"__main__\":\n",
    "    expression = input()\n",
    "    print(lost_bracket(expression))"
   ]
  }
 ],
 "metadata": {
  "kernelspec": {
   "display_name": "Python 3",
   "language": "python",
   "name": "python3"
  },
  "language_info": {
   "codemirror_mode": {
    "name": "ipython",
    "version": 3
   },
   "file_extension": ".py",
   "mimetype": "text/x-python",
   "name": "python",
   "nbconvert_exporter": "python",
   "pygments_lexer": "ipython3",
   "version": "3.7.3"
  }
 },
 "nbformat": 4,
 "nbformat_minor": 2
}
