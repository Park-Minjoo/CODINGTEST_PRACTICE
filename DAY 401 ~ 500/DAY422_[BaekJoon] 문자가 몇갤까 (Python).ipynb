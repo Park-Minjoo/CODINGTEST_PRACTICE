{
 "cells": [
  {
   "cell_type": "markdown",
   "metadata": {},
   "source": [
    "## 2021년 7월 12일 월요일\n",
    "### BaekJoon - 문자가 몇갤까 (Python)\n",
    "### 문제 : https://www.acmicpc.net/problem/7600\n",
    "### 블로그 : https://somjang.tistory.com/entry/BaekJoon-7600%EB%B2%88-%EB%AC%B8%EC%9E%90%EA%B0%80-%EB%AA%87%EA%B0%A4%EA%B9%8C-Python"
   ]
  },
  {
   "cell_type": "markdown",
   "metadata": {},
   "source": [
    "### Solution"
   ]
  },
  {
   "cell_type": "code",
   "execution_count": null,
   "metadata": {},
   "outputs": [],
   "source": [
    "import re\n",
    "\n",
    "def get_word_nums(string):\n",
    "    string = re.sub(r\"[^a-z]\", '', string.lower())\n",
    "    \n",
    "    alphabets = list(set(string))\n",
    "    \n",
    "    return len(alphabets)\n",
    "\n",
    "if __name__ == \"__main__\":\n",
    "    while True:\n",
    "        string = input()\n",
    "        if string == \"#\":\n",
    "            break\n",
    "        print(get_word_nums(string))"
   ]
  }
 ],
 "metadata": {
  "kernelspec": {
   "display_name": "Python 3",
   "language": "python",
   "name": "python3"
  },
  "language_info": {
   "codemirror_mode": {
    "name": "ipython",
    "version": 3
   },
   "file_extension": ".py",
   "mimetype": "text/x-python",
   "name": "python",
   "nbconvert_exporter": "python",
   "pygments_lexer": "ipython3",
   "version": "3.7.3"
  }
 },
 "nbformat": 4,
 "nbformat_minor": 2
}
