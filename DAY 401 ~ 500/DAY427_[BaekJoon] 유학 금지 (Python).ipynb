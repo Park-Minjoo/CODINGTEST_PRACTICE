{
 "cells": [
  {
   "cell_type": "markdown",
   "metadata": {},
   "source": [
    "## 2021년 7월 17일 토요일\n",
    "### BaekJoon - 유학 금지 (Python)\n",
    "### 문제 : https://www.acmicpc.net/problem/2789\n",
    "### 블로그 : https://somjang.tistory.com/entry/BaekJoon-2789%EB%B2%88-%EC%9C%A0%ED%95%99-%EA%B8%88%EC%A7%80-Python"
   ]
  },
  {
   "cell_type": "markdown",
   "metadata": {},
   "source": [
    "### Solution"
   ]
  },
  {
   "cell_type": "code",
   "execution_count": null,
   "metadata": {},
   "outputs": [],
   "source": [
    "def study_abroad_prohibition(string):\n",
    "    cambridge = set(\"CAMBRIDGE\")\n",
    "    \n",
    "    return \"\".join([char for char in string if char not in cambridge])\n",
    "\n",
    "if __name__ == \"__main__\":\n",
    "    string = input()\n",
    "    print(study_abroad_prohibition(string))"
   ]
  }
 ],
 "metadata": {
  "kernelspec": {
   "display_name": "Python 3",
   "language": "python",
   "name": "python3"
  },
  "language_info": {
   "codemirror_mode": {
    "name": "ipython",
    "version": 3
   },
   "file_extension": ".py",
   "mimetype": "text/x-python",
   "name": "python",
   "nbconvert_exporter": "python",
   "pygments_lexer": "ipython3",
   "version": "3.7.3"
  }
 },
 "nbformat": 4,
 "nbformat_minor": 2
}
