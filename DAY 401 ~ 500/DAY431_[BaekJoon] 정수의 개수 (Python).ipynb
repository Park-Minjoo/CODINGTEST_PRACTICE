{
 "cells": [
  {
   "cell_type": "markdown",
   "metadata": {},
   "source": [
    "## 2021년 7월 21일 수요일\n",
    "### BaekJoon - 정수의 개수 (Python)\n",
    "### 문제 : https://www.acmicpc.net/problem/10821\n",
    "### 블로그 : https://somjang.tistory.com/entry/BaekJoon-10821%EB%B2%88-%EC%A0%95%EC%88%98%EC%9D%98-%EA%B0%9C%EC%88%98-Python"
   ]
  },
  {
   "cell_type": "markdown",
   "metadata": {},
   "source": [
    "### Solution"
   ]
  },
  {
   "cell_type": "code",
   "execution_count": null,
   "metadata": {},
   "outputs": [],
   "source": [
    "def integer_number(string):\n",
    "    return len(string.split(\",\"))\n",
    "\n",
    "if __name__ == \"__main__\":\n",
    "    input_string = input()\n",
    "    print(integer_number(input_string))"
   ]
  }
 ],
 "metadata": {
  "kernelspec": {
   "display_name": "Python 3",
   "language": "python",
   "name": "python3"
  },
  "language_info": {
   "codemirror_mode": {
    "name": "ipython",
    "version": 3
   },
   "file_extension": ".py",
   "mimetype": "text/x-python",
   "name": "python",
   "nbconvert_exporter": "python",
   "pygments_lexer": "ipython3",
   "version": "3.7.3"
  }
 },
 "nbformat": 4,
 "nbformat_minor": 2
}
