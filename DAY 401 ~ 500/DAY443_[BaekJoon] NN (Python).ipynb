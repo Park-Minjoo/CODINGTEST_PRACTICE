{
 "cells": [
  {
   "cell_type": "markdown",
   "metadata": {},
   "source": [
    "## 2021년 8월 4일 수요일\n",
    "### BaekJoon - NN (Python)\n",
    "### 문제 : https://www.acmicpc.net/problem/11944\n",
    "### 블로그 : https://somjang.tistory.com/entry/BaekJoon-11944%EB%B2%88-NN-Python"
   ]
  },
  {
   "cell_type": "markdown",
   "metadata": {},
   "source": [
    "### Solution"
   ]
  },
  {
   "cell_type": "code",
   "execution_count": null,
   "metadata": {},
   "outputs": [],
   "source": [
    "def NN(N, M):\n",
    "    return (N * int(N))[:int(M)]\n",
    "\n",
    "if __name__ == \"__main__\":\n",
    "    N, M = input().split()\n",
    "    print(NN(N, M))"
   ]
  }
 ],
 "metadata": {
  "kernelspec": {
   "display_name": "Python 3",
   "language": "python",
   "name": "python3"
  },
  "language_info": {
   "codemirror_mode": {
    "name": "ipython",
    "version": 3
   },
   "file_extension": ".py",
   "mimetype": "text/x-python",
   "name": "python",
   "nbconvert_exporter": "python",
   "pygments_lexer": "ipython3",
   "version": "3.7.3"
  }
 },
 "nbformat": 4,
 "nbformat_minor": 2
}
