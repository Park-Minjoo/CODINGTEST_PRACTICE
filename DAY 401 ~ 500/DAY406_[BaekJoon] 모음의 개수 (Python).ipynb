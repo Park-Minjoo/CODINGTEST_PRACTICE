{
 "cells": [
  {
   "cell_type": "markdown",
   "metadata": {},
   "source": [
    "## 2021년 6월 26일 토요일\n",
    "### BaekJoon - 모음의 개수(Python)\n",
    "### 문제 : https://www.acmicpc.net/problem/10987\n",
    "### 블로그 : https://somjang.tistory.com/entry/BaekJoon-10987%EB%B2%88-%EB%AA%A8%EC%9D%8C%EC%9D%98-%EA%B0%9C%EC%88%98-Python?category=351755"
   ]
  },
  {
   "cell_type": "markdown",
   "metadata": {},
   "source": [
    "### 첫번째 시도"
   ]
  },
  {
   "cell_type": "code",
   "execution_count": null,
   "metadata": {},
   "outputs": [],
   "source": [
    "from collections import Counter \n",
    "\n",
    "def count_vowel(string):\n",
    "    vowels = ['a', 'e', 'i', 'o', 'u']\n",
    "    \n",
    "    cnt = Counter(string).items()\n",
    "    \n",
    "    vowel_cnt = [count[1] for count in cnt if count[0] in vowels]\n",
    "    \n",
    "    return sum(vowel_cnt)\n",
    "\n",
    "\n",
    "if __name__ == \"__main__\":\n",
    "    string = input()\n",
    "    \n",
    "    print(count_vowel(string))"
   ]
  }
 ],
 "metadata": {
  "kernelspec": {
   "display_name": "Python 3",
   "language": "python",
   "name": "python3"
  },
  "language_info": {
   "codemirror_mode": {
    "name": "ipython",
    "version": 3
   },
   "file_extension": ".py",
   "mimetype": "text/x-python",
   "name": "python",
   "nbconvert_exporter": "python",
   "pygments_lexer": "ipython3",
   "version": "3.7.3"
  }
 },
 "nbformat": 4,
 "nbformat_minor": 2
}
