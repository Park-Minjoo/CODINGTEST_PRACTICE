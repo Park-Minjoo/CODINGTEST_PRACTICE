{
 "cells": [
  {
   "cell_type": "markdown",
   "metadata": {},
   "source": [
    "## 2021년 9월 22일 수요일\n",
    "### BaekJoon - 중복 빼고 정렬하기 (Python)\n",
    "### 문제 : https://www.acmicpc.net/problem/10867\n",
    "### 블로그 : https://somjang.tistory.com/entry/BaekJoon-10867%EB%B2%88-%EC%A4%91%EB%B3%B5-%EB%B9%BC%EA%B3%A0-%EC%A0%95%EB%A0%AC%ED%95%98%EA%B8%B0-Python"
   ]
  },
  {
   "cell_type": "markdown",
   "metadata": {},
   "source": [
    "### Solution"
   ]
  },
  {
   "cell_type": "code",
   "execution_count": null,
   "metadata": {},
   "outputs": [],
   "source": [
    "def sort_unique(numbers):\n",
    "    numbers = list(map(int, numbers.split()))\n",
    "    numbers = sorted(list(set(numbers)))\n",
    "    \n",
    "    return \" \".join(list(map(str, numbers)))\n",
    "    \n",
    "\n",
    "if __name__ == \"__main__\":\n",
    "    _ = input()\n",
    "    numbers = input()\n",
    "    print(sort_unique(numbers))"
   ]
  }
 ],
 "metadata": {
  "kernelspec": {
   "display_name": "Python 3",
   "language": "python",
   "name": "python3"
  },
  "language_info": {
   "codemirror_mode": {
    "name": "ipython",
    "version": 3
   },
   "file_extension": ".py",
   "mimetype": "text/x-python",
   "name": "python",
   "nbconvert_exporter": "python",
   "pygments_lexer": "ipython3",
   "version": "3.7.3"
  }
 },
 "nbformat": 4,
 "nbformat_minor": 2
}
