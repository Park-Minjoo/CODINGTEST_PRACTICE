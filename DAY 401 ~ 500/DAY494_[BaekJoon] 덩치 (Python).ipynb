{
 "cells": [
  {
   "cell_type": "markdown",
   "metadata": {},
   "source": [
    "## 2021년 9월 26일 일요일\n",
    "### BaekJoon - 덩치 (Python)\n",
    "### 문제 : https://www.acmicpc.net/problem/7568\n",
    "### 블로그 : https://somjang.tistory.com/entry/BaekJoon-7568%EB%B2%88-%EB%8D%A9%EC%B9%98-Python"
   ]
  },
  {
   "cell_type": "markdown",
   "metadata": {},
   "source": [
    "### Solution"
   ]
  },
  {
   "cell_type": "code",
   "execution_count": null,
   "metadata": {},
   "outputs": [],
   "source": [
    "def bulk_rank(bulk_info_list):\n",
    "    answer = []\n",
    "    \n",
    "    for bulk_info in bulk_info_list:\n",
    "        rank = 1\n",
    "        weight, height = bulk_info[0], bulk_info[1]\n",
    "        for compare_info in bulk_info_list:\n",
    "            compare_weight, compare_height = compare_info[0], compare_info[1]\n",
    "            \n",
    "            if weight < compare_weight and height < compare_height:\n",
    "                rank += 1\n",
    "        answer.append(str(rank))\n",
    "        \n",
    "    return \" \".join(answer)\n",
    "\n",
    "if __name__ == \"__main__\":\n",
    "    bulk_info_list = []\n",
    "    \n",
    "    for _ in range(int(input())):\n",
    "        weight, height = map(int, input().split())\n",
    "        bulk_info_list.append((weight, height))\n",
    "        \n",
    "    print(bulk_rank(bulk_info_list))"
   ]
  }
 ],
 "metadata": {
  "kernelspec": {
   "display_name": "Python 3",
   "language": "python",
   "name": "python3"
  },
  "language_info": {
   "codemirror_mode": {
    "name": "ipython",
    "version": 3
   },
   "file_extension": ".py",
   "mimetype": "text/x-python",
   "name": "python",
   "nbconvert_exporter": "python",
   "pygments_lexer": "ipython3",
   "version": "3.7.3"
  }
 },
 "nbformat": 4,
 "nbformat_minor": 2
}
