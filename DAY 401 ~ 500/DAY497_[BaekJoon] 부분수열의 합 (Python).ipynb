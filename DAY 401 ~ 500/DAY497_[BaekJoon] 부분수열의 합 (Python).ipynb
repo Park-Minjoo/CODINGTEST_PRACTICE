{
 "cells": [
  {
   "cell_type": "markdown",
   "metadata": {},
   "source": [
    "## 2021년 9월 29일 수요일\n",
    "### BaekJoon - 부분수열의 합 (Python)\n",
    "### 문제 : https://www.acmicpc.net/problem/1182\n",
    "### 블로그 : https://somjang.tistory.com/entry/BaekJoon-1182%EB%B2%88-%EB%B6%80%EB%B6%84%EC%88%98%EC%97%B4%EC%9D%98-%ED%95%A9-Python"
   ]
  },
  {
   "cell_type": "markdown",
   "metadata": {},
   "source": [
    "### Solution"
   ]
  },
  {
   "cell_type": "code",
   "execution_count": null,
   "metadata": {},
   "outputs": [],
   "source": [
    "from itertools import combinations\n",
    "\n",
    "def subsequence_sum(numbers, S):\n",
    "    answer = 0\n",
    "    \n",
    "    for comb_num in range(1, len(numbers) + 1):\n",
    "        comb_S = [comb for comb in combinations(numbers, comb_num) if sum(comb) == S]\n",
    "        answer += len(comb_S)\n",
    "        \n",
    "    return answer\n",
    "\n",
    "if __name__ == \"__main__\":\n",
    "    N, S = map(int, input().split())\n",
    "    numbers = list(map(int, input().split()))\n",
    "        \n",
    "    print(subsequence_sum(numbers, S))    "
   ]
  }
 ],
 "metadata": {
  "kernelspec": {
   "display_name": "Python 3",
   "language": "python",
   "name": "python3"
  },
  "language_info": {
   "codemirror_mode": {
    "name": "ipython",
    "version": 3
   },
   "file_extension": ".py",
   "mimetype": "text/x-python",
   "name": "python",
   "nbconvert_exporter": "python",
   "pygments_lexer": "ipython3",
   "version": "3.7.3"
  }
 },
 "nbformat": 4,
 "nbformat_minor": 2
}
