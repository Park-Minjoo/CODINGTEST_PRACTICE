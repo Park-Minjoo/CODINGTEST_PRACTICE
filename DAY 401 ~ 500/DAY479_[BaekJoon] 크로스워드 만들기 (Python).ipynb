{
 "cells": [
  {
   "cell_type": "markdown",
   "metadata": {},
   "source": [
    "## 2021년 9월 10일 금요일\n",
    "### BaekJoon - 크로스워드 만들기 (Python)\n",
    "### 문제 : https://www.acmicpc.net/problem/2804\n",
    "### 블로그 : https://somjang.tistory.com/entry/BaekJoon-2804%EB%B2%88-%ED%81%AC%EB%A1%9C%EC%8A%A4%EC%9B%8C%EB%93%9C-%EB%A7%8C%EB%93%A4%EA%B8%B0-Python"
   ]
  },
  {
   "cell_type": "markdown",
   "metadata": {},
   "source": [
    "### Solution"
   ]
  },
  {
   "cell_type": "code",
   "execution_count": null,
   "metadata": {},
   "outputs": [],
   "source": [
    "def cross_word(string):\n",
    "    string1, string2 = string.split()\n",
    "    \n",
    "    N, M = len(string1), len(string2)\n",
    "    \n",
    "    cross_row, cross_col = 0, 0\n",
    "    \n",
    "    for idx, char in enumerate(string1):\n",
    "        if char in string2:\n",
    "            cross_row = string2.index(char)\n",
    "            cross_col = idx\n",
    "            break\n",
    "    \n",
    "    temp_string = [\".\" * N for _ in range(M)] \n",
    "    \n",
    "    for idx in range(len(temp_string)):\n",
    "        if idx == cross_row:\n",
    "            temp_string[idx] = string1\n",
    "        else:\n",
    "            temp_string[idx] = list(temp_string[idx])\n",
    "            temp_string[idx][cross_col] = string2[idx]\n",
    "            temp_string[idx] = \"\".join(temp_string[idx])\n",
    "            \n",
    "    for temp in temp_string:\n",
    "        print(temp)\n",
    "    \n",
    "if __name__ == \"__main__\":\n",
    "    string = input()\n",
    "    cross_word(string)"
   ]
  }
 ],
 "metadata": {
  "kernelspec": {
   "display_name": "Python 3",
   "language": "python",
   "name": "python3"
  },
  "language_info": {
   "codemirror_mode": {
    "name": "ipython",
    "version": 3
   },
   "file_extension": ".py",
   "mimetype": "text/x-python",
   "name": "python",
   "nbconvert_exporter": "python",
   "pygments_lexer": "ipython3",
   "version": "3.7.3"
  }
 },
 "nbformat": 4,
 "nbformat_minor": 2
}
