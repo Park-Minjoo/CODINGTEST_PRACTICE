{
 "cells": [
  {
   "cell_type": "markdown",
   "metadata": {},
   "source": [
    "## 2021년 6월 28일 월요일\n",
    "### BaekJoon - 대소문자 바꾸기 (Python)\n",
    "### 문제 : https://www.acmicpc.net/problem/2744\n",
    "### 블로그 : https://somjang.tistory.com/entry/BaekJoon-2744%EB%B2%88-%EB%8C%80%EC%86%8C%EB%AC%B8%EC%9E%90-%EB%B0%94%EA%BE%B8%EA%B8%B0-Python"
   ]
  },
  {
   "cell_type": "markdown",
   "metadata": {},
   "source": [
    "### 첫번째 시도"
   ]
  },
  {
   "cell_type": "code",
   "execution_count": null,
   "metadata": {},
   "outputs": [],
   "source": [
    "def change_lower_upper(string):\n",
    "    new_string = []\n",
    "    \n",
    "    for char in string:\n",
    "        if char.isupper():\n",
    "            new_string.append(char.lower())\n",
    "        elif char.islower():\n",
    "            new_string.append(char.upper())\n",
    "            \n",
    "    return \"\".join(new_string)\n",
    "\n",
    "if __name__ == \"__main__\":\n",
    "    string = input()\n",
    "    print(change_lower_upper(string))"
   ]
  }
 ],
 "metadata": {
  "kernelspec": {
   "display_name": "Python 3",
   "language": "python",
   "name": "python3"
  },
  "language_info": {
   "codemirror_mode": {
    "name": "ipython",
    "version": 3
   },
   "file_extension": ".py",
   "mimetype": "text/x-python",
   "name": "python",
   "nbconvert_exporter": "python",
   "pygments_lexer": "ipython3",
   "version": "3.7.3"
  }
 },
 "nbformat": 4,
 "nbformat_minor": 2
}
