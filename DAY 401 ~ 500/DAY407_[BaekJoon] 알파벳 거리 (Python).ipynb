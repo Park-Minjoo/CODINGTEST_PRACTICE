{
 "cells": [
  {
   "cell_type": "markdown",
   "metadata": {},
   "source": [
    "## 2021년 6월 27일 일요일\n",
    "### BaekJoon - 알파벳 거리 (Python)\n",
    "### 문제 : https://www.acmicpc.net/problem/5218\n",
    "### 블로그 : https://somjang.tistory.com/entry/BaekJoon-5218%EB%B2%88-%EC%95%8C%ED%8C%8C%EB%B2%B3-%EA%B1%B0%EB%A6%AC-Python"
   ]
  },
  {
   "cell_type": "markdown",
   "metadata": {},
   "source": [
    "### 첫번째 시도"
   ]
  },
  {
   "cell_type": "code",
   "execution_count": null,
   "metadata": {},
   "outputs": [],
   "source": [
    "def alphabet_distance(string1, string2):\n",
    "    distance_list = []\n",
    "    for i in range(len(string1)):\n",
    "        str_2, str_1 = ord(string2[i]), ord(string1[i])\n",
    "        \n",
    "        if str_2 >= str_1:\n",
    "            distance = str(str_2 - str_1)\n",
    "        else:\n",
    "            distance = str(str_2 + 26 - str_1)\n",
    "        \n",
    "        distance_list.append(distance)\n",
    "        \n",
    "    return f\"Distances: {' '.join(distance_list)}\"\n",
    "\n",
    "if __name__ == \"__main__\":\n",
    "    for _ in range(int(input())):\n",
    "        string1, string2 = input().split()\n",
    "        \n",
    "        print(alphabet_distance(string1, string2))"
   ]
  }
 ],
 "metadata": {
  "kernelspec": {
   "display_name": "Python 3",
   "language": "python",
   "name": "python3"
  },
  "language_info": {
   "codemirror_mode": {
    "name": "ipython",
    "version": 3
   },
   "file_extension": ".py",
   "mimetype": "text/x-python",
   "name": "python",
   "nbconvert_exporter": "python",
   "pygments_lexer": "ipython3",
   "version": "3.7.3"
  }
 },
 "nbformat": 4,
 "nbformat_minor": 2
}
