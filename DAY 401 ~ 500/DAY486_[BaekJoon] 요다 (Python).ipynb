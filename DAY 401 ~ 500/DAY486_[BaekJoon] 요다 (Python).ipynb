{
 "cells": [
  {
   "cell_type": "markdown",
   "metadata": {},
   "source": [
    "## 2021년 9월 17일 금요일\n",
    "### BaekJoon - 요다 (Python)\n",
    "### 문제 : https://www.acmicpc.net/problem/5363\n",
    "### 블로그 : https://somjang.tistory.com/entry/BaekJoon-5363%EB%B2%88-%EC%9A%94%EB%8B%A4-Python"
   ]
  },
  {
   "cell_type": "markdown",
   "metadata": {},
   "source": [
    "### Solution"
   ]
  },
  {
   "cell_type": "code",
   "execution_count": null,
   "metadata": {},
   "outputs": [],
   "source": [
    "def yoda(string):\n",
    "    string = string.split()\n",
    "    \n",
    "    string = string[2:] + string[:2]\n",
    "    \n",
    "    return \" \".join(string)\n",
    "\n",
    "if __name__ == \"__main__\":\n",
    "    for _ in range(int(input())):\n",
    "        string = input()\n",
    "        print(yoda(string))"
   ]
  }
 ],
 "metadata": {
  "kernelspec": {
   "display_name": "Python 3",
   "language": "python",
   "name": "python3"
  },
  "language_info": {
   "codemirror_mode": {
    "name": "ipython",
    "version": 3
   },
   "file_extension": ".py",
   "mimetype": "text/x-python",
   "name": "python",
   "nbconvert_exporter": "python",
   "pygments_lexer": "ipython3",
   "version": "3.7.3"
  }
 },
 "nbformat": 4,
 "nbformat_minor": 2
}
