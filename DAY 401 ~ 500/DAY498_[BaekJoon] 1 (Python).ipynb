{
 "cells": [
  {
   "cell_type": "markdown",
   "metadata": {},
   "source": [
    "## 2021년 9월 30일 목요일\n",
    "### BaekJoon - 1 (Python)\n",
    "### 문제 : https://www.acmicpc.net/problem/4375\n",
    "### 블로그 : https://somjang.tistory.com/entry/BaekJoon-4375%EB%B2%88-1-Python"
   ]
  },
  {
   "cell_type": "markdown",
   "metadata": {},
   "source": [
    "### Solution"
   ]
  },
  {
   "cell_type": "code",
   "execution_count": null,
   "metadata": {},
   "outputs": [],
   "source": [
    "def one(num):\n",
    "    temp = '1'\n",
    "    answer = 0\n",
    "    \n",
    "    while True:\n",
    "        if int(temp) % num == 0:\n",
    "            answer = len(temp)\n",
    "            break\n",
    "        temp += '1'\n",
    "        \n",
    "    return answer\n",
    "\n",
    "if __name__ == \"__main__\":\n",
    "    while True:\n",
    "        try:\n",
    "            num = int(input())\n",
    "            print(one(num))\n",
    "        except EOFError:\n",
    "            break"
   ]
  }
 ],
 "metadata": {
  "kernelspec": {
   "display_name": "Python 3",
   "language": "python",
   "name": "python3"
  },
  "language_info": {
   "codemirror_mode": {
    "name": "ipython",
    "version": 3
   },
   "file_extension": ".py",
   "mimetype": "text/x-python",
   "name": "python",
   "nbconvert_exporter": "python",
   "pygments_lexer": "ipython3",
   "version": "3.7.3"
  }
 },
 "nbformat": 4,
 "nbformat_minor": 2
}
