{
 "cells": [
  {
   "cell_type": "markdown",
   "metadata": {},
   "source": [
    "## 2021년 9월 15일 수요일\n",
    "### BaekJoon - 내일 할거야 (Python)\n",
    "### 문제 : https://www.acmicpc.net/problem/7983\n",
    "### 블로그 : https://somjang.tistory.com/entry/BaekJoon-7983%EB%B2%88-%EB%82%B4%EC%9D%BC-%ED%95%A0%EA%B1%B0%EC%95%BC-Python"
   ]
  },
  {
   "cell_type": "markdown",
   "metadata": {},
   "source": [
    "### Solution"
   ]
  },
  {
   "cell_type": "code",
   "execution_count": null,
   "metadata": {},
   "outputs": [],
   "source": [
    "from sys import stdin\n",
    "input = stdin.readline\n",
    "\n",
    "def i_will_do_it_tomorrow(homework_info):\n",
    "    \n",
    "    homework_info = sorted(homework_info, key=lambda x: -x[1])\n",
    "    \n",
    "    now = homework_info[0][1] - homework_info[0][0]\n",
    "    \n",
    "    for i in range(1, len(homework_info)):\n",
    "        homework_day, end_day = homework_info[i][0], homework_info[i][1]\n",
    "        \n",
    "        if now >= end_day:\n",
    "            now = end_day - homework_day\n",
    "        else:\n",
    "            now = now - homework_day\n",
    "            \n",
    "    return now\n",
    "\n",
    "if __name__ == \"__main__\":\n",
    "    homework_info = []\n",
    "    for _ in range(int(input())):\n",
    "        homework_day, end_day = map(int, input().split())\n",
    "        homework_info.append((homework_day, end_day))\n",
    "        \n",
    "    print(i_will_do_it_tomorrow(homework_info))"
   ]
  }
 ],
 "metadata": {
  "kernelspec": {
   "display_name": "Python 3",
   "language": "python",
   "name": "python3"
  },
  "language_info": {
   "codemirror_mode": {
    "name": "ipython",
    "version": 3
   },
   "file_extension": ".py",
   "mimetype": "text/x-python",
   "name": "python",
   "nbconvert_exporter": "python",
   "pygments_lexer": "ipython3",
   "version": "3.7.3"
  }
 },
 "nbformat": 4,
 "nbformat_minor": 2
}
