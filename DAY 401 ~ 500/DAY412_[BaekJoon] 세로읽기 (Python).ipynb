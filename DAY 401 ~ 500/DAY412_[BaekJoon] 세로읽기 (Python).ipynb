{
 "cells": [
  {
   "cell_type": "markdown",
   "metadata": {},
   "source": [
    "## 2021년 7월 2일 금요일\n",
    "### BaekJoon - 세로읽기 (Python)\n",
    "### 문제 : https://www.acmicpc.net/problem/10798\n",
    "### 블로그 : https://somjang.tistory.com/entry/BaekJoon-10798%EB%B2%88-%EC%84%B8%EB%A1%9C%EC%9D%BD%EA%B8%B0-Python"
   ]
  },
  {
   "cell_type": "markdown",
   "metadata": {},
   "source": [
    "### Solution 1"
   ]
  },
  {
   "cell_type": "code",
   "execution_count": null,
   "metadata": {},
   "outputs": [],
   "source": [
    "def read_vertical(strings):\n",
    "    read_string = []\n",
    "    max_len = max([len(string) for string in strings])\n",
    "    \n",
    "    for i in range(max_len):\n",
    "        for string in strings:\n",
    "            if len(string) - 1 >= i:\n",
    "                read_string.append(string[i])\n",
    "    return \"\".join(read_string)\n",
    "    \n",
    "if __name__ == \"__main__\":\n",
    "    strings = []\n",
    "    for _ in range(5):\n",
    "        string = input()\n",
    "        strings.append(string)\n",
    "    print(read_vertical(strings))"
   ]
  }
 ],
 "metadata": {
  "kernelspec": {
   "display_name": "Python 3",
   "language": "python",
   "name": "python3"
  },
  "language_info": {
   "codemirror_mode": {
    "name": "ipython",
    "version": 3
   },
   "file_extension": ".py",
   "mimetype": "text/x-python",
   "name": "python",
   "nbconvert_exporter": "python",
   "pygments_lexer": "ipython3",
   "version": "3.7.3"
  }
 },
 "nbformat": 4,
 "nbformat_minor": 2
}
