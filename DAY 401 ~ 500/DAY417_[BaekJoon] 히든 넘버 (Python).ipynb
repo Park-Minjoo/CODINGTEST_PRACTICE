{
 "cells": [
  {
   "cell_type": "markdown",
   "metadata": {},
   "source": [
    "## 2021년 7월 7일 수요일\n",
    "### BaekJoon - 히든 넘버 (Python)\n",
    "### 문제 : https://www.acmicpc.net/problem/8595\n",
    "### 블로그 : https://somjang.tistory.com/entry/BaekJoon-8595%EB%B2%88-%ED%9E%88%EB%93%A0-%EB%84%98%EB%B2%84-Python"
   ]
  },
  {
   "cell_type": "markdown",
   "metadata": {},
   "source": [
    "### Solution"
   ]
  },
  {
   "cell_type": "code",
   "execution_count": null,
   "metadata": {},
   "outputs": [],
   "source": [
    "import re\n",
    "\n",
    "def hidden_number(string):\n",
    "    numbers = re.findall(\"\\d+\", string)\n",
    "    numbers = list(map(int, numbers))\n",
    "    \n",
    "    return sum(numbers)\n",
    "\n",
    "if __name__ == \"__main__\":\n",
    "    str_len = input()\n",
    "    string = input()\n",
    "    print(hidden_number(string))"
   ]
  }
 ],
 "metadata": {
  "kernelspec": {
   "display_name": "Python 3",
   "language": "python",
   "name": "python3"
  },
  "language_info": {
   "codemirror_mode": {
    "name": "ipython",
    "version": 3
   },
   "file_extension": ".py",
   "mimetype": "text/x-python",
   "name": "python",
   "nbconvert_exporter": "python",
   "pygments_lexer": "ipython3",
   "version": "3.7.3"
  }
 },
 "nbformat": 4,
 "nbformat_minor": 2
}
