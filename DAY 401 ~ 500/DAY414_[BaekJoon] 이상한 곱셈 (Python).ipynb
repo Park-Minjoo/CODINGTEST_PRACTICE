{
 "cells": [
  {
   "cell_type": "markdown",
   "metadata": {},
   "source": [
    "## 2021년 7월 4일 일요일\n",
    "### BaekJoon - 이상한 곱셈 (Python)\n",
    "### 문제 : https://www.acmicpc.net/problem/1225\n",
    "### 블로그 : https://somjang.tistory.com/entry/BaekJoon-1225%EB%B2%88-%EC%9D%B4%EC%83%81%ED%95%9C-%EA%B3%B1%EC%85%88-Python"
   ]
  },
  {
   "cell_type": "markdown",
   "metadata": {},
   "source": [
    "### Solution"
   ]
  },
  {
   "cell_type": "code",
   "execution_count": null,
   "metadata": {},
   "outputs": [],
   "source": [
    "def strange_multiplication(string):\n",
    "    result = 0\n",
    "    number1, number2 = string.split()\n",
    "    \n",
    "    num1 = list(map(int, number1))\n",
    "    num2 = list(map(int, number2))\n",
    "\n",
    "    return sum(num1) * sum(num2)\n",
    "\n",
    "if __name__ == \"__main__\":\n",
    "    string = input()\n",
    "    \n",
    "    print(strange_multiplication(string))"
   ]
  }
 ],
 "metadata": {
  "kernelspec": {
   "display_name": "Python 3",
   "language": "python",
   "name": "python3"
  },
  "language_info": {
   "codemirror_mode": {
    "name": "ipython",
    "version": 3
   },
   "file_extension": ".py",
   "mimetype": "text/x-python",
   "name": "python",
   "nbconvert_exporter": "python",
   "pygments_lexer": "ipython3",
   "version": "3.7.3"
  }
 },
 "nbformat": 4,
 "nbformat_minor": 2
}
