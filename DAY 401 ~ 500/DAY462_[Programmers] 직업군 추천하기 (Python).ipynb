{
 "cells": [
  {
   "cell_type": "markdown",
   "metadata": {},
   "source": [
    "## 2021년 8월 23일 월요일\n",
    "### Programmers - 직업군 추천하기 (Python)\n",
    "### 문제 : https://programmers.co.kr/learn/courses/30/lessons/84325\n",
    "### 블로그 : https://somjang.tistory.com/entry/Programmers-%EC%9C%84%ED%81%B4%EB%A6%AC-%EC%B1%8C%EB%A6%B0%EC%A7%80-4%EC%A3%BC%EC%B0%A8-%EC%A7%81%EC%97%85%EA%B5%B0-%EC%B6%94%EC%B2%9C%ED%95%98%EA%B8%B0-Python"
   ]
  },
  {
   "cell_type": "markdown",
   "metadata": {},
   "source": [
    "### Solution"
   ]
  },
  {
   "cell_type": "code",
   "execution_count": 1,
   "metadata": {},
   "outputs": [],
   "source": [
    "def make_prefer_score_table(languages, preference):\n",
    "    prefer_score = {}\n",
    "    \n",
    "    for language, score in zip(languages, preference):\n",
    "        prefer_score[language] = score\n",
    "        \n",
    "    return prefer_score\n",
    "\n",
    "\n",
    "def job_lang_score_table(table):\n",
    "    job_lang_score = {}\n",
    "    for job_score in table:\n",
    "        job_score = job_score.split()\n",
    "        \n",
    "        job_lang_score[job_score[0]] = job_score[1:][::-1]\n",
    "        \n",
    "    return job_lang_score\n",
    "\n",
    "\n",
    "def get_job_score(prefer_score, job_lang_score):\n",
    "    job_score_dict = {}\n",
    "    \n",
    "    for job in job_lang_score.keys():\n",
    "        job_score = 0\n",
    "        for score, lang in enumerate(job_lang_score[job]):\n",
    "            if lang in prefer_score.keys():\n",
    "                job_score += (score + 1) * prefer_score[lang]\n",
    "            \n",
    "        job_score_dict[job] = job_score\n",
    "        \n",
    "    return job_score_dict\n",
    "\n",
    "\n",
    "def solution(table, languages, preference):\n",
    "    answer = ''\n",
    "    \n",
    "    prefer_table = make_prefer_score_table(languages=languages, \n",
    "                                           preference=preference)\n",
    "    \n",
    "    job_lang_score = job_lang_score_table(table=table)\n",
    "    \n",
    "    job_score_dict = get_job_score(prefer_score=prefer_table, \n",
    "                                   job_lang_score=job_lang_score)\n",
    "    \n",
    "    answer = sorted(job_score_dict.items(), key=lambda x: (-x[1], x[0]))[0][0]\n",
    "    \n",
    "    return answer"
   ]
  },
  {
   "cell_type": "code",
   "execution_count": 2,
   "metadata": {},
   "outputs": [],
   "source": [
    "table = [\"SI JAVA JAVASCRIPT SQL PYTHON C#\", \"CONTENTS JAVASCRIPT JAVA PYTHON SQL C++\", \"HARDWARE C C++ PYTHON JAVA JAVASCRIPT\", \"PORTAL JAVA JAVASCRIPT PYTHON KOTLIN PHP\", \"GAME C++ C# JAVASCRIPT C JAVA\"]\n",
    "languages = [\"PYTHON\", \"C++\", \"SQL\"]\n",
    "preference = [7, 5, 5]"
   ]
  },
  {
   "cell_type": "code",
   "execution_count": 3,
   "metadata": {},
   "outputs": [
    {
     "data": {
      "text/plain": [
       "'HARDWARE'"
      ]
     },
     "execution_count": 3,
     "metadata": {},
     "output_type": "execute_result"
    }
   ],
   "source": [
    "solution(table=table, languages=languages, preference=preference)"
   ]
  },
  {
   "cell_type": "code",
   "execution_count": 4,
   "metadata": {},
   "outputs": [],
   "source": [
    "table = [\"SI JAVA JAVASCRIPT SQL PYTHON C#\", \"CONTENTS JAVASCRIPT JAVA PYTHON SQL C++\", \"HARDWARE C C++ PYTHON JAVA JAVASCRIPT\", \"PORTAL JAVA JAVASCRIPT PYTHON KOTLIN PHP\", \"GAME C++ C# JAVASCRIPT C JAVA\"]\n",
    "languages = [\"JAVA\", \"JAVASCRIPT\"]\n",
    "preference = [7, 5]"
   ]
  },
  {
   "cell_type": "code",
   "execution_count": 5,
   "metadata": {},
   "outputs": [
    {
     "data": {
      "text/plain": [
       "'PORTAL'"
      ]
     },
     "execution_count": 5,
     "metadata": {},
     "output_type": "execute_result"
    }
   ],
   "source": [
    "solution(table=table, languages=languages, preference=preference)"
   ]
  }
 ],
 "metadata": {
  "kernelspec": {
   "display_name": "Python 3",
   "language": "python",
   "name": "python3"
  },
  "language_info": {
   "codemirror_mode": {
    "name": "ipython",
    "version": 3
   },
   "file_extension": ".py",
   "mimetype": "text/x-python",
   "name": "python",
   "nbconvert_exporter": "python",
   "pygments_lexer": "ipython3",
   "version": "3.7.3"
  }
 },
 "nbformat": 4,
 "nbformat_minor": 2
}
