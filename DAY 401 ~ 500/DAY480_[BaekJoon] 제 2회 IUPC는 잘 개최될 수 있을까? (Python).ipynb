{
 "cells": [
  {
   "cell_type": "markdown",
   "metadata": {},
   "source": [
    "## 2021년 9월 11일 토요일\n",
    "### BaekJoon - 제 2회 IUPC는 잘 개최될 수 있을까? (Python)\n",
    "### 문제 : https://www.acmicpc.net/problem/12788\n",
    "### 블로그 : https://somjang.tistory.com/entry/BaekJoon-12788%EB%B2%88-%EC%A0%9C-2%ED%9A%8C-IUPC%EB%8A%94-%EC%9E%98-%EA%B0%9C%EC%B5%9C%EB%90%A0-%EC%88%98-%EC%9E%88%EC%9D%84%EA%B9%8C-Python"
   ]
  },
  {
   "cell_type": "markdown",
   "metadata": {},
   "source": [
    "### Solution"
   ]
  },
  {
   "cell_type": "code",
   "execution_count": null,
   "metadata": {},
   "outputs": [],
   "source": [
    "def borrow_pen(need_pen, members_pen):\n",
    "    if need_pen > sum(members_pen):\n",
    "        answer = \"STRESS\"\n",
    "    else:\n",
    "        members_pen.sort(reverse=True)\n",
    "        \n",
    "        borrow_pen_num = 0\n",
    "        \n",
    "        for num, pen_num in enumerate(members_pen):\n",
    "            borrow_pen_num += pen_num\n",
    "            if borrow_pen_num >= need_pen:\n",
    "                answer = num + 1\n",
    "                break\n",
    "                \n",
    "    return answer\n",
    "            \n",
    "if __name__ == \"__main__\":\n",
    "    member_num = int(input())\n",
    "    team_num, team_member = map(int, input().split())\n",
    "    members_pen = list(map(int, input().split()))\n",
    "    need_pen = team_num * team_member\n",
    "    \n",
    "    print(borrow_pen(need_pen, members_pen))"
   ]
  }
 ],
 "metadata": {
  "kernelspec": {
   "display_name": "Python 3",
   "language": "python",
   "name": "python3"
  },
  "language_info": {
   "codemirror_mode": {
    "name": "ipython",
    "version": 3
   },
   "file_extension": ".py",
   "mimetype": "text/x-python",
   "name": "python",
   "nbconvert_exporter": "python",
   "pygments_lexer": "ipython3",
   "version": "3.7.3"
  }
 },
 "nbformat": 4,
 "nbformat_minor": 2
}
