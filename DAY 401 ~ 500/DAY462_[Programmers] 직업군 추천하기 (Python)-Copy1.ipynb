{
 "cells": [
  {
   "cell_type": "markdown",
   "metadata": {},
   "source": [
    "## 2021년 8월 25일 수요일\n",
    "### BaekJoon - CCW (Python)\n",
    "### 문제 : https://www.acmicpc.net/problem/11758\n",
    "### 블로그 : https://somjang.tistory.com/entry/BaekJoon-11758%EB%B2%88-CCW-Python"
   ]
  },
  {
   "cell_type": "markdown",
   "metadata": {},
   "source": [
    "### Solution"
   ]
  },
  {
   "cell_type": "code",
   "execution_count": null,
   "metadata": {},
   "outputs": [],
   "source": [
    "def convert_input_to_point(string):\n",
    "    point_x, point_y = map(int, string.split())\n",
    "    \n",
    "    return {\"x\": point_x, \"y\": point_y}\n",
    "\n",
    "def CCW(point1, point2, point3):\n",
    "    answer = 0\n",
    "    y = (point2['x'] - point1['x']) * (point3['y'] - point1['y'])\n",
    "    y3 = (point2['y'] - point1['y']) * (point3['x'] - point1['x'])\n",
    "    \n",
    "    if y > y3:\n",
    "        answer = 1\n",
    "    elif y < y3:\n",
    "        answer = -1\n",
    "        \n",
    "    return answer\n",
    "        \n",
    "\n",
    "if __name__ == \"__main__\":\n",
    "    point1 = convert_input_to_point(input())\n",
    "    point2 = convert_input_to_point(input())\n",
    "    point3 = convert_input_to_point(input())\n",
    "    \n",
    "    print(CCW(point1, point2, point3))"
   ]
  }
 ],
 "metadata": {
  "kernelspec": {
   "display_name": "Python 3",
   "language": "python",
   "name": "python3"
  },
  "language_info": {
   "codemirror_mode": {
    "name": "ipython",
    "version": 3
   },
   "file_extension": ".py",
   "mimetype": "text/x-python",
   "name": "python",
   "nbconvert_exporter": "python",
   "pygments_lexer": "ipython3",
   "version": "3.7.3"
  }
 },
 "nbformat": 4,
 "nbformat_minor": 2
}
