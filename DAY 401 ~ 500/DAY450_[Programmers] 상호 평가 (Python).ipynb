{
 "cells": [
  {
   "cell_type": "markdown",
   "metadata": {},
   "source": [
    "## 2021년 8월 11일 수요일\n",
    "### Programmers - 위클리 챌린지 2주차 - 상호평가 (Python)\n",
    "### 문제 : https://programmers.co.kr/learn/courses/30/lessons/83201\n",
    "### 블로그 : https://somjang.tistory.com/entry/Programmers-%EC%9C%84%ED%81%B4%EB%A6%AC-%EC%B1%8C%EB%A6%B0%EC%A7%80-2%EC%A3%BC%EC%B0%A8-%EC%83%81%ED%98%B8-%ED%8F%89%EA%B0%80-Python"
   ]
  },
  {
   "cell_type": "markdown",
   "metadata": {},
   "source": [
    "### Solution"
   ]
  },
  {
   "cell_type": "code",
   "execution_count": null,
   "metadata": {},
   "outputs": [],
   "source": [
    "def get_person_grade(score):\n",
    "    grade = \"F\"\n",
    "    \n",
    "    if score >= 90:\n",
    "        grade = \"A\"\n",
    "    elif 80 <= score < 90:\n",
    "        grade = \"B\"\n",
    "    elif 70 <= score < 80:\n",
    "        grade = \"C\"\n",
    "    elif 50 <= score < 70:\n",
    "        grade = \"D\"\n",
    "        \n",
    "    return grade\n",
    "\n",
    "def solution(scores):\n",
    "    answer = ''\n",
    "    \n",
    "    person_num = len(scores[0])\n",
    "    \n",
    "    for person in range(person_num):\n",
    "        person_scores = []\n",
    "        person_number = len(scores[0])\n",
    "        for idx in range(person_num):\n",
    "            person_scores.append(scores[idx][person])\n",
    "        \n",
    "        person_total_score = sum(person_scores)\n",
    "        \n",
    "        if ((max(person_scores) == person_scores[person]) or (min(person_scores) == person_scores[person])) and person_scores.count(person_scores[person]) < 2:\n",
    "            person_total_score -= person_scores[person]\n",
    "            person_number -= 1\n",
    "\n",
    "        person_avg_score = person_total_score / person_number\n",
    "        \n",
    "        person_grade = get_person_grade(person_avg_score)\n",
    "        \n",
    "        answer += person_grade\n",
    "    \n",
    "    return answer"
   ]
  }
 ],
 "metadata": {
  "kernelspec": {
   "display_name": "Python 3",
   "language": "python",
   "name": "python3"
  },
  "language_info": {
   "codemirror_mode": {
    "name": "ipython",
    "version": 3
   },
   "file_extension": ".py",
   "mimetype": "text/x-python",
   "name": "python",
   "nbconvert_exporter": "python",
   "pygments_lexer": "ipython3",
   "version": "3.7.3"
  }
 },
 "nbformat": 4,
 "nbformat_minor": 2
}
