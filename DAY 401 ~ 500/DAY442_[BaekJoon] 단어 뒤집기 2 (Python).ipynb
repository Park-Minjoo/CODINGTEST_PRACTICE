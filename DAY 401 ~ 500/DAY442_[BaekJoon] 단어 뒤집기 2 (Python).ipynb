{
 "cells": [
  {
   "cell_type": "markdown",
   "metadata": {},
   "source": [
    "## 2021년 8월 3일 화요일\n",
    "### BaekJoon - 단어 뒤집기 2 (Python)\n",
    "### 문제 : https://www.acmicpc.net/problem/17413\n",
    "### 블로그 : https://somjang.tistory.com/entry/BaekJoon-17413%EB%B2%88-%EB%8B%A8%EC%96%B4-%EB%92%A4%EC%A7%91%EA%B8%B0-2-Python"
   ]
  },
  {
   "cell_type": "markdown",
   "metadata": {},
   "source": [
    "### Solution"
   ]
  },
  {
   "cell_type": "code",
   "execution_count": null,
   "metadata": {},
   "outputs": [],
   "source": [
    "def word_flipping(string):\n",
    "    results = []\n",
    "    \n",
    "    temp, words = \"\", \"\"\n",
    "    tag_flag, word_flag = False, True\n",
    "    \n",
    "    for char in string:\n",
    "        if char == \"<\":\n",
    "            tag_flag = True\n",
    "            word_flag = False\n",
    "            words = words.split()\n",
    "            words = [word[::-1] for word in words]\n",
    "            results.append(\" \".join(words))\n",
    "            words = \"\"\n",
    "            \n",
    "        if tag_flag:\n",
    "            temp += char\n",
    "            \n",
    "        if word_flag:\n",
    "            words += char\n",
    "            \n",
    "        if char == \">\":\n",
    "            tag_flag = False\n",
    "            word_flag = True\n",
    "            results.append(temp)\n",
    "            temp = \"\"\n",
    "    if word_flag:\n",
    "        words = words.split()\n",
    "        words = [word[::-1] for word in words]\n",
    "        results.append(\" \".join(words))\n",
    "            \n",
    "    return \"\".join(results)\n",
    "\n",
    "if __name__ == \"__main__\":\n",
    "    string = input()\n",
    "    print(word_flipping(string))"
   ]
  }
 ],
 "metadata": {
  "kernelspec": {
   "display_name": "Python 3",
   "language": "python",
   "name": "python3"
  },
  "language_info": {
   "codemirror_mode": {
    "name": "ipython",
    "version": 3
   },
   "file_extension": ".py",
   "mimetype": "text/x-python",
   "name": "python",
   "nbconvert_exporter": "python",
   "pygments_lexer": "ipython3",
   "version": "3.7.3"
  }
 },
 "nbformat": 4,
 "nbformat_minor": 2
}
