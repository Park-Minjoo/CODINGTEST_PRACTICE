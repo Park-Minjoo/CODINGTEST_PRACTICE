{
 "cells": [
  {
   "cell_type": "markdown",
   "metadata": {},
   "source": [
    "## 2021년 9월 2일 목요일\n",
    "### BaekJoon - 내 학점을 구해줘 (Python)\n",
    "### 문제 : https://www.acmicpc.net/problem/10984\n",
    "### 블로그 : https://somjang.tistory.com/entry/BaekJoon-10984%EB%B2%88-%EB%82%B4-%ED%95%99%EC%A0%90%EC%9D%84-%EA%B5%AC%ED%95%B4%EC%A4%98-Python"
   ]
  },
  {
   "cell_type": "markdown",
   "metadata": {},
   "source": [
    "### Solution"
   ]
  },
  {
   "cell_type": "code",
   "execution_count": null,
   "metadata": {},
   "outputs": [],
   "source": [
    "def get_my_score(grade_score_list):\n",
    "    total_grade, total_score = 0, 0\n",
    "    for grade_score in grade_score_list:\n",
    "        grade, score = map(float, grade_score.split())\n",
    "        \n",
    "        total_grade += grade\n",
    "        total_score += score * grade\n",
    "        \n",
    "    total_score = total_score / total_grade\n",
    "    \n",
    "    return f\"{int(total_grade)} {round(total_score, 2)}\"\n",
    "\n",
    "\n",
    "if __name__ == \"__main__\":\n",
    "    for _ in range(int(input())):\n",
    "        grade_score_list = []\n",
    "        for _ in range(int(input())):\n",
    "            grade_score = input()\n",
    "            grade_score_list.append(grade_score)\n",
    "        print(get_my_score(grade_score_list))"
   ]
  }
 ],
 "metadata": {
  "kernelspec": {
   "display_name": "Python 3",
   "language": "python",
   "name": "python3"
  },
  "language_info": {
   "codemirror_mode": {
    "name": "ipython",
    "version": 3
   },
   "file_extension": ".py",
   "mimetype": "text/x-python",
   "name": "python",
   "nbconvert_exporter": "python",
   "pygments_lexer": "ipython3",
   "version": "3.7.3"
  }
 },
 "nbformat": 4,
 "nbformat_minor": 2
}
