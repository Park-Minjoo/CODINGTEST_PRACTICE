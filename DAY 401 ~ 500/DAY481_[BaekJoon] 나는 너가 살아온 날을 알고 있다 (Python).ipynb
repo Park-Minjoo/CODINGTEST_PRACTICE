{
 "cells": [
  {
   "cell_type": "markdown",
   "metadata": {},
   "source": [
    "## 2021년 9월 12일 일요일\n",
    "### BaekJoon - 나는 너가 살아온 날을 알고 있다 (Python)\n",
    "### 문제 : https://www.acmicpc.net/problem/2139\n",
    "### 블로그 : https://somjang.tistory.com/entry/BaekJoon-2139%EB%B2%88-%EB%82%98%EB%8A%94-%EB%84%88%EA%B0%80-%EC%82%B4%EC%95%84%EC%98%A8-%EB%82%A0%EC%9D%84-%EC%95%8C%EA%B3%A0-%EC%9E%88%EB%8B%A4-Python"
   ]
  },
  {
   "cell_type": "markdown",
   "metadata": {},
   "source": [
    "### Solution"
   ]
  },
  {
   "cell_type": "code",
   "execution_count": null,
   "metadata": {},
   "outputs": [],
   "source": [
    "import datetime\n",
    "\n",
    "def calculate_live_day(year, month, day):\n",
    "    input_day = datetime.datetime(year=year, month=month, day=day)\n",
    "    std_day = datetime.datetime(year=year, month=1, day=1)\n",
    "    \n",
    "    datetime_info = input_day - std_day\n",
    "    \n",
    "    return datetime_info.days + 1\n",
    "\n",
    "if __name__ == \"__main__\":\n",
    "    while True:\n",
    "        day, month, year = map(int, input().split())\n",
    "        \n",
    "        if day == 0 and month ==0 and year == 0:\n",
    "            break\n",
    "        print(calculate_live_day(year, month, day))"
   ]
  }
 ],
 "metadata": {
  "kernelspec": {
   "display_name": "Python 3",
   "language": "python",
   "name": "python3"
  },
  "language_info": {
   "codemirror_mode": {
    "name": "ipython",
    "version": 3
   },
   "file_extension": ".py",
   "mimetype": "text/x-python",
   "name": "python",
   "nbconvert_exporter": "python",
   "pygments_lexer": "ipython3",
   "version": "3.7.3"
  }
 },
 "nbformat": 4,
 "nbformat_minor": 2
}
