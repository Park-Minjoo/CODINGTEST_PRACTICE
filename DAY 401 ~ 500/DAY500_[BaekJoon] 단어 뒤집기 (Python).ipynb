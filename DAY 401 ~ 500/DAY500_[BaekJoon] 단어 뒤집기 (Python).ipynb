{
 "cells": [
  {
   "cell_type": "markdown",
   "metadata": {},
   "source": [
    "## 2021년 10월 2일 토요일\n",
    "### BaekJoon - 단어 뒤집기 (Python)\n",
    "### 문제 : https://www.acmicpc.net/problem/9093\n",
    "### 블로그 : https://somjang.tistory.com/entry/BaekJoon-9093%EB%B2%88-%EB%8B%A8%EC%96%B4-%EB%92%A4%EC%A7%91%EA%B8%B0-Python"
   ]
  },
  {
   "cell_type": "markdown",
   "metadata": {},
   "source": [
    "### Solution"
   ]
  },
  {
   "cell_type": "code",
   "execution_count": null,
   "metadata": {},
   "outputs": [],
   "source": [
    "def reverse_word(string):\n",
    "    words = [word[::-1] for word in string.split()]\n",
    "    \n",
    "    return \" \".join(words)\n",
    "    \n",
    "if __name__ == \"__main__\":\n",
    "    for _ in range(int(input())):\n",
    "        string = input()\n",
    "        print(reverse_word(string))"
   ]
  }
 ],
 "metadata": {
  "kernelspec": {
   "display_name": "Python 3",
   "language": "python",
   "name": "python3"
  },
  "language_info": {
   "codemirror_mode": {
    "name": "ipython",
    "version": 3
   },
   "file_extension": ".py",
   "mimetype": "text/x-python",
   "name": "python",
   "nbconvert_exporter": "python",
   "pygments_lexer": "ipython3",
   "version": "3.7.3"
  }
 },
 "nbformat": 4,
 "nbformat_minor": 2
}
