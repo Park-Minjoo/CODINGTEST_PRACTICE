{
 "cells": [
  {
   "cell_type": "markdown",
   "metadata": {},
   "source": [
    "## 2021년 8월 28일 토요일\n",
    "### BaekJoon - 창영이의 일기장 (Python)\n",
    "### 문제 : https://www.acmicpc.net/problem/2954\n",
    "### 블로그 : https://somjang.tistory.com/entry/BaekJoon-2954%EB%B2%88-%EC%B0%BD%EC%98%81%EC%9D%B4%EC%9D%98-%EC%9D%BC%EA%B8%B0%EC%9E%A5-Python"
   ]
  },
  {
   "cell_type": "markdown",
   "metadata": {},
   "source": [
    "### Solution"
   ]
  },
  {
   "cell_type": "code",
   "execution_count": null,
   "metadata": {},
   "outputs": [],
   "source": [
    "def changyoungs_diary(string):\n",
    "    answer = \"\"\n",
    "    vowels = \"aeiou\"\n",
    "    \n",
    "    idx = 0\n",
    "    \n",
    "    while True:\n",
    "        if idx >= len(string):\n",
    "            break\n",
    "        answer += string[idx]\n",
    "        \n",
    "        if string[idx] in vowels:\n",
    "            idx += 2\n",
    "        idx += 1\n",
    "        \n",
    "    return answer\n",
    "\n",
    "if __name__ == \"__main__\":\n",
    "    string = input()\n",
    "    print(changyoungs_diary(string))"
   ]
  }
 ],
 "metadata": {
  "kernelspec": {
   "display_name": "Python 3",
   "language": "python",
   "name": "python3"
  },
  "language_info": {
   "codemirror_mode": {
    "name": "ipython",
    "version": 3
   },
   "file_extension": ".py",
   "mimetype": "text/x-python",
   "name": "python",
   "nbconvert_exporter": "python",
   "pygments_lexer": "ipython3",
   "version": "3.7.3"
  }
 },
 "nbformat": 4,
 "nbformat_minor": 2
}
