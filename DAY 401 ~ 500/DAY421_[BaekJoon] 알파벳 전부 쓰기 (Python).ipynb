{
 "cells": [
  {
   "cell_type": "markdown",
   "metadata": {},
   "source": [
    "## 2021년 7월 11일 일요일\n",
    "### BaekJoon - 알파벳 전부 쓰기 (Python)\n",
    "### 문제 : https://www.acmicpc.net/problem/11091\n",
    "### 블로그 : https://somjang.tistory.com/entry/BaekJoon-11091%EB%B2%88-%EC%95%8C%ED%8C%8C%EB%B2%B3-%EC%A0%84%EB%B6%80-%EC%93%B0%EA%B8%B0-Python"
   ]
  },
  {
   "cell_type": "markdown",
   "metadata": {},
   "source": [
    "### Solution"
   ]
  },
  {
   "cell_type": "code",
   "execution_count": null,
   "metadata": {},
   "outputs": [],
   "source": [
    "import re\n",
    "\n",
    "def use_all_alphabet(string, alphabets):\n",
    "    is_pangram = \"pangram\"\n",
    "    \n",
    "    string = re.sub(r\"[^a-z]\", '', string.lower())\n",
    "    \n",
    "    string = set(string)\n",
    "    not_uesd_alphabet = alphabets - string\n",
    "    \n",
    "    if not_uesd_alphabet != set():\n",
    "        not_uesd_alphabet = sorted(list(not_uesd_alphabet))\n",
    "        \n",
    "        is_pangram = f\"missing {''.join(not_uesd_alphabet)}\"\n",
    "        \n",
    "    return is_pangram\n",
    "\n",
    "if __name__ == \"__main__\":\n",
    "    alphabets = set([chr(i) for i in range(97, 123)])\n",
    "\n",
    "    for _ in range(int(input())):\n",
    "        string = input()\n",
    "        print(use_all_alphabet(string, alphabets))"
   ]
  }
 ],
 "metadata": {
  "kernelspec": {
   "display_name": "Python 3",
   "language": "python",
   "name": "python3"
  },
  "language_info": {
   "codemirror_mode": {
    "name": "ipython",
    "version": 3
   },
   "file_extension": ".py",
   "mimetype": "text/x-python",
   "name": "python",
   "nbconvert_exporter": "python",
   "pygments_lexer": "ipython3",
   "version": "3.7.3"
  }
 },
 "nbformat": 4,
 "nbformat_minor": 2
}
