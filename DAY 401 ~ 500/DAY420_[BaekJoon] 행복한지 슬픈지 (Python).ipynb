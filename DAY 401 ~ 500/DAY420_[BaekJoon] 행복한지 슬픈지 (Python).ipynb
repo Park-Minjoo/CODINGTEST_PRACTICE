{
 "cells": [
  {
   "cell_type": "markdown",
   "metadata": {},
   "source": [
    "## 2021년 7월 10일 토요일\n",
    "### BaekJoon - 행복한지 슬픈지 (Python)\n",
    "### 문제 : https://www.acmicpc.net/problem/10769\n",
    "### 블로그 : https://somjang.tistory.com/entry/BaekJoon-10769%EB%B2%88-%ED%96%89%EB%B3%B5%ED%95%9C%EC%A7%80-%EC%8A%AC%ED%94%88%EC%A7%80-Python"
   ]
  },
  {
   "cell_type": "markdown",
   "metadata": {},
   "source": [
    "### Solution"
   ]
  },
  {
   "cell_type": "code",
   "execution_count": null,
   "metadata": {},
   "outputs": [],
   "source": [
    "def happy_or_sad(mind_string):\n",
    "    mind = None\n",
    "    happy, sad = 0, 0\n",
    "    \n",
    "    split_string = mind_string.split(\":\")\n",
    "    \n",
    "    for split_str in split_string:\n",
    "        if split_str[:2] == \"-)\":\n",
    "            happy += 1\n",
    "        elif split_str[:2] == \"-(\":\n",
    "            sad += 1\n",
    "    \n",
    "    if happy == 0 and sad == 0:\n",
    "        mind = \"none\"\n",
    "    elif happy == sad:\n",
    "        mind = \"unsure\"\n",
    "    elif happy > sad:\n",
    "        mind = \"happy\"\n",
    "    elif happy < sad:\n",
    "        mind = \"sad\"\n",
    "        \n",
    "    return mind\n",
    "\n",
    "if __name__ == \"__main__\":\n",
    "    mind_string = input()\n",
    "    print(happy_or_sad(mind_string))"
   ]
  }
 ],
 "metadata": {
  "kernelspec": {
   "display_name": "Python 3",
   "language": "python",
   "name": "python3"
  },
  "language_info": {
   "codemirror_mode": {
    "name": "ipython",
    "version": 3
   },
   "file_extension": ".py",
   "mimetype": "text/x-python",
   "name": "python",
   "nbconvert_exporter": "python",
   "pygments_lexer": "ipython3",
   "version": "3.7.3"
  }
 },
 "nbformat": 4,
 "nbformat_minor": 2
}
