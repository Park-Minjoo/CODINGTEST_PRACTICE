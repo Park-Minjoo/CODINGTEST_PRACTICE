{
 "cells": [
  {
   "cell_type": "markdown",
   "metadata": {},
   "source": [
    "## 2021년 7월 30일 금요일\n",
    "### BaekJoon - 최소, 최대 (Python)\n",
    "### 문제 : https://www.acmicpc.net/problem/10818\n",
    "### 블로그 : https://somjang.tistory.com/entry/BaekJoon-10818%EB%B2%88-%EC%B5%9C%EC%86%8C-%EC%B5%9C%EB%8C%80-Python"
   ]
  },
  {
   "cell_type": "markdown",
   "metadata": {},
   "source": [
    "### Solution"
   ]
  },
  {
   "cell_type": "code",
   "execution_count": null,
   "metadata": {},
   "outputs": [],
   "source": [
    "def min_max(string):\n",
    "    number_list = list(map(int, string.split()))\n",
    "    \n",
    "    return min(number_list), max(number_list)\n",
    "\n",
    "if __name__ == \"__main__\":\n",
    "    _ = input()\n",
    "    numbers = input()\n",
    "    min_num, max_num = min_max(numbers)\n",
    "    print(min_num, max_num)"
   ]
  }
 ],
 "metadata": {
  "kernelspec": {
   "display_name": "Python 3",
   "language": "python",
   "name": "python3"
  },
  "language_info": {
   "codemirror_mode": {
    "name": "ipython",
    "version": 3
   },
   "file_extension": ".py",
   "mimetype": "text/x-python",
   "name": "python",
   "nbconvert_exporter": "python",
   "pygments_lexer": "ipython3",
   "version": "3.7.3"
  }
 },
 "nbformat": 4,
 "nbformat_minor": 2
}
