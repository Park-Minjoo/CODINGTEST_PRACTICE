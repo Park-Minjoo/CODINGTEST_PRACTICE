{
 "cells": [
  {
   "cell_type": "markdown",
   "metadata": {},
   "source": [
    "## 2021년 8월 22일 일요일\n",
    "### BaekJoon - 이번학기 평점은 몇점? (Python)\n",
    "### 문제 : https://www.acmicpc.net/problem/2755\n",
    "### 블로그 : https://somjang.tistory.com/entry/BaekJoon-2755%EB%B2%88-%EC%9D%B4%EB%B2%88%ED%95%99%EA%B8%B0-%ED%8F%89%EC%A0%90%EC%9D%80-%EB%AA%87%EC%A0%90-Python"
   ]
  },
  {
   "cell_type": "markdown",
   "metadata": {},
   "source": [
    "### Solution"
   ]
  },
  {
   "cell_type": "code",
   "execution_count": null,
   "metadata": {},
   "outputs": [],
   "source": [
    "def this_year_avg_score(grade_info):\n",
    "    credit_dict = {\"A+\": 4.3, \"A0\": 4.0, \"A-\": 3.7, \"B+\": 3.3, \"B0\": 3.0, \"B-\": 2.7, \n",
    "                   \"C+\": 2.3, \"C0\": 2.0, \"C-\": 1.7, \"D+\": 1.3, \"D0\": 1.0, \"D-\": 0.7,\n",
    "                   \"F\" : 0.0}\n",
    "\n",
    "    sum_score, div_num = 0, 0\n",
    "    for info in grade_info:\n",
    "        subject, grade, score = info.split()\n",
    "        \n",
    "        sum_score += int(grade) * credit_dict[score]\n",
    "        div_num += int(grade)\n",
    "    \n",
    "    avg_score = sum_score / div_num\n",
    "    \n",
    "    result = avg_score * 1000\n",
    "    if result % 10 > 4:\n",
    "        result += (10 - result % 10)\n",
    "    result = result / 1000\n",
    "    \n",
    "    return f\"{result:.2f}\"   \n",
    "\n",
    "if __name__ == \"__main__\":\n",
    "    report = []\n",
    "    for _ in range(int(input())):\n",
    "        grade_info = input()\n",
    "        report.append(grade_info)\n",
    "        \n",
    "    print(this_year_avg_score(report))"
   ]
  }
 ],
 "metadata": {
  "kernelspec": {
   "display_name": "Python 3",
   "language": "python",
   "name": "python3"
  },
  "language_info": {
   "codemirror_mode": {
    "name": "ipython",
    "version": 3
   },
   "file_extension": ".py",
   "mimetype": "text/x-python",
   "name": "python",
   "nbconvert_exporter": "python",
   "pygments_lexer": "ipython3",
   "version": "3.7.3"
  }
 },
 "nbformat": 4,
 "nbformat_minor": 2
}
