{
 "cells": [
  {
   "cell_type": "markdown",
   "metadata": {},
   "source": [
    "## 2021년 9월 1일 수요일\n",
    "### BaekJoon - 비교 연산자 (Python)\n",
    "### 문제 : https://www.acmicpc.net/problem/5656\n",
    "### 블로그 : https://somjang.tistory.com/entry/BaekJoon-5656%EB%B2%88-%EB%B9%84%EA%B5%90-%EC%97%B0%EC%82%B0%EC%9E%90-Python"
   ]
  },
  {
   "cell_type": "markdown",
   "metadata": {},
   "source": [
    "### Solution"
   ]
  },
  {
   "cell_type": "code",
   "execution_count": null,
   "metadata": {},
   "outputs": [],
   "source": [
    "def compare_operator(exp):\n",
    "    answer = False\n",
    "    exp_split = exp.split()\n",
    "    \n",
    "    num1, operator, num2 = int(exp_split[0]), exp_split[1], int(exp_split[2])\n",
    "    \n",
    "    if operator == \"E\":\n",
    "        answer = -1\n",
    "    elif operator == \"!=\":\n",
    "        answer = (num1 != num2)\n",
    "    elif operator == \"<\":\n",
    "        answer = (num1 < num2)\n",
    "    elif operator == \">\":\n",
    "        answer = (num1 > num2)\n",
    "    elif operator == \"<=\":\n",
    "        answer = (num1 <= num2)\n",
    "    elif operator == \">=\":\n",
    "        answer = (num1 >= num2)\n",
    "    elif operator == \"==\":\n",
    "        answer = (num1 == num2)\n",
    "        \n",
    "    return answer\n",
    "\n",
    "\n",
    "if __name__ == \"__main__\":\n",
    "    case_num = 1\n",
    "    while True:\n",
    "        exp = input()\n",
    "        result = compare_operator(exp)\n",
    "        \n",
    "        if result == -1:\n",
    "            break\n",
    "        else:\n",
    "            print(f\"Case {case_num}: {str(result).lower()}\")\n",
    "            case_num += 1"
   ]
  }
 ],
 "metadata": {
  "kernelspec": {
   "display_name": "Python 3",
   "language": "python",
   "name": "python3"
  },
  "language_info": {
   "codemirror_mode": {
    "name": "ipython",
    "version": 3
   },
   "file_extension": ".py",
   "mimetype": "text/x-python",
   "name": "python",
   "nbconvert_exporter": "python",
   "pygments_lexer": "ipython3",
   "version": "3.7.3"
  }
 },
 "nbformat": 4,
 "nbformat_minor": 2
}
