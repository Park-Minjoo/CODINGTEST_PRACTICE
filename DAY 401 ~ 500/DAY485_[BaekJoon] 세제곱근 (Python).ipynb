{
 "cells": [
  {
   "cell_type": "markdown",
   "metadata": {},
   "source": [
    "## 2021년 9월 16일 목요일\n",
    "### BaekJoon - 세제곱근 (Python)\n",
    "### 문제 : https://www.acmicpc.net/problem/3783\n",
    "### 블로그 : https://somjang.tistory.com/entry/BaekJoon-3783%EB%B2%88-%EC%84%B8%EC%A0%9C%EA%B3%B1%EA%B7%BC-Python"
   ]
  },
  {
   "cell_type": "markdown",
   "metadata": {},
   "source": [
    "### Solution"
   ]
  },
  {
   "cell_type": "code",
   "execution_count": null,
   "metadata": {},
   "outputs": [],
   "source": [
    "import decimal\n",
    "\n",
    "def cube_root(input_num):\n",
    "    decimal_num = decimal.Decimal(input_num + '.0000000000')\n",
    "    pow_num = decimal.Decimal('1') / decimal.Decimal('3')\n",
    "    \n",
    "    decimal_num = decimal.Decimal(decimal_num ** pow_num)\n",
    "    \n",
    "    decimal_num = round(decimal_num, 500)\n",
    "    \n",
    "    decimal_num = decimal.Decimal(decimal_num).quantize(decimal.Decimal('.0000000001'), rounding=decimal.ROUND_DOWN)\n",
    "    \n",
    "    return decimal_num\n",
    "\n",
    "if __name__ == \"__main__\":\n",
    "    decimal.getcontext().prec = 1000\n",
    "    for _ in range(int(input())):\n",
    "        input_num = input().rstrip()\n",
    "        print(cube_root(input_num))"
   ]
  }
 ],
 "metadata": {
  "kernelspec": {
   "display_name": "Python 3",
   "language": "python",
   "name": "python3"
  },
  "language_info": {
   "codemirror_mode": {
    "name": "ipython",
    "version": 3
   },
   "file_extension": ".py",
   "mimetype": "text/x-python",
   "name": "python",
   "nbconvert_exporter": "python",
   "pygments_lexer": "ipython3",
   "version": "3.7.3"
  }
 },
 "nbformat": 4,
 "nbformat_minor": 2
}
