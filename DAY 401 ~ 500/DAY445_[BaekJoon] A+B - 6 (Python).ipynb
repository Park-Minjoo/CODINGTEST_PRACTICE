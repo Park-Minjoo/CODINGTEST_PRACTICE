{
 "cells": [
  {
   "cell_type": "markdown",
   "metadata": {},
   "source": [
    "## 2021년 8월 6일 금요일\n",
    "### BaekJoon - A+B - 6 (Python)\n",
    "### 문제 : https://www.acmicpc.net/problem/10953\n",
    "### 블로그 : https://somjang.tistory.com/entry/BaekJoon-10953%EB%B2%88-AB-6-Python"
   ]
  },
  {
   "cell_type": "markdown",
   "metadata": {},
   "source": [
    "### Solution"
   ]
  },
  {
   "cell_type": "code",
   "execution_count": null,
   "metadata": {},
   "outputs": [],
   "source": [
    "def A_PLUS_B_6(number_list):\n",
    "    return [sum(numbers) for numbers in number_list]\n",
    "\n",
    "if __name__ == \"__main__\":\n",
    "    number_list= []\n",
    "    for _ in range(int(input())):\n",
    "        num1, num2 = map(int, input().split(\",\"))\n",
    "        number_list.append((num1, num2))\n",
    "        \n",
    "    result = A_PLUS_B_6(number_list)\n",
    "    \n",
    "    for num in result:\n",
    "        print(num)"
   ]
  }
 ],
 "metadata": {
  "kernelspec": {
   "display_name": "Python 3",
   "language": "python",
   "name": "python3"
  },
  "language_info": {
   "codemirror_mode": {
    "name": "ipython",
    "version": 3
   },
   "file_extension": ".py",
   "mimetype": "text/x-python",
   "name": "python",
   "nbconvert_exporter": "python",
   "pygments_lexer": "ipython3",
   "version": "3.7.3"
  }
 },
 "nbformat": 4,
 "nbformat_minor": 2
}
