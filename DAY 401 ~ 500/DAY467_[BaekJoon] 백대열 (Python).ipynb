{
 "cells": [
  {
   "cell_type": "markdown",
   "metadata": {},
   "source": [
    "## 2021년 8월 29일 일요일\n",
    "### BaekJoon - 백대열 (Python)\n",
    "### 문제 : https://www.acmicpc.net/problem/14490\n",
    "### 블로그 : https://somjang.tistory.com/entry/BaekJoon-14490%EB%B2%88-%EB%B0%B1%EB%8C%80%EC%97%B4-Python"
   ]
  },
  {
   "cell_type": "markdown",
   "metadata": {},
   "source": [
    "### Solution"
   ]
  },
  {
   "cell_type": "code",
   "execution_count": null,
   "metadata": {},
   "outputs": [],
   "source": [
    "from math import gcd\n",
    "\n",
    "def solution(string):\n",
    "    num1, num2 = map(int, string.split(\":\"))\n",
    "    \n",
    "    gcd_num = gcd(num1, num2)\n",
    "    \n",
    "    return f\"{num1 // gcd_num}:{num2 // gcd_num}\"\n",
    "    \n",
    "if __name__ == \"__main__\":\n",
    "    string = input()\n",
    "    print(solution)"
   ]
  }
 ],
 "metadata": {
  "kernelspec": {
   "display_name": "Python 3",
   "language": "python",
   "name": "python3"
  },
  "language_info": {
   "codemirror_mode": {
    "name": "ipython",
    "version": 3
   },
   "file_extension": ".py",
   "mimetype": "text/x-python",
   "name": "python",
   "nbconvert_exporter": "python",
   "pygments_lexer": "ipython3",
   "version": "3.7.3"
  }
 },
 "nbformat": 4,
 "nbformat_minor": 2
}
