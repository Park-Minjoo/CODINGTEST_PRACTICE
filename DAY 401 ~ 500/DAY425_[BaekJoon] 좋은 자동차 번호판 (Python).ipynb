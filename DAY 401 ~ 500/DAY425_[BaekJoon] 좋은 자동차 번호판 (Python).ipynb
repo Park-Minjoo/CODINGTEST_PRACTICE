{
 "cells": [
  {
   "cell_type": "markdown",
   "metadata": {},
   "source": [
    "## 2021년 7월 15일 목요일\n",
    "### BaekJoon - 좋은 자동차 번호판 (Python) \n",
    "### 문제 : https://www.acmicpc.net/problem/1871\n",
    "### 블로그 : https://somjang.tistory.com/entry/BaekJoon-1871%EB%B2%88-%EC%A2%8B%EC%9D%80-%EC%9E%90%EB%8F%99%EC%B0%A8-%EB%B2%88%ED%98%B8%ED%8C%90-Python"
   ]
  },
  {
   "cell_type": "markdown",
   "metadata": {},
   "source": [
    "### Solution"
   ]
  },
  {
   "cell_type": "code",
   "execution_count": null,
   "metadata": {},
   "outputs": [],
   "source": [
    "def nice_car_number(car_number):\n",
    "    is_nice = \"not nice\"\n",
    "    front, end = car_number.split(\"-\")\n",
    "    \n",
    "    front_num, end_num = 0, int(end)\n",
    "\n",
    "    for i in range(3):\n",
    "        front_num += (ord(front[i]) - 65) * 26**(2-i)        \n",
    "\n",
    "    if abs(front_num - end_num) <= 100:\n",
    "        is_nice = \"nice\"\n",
    "        \n",
    "    return is_nice\n",
    "\n",
    "if __name__ == \"__main__\":\n",
    "    for _ in range(int(input())):\n",
    "        car_number = input()\n",
    "        print(nice_car_number(car_number))"
   ]
  }
 ],
 "metadata": {
  "kernelspec": {
   "display_name": "Python 3",
   "language": "python",
   "name": "python3"
  },
  "language_info": {
   "codemirror_mode": {
    "name": "ipython",
    "version": 3
   },
   "file_extension": ".py",
   "mimetype": "text/x-python",
   "name": "python",
   "nbconvert_exporter": "python",
   "pygments_lexer": "ipython3",
   "version": "3.7.3"
  }
 },
 "nbformat": 4,
 "nbformat_minor": 2
}
