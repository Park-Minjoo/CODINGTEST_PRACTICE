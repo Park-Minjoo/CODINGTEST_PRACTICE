{
 "cells": [
  {
   "cell_type": "markdown",
   "metadata": {},
   "source": [
    "## 2021년 9월 14일 화요일\n",
    "### BaekJoon - 힘 겨루기 (Python)\n",
    "### 문제 : https://www.acmicpc.net/problem/17251\n",
    "### 블로그 : https://somjang.tistory.com/entry/BaekJoon-17251%EB%B2%88-%ED%9E%98-%EA%B2%A8%EB%A3%A8%EA%B8%B0-Python"
   ]
  },
  {
   "cell_type": "markdown",
   "metadata": {},
   "source": [
    "### Solution"
   ]
  },
  {
   "cell_type": "code",
   "execution_count": null,
   "metadata": {},
   "outputs": [],
   "source": [
    "def fight_for_strength(players):\n",
    "    players = list(map(int, players.split()))\n",
    "    \n",
    "    max_st, start, end = 0, 0, 0\n",
    "    \n",
    "    for idx, player in enumerate(players):\n",
    "        if max_st < player:\n",
    "            max_st = player\n",
    "            start = idx\n",
    "            end = idx\n",
    "        elif max_st == player:\n",
    "            end = idx\n",
    "            \n",
    "    if start > len(players) - end - 1:\n",
    "        result = \"B\"\n",
    "    elif start < len(players) - end - 1:\n",
    "        result = \"R\"\n",
    "    else:\n",
    "        result = \"X\"\n",
    "        \n",
    "    return result\n",
    "\n",
    "\n",
    "if __name__ == \"__main__\":\n",
    "    _ = input()\n",
    "    players = input()\n",
    "    print(fight_for_strength(players))"
   ]
  }
 ],
 "metadata": {
  "kernelspec": {
   "display_name": "Python 3",
   "language": "python",
   "name": "python3"
  },
  "language_info": {
   "codemirror_mode": {
    "name": "ipython",
    "version": 3
   },
   "file_extension": ".py",
   "mimetype": "text/x-python",
   "name": "python",
   "nbconvert_exporter": "python",
   "pygments_lexer": "ipython3",
   "version": "3.7.3"
  }
 },
 "nbformat": 4,
 "nbformat_minor": 2
}
