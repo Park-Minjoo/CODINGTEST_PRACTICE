{
 "cells": [
  {
   "cell_type": "markdown",
   "metadata": {},
   "source": [
    "## 2021년 9월 7일 화요일\n",
    "### BaekJoon - 생태학 (Python)\n",
    "### 문제 : https://www.acmicpc.net/problem/4358\n",
    "### 블로그 : https://somjang.tistory.com/entry/BaekJoon-4358%EB%B2%88-%EC%83%9D%ED%83%9C%ED%95%99-Python"
   ]
  },
  {
   "cell_type": "markdown",
   "metadata": {},
   "source": [
    "### Solution"
   ]
  },
  {
   "cell_type": "code",
   "execution_count": null,
   "metadata": {},
   "outputs": [],
   "source": [
    "from sys import stdin\n",
    "input = stdin.readline\n",
    "\n",
    "def ecology():\n",
    "    tree_dict = {}\n",
    "    tree_name_list = set()\n",
    "    \n",
    "    tree_num = 0\n",
    "    \n",
    "    while True:\n",
    "        tree = input().rstrip()\n",
    "        \n",
    "        if not tree:\n",
    "            break\n",
    "        tree_num += 1\n",
    "        \n",
    "        if tree not in tree_dict.keys():\n",
    "            tree_dict[tree] = 1\n",
    "            tree_name_list.add(tree)\n",
    "        else:\n",
    "            tree_dict[tree] += 1\n",
    "    \n",
    "    tree_names = sorted(list(tree_name_list))\n",
    "    \n",
    "    return tree_dict, tree_names, tree_num\n",
    "\n",
    "\n",
    "if __name__ == \"__main__\":\n",
    "    tree_dict, tree_names, tree_num = ecology()\n",
    "    \n",
    "    for tree in tree_names:\n",
    "        print(f\"{tree} {((tree_dict[tree] / tree_num) * 100):.4f}\")"
   ]
  }
 ],
 "metadata": {
  "kernelspec": {
   "display_name": "Python 3",
   "language": "python",
   "name": "python3"
  },
  "language_info": {
   "codemirror_mode": {
    "name": "ipython",
    "version": 3
   },
   "file_extension": ".py",
   "mimetype": "text/x-python",
   "name": "python",
   "nbconvert_exporter": "python",
   "pygments_lexer": "ipython3",
   "version": "3.7.3"
  }
 },
 "nbformat": 4,
 "nbformat_minor": 2
}
