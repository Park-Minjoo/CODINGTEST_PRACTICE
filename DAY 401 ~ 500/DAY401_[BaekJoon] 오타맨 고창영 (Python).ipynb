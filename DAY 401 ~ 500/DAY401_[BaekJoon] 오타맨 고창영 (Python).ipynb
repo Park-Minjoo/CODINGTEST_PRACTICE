{
 "cells": [
  {
   "cell_type": "markdown",
   "metadata": {},
   "source": [
    "## 2021년 6월 20일 일요일\n",
    "### BaekJoon - 오타맨 고창영 (Python)\n",
    "### 문제 : https://www.acmicpc.net/problem/2711\n",
    "### 블로그 : https://somjang.tistory.com/entry/BaekJoon-2711%EB%B2%88-%EC%98%A4%ED%83%80%EB%A7%A8-%EA%B3%A0%EC%B0%BD%EC%98%81-Python"
   ]
  },
  {
   "cell_type": "markdown",
   "metadata": {},
   "source": [
    "### 첫번째 시도"
   ]
  },
  {
   "cell_type": "code",
   "execution_count": null,
   "metadata": {},
   "outputs": [],
   "source": [
    "def fix_typo(idx, string):\n",
    "    return string[:idx-1] + string[idx:]\n",
    "\n",
    "if __name__ == \"__main__\":\n",
    "    for _ in range(int(input())):\n",
    "        idx, string = input().split()\n",
    "        print(fix_typo(int(idx), string))"
   ]
  }
 ],
 "metadata": {
  "kernelspec": {
   "display_name": "Python 3",
   "language": "python",
   "name": "python3"
  },
  "language_info": {
   "codemirror_mode": {
    "name": "ipython",
    "version": 3
   },
   "file_extension": ".py",
   "mimetype": "text/x-python",
   "name": "python",
   "nbconvert_exporter": "python",
   "pygments_lexer": "ipython3",
   "version": "3.7.3"
  }
 },
 "nbformat": 4,
 "nbformat_minor": 2
}
