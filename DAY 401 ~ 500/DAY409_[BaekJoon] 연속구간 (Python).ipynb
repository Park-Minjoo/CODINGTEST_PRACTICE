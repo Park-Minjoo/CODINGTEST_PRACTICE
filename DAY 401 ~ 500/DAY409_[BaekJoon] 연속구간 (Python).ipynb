{
 "cells": [
  {
   "cell_type": "markdown",
   "metadata": {},
   "source": [
    "## 2021년 6월 29일 화요일\n",
    "### BaekJoon - 연속구간 (Python)\n",
    "### 문제 : https://www.acmicpc.net/problem/2495\n",
    "### 블로그 : https://somjang.tistory.com/entry/BaekJoon-2495%EB%B2%88-%EC%97%B0%EC%86%8D%EA%B5%AC%EA%B0%84-Python"
   ]
  },
  {
   "cell_type": "markdown",
   "metadata": {},
   "source": [
    "### 첫번째 시도"
   ]
  },
  {
   "cell_type": "code",
   "execution_count": null,
   "metadata": {},
   "outputs": [],
   "source": [
    "def get_longest_repeat_time(string):\n",
    "    answer, cnt = 1, 1\n",
    "    \n",
    "    for i in range(1, len(string)):\n",
    "        if string[i] == string[i-1]:\n",
    "            cnt += 1\n",
    "            if cnt > answer:\n",
    "                answer = cnt\n",
    "        else:\n",
    "            cnt = 1\n",
    "            \n",
    "    return answer\n",
    "\n",
    "if __name__ == \"__main__\":\n",
    "    for _ in range(3):\n",
    "        string = input()\n",
    "        print(get_longest_repeat_time(string))"
   ]
  }
 ],
 "metadata": {
  "kernelspec": {
   "display_name": "Python 3",
   "language": "python",
   "name": "python3"
  },
  "language_info": {
   "codemirror_mode": {
    "name": "ipython",
    "version": 3
   },
   "file_extension": ".py",
   "mimetype": "text/x-python",
   "name": "python",
   "nbconvert_exporter": "python",
   "pygments_lexer": "ipython3",
   "version": "3.7.3"
  }
 },
 "nbformat": 4,
 "nbformat_minor": 2
}
