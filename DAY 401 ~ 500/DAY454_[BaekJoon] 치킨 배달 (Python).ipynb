{
 "cells": [
  {
   "cell_type": "markdown",
   "metadata": {},
   "source": [
    "## 2021년 8월 15일 일요일\n",
    "### BaekJoon - 치킨 배달 (Python)\n",
    "### 문제 : https://www.acmicpc.net/problem/15686\n",
    "### 블로그 : https://somjang.tistory.com/entry/BaekJoon-15686%EB%B2%88-%EC%B9%98%ED%82%A8-%EB%B0%B0%EB%8B%AC-Python"
   ]
  },
  {
   "cell_type": "markdown",
   "metadata": {},
   "source": [
    "### Solution"
   ]
  },
  {
   "cell_type": "code",
   "execution_count": null,
   "metadata": {},
   "outputs": [],
   "source": [
    "from itertools import combinations\n",
    "\n",
    "def find_home_chicken(city_map):\n",
    "    home, chicken = [], []\n",
    "    for i, row in enumerate(city_map):\n",
    "        for j, col in enumerate(row):\n",
    "            if row[j] == 1:\n",
    "                home.append((i, j))\n",
    "            elif row[j] == 2:\n",
    "                chicken.append((i, j))\n",
    "                \n",
    "    return home, chicken\n",
    "\n",
    "\n",
    "def get_home_chicken_distance(home_point, chicken_point):\n",
    "    return abs(home_point[0] - chicken_point[0]) + abs(home_point[1] - chicken_point[1])\n",
    "            \n",
    "\n",
    "def chicken_delivery(max_chicken, city_map):\n",
    "    home, chicken = find_home_chicken(city_map=city_map)\n",
    "    \n",
    "    number_of_cases = list(combinations(chicken, max_chicken))\n",
    "    \n",
    "    case_distance = [0 for _ in range(len(number_of_cases))]\n",
    "    \n",
    "    for i in range(len(home)):\n",
    "        for j in range(len(number_of_cases)):\n",
    "            dist = 100\n",
    "            for case in number_of_cases[j]:\n",
    "                dist = min(dist, get_home_chicken_distance(home[i], case))\n",
    "            case_distance[j] += dist\n",
    "    return min(case_distance)\n",
    "\n",
    "if __name__ == \"__main__\":\n",
    "    city_map = []\n",
    "    N, M = map(int, input().split())\n",
    "    for i in range(N):\n",
    "        city = list(map(int, input().split()))\n",
    "        city_map.append(city)\n",
    "        \n",
    "    print(chicken_delivery(max_chicken=M, city_map=city_map))"
   ]
  }
 ],
 "metadata": {
  "kernelspec": {
   "display_name": "Python 3",
   "language": "python",
   "name": "python3"
  },
  "language_info": {
   "codemirror_mode": {
    "name": "ipython",
    "version": 3
   },
   "file_extension": ".py",
   "mimetype": "text/x-python",
   "name": "python",
   "nbconvert_exporter": "python",
   "pygments_lexer": "ipython3",
   "version": "3.7.3"
  }
 },
 "nbformat": 4,
 "nbformat_minor": 2
}
