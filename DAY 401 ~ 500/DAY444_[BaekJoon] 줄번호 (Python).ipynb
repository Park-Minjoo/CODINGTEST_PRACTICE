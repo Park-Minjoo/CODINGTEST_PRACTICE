{
 "cells": [
  {
   "cell_type": "markdown",
   "metadata": {},
   "source": [
    "## 2021년 8월 5일 목요일\n",
    "### BaekJoon - 줄번호 (Python)\n",
    "### 문제 : https://www.acmicpc.net/problem/4470\n",
    "### 블로그 : https://somjang.tistory.com/entry/BaekJoon-4470%EB%B2%88-%EC%A4%84%EB%B2%88%ED%98%B8-Python"
   ]
  },
  {
   "cell_type": "markdown",
   "metadata": {},
   "source": [
    "### Solution"
   ]
  },
  {
   "cell_type": "code",
   "execution_count": null,
   "metadata": {},
   "outputs": [],
   "source": [
    "def line_number(string_list):\n",
    "    for idx, string in enumerate(string_list):\n",
    "        print(f\"{idx+1}. {string}\")\n",
    "        \n",
    "if __name__ == \"__main__\":\n",
    "    string_list = []\n",
    "    for _ in range(int(input())):\n",
    "        string = input()\n",
    "        string_list.append(string)\n",
    "        \n",
    "    line_number(string_list)"
   ]
  }
 ],
 "metadata": {
  "kernelspec": {
   "display_name": "Python 3",
   "language": "python",
   "name": "python3"
  },
  "language_info": {
   "codemirror_mode": {
    "name": "ipython",
    "version": 3
   },
   "file_extension": ".py",
   "mimetype": "text/x-python",
   "name": "python",
   "nbconvert_exporter": "python",
   "pygments_lexer": "ipython3",
   "version": "3.7.3"
  }
 },
 "nbformat": 4,
 "nbformat_minor": 2
}
