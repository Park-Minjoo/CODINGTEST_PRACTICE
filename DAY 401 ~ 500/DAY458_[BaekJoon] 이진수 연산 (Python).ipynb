{
 "cells": [
  {
   "cell_type": "markdown",
   "metadata": {},
   "source": [
    "## 2021년 8월 19일 목요일\n",
    "### BaekJoon - 이진수 연산 (Python)\n",
    "### 문제 : https://www.acmicpc.net/problem/12813\n",
    "### 블로그 : https://somjang.tistory.com/entry/BaekJoon-12813%EB%B2%88-%EC%9D%B4%EC%A7%84%EC%88%98-%EC%97%B0%EC%82%B0-Python"
   ]
  },
  {
   "cell_type": "markdown",
   "metadata": {},
   "source": [
    "### Solution"
   ]
  },
  {
   "cell_type": "code",
   "execution_count": null,
   "metadata": {},
   "outputs": [],
   "source": [
    "def calculate_binary(A, B):\n",
    "    MASK = pow(2, 100000) - 1\n",
    "    print(bin(A & B)[2:].zfill(100000))\n",
    "    print(bin(A | B)[2:].zfill(100000))\n",
    "    print(bin(A ^ B)[2:].zfill(100000))\n",
    "    print(bin(A ^ MASK)[2:].zfill(100000))\n",
    "    print(bin(B ^ MASK)[2:].zfill(100000))\n",
    "    \n",
    "if __name__ == \"__main__\":\n",
    "    A = int(input(), 2)\n",
    "    B = int(input(), 2)\n",
    "    calculate_binary(A, B)"
   ]
  }
 ],
 "metadata": {
  "kernelspec": {
   "display_name": "Python 3",
   "language": "python",
   "name": "python3"
  },
  "language_info": {
   "codemirror_mode": {
    "name": "ipython",
    "version": 3
   },
   "file_extension": ".py",
   "mimetype": "text/x-python",
   "name": "python",
   "nbconvert_exporter": "python",
   "pygments_lexer": "ipython3",
   "version": "3.7.3"
  }
 },
 "nbformat": 4,
 "nbformat_minor": 2
}
