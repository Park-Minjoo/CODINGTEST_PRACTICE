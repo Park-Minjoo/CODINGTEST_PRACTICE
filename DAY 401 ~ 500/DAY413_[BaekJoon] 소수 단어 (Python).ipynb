{
 "cells": [
  {
   "cell_type": "markdown",
   "metadata": {},
   "source": [
    "## 2021년 7월 3일 토요일\n",
    "### BaekJoon - 소수 단어 (Python) \n",
    "### 문제 : https://www.acmicpc.net/problem/2153\n",
    "### 블로그 : https://somjang.tistory.com/entry/BaekJoon-2153%EB%B2%88-%EC%86%8C%EC%88%98-%EB%8B%A8%EC%96%B4-Python"
   ]
  },
  {
   "cell_type": "markdown",
   "metadata": {},
   "source": [
    "### Solution"
   ]
  },
  {
   "cell_type": "code",
   "execution_count": null,
   "metadata": {},
   "outputs": [],
   "source": [
    "def check_is_primary_num(num):\n",
    "    for i in range(2, int(num**0.5) + 1):\n",
    "        if num % i == 0:\n",
    "            return \"It is not a prime word.\"\n",
    "    return \"It is a prime word.\"\n",
    "\n",
    "def change_word_to_num(word):\n",
    "    num = 0\n",
    "    \n",
    "    for char in word:\n",
    "        if ord('a') <= ord(char) <= ord('z'):\n",
    "            num += ord(char) - 96\n",
    "        elif ord('A') <= ord(char) <= ord('Z'):\n",
    "            num += ord(char) - 38\n",
    "    return num\n",
    "\n",
    "if __name__ == \"__main__\":\n",
    "    word = input()\n",
    "    word_num = change_word_to_num(word)\n",
    "    print(check_is_primary_num(word_num))"
   ]
  }
 ],
 "metadata": {
  "kernelspec": {
   "display_name": "Python 3",
   "language": "python",
   "name": "python3"
  },
  "language_info": {
   "codemirror_mode": {
    "name": "ipython",
    "version": 3
   },
   "file_extension": ".py",
   "mimetype": "text/x-python",
   "name": "python",
   "nbconvert_exporter": "python",
   "pygments_lexer": "ipython3",
   "version": "3.7.3"
  }
 },
 "nbformat": 4,
 "nbformat_minor": 2
}
