{
 "cells": [
  {
   "cell_type": "markdown",
   "metadata": {},
   "source": [
    "## 2021년 8월 1일 일요일\n",
    "### BaekJoon - 대충 더해 (Python)\n",
    "### 문제 : https://www.acmicpc.net/problem/8949\n",
    "### 블로그 : https://somjang.tistory.com/entry/BaekJoon-8949%EB%B2%88-%EB%8C%80%EC%B6%A9-%EB%8D%94%ED%95%B4-Python"
   ]
  },
  {
   "cell_type": "markdown",
   "metadata": {},
   "source": [
    "### Solution"
   ]
  },
  {
   "cell_type": "code",
   "execution_count": null,
   "metadata": {},
   "outputs": [],
   "source": [
    "def daechung_sum(num1, num2):\n",
    "    result = []\n",
    "    num1_len, num2_len = len(num1), len(num2)\n",
    "    if num1_len > num2_len:\n",
    "        num2 = '0' * (num1_len - num2_len) + num2\n",
    "    else:\n",
    "        num1 = '0' * (num2_len - num1_len) + num1\n",
    "        \n",
    "    max_len = max([num1_len, num2_len])\n",
    "\n",
    "    for i in range(max_len):\n",
    "        result.append(str(int(num1[i]) + int(num2[i])))\n",
    "        \n",
    "    return \"\".join(result)\n",
    "        \n",
    "if __name__ == \"__main__\":\n",
    "    num1, num2 = input().split()\n",
    "    \n",
    "    print(daechung_sum(num1, num2))"
   ]
  }
 ],
 "metadata": {
  "kernelspec": {
   "display_name": "Python 3",
   "language": "python",
   "name": "python3"
  },
  "language_info": {
   "codemirror_mode": {
    "name": "ipython",
    "version": 3
   },
   "file_extension": ".py",
   "mimetype": "text/x-python",
   "name": "python",
   "nbconvert_exporter": "python",
   "pygments_lexer": "ipython3",
   "version": "3.7.3"
  }
 },
 "nbformat": 4,
 "nbformat_minor": 2
}
