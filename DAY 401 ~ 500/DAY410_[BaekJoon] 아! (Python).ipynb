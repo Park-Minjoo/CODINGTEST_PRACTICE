{
 "cells": [
  {
   "cell_type": "markdown",
   "metadata": {},
   "source": [
    "## 2021년 6월 30일 수요일\n",
    "### BaekJoon - 아! (Python)\n",
    "### 문제 : https://www.acmicpc.net/problem/4999\n",
    "### 블로그 : https://somjang.tistory.com/entry/BaekJoon-4999%EB%B2%88-%EC%95%84-Python"
   ]
  },
  {
   "cell_type": "markdown",
   "metadata": {},
   "source": [
    "### 첫번째 시도"
   ]
  },
  {
   "cell_type": "code",
   "execution_count": null,
   "metadata": {},
   "outputs": [],
   "source": [
    "def is_go_hospital(doctor, justin_bieber):\n",
    "    is_go = \"no\"\n",
    "    if len(doctor) <= len(justin_bieber):\n",
    "        is_go = \"go\"\n",
    "    return is_go\n",
    "\n",
    "if __name__ == \"__main__\":\n",
    "    justin_bieber = input()\n",
    "    doctor = input()\n",
    "    print(is_go_hospital(doctor, justin_bieber))"
   ]
  }
 ],
 "metadata": {
  "kernelspec": {
   "display_name": "Python 3",
   "language": "python",
   "name": "python3"
  },
  "language_info": {
   "codemirror_mode": {
    "name": "ipython",
    "version": 3
   },
   "file_extension": ".py",
   "mimetype": "text/x-python",
   "name": "python",
   "nbconvert_exporter": "python",
   "pygments_lexer": "ipython3",
   "version": "3.7.3"
  }
 },
 "nbformat": 4,
 "nbformat_minor": 2
}
