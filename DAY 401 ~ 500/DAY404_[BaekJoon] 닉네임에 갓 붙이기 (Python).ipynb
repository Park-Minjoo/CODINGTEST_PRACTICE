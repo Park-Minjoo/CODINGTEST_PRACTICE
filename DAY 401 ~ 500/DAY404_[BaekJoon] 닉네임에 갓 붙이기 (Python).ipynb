{
 "cells": [
  {
   "cell_type": "markdown",
   "metadata": {},
   "source": [
    "## 2021년 6월 23일 수요일\n",
    "### BaekJoon - 닉네임에 갓 붙이기 (Python)\n",
    "### 문제 : https://www.acmicpc.net/problem/13163\n",
    "### 블로그 : https://somjang.tistory.com/entry/BaekJoon-13163%EB%B2%88-%EB%8B%89%EB%84%A4%EC%9E%84%EC%97%90-%EA%B0%93-%EB%B6%99%EC%9D%B4%EA%B8%B0-Python"
   ]
  },
  {
   "cell_type": "markdown",
   "metadata": {},
   "source": [
    "### 첫번째 시도"
   ]
  },
  {
   "cell_type": "code",
   "execution_count": null,
   "metadata": {},
   "outputs": [],
   "source": [
    "def make_god_name(name):\n",
    "    name = name.split()\n",
    "    name[0] = \"god\"\n",
    "    return \"\".join(name)\n",
    "\n",
    "if __name__ == \"__main__\":\n",
    "    for _ in range(int(input())):\n",
    "        name = input()\n",
    "        print(make_god_name(name))"
   ]
  }
 ],
 "metadata": {
  "kernelspec": {
   "display_name": "Python 3",
   "language": "python",
   "name": "python3"
  },
  "language_info": {
   "codemirror_mode": {
    "name": "ipython",
    "version": 3
   },
   "file_extension": ".py",
   "mimetype": "text/x-python",
   "name": "python",
   "nbconvert_exporter": "python",
   "pygments_lexer": "ipython3",
   "version": "3.7.3"
  }
 },
 "nbformat": 4,
 "nbformat_minor": 2
}
