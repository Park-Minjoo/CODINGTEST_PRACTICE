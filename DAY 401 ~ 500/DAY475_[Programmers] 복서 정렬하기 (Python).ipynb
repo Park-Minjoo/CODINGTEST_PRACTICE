{
 "cells": [
  {
   "cell_type": "markdown",
   "metadata": {},
   "source": [
    "## 2021년 9월 6일 월요일\n",
    "### Programmers - 복서 정렬하기 (Python)\n",
    "### 문제 : https://programmers.co.kr/learn/courses/30/lessons/84325\n",
    "### 블로그 : https://somjang.tistory.com/entry/Programmers-%EC%9C%84%ED%81%B4%EB%A6%AC-%EC%B1%8C%EB%A6%B0%EC%A7%80-4%EC%A3%BC%EC%B0%A8-%EC%A7%81%EC%97%85%EA%B5%B0-%EC%B6%94%EC%B2%9C%ED%95%98%EA%B8%B0-Python"
   ]
  },
  {
   "cell_type": "markdown",
   "metadata": {},
   "source": [
    "### Solution"
   ]
  },
  {
   "cell_type": "code",
   "execution_count": null,
   "metadata": {},
   "outputs": [],
   "source": [
    "def solution(weights, head2head):\n",
    "    answer = []\n",
    "    \n",
    "    person_num = len(weights)\n",
    "    \n",
    "    match_result_list = []\n",
    "    \n",
    "    for person_idx, results in enumerate(head2head):\n",
    "        my_weight = weights[person_idx]\n",
    "        win_num, win_goliath, match_num =0, 0, 0\n",
    "        \n",
    "        for result_idx, result in enumerate(results):\n",
    "            if result != \"N\":\n",
    "                match_num += 1\n",
    "\n",
    "            if result == \"W\":\n",
    "                win_num += 1\n",
    "                if weights[result_idx] > my_weight:\n",
    "                    win_goliath += 1\n",
    "                    \n",
    "        win_percent = win_num / match_num * 100 if match_num != 0 else 0            \n",
    "                    \n",
    "        match_result_list.append((person_idx + 1, win_percent, win_goliath, my_weight))\n",
    "        \n",
    "    match_result_list = sorted(match_result_list, key=lambda x: (-x[1], -x[2], -x[3], x[0]))\n",
    "    \n",
    "    answer = [result[0] for result in match_result_list]      \n",
    "        \n",
    "    \n",
    "    return answer"
   ]
  }
 ],
 "metadata": {
  "kernelspec": {
   "display_name": "Python 3",
   "language": "python",
   "name": "python3"
  },
  "language_info": {
   "codemirror_mode": {
    "name": "ipython",
    "version": 3
   },
   "file_extension": ".py",
   "mimetype": "text/x-python",
   "name": "python",
   "nbconvert_exporter": "python",
   "pygments_lexer": "ipython3",
   "version": "3.7.3"
  }
 },
 "nbformat": 4,
 "nbformat_minor": 2
}
