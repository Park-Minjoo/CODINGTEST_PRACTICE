{
 "cells": [
  {
   "cell_type": "markdown",
   "metadata": {},
   "source": [
    "## 2021년 6월 21일 월요일\n",
    "### BaekJoon - 데이트 (Python) \n",
    "### 문제 : https://www.acmicpc.net/problem/1296\n",
    "### 블로그 : https://somjang.tistory.com/entry/BaekJoon-1296%EB%B2%88-%EB%8D%B0%EC%9D%B4%ED%8A%B8-Python"
   ]
  },
  {
   "cell_type": "markdown",
   "metadata": {},
   "source": [
    "### 첫번째 시도"
   ]
  },
  {
   "cell_type": "code",
   "execution_count": null,
   "metadata": {},
   "outputs": [],
   "source": [
    "def get_best_try(minsik_name, girl_names):\n",
    "    scores = []\n",
    "    for girl_name in girl_names:\n",
    "        L = girl_name.count(\"L\") + minsik_name.count(\"L\")\n",
    "        O = girl_name.count(\"O\") + minsik_name.count(\"O\")\n",
    "        V = girl_name.count(\"V\") + minsik_name.count(\"V\")\n",
    "        E = girl_name.count(\"E\") + minsik_name.count(\"E\")\n",
    "        \n",
    "        score = ((L+O)*(L+V)*(L+E)*(O+V)*(O+E)*(V+E)) % 100\n",
    "        \n",
    "        scores.append((score, girl_name))\n",
    "        \n",
    "    scores.sort(key=lambda x: (-x[0], x[1]))\n",
    "    \n",
    "    return scores[0][1]\n",
    "\n",
    "if __name__ == \"__main__\":\n",
    "    girl_names = []\n",
    "    minsik_name = input()\n",
    "    for _ in range(int(input())):\n",
    "        girl_name = input()\n",
    "        girl_names.append(girl_name)\n",
    "        \n",
    "    print(get_best_try(minsik_name, girl_names))"
   ]
  }
 ],
 "metadata": {
  "kernelspec": {
   "display_name": "Python 3",
   "language": "python",
   "name": "python3"
  },
  "language_info": {
   "codemirror_mode": {
    "name": "ipython",
    "version": 3
   },
   "file_extension": ".py",
   "mimetype": "text/x-python",
   "name": "python",
   "nbconvert_exporter": "python",
   "pygments_lexer": "ipython3",
   "version": "3.7.3"
  }
 },
 "nbformat": 4,
 "nbformat_minor": 2
}
