{
 "cells": [
  {
   "cell_type": "markdown",
   "metadata": {},
   "source": [
    "## 2021년 8월 13일 금요일\n",
    "### BaekJoon - ATM (Python)\n",
    "### 문제 : https://www.acmicpc.net/problem/11399\n",
    "### 블로그 : https://somjang.tistory.com/entry/BaekJoon-11399%EB%B2%88-ATM-Python"
   ]
  },
  {
   "cell_type": "markdown",
   "metadata": {},
   "source": [
    "### Solution"
   ]
  },
  {
   "cell_type": "code",
   "execution_count": null,
   "metadata": {},
   "outputs": [],
   "source": [
    "def ATM(people):\n",
    "    people.sort()\n",
    "    \n",
    "    best_order = []\n",
    "    \n",
    "    for i in range(len(people)):\n",
    "        best_order.append(sum(people[:i+1]))\n",
    "        \n",
    "    return sum(best_order)\n",
    "\n",
    "\n",
    "if __name__ == \"__main__\":\n",
    "    people_num = int(input())\n",
    "    people = list(map(int, input().split()))\n",
    "    print(ATM(people))"
   ]
  }
 ],
 "metadata": {
  "kernelspec": {
   "display_name": "Python 3",
   "language": "python",
   "name": "python3"
  },
  "language_info": {
   "codemirror_mode": {
    "name": "ipython",
    "version": 3
   },
   "file_extension": ".py",
   "mimetype": "text/x-python",
   "name": "python",
   "nbconvert_exporter": "python",
   "pygments_lexer": "ipython3",
   "version": "3.7.3"
  }
 },
 "nbformat": 4,
 "nbformat_minor": 2
}
