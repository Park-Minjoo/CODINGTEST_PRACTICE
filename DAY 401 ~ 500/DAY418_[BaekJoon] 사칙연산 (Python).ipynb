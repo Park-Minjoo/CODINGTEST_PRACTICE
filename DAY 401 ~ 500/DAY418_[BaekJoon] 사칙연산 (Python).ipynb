{
 "cells": [
  {
   "cell_type": "markdown",
   "metadata": {},
   "source": [
    "## 2021년 7월 8일 목요일\n",
    "### BaekJoon - 사칙연산 (Python)\n",
    "### 문제 : https://www.acmicpc.net/problem/13420\n",
    "### 블로그 : https://somjang.tistory.com/entry/BaekJoon-13420%EB%B2%88-%EC%82%AC%EC%B9%99%EC%97%B0%EC%82%B0-Python"
   ]
  },
  {
   "cell_type": "markdown",
   "metadata": {},
   "source": [
    "### Solution"
   ]
  },
  {
   "cell_type": "code",
   "execution_count": null,
   "metadata": {},
   "outputs": [],
   "source": [
    "def arithmetic_operation(mathematical_expression):\n",
    "    is_correct = \"wrong answer\"\n",
    "    \n",
    "    num1, operator, num2, _, result = mathematical_expression.split()\n",
    "    num1, num2, result = int(num1), int(num2), int(result)\n",
    "    if (operator == \"*\") and (num1 * num2 == result):\n",
    "        is_correct = \"correct\"\n",
    "    elif (operator == \"/\") and (num1 / num2 == result):\n",
    "        is_correct = \"correct\"\n",
    "    elif (operator == \"+\") and (num1 + num2 == result):\n",
    "        is_correct = \"correct\"\n",
    "    elif (operator == \"-\") and (num1 - num2 == result):\n",
    "        is_correct = \"correct\"\n",
    "    \n",
    "    return is_correct\n",
    "        \n",
    "if __name__ == \"__main__\":\n",
    "    for _ in range(int(input())):\n",
    "        mathematical_expression = input()\n",
    "        print(arithmetic_operation(mathematical_expression))"
   ]
  }
 ],
 "metadata": {
  "kernelspec": {
   "display_name": "Python 3",
   "language": "python",
   "name": "python3"
  },
  "language_info": {
   "codemirror_mode": {
    "name": "ipython",
    "version": 3
   },
   "file_extension": ".py",
   "mimetype": "text/x-python",
   "name": "python",
   "nbconvert_exporter": "python",
   "pygments_lexer": "ipython3",
   "version": "3.7.3"
  }
 },
 "nbformat": 4,
 "nbformat_minor": 2
}
