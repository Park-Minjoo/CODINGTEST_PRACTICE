{
 "cells": [
  {
   "cell_type": "markdown",
   "metadata": {},
   "source": [
    "## 2021년 8월 10일 화요일\n",
    "### BaekJoon - 좋은 단어 (Python)\n",
    "### 문제 : https://www.acmicpc.net/problem/2857\n",
    "### 블로그 : https://somjang.tistory.com/entry/BaekJoon-3986%EB%B2%88-%EC%A2%8B%EC%9D%80-%EB%8B%A8%EC%96%B4-Python"
   ]
  },
  {
   "cell_type": "markdown",
   "metadata": {},
   "source": [
    "### Solution"
   ]
  },
  {
   "cell_type": "code",
   "execution_count": null,
   "metadata": {},
   "outputs": [],
   "source": [
    "def well_word(word_list):\n",
    "    well_cnt = 0\n",
    "    \n",
    "    for word in word_list:\n",
    "        my_stack = []\n",
    "        for char in word:\n",
    "            if my_stack == []:\n",
    "                my_stack.append(char)\n",
    "            elif my_stack != []:\n",
    "                if my_stack[-1] == char:\n",
    "                    my_stack.pop()\n",
    "                else:\n",
    "                    my_stack.append(char)\n",
    "        if my_stack == []:\n",
    "            well_cnt += 1\n",
    "    return well_cnt\n",
    "\n",
    "if __name__ == \"__main__\":\n",
    "    word_list = []\n",
    "    for _ in range(int(input())):\n",
    "        word = input()\n",
    "        word_list.append(word)\n",
    "        \n",
    "    print(well_word(word_list))"
   ]
  }
 ],
 "metadata": {
  "kernelspec": {
   "display_name": "Python 3",
   "language": "python",
   "name": "python3"
  },
  "language_info": {
   "codemirror_mode": {
    "name": "ipython",
    "version": 3
   },
   "file_extension": ".py",
   "mimetype": "text/x-python",
   "name": "python",
   "nbconvert_exporter": "python",
   "pygments_lexer": "ipython3",
   "version": "3.7.3"
  }
 },
 "nbformat": 4,
 "nbformat_minor": 2
}
