{
 "cells": [
  {
   "cell_type": "markdown",
   "metadata": {},
   "source": [
    "## 2021년 9월 18일 토요일\n",
    "### BaekJoon - 2007년 (Python)\n",
    "### 문제 : https://www.acmicpc.net/problem/1924\n",
    "### 블로그 : https://somjang.tistory.com/entry/BaekJoon-1924%EB%B2%88-2007%EB%85%84-Python"
   ]
  },
  {
   "cell_type": "markdown",
   "metadata": {},
   "source": [
    "### Solution"
   ]
  },
  {
   "cell_type": "code",
   "execution_count": null,
   "metadata": {},
   "outputs": [],
   "source": [
    "import datetime\n",
    "\n",
    "def year_2007(month, day):\n",
    "    weekdays = ['MON', 'TUE', 'WED', 'THU', 'FRI', 'SAT', 'SUN']\n",
    "    weekday = datetime.datetime(year=2007, month=month, day=day).weekday()\n",
    "    return weekdays[weekday]\n",
    "\n",
    "if __name__ == \"__main__\":\n",
    "    month, day = map(int, input().split())\n",
    "    print(year_2007(month, day))"
   ]
  }
 ],
 "metadata": {
  "kernelspec": {
   "display_name": "Python 3",
   "language": "python",
   "name": "python3"
  },
  "language_info": {
   "codemirror_mode": {
    "name": "ipython",
    "version": 3
   },
   "file_extension": ".py",
   "mimetype": "text/x-python",
   "name": "python",
   "nbconvert_exporter": "python",
   "pygments_lexer": "ipython3",
   "version": "3.7.3"
  }
 },
 "nbformat": 4,
 "nbformat_minor": 2
}
