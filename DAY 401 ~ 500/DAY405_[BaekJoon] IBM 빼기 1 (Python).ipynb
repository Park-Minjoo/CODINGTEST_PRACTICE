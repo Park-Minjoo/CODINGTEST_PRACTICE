{
 "cells": [
  {
   "cell_type": "markdown",
   "metadata": {},
   "source": [
    "## 2021년 6월 24일 목요일\n",
    "### BaekJoon - IBM 빼기 1 (Python)\n",
    "### 문제 : https://www.acmicpc.net/problem/6321\n",
    "### 블로그 :https://somjang.tistory.com/entry/BaekJoon-6321%EB%B2%88-IBM-%EB%B9%BC%EA%B8%B0-1-Python"
   ]
  },
  {
   "cell_type": "markdown",
   "metadata": {},
   "source": [
    "### 첫번째 시도"
   ]
  },
  {
   "cell_type": "code",
   "execution_count": null,
   "metadata": {},
   "outputs": [],
   "source": [
    "def ibm_subtract(string):\n",
    "    computer_name = \"\"\n",
    "    \n",
    "    for char in string:\n",
    "        if char == \"Z\":\n",
    "            computer_name += \"A\"\n",
    "        else:\n",
    "            computer_name += chr(ord(char) + 1)\n",
    "    return computer_name\n",
    "\n",
    "if __name__ == \"__main__\":\n",
    "    for i in range(int(input())):\n",
    "        string = input()\n",
    "        \n",
    "        computer_name = ibm_subtract(string)\n",
    "        \n",
    "        print(f\"String #{i+1}\")\n",
    "        print(computer_name)\n",
    "        print()"
   ]
  }
 ],
 "metadata": {
  "kernelspec": {
   "display_name": "Python 3",
   "language": "python",
   "name": "python3"
  },
  "language_info": {
   "codemirror_mode": {
    "name": "ipython",
    "version": 3
   },
   "file_extension": ".py",
   "mimetype": "text/x-python",
   "name": "python",
   "nbconvert_exporter": "python",
   "pygments_lexer": "ipython3",
   "version": "3.7.3"
  }
 },
 "nbformat": 4,
 "nbformat_minor": 2
}
