{
 "cells": [
  {
   "cell_type": "markdown",
   "metadata": {},
   "source": [
    "## 2021년 7월 13일 화요일\n",
    "### BaekJoon - 파일 정리 (Python)\n",
    "### 문제 : https://www.acmicpc.net/problem/20291\n",
    "### 블로그 : https://somjang.tistory.com/entry/BaekJoon-20291%EB%B2%88-%ED%8C%8C%EC%9D%BC-%EC%A0%95%EB%A6%AC-Python"
   ]
  },
  {
   "cell_type": "markdown",
   "metadata": {},
   "source": [
    "### Solution"
   ]
  },
  {
   "cell_type": "code",
   "execution_count": null,
   "metadata": {},
   "outputs": [],
   "source": [
    "from collections import Counter\n",
    "\n",
    "def arrange_files(file_list):\n",
    "    file_formats = []\n",
    "    for file in file_list:\n",
    "        _, file_format = file.split(\".\")\n",
    "        file_formats.append(file_format)\n",
    "    cnt = Counter(file_formats).items()\n",
    "    \n",
    "    sorted_list = sorted(cnt, key=lambda x: x[0])\n",
    "    \n",
    "    for item in sorted_list:\n",
    "        print(f\"{item[0]} {item[1]}\")\n",
    "    \n",
    "if __name__ == \"__main__\":\n",
    "    file_list = []\n",
    "    \n",
    "    for _ in range(int(input())):\n",
    "        file = input()\n",
    "        file_list.append(file)\n",
    "        \n",
    "    arrange_files(file_list)"
   ]
  }
 ],
 "metadata": {
  "kernelspec": {
   "display_name": "Python 3",
   "language": "python",
   "name": "python3"
  },
  "language_info": {
   "codemirror_mode": {
    "name": "ipython",
    "version": 3
   },
   "file_extension": ".py",
   "mimetype": "text/x-python",
   "name": "python",
   "nbconvert_exporter": "python",
   "pygments_lexer": "ipython3",
   "version": "3.7.3"
  }
 },
 "nbformat": 4,
 "nbformat_minor": 2
}
