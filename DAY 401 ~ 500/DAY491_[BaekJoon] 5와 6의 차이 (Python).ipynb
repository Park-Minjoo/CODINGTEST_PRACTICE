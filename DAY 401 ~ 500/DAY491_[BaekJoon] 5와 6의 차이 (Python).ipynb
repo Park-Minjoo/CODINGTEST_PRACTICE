{
 "cells": [
  {
   "cell_type": "markdown",
   "metadata": {},
   "source": [
    "## 2021년 9월 23일 목요일\n",
    "### BaekJoon - 5와 6의 차이 (Python)\n",
    "### 문제 : https://www.acmicpc.net/problem/2864\n",
    "### 블로그 : https://somjang.tistory.com/entry/BaekJoon-2864%EB%B2%88-5%EC%99%80-6%EC%9D%98-%EC%B0%A8%EC%9D%B4-Python"
   ]
  },
  {
   "cell_type": "markdown",
   "metadata": {},
   "source": [
    "### Solution"
   ]
  },
  {
   "cell_type": "code",
   "execution_count": null,
   "metadata": {},
   "outputs": [],
   "source": [
    "def between_5_to_6(A, B):\n",
    "    min_num = int(A.replace('6', '5')) + int(B.replace('6', '5'))\n",
    "    max_num = int(A.replace('5', '6')) + int(B.replace('5', '6'))\n",
    "    \n",
    "    return f\"{min_num} {max_num}\"\n",
    "\n",
    "\n",
    "if __name__ == \"__main__\":\n",
    "    num1, num2 = input().split()\n",
    "    \n",
    "    print(between_5_to_6(num1, num2))"
   ]
  }
 ],
 "metadata": {
  "kernelspec": {
   "display_name": "Python 3",
   "language": "python",
   "name": "python3"
  },
  "language_info": {
   "codemirror_mode": {
    "name": "ipython",
    "version": 3
   },
   "file_extension": ".py",
   "mimetype": "text/x-python",
   "name": "python",
   "nbconvert_exporter": "python",
   "pygments_lexer": "ipython3",
   "version": "3.7.3"
  }
 },
 "nbformat": 4,
 "nbformat_minor": 2
}
