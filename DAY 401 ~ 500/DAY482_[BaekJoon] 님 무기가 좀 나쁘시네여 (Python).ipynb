{
 "cells": [
  {
   "cell_type": "markdown",
   "metadata": {},
   "source": [
    "## 2021년 9월 13일 월요일\n",
    "### BaekJoon - 님 무기가 좀 나쁘시네여 (Python)\n",
    "### 문제 : https://www.acmicpc.net/problem/11387\n",
    "### 블로그 : https://somjang.tistory.com/entry/BaekJoon-11387%EB%B2%88-%EB%8B%98-%EB%AC%B4%EA%B8%B0%EA%B0%80-%EC%A2%80-%EB%82%98%EC%81%98%EC%8B%9C%EB%84%A4%EC%97%AC-Python"
   ]
  },
  {
   "cell_type": "markdown",
   "metadata": {},
   "source": [
    "### Solution"
   ]
  },
  {
   "cell_type": "code",
   "execution_count": null,
   "metadata": {},
   "outputs": [],
   "source": [
    "def weapon_power(now,weapon):\n",
    "    return (now[0]+weapon[0]) * (100+now[1]+weapon[1]) * ( 100*(100-min(now[2]+weapon[2],100)) + min(now[2]+weapon[2],100) * (now[3]+weapon[3])) * (100+now[4]+weapon[4])\n",
    "    \n",
    "    \n",
    "def bad_weapon(now, weapon1, weapon2):\n",
    "    now = list(map(int, now.split()))\n",
    "    weapon1 = list(map(int, weapon1.split()))\n",
    "    weapon2 = list(map(int, weapon2.split()))\n",
    "    \n",
    "    for i in range(5):\n",
    "        now[i] -= weapon1[i]\n",
    "        \n",
    "    weapon_result1 = weapon_power(now, weapon1)\n",
    "    weapon_result2 = weapon_power(now, weapon2)\n",
    "    \n",
    "    weapon_result = weapon_result2 - weapon_result1\n",
    "    \n",
    "    if weapon_result > 0:\n",
    "        result = \"+\"\n",
    "    elif weapon_result == 0:\n",
    "        result = \"0\"\n",
    "    else:\n",
    "        result = \"-\"\n",
    "    \n",
    "    return result\n",
    "\n",
    "if __name__ == \"__main__\":\n",
    "    cri = input()\n",
    "    pabu = input()\n",
    "    cri_w = input()\n",
    "    pabu_w = input()\n",
    "    \n",
    "    print(bad_weapon(cri, cri_w, pabu_w))\n",
    "    print(bad_weapon(pabu, pabu_w, cri_w))"
   ]
  }
 ],
 "metadata": {
  "kernelspec": {
   "display_name": "Python 3",
   "language": "python",
   "name": "python3"
  },
  "language_info": {
   "codemirror_mode": {
    "name": "ipython",
    "version": 3
   },
   "file_extension": ".py",
   "mimetype": "text/x-python",
   "name": "python",
   "nbconvert_exporter": "python",
   "pygments_lexer": "ipython3",
   "version": "3.7.3"
  }
 },
 "nbformat": 4,
 "nbformat_minor": 2
}
