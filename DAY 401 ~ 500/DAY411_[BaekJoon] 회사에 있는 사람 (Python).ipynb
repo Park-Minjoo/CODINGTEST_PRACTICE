{
 "cells": [
  {
   "cell_type": "markdown",
   "metadata": {},
   "source": [
    "## 2021년 7월 1일 목요일\n",
    "### BaekJoon - 회사에 있는 사람 (Python)\n",
    "### 문제 : https://www.acmicpc.net/problem/7785\n",
    "### 블로그 : https://somjang.tistory.com/entry/BaekJoon-7785%EB%B2%88-%ED%9A%8C%EC%82%AC%EC%97%90-%EC%9E%88%EB%8A%94-%EC%82%AC%EB%9E%8C-Python"
   ]
  },
  {
   "cell_type": "markdown",
   "metadata": {},
   "source": [
    "### Solution 1"
   ]
  },
  {
   "cell_type": "code",
   "execution_count": null,
   "metadata": {},
   "outputs": [],
   "source": [
    "def company_people(access_record):\n",
    "    record_dict = {}\n",
    "    \n",
    "    for access in access_record:\n",
    "        name, status = access.split()\n",
    "        \n",
    "        if status == \"enter\":\n",
    "            record_dict[name] = status\n",
    "        else:\n",
    "            del record_dict[name]\n",
    "        \n",
    "    return sorted(list(record_dict.keys()), reverse=True)\n",
    "\n",
    "if __name__ == \"__main__\":\n",
    "    access_record = []\n",
    "    for _ in range(int(input())):\n",
    "        access = input()\n",
    "        access_record.append(access)\n",
    "        \n",
    "    people = company_people(access_record)\n",
    "    \n",
    "    for person in people:\n",
    "        print(person)"
   ]
  },
  {
   "cell_type": "markdown",
   "metadata": {},
   "source": [
    "### Solution 2"
   ]
  },
  {
   "cell_type": "code",
   "execution_count": null,
   "metadata": {},
   "outputs": [],
   "source": [
    "def company_people(access_record):\n",
    "    record_dict = {}\n",
    "    \n",
    "    for access in access_record:\n",
    "        name, status = access.split()\n",
    "        record_dict[name] = status        \n",
    "        \n",
    "    return sorted([record[0] for record in record_dict.items() if record[1] == \"enter\"], reverse=True)\n",
    "\n",
    "if __name__ == \"__main__\":\n",
    "    access_record = []\n",
    "    for _ in range(int(input())):\n",
    "        access = input()\n",
    "        access_record.append(access)\n",
    "        \n",
    "    people = company_people(access_record)\n",
    "    \n",
    "    for person in people:\n",
    "        print(person)"
   ]
  }
 ],
 "metadata": {
  "kernelspec": {
   "display_name": "Python 3",
   "language": "python",
   "name": "python3"
  },
  "language_info": {
   "codemirror_mode": {
    "name": "ipython",
    "version": 3
   },
   "file_extension": ".py",
   "mimetype": "text/x-python",
   "name": "python",
   "nbconvert_exporter": "python",
   "pygments_lexer": "ipython3",
   "version": "3.7.3"
  }
 },
 "nbformat": 4,
 "nbformat_minor": 2
}
