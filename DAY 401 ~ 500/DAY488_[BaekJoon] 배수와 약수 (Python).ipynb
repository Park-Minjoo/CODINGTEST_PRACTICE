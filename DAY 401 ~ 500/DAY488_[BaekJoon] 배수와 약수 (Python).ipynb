{
 "cells": [
  {
   "cell_type": "markdown",
   "metadata": {},
   "source": [
    "## 2021년 9월 20일 월요일\n",
    "### BaekJoon - 배수와 약수 (Python)\n",
    "### 문제 : https://www.acmicpc.net/problem/5086\n",
    "### 블로그 : https://somjang.tistory.com/entry/BaekJoon-5086%EB%B2%88-%EB%B0%B0%EC%88%98%EC%99%80-%EC%95%BD%EC%88%98-Python"
   ]
  },
  {
   "cell_type": "markdown",
   "metadata": {},
   "source": [
    "### Solution"
   ]
  },
  {
   "cell_type": "code",
   "execution_count": null,
   "metadata": {},
   "outputs": [],
   "source": [
    "def multiple_or_factor(num1, num2):\n",
    "    answer = \"neither\"\n",
    "    if num1 > num2 and num1 % num2 == 0:\n",
    "        answer = \"multiple\"\n",
    "    elif num1 < num2 and num2 % num1 == 0:\n",
    "        answer = \"factor\"\n",
    "        \n",
    "    return answer\n",
    "\n",
    "if __name__ == \"__main__\":\n",
    "    while True:\n",
    "        input_str = input()\n",
    "        \n",
    "        if input_str == \"0 0\":\n",
    "            break\n",
    "        \n",
    "        num1, num2 = map(int, input_str.split())\n",
    "        \n",
    "        print(multiple_or_factor(num1, num2))"
   ]
  }
 ],
 "metadata": {
  "kernelspec": {
   "display_name": "Python 3",
   "language": "python",
   "name": "python3"
  },
  "language_info": {
   "codemirror_mode": {
    "name": "ipython",
    "version": 3
   },
   "file_extension": ".py",
   "mimetype": "text/x-python",
   "name": "python",
   "nbconvert_exporter": "python",
   "pygments_lexer": "ipython3",
   "version": "3.7.3"
  }
 },
 "nbformat": 4,
 "nbformat_minor": 2
}
