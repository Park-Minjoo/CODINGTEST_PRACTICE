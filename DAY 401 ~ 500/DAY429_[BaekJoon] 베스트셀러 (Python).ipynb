{
 "cells": [
  {
   "cell_type": "markdown",
   "metadata": {},
   "source": [
    "## 2021년 7월 19일 월요일\n",
    "### BaekJoon - 베스트셀러 (Python)\n",
    "### 문제 : https://www.acmicpc.net/problem/1302\n",
    "### 블로그 : https://somjang.tistory.com/entry/BaekJoon-1302%EB%B2%88-%EB%B2%A0%EC%8A%A4%ED%8A%B8%EC%85%80%EB%9F%AC-Python"
   ]
  },
  {
   "cell_type": "markdown",
   "metadata": {},
   "source": [
    "### Solution"
   ]
  },
  {
   "cell_type": "code",
   "execution_count": null,
   "metadata": {},
   "outputs": [],
   "source": [
    "def best_seller(book_list):\n",
    "    best_check = {}\n",
    "    \n",
    "    for book in book_list:\n",
    "        if book not in best_check.keys():\n",
    "            best_check[book] = 1\n",
    "        else:\n",
    "            best_check[book] += 1\n",
    "            \n",
    "    best_sell_num = max(best_check.values())\n",
    "    \n",
    "    best_list = [sell_book[0] for sell_book in best_check.items() if sell_book[1] == best_sell_num]\n",
    "    \n",
    "    return sorted(best_list)[0]\n",
    "\n",
    "if __name__ == \"__main__\":\n",
    "    book_list = []\n",
    "    for _ in range(int(input())):\n",
    "        book = input()\n",
    "        book_list.append(book)\n",
    "        \n",
    "    best_seller = best_seller(book_list)\n",
    "    \n",
    "    print(best_seller)"
   ]
  }
 ],
 "metadata": {
  "kernelspec": {
   "display_name": "Python 3",
   "language": "python",
   "name": "python3"
  },
  "language_info": {
   "codemirror_mode": {
    "name": "ipython",
    "version": 3
   },
   "file_extension": ".py",
   "mimetype": "text/x-python",
   "name": "python",
   "nbconvert_exporter": "python",
   "pygments_lexer": "ipython3",
   "version": "3.7.3"
  }
 },
 "nbformat": 4,
 "nbformat_minor": 2
}
