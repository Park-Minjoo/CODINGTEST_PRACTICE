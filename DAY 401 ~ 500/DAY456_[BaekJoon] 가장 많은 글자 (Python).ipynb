{
 "cells": [
  {
   "cell_type": "markdown",
   "metadata": {},
   "source": [
    "## 2021년 8월 17일 화요일\n",
    "### BaekJoon - 가장 많은 글자 (Python)\n",
    "### 문제 : https://www.acmicpc.net/problem/1371\n",
    "### 블로그 : https://somjang.tistory.com/entry/BaekJoon-1371%EB%B2%88-%EA%B0%80%EC%9E%A5-%EB%A7%8E%EC%9D%80-%EA%B8%80%EC%9E%90-Python"
   ]
  },
  {
   "cell_type": "markdown",
   "metadata": {},
   "source": [
    "### Solution"
   ]
  },
  {
   "cell_type": "code",
   "execution_count": null,
   "metadata": {},
   "outputs": [],
   "source": [
    "import sys\n",
    "\n",
    "def most_common_word(input_string):\n",
    "    count_dict = {}\n",
    "    result = \"\"\n",
    "    alphabet_word = \"abcdefghijklmnopqrstuvwxyz\"\n",
    "    \n",
    "    for alphabet in alphabet_word:\n",
    "        count_dict[alphabet] = input_string.count(alphabet)\n",
    "    \n",
    "    items = sorted(count_dict.items(), key=lambda x: (-x[1], x[0]))\n",
    "    \n",
    "    max_count = items[0][1]\n",
    "    \n",
    "    for item in items:\n",
    "        if item[1] == max_count:\n",
    "            result += item[0]    \n",
    "    return result\n",
    "    \n",
    "if __name__ == \"__main__\":\n",
    "    input_string = sys.stdin.read()\n",
    "\n",
    "    print(most_common_word(input_string))"
   ]
  }
 ],
 "metadata": {
  "kernelspec": {
   "display_name": "Python 3",
   "language": "python",
   "name": "python3"
  },
  "language_info": {
   "codemirror_mode": {
    "name": "ipython",
    "version": 3
   },
   "file_extension": ".py",
   "mimetype": "text/x-python",
   "name": "python",
   "nbconvert_exporter": "python",
   "pygments_lexer": "ipython3",
   "version": "3.7.3"
  }
 },
 "nbformat": 4,
 "nbformat_minor": 2
}
