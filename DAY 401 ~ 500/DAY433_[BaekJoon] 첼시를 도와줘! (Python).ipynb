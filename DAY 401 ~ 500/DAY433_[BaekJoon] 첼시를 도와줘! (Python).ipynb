{
 "cells": [
  {
   "cell_type": "markdown",
   "metadata": {},
   "source": [
    "## 2021년 7월 24일 토요일\n",
    "### BaekJoon - 첼시를 도와줘! (Python)\n",
    "### 문제 : https://www.acmicpc.net/problem/11098\n",
    "### 블로그 : https://somjang.tistory.com/entry/BaekJoon-11098%EB%B2%88-%EC%B2%BC%EC%8B%9C%EB%A5%BC-%EB%8F%84%EC%99%80%EC%A4%98-Python"
   ]
  },
  {
   "cell_type": "markdown",
   "metadata": {},
   "source": [
    "### Solution"
   ]
  },
  {
   "cell_type": "code",
   "execution_count": null,
   "metadata": {},
   "outputs": [],
   "source": [
    "def helf_Chelsea(player_list):\n",
    "    player_infos = []\n",
    "    \n",
    "    for player_info in player_list:\n",
    "        transfer_fee, player_name = player_info.split()\n",
    "        player_infos.append((int(transfer_fee), player_name))\n",
    "    \n",
    "    return sorted(player_infos, key=lambda x: -x[0])[0][1]\n",
    "\n",
    "\n",
    "if __name__ == \"__main__\":\n",
    "    for _ in range(int(input())):\n",
    "        player_list = []\n",
    "        for _ in range(int(input())):\n",
    "            player = input()\n",
    "            player_list.append(player)\n",
    "        print(helf_Chelsea(player_list))"
   ]
  }
 ],
 "metadata": {
  "kernelspec": {
   "display_name": "Python 3",
   "language": "python",
   "name": "python3"
  },
  "language_info": {
   "codemirror_mode": {
    "name": "ipython",
    "version": 3
   },
   "file_extension": ".py",
   "mimetype": "text/x-python",
   "name": "python",
   "nbconvert_exporter": "python",
   "pygments_lexer": "ipython3",
   "version": "3.7.3"
  }
 },
 "nbformat": 4,
 "nbformat_minor": 2
}
