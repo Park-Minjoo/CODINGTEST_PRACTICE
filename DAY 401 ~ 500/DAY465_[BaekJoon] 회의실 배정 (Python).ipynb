{
 "cells": [
  {
   "cell_type": "markdown",
   "metadata": {},
   "source": [
    "## 2021년 8월 27일 금요일\n",
    "### BaekJoon - 회의실 배정 (Python)\n",
    "### 문제 : https://www.acmicpc.net/problem/1931\n",
    "### 블로그 : https://somjang.tistory.com/entry/BaekJoon-1931%EB%B2%88-%ED%9A%8C%EC%9D%98%EC%8B%A4-%EB%B0%B0%EC%A0%95-Python"
   ]
  },
  {
   "cell_type": "markdown",
   "metadata": {},
   "source": [
    "### Solution"
   ]
  },
  {
   "cell_type": "code",
   "execution_count": null,
   "metadata": {},
   "outputs": [],
   "source": [
    "def best_meeting_time(meeting_time):\n",
    "    cnt = 0\n",
    "    before_end_time = 0\n",
    "    meeting_time = sorted(meeting_time, key=lambda x: (x[1], x[0]))\n",
    "    \n",
    "    for time in meeting_time:\n",
    "        start_time, end_time = time[0], time[1]\n",
    "        \n",
    "        if start_time >= before_end_time:\n",
    "            cnt += 1\n",
    "            \n",
    "            before_end_time = end_time\n",
    "            \n",
    "    return cnt\n",
    "\n",
    "if __name__ == \"__main__\":\n",
    "    meeting_time = []\n",
    "    for _ in range(int(input())):\n",
    "        start_time, end_time = map(int, input().split())\n",
    "        \n",
    "        meeting_time.append((start_time, end_time))\n",
    "        \n",
    "    print(best_meeting_time(meeting_time))"
   ]
  }
 ],
 "metadata": {
  "kernelspec": {
   "display_name": "Python 3",
   "language": "python",
   "name": "python3"
  },
  "language_info": {
   "codemirror_mode": {
    "name": "ipython",
    "version": 3
   },
   "file_extension": ".py",
   "mimetype": "text/x-python",
   "name": "python",
   "nbconvert_exporter": "python",
   "pygments_lexer": "ipython3",
   "version": "3.7.3"
  }
 },
 "nbformat": 4,
 "nbformat_minor": 2
}
