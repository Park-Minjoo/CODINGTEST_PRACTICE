{
 "cells": [
  {
   "cell_type": "markdown",
   "metadata": {},
   "source": [
    "## 2021년 7월 20일 화요일\n",
    "### BaekJoon - 더하기 (Python)\n",
    "### 문제 : https://www.acmicpc.net/problem/10822\n",
    "### 블로그 : https://somjang.tistory.com/entry/BaekJoon-10822%EB%B2%88-%EB%8D%94%ED%95%98%EA%B8%B0-Python"
   ]
  },
  {
   "cell_type": "markdown",
   "metadata": {},
   "source": [
    "### Solution"
   ]
  },
  {
   "cell_type": "code",
   "execution_count": null,
   "metadata": {},
   "outputs": [],
   "source": [
    "def custom_sum(string):\n",
    "    return sum(list(map(int, string.split(\",\"))))\n",
    "\n",
    "if __name__ == \"__main__\":\n",
    "    input_string = input()\n",
    "    print(custom_sum(input_string))"
   ]
  }
 ],
 "metadata": {
  "kernelspec": {
   "display_name": "Python 3",
   "language": "python",
   "name": "python3"
  },
  "language_info": {
   "codemirror_mode": {
    "name": "ipython",
    "version": 3
   },
   "file_extension": ".py",
   "mimetype": "text/x-python",
   "name": "python",
   "nbconvert_exporter": "python",
   "pygments_lexer": "ipython3",
   "version": "3.7.3"
  }
 },
 "nbformat": 4,
 "nbformat_minor": 2
}
