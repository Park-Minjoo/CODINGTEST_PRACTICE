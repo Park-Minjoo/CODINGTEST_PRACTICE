{
 "cells": [
  {
   "cell_type": "markdown",
   "metadata": {},
   "source": [
    "## 2021년 7월 9일 금요일\n",
    "### BaekJoon - 수학숙제 (Python)\n",
    "### 문제 : https://www.acmicpc.net/problem/2870\n",
    "### 블로그 : https://somjang.tistory.com/entry/BaekJoon-2870%EB%B2%88-%EC%88%98%ED%95%99%EC%88%99%EC%A0%9C-Python"
   ]
  },
  {
   "cell_type": "markdown",
   "metadata": {},
   "source": [
    "### Solution"
   ]
  },
  {
   "cell_type": "code",
   "execution_count": null,
   "metadata": {},
   "outputs": [],
   "source": [
    "import re\n",
    "\n",
    "def math_homework(papers):    \n",
    "    number_list = []\n",
    "    \n",
    "    for paper in papers:\n",
    "        numbers = re.findall(\"\\d+\", paper)\n",
    "        numbers = list(map(int, numbers))\n",
    "        number_list += numbers\n",
    "        \n",
    "    number_list.sort()\n",
    "    \n",
    "    for number in number_list:\n",
    "        print(number)\n",
    "        \n",
    "if __name__ == \"__main__\":\n",
    "    papers = []\n",
    "    for _ in range(int(input())):\n",
    "        paper = input()\n",
    "        papers.append(paper)\n",
    "    math_homework(papers)"
   ]
  }
 ],
 "metadata": {
  "kernelspec": {
   "display_name": "Python 3",
   "language": "python",
   "name": "python3"
  },
  "language_info": {
   "codemirror_mode": {
    "name": "ipython",
    "version": 3
   },
   "file_extension": ".py",
   "mimetype": "text/x-python",
   "name": "python",
   "nbconvert_exporter": "python",
   "pygments_lexer": "ipython3",
   "version": "3.7.3"
  }
 },
 "nbformat": 4,
 "nbformat_minor": 2
}
