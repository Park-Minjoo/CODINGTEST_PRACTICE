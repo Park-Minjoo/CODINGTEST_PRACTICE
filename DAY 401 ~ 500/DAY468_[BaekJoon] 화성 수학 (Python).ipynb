{
 "cells": [
  {
   "cell_type": "markdown",
   "metadata": {},
   "source": [
    "## 2021년 8월 30일 월요일\n",
    "### BaekJoon - 화성 수학 (Python)\n",
    "### 문제 : https://www.acmicpc.net/problem/5355\n",
    "### 블로그 : https://somjang.tistory.com/entry/BaekJoon-5355%EB%B2%88-%ED%99%94%EC%84%B1-%EC%88%98%ED%95%99-Python"
   ]
  },
  {
   "cell_type": "markdown",
   "metadata": {},
   "source": [
    "### Solution"
   ]
  },
  {
   "cell_type": "code",
   "execution_count": null,
   "metadata": {},
   "outputs": [],
   "source": [
    "def hwasung_calc(operator, num):\n",
    "    if operator == \"@\":\n",
    "        num = num * 3\n",
    "    elif operator == \"%\":\n",
    "        num = num + 5\n",
    "    elif operator == \"#\":\n",
    "        num = num - 7\n",
    "    \n",
    "    return num\n",
    "\n",
    "def hwasung_math(exp):\n",
    "    exp_split = exp.split()\n",
    "    \n",
    "    num, operators = float(exp_split[0]), exp_split[1:]\n",
    "    \n",
    "    for operator in operators:\n",
    "        num = hwasung_calc(operator=operator, num=num)\n",
    "        \n",
    "    return f\"{num:.2f}\"\n",
    "\n",
    "\n",
    "if __name__ == \"__main__\":\n",
    "    for _ in range(int(input())):\n",
    "        exp = input()\n",
    "        print(hwasung_math(exp))"
   ]
  }
 ],
 "metadata": {
  "kernelspec": {
   "display_name": "Python 3",
   "language": "python",
   "name": "python3"
  },
  "language_info": {
   "codemirror_mode": {
    "name": "ipython",
    "version": 3
   },
   "file_extension": ".py",
   "mimetype": "text/x-python",
   "name": "python",
   "nbconvert_exporter": "python",
   "pygments_lexer": "ipython3",
   "version": "3.7.3"
  }
 },
 "nbformat": 4,
 "nbformat_minor": 2
}
