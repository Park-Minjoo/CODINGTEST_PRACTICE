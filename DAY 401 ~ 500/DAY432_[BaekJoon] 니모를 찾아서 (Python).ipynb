{
 "cells": [
  {
   "cell_type": "markdown",
   "metadata": {},
   "source": [
    "## 2021년 7월 23일 금요일\n",
    "### BaekJoon - 니모를 찾아서 (Python)\n",
    "### 문제 : https://www.acmicpc.net/problem/10173\n",
    "### 블로그 : https://somjang.tistory.com/entry/BaekJoon-10173%EB%B2%88-%EB%8B%88%EB%AA%A8%EB%A5%BC-%EC%B0%BE%EC%95%84%EC%84%9C-Python"
   ]
  },
  {
   "cell_type": "markdown",
   "metadata": {},
   "source": [
    "### Solution"
   ]
  },
  {
   "cell_type": "code",
   "execution_count": null,
   "metadata": {},
   "outputs": [],
   "source": [
    "def find_nemo(ocean):\n",
    "    is_find = \"Missing\"\n",
    "    \n",
    "    if ocean.lower().find(\"nemo\") != -1:\n",
    "        is_find = \"Found\"\n",
    "        \n",
    "    return is_find\n",
    "\n",
    "\n",
    "if __name__ == \"__main__\":\n",
    "    while True:\n",
    "        ocean = input()\n",
    "        \n",
    "        if ocean == \"EOI\":\n",
    "            break\n",
    "        print(find_nemo(ocean))"
   ]
  }
 ],
 "metadata": {
  "kernelspec": {
   "display_name": "Python 3",
   "language": "python",
   "name": "python3"
  },
  "language_info": {
   "codemirror_mode": {
    "name": "ipython",
    "version": 3
   },
   "file_extension": ".py",
   "mimetype": "text/x-python",
   "name": "python",
   "nbconvert_exporter": "python",
   "pygments_lexer": "ipython3",
   "version": "3.7.3"
  }
 },
 "nbformat": 4,
 "nbformat_minor": 2
}
