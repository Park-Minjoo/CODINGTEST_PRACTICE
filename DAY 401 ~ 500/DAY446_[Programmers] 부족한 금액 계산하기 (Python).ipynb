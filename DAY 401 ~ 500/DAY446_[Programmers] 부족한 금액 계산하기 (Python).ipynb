{
 "cells": [
  {
   "cell_type": "markdown",
   "metadata": {},
   "source": [
    "## 2021년 8월 7일 토요일\n",
    "### Programmers - 위클리 챌린지 1주차 - 부족한 금액 계산하기 (Python)\n",
    "### 문제 : https://programmers.co.kr/learn/courses/30/lessons/82612\n",
    "### 블로그 : https://somjang.tistory.com/entry/Programmers-%EC%9C%84%ED%81%B4%EB%A6%AC-%EC%B1%8C%EB%A6%B0%EC%A7%80-1%EC%A3%BC%EC%B0%A8-%EB%B6%80%EC%A1%B1%ED%95%9C-%EA%B8%88%EC%95%A1-%EA%B3%84%EC%82%B0%ED%95%98%EA%B8%B0-Python"
   ]
  },
  {
   "cell_type": "markdown",
   "metadata": {},
   "source": [
    "### Solution"
   ]
  },
  {
   "cell_type": "code",
   "execution_count": null,
   "metadata": {},
   "outputs": [],
   "source": [
    "def solution(price, money, count):\n",
    "    answer = -1\n",
    "    \n",
    "    total_price = 0\n",
    "    \n",
    "    for cnt in range(1, count+1):\n",
    "        total_price += price * cnt\n",
    "        \n",
    "    if total_price <= money:\n",
    "        answer = 0\n",
    "    else:\n",
    "        answer = total_price - money\n",
    "\n",
    "    return answer"
   ]
  }
 ],
 "metadata": {
  "kernelspec": {
   "display_name": "Python 3",
   "language": "python",
   "name": "python3"
  },
  "language_info": {
   "codemirror_mode": {
    "name": "ipython",
    "version": 3
   },
   "file_extension": ".py",
   "mimetype": "text/x-python",
   "name": "python",
   "nbconvert_exporter": "python",
   "pygments_lexer": "ipython3",
   "version": "3.7.3"
  }
 },
 "nbformat": 4,
 "nbformat_minor": 2
}
