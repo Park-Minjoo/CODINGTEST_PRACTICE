{
 "cells": [
  {
   "cell_type": "markdown",
   "metadata": {},
   "source": [
    "## 2021년 8월 14일 토요일\n",
    "### BaekJoon - 큰 수 A+B (Python)\n",
    "### 문제 : https://www.acmicpc.net/problem/10757\n",
    "### 블로그 : https://somjang.tistory.com/entry/BaekJoon-10757%EB%B2%88-%ED%81%B0-%EC%88%98-AB-Python"
   ]
  },
  {
   "cell_type": "markdown",
   "metadata": {},
   "source": [
    "### Solution"
   ]
  },
  {
   "cell_type": "code",
   "execution_count": null,
   "metadata": {},
   "outputs": [],
   "source": [
    "def big_sum(num1, num2):\n",
    "    return num1 + num2\n",
    "\n",
    "if __name__ == \"__main__\":\n",
    "    num1, num2 = map(int, input().split())\n",
    "    print(big_sum(num1, num2))"
   ]
  }
 ],
 "metadata": {
  "kernelspec": {
   "display_name": "Python 3",
   "language": "python",
   "name": "python3"
  },
  "language_info": {
   "codemirror_mode": {
    "name": "ipython",
    "version": 3
   },
   "file_extension": ".py",
   "mimetype": "text/x-python",
   "name": "python",
   "nbconvert_exporter": "python",
   "pygments_lexer": "ipython3",
   "version": "3.7.3"
  }
 },
 "nbformat": 4,
 "nbformat_minor": 2
}
