{
 "cells": [
  {
   "cell_type": "markdown",
   "metadata": {},
   "source": [
    "## 2021년 9월 28일 화요일\n",
    "### BaekJoon - 소수&팰린드롬 (Python)\n",
    "### 문제 : https://www.acmicpc.net/problem/1747\n",
    "### 블로그 : https://somjang.tistory.com/entry/BaekJoon-1747%EB%B2%88-%EC%86%8C%EC%88%98%ED%8C%B0%EB%A6%B0%EB%93%9C%EB%A1%AC-Python"
   ]
  },
  {
   "cell_type": "markdown",
   "metadata": {},
   "source": [
    "### Solution"
   ]
  },
  {
   "cell_type": "code",
   "execution_count": null,
   "metadata": {},
   "outputs": [],
   "source": [
    "def get_primary_num_eratos(N):\n",
    "    nums = [True] * (N)\n",
    "    \n",
    "    for i in range(2, len(nums) // 2 + 1):\n",
    "        if nums[i] == True:\n",
    "            for j in range(i+i, N, i):\n",
    "                nums[j] = False\n",
    "    return [i for i in range(2, N) if nums[i] == True]\n",
    "\n",
    "\n",
    "def is_palindrome(num):\n",
    "    result = False\n",
    "    if str(num) == str(num)[::-1]:\n",
    "        result = True\n",
    "        \n",
    "    return result\n",
    "\n",
    "\n",
    "def primary_num_and_palindrome(num, prime_numbers):\n",
    "    answer = 0\n",
    "    is_prime_palindrome = False\n",
    "    \n",
    "    for prime_number in prime_numbers:\n",
    "        if prime_number >= num and is_palindrome(prime_number):\n",
    "            answer = prime_number\n",
    "            break\n",
    "    if answer == 0:\n",
    "        answer = 1003001\n",
    "        \n",
    "    return answer\n",
    "\n",
    "if __name__ == \"__main__\":\n",
    "    number = int(input())\n",
    "    \n",
    "    prime_numbers = get_primary_num_eratos(1000001)\n",
    "    \n",
    "    print(primary_num_and_palindrome(number, prime_numbers))    "
   ]
  }
 ],
 "metadata": {
  "kernelspec": {
   "display_name": "Python 3",
   "language": "python",
   "name": "python3"
  },
  "language_info": {
   "codemirror_mode": {
    "name": "ipython",
    "version": 3
   },
   "file_extension": ".py",
   "mimetype": "text/x-python",
   "name": "python",
   "nbconvert_exporter": "python",
   "pygments_lexer": "ipython3",
   "version": "3.7.3"
  }
 },
 "nbformat": 4,
 "nbformat_minor": 2
}
