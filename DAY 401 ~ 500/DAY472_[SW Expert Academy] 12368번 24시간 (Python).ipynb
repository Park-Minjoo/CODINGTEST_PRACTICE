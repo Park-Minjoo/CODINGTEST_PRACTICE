{
 "cells": [
  {
   "cell_type": "markdown",
   "metadata": {},
   "source": [
    "## 2021년 9월 3일 금요일\n",
    "### SW Expert Academy - 24시간 (Python) \n",
    "### 문제 : https://swexpertacademy.com/main/code/problem/problemDetail.do?contestProbId=AXsEBlLqedsDFARX&categoryId=AXsEBlLqedsDFARX&categoryType=CODE&problemTitle=&orderBy=FIRST_REG_DATETIME&selectCodeLang=PYTHON&select-1=&pageSize=10&pageIndex=1\n",
    "### 블로그 : https://somjang.tistory.com/entry/SW-Expert-Academy-12368%EB%B2%88-24%EC%8B%9C%EA%B0%84-Python"
   ]
  },
  {
   "cell_type": "markdown",
   "metadata": {},
   "source": [
    "### Solution"
   ]
  },
  {
   "cell_type": "code",
   "execution_count": null,
   "metadata": {},
   "outputs": [],
   "source": [
    "def twentyfourhours(test_case, now, hour):\n",
    "    time = now + hour\n",
    "     \n",
    "    return \"#\" + str(test_case) + \" \" + str(time % 24)\n",
    "\n",
    "\n",
    "if __name__ == \"__main__\":\n",
    "    T = int(input())\n",
    " \n",
    "    for test_case in range(1, T + 1):\n",
    "        now, hour = map(int, input().split())\n",
    " \n",
    "        print(twentyfourhours(test_case, now, hour))"
   ]
  }
 ],
 "metadata": {
  "kernelspec": {
   "display_name": "Python 3",
   "language": "python",
   "name": "python3"
  },
  "language_info": {
   "codemirror_mode": {
    "name": "ipython",
    "version": 3
   },
   "file_extension": ".py",
   "mimetype": "text/x-python",
   "name": "python",
   "nbconvert_exporter": "python",
   "pygments_lexer": "ipython3",
   "version": "3.7.3"
  }
 },
 "nbformat": 4,
 "nbformat_minor": 2
}
