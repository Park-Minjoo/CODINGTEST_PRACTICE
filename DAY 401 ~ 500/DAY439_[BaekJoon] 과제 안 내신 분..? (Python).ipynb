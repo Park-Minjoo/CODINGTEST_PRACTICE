{
 "cells": [
  {
   "cell_type": "markdown",
   "metadata": {},
   "source": [
    "## 2021년 7월 31일 토요일\n",
    "### BaekJoon - 과제 안 내신 분..? (Python)\n",
    "### 문제 : https://www.acmicpc.net/problem/5597\n",
    "### 블로그 : https://somjang.tistory.com/entry/BaekJoon-5597%EB%B2%88-%EA%B3%BC%EC%A0%9C-%EC%95%88-%EB%82%B4%EC%8B%A0-%EB%B6%84-Python"
   ]
  },
  {
   "cell_type": "markdown",
   "metadata": {},
   "source": [
    "### Solution"
   ]
  },
  {
   "cell_type": "code",
   "execution_count": null,
   "metadata": {},
   "outputs": [],
   "source": [
    "def no_report(numbers):\n",
    "    set_numbers = list(set(range(1, 31)) - set(numbers))\n",
    "    \n",
    "    set_numbers.sort()\n",
    "    \n",
    "    return set_numbers[0], set_numbers[1]\n",
    "\n",
    "\n",
    "if __name__ == \"__main__\":\n",
    "    numbers = []\n",
    "    for _ in range(28):\n",
    "        number = int(input())\n",
    "        numbers.append(number)\n",
    "        \n",
    "    num1, num2 = no_report(numbers)\n",
    "    print(num1)\n",
    "    print(num2)"
   ]
  }
 ],
 "metadata": {
  "kernelspec": {
   "display_name": "Python 3",
   "language": "python",
   "name": "python3"
  },
  "language_info": {
   "codemirror_mode": {
    "name": "ipython",
    "version": 3
   },
   "file_extension": ".py",
   "mimetype": "text/x-python",
   "name": "python",
   "nbconvert_exporter": "python",
   "pygments_lexer": "ipython3",
   "version": "3.7.3"
  }
 },
 "nbformat": 4,
 "nbformat_minor": 2
}
