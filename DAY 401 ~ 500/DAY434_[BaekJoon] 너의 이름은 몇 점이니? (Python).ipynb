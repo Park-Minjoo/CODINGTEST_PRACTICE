{
 "cells": [
  {
   "cell_type": "markdown",
   "metadata": {},
   "source": [
    "## 2021년 7월 25일 일요일\n",
    "### BaekJoon - 너의 이름은 몇 점이니? (Python)\n",
    "### 문제 : https://www.acmicpc.net/problem/15813\n",
    "### 블로그 : https://somjang.tistory.com/entry/BaekJoon-15813%EB%B2%88-%EB%84%88%EC%9D%98-%EC%9D%B4%EB%A6%84%EC%9D%80-%EB%AA%87-%EC%A0%90%EC%9D%B4%EB%8B%88-Python"
   ]
  },
  {
   "cell_type": "markdown",
   "metadata": {},
   "source": [
    "### Solution"
   ]
  },
  {
   "cell_type": "code",
   "execution_count": null,
   "metadata": {},
   "outputs": [],
   "source": [
    "def name_score(name):\n",
    "    score = 0\n",
    "    A = ord('A') - 1\n",
    "    \n",
    "    for char in name:\n",
    "        score += ord(char) - A\n",
    "        \n",
    "    return score\n",
    "\n",
    "if __name__ == \"__main__\":\n",
    "    _ = input()\n",
    "    name = input()\n",
    "    \n",
    "    print(name_score(name))"
   ]
  }
 ],
 "metadata": {
  "kernelspec": {
   "display_name": "Python 3",
   "language": "python",
   "name": "python3"
  },
  "language_info": {
   "codemirror_mode": {
    "name": "ipython",
    "version": 3
   },
   "file_extension": ".py",
   "mimetype": "text/x-python",
   "name": "python",
   "nbconvert_exporter": "python",
   "pygments_lexer": "ipython3",
   "version": "3.7.3"
  }
 },
 "nbformat": 4,
 "nbformat_minor": 2
}
