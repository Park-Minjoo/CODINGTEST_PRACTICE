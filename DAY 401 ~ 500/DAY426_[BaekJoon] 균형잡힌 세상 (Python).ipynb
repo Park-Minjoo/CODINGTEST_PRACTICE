{
 "cells": [
  {
   "cell_type": "markdown",
   "metadata": {},
   "source": [
    "## 2021년 7월 16일 금요일\n",
    "### BaekJoon - 균형잡힌 세상 (Python)\n",
    "### 문제 : https://www.acmicpc.net/problem/4949\n",
    "### 블로그 : https://somjang.tistory.com/entry/BaekJoon-4949%EB%B2%88-%EA%B7%A0%ED%98%95%EC%9E%A1%ED%9E%8C-%EC%84%B8%EC%83%81-Python"
   ]
  },
  {
   "cell_type": "markdown",
   "metadata": {},
   "source": [
    "### Solution"
   ]
  },
  {
   "cell_type": "code",
   "execution_count": null,
   "metadata": {},
   "outputs": [],
   "source": [
    "import re\n",
    "\n",
    "\n",
    "def balanced_world(string):\n",
    "    is_balanced = \"yes\"\n",
    "    my_stack = []\n",
    "    \n",
    "    open_bracket = ['(', '[']\n",
    "    close_bracket = [')', ']']\n",
    "    \n",
    "    braket_list = list(re.sub(r\"[^\\(\\)\\[\\]]\", '', string))\n",
    "        \n",
    "    for idx, bracket in enumerate(braket_list):\n",
    "        if bracket in open_bracket:\n",
    "            my_stack.append(bracket)\n",
    "        elif bracket in close_bracket:\n",
    "            index = close_bracket.index(bracket)\n",
    "            \n",
    "            if len(my_stack) > 0 and my_stack[-1] == open_bracket[index]:\n",
    "                my_stack.pop()\n",
    "            else:\n",
    "                is_balanced = \"no\"\n",
    "                break\n",
    "    if len(my_stack) != 0:\n",
    "        is_balanced = \"no\"\n",
    "            \n",
    "    return is_balanced\n",
    "    \n",
    "    \n",
    "if __name__ == \"__main__\":\n",
    "    while True:\n",
    "        string = input()\n",
    "        if string == \".\":\n",
    "            break\n",
    "        print(balanced_world(string))"
   ]
  }
 ],
 "metadata": {
  "kernelspec": {
   "display_name": "Python 3",
   "language": "python",
   "name": "python3"
  },
  "language_info": {
   "codemirror_mode": {
    "name": "ipython",
    "version": 3
   },
   "file_extension": ".py",
   "mimetype": "text/x-python",
   "name": "python",
   "nbconvert_exporter": "python",
   "pygments_lexer": "ipython3",
   "version": "3.7.3"
  }
 },
 "nbformat": 4,
 "nbformat_minor": 2
}
