{
 "cells": [
  {
   "cell_type": "markdown",
   "metadata": {},
   "source": [
    "## 2021년 9월 27일 월요일\n",
    "### BaekJoon - 단어 나누기 (Python)\n",
    "### 문제 : https://www.acmicpc.net/problem/1251\n",
    "### 블로그 : https://somjang.tistory.com/entry/BaekJoon-1251%EB%B2%88-%EB%8B%A8%EC%96%B4-%EB%82%98%EB%88%84%EA%B8%B0-Python"
   ]
  },
  {
   "cell_type": "markdown",
   "metadata": {},
   "source": [
    "### Solution"
   ]
  },
  {
   "cell_type": "code",
   "execution_count": null,
   "metadata": {},
   "outputs": [],
   "source": [
    "def word_split(word):\n",
    "    temp_list = []\n",
    "    for i in range(len(word) - 2):\n",
    "        for idx in range(len(word) - 1):\n",
    "            for idx2 in range(len(word)):\n",
    "                temp = word[:idx][::-1] + word[idx:idx2][::-1] + word[idx2:][::-1]\n",
    "                temp_list.append(temp)\n",
    "                \n",
    "    return min(temp_list)\n",
    "\n",
    "if __name__ == \"__main__\":\n",
    "    word = input()\n",
    "    print(word_split(word))"
   ]
  }
 ],
 "metadata": {
  "kernelspec": {
   "display_name": "Python 3",
   "language": "python",
   "name": "python3"
  },
  "language_info": {
   "codemirror_mode": {
    "name": "ipython",
    "version": 3
   },
   "file_extension": ".py",
   "mimetype": "text/x-python",
   "name": "python",
   "nbconvert_exporter": "python",
   "pygments_lexer": "ipython3",
   "version": "3.7.3"
  }
 },
 "nbformat": 4,
 "nbformat_minor": 2
}
