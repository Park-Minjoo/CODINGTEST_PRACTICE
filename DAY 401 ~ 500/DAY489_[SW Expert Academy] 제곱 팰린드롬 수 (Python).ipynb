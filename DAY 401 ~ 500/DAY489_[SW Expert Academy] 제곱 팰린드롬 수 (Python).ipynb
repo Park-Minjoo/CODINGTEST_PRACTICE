{
 "cells": [
  {
   "cell_type": "markdown",
   "metadata": {},
   "source": [
    "## 2021년 9월 21일 화요일\n",
    "### SW Expert Academy - 제곱 팰린드롬 수 (Python)\n",
    "### 문제 : https://swexpertacademy.com/main/code/problem/problemDetail.do?contestProbId=AXO72aaqPrcDFAXS&categoryId=AXO72aaqPrcDFAXS&categoryType=CODE&problemTitle=&orderBy=FIRST_REG_DATETIME&selectCodeLang=PYTHON&select-1=&pageSize=10&pageIndex=9\n",
    "### 블로그 : https://somjang.tistory.com/entry/SW-Expert-Academy-10570%EB%B2%88-%EC%A0%9C%EA%B3%B1-%ED%8C%B0%EB%A6%B0%EB%93%9C%EB%A1%AC-%EC%88%98-Python"
   ]
  },
  {
   "cell_type": "markdown",
   "metadata": {},
   "source": [
    "### Solution"
   ]
  },
  {
   "cell_type": "code",
   "execution_count": null,
   "metadata": {},
   "outputs": [],
   "source": [
    "import math\n",
    "\n",
    "def is_palindrome(num):\n",
    "    result = False\n",
    "    \n",
    "    sqrt_num = math.sqrt(num)\n",
    "    num = str(num)\n",
    "\n",
    "    if float(int(sqrt_num)) == sqrt_num:\n",
    "        sqrt_num = str(int(sqrt_num))\n",
    "\n",
    "        if num == num[::-1] and sqrt_num == sqrt_num[::-1]:\n",
    "            result = True\n",
    "    return result\n",
    "\n",
    "def squared_palindrome_number(num1, num2):\n",
    "    cnt = 0\n",
    "    \n",
    "    for num in range(num1, num2 + 1):            \n",
    "        if is_palindrome(num):\n",
    "            cnt += 1\n",
    "            \n",
    "    return cnt\n",
    "\n",
    "\n",
    "if __name__ == \"__main__\":\n",
    "    for idx in range(1, int(input()) + 1):\n",
    "        num1, num2 = map(int, input().split())\n",
    "        \n",
    "        result = squared_palindrome_number(num1, num2)\n",
    "        \n",
    "        print(\"#{} {}\".format(idx, result)) "
   ]
  }
 ],
 "metadata": {
  "kernelspec": {
   "display_name": "Python 3",
   "language": "python",
   "name": "python3"
  },
  "language_info": {
   "codemirror_mode": {
    "name": "ipython",
    "version": 3
   },
   "file_extension": ".py",
   "mimetype": "text/x-python",
   "name": "python",
   "nbconvert_exporter": "python",
   "pygments_lexer": "ipython3",
   "version": "3.7.3"
  }
 },
 "nbformat": 4,
 "nbformat_minor": 2
}
