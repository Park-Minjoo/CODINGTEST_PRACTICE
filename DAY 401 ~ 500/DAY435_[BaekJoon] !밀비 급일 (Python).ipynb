{
 "cells": [
  {
   "cell_type": "markdown",
   "metadata": {},
   "source": [
    "## 2021년 7월 26일 월요일\n",
    "### BaekJoon - !밀비 급일 (Python)\n",
    "### 문제 : https://www.acmicpc.net/problem/11365\n",
    "### 블로그 : https://somjang.tistory.com/entry/BaekJoon-11365%EB%B2%88-%EB%B0%80%EB%B9%84-%EA%B8%89%EC%9D%BC-Python"
   ]
  },
  {
   "cell_type": "markdown",
   "metadata": {},
   "source": [
    "### Solution"
   ]
  },
  {
   "cell_type": "code",
   "execution_count": null,
   "metadata": {},
   "outputs": [],
   "source": [
    "def top_secret(string):\n",
    "    split_str = string.split()[::-1]\n",
    "    \n",
    "    split_str = [string[::-1] for string in split_str]\n",
    "    \n",
    "    return \" \".join(split_str)\n",
    "\n",
    "if __name__ == \"__main__\":\n",
    "    while True:\n",
    "        string = input()\n",
    "        if string == \"END\":\n",
    "            break\n",
    "        print(top_secret(string))"
   ]
  }
 ],
 "metadata": {
  "kernelspec": {
   "display_name": "Python 3",
   "language": "python",
   "name": "python3"
  },
  "language_info": {
   "codemirror_mode": {
    "name": "ipython",
    "version": 3
   },
   "file_extension": ".py",
   "mimetype": "text/x-python",
   "name": "python",
   "nbconvert_exporter": "python",
   "pygments_lexer": "ipython3",
   "version": "3.7.3"
  }
 },
 "nbformat": 4,
 "nbformat_minor": 2
}
