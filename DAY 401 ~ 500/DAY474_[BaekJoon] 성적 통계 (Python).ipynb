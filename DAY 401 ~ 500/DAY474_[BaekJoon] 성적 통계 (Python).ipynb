{
 "cells": [
  {
   "cell_type": "markdown",
   "metadata": {},
   "source": [
    "## 2021년 9월 5일 일요일\n",
    "### BaekJoon - 성적 통계 (Python)\n",
    "### 문제 : https://www.acmicpc.net/problem/5800\n",
    "### 블로그 : https://somjang.tistory.com/entry/BaekJoon-5800%EB%B2%88-%EC%84%B1%EC%A0%81-%ED%86%B5%EA%B3%84-Python"
   ]
  },
  {
   "cell_type": "markdown",
   "metadata": {},
   "source": [
    "### Solution"
   ]
  },
  {
   "cell_type": "code",
   "execution_count": null,
   "metadata": {},
   "outputs": [],
   "source": [
    "def grade_statistics(grade_list):\n",
    "    grade_list = list(map(int, grade_list.split()))[1:]\n",
    "    \n",
    "    gap_list = []\n",
    "    \n",
    "    grade_list = sorted(grade_list)\n",
    "    \n",
    "    for i in range(len(grade_list) - 1):\n",
    "        gap = grade_list[i+1] - grade_list[i]\n",
    "        \n",
    "        gap_list.append(gap)\n",
    "        \n",
    "    \n",
    "    return f\"Max {grade_list[-1]}, Min {grade_list[0]}, Largest gap {max(gap_list)}\"\n",
    "\n",
    "\n",
    "if __name__ == \"__main__\":\n",
    "    for idx in range(1, int(input()) + 1):\n",
    "        grade_list = input()\n",
    "        print(f\"Class {idx}\")\n",
    "        print(grade_statistics(grade_list))"
   ]
  }
 ],
 "metadata": {
  "kernelspec": {
   "display_name": "Python 3",
   "language": "python",
   "name": "python3"
  },
  "language_info": {
   "codemirror_mode": {
    "name": "ipython",
    "version": 3
   },
   "file_extension": ".py",
   "mimetype": "text/x-python",
   "name": "python",
   "nbconvert_exporter": "python",
   "pygments_lexer": "ipython3",
   "version": "3.7.3"
  }
 },
 "nbformat": 4,
 "nbformat_minor": 2
}
