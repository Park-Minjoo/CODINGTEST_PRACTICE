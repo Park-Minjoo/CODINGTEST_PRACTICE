{
 "cells": [
  {
   "cell_type": "markdown",
   "metadata": {},
   "source": [
    "## 2021년 9월 4일 토요일\n",
    "### BaekJoon - 암기왕 (Python)\n",
    "### 문제 : https://www.acmicpc.net/problem/2776\n",
    "### 블로그 : https://somjang.tistory.com/entry/BaekJoon-2776%EB%B2%88-%EC%95%94%EA%B8%B0%EC%99%95-Python"
   ]
  },
  {
   "cell_type": "markdown",
   "metadata": {},
   "source": [
    "### Solution"
   ]
  },
  {
   "cell_type": "code",
   "execution_count": null,
   "metadata": {},
   "outputs": [],
   "source": [
    "def memorization_king(note1, note2):\n",
    "    note1 = set(map(int, note1.split()))\n",
    "    note2 = list(map(int, note2.split()))\n",
    "    \n",
    "    for post in note2:\n",
    "        if post in note1:\n",
    "            print(1)\n",
    "        else:\n",
    "            print(0)\n",
    "    \n",
    "    \n",
    "if __name__ == \"__main__\":\n",
    "    for _ in range(int(input())):\n",
    "        note1_num = int(input())\n",
    "        note1 = input()\n",
    "        note2_num = int(input())\n",
    "        note2 = input()\n",
    "        \n",
    "        memorization_king(note1, note2)"
   ]
  }
 ],
 "metadata": {
  "kernelspec": {
   "display_name": "Python 3",
   "language": "python",
   "name": "python3"
  },
  "language_info": {
   "codemirror_mode": {
    "name": "ipython",
    "version": 3
   },
   "file_extension": ".py",
   "mimetype": "text/x-python",
   "name": "python",
   "nbconvert_exporter": "python",
   "pygments_lexer": "ipython3",
   "version": "3.7.3"
  }
 },
 "nbformat": 4,
 "nbformat_minor": 2
}
