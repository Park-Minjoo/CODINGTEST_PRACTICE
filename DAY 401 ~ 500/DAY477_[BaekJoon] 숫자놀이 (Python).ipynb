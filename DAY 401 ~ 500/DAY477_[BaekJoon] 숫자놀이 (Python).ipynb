{
 "cells": [
  {
   "cell_type": "markdown",
   "metadata": {},
   "source": [
    "## 2021년 9월 8일 수요일\n",
    "### BaekJoon - 숫자놀이 (Python)\n",
    "### 문제 : https://www.acmicpc.net/problem/1755\n",
    "### 블로그 : https://somjang.tistory.com/entry/BaekJoon-1755%EB%B2%88-%EC%88%AB%EC%9E%90%EB%86%80%EC%9D%B4-Python"
   ]
  },
  {
   "cell_type": "markdown",
   "metadata": {},
   "source": [
    "### Solution"
   ]
  },
  {
   "cell_type": "code",
   "execution_count": null,
   "metadata": {},
   "outputs": [],
   "source": [
    "def num2string(number, number_dict):\n",
    "    result = []\n",
    "    for num in number:\n",
    "        result.append(number_dict[num])\n",
    "        \n",
    "    return \" \".join(result)\n",
    "        \n",
    "\n",
    "def play_number(string, number_dict):\n",
    "    num1, num2 = map(int, string.split())\n",
    "    \n",
    "    str_num_list = [(str(num), num2string(str(num), number_dict)) for num in range(num1, num2 + 1)]\n",
    "    \n",
    "    \n",
    "    str_num_list = [num[0] for num in sorted(str_num_list, key=lambda x: x[1])]\n",
    "    \n",
    "    for i in range(len(str_num_list) // 10):\n",
    "        temp = \" \".join([num for num in str_num_list[i*10: (i+1)*10]])\n",
    "        print(temp)\n",
    "    \n",
    "    if len(str_num_list) % 10 != 0:\n",
    "        temp = \" \".join([num for num in str_num_list[-1 * ((len(str_num_list)) % 10):]])\n",
    "        print(temp)\n",
    "    \n",
    "    \n",
    "if __name__ == \"__main__\":\n",
    "    number_dict = {\n",
    "        \"1\": \"one\", \"2\": \"two\", \"3\": \"three\", \"4\": \"four\", \"5\": \"five\",\n",
    "        \"6\": \"six\", \"7\": \"seven\", \"8\": \"eight\", \"9\": \"nine\", \"0\": \"zero\",\n",
    "    }\n",
    "    \n",
    "    string = input()\n",
    "    play_number(string, number_dict)"
   ]
  }
 ],
 "metadata": {
  "kernelspec": {
   "display_name": "Python 3",
   "language": "python",
   "name": "python3"
  },
  "language_info": {
   "codemirror_mode": {
    "name": "ipython",
    "version": 3
   },
   "file_extension": ".py",
   "mimetype": "text/x-python",
   "name": "python",
   "nbconvert_exporter": "python",
   "pygments_lexer": "ipython3",
   "version": "3.7.3"
  }
 },
 "nbformat": 4,
 "nbformat_minor": 2
}
