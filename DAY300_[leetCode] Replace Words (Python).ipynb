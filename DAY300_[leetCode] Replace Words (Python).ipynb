{
 "cells": [
  {
   "cell_type": "markdown",
   "metadata": {},
   "source": [
    "## 2021년 1월 22일 금요일\n",
    "### leetCode - Replace Words (Python)\n",
    "### 문제 : https://leetcode.com/problems/replace-words/\n",
    "### 블로그 : https://somjang.tistory.com/entry/leetCode-648-Replace-Words-Python"
   ]
  },
  {
   "cell_type": "markdown",
   "metadata": {},
   "source": [
    "### 첫번째 시도"
   ]
  },
  {
   "cell_type": "code",
   "execution_count": null,
   "metadata": {},
   "outputs": [],
   "source": [
    "class Solution:\n",
    "    def replaceWords(self, dictionary: List[str], sentence: str) -> str:\n",
    "        split_list = sentence.split(\" \")\n",
    "        for i in range(len(split_list)):\n",
    "            for dic in dictionary:\n",
    "                if split_list[i].startswith(dic):\n",
    "                    split_list[i] = dic\n",
    "        return \" \".join(split_list)"
   ]
  }
 ],
 "metadata": {
  "kernelspec": {
   "display_name": "Python 3",
   "language": "python",
   "name": "python3"
  },
  "language_info": {
   "codemirror_mode": {
    "name": "ipython",
    "version": 3
   },
   "file_extension": ".py",
   "mimetype": "text/x-python",
   "name": "python",
   "nbconvert_exporter": "python",
   "pygments_lexer": "ipython3",
   "version": "3.7.3"
  }
 },
 "nbformat": 4,
 "nbformat_minor": 2
}
