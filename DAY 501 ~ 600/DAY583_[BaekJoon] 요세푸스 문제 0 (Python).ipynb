{
 "cells": [
  {
   "cell_type": "markdown",
   "metadata": {},
   "source": [
    "## 2022년 1월 4일 화요일\n",
    "### BaekJoon - 요세푸스 문제 0 (Python)   \n",
    "### 문제 : https://www.acmicpc.net/problem/11866\n",
    "### 블로그 : https://somjang.tistory.com/entry/BaekJoon-11866%EB%B2%88-%EC%9A%94%EC%84%B8%ED%91%B8%EC%8A%A4-%EB%AC%B8%EC%A0%9C-0-Python"
   ]
  },
  {
   "cell_type": "markdown",
   "metadata": {},
   "source": [
    "### Solution"
   ]
  },
  {
   "cell_type": "code",
   "execution_count": null,
   "metadata": {},
   "outputs": [],
   "source": [
    "def Josephus_problem_0(N, K):\n",
    "    answer = []\n",
    "    \n",
    "    people = list(range(1, N+1))\n",
    "    \n",
    "    popNum = 0 \n",
    "    \n",
    "    while len(people) > 0: \n",
    "        popNum = (popNum + (K-1)) % len(people) \n",
    "        popElemnet = people.pop(popNum) \n",
    "        answer.append(str(popElemnet))\n",
    "        \n",
    "    return f\"<{', '.join(answer)}>\"\n",
    "    \n",
    "    \n",
    "if __name__ == \"__main__\":\n",
    "    N, K = map(int, input().split())\n",
    "    print(Josephus_problem_0(N, K))"
   ]
  }
 ],
 "metadata": {
  "kernelspec": {
   "display_name": "Python 3",
   "language": "python",
   "name": "python3"
  },
  "language_info": {
   "codemirror_mode": {
    "name": "ipython",
    "version": 3
   },
   "file_extension": ".py",
   "mimetype": "text/x-python",
   "name": "python",
   "nbconvert_exporter": "python",
   "pygments_lexer": "ipython3",
   "version": "3.7.3"
  }
 },
 "nbformat": 4,
 "nbformat_minor": 2
}
