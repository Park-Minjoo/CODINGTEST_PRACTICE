{
 "cells": [
  {
   "cell_type": "markdown",
   "metadata": {},
   "source": [
    "## 2021년 11월 21일 일요일\n",
    "### BaekJoon - 소음 (Python)   \n",
    "### 문제 : https://www.acmicpc.net/problem/2935\n",
    "### 블로그 : "
   ]
  },
  {
   "cell_type": "markdown",
   "metadata": {},
   "source": [
    "### Solution"
   ]
  },
  {
   "cell_type": "code",
   "execution_count": null,
   "metadata": {},
   "outputs": [],
   "source": [
    "def noise(A, operator, B):\n",
    "    answer = 0\n",
    "    if operator == \"*\":\n",
    "        answer = A * B\n",
    "    elif operator == \"+\":\n",
    "        answer = A + B\n",
    "        \n",
    "    return answer\n",
    "\n",
    "\n",
    "if __name__ == \"__main__\":\n",
    "    A = int(input())\n",
    "    operator = input()\n",
    "    B = int(input())\n",
    "    print(noise(A, operator, B))"
   ]
  }
 ],
 "metadata": {
  "kernelspec": {
   "display_name": "Python 3",
   "language": "python",
   "name": "python3"
  },
  "language_info": {
   "codemirror_mode": {
    "name": "ipython",
    "version": 3
   },
   "file_extension": ".py",
   "mimetype": "text/x-python",
   "name": "python",
   "nbconvert_exporter": "python",
   "pygments_lexer": "ipython3",
   "version": "3.7.3"
  }
 },
 "nbformat": 4,
 "nbformat_minor": 2
}
