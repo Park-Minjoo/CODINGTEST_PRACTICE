{
 "cells": [
  {
   "cell_type": "markdown",
   "metadata": {},
   "source": [
    "## 2022년 1월 3일 월요일\n",
    "### BaekJoon - 최댓값 (Python)   \n",
    "### 문제 : https://www.acmicpc.net/problem/2566\n",
    "### 블로그 : https://somjang.tistory.com/entry/BaekJoon-2566%EB%B2%88-%EC%B5%9C%EB%8C%93%EA%B0%92-Python"
   ]
  },
  {
   "cell_type": "markdown",
   "metadata": {},
   "source": [
    "### Solution"
   ]
  },
  {
   "cell_type": "code",
   "execution_count": null,
   "metadata": {},
   "outputs": [],
   "source": [
    "def max_number(number_list):\n",
    "    max_num_list = []\n",
    "    for row, numbers in enumerate(number_list, start=1):\n",
    "        max_num = max(numbers)\n",
    "        col = numbers.index(max_num) + 1\n",
    "\n",
    "        max_num_list.append((f\"{row} {col}\", max_num))\n",
    "            \n",
    "    return max(max_num_list, key=lambda x: x[1])\n",
    "\n",
    "if __name__ == \"__main__\":\n",
    "    number_list = []\n",
    "    \n",
    "    for _ in range(9):\n",
    "        numbers = list(map(int, input().split()))\n",
    "        number_list.append(numbers)\n",
    "        \n",
    "    answer = max_number(number_list)\n",
    "    \n",
    "    print(answer[1])\n",
    "    print(answer[0])"
   ]
  }
 ],
 "metadata": {
  "kernelspec": {
   "display_name": "Python 3",
   "language": "python",
   "name": "python3"
  },
  "language_info": {
   "codemirror_mode": {
    "name": "ipython",
    "version": 3
   },
   "file_extension": ".py",
   "mimetype": "text/x-python",
   "name": "python",
   "nbconvert_exporter": "python",
   "pygments_lexer": "ipython3",
   "version": "3.7.3"
  }
 },
 "nbformat": 4,
 "nbformat_minor": 2
}
