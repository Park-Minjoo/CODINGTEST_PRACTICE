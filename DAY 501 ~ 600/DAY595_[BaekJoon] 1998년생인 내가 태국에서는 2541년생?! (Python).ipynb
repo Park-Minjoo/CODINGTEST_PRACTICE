{
 "cells": [
  {
   "cell_type": "markdown",
   "metadata": {},
   "source": [
    "## 2022년 1월 16일 일요일\n",
    "### BaekJoon - 1998년생인 내가 태국에서는 2541년생?! (Python)   \n",
    "### 문제 : https://www.acmicpc.net/problem/18108\n",
    "### 블로그 : https://somjang.tistory.com/entry/BaekJoon-18108%EB%B2%88-1998%EB%85%84%EC%83%9D%EC%9D%B8-%EB%82%B4%EA%B0%80-%ED%83%9C%EA%B5%AD%EC%97%90%EC%84%9C%EB%8A%94-2541%EB%85%84%EC%83%9D-Python"
   ]
  },
  {
   "cell_type": "markdown",
   "metadata": {},
   "source": [
    "### Solution"
   ]
  },
  {
   "cell_type": "code",
   "execution_count": null,
   "metadata": {},
   "outputs": [],
   "source": [
    "def thailand_year(year):\n",
    "    return year - 543\n",
    "\n",
    "if __name__ == \"__main__\":\n",
    "    year = int(input())\n",
    "    print(thailand_year(year))"
   ]
  }
 ],
 "metadata": {
  "kernelspec": {
   "display_name": "Python 3",
   "language": "python",
   "name": "python3"
  },
  "language_info": {
   "codemirror_mode": {
    "name": "ipython",
    "version": 3
   },
   "file_extension": ".py",
   "mimetype": "text/x-python",
   "name": "python",
   "nbconvert_exporter": "python",
   "pygments_lexer": "ipython3",
   "version": "3.7.3"
  }
 },
 "nbformat": 4,
 "nbformat_minor": 2
}
