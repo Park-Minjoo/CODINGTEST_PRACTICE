{
 "cells": [
  {
   "cell_type": "markdown",
   "metadata": {},
   "source": [
    "## 2022년 1월 14일 금요일\n",
    "### BaekJoon - 이진수 (Python)   \n",
    "### 문제 : https://www.acmicpc.net/problem/3460\n",
    "### 블로그 : https://somjang.tistory.com/entry/BaekJoon-3460번-이진수-Python"
   ]
  },
  {
   "cell_type": "markdown",
   "metadata": {},
   "source": [
    "### Solution"
   ]
  },
  {
   "cell_type": "code",
   "execution_count": null,
   "metadata": {},
   "outputs": [],
   "source": [
    "def binary_one_position(N):\n",
    "    num_idx = []\n",
    "    \n",
    "    bin_N = list(bin(N)[2:][::-1])\n",
    "    \n",
    "    for idx, num in enumerate(bin_N):\n",
    "        if num == '1':\n",
    "            num_idx.append(str(idx))\n",
    "        \n",
    "    return \" \".join(num_idx)\n",
    "\n",
    "if __name__ == \"__main__\":\n",
    "    for _ in range(int(input())):\n",
    "        n = int(input())\n",
    "        print(binary_one_position(n))"
   ]
  }
 ],
 "metadata": {
  "kernelspec": {
   "display_name": "Python 3",
   "language": "python",
   "name": "python3"
  },
  "language_info": {
   "codemirror_mode": {
    "name": "ipython",
    "version": 3
   },
   "file_extension": ".py",
   "mimetype": "text/x-python",
   "name": "python",
   "nbconvert_exporter": "python",
   "pygments_lexer": "ipython3",
   "version": "3.7.3"
  }
 },
 "nbformat": 4,
 "nbformat_minor": 2
}
