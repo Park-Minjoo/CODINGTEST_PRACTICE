{
 "cells": [
  {
   "cell_type": "markdown",
   "metadata": {},
   "source": [
    "## 2021년 12월 17일 금요일\n",
    "### BaekJoon - 별 찍기 - 7 (Python)   \n",
    "### 문제 : https://www.acmicpc.net/problem/2444\n",
    "### 블로그 : https://somjang.tistory.com/entry/BaekJoon-2444%EB%B2%88-%EB%B3%84-%EC%B0%8D%EA%B8%B0-7-Python"
   ]
  },
  {
   "cell_type": "markdown",
   "metadata": {},
   "source": [
    "### Solution"
   ]
  },
  {
   "cell_type": "code",
   "execution_count": null,
   "metadata": {},
   "outputs": [],
   "source": [
    "def print_stars(N):\n",
    "    for i in range(N):\n",
    "        print(f\"{' ' * (N - i - 1)}{'*' * (2 * (i+1) - 1)}\")\n",
    "    for i in range(N-2, -1, -1):\n",
    "        print(f\"{' ' * (N - i - 1)}{'*' * (2 * (i+1) - 1)}\")\n",
    "              \n",
    "if __name__ == \"__main__\":\n",
    "    N = int(input())\n",
    "    print_stars(N)"
   ]
  }
 ],
 "metadata": {
  "kernelspec": {
   "display_name": "Python 3",
   "language": "python",
   "name": "python3"
  },
  "language_info": {
   "codemirror_mode": {
    "name": "ipython",
    "version": 3
   },
   "file_extension": ".py",
   "mimetype": "text/x-python",
   "name": "python",
   "nbconvert_exporter": "python",
   "pygments_lexer": "ipython3",
   "version": "3.7.3"
  }
 },
 "nbformat": 4,
 "nbformat_minor": 2
}
