{
 "cells": [
  {
   "cell_type": "markdown",
   "metadata": {},
   "source": [
    "## 2021년 10월 14일 목요일\n",
    "### BaekJoon - 블랙잭 (Python) \n",
    "### 문제 : https://www.acmicpc.net/problem/2798\n",
    "### 블로그 : https://somjang.tistory.com/entry/BaekJoon-2798%EB%B2%88-%EB%B8%94%EB%9E%99%EC%9E%AD-Python"
   ]
  },
  {
   "cell_type": "markdown",
   "metadata": {},
   "source": [
    "### Solution"
   ]
  },
  {
   "cell_type": "code",
   "execution_count": null,
   "metadata": {},
   "outputs": [],
   "source": [
    "from itertools import combinations\n",
    "\n",
    "def blackjack(M, card_numbers):\n",
    "    comb_3 = list(combinations(card_numbers, 3))\n",
    "    \n",
    "    sum_list = [sum(comb) for comb in comb_3 if sum(comb) <= M]\n",
    "    \n",
    "    return max(sum_list)\n",
    "\n",
    "\n",
    "if __name__ == \"__main__\":\n",
    "    N, M = map(int, input().split())\n",
    "    \n",
    "    card_numbers = list(map(int, input().split()))\n",
    "    \n",
    "    print(blackjack(M, card_numbers))"
   ]
  }
 ],
 "metadata": {
  "kernelspec": {
   "display_name": "Python 3",
   "language": "python",
   "name": "python3"
  },
  "language_info": {
   "codemirror_mode": {
    "name": "ipython",
    "version": 3
   },
   "file_extension": ".py",
   "mimetype": "text/x-python",
   "name": "python",
   "nbconvert_exporter": "python",
   "pygments_lexer": "ipython3",
   "version": "3.7.3"
  }
 },
 "nbformat": 4,
 "nbformat_minor": 2
}
