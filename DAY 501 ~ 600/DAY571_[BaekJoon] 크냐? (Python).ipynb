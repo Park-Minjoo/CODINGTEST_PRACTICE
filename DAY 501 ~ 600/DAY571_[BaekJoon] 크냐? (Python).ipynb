{
 "cells": [
  {
   "cell_type": "markdown",
   "metadata": {},
   "source": [
    "## 2021년 12월 22일 수요일\n",
    "### BaekJoon - 크냐? (Python)   \n",
    "### 문제 : https://www.acmicpc.net/problem/4101\n",
    "### 블로그 : "
   ]
  },
  {
   "cell_type": "markdown",
   "metadata": {},
   "source": [
    "### Solution"
   ]
  },
  {
   "cell_type": "code",
   "execution_count": null,
   "metadata": {},
   "outputs": [],
   "source": [
    "def is_big(A, B):\n",
    "    answer = \"No\"\n",
    "    \n",
    "    if A > B:\n",
    "        answer = \"Yes\"\n",
    "        \n",
    "    return answer\n",
    "\n",
    "if __name__ == '__main__':\n",
    "    while True:\n",
    "        A, B = map(int, input().split())\n",
    "        \n",
    "        if A == 0 and B == 0:\n",
    "            break\n",
    "            \n",
    "        print(is_big(A, B))"
   ]
  }
 ],
 "metadata": {
  "kernelspec": {
   "display_name": "Python 3",
   "language": "python",
   "name": "python3"
  },
  "language_info": {
   "codemirror_mode": {
    "name": "ipython",
    "version": 3
   },
   "file_extension": ".py",
   "mimetype": "text/x-python",
   "name": "python",
   "nbconvert_exporter": "python",
   "pygments_lexer": "ipython3",
   "version": "3.7.3"
  }
 },
 "nbformat": 4,
 "nbformat_minor": 2
}
