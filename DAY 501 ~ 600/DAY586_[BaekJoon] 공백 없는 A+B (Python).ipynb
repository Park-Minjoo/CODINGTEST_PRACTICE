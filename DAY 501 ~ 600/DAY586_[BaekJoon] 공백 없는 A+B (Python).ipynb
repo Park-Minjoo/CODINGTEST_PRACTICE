{
 "cells": [
  {
   "cell_type": "markdown",
   "metadata": {},
   "source": [
    "## 2022년 1월 7일 금요일\n",
    "### BaekJoon - 공백 없는 A+B (Python)   \n",
    "### 문제 : https://www.acmicpc.net/problem/15873\n",
    "### 블로그 : https://somjang.tistory.com/entry/BaekJoon-15873%EB%B2%88-%EA%B3%B5%EB%B0%B1-%EC%97%86%EB%8A%94-AB-Python"
   ]
  },
  {
   "cell_type": "markdown",
   "metadata": {},
   "source": [
    "### Solution"
   ]
  },
  {
   "cell_type": "code",
   "execution_count": null,
   "metadata": {},
   "outputs": [],
   "source": [
    "def no_space_A_plus_B(AB):\n",
    "    answer = 0\n",
    "    if len(AB) == 2:\n",
    "        answer = int(AB[0]) + int(AB[1])\n",
    "    elif len(AB) == 3:\n",
    "        A = int(AB[0]) if AB[1] != '0' else int(AB[:2])\n",
    "        B = int(AB[2]) if A == 10 else int(AB[1:])\n",
    "        answer = A + B\n",
    "    elif len(AB) == 4:\n",
    "        answer = 20\n",
    "        \n",
    "    return answer\n",
    "        \n",
    "if __name__ == \"__main__\":\n",
    "    AB = input()\n",
    "    print(no_space_A_plus_B(AB))"
   ]
  }
 ],
 "metadata": {
  "kernelspec": {
   "display_name": "Python 3",
   "language": "python",
   "name": "python3"
  },
  "language_info": {
   "codemirror_mode": {
    "name": "ipython",
    "version": 3
   },
   "file_extension": ".py",
   "mimetype": "text/x-python",
   "name": "python",
   "nbconvert_exporter": "python",
   "pygments_lexer": "ipython3",
   "version": "3.7.3"
  }
 },
 "nbformat": 4,
 "nbformat_minor": 2
}
