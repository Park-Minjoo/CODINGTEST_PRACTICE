{
 "cells": [
  {
   "cell_type": "markdown",
   "metadata": {},
   "source": [
    "## 2021년 11월 19일 금요일\n",
    "### BaekJoon - 손익분기점 (Python)   \n",
    "### 문제 : https://www.acmicpc.net/problem/1712\n",
    "### 블로그 : https://somjang.tistory.com/entry/BaekJoon-1712%EB%B2%88-%EC%86%90%EC%9D%B5%EB%B6%84%EA%B8%B0%EC%A0%90-Python"
   ]
  },
  {
   "cell_type": "markdown",
   "metadata": {},
   "source": [
    "### Solution"
   ]
  },
  {
   "cell_type": "code",
   "execution_count": null,
   "metadata": {},
   "outputs": [],
   "source": [
    "def break_even_point(fixed_cost, variable_cost, price):\n",
    "    if (price - variable_cost) > 0:\n",
    "        break_even_point_num = fixed_cost / (price - variable_cost)\n",
    "        break_even_point_num += 1\n",
    "    else:\n",
    "        break_even_point_num = -1\n",
    "\n",
    "    return int(break_even_point_num)\n",
    "\n",
    "if __name__ == \"__main__\":\n",
    "    fixed_cost, variable_cost, price = map(int, input().split())\n",
    "    print(break_even_point(fixed_cost, variable_cost, price))"
   ]
  }
 ],
 "metadata": {
  "kernelspec": {
   "display_name": "Python 3",
   "language": "python",
   "name": "python3"
  },
  "language_info": {
   "codemirror_mode": {
    "name": "ipython",
    "version": 3
   },
   "file_extension": ".py",
   "mimetype": "text/x-python",
   "name": "python",
   "nbconvert_exporter": "python",
   "pygments_lexer": "ipython3",
   "version": "3.7.3"
  }
 },
 "nbformat": 4,
 "nbformat_minor": 2
}
