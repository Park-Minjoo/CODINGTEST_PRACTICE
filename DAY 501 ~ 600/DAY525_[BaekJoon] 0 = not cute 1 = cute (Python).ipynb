{
 "cells": [
  {
   "cell_type": "markdown",
   "metadata": {},
   "source": [
    "## 2021년 11월 1일 월요일\n",
    "### BaekJoon - 0 = not cute / 1 = cute (Python)   \n",
    "### 문제 : https://www.acmicpc.net/problem/10886\n",
    "### 블로그 : https://somjang.tistory.com/entry/BaekJoon-10886%EB%B2%88-0-not-cute-1-cute-Python"
   ]
  },
  {
   "cell_type": "markdown",
   "metadata": {},
   "source": [
    "### Solution"
   ]
  },
  {
   "cell_type": "code",
   "execution_count": null,
   "metadata": {},
   "outputs": [],
   "source": [
    "from collections import Counter\n",
    "\n",
    "def cute_or_not(opinions):\n",
    "    cnt = Counter(opinions).most_common(1)\n",
    "    \n",
    "    if cnt[0][0] == 0:\n",
    "        answer = 'Junhee is not cute!'\n",
    "    elif cnt[0][0] == 1:\n",
    "        answer = 'Junhee is cute!'\n",
    "        \n",
    "    return answer\n",
    "\n",
    "if __name__ == \"__main__\":\n",
    "    opinions = []\n",
    "    \n",
    "    for _ in range(int(input())):\n",
    "        opinion = int(input())\n",
    "        opinions.append(opinion)\n",
    "        \n",
    "    print(cute_or_not(opinions))"
   ]
  }
 ],
 "metadata": {
  "kernelspec": {
   "display_name": "Python 3",
   "language": "python",
   "name": "python3"
  },
  "language_info": {
   "codemirror_mode": {
    "name": "ipython",
    "version": 3
   },
   "file_extension": ".py",
   "mimetype": "text/x-python",
   "name": "python",
   "nbconvert_exporter": "python",
   "pygments_lexer": "ipython3",
   "version": "3.7.3"
  }
 },
 "nbformat": 4,
 "nbformat_minor": 2
}
