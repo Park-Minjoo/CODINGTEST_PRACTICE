{
 "cells": [
  {
   "cell_type": "markdown",
   "metadata": {},
   "source": [
    "## 2021년 11월 25일 목요일\n",
    "### BaekJoon - 보물 (Python)   \n",
    "### 문제 : https://www.acmicpc.net/problem/1026\n",
    "### 블로그 : https://somjang.tistory.com/entry/BaekJoon-1026%EB%B2%88-%EB%B3%B4%EB%AC%BC-Python"
   ]
  },
  {
   "cell_type": "markdown",
   "metadata": {},
   "source": [
    "### Solution"
   ]
  },
  {
   "cell_type": "code",
   "execution_count": null,
   "metadata": {},
   "outputs": [],
   "source": [
    "def treasure(A, B):\n",
    "    answer = 0\n",
    "    check_list = []\n",
    "    \n",
    "    for i in range(len(B)):\n",
    "        check_list.append((i, B[i]))\n",
    "    \n",
    "    sorted_A = sorted(A)\n",
    "    sorted_B = sorted(check_list, key=lambda x: -x[1])\n",
    "    \n",
    "    index_list = [idx[0] for idx in sorted_B]\n",
    "    \n",
    "    for i, idx in enumerate(index_list):\n",
    "        answer += sorted_A[i] * B[idx]\n",
    "        \n",
    "    return answer\n",
    "\n",
    "if __name__ == \"__main__\"   :\n",
    "    N = int(input())\n",
    "    A = list(map(int, input().split()))\n",
    "    B = list(map(int, input().split()))\n",
    "    \n",
    "    print(treasure(A, B))"
   ]
  }
 ],
 "metadata": {
  "kernelspec": {
   "display_name": "Python 3",
   "language": "python",
   "name": "python3"
  },
  "language_info": {
   "codemirror_mode": {
    "name": "ipython",
    "version": 3
   },
   "file_extension": ".py",
   "mimetype": "text/x-python",
   "name": "python",
   "nbconvert_exporter": "python",
   "pygments_lexer": "ipython3",
   "version": "3.7.3"
  }
 },
 "nbformat": 4,
 "nbformat_minor": 2
}
