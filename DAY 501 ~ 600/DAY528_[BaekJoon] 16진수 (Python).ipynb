{
 "cells": [
  {
   "cell_type": "markdown",
   "metadata": {},
   "source": [
    "## 2021년 11월 6일 토요일\n",
    "### BaekJoon - 16진수 (Python)   \n",
    "### 문제 : https://www.acmicpc.net/problem/1550\n",
    "### 블로그 : https://somjang.tistory.com/entry/BaekJoon-1550%EB%B2%88-16%EC%A7%84%EC%88%98-Python"
   ]
  },
  {
   "cell_type": "markdown",
   "metadata": {},
   "source": [
    "### Solution"
   ]
  },
  {
   "cell_type": "code",
   "execution_count": null,
   "metadata": {},
   "outputs": [],
   "source": [
    "def convert_16_to_10(num):\n",
    "    return int(num, 16)\n",
    "\n",
    "if __name__ == '__main__':\n",
    "    num = input()\n",
    "    print(convert_16_to_10(num))"
   ]
  }
 ],
 "metadata": {
  "kernelspec": {
   "display_name": "Python 3",
   "language": "python",
   "name": "python3"
  },
  "language_info": {
   "codemirror_mode": {
    "name": "ipython",
    "version": 3
   },
   "file_extension": ".py",
   "mimetype": "text/x-python",
   "name": "python",
   "nbconvert_exporter": "python",
   "pygments_lexer": "ipython3",
   "version": "3.7.3"
  }
 },
 "nbformat": 4,
 "nbformat_minor": 2
}
