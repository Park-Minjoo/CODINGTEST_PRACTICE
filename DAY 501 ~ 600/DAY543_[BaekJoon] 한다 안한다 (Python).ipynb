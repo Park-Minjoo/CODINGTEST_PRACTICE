{
 "cells": [
  {
   "cell_type": "markdown",
   "metadata": {},
   "source": [
    "## 2021년 11월 22일 월요일\n",
    "### BaekJoon - 한다 안한다 (Python)   \n",
    "### 문제 : https://www.acmicpc.net/problem/5789\n",
    "### 블로그 : https://somjang.tistory.com/entry/BaekJoon-5789%EB%B2%88-%ED%95%9C%EB%8B%A4-%EC%95%88%ED%95%9C%EB%8B%A4-Python"
   ]
  },
  {
   "cell_type": "markdown",
   "metadata": {},
   "source": [
    "### Solution"
   ]
  },
  {
   "cell_type": "code",
   "execution_count": null,
   "metadata": {},
   "outputs": [],
   "source": [
    "def handa_anhanda(numbers):\n",
    "    answer = 'Do-it'\n",
    "    \n",
    "    loop_num = len(numbers) // 2\n",
    "    \n",
    "    for i in range(loop_num):\n",
    "        if numbers[i] != numbers[len(numbers) - i - 1]:\n",
    "            answer = 'Do-it-Not'\n",
    "        else:\n",
    "            answer = 'Do-it'\n",
    "            \n",
    "    return answer\n",
    "\n",
    "if __name__ == \"__main__\":\n",
    "    for _ in range(int(input())):\n",
    "        numbers = input()\n",
    "        \n",
    "        print(handa_anhanda(numbers))"
   ]
  }
 ],
 "metadata": {
  "kernelspec": {
   "display_name": "Python 3",
   "language": "python",
   "name": "python3"
  },
  "language_info": {
   "codemirror_mode": {
    "name": "ipython",
    "version": 3
   },
   "file_extension": ".py",
   "mimetype": "text/x-python",
   "name": "python",
   "nbconvert_exporter": "python",
   "pygments_lexer": "ipython3",
   "version": "3.7.3"
  }
 },
 "nbformat": 4,
 "nbformat_minor": 2
}
