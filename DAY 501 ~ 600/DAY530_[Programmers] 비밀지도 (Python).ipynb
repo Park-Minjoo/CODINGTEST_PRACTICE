{
 "cells": [
  {
   "cell_type": "markdown",
   "metadata": {},
   "source": [
    "## 2021년 11월 8일 월요일\n",
    "### Programmers - 비밀지도 (Python)   \n",
    "### 문제 : https://programmers.co.kr/learn/courses/30/lessons/17681\n",
    "### 블로그 : https://somjang.tistory.com/entry/Programmers-2018-KAKAO-BLIND-RECRUITMENT-1%EC%B0%A8-%EB%B9%84%EB%B0%80%EC%A7%80%EB%8F%84-Python"
   ]
  },
  {
   "cell_type": "markdown",
   "metadata": {},
   "source": [
    "### Solution"
   ]
  },
  {
   "cell_type": "code",
   "execution_count": null,
   "metadata": {},
   "outputs": [],
   "source": [
    "def convert_num_to_bin(n, num):\n",
    "    binary_num = bin(num)[2:]\n",
    "    \n",
    "    if len(binary_num) < n:\n",
    "        ext_num = n - len(binary_num)\n",
    "        binary_num = \"0\" * ext_num + binary_num\n",
    "        \n",
    "    return binary_num\n",
    "        \n",
    "\n",
    "def solution(n, arr1, arr2):\n",
    "    answer = []\n",
    "    \n",
    "    arr1 = [convert_num_to_bin(n, num) for num in arr1]\n",
    "    arr2 = [convert_num_to_bin(n, num) for num in arr2]\n",
    "    \n",
    "    for arr1_num, arr2_num in zip(arr1, arr2):\n",
    "        temp = ''\n",
    "        for num1, num2 in zip(arr1_num, arr2_num):\n",
    "            num3 = bin(int(num1) | int(num2))[2:]\n",
    "            if num3 == \"1\":\n",
    "                temp += \"#\"\n",
    "            else:\n",
    "                temp += \" \"\n",
    "        answer.append(temp)\n",
    "    return answer"
   ]
  }
 ],
 "metadata": {
  "kernelspec": {
   "display_name": "Python 3",
   "language": "python",
   "name": "python3"
  },
  "language_info": {
   "codemirror_mode": {
    "name": "ipython",
    "version": 3
   },
   "file_extension": ".py",
   "mimetype": "text/x-python",
   "name": "python",
   "nbconvert_exporter": "python",
   "pygments_lexer": "ipython3",
   "version": "3.7.3"
  }
 },
 "nbformat": 4,
 "nbformat_minor": 2
}
