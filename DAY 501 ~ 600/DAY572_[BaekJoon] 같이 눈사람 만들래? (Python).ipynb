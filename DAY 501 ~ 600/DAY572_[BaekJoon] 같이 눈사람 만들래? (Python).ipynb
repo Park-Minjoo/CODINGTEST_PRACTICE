{
 "cells": [
  {
   "cell_type": "markdown",
   "metadata": {},
   "source": [
    "## 2021년 12월 24일 금요일\n",
    "### BaekJoon - 같이 눈사람 만들래? (Python)   \n",
    "### 문제 : https://www.acmicpc.net/problem/20366\n",
    "### 블로그 : https://somjang.tistory.com/entry/BaekJoon-20366%EB%B2%88-%EA%B0%99%EC%9D%B4-%EB%88%88%EC%82%AC%EB%9E%8C-%EB%A7%8C%EB%93%A4%EB%9E%98-Python"
   ]
  },
  {
   "cell_type": "markdown",
   "metadata": {},
   "source": [
    "### Solution"
   ]
  },
  {
   "cell_type": "code",
   "execution_count": null,
   "metadata": {},
   "outputs": [],
   "source": [
    "def do_yo_wanna_build_a_snowman(N, snowballs):\n",
    "    height_diff = 9999999999\n",
    "    \n",
    "    for i in range(N):\n",
    "        for j in range(i + 3, N):\n",
    "            snowman1 = snowballs[i] + snowballs[j]\n",
    "            left, right = i + 1, j - 1\n",
    "\n",
    "            while left < right:\n",
    "                snowman2 = snowballs[left] + snowballs[right]\n",
    "                if abs(snowman2 - snowman1) < height_diff:\n",
    "                    height_diff = abs(snowman2 - snowman1)\n",
    "\n",
    "                if snowman2 < snowman1:\n",
    "                    left += 1\n",
    "                elif snowman2 > snowman1:\n",
    "                    right -= 1\n",
    "                else:\n",
    "                    return 0\n",
    "\n",
    "    return height_diff\n",
    "\n",
    "\n",
    "if __name__ == \"__main__\":\n",
    "    N = int(input())\n",
    "    snowballs = sorted(list(map(int,input().split())))\n",
    "    print(do_yo_wanna_build_a_snowman(N, snowballs))"
   ]
  }
 ],
 "metadata": {
  "kernelspec": {
   "display_name": "Python 3",
   "language": "python",
   "name": "python3"
  },
  "language_info": {
   "codemirror_mode": {
    "name": "ipython",
    "version": 3
   },
   "file_extension": ".py",
   "mimetype": "text/x-python",
   "name": "python",
   "nbconvert_exporter": "python",
   "pygments_lexer": "ipython3",
   "version": "3.7.3"
  }
 },
 "nbformat": 4,
 "nbformat_minor": 2
}
