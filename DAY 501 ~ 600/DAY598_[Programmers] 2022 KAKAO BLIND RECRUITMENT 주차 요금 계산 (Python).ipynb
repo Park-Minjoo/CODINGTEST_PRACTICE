{
 "cells": [
  {
   "cell_type": "markdown",
   "metadata": {},
   "source": [
    "## 2022년 1월 19일 수요일\n",
    "### Programmers - 2022 KAKAO BLIND RECRUITMENT 주차 요금 계산 (Python)   \n",
    "### 문제 : https://programmers.co.kr/learn/courses/30/lessons/92341\n",
    "### 블로그 : https://somjang.tistory.com/entry/Programmers-2022-KAKAO-BLIND-RECRUITMENT-%EC%A3%BC%EC%B0%A8-%EC%9A%94%EA%B8%88-%EA%B3%84%EC%82%B0-Python"
   ]
  },
  {
   "cell_type": "markdown",
   "metadata": {},
   "source": [
    "### Solution"
   ]
  },
  {
   "cell_type": "code",
   "execution_count": null,
   "metadata": {},
   "outputs": [],
   "source": [
    "from datetime import datetime\n",
    "\n",
    "def solution(fees, records):\n",
    "    answer = []\n",
    "    parking_dict, fee_dict = {}, {}\n",
    "    \n",
    "    last_out_time = datetime.strptime(\"23:59:00\", \"%H:%M:%S\")\n",
    "    \n",
    "    for record in records:\n",
    "        parking_time, car_number, in_out = record.split()\n",
    "        \n",
    "        parking_time = datetime.strptime(f\"{parking_time}:00\", \"%H:%M:%S\")\n",
    "        \n",
    "        if car_number not in parking_dict.keys():\n",
    "            parking_dict[car_number] = []\n",
    "        \n",
    "        parking_dict[car_number].append(parking_time)\n",
    "        \n",
    "    for car_num_key in parking_dict.keys():\n",
    "        park_time, car_parking_fee = 0, 0\n",
    "        is_more_fee, more_fee_time = False, 0\n",
    "        \n",
    "        in_out_time_len = len(parking_dict[car_num_key])\n",
    "        if in_out_time_len % 2 == 1:\n",
    "            parking_dict[car_num_key].append(last_out_time)\n",
    "            in_out_time_len += 1\n",
    "        \n",
    "        for i in range(in_out_time_len // 2):\n",
    "            park_time += (parking_dict[car_num_key][2*(i-1)+1] - parking_dict[car_num_key][2*(i-1)]).seconds // 60      \n",
    "        \n",
    "        if park_time - fees[0] > 0:\n",
    "            is_more_fee = True\n",
    "            more_fee_time = (park_time - fees[0]) / fees[2]\n",
    "            \n",
    "            if more_fee_time != int(more_fee_time):\n",
    "                more_fee_time = int(more_fee_time) + 1\n",
    "                \n",
    "        car_parking_fee = fees[1] + more_fee_time * fees[3]        \n",
    "        \n",
    "        fee_dict[car_num_key] = int(car_parking_fee)\n",
    "        \n",
    "    answer = [fee[1] for fee in sorted(fee_dict.items(), key=lambda x: x[0])]\n",
    "    \n",
    "    return answer"
   ]
  }
 ],
 "metadata": {
  "kernelspec": {
   "display_name": "Python 3",
   "language": "python",
   "name": "python3"
  },
  "language_info": {
   "codemirror_mode": {
    "name": "ipython",
    "version": 3
   },
   "file_extension": ".py",
   "mimetype": "text/x-python",
   "name": "python",
   "nbconvert_exporter": "python",
   "pygments_lexer": "ipython3",
   "version": "3.7.3"
  }
 },
 "nbformat": 4,
 "nbformat_minor": 2
}
