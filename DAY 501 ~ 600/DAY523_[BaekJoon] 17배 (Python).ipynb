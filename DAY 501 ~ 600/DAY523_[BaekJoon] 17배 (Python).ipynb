{
 "cells": [
  {
   "cell_type": "markdown",
   "metadata": {},
   "source": [
    "## 2021년 10월 26일 화요일\n",
    "### BaekJoon - 17배 (Python)  \n",
    "### 문제 : https://www.acmicpc.net/problem/5893\n",
    "### 블로그 : https://somjang.tistory.com/entry/BaekJoon-5893%EB%B2%88-17%EB%B0%B0-Python"
   ]
  },
  {
   "cell_type": "markdown",
   "metadata": {},
   "source": [
    "### Solution"
   ]
  },
  {
   "cell_type": "code",
   "execution_count": null,
   "metadata": {},
   "outputs": [],
   "source": [
    "def seventeen_times(bin_num):\n",
    "    number = int(bin_num, 2)\n",
    "    \n",
    "    seventeen_time_num = number * 17\n",
    "    \n",
    "    return bin(seventeen_time_num)[2:]\n",
    "\n",
    "\n",
    "if __name__ == \"__main__\":\n",
    "    bin_num = input()\n",
    "    print(seventeen_times(bin_num))"
   ]
  }
 ],
 "metadata": {
  "kernelspec": {
   "display_name": "Python 3",
   "language": "python",
   "name": "python3"
  },
  "language_info": {
   "codemirror_mode": {
    "name": "ipython",
    "version": 3
   },
   "file_extension": ".py",
   "mimetype": "text/x-python",
   "name": "python",
   "nbconvert_exporter": "python",
   "pygments_lexer": "ipython3",
   "version": "3.7.3"
  }
 },
 "nbformat": 4,
 "nbformat_minor": 2
}
