{
 "cells": [
  {
   "cell_type": "markdown",
   "metadata": {},
   "source": [
    "## 2021년 11월 30일 화요일\n",
    "### SW Expert Academy - 시각 덧셈 (Python)   \n",
    "### 문제 : https://swexpertacademy.com/main/code/problem/problemDetail.do?problemLevel=2&contestProbId=AV5PttaaAZIDFAUq&categoryId=AV5PttaaAZIDFAUq&categoryType=CODE&problemTitle=&orderBy=FIRST_REG_DATETIME&selectCodeLang=PYTHON&select-1=2&pageSize=10&pageIndex=2\n",
    "### 블로그 : https://somjang.tistory.com/entry/SW-Expert-Academy-1976%EB%B2%88-%EC%8B%9C%EA%B0%81-%EB%8D%A7%EC%85%88-Python"
   ]
  },
  {
   "cell_type": "markdown",
   "metadata": {},
   "source": [
    "### Solution"
   ]
  },
  {
   "cell_type": "code",
   "execution_count": null,
   "metadata": {},
   "outputs": [],
   "source": [
    "def time_sum(time1, time2):\n",
    "    hour1, minute1 = time1[0], time1[1]\n",
    "    hour2, minute2 = time2[0], time2[1]\n",
    "    \n",
    "    more_hour = 0\n",
    "    sum_minute = minute1 + minute2\n",
    "    \n",
    "    if sum_minute >= 60:\n",
    "        sum_minute -= 60\n",
    "        more_hour += 1\n",
    "        \n",
    "    sum_hour = hour1 + hour2 + more_hour\n",
    "    \n",
    "    if sum_hour > 12:\n",
    "        sum_hour -= 12\n",
    "    \n",
    "    return f\"{sum_hour} {sum_minute}\"\n",
    "\n",
    "if __name__ == \"__main__\":\n",
    "    for idx in range(int(input())):\n",
    "        time = list(map(int, input().split()))\n",
    "\n",
    "        time1, time2 = time[:2], time[2:]\n",
    "\n",
    "        print(f\"#{idx+1} {time_sum(time1, time2)}\")"
   ]
  }
 ],
 "metadata": {
  "kernelspec": {
   "display_name": "Python 3",
   "language": "python",
   "name": "python3"
  },
  "language_info": {
   "codemirror_mode": {
    "name": "ipython",
    "version": 3
   },
   "file_extension": ".py",
   "mimetype": "text/x-python",
   "name": "python",
   "nbconvert_exporter": "python",
   "pygments_lexer": "ipython3",
   "version": "3.7.3"
  }
 },
 "nbformat": 4,
 "nbformat_minor": 2
}
