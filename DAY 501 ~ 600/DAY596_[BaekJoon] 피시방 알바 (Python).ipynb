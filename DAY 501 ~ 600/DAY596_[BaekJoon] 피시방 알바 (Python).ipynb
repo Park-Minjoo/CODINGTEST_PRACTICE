{
 "cells": [
  {
   "cell_type": "markdown",
   "metadata": {},
   "source": [
    "## 2022년 1월 17일 월요일\n",
    "### BaekJoon - 피시방 알바 (Python)   \n",
    "### 문제 : https://www.acmicpc.net/problem/1453\n",
    "### 블로그 : https://somjang.tistory.com/entry/BaekJoon-1453%EB%B2%88-%ED%94%BC%EC%8B%9C%EB%B0%A9-%EC%95%8C%EB%B0%94-Python"
   ]
  },
  {
   "cell_type": "markdown",
   "metadata": {},
   "source": [
    "### Solution"
   ]
  },
  {
   "cell_type": "code",
   "execution_count": null,
   "metadata": {},
   "outputs": [],
   "source": [
    "def pc_room_alba(customer):\n",
    "    customer = customer.split()\n",
    "    return len(customer) - len(set(customer))\n",
    "\n",
    "if __name__ == \"__main__\":\n",
    "    N = input()\n",
    "    customer = input()\n",
    "    print(pc_room_alba(customer))"
   ]
  }
 ],
 "metadata": {
  "kernelspec": {
   "display_name": "Python 3",
   "language": "python",
   "name": "python3"
  },
  "language_info": {
   "codemirror_mode": {
    "name": "ipython",
    "version": 3
   },
   "file_extension": ".py",
   "mimetype": "text/x-python",
   "name": "python",
   "nbconvert_exporter": "python",
   "pygments_lexer": "ipython3",
   "version": "3.7.3"
  }
 },
 "nbformat": 4,
 "nbformat_minor": 2
}
