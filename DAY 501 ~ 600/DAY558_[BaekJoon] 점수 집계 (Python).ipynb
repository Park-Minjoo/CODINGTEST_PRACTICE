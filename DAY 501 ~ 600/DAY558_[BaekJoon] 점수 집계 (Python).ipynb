{
 "cells": [
  {
   "cell_type": "markdown",
   "metadata": {},
   "source": [
    "## 2021년 12월 7일 화요일\n",
    "### BaekJoon - 점수 집계 (Python)   \n",
    "### 문제 : https://www.acmicpc.net/problem/9076\n",
    "### 블로그 : https://somjang.tistory.com/entry/BaekJoon-9076%EB%B2%88-%EC%A0%90%EC%88%98-%EC%A7%91%EA%B3%84-Python"
   ]
  },
  {
   "cell_type": "markdown",
   "metadata": {},
   "source": [
    "### Solution"
   ]
  },
  {
   "cell_type": "code",
   "execution_count": null,
   "metadata": {},
   "outputs": [],
   "source": [
    "def score_aggregation(scores):\n",
    "    scores.remove(max(scores))\n",
    "    scores.remove(min(scores))\n",
    "    \n",
    "    if max(scores) - min(scores) > 3:\n",
    "        answer = \"KIN\"\n",
    "    else:\n",
    "        answer = sum(scores)\n",
    "        \n",
    "    return answer\n",
    "\n",
    "if __name__ == \"__main__\":\n",
    "    for _ in range(int(input())):\n",
    "        scores = list(map(int, input().split()))\n",
    "        print(score_aggregation(scores))"
   ]
  }
 ],
 "metadata": {
  "kernelspec": {
   "display_name": "Python 3",
   "language": "python",
   "name": "python3"
  },
  "language_info": {
   "codemirror_mode": {
    "name": "ipython",
    "version": 3
   },
   "file_extension": ".py",
   "mimetype": "text/x-python",
   "name": "python",
   "nbconvert_exporter": "python",
   "pygments_lexer": "ipython3",
   "version": "3.7.3"
  }
 },
 "nbformat": 4,
 "nbformat_minor": 2
}
