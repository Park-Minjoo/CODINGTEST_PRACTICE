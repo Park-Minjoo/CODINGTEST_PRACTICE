{
 "cells": [
  {
   "cell_type": "markdown",
   "metadata": {},
   "source": [
    "## 2021년 12월 25일 토요일 - 크리스마스!\n",
    "### BaekJoon - XMAS (Python)   \n",
    "### 문제 : https://www.acmicpc.net/problem/\n",
    "### 블로그 : https://somjang.tistory.com/entry/BaekJoon-9838%EB%B2%88-XMAS-Python"
   ]
  },
  {
   "cell_type": "markdown",
   "metadata": {},
   "source": [
    "### Solution"
   ]
  },
  {
   "cell_type": "code",
   "execution_count": null,
   "metadata": {},
   "outputs": [],
   "source": [
    "def XMAS(gift_list):\n",
    "    check_dict = {}\n",
    "    for idx, gift in enumerate(gift_list, start=1):\n",
    "        check_dict[gift] = idx\n",
    "\n",
    "    items = [item[1] for item in sorted(check_dict.items(), key=lambda x: x[0])]\n",
    "    \n",
    "    return items\n",
    "    \n",
    "if __name__ == \"__main__\":\n",
    "    gift_list = []\n",
    "    for _ in range(int(input())):\n",
    "        gift_list.append(int(input()))\n",
    "        \n",
    "    check_list = XMAS(gift_list)\n",
    "    \n",
    "    for check in check_list:\n",
    "        print(check)"
   ]
  }
 ],
 "metadata": {
  "kernelspec": {
   "display_name": "Python 3",
   "language": "python",
   "name": "python3"
  },
  "language_info": {
   "codemirror_mode": {
    "name": "ipython",
    "version": 3
   },
   "file_extension": ".py",
   "mimetype": "text/x-python",
   "name": "python",
   "nbconvert_exporter": "python",
   "pygments_lexer": "ipython3",
   "version": "3.7.3"
  }
 },
 "nbformat": 4,
 "nbformat_minor": 2
}
