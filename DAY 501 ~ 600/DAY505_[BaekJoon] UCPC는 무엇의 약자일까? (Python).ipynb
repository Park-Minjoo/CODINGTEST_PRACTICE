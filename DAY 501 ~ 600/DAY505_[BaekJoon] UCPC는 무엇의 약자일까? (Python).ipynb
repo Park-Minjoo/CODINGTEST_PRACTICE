{
 "cells": [
  {
   "cell_type": "markdown",
   "metadata": {},
   "source": [
    "## 2021년 10월 7일 목요일\n",
    "### BaekJoon - UCPC는 무엇의 약자일까? (Python) \n",
    "### 문제 : https://www.acmicpc.net/problem/15904\n",
    "### 블로그 : https://somjang.tistory.com/entry/BaekJoon-15904%EB%B2%88-UCPC%EB%8A%94-%EB%AC%B4%EC%97%87%EC%9D%98-%EC%95%BD%EC%9E%90%EC%9D%BC%EA%B9%8C-Python"
   ]
  },
  {
   "cell_type": "markdown",
   "metadata": {},
   "source": [
    "### Solution"
   ]
  },
  {
   "cell_type": "code",
   "execution_count": null,
   "metadata": {},
   "outputs": [],
   "source": [
    "def is_ucpc(word):\n",
    "    check_alpha = ['U', 'C', 'P', 'C']\n",
    "\n",
    "    result = \"I love UCPC\"\n",
    "    \n",
    "    for alpha in check_alpha:\n",
    "        if alpha in word:\n",
    "            alpha_index = word.index(alpha)\n",
    "            word = word[alpha_index+1:]\n",
    "        else:\n",
    "            result = \"I hate UCPC\"\n",
    "            break\n",
    "        \n",
    "    return result\n",
    "\n",
    "if __name__ == \"__main__\":\n",
    "    word = input()\n",
    "    print(is_ucpc(word))"
   ]
  }
 ],
 "metadata": {
  "kernelspec": {
   "display_name": "Python 3",
   "language": "python",
   "name": "python3"
  },
  "language_info": {
   "codemirror_mode": {
    "name": "ipython",
    "version": 3
   },
   "file_extension": ".py",
   "mimetype": "text/x-python",
   "name": "python",
   "nbconvert_exporter": "python",
   "pygments_lexer": "ipython3",
   "version": "3.7.3"
  }
 },
 "nbformat": 4,
 "nbformat_minor": 2
}
