{
 "cells": [
  {
   "cell_type": "markdown",
   "metadata": {},
   "source": [
    "## 2021년 10월 17일 일요일\n",
    "### BaekJoon - 중복된 숫자 (Python) \n",
    "### 문제 : https://www.acmicpc.net/problem/15719\n",
    "### 블로그 : https://somjang.tistory.com/entry/BaekJoon-15719%EB%B2%88-%EC%A4%91%EB%B3%B5%EB%90%9C-%EC%88%AB%EC%9E%90-Python"
   ]
  },
  {
   "cell_type": "markdown",
   "metadata": {},
   "source": [
    "### Solution"
   ]
  },
  {
   "cell_type": "code",
   "execution_count": null,
   "metadata": {},
   "outputs": [],
   "source": [
    "import sys\n",
    "\n",
    "def get_range_sum(final_number):\n",
    "    return final_number * (final_number - 1) // 2\n",
    "    \n",
    "\n",
    "def duplicate_number(N, numbers): \n",
    "    sum_numbers = 0\n",
    "    temp = \"\"\n",
    "    for num in numbers:\n",
    "        if num.isdigit():\n",
    "            temp += num\n",
    "        elif num == \" \":\n",
    "            sum_numbers += int(temp)\n",
    "            temp = \"\"\n",
    "            \n",
    "    sum_numbers += int(temp)\n",
    "    \n",
    "    return sum_numbers - get_range_sum(N)\n",
    "\n",
    "if __name__ == \"__main__\":\n",
    "    N = int(input())\n",
    "    numbers = sys.stdin.read()\n",
    "    print(duplicate_number(N, numbers))"
   ]
  }
 ],
 "metadata": {
  "kernelspec": {
   "display_name": "Python 3",
   "language": "python",
   "name": "python3"
  },
  "language_info": {
   "codemirror_mode": {
    "name": "ipython",
    "version": 3
   },
   "file_extension": ".py",
   "mimetype": "text/x-python",
   "name": "python",
   "nbconvert_exporter": "python",
   "pygments_lexer": "ipython3",
   "version": "3.7.3"
  }
 },
 "nbformat": 4,
 "nbformat_minor": 2
}
