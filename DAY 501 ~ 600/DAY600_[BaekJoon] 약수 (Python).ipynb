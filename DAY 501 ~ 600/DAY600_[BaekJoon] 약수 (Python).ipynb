{
 "cells": [
  {
   "cell_type": "markdown",
   "metadata": {},
   "source": [
    "## 2022년 1월 21일 금요일\n",
    "### BaekJoon - 약수 (Python)   \n",
    "### 문제 : https://www.acmicpc.net/problem/1037\n",
    "### 블로그 : https://somjang.tistory.com/entry/BaekJoon-1037%EB%B2%88-%EC%95%BD%EC%88%98-Python"
   ]
  },
  {
   "cell_type": "markdown",
   "metadata": {},
   "source": [
    "### Solution"
   ]
  },
  {
   "cell_type": "code",
   "execution_count": null,
   "metadata": {},
   "outputs": [],
   "source": [
    "def divisor_func(divisors):\n",
    "    return max(divisors) * min(divisors)\n",
    "\n",
    "if __name__ == \"__main__\":\n",
    "    N = int(input())\n",
    "    divisors = list(map(int, input().split()))\n",
    "    print(divisor_func(divisors))"
   ]
  }
 ],
 "metadata": {
  "kernelspec": {
   "display_name": "Python 3",
   "language": "python",
   "name": "python3"
  },
  "language_info": {
   "codemirror_mode": {
    "name": "ipython",
    "version": 3
   },
   "file_extension": ".py",
   "mimetype": "text/x-python",
   "name": "python",
   "nbconvert_exporter": "python",
   "pygments_lexer": "ipython3",
   "version": "3.7.3"
  }
 },
 "nbformat": 4,
 "nbformat_minor": 2
}
