{
 "cells": [
  {
   "cell_type": "markdown",
   "metadata": {},
   "source": [
    "## 2021년 11월 5일 금요일\n",
    "### BaekJoon - BASE64 디코딩 (Python)   \n",
    "### 문제 : https://www.acmicpc.net/problem/10936\n",
    "### 블로그 : https://somjang.tistory.com/entry/BaekJoon-10936%EB%B2%88-BASE64-%EB%94%94%EC%BD%94%EB%94%A9-Python"
   ]
  },
  {
   "cell_type": "markdown",
   "metadata": {},
   "source": [
    "### Solution"
   ]
  },
  {
   "cell_type": "code",
   "execution_count": null,
   "metadata": {},
   "outputs": [],
   "source": [
    "import base64\n",
    "\n",
    "def base64_decoding(base64_string):\n",
    "    return str(base64.b64decode(base64_string.encode('ascii')))[2:-1]\n",
    "\n",
    "\n",
    "if __name__ == \"__main__\":\n",
    "    base64_string = input()\n",
    "    print(base64_decoding(base64_string))"
   ]
  }
 ],
 "metadata": {
  "kernelspec": {
   "display_name": "Python 3",
   "language": "python",
   "name": "python3"
  },
  "language_info": {
   "codemirror_mode": {
    "name": "ipython",
    "version": 3
   },
   "file_extension": ".py",
   "mimetype": "text/x-python",
   "name": "python",
   "nbconvert_exporter": "python",
   "pygments_lexer": "ipython3",
   "version": "3.7.3"
  }
 },
 "nbformat": 4,
 "nbformat_minor": 2
}
