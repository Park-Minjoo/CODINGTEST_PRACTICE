{
 "cells": [
  {
   "cell_type": "markdown",
   "metadata": {},
   "source": [
    "## 2021년 10월 21일 목요일\n",
    "### SW Expert Academy - 큰 놈, 작은 놈, 같은 놈 (Python)\n",
    "### 문제 : https://swexpertacademy.com/main/code/problem/problemDetail.do?problemLevel=1&contestProbId=AV5QQ6qqA40DFAUq&categoryId=AV5QQ6qqA40DFAUq&categoryType=CODE&problemTitle=&orderBy=FIRST_REG_DATETIME&selectCodeLang=PYTHON&select-1=1&pageSize=10&pageIndex=1\n",
    "### 블로그 : https://somjang.tistory.com/entry/SW-Expert-Academy-2070%EB%B2%88-%ED%81%B0-%EB%86%88-%EC%9E%91%EC%9D%80-%EB%86%88-%EA%B0%99%EC%9D%80-%EB%86%88-Python"
   ]
  },
  {
   "cell_type": "markdown",
   "metadata": {},
   "source": [
    "### Solution"
   ]
  },
  {
   "cell_type": "code",
   "execution_count": null,
   "metadata": {},
   "outputs": [],
   "source": [
    "def big_same_small(num1, num2):\n",
    "    answer = \"=\"\n",
    "    if num1 < num2:\n",
    "        answer = \"<\"\n",
    "    elif num1 > num2:\n",
    "        answer = \">\"\n",
    "    return answer\n",
    "\n",
    "if __name__ == \"__main__\":\n",
    "    for i in range(int(input())):\n",
    "        num1, num2 = map(int, input().split())\n",
    "        answer = big_same_small(num1, num2)\n",
    "        print(f\"#{i+1} {answer}\")"
   ]
  }
 ],
 "metadata": {
  "kernelspec": {
   "display_name": "Python 3",
   "language": "python",
   "name": "python3"
  },
  "language_info": {
   "codemirror_mode": {
    "name": "ipython",
    "version": 3
   },
   "file_extension": ".py",
   "mimetype": "text/x-python",
   "name": "python",
   "nbconvert_exporter": "python",
   "pygments_lexer": "ipython3",
   "version": "3.7.3"
  }
 },
 "nbformat": 4,
 "nbformat_minor": 2
}
