{
 "cells": [
  {
   "cell_type": "markdown",
   "metadata": {},
   "source": [
    "## 2021년 12월 5일 일요일\n",
    "### BaekJoon - 세수정렬 (Python)   \n",
    "### 문제 : https://www.acmicpc.net/problem/2752\n",
    "### 블로그 : https://somjang.tistory.com/entry/BaekJoon-2752%EB%B2%88-%EC%84%B8%EC%88%98%EC%A0%95%EB%A0%AC-Python"
   ]
  },
  {
   "cell_type": "markdown",
   "metadata": {},
   "source": [
    "### Solution"
   ]
  },
  {
   "cell_type": "code",
   "execution_count": null,
   "metadata": {},
   "outputs": [],
   "source": [
    "def order_three_numbers(numbers):\n",
    "    return \" \".join(map(str, sorted(numbers)))\n",
    "\n",
    "if __name__ == \"__main__\":\n",
    "    numbers = list(map(int, input().split()))\n",
    "    print(order_three_numbers(numbers))"
   ]
  }
 ],
 "metadata": {
  "kernelspec": {
   "display_name": "Python 3",
   "language": "python",
   "name": "python3"
  },
  "language_info": {
   "codemirror_mode": {
    "name": "ipython",
    "version": 3
   },
   "file_extension": ".py",
   "mimetype": "text/x-python",
   "name": "python",
   "nbconvert_exporter": "python",
   "pygments_lexer": "ipython3",
   "version": "3.7.3"
  }
 },
 "nbformat": 4,
 "nbformat_minor": 2
}
