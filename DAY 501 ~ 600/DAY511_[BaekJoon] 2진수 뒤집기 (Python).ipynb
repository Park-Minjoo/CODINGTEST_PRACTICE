{
 "cells": [
  {
   "cell_type": "markdown",
   "metadata": {},
   "source": [
    "## 2021년 10월 13일 수요일\n",
    "### BaekJoon - 2진수 뒤집기 (Python) \n",
    "### 문제 : https://www.acmicpc.net/problem/11179\n",
    "### 블로그 : https://somjang.tistory.com/entry/BaekJoon-11179%EB%B2%88-2%EC%A7%84%EC%88%98-%EB%92%A4%EC%A7%91%EA%B8%B0-Python"
   ]
  },
  {
   "cell_type": "markdown",
   "metadata": {},
   "source": [
    "### Solution"
   ]
  },
  {
   "cell_type": "code",
   "execution_count": null,
   "metadata": {},
   "outputs": [],
   "source": [
    "def flip_binary(number):\n",
    "    binary_num = bin(number)[2:]\n",
    "    flip_binary = binary_num[::-1]\n",
    "    \n",
    "    return int(flip_binary, 2)\n",
    "\n",
    "if __name__ == \"__main__\":\n",
    "    number = int(input())\n",
    "    print(flip_binary(number))"
   ]
  }
 ],
 "metadata": {
  "kernelspec": {
   "display_name": "Python 3",
   "language": "python",
   "name": "python3"
  },
  "language_info": {
   "codemirror_mode": {
    "name": "ipython",
    "version": 3
   },
   "file_extension": ".py",
   "mimetype": "text/x-python",
   "name": "python",
   "nbconvert_exporter": "python",
   "pygments_lexer": "ipython3",
   "version": "3.7.3"
  }
 },
 "nbformat": 4,
 "nbformat_minor": 2
}
