{
 "cells": [
  {
   "cell_type": "markdown",
   "metadata": {},
   "source": [
    "## 2021년 10월 18일 월요일\n",
    "### BaekJoon - 평균 점수 (Python) \n",
    "### 문제 : https://www.acmicpc.net/problem/10039\n",
    "### 블로그 : https://somjang.tistory.com/entry/BaekJoon-10039%EB%B2%88-%ED%8F%89%EA%B7%A0-%EC%A0%90%EC%88%98-Python"
   ]
  },
  {
   "cell_type": "markdown",
   "metadata": {},
   "source": [
    "### Solution"
   ]
  },
  {
   "cell_type": "code",
   "execution_count": null,
   "metadata": {},
   "outputs": [],
   "source": [
    "def avg_score(scores):\n",
    "    sum_score = 0\n",
    "    \n",
    "    for score in scores:\n",
    "        if score < 40:\n",
    "            sum_score += 40\n",
    "        else:\n",
    "            sum_score += score\n",
    "            \n",
    "    return sum_score // 5\n",
    "\n",
    "\n",
    "if __name__ == \"__main__\":\n",
    "    scores = []\n",
    "    for _ in range(5):\n",
    "        score = int(input())\n",
    "        scores.append(score)\n",
    "        \n",
    "    print(avg_score(scores))"
   ]
  }
 ],
 "metadata": {
  "kernelspec": {
   "display_name": "Python 3",
   "language": "python",
   "name": "python3"
  },
  "language_info": {
   "codemirror_mode": {
    "name": "ipython",
    "version": 3
   },
   "file_extension": ".py",
   "mimetype": "text/x-python",
   "name": "python",
   "nbconvert_exporter": "python",
   "pygments_lexer": "ipython3",
   "version": "3.7.3"
  }
 },
 "nbformat": 4,
 "nbformat_minor": 2
}
