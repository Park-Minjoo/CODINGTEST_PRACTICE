{
 "cells": [
  {
   "cell_type": "markdown",
   "metadata": {},
   "source": [
    "## 2022년 1월 12일 수요일\n",
    "### BaekJoon - 주사위 세개 (Python)   \n",
    "### 문제 : https://www.acmicpc.net/problem/2480\n",
    "### 블로그 : https://somjang.tistory.com/entry/BaekJoon-2480%EB%B2%88-%EC%A3%BC%EC%82%AC%EC%9C%84-%EC%84%B8%EA%B0%9C-Python"
   ]
  },
  {
   "cell_type": "markdown",
   "metadata": {},
   "source": [
    "### Solution"
   ]
  },
  {
   "cell_type": "code",
   "execution_count": null,
   "metadata": {},
   "outputs": [],
   "source": [
    "def three_dice(dice_numbers):\n",
    "    price = 0\n",
    "    if len(set(dice_numbers)) == 1:\n",
    "        price = 10000 + dice_numbers[0] * 1000\n",
    "    elif len(set(dice_numbers)) == 3:\n",
    "        price = max(dice_numbers) * 100\n",
    "    else:\n",
    "        price = 1000 + (sum(dice_numbers) - sum(list(set(dice_numbers)))) * 100\n",
    "    \n",
    "    return price\n",
    "\n",
    "if __name__ == \"__main__\":\n",
    "    dice_numbers = list(map(int, input().split()))\n",
    "    print(three_dice(dice_numbers))"
   ]
  }
 ],
 "metadata": {
  "kernelspec": {
   "display_name": "Python 3",
   "language": "python",
   "name": "python3"
  },
  "language_info": {
   "codemirror_mode": {
    "name": "ipython",
    "version": 3
   },
   "file_extension": ".py",
   "mimetype": "text/x-python",
   "name": "python",
   "nbconvert_exporter": "python",
   "pygments_lexer": "ipython3",
   "version": "3.7.3"
  }
 },
 "nbformat": 4,
 "nbformat_minor": 2
}
