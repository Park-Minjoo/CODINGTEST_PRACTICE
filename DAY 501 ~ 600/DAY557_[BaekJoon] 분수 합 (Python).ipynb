{
 "cells": [
  {
   "cell_type": "markdown",
   "metadata": {},
   "source": [
    "## 2021년 12월 6일 월요일\n",
    "### BaekJoon - 분수 합 (Python)   \n",
    "### 문제 : https://www.acmicpc.net/problem/1735\n",
    "### 블로그 : https://somjang.tistory.com/entry/BaekJoon-1735%EB%B2%88-%EB%B6%84%EC%88%98-%ED%95%A9-Python"
   ]
  },
  {
   "cell_type": "markdown",
   "metadata": {},
   "source": [
    "### Solution"
   ]
  },
  {
   "cell_type": "code",
   "execution_count": null,
   "metadata": {},
   "outputs": [],
   "source": [
    "from math import gcd\n",
    "\n",
    "def LCM(N, M):\n",
    "    return N*M // gcd(N, M)\n",
    "\n",
    "def GCD(N, M):\n",
    "    return gcd(N, M)\n",
    "\n",
    "def fraction_sum(frac1, frac2):\n",
    "    numerator1, denominator1 = frac1[0], frac1[1]\n",
    "    numerator2, denominator2 = frac2[0], frac2[1]\n",
    "    \n",
    "    lcm = LCM(denominator1, denominator2)\n",
    "    \n",
    "    ext_1, ext_2 = lcm // denominator1, lcm // denominator2\n",
    "    \n",
    "    numerator1, numerator2 = numerator1 * ext_1, numerator2 * ext_2\n",
    "    \n",
    "    ans_numerator, ans_denominator = numerator1 + numerator2, lcm\n",
    "    \n",
    "    gcd = GCD(ans_numerator, ans_denominator)\n",
    "    \n",
    "    if gcd != 1:\n",
    "        ans_numerator = ans_numerator // gcd\n",
    "        ans_denominator = ans_denominator // gcd\n",
    "        \n",
    "    return f\"{ans_numerator} {ans_denominator}\"\n",
    "\n",
    "\n",
    "if __name__ == \"__main__\":\n",
    "    frac1 = list(map(int, input().split()))\n",
    "    frac2 = list(map(int, input().split()))\n",
    "    print(fraction_sum(frac1, frac2))"
   ]
  }
 ],
 "metadata": {
  "kernelspec": {
   "display_name": "Python 3",
   "language": "python",
   "name": "python3"
  },
  "language_info": {
   "codemirror_mode": {
    "name": "ipython",
    "version": 3
   },
   "file_extension": ".py",
   "mimetype": "text/x-python",
   "name": "python",
   "nbconvert_exporter": "python",
   "pygments_lexer": "ipython3",
   "version": "3.7.3"
  }
 },
 "nbformat": 4,
 "nbformat_minor": 2
}
