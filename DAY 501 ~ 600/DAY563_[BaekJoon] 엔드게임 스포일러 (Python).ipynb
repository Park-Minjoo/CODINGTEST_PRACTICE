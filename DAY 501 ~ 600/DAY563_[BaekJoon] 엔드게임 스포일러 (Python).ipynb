{
 "cells": [
  {
   "cell_type": "markdown",
   "metadata": {},
   "source": [
    "## 2021년 12월 12일 일요일\n",
    "### BaekJoon - 엔드게임 스포일러 (Python)   \n",
    "### 문제 : https://www.acmicpc.net/problem/17295\n",
    "### 블로그 : https://somjang.tistory.com/entry/BaekJoon-17295%EB%B2%88-%EC%97%94%EB%93%9C%EA%B2%8C%EC%9E%84-%EC%8A%A4%ED%8F%AC%EC%9D%BC%EB%9F%AC-Python"
   ]
  },
  {
   "cell_type": "markdown",
   "metadata": {},
   "source": [
    "### Solution"
   ]
  },
  {
   "cell_type": "code",
   "execution_count": null,
   "metadata": {},
   "outputs": [],
   "source": [
    "def avengers_endgame():\n",
    "    print(\"Avengers: Endgame\")\n",
    "    \n",
    "if __name__ == \"__main__\":\n",
    "    avengers_endgame()"
   ]
  }
 ],
 "metadata": {
  "kernelspec": {
   "display_name": "Python 3",
   "language": "python",
   "name": "python3"
  },
  "language_info": {
   "codemirror_mode": {
    "name": "ipython",
    "version": 3
   },
   "file_extension": ".py",
   "mimetype": "text/x-python",
   "name": "python",
   "nbconvert_exporter": "python",
   "pygments_lexer": "ipython3",
   "version": "3.7.3"
  }
 },
 "nbformat": 4,
 "nbformat_minor": 2
}
