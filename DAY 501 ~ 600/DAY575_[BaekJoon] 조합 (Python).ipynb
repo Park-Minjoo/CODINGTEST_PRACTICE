{
 "cells": [
  {
   "cell_type": "markdown",
   "metadata": {},
   "source": [
    "## 2021년 12월 27일 월요일\n",
    "### BaekJoon - 조합 (Python)   \n",
    "### 문제 : https://www.acmicpc.net/problem/2407\n",
    "### 블로그 : https://somjang.tistory.com/entry/BaekJoon-2407%EB%B2%88-%EC%A1%B0%ED%95%A9-Python"
   ]
  },
  {
   "cell_type": "markdown",
   "metadata": {},
   "source": [
    "### Solution"
   ]
  },
  {
   "cell_type": "code",
   "execution_count": null,
   "metadata": {},
   "outputs": [],
   "source": [
    "from math import factorial\n",
    "\n",
    "def s_combination(n, m):\n",
    "    return factorial(n) // (factorial(n-m) * factorial(m))\n",
    "    \n",
    "if __name__ == \"__main__\":\n",
    "    n, m = map(int, input().split())\n",
    "    \n",
    "    print(s_combination(n, m))"
   ]
  }
 ],
 "metadata": {
  "kernelspec": {
   "display_name": "Python 3",
   "language": "python",
   "name": "python3"
  },
  "language_info": {
   "codemirror_mode": {
    "name": "ipython",
    "version": 3
   },
   "file_extension": ".py",
   "mimetype": "text/x-python",
   "name": "python",
   "nbconvert_exporter": "python",
   "pygments_lexer": "ipython3",
   "version": "3.7.3"
  }
 },
 "nbformat": 4,
 "nbformat_minor": 2
}
