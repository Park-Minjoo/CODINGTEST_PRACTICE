{
 "cells": [
  {
   "cell_type": "markdown",
   "metadata": {},
   "source": [
    "## 2021년 12월 3일 금요일\n",
    "### BaekJoon - 구간 합 구하기 4 (Python)   \n",
    "### 문제 : https://www.acmicpc.net/problem/11659\n",
    "### 블로그 : https://somjang.tistory.com/entry/BaekJoon-11659%EB%B2%88-%EA%B5%AC%EA%B0%84-%ED%95%A9-%EA%B5%AC%ED%95%98%EA%B8%B0-4-Python"
   ]
  },
  {
   "cell_type": "markdown",
   "metadata": {},
   "source": [
    "### Solution"
   ]
  },
  {
   "cell_type": "code",
   "execution_count": null,
   "metadata": {},
   "outputs": [],
   "source": [
    "from itertools import accumulate\n",
    "import sys\n",
    "\n",
    "def get_div_sum_4(numbers, i, j):\n",
    "    return numbers[j-1] - numbers[i-2]\n",
    "\n",
    "if __name__ == \"__main__\":\n",
    "    numbers_len, loop_num = map(int, sys.stdin.readline().split())\n",
    "    numbers = list(map(int, sys.stdin.readline().split()))\n",
    "    numbers = list(accumulate(numbers))\n",
    "    numbers.append(0)\n",
    "    \n",
    "    break_num = 0\n",
    "    \n",
    "    while loop_num > break_num:\n",
    "        i, j = map(int, sys.stdin.readline().split())\n",
    "        print(get_div_sum_4(numbers, i, j))\n",
    "        break_num += 1"
   ]
  }
 ],
 "metadata": {
  "kernelspec": {
   "display_name": "Python 3",
   "language": "python",
   "name": "python3"
  },
  "language_info": {
   "codemirror_mode": {
    "name": "ipython",
    "version": 3
   },
   "file_extension": ".py",
   "mimetype": "text/x-python",
   "name": "python",
   "nbconvert_exporter": "python",
   "pygments_lexer": "ipython3",
   "version": "3.7.3"
  }
 },
 "nbformat": 4,
 "nbformat_minor": 2
}
