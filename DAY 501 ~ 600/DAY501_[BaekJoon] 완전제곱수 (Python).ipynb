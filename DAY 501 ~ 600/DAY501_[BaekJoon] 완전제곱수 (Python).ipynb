{
 "cells": [
  {
   "cell_type": "markdown",
   "metadata": {},
   "source": [
    "## 2021년 10월 3일 일요일\n",
    "### BaekJoon - 완전제곱수 (Python) \n",
    "### 문제 : https://www.acmicpc.net/problem/1977\n",
    "### 블로그 : https://somjang.tistory.com/entry/BaekJoon-1977%EB%B2%88-%EC%99%84%EC%A0%84%EC%A0%9C%EA%B3%B1%EC%88%98-Python"
   ]
  },
  {
   "cell_type": "markdown",
   "metadata": {},
   "source": [
    "### Solution"
   ]
  },
  {
   "cell_type": "code",
   "execution_count": null,
   "metadata": {},
   "outputs": [],
   "source": [
    "def get_perfect_square_numbers():\n",
    "    return [pow(num, 2) for num in range(1, 101)]\n",
    "\n",
    "def perfect_square(num1, num2, perfect_square_numbers):\n",
    "    square_num = [num for num in perfect_square_numbers if num1 <= num <= num2]\n",
    "    \n",
    "    if len(square_num) == 0:\n",
    "        answer = [-1]\n",
    "    else:\n",
    "        answer = sum(square_num), min(square_num)\n",
    "    \n",
    "    return answer\n",
    "    \n",
    "    \n",
    "    \n",
    "if __name__ == \"__main__\":\n",
    "    num1 = int(input())\n",
    "    num2 = int(input())\n",
    "    \n",
    "    perfect_square_numbers = get_perfect_square_numbers()\n",
    "    answer = perfect_square(num1, num2, perfect_square_numbers)\n",
    "    \n",
    "    for num in answer:\n",
    "        print(num)"
   ]
  }
 ],
 "metadata": {
  "kernelspec": {
   "display_name": "Python 3",
   "language": "python",
   "name": "python3"
  },
  "language_info": {
   "codemirror_mode": {
    "name": "ipython",
    "version": 3
   },
   "file_extension": ".py",
   "mimetype": "text/x-python",
   "name": "python",
   "nbconvert_exporter": "python",
   "pygments_lexer": "ipython3",
   "version": "3.7.3"
  }
 },
 "nbformat": 4,
 "nbformat_minor": 2
}
