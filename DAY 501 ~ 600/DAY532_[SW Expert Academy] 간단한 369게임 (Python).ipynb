{
 "cells": [
  {
   "cell_type": "markdown",
   "metadata": {},
   "source": [
    "## 2021년 11월 10일 수요일\n",
    "### SW Expert Academy - 간단한 369게임 (Python)   \n",
    "### 문제 : https://swexpertacademy.com/main/code/problem/problemDetail.do?problemLevel=2&contestProbId=AV5PTeo6AHUDFAUq&categoryId=AV5PTeo6AHUDFAUq&categoryType=CODE&problemTitle=&orderBy=FIRST_REG_DATETIME&selectCodeLang=PYTHON&select-1=2&pageSize=10&pageIndex=1\n",
    "### 블로그 : https://somjang.tistory.com/entry/SW-Expert-Academy-1926%EB%B2%88-%EA%B0%84%EB%8B%A8%ED%95%9C-369%EA%B2%8C%EC%9E%84-Python"
   ]
  },
  {
   "cell_type": "markdown",
   "metadata": {},
   "source": [
    "### Solution"
   ]
  },
  {
   "cell_type": "code",
   "execution_count": null,
   "metadata": {},
   "outputs": [],
   "source": [
    "def convert_num_to_clap(num):\n",
    "    check_num1, check_num2, check_num3 = '3', '6', '9'\n",
    "    \n",
    "    num = str(num)\n",
    "    \n",
    "    count_num = num.count(check_num1) + num.count(check_num2) + num.count(check_num3)\n",
    "    \n",
    "    return \"-\" * count_num if count_num > 0 else num\n",
    "    \n",
    "    \n",
    "\n",
    "def sam_yook_gu(N):\n",
    "    nums = list(range(1, N+1))\n",
    "    \n",
    "    nums = [convert_num_to_clap(num) for num in nums]\n",
    "    \n",
    "    return \" \".join(nums)\n",
    "\n",
    "if __name__ == \"__main__\":\n",
    "    N = int(input())\n",
    "    print(sam_yook_gu(N))"
   ]
  }
 ],
 "metadata": {
  "kernelspec": {
   "display_name": "Python 3",
   "language": "python",
   "name": "python3"
  },
  "language_info": {
   "codemirror_mode": {
    "name": "ipython",
    "version": 3
   },
   "file_extension": ".py",
   "mimetype": "text/x-python",
   "name": "python",
   "nbconvert_exporter": "python",
   "pygments_lexer": "ipython3",
   "version": "3.7.3"
  }
 },
 "nbformat": 4,
 "nbformat_minor": 2
}
