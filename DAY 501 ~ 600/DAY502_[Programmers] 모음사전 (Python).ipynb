{
 "cells": [
  {
   "cell_type": "markdown",
   "metadata": {},
   "source": [
    "## 2021년 10월 4일 월요일\n",
    "### Programmers - 위클리 챌린지 5주차 - 모음사전 (Python) \n",
    "### 문제 : https://programmers.co.kr/learn/courses/30/lessons/84512\n",
    "### 블로그 : https://somjang.tistory.com/entry/Programmers-%EC%9C%84%ED%81%B4%EB%A6%AC-%EC%B1%8C%EB%A6%B0%EC%A7%80-5%EC%A3%BC%EC%B0%A8-%EB%AA%A8%EC%9D%8C%EC%82%AC%EC%A0%84-Python"
   ]
  },
  {
   "cell_type": "markdown",
   "metadata": {},
   "source": [
    "### Solution"
   ]
  },
  {
   "cell_type": "code",
   "execution_count": null,
   "metadata": {},
   "outputs": [],
   "source": [
    "from itertools import product\n",
    "\n",
    "def solution(word):\n",
    "    vowels = 'AEIOU'\n",
    "    vowels1 = list(vowels)\n",
    "    vowels2 = [''.join(word) for word in list(product(vowels, repeat=2))]\n",
    "    vowels3 = [''.join(word) for word in list(product(vowels, repeat=3))]\n",
    "    vowels4 = [''.join(word) for word in list(product(vowels, repeat=4))]\n",
    "    vowels5 = [''.join(word) for word in list(product(vowels, repeat=5))]\n",
    "    \n",
    "    vowel_dict = vowels1 + vowels2 + vowels3 + vowels4 + vowels5\n",
    "    \n",
    "    vowel_dict.sort()\n",
    "    \n",
    "    return vowel_dict.index(word) + 1"
   ]
  }
 ],
 "metadata": {
  "kernelspec": {
   "display_name": "Python 3",
   "language": "python",
   "name": "python3"
  },
  "language_info": {
   "codemirror_mode": {
    "name": "ipython",
    "version": 3
   },
   "file_extension": ".py",
   "mimetype": "text/x-python",
   "name": "python",
   "nbconvert_exporter": "python",
   "pygments_lexer": "ipython3",
   "version": "3.7.3"
  }
 },
 "nbformat": 4,
 "nbformat_minor": 2
}
