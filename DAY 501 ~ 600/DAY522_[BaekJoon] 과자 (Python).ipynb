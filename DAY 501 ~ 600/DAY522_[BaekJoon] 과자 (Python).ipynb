{
 "cells": [
  {
   "cell_type": "markdown",
   "metadata": {},
   "source": [
    "## 2021년 10월 25일 월요일\n",
    "### BaekJoon - 과자 (Python)  \n",
    "### 문제 : https://www.acmicpc.net/problem/10156\n",
    "### 블로그 : https://somjang.tistory.com/entry/BaekJoon-10156%EB%B2%88-%EA%B3%BC%EC%9E%90-Python"
   ]
  },
  {
   "cell_type": "markdown",
   "metadata": {},
   "source": [
    "### Solution"
   ]
  },
  {
   "cell_type": "code",
   "execution_count": null,
   "metadata": {},
   "outputs": [],
   "source": [
    "def snack(K, N, M):\n",
    "    more_money = K * N - M\n",
    "    \n",
    "    if more_money < 0:\n",
    "        more_money = 0\n",
    "        \n",
    "    return more_money\n",
    "\n",
    "if __name__ == \"__main__\":\n",
    "    K, N, M = map(int, input().split())\n",
    "    print(snack(K, N, M))"
   ]
  }
 ],
 "metadata": {
  "kernelspec": {
   "display_name": "Python 3",
   "language": "python",
   "name": "python3"
  },
  "language_info": {
   "codemirror_mode": {
    "name": "ipython",
    "version": 3
   },
   "file_extension": ".py",
   "mimetype": "text/x-python",
   "name": "python",
   "nbconvert_exporter": "python",
   "pygments_lexer": "ipython3",
   "version": "3.7.3"
  }
 },
 "nbformat": 4,
 "nbformat_minor": 2
}
