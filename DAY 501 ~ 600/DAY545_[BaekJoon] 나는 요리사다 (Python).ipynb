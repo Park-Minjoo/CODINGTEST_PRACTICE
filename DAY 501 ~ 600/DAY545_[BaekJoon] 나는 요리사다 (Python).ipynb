{
 "cells": [
  {
   "cell_type": "markdown",
   "metadata": {},
   "source": [
    "## 2021년 11월 24일 수요일\n",
    "### BaekJoon - 나는 요리사다 (Python)   \n",
    "### 문제 : https://www.acmicpc.net/problem/2953\n",
    "### 블로그 : https://somjang.tistory.com/entry/BaekJoon-2953%EB%B2%88-%EB%82%98%EB%8A%94-%EC%9A%94%EB%A6%AC%EC%82%AC%EB%8B%A4-Python"
   ]
  },
  {
   "cell_type": "markdown",
   "metadata": {},
   "source": [
    "### Solution"
   ]
  },
  {
   "cell_type": "code",
   "execution_count": null,
   "metadata": {},
   "outputs": [],
   "source": [
    "def i_am_chef(score_list):\n",
    "    rank_dict = {}\n",
    "    \n",
    "    for idx in range(len(score_list)):\n",
    "        rank_dict[idx+1] = sum(score_list[idx])\n",
    "        \n",
    "    sorted_rank = sorted(rank_dict.items(), key=lambda x: -x[1])\n",
    "    \n",
    "    winner = sorted_rank[0]\n",
    "    \n",
    "    return winner\n",
    "\n",
    "if __name__ == \"__main__\":\n",
    "    score_list = []\n",
    "    for _ in range(5):\n",
    "        score = list(map(int, input().split()))\n",
    "        score_list.append(score)\n",
    "        \n",
    "    winner = i_am_chef(score_list)\n",
    "    print(winner[0], winner[1])"
   ]
  }
 ],
 "metadata": {
  "kernelspec": {
   "display_name": "Python 3",
   "language": "python",
   "name": "python3"
  },
  "language_info": {
   "codemirror_mode": {
    "name": "ipython",
    "version": 3
   },
   "file_extension": ".py",
   "mimetype": "text/x-python",
   "name": "python",
   "nbconvert_exporter": "python",
   "pygments_lexer": "ipython3",
   "version": "3.7.3"
  }
 },
 "nbformat": 4,
 "nbformat_minor": 2
}
