{
 "cells": [
  {
   "cell_type": "markdown",
   "metadata": {},
   "source": [
    "## 2021년 10월 23일 토요일\n",
    "### BaekJoon - 숫자 카드 (Python) \n",
    "### 문제 : https://www.acmicpc.net/problem/10815\n",
    "### 블로그 : https://somjang.tistory.com/entry/BaekJoon-10815%EB%B2%88-%EC%88%AB%EC%9E%90-%EC%B9%B4%EB%93%9C-Python"
   ]
  },
  {
   "cell_type": "markdown",
   "metadata": {},
   "source": [
    "### Solution"
   ]
  },
  {
   "cell_type": "code",
   "execution_count": null,
   "metadata": {},
   "outputs": [],
   "source": [
    "import sys\n",
    "\n",
    "def make_answer(answer, check_dict, temp):\n",
    "    try:\n",
    "        check = check_dict[temp]\n",
    "        temp = \"\"\n",
    "        answer.append(\"1\")\n",
    "    except:\n",
    "        answer.append(\"0\")\n",
    "        temp = \"\"\n",
    "        \n",
    "    return answer, temp\n",
    "\n",
    "\n",
    "def number_card(my_numbers, check_numbers):\n",
    "    answer = []\n",
    "    check_dict = {}\n",
    "    temp = \"\"\n",
    "    for num in my_numbers:\n",
    "        if num.isdigit() or num == \"-\":\n",
    "            temp += num\n",
    "        elif num == \" \":\n",
    "            check_dict[temp] = 0\n",
    "            temp = \"\"\n",
    "    check_dict[temp] = 0\n",
    "    temp = \"\"    \n",
    "    for num in check_numbers:\n",
    "        if num.isdigit() or num == \"-\":\n",
    "            temp += num\n",
    "        elif num == \" \":\n",
    "            answer, temp = make_answer(answer, check_dict, temp)\n",
    "\n",
    "    if temp != \"\":\n",
    "        answer, temp = make_answer(answer, check_dict, temp)\n",
    "            \n",
    "    return \" \".join(answer)\n",
    "\n",
    "if __name__ == \"__main__\":\n",
    "    N = int(input())\n",
    "    my_numbers = input()\n",
    "    M = int(input())\n",
    "    check_numbers = input()\n",
    "    print(number_card(my_numbers, check_numbers))"
   ]
  }
 ],
 "metadata": {
  "kernelspec": {
   "display_name": "Python 3",
   "language": "python",
   "name": "python3"
  },
  "language_info": {
   "codemirror_mode": {
    "name": "ipython",
    "version": 3
   },
   "file_extension": ".py",
   "mimetype": "text/x-python",
   "name": "python",
   "nbconvert_exporter": "python",
   "pygments_lexer": "ipython3",
   "version": "3.7.3"
  }
 },
 "nbformat": 4,
 "nbformat_minor": 2
}
