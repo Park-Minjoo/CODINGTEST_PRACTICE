{
 "cells": [
  {
   "cell_type": "markdown",
   "metadata": {},
   "source": [
    "## 2021년 10월 12일 화요일\n",
    "### BaekJoon - 단어순서 뒤집기 (Python) \n",
    "### 문제 : https://www.acmicpc.net/problem/12605\n",
    "### 블로그 : https://somjang.tistory.com/entry/BaekJoon-12605%EB%B2%88-%EB%8B%A8%EC%96%B4%EC%88%9C%EC%84%9C-%EB%92%A4%EC%A7%91%EA%B8%B0-Python"
   ]
  },
  {
   "cell_type": "markdown",
   "metadata": {},
   "source": [
    "### Solution"
   ]
  },
  {
   "cell_type": "code",
   "execution_count": null,
   "metadata": {},
   "outputs": [],
   "source": [
    "def filp_words(idx, word_list):\n",
    "    word_list = word_list.split()\n",
    "    word_list = word_list[::-1]\n",
    "    answer = \" \".join(word_list)\n",
    "    return f\"Case #{idx + 1}: {answer}\"\n",
    "\n",
    "if __name__ == \"__main__\":\n",
    "    for i in range(int(input())):\n",
    "        word_list = input()\n",
    "        print(filp_words(i, word_list))"
   ]
  }
 ],
 "metadata": {
  "kernelspec": {
   "display_name": "Python 3",
   "language": "python",
   "name": "python3"
  },
  "language_info": {
   "codemirror_mode": {
    "name": "ipython",
    "version": 3
   },
   "file_extension": ".py",
   "mimetype": "text/x-python",
   "name": "python",
   "nbconvert_exporter": "python",
   "pygments_lexer": "ipython3",
   "version": "3.7.3"
  }
 },
 "nbformat": 4,
 "nbformat_minor": 2
}
