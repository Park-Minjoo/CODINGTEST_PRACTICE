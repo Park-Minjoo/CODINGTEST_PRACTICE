{
 "cells": [
  {
   "cell_type": "markdown",
   "metadata": {},
   "source": [
    "## 2021년 10월 15일 금요일\n",
    "### BaekJoon - 배열 합치기 (Python) \n",
    "### 문제 : https://www.acmicpc.net/problem/11728\n",
    "### 블로그 : https://somjang.tistory.com/entry/BaekJoon-11728%EB%B2%88-%EB%B0%B0%EC%97%B4-%ED%95%A9%EC%B9%98%EA%B8%B0-Python"
   ]
  },
  {
   "cell_type": "markdown",
   "metadata": {},
   "source": [
    "### Solution"
   ]
  },
  {
   "cell_type": "code",
   "execution_count": null,
   "metadata": {},
   "outputs": [],
   "source": [
    "def combine_two_array(array1, array2):\n",
    "    array1 = array1.split()\n",
    "    array2 = array2.split()\n",
    "    \n",
    "    combine_array = array1 + array2\n",
    "    \n",
    "    combine_array = list(map(int, combine_array))\n",
    "    \n",
    "    combine_array = list(map(str, sorted(combine_array)))\n",
    "    \n",
    "    return \" \".join(combine_array)\n",
    "\n",
    "\n",
    "if __name__ == \"__main__\":\n",
    "    _ = input()\n",
    "    array1 = input()\n",
    "    array2 = input()\n",
    "    print(combine_two_array(array1, array2))"
   ]
  }
 ],
 "metadata": {
  "kernelspec": {
   "display_name": "Python 3",
   "language": "python",
   "name": "python3"
  },
  "language_info": {
   "codemirror_mode": {
    "name": "ipython",
    "version": 3
   },
   "file_extension": ".py",
   "mimetype": "text/x-python",
   "name": "python",
   "nbconvert_exporter": "python",
   "pygments_lexer": "ipython3",
   "version": "3.7.3"
  }
 },
 "nbformat": 4,
 "nbformat_minor": 2
}
