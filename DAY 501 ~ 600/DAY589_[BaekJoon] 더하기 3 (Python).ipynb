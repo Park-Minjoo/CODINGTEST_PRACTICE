{
 "cells": [
  {
   "cell_type": "markdown",
   "metadata": {},
   "source": [
    "## 2022년 1월 10일 월요일\n",
    "### BaekJoon - 더하기 3 (Python)   \n",
    "### 문제 : https://www.acmicpc.net/problem/11023\n",
    "### 블로그 : https://somjang.tistory.com/entry/BaekJoon-11023%EB%B2%88-%EB%8D%94%ED%95%98%EA%B8%B0-3-Python"
   ]
  },
  {
   "cell_type": "markdown",
   "metadata": {},
   "source": [
    "### Solution"
   ]
  },
  {
   "cell_type": "code",
   "execution_count": null,
   "metadata": {},
   "outputs": [],
   "source": [
    "def plus_3(numbers):\n",
    "    numbers = list(map(int, numbers.split()))\n",
    "    \n",
    "    return sum(numbers)\n",
    "\n",
    "if __name__ == \"__main__\":\n",
    "    numbers = input()\n",
    "    print(plus_3(numbers))"
   ]
  }
 ],
 "metadata": {
  "kernelspec": {
   "display_name": "Python 3",
   "language": "python",
   "name": "python3"
  },
  "language_info": {
   "codemirror_mode": {
    "name": "ipython",
    "version": 3
   },
   "file_extension": ".py",
   "mimetype": "text/x-python",
   "name": "python",
   "nbconvert_exporter": "python",
   "pygments_lexer": "ipython3",
   "version": "3.7.3"
  }
 },
 "nbformat": 4,
 "nbformat_minor": 2
}
