{
 "cells": [
  {
   "cell_type": "markdown",
   "metadata": {},
   "source": [
    "## 2021년 10월 16일 토요일\n",
    "### BaekJoon - 팬그램 (Python) \n",
    "### 문제 : https://www.acmicpc.net/problem/5704\n",
    "### 블로그 : https://somjang.tistory.com/entry/BaekJoon-5704%EB%B2%88-%ED%8C%AC%EA%B7%B8%EB%9E%A8-Python"
   ]
  },
  {
   "cell_type": "markdown",
   "metadata": {},
   "source": [
    "### Solution"
   ]
  },
  {
   "cell_type": "code",
   "execution_count": null,
   "metadata": {},
   "outputs": [],
   "source": [
    "from collections import Counter\n",
    "\n",
    "def pangram(string):\n",
    "    answer = \"N\"\n",
    "    string = string.replace(\" \", \"\")\n",
    "    cnt = Counter(string)\n",
    "    \n",
    "    if len(cnt.keys()) == 26:\n",
    "        answer = \"Y\"\n",
    "        \n",
    "    return answer\n",
    "\n",
    "if __name__ == \"__main__\":\n",
    "    while True:\n",
    "        string = input()\n",
    "        if string == \"*\":\n",
    "            break\n",
    "            \n",
    "        print(pangram(string))"
   ]
  }
 ],
 "metadata": {
  "kernelspec": {
   "display_name": "Python 3",
   "language": "python",
   "name": "python3"
  },
  "language_info": {
   "codemirror_mode": {
    "name": "ipython",
    "version": 3
   },
   "file_extension": ".py",
   "mimetype": "text/x-python",
   "name": "python",
   "nbconvert_exporter": "python",
   "pygments_lexer": "ipython3",
   "version": "3.7.3"
  }
 },
 "nbformat": 4,
 "nbformat_minor": 2
}
