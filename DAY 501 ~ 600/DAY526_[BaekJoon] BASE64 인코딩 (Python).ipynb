{
 "cells": [
  {
   "cell_type": "markdown",
   "metadata": {},
   "source": [
    "## 2021년 11월 2일 화요일\n",
    "### BaekJoon - BASE64 인코딩 (Python)   \n",
    "### 문제 : https://www.acmicpc.net/problem/10935\n",
    "### 블로그 : https://somjang.tistory.com/entry/BaekJoon-10935%EB%B2%88-BASE64-%EC%9D%B8%EC%BD%94%EB%94%A9-Python"
   ]
  },
  {
   "cell_type": "markdown",
   "metadata": {},
   "source": [
    "### Solution"
   ]
  },
  {
   "cell_type": "code",
   "execution_count": null,
   "metadata": {},
   "outputs": [],
   "source": [
    "import base64\n",
    "\n",
    "def base64_encoding(string):\n",
    "    return str(base64.b64encode(string.encode('ascii')))[2:-1]\n",
    "\n",
    "\n",
    "if __name__ == \"__main__\":\n",
    "    string = input()\n",
    "    print(base64_encoding(string))"
   ]
  }
 ],
 "metadata": {
  "kernelspec": {
   "display_name": "Python 3",
   "language": "python",
   "name": "python3"
  },
  "language_info": {
   "codemirror_mode": {
    "name": "ipython",
    "version": 3
   },
   "file_extension": ".py",
   "mimetype": "text/x-python",
   "name": "python",
   "nbconvert_exporter": "python",
   "pygments_lexer": "ipython3",
   "version": "3.7.3"
  }
 },
 "nbformat": 4,
 "nbformat_minor": 2
}
