{
 "cells": [
  {
   "cell_type": "markdown",
   "metadata": {},
   "source": [
    "## 2021년 12월 31일 금요일 - 2021 올해 마지막!\n",
    "### BaekJoon - 별 찍기 - 17 (Python)   \n",
    "### 문제 : https://www.acmicpc.net/problem/10992\n",
    "### 블로그 : https://somjang.tistory.com/entry/BaekJoon-10992%EB%B2%88-%EB%B3%84-%EC%B0%8D%EA%B8%B0-17-Python"
   ]
  },
  {
   "cell_type": "markdown",
   "metadata": {},
   "source": [
    "### Solution"
   ]
  },
  {
   "cell_type": "code",
   "execution_count": null,
   "metadata": {},
   "outputs": [],
   "source": [
    "def print_stars(N):\n",
    "    for i in range(1, N):\n",
    "        if i == 1:\n",
    "            print(f\"{' ' * (N-i)}{'*'}\")\n",
    "        else:\n",
    "            print(f\"{' '* (N-i)}{'*'}{' '*(2 * i - 3)}{'*'}\")\n",
    "\n",
    "    print(\"*\" * (2 * N -1))\n",
    "              \n",
    "if __name__ == \"__main__\":\n",
    "    N = int(input())\n",
    "    print_stars(N)"
   ]
  }
 ],
 "metadata": {
  "kernelspec": {
   "display_name": "Python 3",
   "language": "python",
   "name": "python3"
  },
  "language_info": {
   "codemirror_mode": {
    "name": "ipython",
    "version": 3
   },
   "file_extension": ".py",
   "mimetype": "text/x-python",
   "name": "python",
   "nbconvert_exporter": "python",
   "pygments_lexer": "ipython3",
   "version": "3.7.3"
  }
 },
 "nbformat": 4,
 "nbformat_minor": 2
}
