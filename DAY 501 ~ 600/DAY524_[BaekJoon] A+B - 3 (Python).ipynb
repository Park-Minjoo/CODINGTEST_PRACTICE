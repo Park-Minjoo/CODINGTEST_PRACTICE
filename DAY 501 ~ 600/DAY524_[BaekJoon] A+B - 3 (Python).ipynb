{
 "cells": [
  {
   "cell_type": "markdown",
   "metadata": {},
   "source": [
    "## 2021년 10월 29일 금요일\n",
    "### BaekJoon - A+B - 3 (Python)  \n",
    "### 문제 : https://www.acmicpc.net/problem/10950\n",
    "### 블로그 : https://somjang.tistory.com/entry/BaekJoon-AB-3-Python"
   ]
  },
  {
   "cell_type": "markdown",
   "metadata": {},
   "source": [
    "### Solution"
   ]
  },
  {
   "cell_type": "code",
   "execution_count": null,
   "metadata": {},
   "outputs": [],
   "source": [
    "def A_PLUS_B_3(nums):\n",
    "    num1, num2 = map(int, nums.split())\n",
    "    return num1 + num2\n",
    "\n",
    "if __name__ == \"__main__\":\n",
    "    for _ in range(int(input())):\n",
    "        num = input()\n",
    "        print(A_PLUS_B_3(num))"
   ]
  }
 ],
 "metadata": {
  "kernelspec": {
   "display_name": "Python 3",
   "language": "python",
   "name": "python3"
  },
  "language_info": {
   "codemirror_mode": {
    "name": "ipython",
    "version": 3
   },
   "file_extension": ".py",
   "mimetype": "text/x-python",
   "name": "python",
   "nbconvert_exporter": "python",
   "pygments_lexer": "ipython3",
   "version": "3.7.3"
  }
 },
 "nbformat": 4,
 "nbformat_minor": 2
}
