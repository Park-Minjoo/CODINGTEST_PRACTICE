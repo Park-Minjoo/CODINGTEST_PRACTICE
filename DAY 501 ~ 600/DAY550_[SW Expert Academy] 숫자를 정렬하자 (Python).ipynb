{
 "cells": [
  {
   "cell_type": "markdown",
   "metadata": {},
   "source": [
    "## 2021년 11월 29일 월요일\n",
    "### SW Expert Academy - 숫자를 정렬하자 (Python)   \n",
    "### 문제 : https://swexpertacademy.com/main/code/problem/problemDetail.do?problemLevel=2&contestProbId=AV5PrmyKAWEDFAUq&categoryId=AV5PrmyKAWEDFAUq&categoryType=CODE&problemTitle=&orderBy=FIRST_REG_DATETIME&selectCodeLang=PYTHON&select-1=2&pageSize=10&pageIndex=2\n",
    "### 블로그 : https://somjang.tistory.com/entry/SW-Expert-Academy-1966%EB%B2%88-%EC%88%AB%EC%9E%90%EB%A5%BC-%EC%A0%95%EB%A0%AC%ED%95%98%EC%9E%90-Python"
   ]
  },
  {
   "cell_type": "markdown",
   "metadata": {},
   "source": [
    "### Solution"
   ]
  },
  {
   "cell_type": "code",
   "execution_count": null,
   "metadata": {},
   "outputs": [],
   "source": [
    "def sort_numbers(numbers):\n",
    "    numbers = list(map(str, sorted(numbers)))\n",
    "    \n",
    "    return \" \".join(numbers)\n",
    "\n",
    "if __name__ == \"__main__\":\n",
    "    for idx in range(int(input())):\n",
    "        N = int(input())\n",
    "        numbers = list(map(int, input().split()))\n",
    "        print(f\"#{idx+1} {sort_numbers(numbers)}\")"
   ]
  }
 ],
 "metadata": {
  "kernelspec": {
   "display_name": "Python 3",
   "language": "python",
   "name": "python3"
  },
  "language_info": {
   "codemirror_mode": {
    "name": "ipython",
    "version": 3
   },
   "file_extension": ".py",
   "mimetype": "text/x-python",
   "name": "python",
   "nbconvert_exporter": "python",
   "pygments_lexer": "ipython3",
   "version": "3.7.3"
  }
 },
 "nbformat": 4,
 "nbformat_minor": 2
}
