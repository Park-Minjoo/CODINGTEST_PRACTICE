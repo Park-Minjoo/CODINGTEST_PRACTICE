{
 "cells": [
  {
   "cell_type": "markdown",
   "metadata": {},
   "source": [
    "## 2021년 12월 4일 토요일\n",
    "### BaekJoon - 빈도 정렬 (Python)   \n",
    "### 문제 : https://www.acmicpc.net/problem/2910\n",
    "### 블로그 : https://somjang.tistory.com/entry/BaekJoon-2910%EB%B2%88-%EB%B9%88%EB%8F%84-%EC%A0%95%EB%A0%AC-Python"
   ]
  },
  {
   "cell_type": "markdown",
   "metadata": {},
   "source": [
    "### Solution"
   ]
  },
  {
   "cell_type": "code",
   "execution_count": null,
   "metadata": {},
   "outputs": [],
   "source": [
    "import sys\n",
    "\n",
    "def frequency_sorting(numbers):\n",
    "    order_cnt_dict = {}\n",
    "    priority_dict = {}\n",
    "    \n",
    "    for idx, number in enumerate(numbers):\n",
    "        if number not in order_cnt_dict.keys():\n",
    "            order_cnt_dict[number] = [0, idx]\n",
    "            \n",
    "        order_cnt_dict[number][0] += 1\n",
    "    \n",
    "    order_cnt_items = order_cnt_dict.items()\n",
    "    \n",
    "    sorted_numbers = [num[0] for num in sorted(order_cnt_items, key=lambda x: (-x[1][0], x[1][1]))]\n",
    "    \n",
    "    for idx, num in enumerate(sorted_numbers):\n",
    "        priority_dict[num] = idx\n",
    "        \n",
    "    numbers = sorted(numbers, key=(lambda x: priority_dict[x]))\n",
    "    \n",
    "    return \" \".join(map(str, numbers))\n",
    "        \n",
    "    \n",
    "    \n",
    "        \n",
    "if __name__ == \"__main__\":\n",
    "    N, C = map(int, input().split())\n",
    "    numbers = list(map(int, input().split()))\n",
    "    \n",
    "    print(frequency_sorting(numbers))"
   ]
  }
 ],
 "metadata": {
  "kernelspec": {
   "display_name": "Python 3",
   "language": "python",
   "name": "python3"
  },
  "language_info": {
   "codemirror_mode": {
    "name": "ipython",
    "version": 3
   },
   "file_extension": ".py",
   "mimetype": "text/x-python",
   "name": "python",
   "nbconvert_exporter": "python",
   "pygments_lexer": "ipython3",
   "version": "3.7.3"
  }
 },
 "nbformat": 4,
 "nbformat_minor": 2
}
