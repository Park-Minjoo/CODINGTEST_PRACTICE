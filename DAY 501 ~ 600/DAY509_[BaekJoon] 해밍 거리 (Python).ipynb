{
 "cells": [
  {
   "cell_type": "markdown",
   "metadata": {},
   "source": [
    "## 2021년 10월 11일 월요일\n",
    "### BaekJoon - 해밍 거리 (Python) \n",
    "### 문제 : https://www.acmicpc.net/problem/3449\n",
    "### 블로그 : https://somjang.tistory.com/entry/BaekJoon-3449%EB%B2%88-%ED%95%B4%EB%B0%8D-%EA%B1%B0%EB%A6%AC-Python"
   ]
  },
  {
   "cell_type": "markdown",
   "metadata": {},
   "source": [
    "### Solution"
   ]
  },
  {
   "cell_type": "code",
   "execution_count": null,
   "metadata": {},
   "outputs": [],
   "source": [
    "def hamming_distance(num1, num2):\n",
    "    distance = 0\n",
    "    for n1, n2 in zip(num1, num2):\n",
    "        if n1 != n2:\n",
    "            distance += 1\n",
    "\n",
    "    return f\"Hamming distance is {distance}.\"\n",
    "\n",
    "if __name__ == \"__main__\":\n",
    "    for _ in range(int(input())):\n",
    "        num1 = input()\n",
    "        num2 = input()\n",
    "        print(hamming_distance(num1, num2))"
   ]
  }
 ],
 "metadata": {
  "kernelspec": {
   "display_name": "Python 3",
   "language": "python",
   "name": "python3"
  },
  "language_info": {
   "codemirror_mode": {
    "name": "ipython",
    "version": 3
   },
   "file_extension": ".py",
   "mimetype": "text/x-python",
   "name": "python",
   "nbconvert_exporter": "python",
   "pygments_lexer": "ipython3",
   "version": "3.7.3"
  }
 },
 "nbformat": 4,
 "nbformat_minor": 2
}
