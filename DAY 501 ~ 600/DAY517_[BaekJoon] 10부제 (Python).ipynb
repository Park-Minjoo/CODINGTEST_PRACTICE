{
 "cells": [
  {
   "cell_type": "markdown",
   "metadata": {},
   "source": [
    "## 2021년 10월 19일 화요일\n",
    "### BaekJoon - 10부제 (Python) \n",
    "### 문제 : https://www.acmicpc.net/problem/10797\n",
    "### 블로그 : https://somjang.tistory.com/entry/BaekJoon-10797%EB%B2%88-10%EB%B6%80%EC%A0%9C-Python"
   ]
  },
  {
   "cell_type": "markdown",
   "metadata": {},
   "source": [
    "### Solution"
   ]
  },
  {
   "cell_type": "code",
   "execution_count": null,
   "metadata": {},
   "outputs": [],
   "source": [
    "def ten_day_roattion_system(violate_num, car_numbers):\n",
    "    answer = 0\n",
    "    car_numbers = car_numbers.split()\n",
    "    \n",
    "    for car_number in car_numbers:\n",
    "        if car_number[-1] == violate_num:\n",
    "            answer += 1\n",
    "            \n",
    "    return answer\n",
    "    \n",
    "if __name__ == \"__main__\":\n",
    "    violate_num = input()\n",
    "    car_numbers = input()\n",
    "    print(ten_day_roattion_system(violate_num, car_numbers))"
   ]
  }
 ],
 "metadata": {
  "kernelspec": {
   "display_name": "Python 3",
   "language": "python",
   "name": "python3"
  },
  "language_info": {
   "codemirror_mode": {
    "name": "ipython",
    "version": 3
   },
   "file_extension": ".py",
   "mimetype": "text/x-python",
   "name": "python",
   "nbconvert_exporter": "python",
   "pygments_lexer": "ipython3",
   "version": "3.7.3"
  }
 },
 "nbformat": 4,
 "nbformat_minor": 2
}
