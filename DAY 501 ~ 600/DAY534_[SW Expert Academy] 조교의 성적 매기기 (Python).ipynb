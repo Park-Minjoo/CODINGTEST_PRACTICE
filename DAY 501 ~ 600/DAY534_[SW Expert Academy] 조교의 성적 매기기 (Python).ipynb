{
 "cells": [
  {
   "cell_type": "markdown",
   "metadata": {},
   "source": [
    "## 2021년 11월 12일 금요일\n",
    "### SW Expert Academy - 조교의 성적 매기기 (Python)   \n",
    "### 문제 : https://swexpertacademy.com/main/code/problem/problemDetail.do?problemLevel=2&contestProbId=AV5PwGK6AcIDFAUq&categoryId=AV5PwGK6AcIDFAUq&categoryType=CODE&problemTitle=&orderBy=FIRST_REG_DATETIME&selectCodeLang=PYTHON&select-1=2&pageSize=10&pageIndex=1\n",
    "### 블로그 : https://somjang.tistory.com/entry/SW-Expert-Academy-1983%EB%B2%88-%EC%A1%B0%EA%B5%90%EC%9D%98-%EC%84%B1%EC%A0%81-%EB%A7%A4%EA%B8%B0%EA%B8%B0-Python"
   ]
  },
  {
   "cell_type": "markdown",
   "metadata": {},
   "source": [
    "### Solution"
   ]
  },
  {
   "cell_type": "code",
   "execution_count": null,
   "metadata": {},
   "outputs": [],
   "source": [
    "def assistant_grades(student_num, want_num, score_list):\n",
    "    grade_list = [\"A+\", \"A0\", \"A-\", \"B+\", \"B0\", \"B-\", \"C+\", \"C0\", \"C-\", \"D0\"]\n",
    "    \n",
    "    each_grade_num = student_num // 10\n",
    "    \n",
    "    grade_check_dict, rank_dict = {}, {}\n",
    "    for idx, score_info in enumerate(score_list):\n",
    "        total_score = score_info[0] * 0.35 + score_info[1] * 0.45 + score_info[2] * 0.20\n",
    "        \n",
    "        grade_check_dict[idx + 1] = total_score\n",
    "        \n",
    "    sorted_score = sorted(grade_check_dict.items(), key=lambda x: -x[1])\n",
    "    \n",
    "    for idx, score in enumerate(sorted_score):\n",
    "        rank_dict[score[0]] = idx\n",
    "    \n",
    "    return grade_list[rank_dict[want_num] // each_grade_num]\n",
    "\n",
    "\n",
    "if __name__ \"__main__\":\n",
    "    for idx in range(int(input())):\n",
    "        student_num, want_num = map(int, input().split())\n",
    "        score_list = []\n",
    "        for _ in range(student_num):\n",
    "            score1, score2, score3 = map(int, input().split())\n",
    "            score_list.append([score1, score2, score3])\n",
    "            \n",
    "        print(f\"#{idx} {assistant_grades(student_num, want_num, score_list)}\")"
   ]
  }
 ],
 "metadata": {
  "kernelspec": {
   "display_name": "Python 3",
   "language": "python",
   "name": "python3"
  },
  "language_info": {
   "codemirror_mode": {
    "name": "ipython",
    "version": 3
   },
   "file_extension": ".py",
   "mimetype": "text/x-python",
   "name": "python",
   "nbconvert_exporter": "python",
   "pygments_lexer": "ipython3",
   "version": "3.7.3"
  }
 },
 "nbformat": 4,
 "nbformat_minor": 2
}
