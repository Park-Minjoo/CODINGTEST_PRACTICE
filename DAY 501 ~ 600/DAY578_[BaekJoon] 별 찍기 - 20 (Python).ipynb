{
 "cells": [
  {
   "cell_type": "markdown",
   "metadata": {},
   "source": [
    "## 2021년 12월 30일 목요일\n",
    "### BaekJoon - 별 찍기 - 20 (Python)   \n",
    "### 문제 : https://www.acmicpc.net/problem/10995\n",
    "### 블로그 : https://somjang.tistory.com/entry/BaekJoon-10995%EB%B2%88-%EB%B3%84-%EC%B0%8D%EA%B8%B0-20-Python-1"
   ]
  },
  {
   "cell_type": "markdown",
   "metadata": {},
   "source": [
    "### Solution"
   ]
  },
  {
   "cell_type": "code",
   "execution_count": null,
   "metadata": {},
   "outputs": [],
   "source": [
    "def print_stars(N):\n",
    "    star_str = ''\n",
    "    for i in range(2 * N - 1):\n",
    "        if i % 2 == 0:\n",
    "            star_str += '*'\n",
    "        else:\n",
    "            star_str += ' '\n",
    "            \n",
    "    for i in range(N):\n",
    "        print(f\"{' ' * (i % 2)}{star_str}\")\n",
    "              \n",
    "if __name__ == \"__main__\":\n",
    "    N = int(input())\n",
    "    print_stars(N)"
   ]
  }
 ],
 "metadata": {
  "kernelspec": {
   "display_name": "Python 3",
   "language": "python",
   "name": "python3"
  },
  "language_info": {
   "codemirror_mode": {
    "name": "ipython",
    "version": 3
   },
   "file_extension": ".py",
   "mimetype": "text/x-python",
   "name": "python",
   "nbconvert_exporter": "python",
   "pygments_lexer": "ipython3",
   "version": "3.7.3"
  }
 },
 "nbformat": 4,
 "nbformat_minor": 2
}
