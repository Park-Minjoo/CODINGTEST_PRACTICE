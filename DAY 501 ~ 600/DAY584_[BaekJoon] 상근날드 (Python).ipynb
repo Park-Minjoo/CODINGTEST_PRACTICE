{
 "cells": [
  {
   "cell_type": "markdown",
   "metadata": {},
   "source": [
    "## 2022년 1월 5일 수요일\n",
    "### BaekJoon - 상근날드 (Python)   \n",
    "### 문제 : https://www.acmicpc.net/problem/5543\n",
    "### 블로그 : https://somjang.tistory.com/entry/BaekJoon-5543%EB%B2%88-%EC%83%81%EA%B7%BC%EB%82%A0%EB%93%9C-Python"
   ]
  },
  {
   "cell_type": "markdown",
   "metadata": {},
   "source": [
    "### Solution"
   ]
  },
  {
   "cell_type": "code",
   "execution_count": null,
   "metadata": {},
   "outputs": [],
   "source": [
    "def shangunald(burger_list, beverage_list):\n",
    "    return min(burger_list) + min(beverage_list) - 50\n",
    "    \n",
    "    \n",
    "if __name__ == \"__main__\":\n",
    "    burger_list, beverage_list = [], []\n",
    "    \n",
    "    for _ in range(3):\n",
    "        burger = int(input())\n",
    "        burger_list.append(burger)\n",
    "        \n",
    "    for _ in range(2):\n",
    "        beverage = int(input())\n",
    "        beverage_list.append(beverage)\n",
    "        \n",
    "    print(shangunald(burger_list, beverage_list))"
   ]
  }
 ],
 "metadata": {
  "kernelspec": {
   "display_name": "Python 3",
   "language": "python",
   "name": "python3"
  },
  "language_info": {
   "codemirror_mode": {
    "name": "ipython",
    "version": 3
   },
   "file_extension": ".py",
   "mimetype": "text/x-python",
   "name": "python",
   "nbconvert_exporter": "python",
   "pygments_lexer": "ipython3",
   "version": "3.7.3"
  }
 },
 "nbformat": 4,
 "nbformat_minor": 2
}
