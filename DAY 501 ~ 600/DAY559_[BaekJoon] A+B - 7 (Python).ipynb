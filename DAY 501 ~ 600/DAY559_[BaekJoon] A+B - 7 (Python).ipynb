{
 "cells": [
  {
   "cell_type": "markdown",
   "metadata": {},
   "source": [
    "## 2021년 12월 8일 수요일\n",
    "### BaekJoon - A+B - 7 (Python)   \n",
    "### 문제 : https://www.acmicpc.net/problem/11021\n",
    "### 블로그 : https://somjang.tistory.com/entry/BaekJoon-11021%EB%B2%88-AB-7-Python"
   ]
  },
  {
   "cell_type": "markdown",
   "metadata": {},
   "source": [
    "### Solution"
   ]
  },
  {
   "cell_type": "code",
   "execution_count": null,
   "metadata": {},
   "outputs": [],
   "source": [
    "def a_plus_g_7 (A_B):\n",
    "    return sum(list(map(int, A_B.split())))\n",
    "\n",
    "if __name__ == \"__main__\":\n",
    "    for idx in range(int(input())):\n",
    "        print(f\"Case #{idx+1}: {a_plus_g_7(input())}\")"
   ]
  }
 ],
 "metadata": {
  "kernelspec": {
   "display_name": "Python 3",
   "language": "python",
   "name": "python3"
  },
  "language_info": {
   "codemirror_mode": {
    "name": "ipython",
    "version": 3
   },
   "file_extension": ".py",
   "mimetype": "text/x-python",
   "name": "python",
   "nbconvert_exporter": "python",
   "pygments_lexer": "ipython3",
   "version": "3.7.3"
  }
 },
 "nbformat": 4,
 "nbformat_minor": 2
}
