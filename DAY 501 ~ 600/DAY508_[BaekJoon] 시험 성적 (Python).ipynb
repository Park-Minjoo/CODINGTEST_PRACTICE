{
 "cells": [
  {
   "cell_type": "markdown",
   "metadata": {},
   "source": [
    "## 2021년 10월 10일 일요일\n",
    "### BaekJoon - 시험 성적 (Python) \n",
    "### 문제 : https://www.acmicpc.net/problem/9498\n",
    "### 블로그 : https://somjang.tistory.com/entry/BaekJoon-9498%EB%B2%88-%EC%8B%9C%ED%97%98-%EC%84%B1%EC%A0%81-Python"
   ]
  },
  {
   "cell_type": "markdown",
   "metadata": {},
   "source": [
    "### Solution"
   ]
  },
  {
   "cell_type": "code",
   "execution_count": null,
   "metadata": {},
   "outputs": [],
   "source": [
    "def test_result(score):\n",
    "    result = \"F\"\n",
    "    if 90 <= score <= 100:\n",
    "        result = \"A\"\n",
    "    elif 80 <= score < 90:\n",
    "        result = \"B\"\n",
    "    elif 70 <= score < 80:\n",
    "        result = \"C\"\n",
    "    elif 60 <= score < 70:\n",
    "        result = \"D\"\n",
    "    \n",
    "    return result\n",
    "\n",
    "if __name__ == \"__main__\":\n",
    "    score = int(input())\n",
    "    print(test_result(score))"
   ]
  }
 ],
 "metadata": {
  "kernelspec": {
   "display_name": "Python 3",
   "language": "python",
   "name": "python3"
  },
  "language_info": {
   "codemirror_mode": {
    "name": "ipython",
    "version": 3
   },
   "file_extension": ".py",
   "mimetype": "text/x-python",
   "name": "python",
   "nbconvert_exporter": "python",
   "pygments_lexer": "ipython3",
   "version": "3.7.3"
  }
 },
 "nbformat": 4,
 "nbformat_minor": 2
}
