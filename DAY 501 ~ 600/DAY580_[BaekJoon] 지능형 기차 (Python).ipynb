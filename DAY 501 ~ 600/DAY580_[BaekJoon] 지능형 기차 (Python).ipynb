{
 "cells": [
  {
   "cell_type": "markdown",
   "metadata": {},
   "source": [
    "## 2022년 1월 1일 토요일 - 새해 복 많이 받으세요~!\n",
    "### BaekJoon - 지능형 기차 (Python)   \n",
    "### 문제 : https://www.acmicpc.net/problem/2455\n",
    "### 블로그 : https://somjang.tistory.com/entry/BaekJoon-2455%EB%B2%88-%EC%A7%80%EB%8A%A5%ED%98%95-%EA%B8%B0%EC%B0%A8-Python"
   ]
  },
  {
   "cell_type": "markdown",
   "metadata": {},
   "source": [
    "### Solution"
   ]
  },
  {
   "cell_type": "code",
   "execution_count": null,
   "metadata": {},
   "outputs": [],
   "source": [
    "def intelligent_train(bording_infos):\n",
    "    passengers = [bording_infos[0][1]]\n",
    "    \n",
    "    for bording_info in bording_infos[1:]:\n",
    "        passenger = passengers[-1] - bording_info[0] + bording_info[1]\n",
    "        \n",
    "        passengers.append(passenger)\n",
    "        \n",
    "    return max(passengers)\n",
    "\n",
    "if __name__ == \"__main__\":\n",
    "    bording_infos = []\n",
    "    for _ in range(4):\n",
    "        bording_info = list(map(int, input().split()))\n",
    "        bording_infos.append(bording_info)\n",
    "        \n",
    "    print(intelligent_train(bording_infos))"
   ]
  }
 ],
 "metadata": {
  "kernelspec": {
   "display_name": "Python 3",
   "language": "python",
   "name": "python3"
  },
  "language_info": {
   "codemirror_mode": {
    "name": "ipython",
    "version": 3
   },
   "file_extension": ".py",
   "mimetype": "text/x-python",
   "name": "python",
   "nbconvert_exporter": "python",
   "pygments_lexer": "ipython3",
   "version": "3.7.3"
  }
 },
 "nbformat": 4,
 "nbformat_minor": 2
}
