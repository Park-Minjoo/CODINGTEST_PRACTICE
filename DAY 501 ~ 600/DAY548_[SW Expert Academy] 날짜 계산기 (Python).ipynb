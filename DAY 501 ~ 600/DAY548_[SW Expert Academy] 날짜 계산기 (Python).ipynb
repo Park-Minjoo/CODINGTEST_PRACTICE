{
 "cells": [
  {
   "cell_type": "markdown",
   "metadata": {},
   "source": [
    "## 2021년 11월 27일 토요일\n",
    "### SW Expert Academy - 날짜 계산기 (Python)   \n",
    "### 문제 : https://swexpertacademy.com/main/code/problem/problemDetail.do?problemLevel=2&contestProbId=AV5PnnU6AOsDFAUq&categoryId=AV5PnnU6AOsDFAUq&categoryType=CODE&problemTitle=&orderBy=FIRST_REG_DATETIME&selectCodeLang=PYTHON&select-1=2&pageSize=10&pageIndex=2\n",
    "### 블로그 : https://somjang.tistory.com/entry/SW-Expert-Academy-1948%EB%B2%88-%EB%82%A0%EC%A7%9C-%EA%B3%84%EC%82%B0%EA%B8%B0-Python"
   ]
  },
  {
   "cell_type": "markdown",
   "metadata": {},
   "source": [
    "### Solution"
   ]
  },
  {
   "cell_type": "code",
   "execution_count": null,
   "metadata": {},
   "outputs": [],
   "source": [
    "from datetime import datetime\n",
    "\n",
    "def calculate_date(date_list):\n",
    "    day1 = datetime(year=2021, month=date_list[0], day=date_list[1])\n",
    "    day2 = datetime(year=2021, month=date_list[2], day=date_list[3])\n",
    "    \n",
    "    return (day2 - day1).days + 1\n",
    "\n",
    "if __name__ == \"__main__\":\n",
    "    for idx in range(int(input())):\n",
    "        date_list = list(map(int, input().split()))\n",
    "        print(f\"#{idx+1} {calculate_date(date_list)}\")"
   ]
  }
 ],
 "metadata": {
  "kernelspec": {
   "display_name": "Python 3",
   "language": "python",
   "name": "python3"
  },
  "language_info": {
   "codemirror_mode": {
    "name": "ipython",
    "version": 3
   },
   "file_extension": ".py",
   "mimetype": "text/x-python",
   "name": "python",
   "nbconvert_exporter": "python",
   "pygments_lexer": "ipython3",
   "version": "3.7.3"
  }
 },
 "nbformat": 4,
 "nbformat_minor": 2
}
