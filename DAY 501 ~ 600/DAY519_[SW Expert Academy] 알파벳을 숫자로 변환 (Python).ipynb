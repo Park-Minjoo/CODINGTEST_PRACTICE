{
 "cells": [
  {
   "cell_type": "markdown",
   "metadata": {},
   "source": [
    "## 2021년 10월 22일 금요일\n",
    "### SW Expert Academy - 알파벳을 숫자로 변환(Python)\n",
    "### 문제 : https://swexpertacademy.com/main/code/problem/problemDetail.do?contestProbId=AV5QLGxKAzQDFAUq\n",
    "### 블로그 : https://somjang.tistory.com/entry/SW-Expert-Academy-2050%EB%B2%88-%EC%95%8C%ED%8C%8C%EB%B2%B3%EC%9D%84-%EC%88%AB%EC%9E%90%EB%A1%9C-%EB%B3%80%ED%99%98-Python"
   ]
  },
  {
   "cell_type": "markdown",
   "metadata": {},
   "source": [
    "### Solution"
   ]
  },
  {
   "cell_type": "code",
   "execution_count": null,
   "metadata": {},
   "outputs": [],
   "source": [
    "def alphabet2number(alphabets):\n",
    "    converted_numbers = []\n",
    "    \n",
    "    for alphabet in alphabets:\n",
    "        converted_numbers.append(str(ord(alphabet) - ord('A') + 1))\n",
    "        \n",
    "    return \" \".join(converted_numbers)\n",
    "\n",
    "if __name__ == \"__main__\":\n",
    "    alphabets = input()\n",
    "    print(alphabet2number(alphabets))"
   ]
  }
 ],
 "metadata": {
  "kernelspec": {
   "display_name": "Python 3",
   "language": "python",
   "name": "python3"
  },
  "language_info": {
   "codemirror_mode": {
    "name": "ipython",
    "version": 3
   },
   "file_extension": ".py",
   "mimetype": "text/x-python",
   "name": "python",
   "nbconvert_exporter": "python",
   "pygments_lexer": "ipython3",
   "version": "3.7.3"
  }
 },
 "nbformat": 4,
 "nbformat_minor": 2
}
