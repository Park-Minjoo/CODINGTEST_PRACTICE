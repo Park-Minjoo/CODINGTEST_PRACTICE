{
 "cells": [
  {
   "cell_type": "markdown",
   "metadata": {},
   "source": [
    "## 2022년 1월 18일 화요일\n",
    "### Programmers - 2022 KAKAO BLIND RECRUITMENT 신고 결과 받기 (Python)   \n",
    "### 문제 : https://programmers.co.kr/learn/courses/30/lessons/92334\n",
    "### 블로그 : https://somjang.tistory.com/entry/Programmers-2022-KAKAO-BLIND-RECRUITMENT-%EC%8B%A0%EA%B3%A0-%EA%B2%B0%EA%B3%BC-%EB%B0%9B%EA%B8%B0-Python"
   ]
  },
  {
   "cell_type": "markdown",
   "metadata": {},
   "source": [
    "### Solution"
   ]
  },
  {
   "cell_type": "code",
   "execution_count": null,
   "metadata": {},
   "outputs": [],
   "source": [
    "from collections import Counter\n",
    "\n",
    "def solution(id_list, report, k):\n",
    "    answer, check_list = [], []\n",
    "    \n",
    "    report_dict = {}\n",
    "    \n",
    "    for report_id in id_list:\n",
    "        report_dict[report_id] = []\n",
    "    \n",
    "    for case in report:\n",
    "        report_id, report_name = case.split()\n",
    "        \n",
    "        if report_name not in report_dict[report_id]:\n",
    "            report_dict[report_id].append(report_name)\n",
    "\n",
    "            check_list.append(report_name)\n",
    "        \n",
    "    cnt_dict = Counter(check_list)\n",
    "\n",
    "    for report_id in id_list:\n",
    "        answer.append(len([check for check in report_dict[report_id] if cnt_dict[check] >= k]))\n",
    "        \n",
    "    return answer"
   ]
  }
 ],
 "metadata": {
  "kernelspec": {
   "display_name": "Python 3",
   "language": "python",
   "name": "python3"
  },
  "language_info": {
   "codemirror_mode": {
    "name": "ipython",
    "version": 3
   },
   "file_extension": ".py",
   "mimetype": "text/x-python",
   "name": "python",
   "nbconvert_exporter": "python",
   "pygments_lexer": "ipython3",
   "version": "3.7.3"
  }
 },
 "nbformat": 4,
 "nbformat_minor": 2
}
