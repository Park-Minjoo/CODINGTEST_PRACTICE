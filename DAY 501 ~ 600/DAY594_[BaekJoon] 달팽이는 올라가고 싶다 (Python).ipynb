{
 "cells": [
  {
   "cell_type": "markdown",
   "metadata": {},
   "source": [
    "## 2022년 1월 15일 토요일\n",
    "### BaekJoon - 달팽이는 올라가고 싶다 (Python)   \n",
    "### 문제 : https://www.acmicpc.net/problem/2869\n",
    "### 블로그 : https://somjang.tistory.com/entry/BaekJoon-2869%EB%B2%88-%EB%8B%AC%ED%8C%BD%EC%9D%B4%EB%8A%94-%EC%98%AC%EB%9D%BC%EA%B0%80%EA%B3%A0-%EC%8B%B6%EB%8B%A4-Python"
   ]
  },
  {
   "cell_type": "markdown",
   "metadata": {},
   "source": [
    "### Solution"
   ]
  },
  {
   "cell_type": "code",
   "execution_count": null,
   "metadata": {},
   "outputs": [],
   "source": [
    "def snail_wants_to_climb(A, B, V):\n",
    "    snail_days = (V-B) / (A-B)\n",
    "    \n",
    "    if snail_days != int(snail_days):\n",
    "        snail_days += 1\n",
    "    \n",
    "    return int(snail_days)\n",
    "\n",
    "if __name__ == \"__main__\":\n",
    "    A, B, V = map(int, input().split())\n",
    "    print(snail_wants_to_climb(A, B, V))"
   ]
  }
 ],
 "metadata": {
  "kernelspec": {
   "display_name": "Python 3",
   "language": "python",
   "name": "python3"
  },
  "language_info": {
   "codemirror_mode": {
    "name": "ipython",
    "version": 3
   },
   "file_extension": ".py",
   "mimetype": "text/x-python",
   "name": "python",
   "nbconvert_exporter": "python",
   "pygments_lexer": "ipython3",
   "version": "3.7.3"
  }
 },
 "nbformat": 4,
 "nbformat_minor": 2
}
