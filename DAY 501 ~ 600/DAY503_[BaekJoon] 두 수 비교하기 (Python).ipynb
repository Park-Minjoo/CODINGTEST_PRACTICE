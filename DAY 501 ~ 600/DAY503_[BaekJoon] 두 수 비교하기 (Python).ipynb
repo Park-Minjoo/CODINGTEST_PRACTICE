{
 "cells": [
  {
   "cell_type": "markdown",
   "metadata": {},
   "source": [
    "## 2021년 10월 5일 화요일\n",
    "### BaekJoon - 두 수 비교하기 (Python) \n",
    "### 문제 : https://www.acmicpc.net/problem/1330\n",
    "### 블로그 : https://somjang.tistory.com/entry/BaekJoon-1330%EB%B2%88-%EB%91%90-%EC%88%98-%EB%B9%84%EA%B5%90%ED%95%98%EA%B8%B0-Python"
   ]
  },
  {
   "cell_type": "markdown",
   "metadata": {},
   "source": [
    "### Solution"
   ]
  },
  {
   "cell_type": "code",
   "execution_count": null,
   "metadata": {},
   "outputs": [],
   "source": [
    "def compare_2_numbers(A, B):\n",
    "    answer = \"==\"\n",
    "    if A > B:\n",
    "        answer = \">\"\n",
    "    elif A < B:\n",
    "        answer = \"<\"\n",
    "        \n",
    "    return answer\n",
    "\n",
    "if __name__ == \"__main__\":\n",
    "    A, B = map(int, input().split())\n",
    "    print(compare_2_numbers(A, B))"
   ]
  }
 ],
 "metadata": {
  "kernelspec": {
   "display_name": "Python 3",
   "language": "python",
   "name": "python3"
  },
  "language_info": {
   "codemirror_mode": {
    "name": "ipython",
    "version": 3
   },
   "file_extension": ".py",
   "mimetype": "text/x-python",
   "name": "python",
   "nbconvert_exporter": "python",
   "pygments_lexer": "ipython3",
   "version": "3.7.3"
  }
 },
 "nbformat": 4,
 "nbformat_minor": 2
}
