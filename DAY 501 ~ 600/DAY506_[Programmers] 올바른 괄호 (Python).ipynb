{
 "cells": [
  {
   "cell_type": "markdown",
   "metadata": {},
   "source": [
    "## 2021년 10월 8일 금요일\n",
    "### Programmers - 올바른 괄호 (Python) \n",
    "### 문제 : https://programmers.co.kr/learn/courses/30/lessons/12909\n",
    "### 블로그 : https://somjang.tistory.com/entry/Programmers-%EC%98%AC%EB%B0%94%EB%A5%B8-%EA%B4%84%ED%98%B8-Python"
   ]
  },
  {
   "cell_type": "markdown",
   "metadata": {},
   "source": [
    "### Solution"
   ]
  },
  {
   "cell_type": "code",
   "execution_count": null,
   "metadata": {},
   "outputs": [],
   "source": [
    "def solution(s):\n",
    "    answer = True\n",
    "    mystack = []\n",
    "    \n",
    "    for idx, bracket in enumerate(s):\n",
    "        if bracket == \"(\":\n",
    "            mystack.append(bracket)\n",
    "        else:\n",
    "            try:\n",
    "                if mystack.pop() == \"(\":\n",
    "                    pass\n",
    "            except:\n",
    "                answer = False\n",
    "                break\n",
    "    if len(mystack):\n",
    "        answer = False\n",
    "\n",
    "    return answer"
   ]
  }
 ],
 "metadata": {
  "kernelspec": {
   "display_name": "Python 3",
   "language": "python",
   "name": "python3"
  },
  "language_info": {
   "codemirror_mode": {
    "name": "ipython",
    "version": 3
   },
   "file_extension": ".py",
   "mimetype": "text/x-python",
   "name": "python",
   "nbconvert_exporter": "python",
   "pygments_lexer": "ipython3",
   "version": "3.7.3"
  }
 },
 "nbformat": 4,
 "nbformat_minor": 2
}
