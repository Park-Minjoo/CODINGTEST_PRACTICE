{
 "cells": [
  {
   "cell_type": "markdown",
   "metadata": {},
   "source": [
    "## 2021년 12월 2일 목요일\n",
    "### BaekJoon - A+B - 5 (Python)   \n",
    "### 문제 : https://www.acmicpc.net/problem/10952\n",
    "### 블로그 : https://somjang.tistory.com/entry/BaekJoon-10952%EB%B2%88-AB-5-Python"
   ]
  },
  {
   "cell_type": "markdown",
   "metadata": {},
   "source": [
    "### Solution"
   ]
  },
  {
   "cell_type": "code",
   "execution_count": null,
   "metadata": {},
   "outputs": [],
   "source": [
    "def a_plus_b_5(num1, num2):\n",
    "    return num1 + num2\n",
    "\n",
    "if __name__ == \"__main__\":\n",
    "    while True:\n",
    "        num1, num2 = map(int, input().split())\n",
    "        \n",
    "        if num1 == 0 and num2 == 0:\n",
    "            break\n",
    "            \n",
    "        print(a_plus_b_5(num1, num2))"
   ]
  }
 ],
 "metadata": {
  "kernelspec": {
   "display_name": "Python 3",
   "language": "python",
   "name": "python3"
  },
  "language_info": {
   "codemirror_mode": {
    "name": "ipython",
    "version": 3
   },
   "file_extension": ".py",
   "mimetype": "text/x-python",
   "name": "python",
   "nbconvert_exporter": "python",
   "pygments_lexer": "ipython3",
   "version": "3.7.3"
  }
 },
 "nbformat": 4,
 "nbformat_minor": 2
}
