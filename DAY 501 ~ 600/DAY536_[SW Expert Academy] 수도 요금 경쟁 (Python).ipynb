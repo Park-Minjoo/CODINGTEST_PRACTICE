{
 "cells": [
  {
   "cell_type": "markdown",
   "metadata": {},
   "source": [
    "## 2021년 11월 14일 일요일\n",
    "### SW Expert Academy - 수도 요금 경쟁 (Python)   \n",
    "### 문제 : https://swexpertacademy.com/main/code/problem/problemDetail.do?problemLevel=2&contestProbId=AV189xUaI8UCFAZN&categoryId=AV189xUaI8UCFAZN&categoryType=CODE&problemTitle=&orderBy=FIRST_REG_DATETIME&selectCodeLang=PYTHON&select-1=2&pageSize=10&pageIndex=3\n",
    "### 블로그 : https://somjang.tistory.com/entry/SW-Expert-Academy-1284%EB%B2%88-%EC%88%98%EB%8F%84-%EC%9A%94%EA%B8%88-%EA%B2%BD%EC%9F%81-Python"
   ]
  },
  {
   "cell_type": "markdown",
   "metadata": {},
   "source": [
    "### Solution"
   ]
  },
  {
   "cell_type": "code",
   "execution_count": null,
   "metadata": {},
   "outputs": [],
   "source": [
    "def water_bill(pqrsw):\n",
    "    answer = 0\n",
    "\n",
    "    bill_for_liter = pqrsw[0]\n",
    "    base_bill, base_liter, additional_bill = pqrsw[1], pqrsw[2], pqrsw[3]\n",
    "    usage = pqrsw[4]\n",
    "\n",
    "    a_bill = bill_for_liter * usage\n",
    "\n",
    "    std = usage - base_liter\n",
    "\n",
    "    if std > 0:\n",
    "        b_bill = std * additional_bill + base_bill\n",
    "    else:\n",
    "        b_bill = base_bill\n",
    "\n",
    "    if a_bill < b_bill:\n",
    "        answer = a_bill\n",
    "    else:\n",
    "        answer = b_bill\n",
    "            \n",
    "    return answer\n",
    "\n",
    "if __name__ == \"__main__\":\n",
    "    for idx in range(int(input())):\n",
    "        pqrsw = list(map(int, input().split()))\n",
    "        print(f\"#{idx+1} {water_bill(pqrsw)}\")"
   ]
  }
 ],
 "metadata": {
  "kernelspec": {
   "display_name": "Python 3",
   "language": "python",
   "name": "python3"
  },
  "language_info": {
   "codemirror_mode": {
    "name": "ipython",
    "version": 3
   },
   "file_extension": ".py",
   "mimetype": "text/x-python",
   "name": "python",
   "nbconvert_exporter": "python",
   "pygments_lexer": "ipython3",
   "version": "3.7.3"
  }
 },
 "nbformat": 4,
 "nbformat_minor": 2
}
