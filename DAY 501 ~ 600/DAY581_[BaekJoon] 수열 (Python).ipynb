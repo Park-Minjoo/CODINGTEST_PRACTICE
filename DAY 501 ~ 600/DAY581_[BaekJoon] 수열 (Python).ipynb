{
 "cells": [
  {
   "cell_type": "markdown",
   "metadata": {},
   "source": [
    "## 2022년 1월 2일 월요일\n",
    "### BaekJoon - 수열 (Python)   \n",
    "### 문제 : https://www.acmicpc.net/problem/2599\n",
    "### 블로그 : https://somjang.tistory.com/entry/BaekJoon-2559%EB%B2%88-%EC%88%98%EC%97%B4-Python"
   ]
  },
  {
   "cell_type": "markdown",
   "metadata": {},
   "source": [
    "### Solution"
   ]
  },
  {
   "cell_type": "code",
   "execution_count": null,
   "metadata": {},
   "outputs": [],
   "source": [
    "def sequence(temperture_list, K):\n",
    "    temp_k_days_list = [sum(temperture_list[:K])]\n",
    "    for i in range(1, len(temperture_list) - K + 1):\n",
    "        sum_k_temp = temp_k_days_list[-1] + temperture_list[i+K-1] - temperture_list[i-1]\n",
    "        \n",
    "        temp_k_days_list.append(sum_k_temp)\n",
    "        \n",
    "    return max(temp_k_days_list)\n",
    "\n",
    "if __name__ == \"__main__\":\n",
    "    N, K = map(int, input().split())\n",
    "    temperture_list = list(map(int, input().split()))\n",
    "    print(sequence(temperture_list, K))"
   ]
  }
 ],
 "metadata": {
  "kernelspec": {
   "display_name": "Python 3",
   "language": "python",
   "name": "python3"
  },
  "language_info": {
   "codemirror_mode": {
    "name": "ipython",
    "version": 3
   },
   "file_extension": ".py",
   "mimetype": "text/x-python",
   "name": "python",
   "nbconvert_exporter": "python",
   "pygments_lexer": "ipython3",
   "version": "3.7.3"
  }
 },
 "nbformat": 4,
 "nbformat_minor": 2
}
