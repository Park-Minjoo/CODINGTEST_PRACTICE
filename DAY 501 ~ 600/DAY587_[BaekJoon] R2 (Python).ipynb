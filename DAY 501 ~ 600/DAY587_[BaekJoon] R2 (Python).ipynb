{
 "cells": [
  {
   "cell_type": "markdown",
   "metadata": {},
   "source": [
    "## 2022년 1월 8일 토요일\n",
    "### BaekJoon - R2 (Python)   \n",
    "### 문제 : https://www.acmicpc.net/problem/3046\n",
    "### 블로그 : https://somjang.tistory.com/entry/BaekJoon-3046%EB%B2%88-R2-Python"
   ]
  },
  {
   "cell_type": "markdown",
   "metadata": {},
   "source": [
    "### Solution"
   ]
  },
  {
   "cell_type": "code",
   "execution_count": null,
   "metadata": {},
   "outputs": [],
   "source": [
    "def R2(R1, S):\n",
    "    return 2 * S - R1\n",
    "\n",
    "if __name__ == \"__main__\":\n",
    "    R1, S = map(int, input().split())\n",
    "    print(R2(R1, S))"
   ]
  }
 ],
 "metadata": {
  "kernelspec": {
   "display_name": "Python 3",
   "language": "python",
   "name": "python3"
  },
  "language_info": {
   "codemirror_mode": {
    "name": "ipython",
    "version": 3
   },
   "file_extension": ".py",
   "mimetype": "text/x-python",
   "name": "python",
   "nbconvert_exporter": "python",
   "pygments_lexer": "ipython3",
   "version": "3.7.3"
  }
 },
 "nbformat": 4,
 "nbformat_minor": 2
}
