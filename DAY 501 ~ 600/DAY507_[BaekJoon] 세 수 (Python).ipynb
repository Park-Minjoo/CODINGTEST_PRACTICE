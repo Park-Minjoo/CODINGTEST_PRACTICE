{
 "cells": [
  {
   "cell_type": "markdown",
   "metadata": {},
   "source": [
    "## 2021년 10월 9일 토요일\n",
    "### BaekJoon - 세 수 (Python) \n",
    "### 문제 : https://www.acmicpc.net/problem/10817\n",
    "### 블로그 : https://somjang.tistory.com/entry/BaekJoon-10817%EB%B2%88-%EC%84%B8-%EC%88%98-Python"
   ]
  },
  {
   "cell_type": "markdown",
   "metadata": {},
   "source": [
    "### Solution"
   ]
  },
  {
   "cell_type": "code",
   "execution_count": null,
   "metadata": {},
   "outputs": [],
   "source": [
    "def three_numbers(numbers):\n",
    "    numbers = list(map(int, numbers.split()))\n",
    "    numbers.sort(reverse=True)\n",
    "    \n",
    "    return numbers[1]\n",
    "\n",
    "if __name__ == \"__main__\":\n",
    "    numbers = input()\n",
    "    print(three_numbers(numbers))"
   ]
  }
 ],
 "metadata": {
  "kernelspec": {
   "display_name": "Python 3",
   "language": "python",
   "name": "python3"
  },
  "language_info": {
   "codemirror_mode": {
    "name": "ipython",
    "version": 3
   },
   "file_extension": ".py",
   "mimetype": "text/x-python",
   "name": "python",
   "nbconvert_exporter": "python",
   "pygments_lexer": "ipython3",
   "version": "3.7.3"
  }
 },
 "nbformat": 4,
 "nbformat_minor": 2
}
