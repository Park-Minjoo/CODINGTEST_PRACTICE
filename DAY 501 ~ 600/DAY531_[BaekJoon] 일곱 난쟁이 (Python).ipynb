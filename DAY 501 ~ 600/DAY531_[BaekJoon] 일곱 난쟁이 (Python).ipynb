{
 "cells": [
  {
   "cell_type": "markdown",
   "metadata": {},
   "source": [
    "## 2021년 11월 9일 화요일\n",
    "### BaekJoon - 일곱 난쟁이 (Python)   \n",
    "### 문제 : https://www.acmicpc.net/problem/2309\n",
    "### 블로그 : "
   ]
  },
  {
   "cell_type": "markdown",
   "metadata": {},
   "source": [
    "### Solution"
   ]
  },
  {
   "cell_type": "code",
   "execution_count": null,
   "metadata": {},
   "outputs": [],
   "source": [
    "from itertools import combinations\n",
    "\n",
    "def seven_dwarfs(dwarfs):\n",
    "    check_list = [comb for comb in list(combinations(dwarfs, 7)) if sum(comb) == 100]\n",
    "    \n",
    "    return sorted(check_list[0])\n",
    "\n",
    "if __name__ == \"__main__\":\n",
    "    dwarfs = []\n",
    "    for _ in range(9):\n",
    "        dwarf = int(input())\n",
    "        dwarfs.append(dwarf)\n",
    "        \n",
    "    seven = seven_dwarfs(dwarfs)\n",
    "    \n",
    "    for s_dwarf in seven:\n",
    "        print(s_dwarf)"
   ]
  }
 ],
 "metadata": {
  "kernelspec": {
   "display_name": "Python 3",
   "language": "python",
   "name": "python3"
  },
  "language_info": {
   "codemirror_mode": {
    "name": "ipython",
    "version": 3
   },
   "file_extension": ".py",
   "mimetype": "text/x-python",
   "name": "python",
   "nbconvert_exporter": "python",
   "pygments_lexer": "ipython3",
   "version": "3.7.3"
  }
 },
 "nbformat": 4,
 "nbformat_minor": 2
}
