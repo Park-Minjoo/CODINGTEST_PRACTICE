{
 "cells": [
  {
   "cell_type": "markdown",
   "metadata": {},
   "source": [
    "## 2021년 12월 11일 토요일\n",
    "### BaekJoon - 검증수 (Python)   \n",
    "### 문제 : https://www.acmicpc.net/problem/2475\n",
    "### 블로그 : https://somjang.tistory.com/entry/BaekJoon-2475%EB%B2%88-%EA%B2%80%EC%A6%9D%EC%88%98-Python"
   ]
  },
  {
   "cell_type": "markdown",
   "metadata": {},
   "source": [
    "### Solution"
   ]
  },
  {
   "cell_type": "code",
   "execution_count": null,
   "metadata": {},
   "outputs": [],
   "source": [
    "def verification_number(numbers):\n",
    "    numbers = [pow(num, 2) for num in numbers]\n",
    "    \n",
    "    return sum(numbers) % 10\n",
    "\n",
    "if __name__ == \"__main__\":\n",
    "    numbers = list(map(int, input().split()))\n",
    "    \n",
    "    print(verification_number(numbers))"
   ]
  }
 ],
 "metadata": {
  "kernelspec": {
   "display_name": "Python 3",
   "language": "python",
   "name": "python3"
  },
  "language_info": {
   "codemirror_mode": {
    "name": "ipython",
    "version": 3
   },
   "file_extension": ".py",
   "mimetype": "text/x-python",
   "name": "python",
   "nbconvert_exporter": "python",
   "pygments_lexer": "ipython3",
   "version": "3.7.3"
  }
 },
 "nbformat": 4,
 "nbformat_minor": 2
}
