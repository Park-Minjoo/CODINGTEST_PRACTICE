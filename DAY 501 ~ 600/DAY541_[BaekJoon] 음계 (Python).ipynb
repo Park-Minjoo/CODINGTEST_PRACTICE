{
 "cells": [
  {
   "cell_type": "markdown",
   "metadata": {},
   "source": [
    "## 2021년 11월 20일 토요일\n",
    "### BaekJoon - 음계 (Python)   \n",
    "### 문제 : https://www.acmicpc.net/problem/2920\n",
    "### 블로그 : https://somjang.tistory.com/entry/BaekJoon-2920%EB%B2%88-%EC%9D%8C%EA%B3%84-Python"
   ]
  },
  {
   "cell_type": "markdown",
   "metadata": {},
   "source": [
    "### Solution"
   ]
  },
  {
   "cell_type": "code",
   "execution_count": null,
   "metadata": {},
   "outputs": [],
   "source": [
    "def scale(numbers):\n",
    "    answer = \"mixed\"\n",
    "    start_num, end_num = min(numbers), max(numbers)\n",
    "    \n",
    "    if list(range(start_num, end_num + 1)) == numbers:\n",
    "        answer = \"ascending\"\n",
    "    elif list(range(end_num, start_num - 1, -1)) == numbers:\n",
    "        answer = \"descending\"\n",
    "        \n",
    "    return answer\n",
    "\n",
    "if __name__ == \"__main__\":\n",
    "    numbers = list(map(int, input().split()))\n",
    "    print(scale(numbers))"
   ]
  }
 ],
 "metadata": {
  "kernelspec": {
   "display_name": "Python 3",
   "language": "python",
   "name": "python3"
  },
  "language_info": {
   "codemirror_mode": {
    "name": "ipython",
    "version": 3
   },
   "file_extension": ".py",
   "mimetype": "text/x-python",
   "name": "python",
   "nbconvert_exporter": "python",
   "pygments_lexer": "ipython3",
   "version": "3.7.3"
  }
 },
 "nbformat": 4,
 "nbformat_minor": 2
}
