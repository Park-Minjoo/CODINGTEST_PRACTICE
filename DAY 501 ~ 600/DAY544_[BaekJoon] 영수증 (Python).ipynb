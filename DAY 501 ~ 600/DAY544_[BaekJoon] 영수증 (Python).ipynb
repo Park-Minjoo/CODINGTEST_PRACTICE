{
 "cells": [
  {
   "cell_type": "markdown",
   "metadata": {},
   "source": [
    "## 2021년 11월 23일 화요일\n",
    "### BaekJoon - 영수증 (Python)   \n",
    "### 문제 : https://www.acmicpc.net/problem/5565\n",
    "### 블로그 : https://somjang.tistory.com/entry/BaekJoon-5565%EB%B2%88-%EC%98%81%EC%88%98%EC%A6%9D-Python"
   ]
  },
  {
   "cell_type": "markdown",
   "metadata": {},
   "source": [
    "### Solution"
   ]
  },
  {
   "cell_type": "code",
   "execution_count": null,
   "metadata": {},
   "outputs": [],
   "source": [
    "def bill(total_price, book_price_list):\n",
    "    return total_price - sum(book_price_list)\n",
    "\n",
    "if __name__ == \"__main__\":\n",
    "    total_price = int(input())\n",
    "    book_price_list = []\n",
    "    \n",
    "    for _ in range(9):\n",
    "        book_price = int(input())\n",
    "        book_price_list.append(book_price)\n",
    "    \n",
    "    print(bill(total_price, book_price_list))"
   ]
  }
 ],
 "metadata": {
  "kernelspec": {
   "display_name": "Python 3",
   "language": "python",
   "name": "python3"
  },
  "language_info": {
   "codemirror_mode": {
    "name": "ipython",
    "version": 3
   },
   "file_extension": ".py",
   "mimetype": "text/x-python",
   "name": "python",
   "nbconvert_exporter": "python",
   "pygments_lexer": "ipython3",
   "version": "3.7.3"
  }
 },
 "nbformat": 4,
 "nbformat_minor": 2
}
