{
 "cells": [
  {
   "cell_type": "markdown",
   "metadata": {},
   "source": [
    "## 2021년 11월 17일 수요일\n",
    "### BaekJoon - 생일 (Python)   \n",
    "### 문제 : https://www.acmicpc.net/problem/5635\n",
    "### 블로그 : https://somjang.tistory.com/entry/BaekJoon-5635%EB%B2%88-%EC%83%9D%EC%9D%BC-Python"
   ]
  },
  {
   "cell_type": "markdown",
   "metadata": {},
   "source": [
    "### Solution"
   ]
  },
  {
   "cell_type": "code",
   "execution_count": null,
   "metadata": {},
   "outputs": [],
   "source": [
    "from datetime import datetime\n",
    "\n",
    "def happy_birthday(birthday_infos):\n",
    "    check_list = []\n",
    "    for birthday_info in birthday_infos:\n",
    "        birthday_datetime = datetime(year=int(birthday_info[-1]), \n",
    "                                     month=int(birthday_info[-2]), \n",
    "                                     day=int(birthday_info[-3]))\n",
    "        check_list.append((birthday_info[0], birthday_datetime))\n",
    "        \n",
    "    check_list = sorted(check_list, key=lambda x: x[1])\n",
    "    \n",
    "    return check_list[-1][0], check_list[0][0]\n",
    "\n",
    "if __name__ == \"__main__\":\n",
    "    birthday_infos = []\n",
    "    for _ in range(int(input())):\n",
    "        birthday_info = input().split()\n",
    "        birthday_infos.append(birthday_info)\n",
    "        \n",
    "    name_list = happy_birthday(birthday_infos)\n",
    "    \n",
    "    for name in name_list:\n",
    "        print(name)"
   ]
  }
 ],
 "metadata": {
  "kernelspec": {
   "display_name": "Python 3",
   "language": "python",
   "name": "python3"
  },
  "language_info": {
   "codemirror_mode": {
    "name": "ipython",
    "version": 3
   },
   "file_extension": ".py",
   "mimetype": "text/x-python",
   "name": "python",
   "nbconvert_exporter": "python",
   "pygments_lexer": "ipython3",
   "version": "3.7.3"
  }
 },
 "nbformat": 4,
 "nbformat_minor": 2
}
