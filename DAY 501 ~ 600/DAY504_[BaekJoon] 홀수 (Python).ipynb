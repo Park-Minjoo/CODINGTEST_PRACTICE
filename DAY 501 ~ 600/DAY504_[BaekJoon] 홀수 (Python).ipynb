{
 "cells": [
  {
   "cell_type": "markdown",
   "metadata": {},
   "source": [
    "## 2021년 10월 6일 수요일\n",
    "### BaekJoon - 홀수 (Python) \n",
    "### 문제 : https://www.acmicpc.net/problem/2576\n",
    "### 블로그 : https://somjang.tistory.com/entry/BaekJoon-2576%EB%B2%88-%ED%99%80%EC%88%98-Python"
   ]
  },
  {
   "cell_type": "markdown",
   "metadata": {},
   "source": [
    "### Solution"
   ]
  },
  {
   "cell_type": "code",
   "execution_count": null,
   "metadata": {},
   "outputs": [],
   "source": [
    "def odd_numbers(numbers):\n",
    "    odd_nums = [num for num in numbers if num % 2 == 1]\n",
    "    \n",
    "    if len(odd_nums) == 0:\n",
    "        answer = [-1]\n",
    "    else:\n",
    "        answer = sum(odd_nums), min(odd_nums)\n",
    "    \n",
    "    return answer\n",
    "\n",
    "if __name__ == \"__main__\":\n",
    "    numbers = []\n",
    "    for _ in range(7):\n",
    "        number = int(input())\n",
    "        numbers.append(number)\n",
    "    answer = odd_numbers(numbers)\n",
    "    \n",
    "    for num in answer:\n",
    "        print(num)"
   ]
  }
 ],
 "metadata": {
  "kernelspec": {
   "display_name": "Python 3",
   "language": "python",
   "name": "python3"
  },
  "language_info": {
   "codemirror_mode": {
    "name": "ipython",
    "version": 3
   },
   "file_extension": ".py",
   "mimetype": "text/x-python",
   "name": "python",
   "nbconvert_exporter": "python",
   "pygments_lexer": "ipython3",
   "version": "3.7.3"
  }
 },
 "nbformat": 4,
 "nbformat_minor": 2
}
