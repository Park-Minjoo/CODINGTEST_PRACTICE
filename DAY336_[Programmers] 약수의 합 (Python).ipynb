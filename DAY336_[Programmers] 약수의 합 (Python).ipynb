{
 "cells": [
  {
   "cell_type": "markdown",
   "metadata": {},
   "source": [
    "## 2021년 4월 9일 금요일\n",
    "### Programmers - 약수의 합 (Python)\n",
    "### 문제 : https://programmers.co.kr/learn/courses/30/lessons/12928\n",
    "### 블로그 : https://somjang.tistory.com/entry/Programmers-%EC%95%BD%EC%88%98%EC%9D%98-%ED%95%A9-Python"
   ]
  },
  {
   "cell_type": "markdown",
   "metadata": {},
   "source": [
    "### Solution 1"
   ]
  },
  {
   "cell_type": "code",
   "execution_count": 1,
   "metadata": {},
   "outputs": [],
   "source": [
    "def solution(n):\n",
    "    answer = 0\n",
    "    \n",
    "    yaksu_list = []\n",
    "    \n",
    "    if n == 1:\n",
    "        answer = 1\n",
    "    else:\n",
    "        for i in range(1, n//2):\n",
    "            if n % i == 0 and i not in yaksu_list:\n",
    "                yaksu_list.append(i)\n",
    "                if n // i != i:\n",
    "                    yaksu_list.append(n // i)\n",
    "\n",
    "        answer = sum(yaksu_list)\n",
    "    \n",
    "    return answer"
   ]
  }
 ],
 "metadata": {
  "kernelspec": {
   "display_name": "Python 3",
   "language": "python",
   "name": "python3"
  },
  "language_info": {
   "codemirror_mode": {
    "name": "ipython",
    "version": 3
   },
   "file_extension": ".py",
   "mimetype": "text/x-python",
   "name": "python",
   "nbconvert_exporter": "python",
   "pygments_lexer": "ipython3",
   "version": "3.7.3"
  }
 },
 "nbformat": 4,
 "nbformat_minor": 2
}
