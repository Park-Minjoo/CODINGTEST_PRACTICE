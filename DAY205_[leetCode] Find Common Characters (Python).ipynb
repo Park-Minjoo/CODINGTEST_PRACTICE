{
 "cells": [
  {
   "cell_type": "markdown",
   "metadata": {},
   "source": [
    "## 2020년 9월 11일 금요일\n",
    "### leetCode - Find Common Charactors (Python)\n",
    "### 문제 : https://leetcode.com/problems/find-common-characters/\n",
    "### 블로그 : https://somjang.tistory.com/entry/leetCode-1002-Find-Common-Characters-Python"
   ]
  },
  {
   "cell_type": "markdown",
   "metadata": {},
   "source": [
    "### 첫번째 시도"
   ]
  },
  {
   "cell_type": "code",
   "execution_count": null,
   "metadata": {},
   "outputs": [],
   "source": [
    "from collections import Counter\n",
    "\n",
    "class Solution:\n",
    "    def commonChars(self, A: List[str]) -> List[str]:\n",
    "        compare = collections.Counter(A[0])  \n",
    "        \n",
    "        for i in range(len(A)):\n",
    "            cnt = collections.Counter(A[i])\n",
    "            compare = compare & cnt\n",
    "            \n",
    "        answer = list(compare.elements())\n",
    "                \n",
    "        return answer"
   ]
  }
 ],
 "metadata": {
  "kernelspec": {
   "display_name": "Python 3",
   "language": "python",
   "name": "python3"
  },
  "language_info": {
   "codemirror_mode": {
    "name": "ipython",
    "version": 3
   },
   "file_extension": ".py",
   "mimetype": "text/x-python",
   "name": "python",
   "nbconvert_exporter": "python",
   "pygments_lexer": "ipython3",
   "version": "3.7.3"
  }
 },
 "nbformat": 4,
 "nbformat_minor": 2
}
