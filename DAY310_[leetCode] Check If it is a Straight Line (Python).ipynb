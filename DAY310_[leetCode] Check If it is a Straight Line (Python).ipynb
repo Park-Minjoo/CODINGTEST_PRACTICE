{
 "cells": [
  {
   "cell_type": "markdown",
   "metadata": {},
   "source": [
    "## 2021년 2월 1일 월요일\n",
    "### leetCode - Check If it is a Straight Line (Python)\n",
    "### 문제 : https://leetcode.com/problems/check-if-it-is-a-straight-line/\n",
    "### 블로그 : https://somjang.tistory.com/entry/leetCode-1232-Check-If-It-Is-a-Straight-Line-Python"
   ]
  },
  {
   "cell_type": "markdown",
   "metadata": {},
   "source": [
    "### 첫번째 시도"
   ]
  },
  {
   "cell_type": "code",
   "execution_count": null,
   "metadata": {},
   "outputs": [],
   "source": [
    "class Solution:    \n",
    "    def checkStraightLine(self, coordinates: List[List[int]]) -> bool:\n",
    "        x_points = [x[0] for x in coordinates]\n",
    "        \n",
    "        if len(set(x_points)) == 1:\n",
    "            return True\n",
    "        else:\n",
    "            point1_x, point1_y = coordinates[0]\n",
    "            point2_x, point2_y = coordinates[1]\n",
    "            dy = (point1_y-point2_y)\n",
    "            dx = (point1_x-point2_x)\n",
    "            if dx == 0:\n",
    "                dx = 1\n",
    "\n",
    "            bias = point1_y - dy/dx * point1_x\n",
    "\n",
    "            for i in range(2,len(coordinates)):\n",
    "                point_x, point_y = coordinates[i]\n",
    "                if point_y != dy/dx* point_x + bias:\n",
    "                    return False\n",
    "        return True"
   ]
  }
 ],
 "metadata": {
  "kernelspec": {
   "display_name": "Python 3",
   "language": "python",
   "name": "python3"
  },
  "language_info": {
   "codemirror_mode": {
    "name": "ipython",
    "version": 3
   },
   "file_extension": ".py",
   "mimetype": "text/x-python",
   "name": "python",
   "nbconvert_exporter": "python",
   "pygments_lexer": "ipython3",
   "version": "3.7.3"
  }
 },
 "nbformat": 4,
 "nbformat_minor": 2
}
