{
 "cells": [
  {
   "cell_type": "markdown",
   "metadata": {},
   "source": [
    "## 2020년 10월 2일 금요일\n",
    "### leetCode - Guess Number Higher or Lower (Python)\n",
    "### 문제 : https://leetcode.com/problems/guess-number-higher-or-lower/\n",
    "### 블로그 : https://somjang.tistory.com/entry/leetCode-374-Guess-Number-Higher-or-Lower-Python"
   ]
  },
  {
   "cell_type": "markdown",
   "metadata": {},
   "source": [
    "### 첫번째 시도"
   ]
  },
  {
   "cell_type": "code",
   "execution_count": null,
   "metadata": {},
   "outputs": [],
   "source": [
    "# The guess API is already defined for you.\n",
    "# @param num, your guess\n",
    "# @return -1 if my number is lower, 1 if my number is higher, otherwise return 0\n",
    "# def guess(num: int) -> int:\n",
    "\n",
    "class Solution:\n",
    "    def guessNumber(self, n: int) -> int:\n",
    "        left, right = 1, n\n",
    "        \n",
    "        while True:\n",
    "            middle_num = int((left + right) / 2)\n",
    "            if guess(middle_num) == 1:\n",
    "                left = middle_num + 1\n",
    "            elif guess(middle_num) == -1:\n",
    "                right = middle_num - 1\n",
    "            else:\n",
    "                return middle_num"
   ]
  }
 ],
 "metadata": {
  "kernelspec": {
   "display_name": "Python 3",
   "language": "python",
   "name": "python3"
  },
  "language_info": {
   "codemirror_mode": {
    "name": "ipython",
    "version": 3
   },
   "file_extension": ".py",
   "mimetype": "text/x-python",
   "name": "python",
   "nbconvert_exporter": "python",
   "pygments_lexer": "ipython3",
   "version": "3.7.3"
  }
 },
 "nbformat": 4,
 "nbformat_minor": 2
}
