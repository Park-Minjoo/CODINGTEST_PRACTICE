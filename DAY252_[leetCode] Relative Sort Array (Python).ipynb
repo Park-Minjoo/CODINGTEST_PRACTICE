{
 "cells": [
  {
   "cell_type": "markdown",
   "metadata": {},
   "source": [
    "## 2020년 11월 6일 금요일\n",
    "### leetCode - Relative Sort Array (Python)\n",
    "### 문제 : https://leetcode.com/problems/relative-sort-array/\n",
    "### 블로그 : https://somjang.tistory.com/entry/leetCode-1122-Relative-Sort-Array-Python"
   ]
  },
  {
   "cell_type": "markdown",
   "metadata": {},
   "source": [
    "### 첫번째 시도"
   ]
  },
  {
   "cell_type": "code",
   "execution_count": null,
   "metadata": {},
   "outputs": [],
   "source": [
    "from collections import Counter\n",
    "\n",
    "class Solution:\n",
    "    def relativeSortArray(self, arr1, arr2):\n",
    "        temp1 = []\n",
    "        temp2 = []\n",
    "        \n",
    "        cnt = Counter(arr1)\n",
    "        \n",
    "        for num in arr2:\n",
    "            if num in arr1:\n",
    "                temp1 = temp1 + [num] * cnt[num]\n",
    "        \n",
    "        temp2 = sorted([num for num in arr1 if num not in arr2 ])\n",
    "        \n",
    "        return temp1 + temp2"
   ]
  }
 ],
 "metadata": {
  "kernelspec": {
   "display_name": "Python 3",
   "language": "python",
   "name": "python3"
  },
  "language_info": {
   "codemirror_mode": {
    "name": "ipython",
    "version": 3
   },
   "file_extension": ".py",
   "mimetype": "text/x-python",
   "name": "python",
   "nbconvert_exporter": "python",
   "pygments_lexer": "ipython3",
   "version": "3.7.3"
  }
 },
 "nbformat": 4,
 "nbformat_minor": 2
}
