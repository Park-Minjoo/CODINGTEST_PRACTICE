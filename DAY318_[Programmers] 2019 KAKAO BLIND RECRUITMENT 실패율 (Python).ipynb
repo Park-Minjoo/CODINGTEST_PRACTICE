{
 "cells": [
  {
   "cell_type": "markdown",
   "metadata": {},
   "source": [
    "## 2021년 2월 12일 금요일\n",
    "### Programmers - 2019 KAKAO BLIND RECURITMENT 실패율 (Python)\n",
    "### 문제 : https://programmers.co.kr/learn/courses/30/lessons/42889\n",
    "### 블로그 : https://somjang.tistory.com/entry/Programmers-2019-KAKAO-BLIND-RECRUITMENT-%EC%8B%A4%ED%8C%A8%EC%9C%A8-Python"
   ]
  },
  {
   "cell_type": "markdown",
   "metadata": {},
   "source": [
    "### 첫번째 시도"
   ]
  },
  {
   "cell_type": "code",
   "execution_count": null,
   "metadata": {},
   "outputs": [],
   "source": [
    "from collections import Counter\n",
    "\n",
    "def solution(N, stages):\n",
    "    answer = []\n",
    "    \n",
    "    fail_percent = {}\n",
    "    \n",
    "    num_of_people = len(stages)\n",
    "    \n",
    "    for i in range(1, N+1):\n",
    "        count = stages.count(i)\n",
    "        if num_of_people == 0:\n",
    "            fail_percent[i] = 0\n",
    "        else:\n",
    "            fail_percent[i] = count / num_of_people\n",
    "        \n",
    "        num_of_people = num_of_people - count\n",
    "        \n",
    "    answer = [stage[0] for stage in sorted(fail_percent.items(), key=lambda x: (-x[1], x[0]))]    \n",
    "    \n",
    "    return answer"
   ]
  }
 ],
 "metadata": {
  "kernelspec": {
   "display_name": "Python 3",
   "language": "python",
   "name": "python3"
  },
  "language_info": {
   "codemirror_mode": {
    "name": "ipython",
    "version": 3
   },
   "file_extension": ".py",
   "mimetype": "text/x-python",
   "name": "python",
   "nbconvert_exporter": "python",
   "pygments_lexer": "ipython3",
   "version": "3.7.3"
  }
 },
 "nbformat": 4,
 "nbformat_minor": 2
}
