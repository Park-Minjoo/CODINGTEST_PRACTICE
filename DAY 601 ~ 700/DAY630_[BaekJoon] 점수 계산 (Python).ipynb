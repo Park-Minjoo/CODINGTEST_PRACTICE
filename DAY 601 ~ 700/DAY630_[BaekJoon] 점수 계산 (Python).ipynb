{
 "cells": [
  {
   "cell_type": "markdown",
   "metadata": {},
   "source": [
    "## 2022년 2월 20일 일요일\n",
    "### BaekJoon - 점수 계산 (Python) \n",
    "### 문제 : https://www.acmicpc.net/problem/2822\n",
    "### 블로그 : https://somjang.tistory.com/entry/BaekJoon-2822%EB%B2%88-%EC%A0%90%EC%88%98-%EA%B3%84%EC%82%B0-Python"
   ]
  },
  {
   "cell_type": "markdown",
   "metadata": {},
   "source": [
    "### Solution"
   ]
  },
  {
   "cell_type": "code",
   "execution_count": null,
   "metadata": {},
   "outputs": [],
   "source": [
    "def calculate_score(scores):\n",
    "    score_list = []\n",
    "    for idx, score in enumerate(scores, start=1):\n",
    "        score_list.append((idx, score))\n",
    "    \n",
    "    score_list = sorted(score_list, key=lambda x: -x[1])[:5]\n",
    "    \n",
    "    answer_idx = list(map(str, sorted([idx[0] for idx in score_list])))\n",
    "    answer_score = [score[1] for score in score_list]\n",
    "                      \n",
    "    return sum(answer_score), \" \".join(answer_idx)\n",
    "    \n",
    "if __name__ == \"__main__\":\n",
    "    scores = []\n",
    "    for _ in range(8):\n",
    "        score = int(input())\n",
    "        scores.append(score)\n",
    "        \n",
    "    answer = calculate_score(scores=scores)\n",
    "    \n",
    "    for ans in answer:\n",
    "        print(ans)"
   ]
  }
 ],
 "metadata": {
  "kernelspec": {
   "display_name": "Python 3",
   "language": "python",
   "name": "python3"
  },
  "language_info": {
   "codemirror_mode": {
    "name": "ipython",
    "version": 3
   },
   "file_extension": ".py",
   "mimetype": "text/x-python",
   "name": "python",
   "nbconvert_exporter": "python",
   "pygments_lexer": "ipython3",
   "version": "3.7.3"
  }
 },
 "nbformat": 4,
 "nbformat_minor": 2
}
