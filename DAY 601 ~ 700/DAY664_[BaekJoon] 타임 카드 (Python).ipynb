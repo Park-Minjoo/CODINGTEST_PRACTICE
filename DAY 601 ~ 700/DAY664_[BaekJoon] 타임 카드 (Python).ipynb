{
 "cells": [
  {
   "cell_type": "markdown",
   "metadata": {},
   "source": [
    "## 2022년 3월 30일 화요일\n",
    "### BaekJoon - 타임 카드 (Python) \n",
    "### 문제 : https://www.acmicpc.net/problem/5575\n",
    "### 블로그 : https://somjang.tistory.com/entry/BaekJoon-5575%EB%B2%88-%ED%83%80%EC%9E%84%EC%B9%B4%EB%93%9C-Python"
   ]
  },
  {
   "cell_type": "markdown",
   "metadata": {},
   "source": [
    "### Solution"
   ]
  },
  {
   "cell_type": "code",
   "execution_count": null,
   "metadata": {},
   "outputs": [],
   "source": [
    "from datetime import datetime\n",
    "\n",
    "def split_start_end_time(work_time):\n",
    "    work_time = work_time.split()\n",
    "\n",
    "    start_time = \":\".join(work_time[:3])\n",
    "    end_time = \":\".join(work_time[3:])\n",
    "    \n",
    "    return start_time, end_time\n",
    "\n",
    "\n",
    "def convert_second_to_hour_minute_second(second): \n",
    "    hour = second // 3600 \n",
    "    minute = (second // 60) - (hour * 60) \n",
    "    sec = second - (minute * 60) - (hour * 3600) \n",
    "    \n",
    "    return hour, minute, sec\n",
    "\n",
    "\n",
    "\n",
    "def time_card(work_time):\n",
    "    work_start, work_end = split_start_end_time(work_time=work_time)\n",
    "    \n",
    "    work_start = datetime.strptime(work_start, \"%H:%M:%S\") \n",
    "    work_end = datetime.strptime(work_end, \"%H:%M:%S\")\n",
    "    \n",
    "    work_total_time = (work_end - work_start).seconds\n",
    "    \n",
    "    hour, minute, sec = convert_second_to_hour_minute_second(second=work_total_time)\n",
    "    \n",
    "    return f\"{hour} {minute} {sec}\"\n",
    "\n",
    "\n",
    "if __name__ == \"__main__\":\n",
    "    A_time = input()\n",
    "    B_time = input()\n",
    "    C_time = input()\n",
    "    \n",
    "    print(time_card(A_time))\n",
    "    print(time_card(B_time))\n",
    "    print(time_card(C_time))"
   ]
  }
 ],
 "metadata": {
  "kernelspec": {
   "display_name": "Python 3",
   "language": "python",
   "name": "python3"
  },
  "language_info": {
   "codemirror_mode": {
    "name": "ipython",
    "version": 3
   },
   "file_extension": ".py",
   "mimetype": "text/x-python",
   "name": "python",
   "nbconvert_exporter": "python",
   "pygments_lexer": "ipython3",
   "version": "3.7.3"
  }
 },
 "nbformat": 4,
 "nbformat_minor": 2
}
