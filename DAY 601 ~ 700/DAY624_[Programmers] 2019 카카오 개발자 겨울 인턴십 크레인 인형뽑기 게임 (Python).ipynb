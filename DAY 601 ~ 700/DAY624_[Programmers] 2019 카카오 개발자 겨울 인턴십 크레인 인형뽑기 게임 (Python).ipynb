{
 "cells": [
  {
   "cell_type": "markdown",
   "metadata": {},
   "source": [
    "## 2022년 2월 14일 월요일\n",
    "### Programmers - 2019 카카오 개발자 겨울 인턴십 크레인 인형뽑기 게임 (Python) \n",
    "### 문제 : https://programmers.co.kr/learn/courses/30/lessons/64061\n",
    "### 블로그 : https://somjang.tistory.com/entry/Programmers-2019-%EC%B9%B4%EC%B9%B4%EC%98%A4-%EA%B0%9C%EB%B0%9C%EC%9E%90-%EA%B2%A8%EC%9A%B8-%EC%9D%B8%ED%84%B4%EC%8B%AD-%ED%81%AC%EB%A0%88%EC%9D%B8-%EC%9D%B8%ED%98%95%EB%BD%91%EA%B8%B0-%EA%B2%8C%EC%9E%84-Python"
   ]
  },
  {
   "cell_type": "markdown",
   "metadata": {},
   "source": [
    "### Solution"
   ]
  },
  {
   "cell_type": "code",
   "execution_count": null,
   "metadata": {},
   "outputs": [],
   "source": [
    "def solution(board, moves):\n",
    "    answer = 0\n",
    "    basket = [0]\n",
    "    \n",
    "    N = len(board)\n",
    "    idx_list = [0 for _ in range(N)]\n",
    "    \n",
    "    for i in range(N):\n",
    "        for j in range(N):\n",
    "            if board[j][i] != 0:\n",
    "                continue\n",
    "            idx_list[i] += 1\n",
    "        \n",
    "    for move in moves:\n",
    "        if idx_list[move-1] != N:\n",
    "            if board[idx_list[move-1]][move-1] != basket[-1]:\n",
    "                basket.append(board[idx_list[move-1]][move-1])\n",
    "                idx_list[move-1] += 1\n",
    "            else:\n",
    "                basket.pop()\n",
    "                idx_list[move-1] += 1\n",
    "                answer += 2\n",
    "        \n",
    "    return answer"
   ]
  }
 ],
 "metadata": {
  "kernelspec": {
   "display_name": "Python 3",
   "language": "python",
   "name": "python3"
  },
  "language_info": {
   "codemirror_mode": {
    "name": "ipython",
    "version": 3
   },
   "file_extension": ".py",
   "mimetype": "text/x-python",
   "name": "python",
   "nbconvert_exporter": "python",
   "pygments_lexer": "ipython3",
   "version": "3.7.3"
  }
 },
 "nbformat": 4,
 "nbformat_minor": 2
}
