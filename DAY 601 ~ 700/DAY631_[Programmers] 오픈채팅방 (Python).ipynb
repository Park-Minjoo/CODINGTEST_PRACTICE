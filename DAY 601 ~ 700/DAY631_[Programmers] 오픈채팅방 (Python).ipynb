{
 "cells": [
  {
   "cell_type": "markdown",
   "metadata": {},
   "source": [
    "## 2022년 2월 21일 월요일\n",
    "### Programmers - 오픈채팅방 (Python) \n",
    "### 문제 : https://programmers.co.kr/learn/courses/30/lessons/42888\n",
    "### 블로그 : https://somjang.tistory.com/entry/Programmers-2019-KAKAO-BLIND-RECRUITMENT-%EC%98%A4%ED%94%88%EC%B1%84%ED%8C%85%EB%B0%A9-Python"
   ]
  },
  {
   "cell_type": "markdown",
   "metadata": {},
   "source": [
    "### Solution"
   ]
  },
  {
   "cell_type": "code",
   "execution_count": null,
   "metadata": {},
   "outputs": [],
   "source": [
    "def solution(record_list):\n",
    "    answer = []\n",
    "    user_dict = {}\n",
    "    records = []\n",
    "    \n",
    "    for record in record_list:       \n",
    "        split_record = record.split()\n",
    "        \n",
    "        if split_record[0] != \"Leave\":\n",
    "            user_dict[split_record[1]] = split_record[2]\n",
    "            \n",
    "        if split_record[0] in {\"Enter\", \"Leave\"}:\n",
    "            records.append((split_record[1], split_record[0]))\n",
    "            \n",
    "    for record in records:\n",
    "        user = user_dict[record[0]]\n",
    "        if record[1] == \"Enter\":\n",
    "            answer.append(f\"{user}님이 들어왔습니다.\")\n",
    "        elif record[1] == \"Leave\":\n",
    "            answer.append(f\"{user}님이 나갔습니다.\")\n",
    "    \n",
    "    return answer"
   ]
  }
 ],
 "metadata": {
  "kernelspec": {
   "display_name": "Python 3",
   "language": "python",
   "name": "python3"
  },
  "language_info": {
   "codemirror_mode": {
    "name": "ipython",
    "version": 3
   },
   "file_extension": ".py",
   "mimetype": "text/x-python",
   "name": "python",
   "nbconvert_exporter": "python",
   "pygments_lexer": "ipython3",
   "version": "3.7.3"
  }
 },
 "nbformat": 4,
 "nbformat_minor": 2
}
