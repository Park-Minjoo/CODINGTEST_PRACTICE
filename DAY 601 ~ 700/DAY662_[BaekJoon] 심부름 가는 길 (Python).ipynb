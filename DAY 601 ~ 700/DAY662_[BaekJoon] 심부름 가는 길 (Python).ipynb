{
 "cells": [
  {
   "cell_type": "markdown",
   "metadata": {},
   "source": [
    "## 2022년 3월 28일 월요일\n",
    "### BaekJoon - 심부름 가는 길 (Python) \n",
    "### 문제 : https://www.acmicpc.net/problem/5554\n",
    "### 블로그 : https://somjang.tistory.com/entry/BaekJoon-5554%EB%B2%88-%EC%8B%AC%EB%B6%80%EB%A6%84-%EA%B0%80%EB%8A%94-%EA%B8%B8-Python"
   ]
  },
  {
   "cell_type": "markdown",
   "metadata": {},
   "source": [
    "### Solution"
   ]
  },
  {
   "cell_type": "code",
   "execution_count": null,
   "metadata": {},
   "outputs": [],
   "source": [
    "def simburun_ganumgil(time1, time2, time3, time4):\n",
    "    total_time = time1 + time2 + time3 + time4\n",
    "    \n",
    "    minute = total_time // 60\n",
    "    second = total_time % 60\n",
    "    \n",
    "    return minute, second\n",
    "\n",
    "if __name__ == \"__main__\":\n",
    "    time1 = int(input())\n",
    "    time2 = int(input())\n",
    "    time3 = int(input())\n",
    "    time4 = int(input())\n",
    "    minute, second = simburun_ganumgil(time1, time2, time3, time4)\n",
    "    \n",
    "    print(minute)\n",
    "    print(second)"
   ]
  }
 ],
 "metadata": {
  "kernelspec": {
   "display_name": "Python 3",
   "language": "python",
   "name": "python3"
  },
  "language_info": {
   "codemirror_mode": {
    "name": "ipython",
    "version": 3
   },
   "file_extension": ".py",
   "mimetype": "text/x-python",
   "name": "python",
   "nbconvert_exporter": "python",
   "pygments_lexer": "ipython3",
   "version": "3.7.3"
  }
 },
 "nbformat": 4,
 "nbformat_minor": 2
}
