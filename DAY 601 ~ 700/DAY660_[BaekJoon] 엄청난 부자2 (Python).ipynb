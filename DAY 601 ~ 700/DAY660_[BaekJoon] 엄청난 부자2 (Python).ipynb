{
 "cells": [
  {
   "cell_type": "markdown",
   "metadata": {},
   "source": [
    "## 2022년 3월 26일 토요일\n",
    "### BaekJoon - 엄청난 부자2 (Python) \n",
    "### 문제 : https://www.acmicpc.net/problem/1271\n",
    "### 블로그 : https://somjang.tistory.com/entry/BaekJoon-1271%EB%B2%88-%EC%97%84%EC%B2%AD%EB%82%9C-%EB%B6%80%EC%9E%902-Python"
   ]
  },
  {
   "cell_type": "markdown",
   "metadata": {},
   "source": [
    "### Solution"
   ]
  },
  {
   "cell_type": "code",
   "execution_count": null,
   "metadata": {},
   "outputs": [],
   "source": [
    "def rich(n, m):\n",
    "    return n // m, n % m\n",
    "\n",
    "if __name__ == \"__main__\":\n",
    "    n, m = map(int, input().split())\n",
    "    money_for_each, extra_money = rich(n, m)\n",
    "    print(money_for_each)\n",
    "    print(extra_money)"
   ]
  }
 ],
 "metadata": {
  "kernelspec": {
   "display_name": "Python 3",
   "language": "python",
   "name": "python3"
  },
  "language_info": {
   "codemirror_mode": {
    "name": "ipython",
    "version": 3
   },
   "file_extension": ".py",
   "mimetype": "text/x-python",
   "name": "python",
   "nbconvert_exporter": "python",
   "pygments_lexer": "ipython3",
   "version": "3.7.3"
  }
 },
 "nbformat": 4,
 "nbformat_minor": 2
}
