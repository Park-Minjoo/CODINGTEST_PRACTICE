{
 "cells": [
  {
   "cell_type": "markdown",
   "metadata": {},
   "source": [
    "## 2022년 2월 7일 월요일\n",
    "### BaekJoon - 집합 (Python) \n",
    "### 문제 : https://www.acmicpc.net/problem/11723\n",
    "### 블로그 : https://somjang.tistory.com/entry/BaekJoon-11723%EB%B2%88-%EC%A7%91%ED%95%A9-Python"
   ]
  },
  {
   "cell_type": "markdown",
   "metadata": {},
   "source": [
    "### Solution"
   ]
  },
  {
   "cell_type": "code",
   "execution_count": null,
   "metadata": {},
   "outputs": [],
   "source": [
    "import sys\n",
    "\n",
    "input = sys.stdin.readline\n",
    "\n",
    "def ziphap(my_ziphap, command, data):\n",
    "    if command == \"add\":\n",
    "        my_ziphap.add(data)\n",
    "    elif command == \"remove\":\n",
    "        my_ziphap.discard(data)\n",
    "    elif command == \"check\":\n",
    "        if data in my_ziphap:\n",
    "            print(1)\n",
    "        else:\n",
    "            print(0)\n",
    "    elif command == \"toggle\":\n",
    "        if data in my_ziphap:\n",
    "            my_ziphap.remove(data)\n",
    "        else:\n",
    "            my_ziphap.add(data)\n",
    "    elif command == \"all\":\n",
    "        my_ziphap = set([i for i in range(1, 21)])\n",
    "    elif command == \"empty\":\n",
    "        my_ziphap = set()\n",
    "        \n",
    "    return my_ziphap\n",
    "    \n",
    "    \n",
    "if __name__ == \"__main__\":\n",
    "    my_ziphap = set()\n",
    "\n",
    "    N = int(input())\n",
    "    \n",
    "    for _ in range(N):\n",
    "        input_command = input().split()\n",
    "        \n",
    "        command, data = None, None\n",
    "        \n",
    "        if len(input_command) == 2:\n",
    "            command, data = input_command[0], int(input_command[1])\n",
    "        else:\n",
    "            command = input_command[0]\n",
    "            \n",
    "        my_ziphap = ziphap(my_ziphap=my_ziphap, command=command, data=data)"
   ]
  }
 ],
 "metadata": {
  "kernelspec": {
   "display_name": "Python 3",
   "language": "python",
   "name": "python3"
  },
  "language_info": {
   "codemirror_mode": {
    "name": "ipython",
    "version": 3
   },
   "file_extension": ".py",
   "mimetype": "text/x-python",
   "name": "python",
   "nbconvert_exporter": "python",
   "pygments_lexer": "ipython3",
   "version": "3.7.3"
  }
 },
 "nbformat": 4,
 "nbformat_minor": 2
}
