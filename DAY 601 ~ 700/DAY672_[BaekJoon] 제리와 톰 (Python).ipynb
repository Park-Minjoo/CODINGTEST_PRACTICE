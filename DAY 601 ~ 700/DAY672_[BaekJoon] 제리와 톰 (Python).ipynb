{
 "cells": [
  {
   "cell_type": "markdown",
   "metadata": {},
   "source": [
    "## 2022년 4월 7일 목요일\n",
    "### BaekJoon - 제리와 톰 (Python) \n",
    "### 문제 : https://www.acmicpc.net/problem/16430\n",
    "### 블로그 : https://somjang.tistory.com/entry/BaekJoon-16430%EB%B2%88-%EC%A0%9C%EB%A6%AC%EC%99%80-%ED%86%B0-Python"
   ]
  },
  {
   "cell_type": "markdown",
   "metadata": {},
   "source": [
    "### Solution"
   ]
  },
  {
   "cell_type": "code",
   "execution_count": null,
   "metadata": {},
   "outputs": [],
   "source": [
    "def jerry_and_tom(A, B):\n",
    "    return f\"{B-A} {B}\"\n",
    "\n",
    "\n",
    "if __name__ == \"__main__\":\n",
    "    A, B = map(int, input().split())\n",
    "    print(jerry_and_tom(A, B))"
   ]
  }
 ],
 "metadata": {
  "kernelspec": {
   "display_name": "Python 3",
   "language": "python",
   "name": "python3"
  },
  "language_info": {
   "codemirror_mode": {
    "name": "ipython",
    "version": 3
   },
   "file_extension": ".py",
   "mimetype": "text/x-python",
   "name": "python",
   "nbconvert_exporter": "python",
   "pygments_lexer": "ipython3",
   "version": "3.7.3"
  }
 },
 "nbformat": 4,
 "nbformat_minor": 2
}
