{
 "cells": [
  {
   "cell_type": "markdown",
   "metadata": {},
   "source": [
    "## 2022년 2월 6일 일요일\n",
    "### leetCode - Replace All Digits with Characters (Python) \n",
    "### 문제 : https://leetcode.com/problems/replace-all-digits-with-characters/\n",
    "### 블로그 : https://somjang.tistory.com/entry/leetCode-1844-Replace-All-Digits-with-Characters-Python"
   ]
  },
  {
   "cell_type": "markdown",
   "metadata": {},
   "source": [
    "### Solution"
   ]
  },
  {
   "cell_type": "code",
   "execution_count": null,
   "metadata": {},
   "outputs": [],
   "source": [
    "class Solution:\n",
    "    def replaceDigits(self, s: str) -> str:\n",
    "        s_list = list(s)\n",
    "        for idx, w in enumerate(s_list):\n",
    "            if w.isdigit():\n",
    "                s_list[idx] = chr(ord(s_list[idx-1]) + int(w))\n",
    "                \n",
    "        return \"\".join(s_list)"
   ]
  }
 ],
 "metadata": {
  "kernelspec": {
   "display_name": "Python 3",
   "language": "python",
   "name": "python3"
  },
  "language_info": {
   "codemirror_mode": {
    "name": "ipython",
    "version": 3
   },
   "file_extension": ".py",
   "mimetype": "text/x-python",
   "name": "python",
   "nbconvert_exporter": "python",
   "pygments_lexer": "ipython3",
   "version": "3.7.3"
  }
 },
 "nbformat": 4,
 "nbformat_minor": 2
}
