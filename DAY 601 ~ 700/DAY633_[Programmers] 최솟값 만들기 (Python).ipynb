{
 "cells": [
  {
   "cell_type": "markdown",
   "metadata": {},
   "source": [
    "## 2022년 2월 23일 수요일\n",
    "### Programmers - 최솟값 만들기 (Python) \n",
    "### 문제 : https://programmers.co.kr/learn/courses/30/lessons/12941\n",
    "### 블로그 : https://somjang.tistory.com/entry/Programmers-%EC%B5%9C%EC%86%9F%EA%B0%92-%EB%A7%8C%EB%93%A4%EA%B8%B0-Python"
   ]
  },
  {
   "cell_type": "markdown",
   "metadata": {},
   "source": [
    "### Solution"
   ]
  },
  {
   "cell_type": "code",
   "execution_count": null,
   "metadata": {},
   "outputs": [],
   "source": [
    "def solution(A,B):\n",
    "    answer = 0\n",
    "    for a, b in zip(sorted(A), sorted(B, reverse=True)):\n",
    "        answer += a * b\n",
    "    \n",
    "    return answer"
   ]
  }
 ],
 "metadata": {
  "kernelspec": {
   "display_name": "Python 3",
   "language": "python",
   "name": "python3"
  },
  "language_info": {
   "codemirror_mode": {
    "name": "ipython",
    "version": 3
   },
   "file_extension": ".py",
   "mimetype": "text/x-python",
   "name": "python",
   "nbconvert_exporter": "python",
   "pygments_lexer": "ipython3",
   "version": "3.7.3"
  }
 },
 "nbformat": 4,
 "nbformat_minor": 2
}
