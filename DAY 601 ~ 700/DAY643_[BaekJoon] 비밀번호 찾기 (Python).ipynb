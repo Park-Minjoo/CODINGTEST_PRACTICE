{
 "cells": [
  {
   "cell_type": "markdown",
   "metadata": {},
   "source": [
    "## 2022년 3월 5일 토요일\n",
    "### BaekJoon - 비밀번호 찾기 (Python) \n",
    "### 문제 : https://www.acmicpc.net/problem/17219\n",
    "### 블로그 : https://somjang.tistory.com/entry/BaekJoon-17219%EB%B2%88-%EB%B9%84%EB%B0%80%EB%B2%88%ED%98%B8-%EC%B0%BE%EA%B8%B0-Python"
   ]
  },
  {
   "cell_type": "markdown",
   "metadata": {},
   "source": [
    "### Solution"
   ]
  },
  {
   "cell_type": "code",
   "execution_count": null,
   "metadata": {},
   "outputs": [],
   "source": [
    "import sys\n",
    "\n",
    "input = sys.stdin.readline\n",
    "\n",
    "\n",
    "def find_password(site_password_dict, site_list):\n",
    "    answer = []\n",
    "    for site in site_list:\n",
    "        answer.append(site_password_dict[site])\n",
    "        \n",
    "    return \"\\n\".join(answer)\n",
    "\n",
    "if __name__ == \"__main__\":\n",
    "    site_password_dict = {}\n",
    "    site_list = []\n",
    "    \n",
    "    input_site, find_site = map(int, input().rstrip().split())\n",
    "    \n",
    "    for _ in range(input_site):\n",
    "        site, password = input().rstrip().split()\n",
    "        site_password_dict[site] = password\n",
    "        \n",
    "    \n",
    "    for _ in range(find_site):\n",
    "        site_list.append(input().rstrip())\n",
    "        \n",
    "    print(find_password(site_password_dict, site_list))"
   ]
  }
 ],
 "metadata": {
  "kernelspec": {
   "display_name": "Python 3",
   "language": "python",
   "name": "python3"
  },
  "language_info": {
   "codemirror_mode": {
    "name": "ipython",
    "version": 3
   },
   "file_extension": ".py",
   "mimetype": "text/x-python",
   "name": "python",
   "nbconvert_exporter": "python",
   "pygments_lexer": "ipython3",
   "version": "3.7.3"
  }
 },
 "nbformat": 4,
 "nbformat_minor": 2
}
