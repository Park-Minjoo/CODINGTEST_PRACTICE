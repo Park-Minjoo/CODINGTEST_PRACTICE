{
 "cells": [
  {
   "cell_type": "markdown",
   "metadata": {},
   "source": [
    "## 2022년 3월 23일 수요일\n",
    "### BaekJoon - 조별과제를 하려는데 조장이 사라졌다 (Python) \n",
    "### 문제 : https://www.acmicpc.net/problem/15727\n",
    "### 블로그 : https://somjang.tistory.com/entry/BaekJoon-15727%EB%B2%88-%EC%A1%B0%EB%B3%84%EA%B3%BC%EC%A0%9C%EB%A5%BC-%ED%95%98%EB%A0%A4%EB%8A%94%EB%8D%B0-%EC%A1%B0%EC%9E%A5%EC%9D%B4-%EC%82%AC%EB%9D%BC%EC%A1%8C%EB%8B%A4-Python"
   ]
  },
  {
   "cell_type": "markdown",
   "metadata": {},
   "source": [
    "### Solution"
   ]
  },
  {
   "cell_type": "code",
   "execution_count": null,
   "metadata": {},
   "outputs": [],
   "source": [
    "def captain_disappeared(L):\n",
    "    minute = L // 5\n",
    "    \n",
    "    if L % 5 > 0:\n",
    "        minute += 1\n",
    "        \n",
    "    return minute\n",
    "\n",
    "\n",
    "if __name__ == \"__main__\":\n",
    "    L = int(input())\n",
    "    print(captain_disappeared(L))"
   ]
  }
 ],
 "metadata": {
  "kernelspec": {
   "display_name": "Python 3",
   "language": "python",
   "name": "python3"
  },
  "language_info": {
   "codemirror_mode": {
    "name": "ipython",
    "version": 3
   },
   "file_extension": ".py",
   "mimetype": "text/x-python",
   "name": "python",
   "nbconvert_exporter": "python",
   "pygments_lexer": "ipython3",
   "version": "3.7.3"
  }
 },
 "nbformat": 4,
 "nbformat_minor": 2
}
