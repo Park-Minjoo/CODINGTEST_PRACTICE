{
 "cells": [
  {
   "cell_type": "markdown",
   "metadata": {},
   "source": [
    "## 2022년 3월 27일 일요일\n",
    "### BaekJoon - 오늘의 날짜는? (Python) \n",
    "### 문제 : https://www.acmicpc.net/problem/16170\n",
    "### 블로그 : https://somjang.tistory.com/entry/BaekJoon-16170%EB%B2%88-%EC%98%A4%EB%8A%98%EC%9D%98-%EB%82%A0%EC%A7%9C%EB%8A%94-Python"
   ]
  },
  {
   "cell_type": "markdown",
   "metadata": {},
   "source": [
    "### Solution"
   ]
  },
  {
   "cell_type": "code",
   "execution_count": null,
   "metadata": {},
   "outputs": [],
   "source": [
    "from datetime import datetime, timezone\n",
    "\n",
    "def today():\n",
    "    now = datetime.now(timezone.utc).strftime(\"%Y-%m-%d\")\n",
    "    \n",
    "    return now.split(\"-\")\n",
    "\n",
    "if __name__ == \"__main__\":\n",
    "    now = today()\n",
    "    \n",
    "    for answer in now:\n",
    "        print(answer)"
   ]
  }
 ],
 "metadata": {
  "kernelspec": {
   "display_name": "Python 3",
   "language": "python",
   "name": "python3"
  },
  "language_info": {
   "codemirror_mode": {
    "name": "ipython",
    "version": 3
   },
   "file_extension": ".py",
   "mimetype": "text/x-python",
   "name": "python",
   "nbconvert_exporter": "python",
   "pygments_lexer": "ipython3",
   "version": "3.7.3"
  }
 },
 "nbformat": 4,
 "nbformat_minor": 2
}
