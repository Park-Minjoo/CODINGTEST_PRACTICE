{
 "cells": [
  {
   "cell_type": "markdown",
   "metadata": {},
   "source": [
    "## 2022년 3월 25일 금요일\n",
    "### BaekJoon - 콜센터 (Python) \n",
    "### 문제 : https://www.acmicpc.net/problem/5339\n",
    "### 블로그 : https://somjang.tistory.com/entry/BaekJoon-5339%EB%B2%88-%EC%BD%9C%EC%84%BC%ED%84%B0-Python"
   ]
  },
  {
   "cell_type": "markdown",
   "metadata": {},
   "source": [
    "### Solution"
   ]
  },
  {
   "cell_type": "code",
   "execution_count": null,
   "metadata": {},
   "outputs": [],
   "source": [
    "def call_center():\n",
    "    three_po = \"\"\"     /~\\\\\n",
    "    ( oo|\n",
    "    _\\=/_\n",
    "   /  _  \\\\\n",
    "  //|/.\\|\\\\\\\\\n",
    " ||  \\ /  ||\n",
    "============\n",
    "|          |\n",
    "|          |\n",
    "|          |\"\"\"\n",
    "    print(three_po)\n",
    "    \n",
    "if __name__ == \"__main__\":\n",
    "    call_center()"
   ]
  }
 ],
 "metadata": {
  "kernelspec": {
   "display_name": "Python 3",
   "language": "python",
   "name": "python3"
  },
  "language_info": {
   "codemirror_mode": {
    "name": "ipython",
    "version": 3
   },
   "file_extension": ".py",
   "mimetype": "text/x-python",
   "name": "python",
   "nbconvert_exporter": "python",
   "pygments_lexer": "ipython3",
   "version": "3.7.3"
  }
 },
 "nbformat": 4,
 "nbformat_minor": 2
}
