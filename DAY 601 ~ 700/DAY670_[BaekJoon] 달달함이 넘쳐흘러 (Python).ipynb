{
 "cells": [
  {
   "cell_type": "markdown",
   "metadata": {},
   "source": [
    "## 2022년 4월 5일 화요일\n",
    "### BaekJoon - 달달함이 넘쳐흘러 (Python) \n",
    "### 문제 : https://www.acmicpc.net/problem/17256\n",
    "### 블로그 : https://somjang.tistory.com/entry/BaekJoon-17256%EB%B2%88-%EB%8B%AC%EB%8B%AC%ED%95%A8%EC%9D%B4-%EB%84%98%EC%B3%90%ED%9D%98%EB%9F%AC-Python"
   ]
  },
  {
   "cell_type": "markdown",
   "metadata": {},
   "source": [
    "### Solution"
   ]
  },
  {
   "cell_type": "code",
   "execution_count": null,
   "metadata": {},
   "outputs": [],
   "source": [
    "def so_sweet(a, c):\n",
    "    a_x, a_y, a_z = map(int, a.split())\n",
    "    c_x, c_y, c_z = map(int, c.split())\n",
    "    \n",
    "    return f\"{c_x - a_z} {c_y // a_y} {c_z - a_x}\"\n",
    "\n",
    "\n",
    "if __name__ == \"__main__\":\n",
    "    a = input()\n",
    "    c = input()\n",
    "    print(so_sweet(a, c))"
   ]
  }
 ],
 "metadata": {
  "kernelspec": {
   "display_name": "Python 3",
   "language": "python",
   "name": "python3"
  },
  "language_info": {
   "codemirror_mode": {
    "name": "ipython",
    "version": 3
   },
   "file_extension": ".py",
   "mimetype": "text/x-python",
   "name": "python",
   "nbconvert_exporter": "python",
   "pygments_lexer": "ipython3",
   "version": "3.7.3"
  }
 },
 "nbformat": 4,
 "nbformat_minor": 2
}
