{
 "cells": [
  {
   "cell_type": "markdown",
   "metadata": {},
   "source": [
    "## 2022년 2월 24일 목요일\n",
    "### BaekJoon - 수 정렬하기 4 (Python) \n",
    "### 문제 : https://www.acmicpc.net/problem/11931\n",
    "### 블로그 : https://somjang.tistory.com/entry/BaekJoon-11931%EB%B2%88-%EC%88%98-%EC%A0%95%EB%A0%AC%ED%95%98%EA%B8%B0-4-Python"
   ]
  },
  {
   "cell_type": "markdown",
   "metadata": {},
   "source": [
    "### Solution"
   ]
  },
  {
   "cell_type": "code",
   "execution_count": null,
   "metadata": {},
   "outputs": [],
   "source": [
    "import sys\n",
    "\n",
    "def sorting_numbers_4(numbers):\n",
    "    return sorted(numbers, reverse=True)\n",
    "\n",
    "if __name__ == \"__main__\":\n",
    "    N = int(sys.stdin.readline())\n",
    "    numbers = [int(sys.stdin.readline()) for _ in range(N)]\n",
    "        \n",
    "    for num in sorted(numbers, reverse=True):\n",
    "        print(num)"
   ]
  }
 ],
 "metadata": {
  "kernelspec": {
   "display_name": "Python 3",
   "language": "python",
   "name": "python3"
  },
  "language_info": {
   "codemirror_mode": {
    "name": "ipython",
    "version": 3
   },
   "file_extension": ".py",
   "mimetype": "text/x-python",
   "name": "python",
   "nbconvert_exporter": "python",
   "pygments_lexer": "ipython3",
   "version": "3.7.3"
  }
 },
 "nbformat": 4,
 "nbformat_minor": 2
}
