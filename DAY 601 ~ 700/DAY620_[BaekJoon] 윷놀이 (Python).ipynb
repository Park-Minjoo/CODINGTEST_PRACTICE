{
 "cells": [
  {
   "cell_type": "markdown",
   "metadata": {},
   "source": [
    "## 2022년 2월 10일 목요일\n",
    "### BaekJoon - 윷놀이 (Python) \n",
    "### 문제 : https://www.acmicpc.net/problem/2490\n",
    "### 블로그 : https://somjang.tistory.com/entry/BaekJoon-2490%EB%B2%88-%EC%9C%B7%EB%86%80%EC%9D%B4-Python"
   ]
  },
  {
   "cell_type": "markdown",
   "metadata": {},
   "source": [
    "### Solution"
   ]
  },
  {
   "cell_type": "code",
   "execution_count": null,
   "metadata": {},
   "outputs": [],
   "source": [
    "def playing_yut(yuts):\n",
    "    yut_rule = [\"D\", \"C\", \"B\", \"A\", \"E\"]\n",
    "    \n",
    "    yut_info = sum(yuts)\n",
    "    \n",
    "    return yut_rule[yut_info]\n",
    "\n",
    "if __name__ == \"__main__\":\n",
    "    for i in range(3):\n",
    "        yuts = list(map(int, input().split()))\n",
    "        print(playing_yut(yuts))"
   ]
  }
 ],
 "metadata": {
  "kernelspec": {
   "display_name": "Python 3",
   "language": "python",
   "name": "python3"
  },
  "language_info": {
   "codemirror_mode": {
    "name": "ipython",
    "version": 3
   },
   "file_extension": ".py",
   "mimetype": "text/x-python",
   "name": "python",
   "nbconvert_exporter": "python",
   "pygments_lexer": "ipython3",
   "version": "3.7.3"
  }
 },
 "nbformat": 4,
 "nbformat_minor": 2
}
