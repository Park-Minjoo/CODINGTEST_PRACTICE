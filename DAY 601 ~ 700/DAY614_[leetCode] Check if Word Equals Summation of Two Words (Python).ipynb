{
 "cells": [
  {
   "cell_type": "markdown",
   "metadata": {},
   "source": [
    "## 2022년 2월 4일 금요일\n",
    "### leetCode - Check if Word Equals Summation of Two Words (Python) \n",
    "### 문제 : https://leetcode.com/problems/check-if-word-equals-summation-of-two-words/\n",
    "### 블로그 : https://somjang.tistory.com/entry/leetCode-1880-Check-if-Word-Equals-Summation-of-Two-Words-Python"
   ]
  },
  {
   "cell_type": "markdown",
   "metadata": {},
   "source": [
    "### Solution"
   ]
  },
  {
   "cell_type": "code",
   "execution_count": null,
   "metadata": {},
   "outputs": [],
   "source": [
    "class Solution:\n",
    "    @staticmethod\n",
    "    def convert_word_to_num(Word):\n",
    "        return int(\"\".join([str(ord(word) - ord('a')) for word in list(Word)]))\n",
    "    \n",
    "    def isSumEqual(self, firstWord: str, secondWord: str, targetWord: str) -> bool:\n",
    "        answer = False\n",
    "        \n",
    "        firstWord_num = self.convert_word_to_num(firstWord)\n",
    "        secondWord_num = self.convert_word_to_num(secondWord)\n",
    "        targetWord_num = self.convert_word_to_num(targetWord)\n",
    "        \n",
    "        if firstWord_num + secondWord_num == targetWord_num:\n",
    "            answer = True\n",
    "            \n",
    "        return answer"
   ]
  }
 ],
 "metadata": {
  "kernelspec": {
   "display_name": "Python 3",
   "language": "python",
   "name": "python3"
  },
  "language_info": {
   "codemirror_mode": {
    "name": "ipython",
    "version": 3
   },
   "file_extension": ".py",
   "mimetype": "text/x-python",
   "name": "python",
   "nbconvert_exporter": "python",
   "pygments_lexer": "ipython3",
   "version": "3.7.3"
  }
 },
 "nbformat": 4,
 "nbformat_minor": 2
}
