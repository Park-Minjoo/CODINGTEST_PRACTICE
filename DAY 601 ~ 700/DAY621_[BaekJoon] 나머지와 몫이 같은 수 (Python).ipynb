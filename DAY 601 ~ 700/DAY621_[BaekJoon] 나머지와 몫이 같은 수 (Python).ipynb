{
 "cells": [
  {
   "cell_type": "markdown",
   "metadata": {},
   "source": [
    "## 2022년 2월 11일 금요일\n",
    "### BaekJoon - 나머지와 몫이 같은 수 (Python) \n",
    "### 문제 : https://www.acmicpc.net/problem/1834\n",
    "### 블로그 : https://somjang.tistory.com/entry/BaekJoon-1834%EB%B2%88-%EB%82%98%EB%A8%B8%EC%A7%80%EC%99%80-%EB%AA%AB%EC%9D%B4-%EA%B0%99%EC%9D%80-%EC%88%98-Python"
   ]
  },
  {
   "cell_type": "markdown",
   "metadata": {},
   "source": [
    "### Solution"
   ]
  },
  {
   "cell_type": "code",
   "execution_count": null,
   "metadata": {},
   "outputs": [],
   "source": [
    "def a_number_equal_to_the_remainder(N):\n",
    "    print([(N*i + i) for i in range(1, N)])\n",
    "    return sum([(N*i + i) for i in range(1, N)])\n",
    "\n",
    "if __name__ == \"__main__\":\n",
    "    N = int(input())\n",
    "    print(a_number_equal_to_the_remainder(N))"
   ]
  }
 ],
 "metadata": {
  "kernelspec": {
   "display_name": "Python 3",
   "language": "python",
   "name": "python3"
  },
  "language_info": {
   "codemirror_mode": {
    "name": "ipython",
    "version": 3
   },
   "file_extension": ".py",
   "mimetype": "text/x-python",
   "name": "python",
   "nbconvert_exporter": "python",
   "pygments_lexer": "ipython3",
   "version": "3.7.3"
  }
 },
 "nbformat": 4,
 "nbformat_minor": 2
}
