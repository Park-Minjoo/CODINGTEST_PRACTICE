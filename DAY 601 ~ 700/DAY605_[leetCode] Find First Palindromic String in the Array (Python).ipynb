{
 "cells": [
  {
   "cell_type": "markdown",
   "metadata": {},
   "source": [
    "## 2022년 1월 26일 수요일\n",
    "### leetCode - Find First Palindromic String in the Array (Python) \n",
    "### 문제 : https://somjang.tistory.com/entry/leetCode-2108-Find-First-Palindromic-String-in-the-Array-Python\n",
    "### 블로그 : https://leetcode.com/problems/find-first-palindromic-string-in-the-array/"
   ]
  },
  {
   "cell_type": "markdown",
   "metadata": {},
   "source": [
    "### Solution"
   ]
  },
  {
   "cell_type": "code",
   "execution_count": null,
   "metadata": {},
   "outputs": [],
   "source": [
    "class Solution:\n",
    "    def firstPalindrome(self, words: List[str]) -> str:\n",
    "        answer = \"\"\n",
    "        palindrome_list = [word for word in words if word == word[::-1]]\n",
    "        \n",
    "        if len(palindrome_list) != 0:\n",
    "            answer = palindrome_list[0]\n",
    "            \n",
    "        return answer"
   ]
  }
 ],
 "metadata": {
  "kernelspec": {
   "display_name": "Python 3",
   "language": "python",
   "name": "python3"
  },
  "language_info": {
   "codemirror_mode": {
    "name": "ipython",
    "version": 3
   },
   "file_extension": ".py",
   "mimetype": "text/x-python",
   "name": "python",
   "nbconvert_exporter": "python",
   "pygments_lexer": "ipython3",
   "version": "3.7.3"
  }
 },
 "nbformat": 4,
 "nbformat_minor": 2
}
