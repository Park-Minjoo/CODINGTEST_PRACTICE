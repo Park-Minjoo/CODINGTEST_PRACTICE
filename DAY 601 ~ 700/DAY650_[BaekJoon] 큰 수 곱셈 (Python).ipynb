{
 "cells": [
  {
   "cell_type": "markdown",
   "metadata": {},
   "source": [
    "## 2022년 3월 13일 일요일\n",
    "### BaekJoon - 큰 수 곱셈 (Python) \n",
    "### 문제 : https://www.acmicpc.net/problem/13277\n",
    "### 블로그 : https://somjang.tistory.com/entry/BaekJoon-13277%EB%B2%88-%ED%81%B0-%EC%88%98-%EA%B3%B1%EC%85%88-Python"
   ]
  },
  {
   "cell_type": "markdown",
   "metadata": {},
   "source": [
    "### Solution"
   ]
  },
  {
   "cell_type": "code",
   "execution_count": null,
   "metadata": {},
   "outputs": [],
   "source": [
    "import sys\n",
    "\n",
    "input = sys.stdin.readline\n",
    "\n",
    "def big_number_multiply(A, B):\n",
    "    return A * B\n",
    "\n",
    "if __name__ == \"__main__\":\n",
    "    A, B = map(int, input().rstrip().split())\n",
    "\n",
    "    print(big_number_multiply(A, B))"
   ]
  }
 ],
 "metadata": {
  "kernelspec": {
   "display_name": "Python 3",
   "language": "python",
   "name": "python3"
  },
  "language_info": {
   "codemirror_mode": {
    "name": "ipython",
    "version": 3
   },
   "file_extension": ".py",
   "mimetype": "text/x-python",
   "name": "python",
   "nbconvert_exporter": "python",
   "pygments_lexer": "ipython3",
   "version": "3.7.3"
  }
 },
 "nbformat": 4,
 "nbformat_minor": 2
}
