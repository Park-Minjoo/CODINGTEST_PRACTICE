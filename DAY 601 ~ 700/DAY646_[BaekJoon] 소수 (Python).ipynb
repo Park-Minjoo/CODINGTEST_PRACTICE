{
 "cells": [
  {
   "cell_type": "markdown",
   "metadata": {},
   "source": [
    "## 2022년 3월 8일 화요일\n",
    "### BaekJoon - 소수 (Python) \n",
    "### 문제 : https://www.acmicpc.net/problem/1312\n",
    "### 블로그 : https://somjang.tistory.com/entry/BaekJoon-1312%EB%B2%88-%EC%86%8C%EC%88%98-Python"
   ]
  },
  {
   "cell_type": "markdown",
   "metadata": {},
   "source": [
    "### Solution"
   ]
  },
  {
   "cell_type": "code",
   "execution_count": null,
   "metadata": {},
   "outputs": [],
   "source": [
    "def decimal_num(A, B, N):\n",
    "    for _ in range(N):\n",
    "        A = (A - (A // B) * B) * 10\n",
    "        \n",
    "        answer = A // B\n",
    "    \n",
    "    return answer\n",
    "\n",
    "\n",
    "if __name__ == \"__main__\":\n",
    "    A, B, N = map(int, input().split())\n",
    "    print(decimal_num(A, B, N))"
   ]
  }
 ],
 "metadata": {
  "kernelspec": {
   "display_name": "Python 3",
   "language": "python",
   "name": "python3"
  },
  "language_info": {
   "codemirror_mode": {
    "name": "ipython",
    "version": 3
   },
   "file_extension": ".py",
   "mimetype": "text/x-python",
   "name": "python",
   "nbconvert_exporter": "python",
   "pygments_lexer": "ipython3",
   "version": "3.7.3"
  }
 },
 "nbformat": 4,
 "nbformat_minor": 2
}
