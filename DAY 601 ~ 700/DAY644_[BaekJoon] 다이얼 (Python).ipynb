{
 "cells": [
  {
   "cell_type": "markdown",
   "metadata": {},
   "source": [
    "## 2022년 3월 6일 일요일\n",
    "### BaekJoon - 다이얼 (Python) \n",
    "### 문제 : https://www.acmicpc.net/problem/5622\n",
    "### 블로그 : https://somjang.tistory.com/entry/BaekJoon-5622%EB%B2%88-%EB%8B%A4%EC%9D%B4%EC%96%BC-Python"
   ]
  },
  {
   "cell_type": "markdown",
   "metadata": {},
   "source": [
    "### Solution"
   ]
  },
  {
   "cell_type": "code",
   "execution_count": null,
   "metadata": {},
   "outputs": [],
   "source": [
    "def dial(telephone_number):\n",
    "    dial_dict = {\"A\": 3, \"B\": 3, \"C\": 3, \"D\": 4, \"E\": 4, \"F\": 4, \n",
    "                 \"G\": 5, \"H\": 5, \"I\": 5, \"J\": 6, \"K\": 6, \"L\": 6, \n",
    "                 \"M\": 7, \"N\": 7, \"O\": 7, \"P\": 8, \"Q\": 8, \"R\": 8, \"S\": 8, \n",
    "                 \"T\": 9, \"U\": 9, \"V\": 9, \"W\": 10, \"X\": 10, \"Y\": 10, \"Z\": 10}\n",
    "    time = 0\n",
    "    \n",
    "    for dial_num in list(telephone_number):\n",
    "        time += dial_dict[dial_num]\n",
    "        \n",
    "    return time\n",
    "\n",
    "if __name__ == \"__main__\":\n",
    "    telephone_number = input()\n",
    "    \n",
    "    print(dial(telephone_number))"
   ]
  }
 ],
 "metadata": {
  "kernelspec": {
   "display_name": "Python 3",
   "language": "python",
   "name": "python3"
  },
  "language_info": {
   "codemirror_mode": {
    "name": "ipython",
    "version": 3
   },
   "file_extension": ".py",
   "mimetype": "text/x-python",
   "name": "python",
   "nbconvert_exporter": "python",
   "pygments_lexer": "ipython3",
   "version": "3.7.3"
  }
 },
 "nbformat": 4,
 "nbformat_minor": 2
}
