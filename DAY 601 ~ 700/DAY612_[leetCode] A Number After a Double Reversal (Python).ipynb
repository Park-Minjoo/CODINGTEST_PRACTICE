{
 "cells": [
  {
   "cell_type": "markdown",
   "metadata": {},
   "source": [
    "## 2022년 2월 2일 수요일\n",
    "### leetCode - A Number After a Double Reversal (Python) \n",
    "### 문제 : https://leetcode.com/problems/a-number-after-a-double-reversal/\n",
    "### 블로그 : https://somjang.tistory.com/entry/leetCode-2119-A-Number-After-a-Double-Reversal-Python"
   ]
  },
  {
   "cell_type": "markdown",
   "metadata": {},
   "source": [
    "### Solution"
   ]
  },
  {
   "cell_type": "code",
   "execution_count": null,
   "metadata": {},
   "outputs": [],
   "source": [
    "class Solution:\n",
    "    def isSameAfterReversals(self, num: int) -> bool:\n",
    "        answer = False\n",
    "        \n",
    "        reverse_num_01 = int(str(num)[::-1])\n",
    "        reverse_num_02 = int(str(reverse_num_01)[::-1])\n",
    "        \n",
    "        if num == reverse_num_02:\n",
    "            answer = True\n",
    "            \n",
    "        return answer"
   ]
  }
 ],
 "metadata": {
  "kernelspec": {
   "display_name": "Python 3",
   "language": "python",
   "name": "python3"
  },
  "language_info": {
   "codemirror_mode": {
    "name": "ipython",
    "version": 3
   },
   "file_extension": ".py",
   "mimetype": "text/x-python",
   "name": "python",
   "nbconvert_exporter": "python",
   "pygments_lexer": "ipython3",
   "version": "3.7.3"
  }
 },
 "nbformat": 4,
 "nbformat_minor": 2
}
