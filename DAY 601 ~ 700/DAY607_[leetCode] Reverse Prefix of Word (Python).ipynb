{
 "cells": [
  {
   "cell_type": "markdown",
   "metadata": {},
   "source": [
    "## 2022년 1월 28일 금요일\n",
    "### leetCode - Reverse Prefix of Word (Python) \n",
    "### 문제 : https://leetcode.com/problems/reverse-prefix-of-word/\n",
    "### 블로그 : https://somjang.tistory.com/entry/leetCode-2000-Reverse-Prefix-of-Word-Python"
   ]
  },
  {
   "cell_type": "markdown",
   "metadata": {},
   "source": [
    "### Solution"
   ]
  },
  {
   "cell_type": "code",
   "execution_count": null,
   "metadata": {},
   "outputs": [],
   "source": [
    "class Solution:\n",
    "    def reversePrefix(self, word: str, ch: str) -> str:\n",
    "        check_idx = word.find(ch)\n",
    "        if check_idx != -1:\n",
    "            word = word[:check_idx + 1][::-1] + word[check_idx+1:]\n",
    "            \n",
    "        return word"
   ]
  }
 ],
 "metadata": {
  "kernelspec": {
   "display_name": "Python 3",
   "language": "python",
   "name": "python3"
  },
  "language_info": {
   "codemirror_mode": {
    "name": "ipython",
    "version": 3
   },
   "file_extension": ".py",
   "mimetype": "text/x-python",
   "name": "python",
   "nbconvert_exporter": "python",
   "pygments_lexer": "ipython3",
   "version": "3.7.3"
  }
 },
 "nbformat": 4,
 "nbformat_minor": 2
}
