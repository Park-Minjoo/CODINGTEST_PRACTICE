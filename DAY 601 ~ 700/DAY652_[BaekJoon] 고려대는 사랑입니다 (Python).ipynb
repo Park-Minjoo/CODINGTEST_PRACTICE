{
 "cells": [
  {
   "cell_type": "markdown",
   "metadata": {},
   "source": [
    "## 2022년 3월 18일 금요일\n",
    "### BaekJoon - 고려대는 사랑입니다 (Python) \n",
    "### 문제 : https://www.acmicpc.net/problem/11942\n",
    "### 블로그 : https://somjang.tistory.com/entry/BaekJoon-11942%EB%B2%88-%EA%B3%A0%EB%A0%A4%EB%8C%80%EB%8A%94-%EC%82%AC%EB%9E%91%EC%9E%85%EB%8B%88%EB%8B%A4-Python"
   ]
  },
  {
   "cell_type": "markdown",
   "metadata": {},
   "source": [
    "### Solution"
   ]
  },
  {
   "cell_type": "code",
   "execution_count": null,
   "metadata": {},
   "outputs": [],
   "source": [
    "def korea_university_is_love():\n",
    "    print(\"고려대학교\")\n",
    "    \n",
    "if __name__ == \"__main__\":\n",
    "    korea_university_is_love()"
   ]
  }
 ],
 "metadata": {
  "kernelspec": {
   "display_name": "Python 3",
   "language": "python",
   "name": "python3"
  },
  "language_info": {
   "codemirror_mode": {
    "name": "ipython",
    "version": 3
   },
   "file_extension": ".py",
   "mimetype": "text/x-python",
   "name": "python",
   "nbconvert_exporter": "python",
   "pygments_lexer": "ipython3",
   "version": "3.7.3"
  }
 },
 "nbformat": 4,
 "nbformat_minor": 2
}
