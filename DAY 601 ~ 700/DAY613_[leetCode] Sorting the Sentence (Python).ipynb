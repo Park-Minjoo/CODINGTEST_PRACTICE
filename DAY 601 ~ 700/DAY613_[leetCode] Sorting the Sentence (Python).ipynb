{
 "cells": [
  {
   "cell_type": "markdown",
   "metadata": {},
   "source": [
    "## 2022년 2월 3일 목요일\n",
    "### leetCode - Sorting the Sentence (Python) \n",
    "### 문제 : https://leetcode.com/problems/sorting-the-sentence/\n",
    "### 블로그 : https://somjang.tistory.com/entry/leetCode-1859-Sorting-the-Sentence-Python"
   ]
  },
  {
   "cell_type": "markdown",
   "metadata": {},
   "source": [
    "### Solution"
   ]
  },
  {
   "cell_type": "code",
   "execution_count": null,
   "metadata": {},
   "outputs": [],
   "source": [
    "class Solution:\n",
    "    def sortSentence(self, s: str) -> str:\n",
    "        split_sentence = sorted([(word[:-1], int(word[-1:])) for word in s.split()], key=lambda x: x[1])\n",
    "        \n",
    "        sorted_sentence = [word[0] for word in split_sentence]\n",
    "        \n",
    "        return \" \".join(sorted_sentence)"
   ]
  }
 ],
 "metadata": {
  "kernelspec": {
   "display_name": "Python 3",
   "language": "python",
   "name": "python3"
  },
  "language_info": {
   "codemirror_mode": {
    "name": "ipython",
    "version": 3
   },
   "file_extension": ".py",
   "mimetype": "text/x-python",
   "name": "python",
   "nbconvert_exporter": "python",
   "pygments_lexer": "ipython3",
   "version": "3.7.3"
  }
 },
 "nbformat": 4,
 "nbformat_minor": 2
}
