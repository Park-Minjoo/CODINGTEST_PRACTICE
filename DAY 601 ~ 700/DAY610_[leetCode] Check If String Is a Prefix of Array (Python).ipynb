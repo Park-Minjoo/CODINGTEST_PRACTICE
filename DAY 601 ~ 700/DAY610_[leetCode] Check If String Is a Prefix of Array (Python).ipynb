{
 "cells": [
  {
   "cell_type": "markdown",
   "metadata": {},
   "source": [
    "## 2022년 1월 31일 월요일\n",
    "### leetCode - Check If String Is a Prefix of Array (Python) \n",
    "### 문제 : https://leetcode.com/problems/check-if-string-is-a-prefix-of-array/\n",
    "### 블로그 : https://somjang.tistory.com/entry/leetCode-1961-Check-If-String-Is-a-Prefix-of-Array-Python"
   ]
  },
  {
   "cell_type": "markdown",
   "metadata": {},
   "source": [
    "### Solution"
   ]
  },
  {
   "cell_type": "code",
   "execution_count": null,
   "metadata": {},
   "outputs": [],
   "source": [
    "class Solution:\n",
    "    def isPrefixString(self, s: str, words: List[str]) -> bool:\n",
    "        answer = False\n",
    "        \n",
    "        check_string = \"\"\n",
    "        \n",
    "        for word in words:\n",
    "            check_string += word\n",
    "            \n",
    "            if len(check_string) > len(s):\n",
    "                break\n",
    "                \n",
    "            if check_string == s:\n",
    "                answer = True\n",
    "                break\n",
    "            \n",
    "        return answer"
   ]
  }
 ],
 "metadata": {
  "kernelspec": {
   "display_name": "Python 3",
   "language": "python",
   "name": "python3"
  },
  "language_info": {
   "codemirror_mode": {
    "name": "ipython",
    "version": 3
   },
   "file_extension": ".py",
   "mimetype": "text/x-python",
   "name": "python",
   "nbconvert_exporter": "python",
   "pygments_lexer": "ipython3",
   "version": "3.7.3"
  }
 },
 "nbformat": 4,
 "nbformat_minor": 2
}
