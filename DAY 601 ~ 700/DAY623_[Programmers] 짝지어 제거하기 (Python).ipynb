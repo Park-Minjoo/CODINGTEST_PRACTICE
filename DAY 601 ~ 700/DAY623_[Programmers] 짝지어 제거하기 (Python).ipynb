{
 "cells": [
  {
   "cell_type": "markdown",
   "metadata": {},
   "source": [
    "## 2022년 2월 13일 일요일\n",
    "### Programmers - 짝지어 제거하기 (Python) \n",
    "### 문제 : https://programmers.co.kr/learn/courses/30/lessons/12973\n",
    "### 블로그 : https://somjang.tistory.com/entry/Programmers-2017-%ED%8C%81%EC%8A%A4%ED%83%80%EC%9A%B4-%EC%A7%9D%EC%A7%80%EC%96%B4-%EC%A0%9C%EA%B1%B0%ED%95%98%EA%B8%B0-Python"
   ]
  },
  {
   "cell_type": "markdown",
   "metadata": {},
   "source": [
    "### Solution"
   ]
  },
  {
   "cell_type": "code",
   "execution_count": null,
   "metadata": {},
   "outputs": [],
   "source": [
    "def solution(s):\n",
    "    answer = 0\n",
    "    \n",
    "    check_list = []\n",
    "    \n",
    "    for char in s:\n",
    "        if len(check_list) == 0 or check_list[-1] != char:\n",
    "            check_list.append(char)\n",
    "        elif check_list[-1] == char:\n",
    "            check_list.pop()  \n",
    "        else:\n",
    "             check_list.append(char)\n",
    "            \n",
    "    if len(check_list) == 0:\n",
    "        answer = 1\n",
    "\n",
    "    return answer"
   ]
  }
 ],
 "metadata": {
  "kernelspec": {
   "display_name": "Python 3",
   "language": "python",
   "name": "python3"
  },
  "language_info": {
   "codemirror_mode": {
    "name": "ipython",
    "version": 3
   },
   "file_extension": ".py",
   "mimetype": "text/x-python",
   "name": "python",
   "nbconvert_exporter": "python",
   "pygments_lexer": "ipython3",
   "version": "3.7.3"
  }
 },
 "nbformat": 4,
 "nbformat_minor": 2
}
