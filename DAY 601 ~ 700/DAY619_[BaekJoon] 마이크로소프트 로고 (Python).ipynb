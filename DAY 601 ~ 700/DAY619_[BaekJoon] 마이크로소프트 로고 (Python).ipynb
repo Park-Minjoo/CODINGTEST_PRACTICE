{
 "cells": [
  {
   "cell_type": "markdown",
   "metadata": {},
   "source": [
    "## 2022년 2월 9일 수요일\n",
    "### BaekJoon - 마이크로소프트 로고 (Python) \n",
    "### 문제 : https://www.acmicpc.net/problem/5338\n",
    "### 블로그 : https://somjang.tistory.com/entry/BaekJoon-5338%EB%B2%88-%EB%A7%88%EC%9D%B4%ED%81%AC%EB%A1%9C%EC%86%8C%ED%94%84%ED%8A%B8-%EB%A1%9C%EA%B3%A0-Python"
   ]
  },
  {
   "cell_type": "markdown",
   "metadata": {},
   "source": [
    "### Solution"
   ]
  },
  {
   "cell_type": "code",
   "execution_count": 1,
   "metadata": {},
   "outputs": [
    {
     "name": "stdout",
     "output_type": "stream",
     "text": [
      "       _.-;;-._\n",
      "'-..-'|   ||   |\n",
      "'-..-'|_.-;;-._|\n",
      "'-..-'|   ||   |\n",
      "'-..-'|_.-''-._|\n"
     ]
    }
   ],
   "source": [
    "def microsoft_logo():\n",
    "    print(\"\"\"       _.-;;-._\n",
    "'-..-'|   ||   |\n",
    "'-..-'|_.-;;-._|\n",
    "'-..-'|   ||   |\n",
    "'-..-'|_.-''-._|\"\"\")\n",
    "    \n",
    "if __name__ == \"__main__\":\n",
    "    microsoft_logo()"
   ]
  }
 ],
 "metadata": {
  "kernelspec": {
   "display_name": "Python 3",
   "language": "python",
   "name": "python3"
  },
  "language_info": {
   "codemirror_mode": {
    "name": "ipython",
    "version": 3
   },
   "file_extension": ".py",
   "mimetype": "text/x-python",
   "name": "python",
   "nbconvert_exporter": "python",
   "pygments_lexer": "ipython3",
   "version": "3.7.3"
  }
 },
 "nbformat": 4,
 "nbformat_minor": 2
}
