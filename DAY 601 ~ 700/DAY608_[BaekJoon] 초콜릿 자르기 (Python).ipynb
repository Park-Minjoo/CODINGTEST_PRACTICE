{
 "cells": [
  {
   "cell_type": "markdown",
   "metadata": {},
   "source": [
    "## 2022년 1월 29일 토요일\n",
    "### BaekJoon - 초콜릿 자르기 (Python) \n",
    "### 문제 : https://www.acmicpc.net/problem/2163\n",
    "### 블로그 : https://somjang.tistory.com/entry/BaekJoon-2163%EB%B2%88-%EC%B4%88%EC%BD%9C%EB%A6%BF-%EC%9E%90%EB%A5%B4%EA%B8%B0-Python"
   ]
  },
  {
   "cell_type": "markdown",
   "metadata": {},
   "source": [
    "### Solution"
   ]
  },
  {
   "cell_type": "code",
   "execution_count": null,
   "metadata": {},
   "outputs": [],
   "source": [
    "def cut_chocolate(N, M):\n",
    "    return (N-1) + N * (M-1)\n",
    "\n",
    "if __name__ == \"__main__\":\n",
    "    N, M = map(int, input().split())\n",
    "    print(cut_chocolate(N, M))"
   ]
  }
 ],
 "metadata": {
  "kernelspec": {
   "display_name": "Python 3",
   "language": "python",
   "name": "python3"
  },
  "language_info": {
   "codemirror_mode": {
    "name": "ipython",
    "version": 3
   },
   "file_extension": ".py",
   "mimetype": "text/x-python",
   "name": "python",
   "nbconvert_exporter": "python",
   "pygments_lexer": "ipython3",
   "version": "3.7.3"
  }
 },
 "nbformat": 4,
 "nbformat_minor": 2
}
