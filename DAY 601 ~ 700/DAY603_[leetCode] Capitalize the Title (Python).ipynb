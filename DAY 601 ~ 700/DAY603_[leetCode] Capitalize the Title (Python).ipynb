{
 "cells": [
  {
   "cell_type": "markdown",
   "metadata": {},
   "source": [
    "## 2022년 1월 24일 월요일\n",
    "### leetCode - Capitalize the Title (Python) \n",
    "### 문제 : https://leetcode.com/problems/maximum-number-of-words-found-in-sentences/\n",
    "### 블로그 : https://somjang.tistory.com/entry/leetCode-2129-Capitalize-the-Title-Python"
   ]
  },
  {
   "cell_type": "markdown",
   "metadata": {},
   "source": [
    "### Solution"
   ]
  },
  {
   "cell_type": "code",
   "execution_count": null,
   "metadata": {},
   "outputs": [],
   "source": [
    "class Solution:\n",
    "    def capitalizeTitle(self, title: str) -> str:\n",
    "        answer = []\n",
    "        lower_title = title.lower()\n",
    "        \n",
    "        lower_title_list = lower_title.split()\n",
    "        \n",
    "        for title in lower_title_list:\n",
    "            if len(title) > 2:\n",
    "                title = title.capitalize()\n",
    "            \n",
    "            answer.append(title)\n",
    "                \n",
    "        return \" \".join(answer)"
   ]
  }
 ],
 "metadata": {
  "kernelspec": {
   "display_name": "Python 3",
   "language": "python",
   "name": "python3"
  },
  "language_info": {
   "codemirror_mode": {
    "name": "ipython",
    "version": 3
   },
   "file_extension": ".py",
   "mimetype": "text/x-python",
   "name": "python",
   "nbconvert_exporter": "python",
   "pygments_lexer": "ipython3",
   "version": "3.7.3"
  }
 },
 "nbformat": 4,
 "nbformat_minor": 2
}
