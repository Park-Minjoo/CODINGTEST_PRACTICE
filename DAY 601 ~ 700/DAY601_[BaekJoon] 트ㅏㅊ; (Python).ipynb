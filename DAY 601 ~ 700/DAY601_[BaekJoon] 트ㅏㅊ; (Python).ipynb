{
 "cells": [
  {
   "cell_type": "markdown",
   "metadata": {},
   "source": [
    "## 2022년 1월 22일 토요일\n",
    "### BaekJoon - 트ㅏㅊ; (Python) \n",
    "### 문제 : https://www.acmicpc.net/problem/4378\n",
    "### 블로그 : https://somjang.tistory.com/entry/BaekJoon-4378%EB%B2%88-%ED%8A%B8%E3%85%8F%E3%85%8A-Python"
   ]
  },
  {
   "cell_type": "markdown",
   "metadata": {},
   "source": [
    "### Solution"
   ]
  },
  {
   "cell_type": "code",
   "execution_count": null,
   "metadata": {},
   "outputs": [],
   "source": [
    "def te_ach(error_str):\n",
    "    correct_str = \"\"\n",
    "    \n",
    "    keyboard_corr_dict = {\n",
    "        \"1\": \"`\", \"2\": \"1\", \"3\": \"2\", \"4\": \"3\", \"5\": \"4\", \"6\": \"5\", \"7\": \"6\", \"8\": \"7\", \"9\": \"8\", \"0\": \"9\", \"-\": \"0\", \"=\": \"-\",\n",
    "        \"w\": \"q\", \"e\": \"w\", \"r\": \"e\", \"t\": \"r\", \"y\": \"t\", \"u\": \"y\", \"i\": \"u\", \"o\": \"i\", \"p\": \"o\", \"[\": \"p\", \"]\": \"[\", \"\\\\\": \"]\",\n",
    "        \"s\": \"a\", \"d\": \"s\", \"f\": \"d\", \"g\": \"f\", \"h\": \"g\", \"j\": \"h\", \"k\": \"j\", \"l\": \"k\", \";\": \"l\", \"'\": \";\",\n",
    "        \"x\": \"z\", \"c\": \"x\", \"v\": \"c\", \"b\": \"v\", \"n\": \"b\", \"m\": \"n\", \",\": \"m\", \".\":\",\", \"/\": \".\", \" \": \" \"\n",
    "    }\n",
    "            \n",
    "    return keyboard_corr_dict[error_str.lower()].upper()\n",
    "\n",
    "\n",
    "if __name__ == \"__main__\":\n",
    "    while True:\n",
    "        try:\n",
    "            for type_word in input():\n",
    "                print(te_ach(type_word), end='')\n",
    "            print()\n",
    "        except:\n",
    "            break"
   ]
  }
 ],
 "metadata": {
  "kernelspec": {
   "display_name": "Python 3",
   "language": "python",
   "name": "python3"
  },
  "language_info": {
   "codemirror_mode": {
    "name": "ipython",
    "version": 3
   },
   "file_extension": ".py",
   "mimetype": "text/x-python",
   "name": "python",
   "nbconvert_exporter": "python",
   "pygments_lexer": "ipython3",
   "version": "3.7.3"
  }
 },
 "nbformat": 4,
 "nbformat_minor": 2
}
