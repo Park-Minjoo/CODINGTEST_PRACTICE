{
 "cells": [
  {
   "cell_type": "markdown",
   "metadata": {},
   "source": [
    "## 2022년 3월 21일 월요일\n",
    "### BaekJoon - A/B - 3 (Python) \n",
    "### 문제 : https://www.acmicpc.net/problem/16428\n",
    "### 블로그 : https://somjang.tistory.com/entry/BaekJoon-16428%EB%B2%88-AB-3-Python"
   ]
  },
  {
   "cell_type": "markdown",
   "metadata": {},
   "source": [
    "### Solution"
   ]
  },
  {
   "cell_type": "code",
   "execution_count": null,
   "metadata": {},
   "outputs": [],
   "source": [
    "def a_div_b(A, B):\n",
    "    q, r = A // B, A % B\n",
    "    \n",
    "    while True:\n",
    "        if r >= 0:\n",
    "            break\n",
    "        q += 1\n",
    "        r -= B\n",
    "    return q, r\n",
    "\n",
    "if __name__ == \"__main__\":\n",
    "    A, B = map(int, input().split())\n",
    "    answer = a_div_b(A, B)\n",
    "    \n",
    "    for ans in answer:\n",
    "        print(ans)"
   ]
  }
 ],
 "metadata": {
  "kernelspec": {
   "display_name": "Python 3",
   "language": "python",
   "name": "python3"
  },
  "language_info": {
   "codemirror_mode": {
    "name": "ipython",
    "version": 3
   },
   "file_extension": ".py",
   "mimetype": "text/x-python",
   "name": "python",
   "nbconvert_exporter": "python",
   "pygments_lexer": "ipython3",
   "version": "3.7.3"
  }
 },
 "nbformat": 4,
 "nbformat_minor": 2
}
