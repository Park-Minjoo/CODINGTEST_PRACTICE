{
 "cells": [
  {
   "cell_type": "markdown",
   "metadata": {},
   "source": [
    "## 2022년 3월 9일 수요일\n",
    "### BaekJoon - 나는야 포켓몬 마스터 이다솜 (Python) \n",
    "### 문제 : https://www.acmicpc.net/problem/1620\n",
    "### 블로그 : https://somjang.tistory.com/entry/BaekJoon-1620%EB%B2%88-%EB%82%98%EB%8A%94%EC%95%BC-%ED%8F%AC%EC%BC%93%EB%AA%AC-%EB%A7%88%EC%8A%A4%ED%84%B0-%EC%9D%B4%EB%8B%A4%EC%86%9C-Python"
   ]
  },
  {
   "cell_type": "markdown",
   "metadata": {},
   "source": [
    "### Solution"
   ]
  },
  {
   "cell_type": "code",
   "execution_count": null,
   "metadata": {},
   "outputs": [],
   "source": [
    "import sys\n",
    "\n",
    "input = sys.stdin.readline\n",
    "\n",
    "def i_am_pocketmon_master_dasom_lee(pocketmon_dogam, quiz_list):\n",
    "    dogam_pocketmons = [item[0] for item in sorted(list(pocketmon_dogam.items()), key=lambda x: x[1])]\n",
    "    \n",
    "    for quiz in quiz_list:\n",
    "        if quiz.isdigit():\n",
    "            print(dogam_pocketmons[int(quiz)-1])\n",
    "        else:\n",
    "            print(pocketmon_dogam[quiz])\n",
    "            \n",
    "\n",
    "if __name__ == \"__main__\":\n",
    "    M, N = map(int, input().split())\n",
    "    \n",
    "    pocketmon_dogam = {}\n",
    "    quiz_list = []\n",
    "    \n",
    "    for i in range(1, M+1):\n",
    "        pocketmon = input().rstrip()\n",
    "        pocketmon_dogam[pocketmon] = i\n",
    "        \n",
    "    for i in range(N):\n",
    "        quiz = input().rstrip()\n",
    "        quiz_list.append(quiz)\n",
    "        \n",
    "    i_am_pocketmon_master_dasom_lee(pocketmon_dogam, quiz_list)"
   ]
  }
 ],
 "metadata": {
  "kernelspec": {
   "display_name": "Python 3",
   "language": "python",
   "name": "python3"
  },
  "language_info": {
   "codemirror_mode": {
    "name": "ipython",
    "version": 3
   },
   "file_extension": ".py",
   "mimetype": "text/x-python",
   "name": "python",
   "nbconvert_exporter": "python",
   "pygments_lexer": "ipython3",
   "version": "3.7.3"
  }
 },
 "nbformat": 4,
 "nbformat_minor": 2
}
