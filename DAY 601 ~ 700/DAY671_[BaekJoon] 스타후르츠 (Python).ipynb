{
 "cells": [
  {
   "cell_type": "markdown",
   "metadata": {},
   "source": [
    "## 2022년 4월 6일 수요일\n",
    "### BaekJoon - 스타후르츠 (Python) \n",
    "### 문제 : https://www.acmicpc.net/problem/17496\n",
    "### 블로그 : https://somjang.tistory.com/entry/BaekJoon-17496%EB%B2%88-%EC%8A%A4%ED%83%80%ED%9B%84%EB%A5%B4%EC%B8%A0-Python"
   ]
  },
  {
   "cell_type": "markdown",
   "metadata": {},
   "source": [
    "### Solution"
   ]
  },
  {
   "cell_type": "code",
   "execution_count": null,
   "metadata": {},
   "outputs": [],
   "source": [
    "def star_fruit(N, T, C, P):\n",
    "    harvest_day = 1\n",
    "    harvest_count = 0\n",
    "    \n",
    "    while True:\n",
    "        harvest_day += T\n",
    "        if harvest_day > N:\n",
    "            break\n",
    "        harvest_count += 1\n",
    "    \n",
    "    total_harvest = harvest_count * C\n",
    "    \n",
    "    return total_harvest * P\n",
    "\n",
    "\n",
    "if __name__ == \"__main__\":\n",
    "    N, T, C, P = map(int, input().split())\n",
    "    print(star_fruit(N, T, C, P))"
   ]
  }
 ],
 "metadata": {
  "kernelspec": {
   "display_name": "Python 3",
   "language": "python",
   "name": "python3"
  },
  "language_info": {
   "codemirror_mode": {
    "name": "ipython",
    "version": 3
   },
   "file_extension": ".py",
   "mimetype": "text/x-python",
   "name": "python",
   "nbconvert_exporter": "python",
   "pygments_lexer": "ipython3",
   "version": "3.7.3"
  }
 },
 "nbformat": 4,
 "nbformat_minor": 2
}
