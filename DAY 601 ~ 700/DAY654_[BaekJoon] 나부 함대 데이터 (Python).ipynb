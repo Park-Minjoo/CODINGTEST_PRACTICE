{
 "cells": [
  {
   "cell_type": "markdown",
   "metadata": {},
   "source": [
    "## 2022년 3월 20일 일요일\n",
    "### BaekJoon - 나부 함대 데이터 (Python) \n",
    "### 문제 : https://www.acmicpc.net/problem/9654\n",
    "### 블로그 : https://somjang.tistory.com/entry/BaekJoon-9654%EB%B2%88-%EB%82%98%EB%B6%80-%ED%95%A8%EB%8C%80-%EB%8D%B0%EC%9D%B4%ED%84%B0-Python"
   ]
  },
  {
   "cell_type": "markdown",
   "metadata": {},
   "source": [
    "### Solution"
   ]
  },
  {
   "cell_type": "code",
   "execution_count": null,
   "metadata": {},
   "outputs": [],
   "source": [
    "def naboo_fleet_data():\n",
    "    print(\"\"\"SHIP NAME      CLASS          DEPLOYMENT IN SERVICE\n",
    "N2 Bomber      Heavy Fighter  Limited    21        \n",
    "J-Type 327     Light Combat   Unlimited  1         \n",
    "NX Cruiser     Medium Fighter Limited    18        \n",
    "N1 Starfighter Medium Fighter Unlimited  25        \n",
    "Royal Cruiser  Light Combat   Limited    4\"\"\")\n",
    "    \n",
    "if __name__ == \"__main__\":\n",
    "    naboo_fleet_data()"
   ]
  }
 ],
 "metadata": {
  "kernelspec": {
   "display_name": "Python 3",
   "language": "python",
   "name": "python3"
  },
  "language_info": {
   "codemirror_mode": {
    "name": "ipython",
    "version": 3
   },
   "file_extension": ".py",
   "mimetype": "text/x-python",
   "name": "python",
   "nbconvert_exporter": "python",
   "pygments_lexer": "ipython3",
   "version": "3.7.3"
  }
 },
 "nbformat": 4,
 "nbformat_minor": 2
}
