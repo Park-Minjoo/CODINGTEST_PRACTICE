{
 "cells": [
  {
   "cell_type": "markdown",
   "metadata": {},
   "source": [
    "## 2022년 3월 22일 화요일\n",
    "### BaekJoon - 꼬마 정민 (Python) \n",
    "### 문제 : https://www.acmicpc.net/problem/11382\n",
    "### 블로그 : https://somjang.tistory.com/entry/BaekJoon-11382%EB%B2%88-%EA%BC%AC%EB%A7%88-%EC%A0%95%EB%AF%BC-Python"
   ]
  },
  {
   "cell_type": "markdown",
   "metadata": {},
   "source": [
    "### Solution"
   ]
  },
  {
   "cell_type": "code",
   "execution_count": null,
   "metadata": {},
   "outputs": [],
   "source": [
    "def little_jungmin(A, B, C):\n",
    "    return A + B + C\n",
    "\n",
    "if __name__ == \"__main__\":\n",
    "    A, B, C = map(int, input().split())\n",
    "    print(little_jungmin(A, B, C))"
   ]
  }
 ],
 "metadata": {
  "kernelspec": {
   "display_name": "Python 3",
   "language": "python",
   "name": "python3"
  },
  "language_info": {
   "codemirror_mode": {
    "name": "ipython",
    "version": 3
   },
   "file_extension": ".py",
   "mimetype": "text/x-python",
   "name": "python",
   "nbconvert_exporter": "python",
   "pygments_lexer": "ipython3",
   "version": "3.7.3"
  }
 },
 "nbformat": 4,
 "nbformat_minor": 2
}
