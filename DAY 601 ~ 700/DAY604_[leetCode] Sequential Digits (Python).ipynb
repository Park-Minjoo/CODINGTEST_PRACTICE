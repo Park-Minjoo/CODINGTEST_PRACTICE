{
 "cells": [
  {
   "cell_type": "markdown",
   "metadata": {},
   "source": [
    "## 2022년 1월 25일 화요일\n",
    "### leetCode - Sequential Digits (Python) \n",
    "### 문제 : https://leetcode.com/problems/sequential-digits/\n",
    "### 블로그 : https://somjang.tistory.com/entry/leetCode-1291-Sequential-Digits-Python"
   ]
  },
  {
   "cell_type": "markdown",
   "metadata": {},
   "source": [
    "### Solution"
   ]
  },
  {
   "cell_type": "code",
   "execution_count": null,
   "metadata": {},
   "outputs": [],
   "source": [
    "class Solution:\n",
    "    def sequentialDigits(self, low: int, high: int) -> List[int]:\n",
    "        answer = []\n",
    "        num_string = \"123456789\"\n",
    "        \n",
    "        min_len, max_len = len(str(low)), len(str(high))\n",
    "        \n",
    "        for i in range(min_len, max_len + 1):\n",
    "            for j in range(len(num_string) - i + 1):\n",
    "                if low <= int(num_string[j:j+i]) <= high:\n",
    "                    answer.append(int(num_string[j:j+i]))\n",
    "                    \n",
    "        return answer"
   ]
  }
 ],
 "metadata": {
  "kernelspec": {
   "display_name": "Python 3",
   "language": "python",
   "name": "python3"
  },
  "language_info": {
   "codemirror_mode": {
    "name": "ipython",
    "version": 3
   },
   "file_extension": ".py",
   "mimetype": "text/x-python",
   "name": "python",
   "nbconvert_exporter": "python",
   "pygments_lexer": "ipython3",
   "version": "3.7.3"
  }
 },
 "nbformat": 4,
 "nbformat_minor": 2
}
