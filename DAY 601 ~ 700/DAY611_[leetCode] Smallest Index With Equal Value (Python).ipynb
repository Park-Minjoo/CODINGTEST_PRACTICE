{
 "cells": [
  {
   "cell_type": "markdown",
   "metadata": {},
   "source": [
    "## 2022년 2월 1일 화요일 - 설날!\n",
    "### leetCode - Smallest Index With Equal Value (Python) \n",
    "### 문제 : https://leetcode.com/problems/smallest-index-with-equal-value/\n",
    "### 블로그 : https://somjang.tistory.com/entry/leetCode-2057-Smallest-Index-With-Equal-Value-Python"
   ]
  },
  {
   "cell_type": "markdown",
   "metadata": {},
   "source": [
    "### Solution"
   ]
  },
  {
   "cell_type": "code",
   "execution_count": null,
   "metadata": {},
   "outputs": [],
   "source": [
    "class Solution:\n",
    "    def smallestEqual(self, nums: List[int]) -> int:\n",
    "        answer = -1\n",
    "        for idx, num in enumerate(nums):\n",
    "            if idx % 10 == num:\n",
    "                answer = idx\n",
    "                break\n",
    "                \n",
    "        return answer"
   ]
  }
 ],
 "metadata": {
  "kernelspec": {
   "display_name": "Python 3",
   "language": "python",
   "name": "python3"
  },
  "language_info": {
   "codemirror_mode": {
    "name": "ipython",
    "version": 3
   },
   "file_extension": ".py",
   "mimetype": "text/x-python",
   "name": "python",
   "nbconvert_exporter": "python",
   "pygments_lexer": "ipython3",
   "version": "3.7.3"
  }
 },
 "nbformat": 4,
 "nbformat_minor": 2
}
