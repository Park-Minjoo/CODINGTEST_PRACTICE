{
 "cells": [
  {
   "cell_type": "markdown",
   "metadata": {},
   "source": [
    "## 2022년 3월 12일 토요일\n",
    "### BaekJoon - 생일 출력하기 (Python) \n",
    "### 문제 : https://www.acmicpc.net/problem/2555\n",
    "### 블로그 : https://somjang.tistory.com/entry/BaekJoon-2555%EB%B2%88-%EC%83%9D%EC%9D%BC-%EC%B6%9C%EB%A0%A5%ED%95%98%EA%B8%B0-Python"
   ]
  },
  {
   "cell_type": "markdown",
   "metadata": {},
   "source": [
    "### Solution"
   ]
  },
  {
   "cell_type": "code",
   "execution_count": null,
   "metadata": {},
   "outputs": [],
   "source": [
    "def baekjoon_site_birthday():\n",
    "    print(\"3/19\")\n",
    "    \n",
    "if __name__ == \"__main__\":\n",
    "    baekjoon_site_birthday()"
   ]
  }
 ],
 "metadata": {
  "kernelspec": {
   "display_name": "Python 3",
   "language": "python",
   "name": "python3"
  },
  "language_info": {
   "codemirror_mode": {
    "name": "ipython",
    "version": 3
   },
   "file_extension": ".py",
   "mimetype": "text/x-python",
   "name": "python",
   "nbconvert_exporter": "python",
   "pygments_lexer": "ipython3",
   "version": "3.7.3"
  }
 },
 "nbformat": 4,
 "nbformat_minor": 2
}
