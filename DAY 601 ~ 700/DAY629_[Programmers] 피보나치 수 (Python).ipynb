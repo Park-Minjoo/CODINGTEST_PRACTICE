{
 "cells": [
  {
   "cell_type": "markdown",
   "metadata": {},
   "source": [
    "## 2022년 2월 19일 토요일\n",
    "### Programmers - 피보나치 수 (Python) \n",
    "### 문제 : https://programmers.co.kr/learn/courses/30/lessons/12945\n",
    "### 블로그 : https://somjang.tistory.com/entry/Programmers-%ED%94%BC%EB%B3%B4%EB%82%98%EC%B9%98-%EC%88%98-Python"
   ]
  },
  {
   "cell_type": "markdown",
   "metadata": {},
   "source": [
    "### Solution"
   ]
  },
  {
   "cell_type": "code",
   "execution_count": null,
   "metadata": {},
   "outputs": [],
   "source": [
    "def solution(n):\n",
    "    answer = 0\n",
    "    fibo_num_list = [0, 1]\n",
    "    \n",
    "    for i in range(n-1):\n",
    "        fibo_num_list.append(fibo_num_list[i] + fibo_num_list[i+1])\n",
    "        \n",
    "    return fibo_num_list[n] % 1234567"
   ]
  }
 ],
 "metadata": {
  "kernelspec": {
   "display_name": "Python 3",
   "language": "python",
   "name": "python3"
  },
  "language_info": {
   "codemirror_mode": {
    "name": "ipython",
    "version": 3
   },
   "file_extension": ".py",
   "mimetype": "text/x-python",
   "name": "python",
   "nbconvert_exporter": "python",
   "pygments_lexer": "ipython3",
   "version": "3.7.3"
  }
 },
 "nbformat": 4,
 "nbformat_minor": 2
}
