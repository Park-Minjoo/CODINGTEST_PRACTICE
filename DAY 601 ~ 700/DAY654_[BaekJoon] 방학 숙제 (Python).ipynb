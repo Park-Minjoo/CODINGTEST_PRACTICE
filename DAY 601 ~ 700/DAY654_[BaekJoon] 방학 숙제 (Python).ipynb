{
 "cells": [
  {
   "cell_type": "markdown",
   "metadata": {},
   "source": [
    "## 2022년 3월 19일 토요일\n",
    "### BaekJoon - 방학 숙제 (Python) \n",
    "### 문제 : https://www.acmicpc.net/problem/5532\n",
    "### 블로그 : https://somjang.tistory.com/entry/BaekJoon-5532%EB%B2%88-%EB%B0%A9%ED%95%99-%EC%88%99%EC%A0%9C-Python"
   ]
  },
  {
   "cell_type": "markdown",
   "metadata": {},
   "source": [
    "### Solution"
   ]
  },
  {
   "cell_type": "code",
   "execution_count": null,
   "metadata": {},
   "outputs": [],
   "source": [
    "import math\n",
    "\n",
    "def vacation_homework(vacation_day, kor_homework, math_homework, kor_oneday, math_oneday):\n",
    "    kor_day = math.ceil(kor_homework / kor_oneday)\n",
    "    math_day = math.ceil(math_homework / math_oneday)\n",
    "    \n",
    "    return vacation_day - max(kor_day, math_day)\n",
    "\n",
    "if __name__ == \"__main__\":\n",
    "    L = int(input())\n",
    "    A = int(input())\n",
    "    B = int(input())\n",
    "    C = int(input())\n",
    "    D = int(input())\n",
    "    \n",
    "    print(vacation_homework(L, A, B, C, D))"
   ]
  }
 ],
 "metadata": {
  "kernelspec": {
   "display_name": "Python 3",
   "language": "python",
   "name": "python3"
  },
  "language_info": {
   "codemirror_mode": {
    "name": "ipython",
    "version": 3
   },
   "file_extension": ".py",
   "mimetype": "text/x-python",
   "name": "python",
   "nbconvert_exporter": "python",
   "pygments_lexer": "ipython3",
   "version": "3.7.3"
  }
 },
 "nbformat": 4,
 "nbformat_minor": 2
}
