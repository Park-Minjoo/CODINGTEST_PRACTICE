{
 "cells": [
  {
   "cell_type": "markdown",
   "metadata": {},
   "source": [
    "## 2022년 3월 10일 목요일\n",
    "### BaekJoon - 골드바흐의 추측 (Python) \n",
    "### 문제 : https://www.acmicpc.net/problem/9020\n",
    "### 블로그 : https://somjang.tistory.com/entry/BaekJoon-9020%EB%B2%88-%EA%B3%A8%EB%93%9C%EB%B0%94%ED%9D%90%EC%9D%98-%EC%B6%94%EC%B8%A1-Python"
   ]
  },
  {
   "cell_type": "markdown",
   "metadata": {},
   "source": [
    "### Solution"
   ]
  },
  {
   "cell_type": "code",
   "execution_count": null,
   "metadata": {},
   "outputs": [],
   "source": [
    "def getPrimaryNum_Eratos(N): \n",
    "    nums = [True] * (N + 1) \n",
    "    \n",
    "    for i in range(2, len(nums) // 2 + 1): \n",
    "        if nums[i]: \n",
    "            for j in range(i+i, N, i): \n",
    "                nums[j] = False \n",
    "                \n",
    "    return nums\n",
    "\n",
    "\n",
    "def goldbach_conejction(n, sosu_list):\n",
    "    left, right = n // 2, n // 2\n",
    "    \n",
    "    for _ in range(10000):\n",
    "        if sosu_list[left] and sosu_list[right]:\n",
    "            print(left, right)\n",
    "            break\n",
    "            \n",
    "        left, right = left - 1, right + 1\n",
    "    \n",
    "if __name__ == \"__main__\":\n",
    "    sosu_list = getPrimaryNum_Eratos(10000)\n",
    "    \n",
    "    for _ in range(int(input())):\n",
    "        n = int(input())\n",
    "        \n",
    "        goldbach_conejction(n, sosu_list)"
   ]
  }
 ],
 "metadata": {
  "kernelspec": {
   "display_name": "Python 3",
   "language": "python",
   "name": "python3"
  },
  "language_info": {
   "codemirror_mode": {
    "name": "ipython",
    "version": 3
   },
   "file_extension": ".py",
   "mimetype": "text/x-python",
   "name": "python",
   "nbconvert_exporter": "python",
   "pygments_lexer": "ipython3",
   "version": "3.7.3"
  }
 },
 "nbformat": 4,
 "nbformat_minor": 2
}
