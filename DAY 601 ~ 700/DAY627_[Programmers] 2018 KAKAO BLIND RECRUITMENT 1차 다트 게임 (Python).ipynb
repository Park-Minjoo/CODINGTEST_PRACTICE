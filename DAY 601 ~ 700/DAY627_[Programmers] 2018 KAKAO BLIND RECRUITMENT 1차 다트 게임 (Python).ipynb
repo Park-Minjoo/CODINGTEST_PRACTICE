{
 "cells": [
  {
   "cell_type": "markdown",
   "metadata": {},
   "source": [
    "## 2022년 2월 17일 목요일\n",
    "### Programmers - 2018 KAKAO BLIND RECRUITMENT - [1차] 다트 게임 (Python) \n",
    "### 문제 : https://programmers.co.kr/learn/courses/30/lessons/17682\n",
    "### 블로그 : https://somjang.tistory.com/entry/Programmers-2018-KAKAO-BLIND-RECRUITMENT-1%EC%B0%A8-%EB%8B%A4%ED%8A%B8-%EA%B2%8C%EC%9E%84-Python"
   ]
  },
  {
   "cell_type": "markdown",
   "metadata": {},
   "source": [
    "### Solution"
   ]
  },
  {
   "cell_type": "code",
   "execution_count": null,
   "metadata": {},
   "outputs": [],
   "source": [
    "def solution(dartResult):\n",
    "    temp_list = []\n",
    "    temp = \"\"\n",
    "    idx = -1\n",
    "    \n",
    "    for dart in dartResult:\n",
    "        if dart == \"S\":\n",
    "            temp_list.append(pow(int(temp), 1))\n",
    "            temp = \"\"\n",
    "            idx += 1\n",
    "        elif dart == \"D\":\n",
    "            temp_list.append(pow(int(temp), 2))\n",
    "            temp = \"\"\n",
    "            idx += 1\n",
    "        elif dart == \"T\":\n",
    "            temp_list.append(pow(int(temp), 3))\n",
    "            temp = \"\"\n",
    "            idx += 1\n",
    "        elif dart == \"*\":\n",
    "            if idx < 1:\n",
    "                temp_list[idx] = temp_list[idx] * 2\n",
    "            else:\n",
    "                temp_list[idx] = temp_list[idx] * 2\n",
    "                temp_list[idx-1] = temp_list[idx-1] * 2\n",
    "        elif dart == \"#\":\n",
    "            temp_list[idx] = temp_list[idx] * -1\n",
    "        else:\n",
    "            temp += dart\n",
    "    \n",
    "    return sum(temp_list)"
   ]
  }
 ],
 "metadata": {
  "kernelspec": {
   "display_name": "Python 3",
   "language": "python",
   "name": "python3"
  },
  "language_info": {
   "codemirror_mode": {
    "name": "ipython",
    "version": 3
   },
   "file_extension": ".py",
   "mimetype": "text/x-python",
   "name": "python",
   "nbconvert_exporter": "python",
   "pygments_lexer": "ipython3",
   "version": "3.7.3"
  }
 },
 "nbformat": 4,
 "nbformat_minor": 2
}
