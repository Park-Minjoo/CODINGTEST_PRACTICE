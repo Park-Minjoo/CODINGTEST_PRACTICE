{
 "cells": [
  {
   "cell_type": "markdown",
   "metadata": {},
   "source": [
    "## 2022년 1월 27일 목요일\n",
    "### leetCode - Sum of Digits of String After Convert (Python) \n",
    "### 문제 : https://leetcode.com/problems/sum-of-digits-of-string-after-convert/\n",
    "### 블로그 : https://somjang.tistory.com/entry/leetCode-1945-Sum-of-Digits-of-String-After-Convert-Python"
   ]
  },
  {
   "cell_type": "markdown",
   "metadata": {},
   "source": [
    "### Solution"
   ]
  },
  {
   "cell_type": "code",
   "execution_count": null,
   "metadata": {},
   "outputs": [],
   "source": [
    "class Solution:\n",
    "    def getLucky(self, s: str, k: int) -> int:\n",
    "        alphabet_list = list(s)\n",
    "        \n",
    "        convert_str = []\n",
    "        \n",
    "        for alpha in alphabet_list:\n",
    "            convert_str.append(str(ord(alpha) - ord('a') + 1))\n",
    "            \n",
    "        convert_str = \"\".join(convert_str)\n",
    "        \n",
    "        transform_num = list(convert_str)\n",
    "        \n",
    "        for i in range(k):\n",
    "            transform_num = sum(list(map(int, transform_num)))\n",
    "            if i < k-1:\n",
    "                transform_num = list(str(transform_num))\n",
    "                \n",
    "        return transform_num"
   ]
  }
 ],
 "metadata": {
  "kernelspec": {
   "display_name": "Python 3",
   "language": "python",
   "name": "python3"
  },
  "language_info": {
   "codemirror_mode": {
    "name": "ipython",
    "version": 3
   },
   "file_extension": ".py",
   "mimetype": "text/x-python",
   "name": "python",
   "nbconvert_exporter": "python",
   "pygments_lexer": "ipython3",
   "version": "3.7.3"
  }
 },
 "nbformat": 4,
 "nbformat_minor": 2
}
