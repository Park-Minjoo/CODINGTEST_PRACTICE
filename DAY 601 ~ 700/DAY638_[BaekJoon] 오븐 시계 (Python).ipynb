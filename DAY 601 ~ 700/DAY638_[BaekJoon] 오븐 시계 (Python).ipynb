{
 "cells": [
  {
   "cell_type": "markdown",
   "metadata": {},
   "source": [
    "## 2022년 2월 28일 월요일\n",
    "### BaekJoon - 오븐 시계 (Python) \n",
    "### 문제 : https://www.acmicpc.net/problem/2525\n",
    "### 블로그 : https://somjang.tistory.com/entry/BaekJoon-2525%EB%B2%88-%EC%98%A4%EB%B8%90-%EC%8B%9C%EA%B3%84-Python"
   ]
  },
  {
   "cell_type": "markdown",
   "metadata": {},
   "source": [
    "### Solution"
   ]
  },
  {
   "cell_type": "code",
   "execution_count": null,
   "metadata": {},
   "outputs": [],
   "source": [
    "def oven_clock(hour, minute, cooking_time):\n",
    "    minute += cooking_time\n",
    "    extra_hour = 0\n",
    "\n",
    "    if minute > 59:\n",
    "        extra_hour = minute // 60\n",
    "        minute = minute % 60\n",
    "        \n",
    "    hour += extra_hour\n",
    "    \n",
    "    hour = hour % 24\n",
    "    \n",
    "    return f\"{hour} {minute}\"\n",
    "\n",
    "if __name__ == \"__main__\":\n",
    "    hour, minute = map(int, input().split())\n",
    "    cooking_time = int(input())\n",
    "    finish_time = oven_clock(hour=hour, minute=minute, \n",
    "                             cooking_time=cooking_time)\n",
    "    print(finish_time)"
   ]
  }
 ],
 "metadata": {
  "kernelspec": {
   "display_name": "Python 3",
   "language": "python",
   "name": "python3"
  },
  "language_info": {
   "codemirror_mode": {
    "name": "ipython",
    "version": 3
   },
   "file_extension": ".py",
   "mimetype": "text/x-python",
   "name": "python",
   "nbconvert_exporter": "python",
   "pygments_lexer": "ipython3",
   "version": "3.7.3"
  }
 },
 "nbformat": 4,
 "nbformat_minor": 2
}
