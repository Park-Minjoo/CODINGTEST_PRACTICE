{
 "cells": [
  {
   "cell_type": "markdown",
   "metadata": {},
   "source": [
    "## 2022년 3월 3일 목요일\n",
    "### BaekJoon - 분해합 (Python) \n",
    "### 문제 : https://www.acmicpc.net/problem/2231\n",
    "### 블로그 : https://somjang.tistory.com/entry/BaekJoon-2231%EB%B2%88-%EB%B6%84%ED%95%B4%ED%95%A9-Python"
   ]
  },
  {
   "cell_type": "markdown",
   "metadata": {},
   "source": [
    "### Solution"
   ]
  },
  {
   "cell_type": "code",
   "execution_count": null,
   "metadata": {},
   "outputs": [],
   "source": [
    "def decomposition_sum(N):\n",
    "    answer = 0\n",
    "    N_len = len(str(N))\n",
    "    \n",
    "    min_num = N - (len(str(N)) - 1) * 9 - int(str(N)[0])\n",
    "    \n",
    "    for num in range(min_num, N):\n",
    "        temp = num + sum(list(map(int, list(str(num)))))\n",
    "        \n",
    "        if temp == N:\n",
    "            answer = num\n",
    "            break\n",
    "            \n",
    "    return answer\n",
    "\n",
    "if __name__ == \"__main__\":\n",
    "    N = int(input())\n",
    "    print(decomposition_sum(N))"
   ]
  }
 ],
 "metadata": {
  "kernelspec": {
   "display_name": "Python 3",
   "language": "python",
   "name": "python3"
  },
  "language_info": {
   "codemirror_mode": {
    "name": "ipython",
    "version": 3
   },
   "file_extension": ".py",
   "mimetype": "text/x-python",
   "name": "python",
   "nbconvert_exporter": "python",
   "pygments_lexer": "ipython3",
   "version": "3.7.3"
  }
 },
 "nbformat": 4,
 "nbformat_minor": 2
}
