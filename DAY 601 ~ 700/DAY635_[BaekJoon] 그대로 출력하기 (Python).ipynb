{
 "cells": [
  {
   "cell_type": "markdown",
   "metadata": {},
   "source": [
    "## 2022년 2월 25일 금요일\n",
    "### BaekJoon - 그대로 출력하기 (Python) \n",
    "### 문제 : https://www.acmicpc.net/problem/11718\n",
    "### 블로그 : https://somjang.tistory.com/entry/BaekJoon-11718%EB%B2%88-%EA%B7%B8%EB%8C%80%EB%A1%9C-%EC%B6%9C%EB%A0%A5%ED%95%98%EA%B8%B0-Python"
   ]
  },
  {
   "cell_type": "markdown",
   "metadata": {},
   "source": [
    "### Solution"
   ]
  },
  {
   "cell_type": "code",
   "execution_count": null,
   "metadata": {},
   "outputs": [],
   "source": [
    "def just_print():\n",
    "    while True:\n",
    "        try:\n",
    "            mystr = input()\n",
    "            if mystr == '':\n",
    "                break\n",
    "            else:\n",
    "                print(mystr)\n",
    "        except EOFError:\n",
    "            break\n",
    "\n",
    "if __name__ == \"__main__\":\n",
    "    just_print()"
   ]
  }
 ],
 "metadata": {
  "kernelspec": {
   "display_name": "Python 3",
   "language": "python",
   "name": "python3"
  },
  "language_info": {
   "codemirror_mode": {
    "name": "ipython",
    "version": 3
   },
   "file_extension": ".py",
   "mimetype": "text/x-python",
   "name": "python",
   "nbconvert_exporter": "python",
   "pygments_lexer": "ipython3",
   "version": "3.7.3"
  }
 },
 "nbformat": 4,
 "nbformat_minor": 2
}
