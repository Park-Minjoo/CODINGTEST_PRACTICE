{
 "cells": [
  {
   "cell_type": "markdown",
   "metadata": {},
   "source": [
    "## 2022년 4월 2일 토요일\n",
    "### BaekJoon - 인공지능 시계 (Python) \n",
    "### 문제 : https://www.acmicpc.net/problem/2530\n",
    "### 블로그 : https://somjang.tistory.com/entry/BaekJoon-2530%EB%B2%88-%EC%9D%B8%EA%B3%B5%EC%A7%80%EB%8A%A5-%EC%8B%9C%EA%B3%84-Python"
   ]
  },
  {
   "cell_type": "markdown",
   "metadata": {},
   "source": [
    "### Solution"
   ]
  },
  {
   "cell_type": "code",
   "execution_count": null,
   "metadata": {},
   "outputs": [],
   "source": [
    "def convert_second_to_hour_minute_second(second): \n",
    "    hour = second // 3600 \n",
    "    minute = (second // 60) - (hour * 60) \n",
    "    sec = second - (minute * 60) - (hour * 3600) \n",
    "    \n",
    "    return hour, minute, sec\n",
    "\n",
    "\n",
    "def artificial_intelligence_clock(hour, minute, second, cooking_time):\n",
    "    cooking_hour, cooking_minute, cooking_seccond = convert_second_to_hour_minute_second(cooking_time)\n",
    "    \n",
    "    hour, minute, second = hour + cooking_hour, minute + cooking_minute, second + cooking_seccond\n",
    "    \n",
    "    if second >= 60:\n",
    "        second -= 60\n",
    "        minute += 1\n",
    "        \n",
    "    if minute >= 60:\n",
    "        minute -= 60\n",
    "        hour += 1\n",
    "        \n",
    "    if hour >= 24:\n",
    "        hour = hour % 24\n",
    "        \n",
    "    return f\"{hour} {minute} {second}\"\n",
    "\n",
    "\n",
    "if __name__ == \"__main__\":\n",
    "    hour, minute, second = map(int, input().split())\n",
    "    cooking_time = int(input())\n",
    "    \n",
    "    print(artificial_intelligence_clock(hour, minute, second, cooking_time))"
   ]
  }
 ],
 "metadata": {
  "kernelspec": {
   "display_name": "Python 3",
   "language": "python",
   "name": "python3"
  },
  "language_info": {
   "codemirror_mode": {
    "name": "ipython",
    "version": 3
   },
   "file_extension": ".py",
   "mimetype": "text/x-python",
   "name": "python",
   "nbconvert_exporter": "python",
   "pygments_lexer": "ipython3",
   "version": "3.7.3"
  }
 },
 "nbformat": 4,
 "nbformat_minor": 2
}
