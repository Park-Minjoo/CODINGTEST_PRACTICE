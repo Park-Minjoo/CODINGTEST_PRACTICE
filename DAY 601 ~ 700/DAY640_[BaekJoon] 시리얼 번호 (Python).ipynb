{
 "cells": [
  {
   "cell_type": "markdown",
   "metadata": {},
   "source": [
    "## 2022년 3월 2일 수요일\n",
    "### BaekJoon - 시리얼 번호 (Python) \n",
    "### 문제 : https://www.acmicpc.net/problem/1431\n",
    "### 블로그 : https://somjang.tistory.com/entry/BaekJoon-1431%EB%B2%88-%EC%8B%9C%EB%A6%AC%EC%96%BC-%EB%B2%88%ED%98%B8-Python"
   ]
  },
  {
   "cell_type": "markdown",
   "metadata": {},
   "source": [
    "### Solution"
   ]
  },
  {
   "cell_type": "code",
   "execution_count": null,
   "metadata": {},
   "outputs": [],
   "source": [
    "import re\n",
    "\n",
    "def get_nums_sum(serial_num):\n",
    "    num_string = map(int, list(re.sub(r'[A-Za-z]', '', serial_num)))\n",
    "    \n",
    "    return sum(num_string)\n",
    "    \n",
    "    \n",
    "\n",
    "def serial_number(serial_num_infos):\n",
    "    serial_num_infos = [(serial_num, len(serial_num), get_nums_sum(serial_num)) for serial_num in serial_num_infos]\n",
    "    \n",
    "    sorted_result = sorted(serial_num_infos, key=lambda x: (x[1], x[2], x[0]))\n",
    "    \n",
    "    return [result[0] for result in sorted_result]\n",
    "    \n",
    "    \n",
    "if __name__ == \"__main__\":\n",
    "    serial_num_infos = []\n",
    "    for _ in range(int(input())):\n",
    "        serial_num = input()\n",
    "        serial_num_infos.append(serial_num)\n",
    "        \n",
    "    answer_result = serial_number(serial_num_infos)\n",
    "    \n",
    "    for answer in answer_result:\n",
    "        print(answer)"
   ]
  }
 ],
 "metadata": {
  "kernelspec": {
   "display_name": "Python 3",
   "language": "python",
   "name": "python3"
  },
  "language_info": {
   "codemirror_mode": {
    "name": "ipython",
    "version": 3
   },
   "file_extension": ".py",
   "mimetype": "text/x-python",
   "name": "python",
   "nbconvert_exporter": "python",
   "pygments_lexer": "ipython3",
   "version": "3.7.3"
  }
 },
 "nbformat": 4,
 "nbformat_minor": 2
}
