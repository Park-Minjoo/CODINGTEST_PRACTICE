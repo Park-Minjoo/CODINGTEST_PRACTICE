{
 "cells": [
  {
   "cell_type": "markdown",
   "metadata": {},
   "source": [
    "## 2022년 2월 16일 수요일\n",
    "### Programmers - 찾아라 프로그래밍 마에스터 - 폰켓몬 (Python) \n",
    "### 문제 : https://programmers.co.kr/learn/courses/30/lessons/1845\n",
    "### 블로그 : https://somjang.tistory.com/entry/Programmers-%EC%B0%BE%EC%95%84%EB%9D%BC-%ED%94%84%EB%A1%9C%EA%B7%B8%EB%9E%98%EB%B0%8D-%EB%A7%88%EC%97%90%EC%8A%A4%ED%84%B0-%ED%8F%B0%EC%BC%93%EB%AA%AC-Python"
   ]
  },
  {
   "cell_type": "markdown",
   "metadata": {},
   "source": [
    "### Solution"
   ]
  },
  {
   "cell_type": "code",
   "execution_count": null,
   "metadata": {},
   "outputs": [],
   "source": [
    "def solution(nums):\n",
    "    answer = 0\n",
    "    \n",
    "    max_get_ponketmon = len(nums) // 2\n",
    "    \n",
    "    unique_ponketmon = len(set(nums))\n",
    "    \n",
    "    if unique_ponketmon >= max_get_ponketmon:\n",
    "        answer = max_get_ponketmon\n",
    "    else:\n",
    "        answer = unique_ponketmon\n",
    "    \n",
    "    return answer"
   ]
  }
 ],
 "metadata": {
  "kernelspec": {
   "display_name": "Python 3",
   "language": "python",
   "name": "python3"
  },
  "language_info": {
   "codemirror_mode": {
    "name": "ipython",
    "version": 3
   },
   "file_extension": ".py",
   "mimetype": "text/x-python",
   "name": "python",
   "nbconvert_exporter": "python",
   "pygments_lexer": "ipython3",
   "version": "3.7.3"
  }
 },
 "nbformat": 4,
 "nbformat_minor": 2
}
