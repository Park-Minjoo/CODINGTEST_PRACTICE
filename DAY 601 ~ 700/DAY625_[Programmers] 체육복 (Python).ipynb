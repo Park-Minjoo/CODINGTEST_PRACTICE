{
 "cells": [
  {
   "cell_type": "markdown",
   "metadata": {},
   "source": [
    "## 2022년 2월 15일 화요일\n",
    "### Programmers - 체육복 (Python) \n",
    "### 문제 : https://programmers.co.kr/learn/courses/30/lessons/42862\n",
    "### 블로그 : https://somjang.tistory.com/entry/Programmers-%ED%83%90%EC%9A%95%EB%B2%95Greedy-%EC%B2%B4%EC%9C%A1%EB%B3%B5-Python"
   ]
  },
  {
   "cell_type": "markdown",
   "metadata": {},
   "source": [
    "### Solution"
   ]
  },
  {
   "cell_type": "code",
   "execution_count": null,
   "metadata": {},
   "outputs": [],
   "source": [
    "def solution(n, lost, reserve):\n",
    "    reserve_student = set(reserve) - set(lost)\n",
    "    \n",
    "    lost_student = set(lost) - set(reserve)\n",
    "    \n",
    "    for student in reserve_student:\n",
    "        if (student - 1) in lost_student:\n",
    "            lost_student.remove(student - 1)\n",
    "        elif (student + 1) in lost_student:\n",
    "            lost_student.remove(student + 1)\n",
    "            \n",
    "    return n - len(lost_student)"
   ]
  }
 ],
 "metadata": {
  "kernelspec": {
   "display_name": "Python 3",
   "language": "python",
   "name": "python3"
  },
  "language_info": {
   "codemirror_mode": {
    "name": "ipython",
    "version": 3
   },
   "file_extension": ".py",
   "mimetype": "text/x-python",
   "name": "python",
   "nbconvert_exporter": "python",
   "pygments_lexer": "ipython3",
   "version": "3.7.3"
  }
 },
 "nbformat": 4,
 "nbformat_minor": 2
}
