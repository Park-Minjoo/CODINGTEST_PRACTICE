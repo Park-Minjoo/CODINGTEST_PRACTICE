{
 "cells": [
  {
   "cell_type": "markdown",
   "metadata": {},
   "source": [
    "## 2020년 12월 1일 화요일\n",
    "### leetCode - Remove Duplicates from Sorted List (Python)\n",
    "### 문제 : https://leetcode.com/problems/remove-duplicates-from-sorted-list/\n",
    "### 블로그 : https://somjang.tistory.com/entry/leetCode-83-Remove-Duplicates-from-Sorted-List-Python"
   ]
  },
  {
   "cell_type": "markdown",
   "metadata": {},
   "source": [
    "### 첫번째 시도"
   ]
  },
  {
   "cell_type": "code",
   "execution_count": null,
   "metadata": {},
   "outputs": [],
   "source": [
    "# Definition for singly-linked list.\n",
    "# class ListNode:\n",
    "#     def __init__(self, val=0, next=None):\n",
    "#         self.val = val\n",
    "#         self.next = next\n",
    "class Solution:\n",
    "    def deleteDuplicates(self, head: ListNode) -> ListNode:\n",
    "        list_values = []\n",
    "        \n",
    "        while head != None:\n",
    "            list_values.append(head.val)\n",
    "            \n",
    "            head = head.next\n",
    "            \n",
    "        set_values = sorted(list(set(list_values)))\n",
    "            \n",
    "        answerList = ListNode(0) \n",
    "        \n",
    "        result = answerList \n",
    "        \n",
    "        for num in set_values: \n",
    "            answerList.next = ListNode(num) \n",
    "            answerList = answerList.next \n",
    "        return result.next"
   ]
  }
 ],
 "metadata": {
  "kernelspec": {
   "display_name": "Python 3",
   "language": "python",
   "name": "python3"
  },
  "language_info": {
   "codemirror_mode": {
    "name": "ipython",
    "version": 3
   },
   "file_extension": ".py",
   "mimetype": "text/x-python",
   "name": "python",
   "nbconvert_exporter": "python",
   "pygments_lexer": "ipython3",
   "version": "3.7.3"
  }
 },
 "nbformat": 4,
 "nbformat_minor": 2
}
