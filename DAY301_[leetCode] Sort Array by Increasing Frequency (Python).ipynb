{
 "cells": [
  {
   "cell_type": "markdown",
   "metadata": {},
   "source": [
    "## 2021년 1월 23일 토요일\n",
    "### leetCode - Sort Array by Increasing Frequency (Python)\n",
    "### 문제 : https://leetcode.com/problems/sort-array-by-increasing-frequency/\n",
    "### 블로그 : https://somjang.tistory.com/entry/leetCode-1636-Sort-Array-by-Increasing-Frequency-Python"
   ]
  },
  {
   "cell_type": "markdown",
   "metadata": {},
   "source": [
    "### 첫번째 시도"
   ]
  },
  {
   "cell_type": "code",
   "execution_count": null,
   "metadata": {},
   "outputs": [],
   "source": [
    "from collections import Counter\n",
    "\n",
    "class Solution:\n",
    "    def frequencySort(self, nums: List[int]) -> List[int]:\n",
    "        cnt = Counter(nums).items()\n",
    "        \n",
    "        sorted_list = sorted(cnt, key=lambda x: (x[1], -x[0]))\n",
    "        \n",
    "        answer_list = []\n",
    "        \n",
    "        for val in sorted_list:\n",
    "            answer_list = answer_list + [val[0]] * val[1]\n",
    "            \n",
    "        return answer_list"
   ]
  }
 ],
 "metadata": {
  "kernelspec": {
   "display_name": "Python 3",
   "language": "python",
   "name": "python3"
  },
  "language_info": {
   "codemirror_mode": {
    "name": "ipython",
    "version": 3
   },
   "file_extension": ".py",
   "mimetype": "text/x-python",
   "name": "python",
   "nbconvert_exporter": "python",
   "pygments_lexer": "ipython3",
   "version": "3.7.3"
  }
 },
 "nbformat": 4,
 "nbformat_minor": 2
}
