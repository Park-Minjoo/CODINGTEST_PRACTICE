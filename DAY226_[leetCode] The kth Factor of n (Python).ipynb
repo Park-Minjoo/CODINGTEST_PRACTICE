{
 "cells": [
  {
   "cell_type": "markdown",
   "metadata": {},
   "source": [
    "## 2020년 10월 3일 토요일\n",
    "### leetCode - The Kth Factor of n (Python)\n",
    "### 문제 : https://leetcode.com/problems/the-kth-factor-of-n/\n",
    "### 블로그 : https://somjang.tistory.com/entry/leetCode-1492-The-kth-Factor-of-n-Python"
   ]
  },
  {
   "cell_type": "markdown",
   "metadata": {},
   "source": [
    "### 첫번째 시도"
   ]
  },
  {
   "cell_type": "code",
   "execution_count": null,
   "metadata": {},
   "outputs": [],
   "source": [
    "class Solution:\n",
    "    def kthFactor(self, n: int, k: int) -> int:\n",
    "        loop_num = n // 2\n",
    "        \n",
    "        if n == 1:\n",
    "            divisors = [1]\n",
    "        else:\n",
    "            divisors = []\n",
    "\n",
    "            for i in range(1, loop_num+1):\n",
    "                if n % i == 0:\n",
    "                    divisors.append(i)\n",
    "                    divisors.append(n // i)\n",
    "\n",
    "            divisors = sorted(list(set(divisors)))\n",
    "        \n",
    "        \n",
    "        if len(divisors) < k:\n",
    "            return -1\n",
    "        \n",
    "        return divisors[k-1]"
   ]
  }
 ],
 "metadata": {
  "kernelspec": {
   "display_name": "Python 3",
   "language": "python",
   "name": "python3"
  },
  "language_info": {
   "codemirror_mode": {
    "name": "ipython",
    "version": 3
   },
   "file_extension": ".py",
   "mimetype": "text/x-python",
   "name": "python",
   "nbconvert_exporter": "python",
   "pygments_lexer": "ipython3",
   "version": "3.7.3"
  }
 },
 "nbformat": 4,
 "nbformat_minor": 2
}
