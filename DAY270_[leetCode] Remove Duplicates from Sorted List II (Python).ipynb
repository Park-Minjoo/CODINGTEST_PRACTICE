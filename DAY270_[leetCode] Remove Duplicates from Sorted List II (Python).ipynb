{
 "cells": [
  {
   "cell_type": "markdown",
   "metadata": {},
   "source": [
    "## 2020년 12월 2일 수요일\n",
    "### leetCode - Remove Duplicates from Sorted List II (Python)\n",
    "### 문제 : https://leetcode.com/problems/remove-duplicates-from-sorted-list-ii/\n",
    "### 블로그 : https://somjang.tistory.com/entry/leetCode-82-Remove-Duplicates-from-Sorted-List-II-Python"
   ]
  },
  {
   "cell_type": "markdown",
   "metadata": {},
   "source": [
    "### 첫번째 시도"
   ]
  },
  {
   "cell_type": "code",
   "execution_count": null,
   "metadata": {},
   "outputs": [],
   "source": [
    "from collections import Counter\n",
    "\n",
    "# Definition for singly-linked list.\n",
    "# class ListNode:\n",
    "#     def __init__(self, val=0, next=None):\n",
    "#         self.val = val\n",
    "#         self.next = next\n",
    "class Solution:\n",
    "    def deleteDuplicates(self, head: ListNode) -> ListNode:\n",
    "        list_nums = []\n",
    "        \n",
    "        while head != None:\n",
    "            list_nums.append(head.val)\n",
    "            head = head.next\n",
    "            \n",
    "        \n",
    "        cnt_items = [ num[0] for num in Counter(list_nums).items() if num[1] == 1]\n",
    "        \n",
    "        answerList = ListNode(0) \n",
    "        \n",
    "        result = answerList \n",
    "        \n",
    "        for num in cnt_items: \n",
    "            answerList.next = ListNode(num) \n",
    "            answerList = answerList.next \n",
    "        return result.next"
   ]
  }
 ],
 "metadata": {
  "kernelspec": {
   "display_name": "Python 3",
   "language": "python",
   "name": "python3"
  },
  "language_info": {
   "codemirror_mode": {
    "name": "ipython",
    "version": 3
   },
   "file_extension": ".py",
   "mimetype": "text/x-python",
   "name": "python",
   "nbconvert_exporter": "python",
   "pygments_lexer": "ipython3",
   "version": "3.7.3"
  }
 },
 "nbformat": 4,
 "nbformat_minor": 2
}
